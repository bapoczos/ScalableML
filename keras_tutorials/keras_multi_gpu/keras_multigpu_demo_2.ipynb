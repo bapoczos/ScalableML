{
 "cells": [
  {
   "cell_type": "code",
   "execution_count": 1,
   "metadata": {},
   "outputs": [
    {
     "name": "stderr",
     "output_type": "stream",
     "text": [
      "Using TensorFlow backend.\n"
     ]
    }
   ],
   "source": [
    "import tensorflow as tf\n",
    "from keras.applications import Xception\n",
    "from keras.utils import multi_gpu_model\n",
    "import numpy as np"
   ]
  },
  {
   "cell_type": "code",
   "execution_count": 2,
   "metadata": {},
   "outputs": [],
   "source": [
    "num_samples = 1000\n",
    "height = 224\n",
    "width = 224\n",
    "num_classes = 1000"
   ]
  },
  {
   "cell_type": "code",
   "execution_count": 5,
   "metadata": {},
   "outputs": [],
   "source": [
    "# Generate dummy data.\n",
    "x = np.random.random((num_samples, height, width, 3))\n",
    "y = np.random.random((num_samples, num_classes))"
   ]
  },
  {
   "cell_type": "code",
   "execution_count": 11,
   "metadata": {},
   "outputs": [
    {
     "name": "stdout",
     "output_type": "stream",
     "text": [
      "Epoch 1/10\n",
      "1000/1000 [==============================] - 57s 57ms/step - loss: 3462.2976\n",
      "Epoch 2/10\n",
      "1000/1000 [==============================] - 24s 24ms/step - loss: 3453.2633\n",
      "Epoch 3/10\n",
      "1000/1000 [==============================] - 24s 24ms/step - loss: 3452.8375\n",
      "Epoch 4/10\n",
      "1000/1000 [==============================] - 24s 24ms/step - loss: 3451.2607\n",
      "Epoch 5/10\n",
      "1000/1000 [==============================] - 24s 24ms/step - loss: 3448.1947\n",
      "Epoch 6/10\n",
      "1000/1000 [==============================] - 24s 24ms/step - loss: 3443.9515\n",
      "Epoch 7/10\n",
      "1000/1000 [==============================] - 24s 24ms/step - loss: 3439.7617\n",
      "Epoch 8/10\n",
      "1000/1000 [==============================] - 24s 24ms/step - loss: 3435.5688\n",
      "Epoch 9/10\n",
      "1000/1000 [==============================] - 24s 24ms/step - loss: 3431.4173\n",
      "Epoch 10/10\n",
      "1000/1000 [==============================] - 24s 24ms/step - loss: 3427.8061\n"
     ]
    },
    {
     "data": {
      "text/plain": [
       "<keras.callbacks.History at 0x7fb066b5eac8>"
      ]
     },
     "execution_count": 11,
     "metadata": {},
     "output_type": "execute_result"
    }
   ],
   "source": [
    "# Instantiate the base model (or \"template\" model).\n",
    "# We recommend doing this with under a CPU device scope,\n",
    "# so that the model's weights are hosted on CPU memory.\n",
    "# Otherwise they may end up hosted on a GPU, which would\n",
    "# complicate weight sharing.\n",
    "\n",
    "with tf.device('/cpu:0'):\n",
    "    model = Xception(weights=None,\n",
    "                     input_shape=(height, width, 3),\n",
    "                     classes=num_classes)\n",
    "    \n",
    "parallel_model = multi_gpu_model(model, gpus=2)\n",
    "parallel_model.compile(loss='categorical_crossentropy', optimizer='rmsprop')\n",
    "# This `fit` call will be distributed on 2 GPUs.\n",
    "# Since the batch size is 64, each GPU will process 32 samples.\n",
    "parallel_model.fit(x, y, epochs=10, batch_size=64)"
   ]
  },
  {
   "cell_type": "code",
   "execution_count": 9,
   "metadata": {},
   "outputs": [
    {
     "name": "stdout",
     "output_type": "stream",
     "text": [
      "Epoch 1/10\n",
      "1000/1000 [==============================] - 49s 49ms/step - loss: 3462.5197\n",
      "Epoch 2/10\n",
      "1000/1000 [==============================] - 14s 14ms/step - loss: 3453.2496\n",
      "Epoch 3/10\n",
      "1000/1000 [==============================] - 14s 14ms/step - loss: 3452.9235\n",
      "Epoch 4/10\n",
      "1000/1000 [==============================] - 14s 14ms/step - loss: 3451.6097\n",
      "Epoch 5/10\n",
      "1000/1000 [==============================] - 14s 14ms/step - loss: 3448.8515\n",
      "Epoch 6/10\n",
      "1000/1000 [==============================] - 14s 14ms/step - loss: 3445.3542\n",
      "Epoch 7/10\n",
      "1000/1000 [==============================] - 14s 14ms/step - loss: 3441.2248\n",
      "Epoch 8/10\n",
      "1000/1000 [==============================] - 13s 13ms/step - loss: 3437.3323\n",
      "Epoch 9/10\n",
      "1000/1000 [==============================] - 14s 14ms/step - loss: 3433.3328\n",
      "Epoch 10/10\n",
      "1000/1000 [==============================] - 14s 14ms/step - loss: 3430.1661\n"
     ]
    },
    {
     "data": {
      "text/plain": [
       "<keras.callbacks.History at 0x7fb0f0a49940>"
      ]
     },
     "execution_count": 9,
     "metadata": {},
     "output_type": "execute_result"
    }
   ],
   "source": [
    "with tf.device('/cpu:0'):\n",
    "    model = Xception(weights=None,\n",
    "                     input_shape=(height, width, 3),\n",
    "                     classes=num_classes)\n",
    "    \n",
    "parallel_model = multi_gpu_model(model, gpus=4)\n",
    "parallel_model.compile(loss='categorical_crossentropy', optimizer='rmsprop')\n",
    "# This `fit` call will be distributed on 4 GPUs.\n",
    "# Since the batch size is 64, each GPU will process 16 samples.\n",
    "parallel_model.fit(x, y, epochs=10, batch_size=64)"
   ]
  },
  {
   "cell_type": "code",
   "execution_count": 10,
   "metadata": {},
   "outputs": [
    {
     "name": "stdout",
     "output_type": "stream",
     "text": [
      "Epoch 1/10\n",
      "1000/1000 [==============================] - 79s 79ms/step - loss: 3462.1961\n",
      "Epoch 2/10\n",
      "1000/1000 [==============================] - 10s 10ms/step - loss: 3453.2799\n",
      "Epoch 3/10\n",
      "1000/1000 [==============================] - 10s 10ms/step - loss: 3452.9980\n",
      "Epoch 4/10\n",
      "1000/1000 [==============================] - 11s 11ms/step - loss: 3451.9789\n",
      "Epoch 5/10\n",
      "1000/1000 [==============================] - 11s 11ms/step - loss: 3449.8773\n",
      "Epoch 6/10\n",
      "1000/1000 [==============================] - 11s 11ms/step - loss: 3446.8152\n",
      "Epoch 7/10\n",
      "1000/1000 [==============================] - 11s 11ms/step - loss: 3443.5807\n",
      "Epoch 8/10\n",
      "1000/1000 [==============================] - 11s 11ms/step - loss: 3440.2640\n",
      "Epoch 9/10\n",
      "1000/1000 [==============================] - 11s 11ms/step - loss: 3436.7911\n",
      "Epoch 10/10\n",
      "1000/1000 [==============================] - 11s 11ms/step - loss: 3433.8698\n"
     ]
    },
    {
     "data": {
      "text/plain": [
       "<keras.callbacks.History at 0x7fb08c8bb128>"
      ]
     },
     "execution_count": 10,
     "metadata": {},
     "output_type": "execute_result"
    }
   ],
   "source": [
    "with tf.device('/cpu:0'):\n",
    "    model = Xception(weights=None,\n",
    "                     input_shape=(height, width, 3),\n",
    "                     classes=num_classes)\n",
    "    \n",
    "parallel_model = multi_gpu_model(model, gpus=8)\n",
    "parallel_model.compile(loss='categorical_crossentropy', optimizer='rmsprop')\n",
    "# This `fit` call will be distributed on 8 GPUs.\n",
    "# Since the batch size is 64, each GPU will process 8 samples.\n",
    "parallel_model.fit(x, y, epochs=10, batch_size=64)"
   ]
  },
  {
   "cell_type": "code",
   "execution_count": null,
   "metadata": {},
   "outputs": [],
   "source": []
  }
 ],
 "metadata": {
  "kernelspec": {
   "display_name": "Environment (conda_tensorflow_p36)",
   "language": "python",
   "name": "conda_tensorflow_p36"
  },
  "language_info": {
   "codemirror_mode": {
    "name": "ipython",
    "version": 3
   },
   "file_extension": ".py",
   "mimetype": "text/x-python",
   "name": "python",
   "nbconvert_exporter": "python",
   "pygments_lexer": "ipython3",
   "version": "3.6.5"
  }
 },
 "nbformat": 4,
 "nbformat_minor": 2
}
