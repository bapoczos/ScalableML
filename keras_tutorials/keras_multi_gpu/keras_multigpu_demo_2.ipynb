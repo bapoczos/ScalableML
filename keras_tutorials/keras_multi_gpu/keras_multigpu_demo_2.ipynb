{
 "cells": [
  {
   "cell_type": "code",
   "execution_count": 1,
   "metadata": {},
   "outputs": [
    {
     "name": "stderr",
     "output_type": "stream",
     "text": [
      "Using TensorFlow backend.\n"
     ]
    }
   ],
   "source": [
    "import tensorflow as tf\n",
    "from keras.applications import Xception\n",
    "from keras.utils import multi_gpu_model\n",
    "import numpy as np"
   ]
  },
  {
   "cell_type": "code",
   "execution_count": 2,
   "metadata": {},
   "outputs": [],
   "source": [
    "num_samples = 1000\n",
    "height = 224\n",
    "width = 224\n",
    "num_classes = 1000"
   ]
  },
  {
   "cell_type": "code",
   "execution_count": 3,
   "metadata": {},
   "outputs": [],
   "source": [
    "# Generate dummy data.\n",
    "x = np.random.random((num_samples, height, width, 3))\n",
    "y = np.random.random((num_samples, num_classes))"
   ]
  },
  {
   "cell_type": "code",
   "execution_count": 4,
   "metadata": {},
   "outputs": [
    {
     "name": "stdout",
     "output_type": "stream",
     "text": [
      "Epoch 1/10\n",
      "1000/1000 [==============================] - 43s 43ms/step - loss: 3459.6903\n",
      "Epoch 2/10\n",
      "1000/1000 [==============================] - 24s 24ms/step - loss: 3450.7580\n",
      "Epoch 3/10\n",
      "1000/1000 [==============================] - 24s 24ms/step - loss: 3450.4154\n",
      "Epoch 4/10\n",
      "1000/1000 [==============================] - 24s 24ms/step - loss: 3449.0594\n",
      "Epoch 5/10\n",
      "1000/1000 [==============================] - 24s 24ms/step - loss: 3446.2102\n",
      "Epoch 6/10\n",
      "1000/1000 [==============================] - 24s 24ms/step - loss: 3442.1614\n",
      "Epoch 7/10\n",
      "1000/1000 [==============================] - 24s 24ms/step - loss: 3438.0088\n",
      "Epoch 8/10\n",
      "1000/1000 [==============================] - 24s 24ms/step - loss: 3433.9684\n",
      "Epoch 9/10\n",
      "1000/1000 [==============================] - 24s 24ms/step - loss: 3429.9821\n",
      "Epoch 10/10\n",
      "1000/1000 [==============================] - 24s 24ms/step - loss: 3425.9734\n"
     ]
    },
    {
     "data": {
      "text/plain": [
       "<keras.callbacks.History at 0x7fefb865c198>"
      ]
     },
     "execution_count": 4,
     "metadata": {},
     "output_type": "execute_result"
    }
   ],
   "source": [
    "# Instantiate the base model (or \"template\" model).\n",
    "# We recommend doing this with under a CPU device scope,\n",
    "# so that the model's weights are hosted on CPU memory.\n",
    "# Otherwise they may end up hosted on a GPU, which would\n",
    "# complicate weight sharing.\n",
    "\n",
    "with tf.device('/cpu:0'):\n",
    "    model = Xception(weights=None,\n",
    "                     input_shape=(height, width, 3),\n",
    "                     classes=num_classes)\n",
    "    \n",
    "parallel_model = multi_gpu_model(model, gpus=2)\n",
    "parallel_model.compile(loss='categorical_crossentropy', optimizer='rmsprop')\n",
    "# This `fit` call will be distributed on 2 GPUs.\n",
    "# Since the batch size is 64, each GPU will process 32 samples.\n",
    "parallel_model.fit(x, y, epochs=10, batch_size=64)"
   ]
  },
  {
   "cell_type": "code",
   "execution_count": 5,
   "metadata": {},
   "outputs": [
    {
     "name": "stdout",
     "output_type": "stream",
     "text": [
      "Epoch 1/10\n",
      "1000/1000 [==============================] - 48s 48ms/step - loss: 3460.0522\n",
      "Epoch 2/10\n",
      "1000/1000 [==============================] - 14s 14ms/step - loss: 3450.7356\n",
      "Epoch 3/10\n",
      "1000/1000 [==============================] - 14s 14ms/step - loss: 3450.3674\n",
      "Epoch 4/10\n",
      "1000/1000 [==============================] - 14s 14ms/step - loss: 3449.0498\n",
      "Epoch 5/10\n",
      "1000/1000 [==============================] - 14s 14ms/step - loss: 3446.2221\n",
      "Epoch 6/10\n",
      "1000/1000 [==============================] - 14s 14ms/step - loss: 3442.7144\n",
      "Epoch 7/10\n",
      "1000/1000 [==============================] - 14s 14ms/step - loss: 3438.8851\n",
      "Epoch 8/10\n",
      "1000/1000 [==============================] - 14s 14ms/step - loss: 3434.9929\n",
      "Epoch 9/10\n",
      "1000/1000 [==============================] - 14s 14ms/step - loss: 3431.1396\n",
      "Epoch 10/10\n",
      "1000/1000 [==============================] - 15s 15ms/step - loss: 3427.8732\n"
     ]
    },
    {
     "data": {
      "text/plain": [
       "<keras.callbacks.History at 0x7feea45b4320>"
      ]
     },
     "execution_count": 5,
     "metadata": {},
     "output_type": "execute_result"
    }
   ],
   "source": [
    "with tf.device('/cpu:0'):\n",
    "    model = Xception(weights=None,\n",
    "                     input_shape=(height, width, 3),\n",
    "                     classes=num_classes)\n",
    "    \n",
    "parallel_model = multi_gpu_model(model, gpus=4)\n",
    "parallel_model.compile(loss='categorical_crossentropy', optimizer='rmsprop')\n",
    "# This `fit` call will be distributed on 4 GPUs.\n",
    "# Since the batch size is 64, each GPU will process 16 samples.\n",
    "parallel_model.fit(x, y, epochs=10, batch_size=64)"
   ]
  },
  {
   "cell_type": "code",
   "execution_count": 6,
   "metadata": {},
   "outputs": [
    {
     "name": "stdout",
     "output_type": "stream",
     "text": [
      "Epoch 1/10\n",
      "1000/1000 [==============================] - 77s 77ms/step - loss: 3459.7869\n",
      "Epoch 2/10\n",
      "1000/1000 [==============================] - 11s 11ms/step - loss: 3450.7629\n",
      "Epoch 3/10\n",
      "1000/1000 [==============================] - 11s 11ms/step - loss: 3450.5047\n",
      "Epoch 4/10\n",
      "1000/1000 [==============================] - 11s 11ms/step - loss: 3449.6267\n",
      "Epoch 5/10\n",
      "1000/1000 [==============================] - 11s 11ms/step - loss: 3447.5567\n",
      "Epoch 6/10\n",
      "1000/1000 [==============================] - 11s 11ms/step - loss: 3444.6964\n",
      "Epoch 7/10\n",
      "1000/1000 [==============================] - 11s 11ms/step - loss: 3441.4829\n",
      "Epoch 8/10\n",
      "1000/1000 [==============================] - 11s 11ms/step - loss: 3438.0253\n",
      "Epoch 9/10\n",
      "1000/1000 [==============================] - 11s 11ms/step - loss: 3434.8708\n",
      "Epoch 10/10\n",
      "1000/1000 [==============================] - 11s 11ms/step - loss: 3431.7742\n"
     ]
    },
    {
     "data": {
      "text/plain": [
       "<keras.callbacks.History at 0x7fee656619b0>"
      ]
     },
     "execution_count": 6,
     "metadata": {},
     "output_type": "execute_result"
    }
   ],
   "source": [
    "with tf.device('/cpu:0'):\n",
    "    model = Xception(weights=None,\n",
    "                     input_shape=(height, width, 3),\n",
    "                     classes=num_classes)\n",
    "    \n",
    "parallel_model = multi_gpu_model(model, gpus=8)\n",
    "parallel_model.compile(loss='categorical_crossentropy', optimizer='rmsprop')\n",
    "# This `fit` call will be distributed on 8 GPUs.\n",
    "# Since the batch size is 64, each GPU will process 8 samples.\n",
    "parallel_model.fit(x, y, epochs=10, batch_size=64)"
   ]
  },
  {
   "cell_type": "code",
   "execution_count": 7,
   "metadata": {},
   "outputs": [
    {
     "name": "stdout",
     "output_type": "stream",
     "text": [
      "Epoch 1/10\n",
      "1000/1000 [==============================] - 81s 81ms/step - loss: 3467.7950\n",
      "Epoch 2/10\n",
      "1000/1000 [==============================] - 8s 8ms/step - loss: 3450.5095\n",
      "Epoch 3/10\n",
      "1000/1000 [==============================] - 8s 8ms/step - loss: 3449.8897\n",
      "Epoch 4/10\n",
      "1000/1000 [==============================] - 8s 8ms/step - loss: 3449.4643\n",
      "Epoch 5/10\n",
      "1000/1000 [==============================] - 8s 8ms/step - loss: 3447.3875\n",
      "Epoch 6/10\n",
      "1000/1000 [==============================] - 8s 8ms/step - loss: 3444.1670\n",
      "Epoch 7/10\n",
      "1000/1000 [==============================] - 8s 8ms/step - loss: 3440.5745\n",
      "Epoch 8/10\n",
      "1000/1000 [==============================] - 8s 8ms/step - loss: 3436.6082\n",
      "Epoch 9/10\n",
      "1000/1000 [==============================] - 8s 8ms/step - loss: 3432.7645\n",
      "Epoch 10/10\n",
      "1000/1000 [==============================] - 8s 8ms/step - loss: 3428.9844\n"
     ]
    },
    {
     "data": {
      "text/plain": [
       "<keras.callbacks.History at 0x7fee1959a550>"
      ]
     },
     "execution_count": 7,
     "metadata": {},
     "output_type": "execute_result"
    }
   ],
   "source": [
    "with tf.device('/cpu:0'):\n",
    "    model = Xception(weights=None,\n",
    "                     input_shape=(height, width, 3),\n",
    "                     classes=num_classes)\n",
    "    \n",
    "parallel_model = multi_gpu_model(model, gpus=8)\n",
    "parallel_model.compile(loss='categorical_crossentropy', optimizer='rmsprop')\n",
    "# This `fit` call will be distributed on 8 GPUs.\n",
    "# Since the batch size is 128, each GPU will process 16 samples.\n",
    "parallel_model.fit(x, y, epochs=10, batch_size=128)"
   ]
  },
  {
   "cell_type": "code",
   "execution_count": 4,
   "metadata": {},
   "outputs": [
    {
     "name": "stdout",
     "output_type": "stream",
     "text": [
      "Epoch 1/10\n",
      "1000/1000 [==============================] - 74s 74ms/step - loss: 3489.6922\n",
      "Epoch 2/10\n",
      "1000/1000 [==============================] - 8s 8ms/step - loss: 3456.3710\n",
      "Epoch 3/10\n",
      "1000/1000 [==============================] - 8s 8ms/step - loss: 3455.7894\n",
      "Epoch 4/10\n",
      "1000/1000 [==============================] - 8s 8ms/step - loss: 3455.0495\n",
      "Epoch 5/10\n",
      "1000/1000 [==============================] - 8s 8ms/step - loss: 3454.4610\n",
      "Epoch 6/10\n",
      "1000/1000 [==============================] - 8s 8ms/step - loss: 3454.1730\n",
      "Epoch 7/10\n",
      "1000/1000 [==============================] - 7s 7ms/step - loss: 3451.6163\n",
      "Epoch 8/10\n",
      "1000/1000 [==============================] - 7s 7ms/step - loss: 3448.6402\n",
      "Epoch 9/10\n",
      "1000/1000 [==============================] - 8s 8ms/step - loss: 3445.5506\n",
      "Epoch 10/10\n",
      "1000/1000 [==============================] - 8s 8ms/step - loss: 3442.3989\n"
     ]
    },
    {
     "data": {
      "text/plain": [
       "<keras.callbacks.History at 0x7f56286dd198>"
      ]
     },
     "execution_count": 4,
     "metadata": {},
     "output_type": "execute_result"
    }
   ],
   "source": [
    "with tf.device('/cpu:0'):\n",
    "    model = Xception(weights=None,\n",
    "                     input_shape=(height, width, 3),\n",
    "                     classes=num_classes)\n",
    "    \n",
    "parallel_model = multi_gpu_model(model, gpus=8)\n",
    "parallel_model.compile(loss='categorical_crossentropy', optimizer='rmsprop')\n",
    "# This `fit` call will be distributed on 8 GPUs.\n",
    "# Since the batch size is 256, each GPU will process 32 samples.\n",
    "parallel_model.fit(x, y, epochs=10, batch_size=256)"
   ]
  },
  {
   "cell_type": "code",
   "execution_count": null,
   "metadata": {},
   "outputs": [],
   "source": []
  }
 ],
 "metadata": {
  "kernelspec": {
   "display_name": "Environment (conda_tensorflow_p36)",
   "language": "python",
   "name": "conda_tensorflow_p36"
  },
  "language_info": {
   "codemirror_mode": {
    "name": "ipython",
    "version": 3
   },
   "file_extension": ".py",
   "mimetype": "text/x-python",
   "name": "python",
   "nbconvert_exporter": "python",
   "pygments_lexer": "ipython3",
   "version": "3.6.5"
  }
 },
 "nbformat": 4,
 "nbformat_minor": 2
}
