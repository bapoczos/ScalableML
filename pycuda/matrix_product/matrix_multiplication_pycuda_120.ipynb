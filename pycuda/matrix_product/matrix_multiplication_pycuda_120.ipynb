{
  "nbformat": 4,
  "nbformat_minor": 0,
  "metadata": {
    "colab": {
      "provenance": []
    },
    "kernelspec": {
      "name": "python3",
      "display_name": "Python 3"
    },
    "language_info": {
      "name": "python"
    },
    "accelerator": "GPU",
    "gpuClass": "standard"
  },
  "cells": [
    {
      "cell_type": "code",
      "source": [
        "!nvidia-smi"
      ],
      "metadata": {
        "colab": {
          "base_uri": "https://localhost:8080/"
        },
        "id": "5Ivc0RBmiseX",
        "outputId": "d237f9fd-2da0-4acc-f36c-d00e63ccee31"
      },
      "execution_count": 1,
      "outputs": [
        {
          "output_type": "stream",
          "name": "stdout",
          "text": [
            "Sun Mar 26 06:27:20 2023       \n",
            "+-----------------------------------------------------------------------------+\n",
            "| NVIDIA-SMI 525.85.12    Driver Version: 525.85.12    CUDA Version: 12.0     |\n",
            "|-------------------------------+----------------------+----------------------+\n",
            "| GPU  Name        Persistence-M| Bus-Id        Disp.A | Volatile Uncorr. ECC |\n",
            "| Fan  Temp  Perf  Pwr:Usage/Cap|         Memory-Usage | GPU-Util  Compute M. |\n",
            "|                               |                      |               MIG M. |\n",
            "|===============================+======================+======================|\n",
            "|   0  Tesla T4            Off  | 00000000:00:04.0 Off |                    0 |\n",
            "| N/A   61C    P8    11W /  70W |      0MiB / 15360MiB |      0%      Default |\n",
            "|                               |                      |                  N/A |\n",
            "+-------------------------------+----------------------+----------------------+\n",
            "                                                                               \n",
            "+-----------------------------------------------------------------------------+\n",
            "| Processes:                                                                  |\n",
            "|  GPU   GI   CI        PID   Type   Process name                  GPU Memory |\n",
            "|        ID   ID                                                   Usage      |\n",
            "|=============================================================================|\n",
            "|  No running processes found                                                 |\n",
            "+-----------------------------------------------------------------------------+\n"
          ]
        }
      ]
    },
    {
      "cell_type": "code",
      "source": [
        "# !pip install pycuda"
      ],
      "metadata": {
        "id": "l2Mc3RqFc-jr"
      },
      "execution_count": 2,
      "outputs": []
    },
    {
      "cell_type": "code",
      "source": [
        "import pycuda.autoinit\n",
        "import pycuda.driver as drv\n",
        "import numpy as np\n",
        "from pycuda import gpuarray\n",
        "from pycuda.compiler import SourceModule"
      ],
      "metadata": {
        "id": "_bYfSRAIbGDB"
      },
      "execution_count": 3,
      "outputs": []
    },
    {
      "cell_type": "code",
      "source": [
        "ker = SourceModule(no_extern_c=True ,source='''\n",
        "#include \"stdio.h\"\n",
        "#include<iostream>\n",
        "#include <cuda.h>\n",
        "#include <cuda_runtime.h>\n",
        "#include <math.h>\n",
        "#define TILE_SIZE 2\n",
        "\n",
        "//Matrix multiplication using non shared kernel\n",
        "\n",
        "extern \"C\" {\n",
        "__global__ void gpu_Matrix_Mul_nonshared(float *d_a, float *d_b, float *d_c, const int size)\n",
        "{\n",
        "\tint row, col;\n",
        "\tcol = TILE_SIZE * blockIdx.x + threadIdx.x;\n",
        "\trow = TILE_SIZE * blockIdx.y + threadIdx.y;\n",
        "\n",
        "\tfor (int k = 0; k< size; k++)\n",
        "\t{\n",
        "\t\td_c[row*size + col] += d_a[row * size + k] * d_b[k * size + col];\n",
        "\t}\n",
        "}\n",
        "\n",
        "// Matrix multiplication using shared kernel\n",
        "__global__ void gpu_Matrix_Mul_shared(float *d_a, float *d_b, float *d_c, const int size)\n",
        "{\n",
        "\tint row, col;\n",
        "\t//Defining Shared Memory\n",
        "\t__shared__ float shared_a[TILE_SIZE][TILE_SIZE];\n",
        "\t__shared__ float shared_b[TILE_SIZE][TILE_SIZE];\n",
        "\tcol = TILE_SIZE * blockIdx.x + threadIdx.x;\n",
        "\trow = TILE_SIZE * blockIdx.y + threadIdx.y;\n",
        "\n",
        "\tfor (int i = 0; i< size / TILE_SIZE; i++) \n",
        "\t{\n",
        "\t\tshared_a[threadIdx.y][threadIdx.x] = d_a[row* size + (i*TILE_SIZE + threadIdx.x)];\n",
        "\t\tshared_b[threadIdx.y][threadIdx.x] = d_b[(i*TILE_SIZE + threadIdx.y) * size + col];\n",
        "\t\t__syncthreads(); \n",
        "\t\tfor (int j = 0; j<TILE_SIZE; j++)\n",
        "\t\t\td_c[row*size + col] += shared_a[threadIdx.y][j] * shared_b[j][threadIdx.x];\n",
        "\t\t__syncthreads(); \n",
        "\n",
        "\t}\n",
        "}\n",
        "\n",
        "\n",
        "}// (End of 'extern \"C\"' here)\n",
        "''')"
      ],
      "metadata": {
        "id": "9Cm57lyxdnII"
      },
      "execution_count": 4,
      "outputs": []
    },
    {
      "cell_type": "code",
      "source": [
        "test_a = np.float32([np.arange(1,5)] * 4)\n",
        "test_b = np.float32([np.arange(14,10, -1)]*4 )"
      ],
      "metadata": {
        "id": "U_ayOHXtjjVz"
      },
      "execution_count": 5,
      "outputs": []
    },
    {
      "cell_type": "code",
      "source": [
        "size = 4"
      ],
      "metadata": {
        "id": "l0EAcnu4gMWK"
      },
      "execution_count": 6,
      "outputs": []
    },
    {
      "cell_type": "code",
      "source": [
        "test_a=np.float32(10*np.random.rand(size,size))\n",
        "test_b=np.float32(10*np.random.rand(size,size))\n",
        "\n",
        "test_a_gpu = gpuarray.to_gpu(test_a)\n",
        "test_b_gpu = gpuarray.to_gpu(test_b)\n",
        "test_results_gpu = gpuarray.empty_like(test_a_gpu)\n"
      ],
      "metadata": {
        "id": "G4YWazeQgRWd"
      },
      "execution_count": 7,
      "outputs": []
    },
    {
      "cell_type": "code",
      "source": [
        "print(test_a)\n",
        "print(test_b)\n",
        "print(test_results_gpu)"
      ],
      "metadata": {
        "colab": {
          "base_uri": "https://localhost:8080/"
        },
        "id": "yzlnFvOTiZ96",
        "outputId": "83a54e11-322b-41d1-89ce-af6642d8ba37"
      },
      "execution_count": 8,
      "outputs": [
        {
          "output_type": "stream",
          "name": "stdout",
          "text": [
            "[[8.674211   2.1706622  4.245011   5.0828986 ]\n",
            " [4.9376445  1.7164611  2.822008   5.896873  ]\n",
            " [4.8189936  5.949731   6.4991546  5.9674377 ]\n",
            " [8.107354   4.5761924  4.3101206  0.30929336]]\n",
            "[[7.6307817 4.663706  2.4389946 2.6522996]\n",
            " [5.6197724 1.3444306 6.5065374 0.6455543]\n",
            " [5.9780693 4.311874  7.865382  9.994088 ]\n",
            " [8.475948  4.3961754 1.2009869 9.936801 ]]\n",
            "[[0. 0. 0. 0.]\n",
            " [0. 0. 0. 0.]\n",
            " [0. 0. 0. 0.]\n",
            " [0. 0. 0. 0.]]\n"
          ]
        }
      ]
    },
    {
      "cell_type": "code",
      "source": [
        "#mult_ker = ker.get_function(\"gpu_Matrix_Mul_nonshared\")\n",
        "mult_ker = ker.get_function(\"gpu_Matrix_Mul_shared\")"
      ],
      "metadata": {
        "id": "I5oFoGOZheJI"
      },
      "execution_count": 9,
      "outputs": []
    },
    {
      "cell_type": "code",
      "source": [
        "TILE_SIZE = 2\n",
        "dimGrid=(size // TILE_SIZE, size // TILE_SIZE, 1)\n",
        "dimBlock=(TILE_SIZE, TILE_SIZE, 1)\n",
        "\n",
        "print(dimGrid)\n",
        "print(dimBlock)"
      ],
      "metadata": {
        "colab": {
          "base_uri": "https://localhost:8080/"
        },
        "id": "0e2FDKtShn-i",
        "outputId": "2769e15d-2a1b-4e34-ec68-6322a3e17511"
      },
      "execution_count": 10,
      "outputs": [
        {
          "output_type": "stream",
          "name": "stdout",
          "text": [
            "(2, 2, 1)\n",
            "(2, 2, 1)\n"
          ]
        }
      ]
    },
    {
      "cell_type": "code",
      "source": [
        "mult_ker(test_a_gpu, test_b_gpu, test_results_gpu, np.int32(size), block=dimBlock, grid=dimGrid)"
      ],
      "metadata": {
        "id": "DOgiBM21hEza"
      },
      "execution_count": 11,
      "outputs": []
    },
    {
      "cell_type": "code",
      "source": [
        "test_results_gpu.get()"
      ],
      "metadata": {
        "colab": {
          "base_uri": "https://localhost:8080/"
        },
        "id": "U4yPvf4KkajB",
        "outputId": "88353519-b620-4fe2-9e53-17ff9412f8a0"
      },
      "execution_count": 12,
      "outputs": [
        {
          "output_type": "execute_result",
          "data": {
            "text/plain": [
              "array([[146.84898 ,  84.02154 ,  74.77297 , 117.34065 ],\n",
              "       [114.17596 ,  63.42721 ,  52.48934 , 101.00363 ],\n",
              "       [159.6409  ,  84.73081 , 108.75079 , 140.87265 ],\n",
              "       [115.97036 ,  63.907093,  83.82117 ,  70.60642 ]], dtype=float32)"
            ]
          },
          "metadata": {},
          "execution_count": 12
        }
      ]
    },
    {
      "cell_type": "code",
      "source": [
        "np.matmul(test_a,test_b)"
      ],
      "metadata": {
        "colab": {
          "base_uri": "https://localhost:8080/"
        },
        "id": "V0HBugdRltRB",
        "outputId": "60b3019d-a14c-41e1-9792-9ccb209b68f1"
      },
      "execution_count": 13,
      "outputs": [
        {
          "output_type": "execute_result",
          "data": {
            "text/plain": [
              "array([[146.84898 ,  84.02154 ,  74.77297 , 117.34065 ],\n",
              "       [114.17596 ,  63.42721 ,  52.48934 , 101.00363 ],\n",
              "       [159.6409  ,  84.73081 , 108.75079 , 140.87265 ],\n",
              "       [115.97036 ,  63.907093,  83.82117 ,  70.60642 ]], dtype=float32)"
            ]
          },
          "metadata": {},
          "execution_count": 13
        }
      ]
    },
    {
      "cell_type": "code",
      "source": [],
      "metadata": {
        "id": "0fQmCQq6mBhw"
      },
      "execution_count": null,
      "outputs": []
    }
  ]
}