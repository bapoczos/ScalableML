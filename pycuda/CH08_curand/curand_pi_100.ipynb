{
  "nbformat": 4,
  "nbformat_minor": 0,
  "metadata": {
    "colab": {
      "provenance": []
    },
    "kernelspec": {
      "name": "python3",
      "display_name": "Python 3"
    },
    "language_info": {
      "name": "python"
    },
    "accelerator": "GPU",
    "gpuClass": "standard"
  },
  "cells": [
    {
      "cell_type": "code",
      "source": [
        "!nvidia-smi"
      ],
      "metadata": {
        "colab": {
          "base_uri": "https://localhost:8080/"
        },
        "id": "yEdwo9fM7_wf",
        "outputId": "2116f044-4176-48bc-ee98-a3c34f6b1489"
      },
      "execution_count": 1,
      "outputs": [
        {
          "output_type": "stream",
          "name": "stdout",
          "text": [
            "Wed Mar 22 01:42:12 2023       \n",
            "+-----------------------------------------------------------------------------+\n",
            "| NVIDIA-SMI 525.85.12    Driver Version: 525.85.12    CUDA Version: 12.0     |\n",
            "|-------------------------------+----------------------+----------------------+\n",
            "| GPU  Name        Persistence-M| Bus-Id        Disp.A | Volatile Uncorr. ECC |\n",
            "| Fan  Temp  Perf  Pwr:Usage/Cap|         Memory-Usage | GPU-Util  Compute M. |\n",
            "|                               |                      |               MIG M. |\n",
            "|===============================+======================+======================|\n",
            "|   0  Tesla T4            Off  | 00000000:00:04.0 Off |                    0 |\n",
            "| N/A   57C    P0    27W /  70W |      0MiB / 15360MiB |      0%      Default |\n",
            "|                               |                      |                  N/A |\n",
            "+-------------------------------+----------------------+----------------------+\n",
            "                                                                               \n",
            "+-----------------------------------------------------------------------------+\n",
            "| Processes:                                                                  |\n",
            "|  GPU   GI   CI        PID   Type   Process name                  GPU Memory |\n",
            "|        ID   ID                                                   Usage      |\n",
            "|=============================================================================|\n",
            "|  No running processes found                                                 |\n",
            "+-----------------------------------------------------------------------------+\n"
          ]
        }
      ]
    },
    {
      "cell_type": "code",
      "execution_count": 2,
      "metadata": {
        "colab": {
          "base_uri": "https://localhost:8080/"
        },
        "id": "3yEsi4ZWahHB",
        "outputId": "3f115198-984b-4f49-e813-8a1a627d1cd8"
      },
      "outputs": [
        {
          "output_type": "stream",
          "name": "stdout",
          "text": [
            "Looking in indexes: https://pypi.org/simple, https://us-python.pkg.dev/colab-wheels/public/simple/\n",
            "Collecting pycuda\n",
            "  Downloading pycuda-2022.2.2.tar.gz (1.7 MB)\n",
            "\u001b[2K     \u001b[90m━━━━━━━━━━━━━━━━━━━━━━━━━━━━━━━━━━━━━━━━\u001b[0m \u001b[32m1.7/1.7 MB\u001b[0m \u001b[31m46.5 MB/s\u001b[0m eta \u001b[36m0:00:00\u001b[0m\n",
            "\u001b[?25h  Installing build dependencies ... \u001b[?25l\u001b[?25hdone\n",
            "  Getting requirements to build wheel ... \u001b[?25l\u001b[?25hdone\n",
            "  Preparing metadata (pyproject.toml) ... \u001b[?25l\u001b[?25hdone\n",
            "Collecting scikit-cuda\n",
            "  Downloading scikit_cuda-0.5.3-py2.py3-none-any.whl (114 kB)\n",
            "\u001b[2K     \u001b[90m━━━━━━━━━━━━━━━━━━━━━━━━━━━━━━━━━━━━━━\u001b[0m \u001b[32m114.8/114.8 KB\u001b[0m \u001b[31m14.1 MB/s\u001b[0m eta \u001b[36m0:00:00\u001b[0m\n",
            "\u001b[?25hCollecting pytools>=2011.2\n",
            "  Downloading pytools-2022.1.14.tar.gz (74 kB)\n",
            "\u001b[2K     \u001b[90m━━━━━━━━━━━━━━━━━━━━━━━━━━━━━━━━━━━━━━━━\u001b[0m \u001b[32m74.6/74.6 KB\u001b[0m \u001b[31m10.3 MB/s\u001b[0m eta \u001b[36m0:00:00\u001b[0m\n",
            "\u001b[?25h  Preparing metadata (setup.py) ... \u001b[?25l\u001b[?25hdone\n",
            "Collecting appdirs>=1.4.0\n",
            "  Downloading appdirs-1.4.4-py2.py3-none-any.whl (9.6 kB)\n",
            "Collecting mako\n",
            "  Downloading Mako-1.2.4-py3-none-any.whl (78 kB)\n",
            "\u001b[2K     \u001b[90m━━━━━━━━━━━━━━━━━━━━━━━━━━━━━━━━━━━━━━━━\u001b[0m \u001b[32m78.7/78.7 KB\u001b[0m \u001b[31m11.2 MB/s\u001b[0m eta \u001b[36m0:00:00\u001b[0m\n",
            "\u001b[?25hRequirement already satisfied: numpy>=1.2.0 in /usr/local/lib/python3.9/dist-packages (from scikit-cuda) (1.22.4)\n",
            "Requirement already satisfied: MarkupSafe>=0.9.2 in /usr/local/lib/python3.9/dist-packages (from mako->pycuda) (2.1.2)\n",
            "Requirement already satisfied: platformdirs>=2.2.0 in /usr/local/lib/python3.9/dist-packages (from pytools>=2011.2->pycuda) (3.1.1)\n",
            "Requirement already satisfied: typing_extensions>=4.0 in /usr/local/lib/python3.9/dist-packages (from pytools>=2011.2->pycuda) (4.5.0)\n",
            "Building wheels for collected packages: pycuda, pytools\n",
            "  Building wheel for pycuda (pyproject.toml) ... \u001b[?25l\u001b[?25hdone\n",
            "  Created wheel for pycuda: filename=pycuda-2022.2.2-cp39-cp39-linux_x86_64.whl size=661963 sha256=90fc9fea3e8f0839b3a361d960247169eec91e2048cb162a35c8f9efdb990f34\n",
            "  Stored in directory: /root/.cache/pip/wheels/82/09/27/74d8e31ed19c530166e0d263aabe1ea57465e255615bda8fc0\n",
            "  Building wheel for pytools (setup.py) ... \u001b[?25l\u001b[?25hdone\n",
            "  Created wheel for pytools: filename=pytools-2022.1.14-py2.py3-none-any.whl size=69866 sha256=a57e990b246dabf1e7fb39c865870845c5adba558ea8681a673060e3a508f54e\n",
            "  Stored in directory: /root/.cache/pip/wheels/76/ee/8c/332750bd78e80cdef14a96eb5b539adf0dcda50a97bbdfcbd8\n",
            "Successfully built pycuda pytools\n",
            "Installing collected packages: appdirs, pytools, mako, pycuda, scikit-cuda\n",
            "Successfully installed appdirs-1.4.4 mako-1.2.4 pycuda-2022.2.2 pytools-2022.1.14 scikit-cuda-0.5.3\n"
          ]
        }
      ],
      "source": [
        "!pip install pycuda scikit-cuda"
      ]
    },
    {
      "cell_type": "code",
      "source": [
        "import pycuda.autoinit\n",
        "import pycuda.driver as drv\n",
        "from pycuda import gpuarray\n",
        "from pycuda.compiler import SourceModule\n",
        "import numpy as np\n",
        "from sympy import Rational\n"
      ],
      "metadata": {
        "id": "nj-TM1oA_B4h"
      },
      "execution_count": 3,
      "outputs": []
    },
    {
      "cell_type": "code",
      "source": [
        "ker = SourceModule(no_extern_c=True ,source='''\n",
        "#include <curand_kernel.h>\n",
        "#define _PYTHAG(a,b)  (a*a + b*b)\n",
        "#define ULL  unsigned long long\n",
        "\n",
        "extern \"C\" {\n",
        "\n",
        "__global__ void estimate_pi(ULL iters, ULL * hits)\n",
        "{\n",
        "\n",
        "\tcurandState cr_state;\n",
        "     \n",
        "\tint tid = blockIdx.x * blockDim.x + threadIdx.x;\n",
        "\n",
        "  // new random seed for each thread based on the clock value\n",
        "\tcurand_init( (ULL)  clock() + (ULL) tid, (ULL) 0, (ULL) 0, &cr_state);\n",
        "\n",
        "\tfloat x, y;\n",
        " \n",
        "\tfor(ULL i=0; i < iters; i++)\n",
        "\t{ \n",
        "\n",
        "\t\t x = curand_uniform(&cr_state);\n",
        "\t\t y = curand_uniform(&cr_state);\n",
        "\t\t \n",
        "\t\t \n",
        "\t\t if(_PYTHAG(x,y) <= 1.0f)\n",
        "\t\t\t hits[tid]++;\n",
        "\t}\n",
        " \n",
        " return;\n",
        "\n",
        "}\n",
        "\n",
        "}// (End of 'extern \"C\"' here)\n",
        "''')\n",
        "\n",
        "\n",
        "\n"
      ],
      "metadata": {
        "id": "1tG_D0Jc-0aj"
      },
      "execution_count": 11,
      "outputs": []
    },
    {
      "cell_type": "code",
      "source": [
        "pi_ker = ker.get_function(\"estimate_pi\")\n",
        "\n",
        "threads_per_block = 32\n",
        "blocks_per_grid = 512 \n",
        "\n",
        "total_threads = threads_per_block * blocks_per_grid\n",
        "print(f'total_threads:{total_threads}')\n",
        "\n",
        "iters = 2**24   \n",
        "print(f'Total iterations: {iters}')"
      ],
      "metadata": {
        "colab": {
          "base_uri": "https://localhost:8080/"
        },
        "id": "VjcYPSJR_yoC",
        "outputId": "b6b28645-40a8-4367-966d-dfddbf5bf808"
      },
      "execution_count": 12,
      "outputs": [
        {
          "output_type": "stream",
          "name": "stdout",
          "text": [
            "total_threads:16384\n",
            "Total iterations: 16777216\n"
          ]
        }
      ]
    },
    {
      "cell_type": "code",
      "source": [
        "hits_d = gpuarray.zeros((total_threads,),dtype=np.uint64)\n",
        "\n"
      ],
      "metadata": {
        "id": "p6D1zeZr_5UL"
      },
      "execution_count": 13,
      "outputs": []
    },
    {
      "cell_type": "code",
      "source": [
        "pi_ker(np.uint64(iters), hits_d, grid=(blocks_per_grid,1,1), block=(threads_per_block,1,1))\n"
      ],
      "metadata": {
        "id": "04Z-dwPW_7_z"
      },
      "execution_count": 14,
      "outputs": []
    },
    {
      "cell_type": "code",
      "source": [
        "total_hits = np.sum( hits_d.get()  )\n",
        "total = np.uint64(total_threads) * np.uint64(iters)\n",
        "\n",
        "est_pi_symbolic =  Rational(4)*Rational(int(total_hits), int(total) )\n",
        "est_pi = float(est_pi_symbolic.evalf())\n"
      ],
      "metadata": {
        "id": "OKRgOpBNAEOl"
      },
      "execution_count": 16,
      "outputs": []
    },
    {
      "cell_type": "code",
      "source": [
        "print(f\"Our Monte Carlo estimate of Pi is : {est_pi}\")\n",
        "print(f\"NumPy's Pi constant is: {np.pi}\" )\n",
        "print(f\"Our estimate passes NumPy's 'allclose' : {np.allclose(est_pi, np.pi)}\")\n"
      ],
      "metadata": {
        "colab": {
          "base_uri": "https://localhost:8080/"
        },
        "id": "uWbTNNdVBOho",
        "outputId": "b6c39a0e-7d9c-4eae-afa2-f24806633e00"
      },
      "execution_count": 17,
      "outputs": [
        {
          "output_type": "stream",
          "name": "stdout",
          "text": [
            "Our Monte Carlo estimate of Pi is : 3.141595962792053\n",
            "NumPy's Pi constant is: 3.141592653589793\n",
            "Our estimate passes NumPy's 'allclose' : True\n"
          ]
        }
      ]
    },
    {
      "cell_type": "code",
      "source": [
        "\n",
        "\n",
        "\n",
        "\n",
        "\n"
      ],
      "metadata": {
        "id": "Yx0SXrPp-0n1"
      },
      "execution_count": null,
      "outputs": []
    }
  ]
}