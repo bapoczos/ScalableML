{
  "nbformat": 4,
  "nbformat_minor": 0,
  "metadata": {
    "colab": {
      "provenance": []
    },
    "kernelspec": {
      "name": "python3",
      "display_name": "Python 3"
    },
    "language_info": {
      "name": "python"
    },
    "accelerator": "GPU",
    "gpuClass": "standard"
  },
  "cells": [
    {
      "cell_type": "code",
      "source": [
        "#!pip install pycuda"
      ],
      "metadata": {
        "id": "NsZLbwr6w2Op"
      },
      "execution_count": 1,
      "outputs": []
    },
    {
      "cell_type": "code",
      "source": [
        "from __future__ import division\n",
        "import numpy as np\n",
        "from pycuda.compiler import SourceModule\n",
        "import pycuda.autoinit\n",
        "from pycuda import gpuarray\n",
        "import pycuda.driver as drv\n"
      ],
      "metadata": {
        "id": "GHiOnVZQwzWe"
      },
      "execution_count": 2,
      "outputs": []
    },
    {
      "cell_type": "code",
      "source": [
        "AtomicCode='''\n",
        "__global__ void atomic_ker(int *add_out, int *max_out) \n",
        "{\n",
        " int tid = blockIdx.x*blockDim.x + threadIdx.x;\n",
        " \n",
        " // sets *add_out to 0.  Thread-safe.\n",
        " atomicExch(add_out, 0);\n",
        " __syncthreads();\n",
        " \n",
        " // adds \"1\" to *add_out for each thread.\n",
        " atomicAdd(add_out, 1);\n",
        "\n",
        " // sets max_out to the maximum value submitted across all threads.\n",
        " atomicMax(max_out, tid);\n",
        "}\n",
        "\n",
        "// Simple kernel without Atominc operations\n",
        "// This will fail\n",
        "__global__ void simple_add_ker(int *add_out) \n",
        "{\n",
        " __syncthreads(); \n",
        " //add_out[0] = add_out[0] +1;\n",
        " *add_out = *add_out +1;\n",
        " __syncthreads(); \n",
        "}\n",
        "'''\n"
      ],
      "metadata": {
        "id": "e0n2iQ8XyHVp"
      },
      "execution_count": 3,
      "outputs": []
    },
    {
      "cell_type": "code",
      "source": [
        "my_mod = SourceModule(AtomicCode)\n",
        "atomic_ker = my_mod.get_function('atomic_ker')\n",
        "simple_add_ker = my_mod.get_function('simple_add_ker')"
      ],
      "metadata": {
        "id": "UGKNVQ5CyLwf"
      },
      "execution_count": 4,
      "outputs": []
    },
    {
      "cell_type": "code",
      "source": [
        "add_out = gpuarray.empty((1,), dtype=np.int32)\n",
        "simple_add_ker(add_out, grid=(1,1,1), block=(1000,1,1))\n",
        "drv.Context.synchronize()\n",
        "\n",
        "print(f'Increment fails without Atomic operations :') \n",
        "print(f'add_out: {add_out.get()}' ) #this should be 1000!"
      ],
      "metadata": {
        "id": "Er2I2CyMVRLM",
        "outputId": "c0e1e600-cd23-4f09-fb26-c8de1e8268d4",
        "colab": {
          "base_uri": "https://localhost:8080/"
        }
      },
      "execution_count": 5,
      "outputs": [
        {
          "output_type": "stream",
          "name": "stdout",
          "text": [
            "Increment fails without Atomic operations :\n",
            "add_out: [1]\n"
          ]
        }
      ]
    },
    {
      "cell_type": "markdown",
      "source": [
        "### Atomic Operations"
      ],
      "metadata": {
        "id": "k0bXQA7qVnFv"
      }
    },
    {
      "cell_type": "code",
      "source": [
        "add_out = gpuarray.empty((1,), dtype=np.int32)\n",
        "max_out = gpuarray.empty((1,), dtype=np.int32)\n"
      ],
      "metadata": {
        "id": "cgFhcz1SyPdX"
      },
      "execution_count": 6,
      "outputs": []
    },
    {
      "cell_type": "code",
      "source": [
        "atomic_ker(add_out, max_out, grid=(1,1,1), block=(1000,1,1))\n",
        "drv.Context.synchronize()\n"
      ],
      "metadata": {
        "id": "91p7a3AcyTjF"
      },
      "execution_count": 7,
      "outputs": []
    },
    {
      "cell_type": "code",
      "source": [
        "print(f'Atomic operations test:') \n",
        "print(f'add_out: {add_out.get()}' )\n",
        "print(f'max_out [max of the tid values]: {max_out.get()}')\n"
      ],
      "metadata": {
        "colab": {
          "base_uri": "https://localhost:8080/"
        },
        "id": "Cz7Pwth9yhU6",
        "outputId": "b50989d0-90fa-4826-b736-abb8e9705fff"
      },
      "execution_count": 8,
      "outputs": [
        {
          "output_type": "stream",
          "name": "stdout",
          "text": [
            "Atomic operations test:\n",
            "add_out: [1000]\n",
            "max_out [max of the tid values]: [999]\n"
          ]
        }
      ]
    },
    {
      "cell_type": "code",
      "execution_count": null,
      "metadata": {
        "id": "XHACxJanwjtD"
      },
      "outputs": [],
      "source": [
        "\n",
        "\n",
        "\n"
      ]
    }
  ]
}