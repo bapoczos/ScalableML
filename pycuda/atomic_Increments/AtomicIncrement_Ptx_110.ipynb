{
  "nbformat": 4,
  "nbformat_minor": 0,
  "metadata": {
    "colab": {
      "provenance": []
    },
    "kernelspec": {
      "name": "python3",
      "display_name": "Python 3"
    },
    "language_info": {
      "name": "python"
    },
    "accelerator": "GPU",
    "gpuClass": "standard"
  },
  "cells": [
    {
      "cell_type": "code",
      "source": [
        "#!pip install pycuda"
      ],
      "metadata": {
        "id": "NsZLbwr6w2Op"
      },
      "execution_count": 8,
      "outputs": []
    },
    {
      "cell_type": "code",
      "source": [
        "%%writefile atomicTest.cu\n",
        "\n",
        "#include <cuda_runtime.h>\n",
        "#include <stdio.h>\n",
        "#include <stdlib.h>\n",
        "#include <math.h>\n",
        "\n",
        "\n",
        "extern \"C\" __global__ void atomic_ker(int *add_out, int *max_out) \n",
        "{\n",
        " printf(\"Hello from cuda!\\n\") ;\n",
        " int tid = blockIdx.x*blockDim.x + threadIdx.x;\n",
        " \n",
        " // sets *add_out to 0.  Thread-safe.\n",
        " atomicExch(add_out, 0);\n",
        " __syncthreads();\n",
        " \n",
        " // adds \"1\" to *add_out for each thread.\n",
        " atomicAdd(add_out, 1);\n",
        " \n",
        " // sets max_out to the maximum value submitted across all threads.\n",
        " atomicMax(max_out, tid);\n",
        "}"
      ],
      "metadata": {
        "colab": {
          "base_uri": "https://localhost:8080/"
        },
        "id": "6CU_DrHw0pVC",
        "outputId": "f665c0d2-243e-42cd-c9b8-4f8d4ccb485a"
      },
      "execution_count": 11,
      "outputs": [
        {
          "output_type": "stream",
          "name": "stdout",
          "text": [
            "Overwriting atomicTest.cu\n"
          ]
        }
      ]
    },
    {
      "cell_type": "code",
      "source": [
        "!nvcc -ptx -o atomicTest.ptx atomicTest.cu"
      ],
      "metadata": {
        "id": "8ym49PZj0_1f"
      },
      "execution_count": 12,
      "outputs": []
    },
    {
      "cell_type": "code",
      "source": [
        "%%writefile test.py\n",
        "\n",
        "from __future__ import division\n",
        "import numpy as np\n",
        "from pycuda.compiler import SourceModule\n",
        "import pycuda.autoinit\n",
        "from pycuda import gpuarray\n",
        "import pycuda.driver as drv\n",
        "\n",
        "atomic_mod = pycuda.driver.module_from_file('./atomicTest.ptx')\n",
        "atomic_ker = atomic_mod.get_function('atomic_ker')\n",
        "\n",
        "\n",
        "add_out = gpuarray.empty((1,), dtype=np.int32)\n",
        "max_out = gpuarray.empty((1,), dtype=np.int32)\n",
        "atomic_ker(add_out, max_out, grid=(1,1,1), block=(20,1,1))\n",
        "drv.Context.synchronize()\n",
        "\n",
        "print(f'Atomic operations test:') \n",
        "print(f'add_out: {add_out.get()}' )\n",
        "print(f'max_out [max of the tid values]: {max_out.get()}')"
      ],
      "metadata": {
        "id": "cgFhcz1SyPdX",
        "colab": {
          "base_uri": "https://localhost:8080/"
        },
        "outputId": "eb5d5380-7a7f-49cf-9eda-0c6002dd1282"
      },
      "execution_count": 13,
      "outputs": [
        {
          "output_type": "stream",
          "name": "stdout",
          "text": [
            "Overwriting test.py\n"
          ]
        }
      ]
    },
    {
      "cell_type": "code",
      "source": [
        "!python test.py\n"
      ],
      "metadata": {
        "id": "91p7a3AcyTjF",
        "colab": {
          "base_uri": "https://localhost:8080/"
        },
        "outputId": "a861c616-18d0-46ab-901c-ff6d6101a311"
      },
      "execution_count": 14,
      "outputs": [
        {
          "output_type": "stream",
          "name": "stdout",
          "text": [
            "Hello from cuda!\n",
            "Hello from cuda!\n",
            "Hello from cuda!\n",
            "Hello from cuda!\n",
            "Hello from cuda!\n",
            "Hello from cuda!\n",
            "Hello from cuda!\n",
            "Hello from cuda!\n",
            "Hello from cuda!\n",
            "Hello from cuda!\n",
            "Hello from cuda!\n",
            "Hello from cuda!\n",
            "Hello from cuda!\n",
            "Hello from cuda!\n",
            "Hello from cuda!\n",
            "Hello from cuda!\n",
            "Hello from cuda!\n",
            "Hello from cuda!\n",
            "Hello from cuda!\n",
            "Hello from cuda!\n",
            "Atomic operations test:\n",
            "add_out: [20]\n",
            "max_out [max of the tid values]: [19]\n"
          ]
        }
      ]
    },
    {
      "cell_type": "code",
      "source": [
        "\n"
      ],
      "metadata": {
        "colab": {
          "base_uri": "https://localhost:8080/"
        },
        "id": "Cz7Pwth9yhU6",
        "outputId": "7c900ea1-9762-463a-9bdf-9ee512b911a5"
      },
      "execution_count": null,
      "outputs": [
        {
          "output_type": "stream",
          "name": "stdout",
          "text": [
            "Atomic operations test:\n",
            "add_out: [1000]\n",
            "max_out [max of the tid values]: [999]\n"
          ]
        }
      ]
    },
    {
      "cell_type": "code",
      "execution_count": null,
      "metadata": {
        "id": "XHACxJanwjtD"
      },
      "outputs": [],
      "source": [
        "\n",
        "\n",
        "\n"
      ]
    }
  ]
}