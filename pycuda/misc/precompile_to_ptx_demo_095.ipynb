{
  "cells": [
    {
      "cell_type": "code",
      "source": [
        "!pip install pycuda"
      ],
      "metadata": {
        "id": "jpFBMCrSQehY",
        "colab": {
          "base_uri": "https://localhost:8080/"
        },
        "outputId": "88850204-e076-4a7c-9dee-3e9e0411a58c"
      },
      "execution_count": 1,
      "outputs": [
        {
          "output_type": "stream",
          "name": "stdout",
          "text": [
            "Looking in indexes: https://pypi.org/simple, https://us-python.pkg.dev/colab-wheels/public/simple/\n",
            "Collecting pycuda\n",
            "  Downloading pycuda-2022.2.2.tar.gz (1.7 MB)\n",
            "\u001b[2K     \u001b[90m━━━━━━━━━━━━━━━━━━━━━━━━━━━━━━━━━━━━━━━━\u001b[0m \u001b[32m1.7/1.7 MB\u001b[0m \u001b[31m28.2 MB/s\u001b[0m eta \u001b[36m0:00:00\u001b[0m\n",
            "\u001b[?25h  Installing build dependencies ... \u001b[?25l\u001b[?25hdone\n",
            "  Getting requirements to build wheel ... \u001b[?25l\u001b[?25hdone\n",
            "  Preparing metadata (pyproject.toml) ... \u001b[?25l\u001b[?25hdone\n",
            "Requirement already satisfied: appdirs>=1.4.0 in /usr/local/lib/python3.9/dist-packages (from pycuda) (1.4.4)\n",
            "Collecting pytools>=2011.2\n",
            "  Downloading pytools-2022.1.14.tar.gz (74 kB)\n",
            "\u001b[2K     \u001b[90m━━━━━━━━━━━━━━━━━━━━━━━━━━━━━━━━━━━━━━━━\u001b[0m \u001b[32m74.6/74.6 KB\u001b[0m \u001b[31m9.5 MB/s\u001b[0m eta \u001b[36m0:00:00\u001b[0m\n",
            "\u001b[?25h  Preparing metadata (setup.py) ... \u001b[?25l\u001b[?25hdone\n",
            "Collecting mako\n",
            "  Downloading Mako-1.2.4-py3-none-any.whl (78 kB)\n",
            "\u001b[2K     \u001b[90m━━━━━━━━━━━━━━━━━━━━━━━━━━━━━━━━━━━━━━━━\u001b[0m \u001b[32m78.7/78.7 KB\u001b[0m \u001b[31m9.8 MB/s\u001b[0m eta \u001b[36m0:00:00\u001b[0m\n",
            "\u001b[?25hRequirement already satisfied: platformdirs>=2.2.0 in /usr/local/lib/python3.9/dist-packages (from pytools>=2011.2->pycuda) (3.1.1)\n",
            "Requirement already satisfied: typing_extensions>=4.0 in /usr/local/lib/python3.9/dist-packages (from pytools>=2011.2->pycuda) (4.5.0)\n",
            "Requirement already satisfied: MarkupSafe>=0.9.2 in /usr/local/lib/python3.9/dist-packages (from mako->pycuda) (2.1.2)\n",
            "Building wheels for collected packages: pycuda, pytools\n",
            "  Building wheel for pycuda (pyproject.toml) ... \u001b[?25l\u001b[?25hdone\n",
            "  Created wheel for pycuda: filename=pycuda-2022.2.2-cp39-cp39-linux_x86_64.whl size=661963 sha256=06c8f110fdbab707c92d2f4f7a710bc3a869af05ec5f8203b8c6710ccf39374a\n",
            "  Stored in directory: /root/.cache/pip/wheels/82/09/27/74d8e31ed19c530166e0d263aabe1ea57465e255615bda8fc0\n",
            "  Building wheel for pytools (setup.py) ... \u001b[?25l\u001b[?25hdone\n",
            "  Created wheel for pytools: filename=pytools-2022.1.14-py2.py3-none-any.whl size=69866 sha256=742a1e34809313eb14a2c1e17544deff07320781bd83e13425debba99debe95f\n",
            "  Stored in directory: /root/.cache/pip/wheels/76/ee/8c/332750bd78e80cdef14a96eb5b539adf0dcda50a97bbdfcbd8\n",
            "Successfully built pycuda pytools\n",
            "Installing collected packages: pytools, mako, pycuda\n",
            "Successfully installed mako-1.2.4 pycuda-2022.2.2 pytools-2022.1.14\n"
          ]
        }
      ]
    },
    {
      "cell_type": "code",
      "source": [
        "%matplotlib inline\n",
        "\n",
        "import numpy as np\n",
        "import pandas as pd\n",
        "\n",
        "import matplotlib.pyplot as plt\n",
        "from matplotlib import style\n",
        "style.use('fivethirtyeight')\n",
        "\n",
        "import pycuda.autoinit\n",
        "import pycuda.driver as drv\n",
        "from pycuda import gpuarray\n",
        "from pycuda.compiler import SourceModule\n",
        "from time import time\n"
      ],
      "metadata": {
        "id": "dDgamcRnQoVn"
      },
      "execution_count": 2,
      "outputs": []
    },
    {
      "cell_type": "code",
      "source": [
        "%%writefile mandelbrot.cu\n",
        "\n",
        "#include <cuda_runtime.h>\n",
        "#include <stdio.h>\n",
        "#include <stdlib.h>\n",
        "#include <math.h>\n",
        "\n",
        "\n",
        "extern \"C\" __global__ void mandelbrot_ker(float * lattice, float * mandelbrot_graph, int max_iters, float upper_bound_squared, int lattice_size)\n",
        "{\n",
        "    int tid = blockIdx.x * blockDim.x + threadIdx.x;\n",
        "    \n",
        "    if ( tid < lattice_size*lattice_size )\n",
        "    {\n",
        "        int i = tid % lattice_size;\n",
        "        int j = lattice_size - 1 - (tid / lattice_size);\n",
        "        \n",
        "        float c_re = lattice[i];\n",
        "        float c_im = lattice[j];\n",
        "        \n",
        "        float z_re = 0.0f;\n",
        "        float z_im = 0.0f;\n",
        "        \n",
        "        \n",
        "        \n",
        "        mandelbrot_graph[tid] = 1;\n",
        "        \n",
        "        for (int k = 0; k < max_iters; k++)\n",
        "        {\n",
        "            float temp;\n",
        "            \n",
        "            temp = z_re*z_re - z_im*z_im + c_re;\n",
        "            z_im = 2*z_re*z_im + c_im;\n",
        "            z_re = temp;\n",
        "            \n",
        "            if ( (z_re*z_re + z_im*z_im) > upper_bound_squared )\n",
        "            {\n",
        "                mandelbrot_graph[tid] = 0;\n",
        "                break;\n",
        "            }\n",
        "        \n",
        "        }\n",
        "        \n",
        "    }\n",
        "    \n",
        "    return;\n",
        "}\n",
        "\n"
      ],
      "metadata": {
        "colab": {
          "base_uri": "https://localhost:8080/"
        },
        "id": "Tu8jcx9YSidO",
        "outputId": "f54ffba8-7907-486b-bf67-57e6695be049"
      },
      "execution_count": 3,
      "outputs": [
        {
          "output_type": "stream",
          "name": "stdout",
          "text": [
            "Writing mandelbrot.cu\n"
          ]
        }
      ]
    },
    {
      "cell_type": "code",
      "source": [
        "#compile the mandelbrot.cu file into mandelbrot.ptx\n",
        "!nvcc -ptx -o mandelbrot.ptx mandelbrot.cu"
      ],
      "metadata": {
        "id": "s4XnrHieYsjt"
      },
      "execution_count": 5,
      "outputs": []
    },
    {
      "cell_type": "code",
      "source": [
        "mandel_mod = pycuda.driver.module_from_file('./mandelbrot.ptx')\n",
        "mandel_ker = mandel_mod.get_function('mandelbrot_ker')\n",
        "\n",
        "def mandelbrot(breadth, low, high, max_iters, upper_bound):\n",
        "\n",
        "    lattice = gpuarray.to_gpu(np.linspace(low, high, breadth, dtype=np.float32))\n",
        "    out_gpu = gpuarray.empty(shape=(lattice.size,lattice.size), dtype=np.float32)\n",
        "    \n",
        "    gridsize = int(np.ceil(lattice.size**2 / 32))\n",
        "    \n",
        "    \n",
        "    mandel_ker(lattice, out_gpu, np.int32(256), np.float32(upper_bound**2), np.int32(lattice.size), grid=(gridsize, 1, 1), block=(32,1,1))\n",
        "    \n",
        "    out = out_gpu.get()\n",
        "    \n",
        "    return out\n"
      ],
      "metadata": {
        "id": "jpXy-6njZLBo"
      },
      "execution_count": 6,
      "outputs": []
    },
    {
      "cell_type": "code",
      "source": [
        "t1 = time()\n",
        "mandel = mandelbrot(512,-2,2,256, 2)\n",
        "t2 = time()\n",
        "\n",
        "mandel_time = t2 - t1\n",
        "\n",
        "print(f'It took {mandel_time} seconds to calculate the Mandelbrot graph.') \n",
        "\n",
        "plt.figure(1)\n",
        "plt.imshow(mandel, extent=(-2, 2, -2, 2))\n",
        "plt.show()\n"
      ],
      "metadata": {
        "colab": {
          "base_uri": "https://localhost:8080/",
          "height": 304
        },
        "id": "BhFHBdONZQ18",
        "outputId": "58710134-a201-4c31-9001-1ff72e890d45"
      },
      "execution_count": 7,
      "outputs": [
        {
          "output_type": "stream",
          "name": "stdout",
          "text": [
            "It took 0.006700277328491211 seconds to calculate the Mandelbrot graph.\n"
          ]
        },
        {
          "output_type": "display_data",
          "data": {
            "text/plain": [
              "<Figure size 432x288 with 1 Axes>"
            ],
            "image/png": "[encoded data removed]"
          },
          "metadata": {}
        }
      ]
    }
  ],
  "metadata": {
    "kernelspec": {
      "display_name": "Python 3",
      "language": "python",
      "name": "python3"
    },
    "language_info": {
      "codemirror_mode": {
        "name": "ipython",
        "version": 3
      },
      "file_extension": ".py",
      "mimetype": "text/x-python",
      "name": "python",
      "nbconvert_exporter": "python",
      "pygments_lexer": "ipython3",
      "version": "3.6.13"
    },
    "toc": {
      "base_numbering": 1,
      "nav_menu": {},
      "number_sections": true,
      "sideBar": true,
      "skip_h1_title": false,
      "title_cell": "Table of Contents",
      "title_sidebar": "Contents",
      "toc_cell": false,
      "toc_position": {},
      "toc_section_display": true,
      "toc_window_display": false
    },
    "colab": {
      "provenance": []
    },
    "accelerator": "GPU",
    "gpuClass": "standard"
  },
  "nbformat": 4,
  "nbformat_minor": 0
}