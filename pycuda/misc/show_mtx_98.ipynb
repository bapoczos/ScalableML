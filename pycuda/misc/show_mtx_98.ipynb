{
  "cells": [
    {
      "cell_type": "code",
      "source": [
        "#!pip install pycuda"
      ],
      "metadata": {
        "id": "jpFBMCrSQehY"
      },
      "execution_count": 1,
      "outputs": []
    },
    {
      "cell_type": "code",
      "source": [
        "%%writefile show_mtx.cu\n",
        "\n",
        "#include <cuda_runtime.h>\n",
        "#include <stdio.h>\n",
        "#include <stdlib.h>\n",
        "#include <math.h>\n",
        "\n",
        "\n",
        "extern \"C\" __global__ void show_mtx_ker(float * data_mtx, int dim_x, int dim_y)\n",
        "{\n",
        "    int tid = blockIdx.x * blockDim.x + threadIdx.x;\n",
        "    printf(\"Hello world from tid %d, thread %d, in block %d!\\n\", tid, threadIdx.x, blockIdx.x);\n",
        "\t  __syncthreads();\n",
        "\n",
        "    //assign this thread tid to an [i,j] element of the data_mtx\n",
        "    // each thread will print one element\n",
        "    if ( tid < dim_x*dim_y ) //we don't care about threads with larger tid\n",
        "    {   \n",
        "        int i = tid % dim_x;\n",
        "        int j = tid / dim_x;\n",
        "        float val = data_mtx[tid];\n",
        "        printf(\"tid: %d, i: %d, j: %d, mtx[i,j]: %f\\n\", tid,i, j, val);              \n",
        "    }\n",
        "    \n",
        "    return;\n",
        "}\n"
      ],
      "metadata": {
        "colab": {
          "base_uri": "https://localhost:8080/"
        },
        "id": "K5S3OEZApTUB",
        "outputId": "ac633ff2-ac81-4da2-a047-c90a0e5831d2"
      },
      "execution_count": 2,
      "outputs": [
        {
          "output_type": "stream",
          "name": "stdout",
          "text": [
            "Overwriting show_mtx.cu\n"
          ]
        }
      ]
    },
    {
      "cell_type": "code",
      "source": [
        "!nvcc -ptx -o show_mtx.ptx show_mtx.cu"
      ],
      "metadata": {
        "id": "YP4G_bXDpgyl"
      },
      "execution_count": 3,
      "outputs": []
    },
    {
      "cell_type": "code",
      "source": [
        "%%writefile test.py\n",
        "\n",
        "import pycuda.autoinit\n",
        "import pycuda.driver as drv\n",
        "from pycuda import gpuarray\n",
        "from pycuda.compiler import SourceModule\n",
        "from time import time\n",
        "\n",
        "import numpy as np\n",
        "\n",
        "dim_x=7\n",
        "dim_y=5\n",
        "\n",
        "data_mtx=np.float32(np.arange(dim_x*dim_y).reshape([dim_y,dim_x]))\n",
        "\n",
        "print('data_mtx:')\n",
        "print(data_mtx)\n",
        "print('-----')\n",
        "\n",
        "data_gpu=gpuarray.to_gpu(data_mtx)\n",
        "\n",
        "my_mod = pycuda.driver.module_from_file('./show_mtx.ptx')\n",
        "show_mtx_ker = my_mod.get_function('show_mtx_ker')\n",
        "\n",
        "blocksize = 10\n",
        "gridsize = int(np.ceil(dim_x*dim_y / blocksize))\n",
        "\n",
        "print(f'block size: {blocksize}')\n",
        "print(f'grid size: {gridsize}')\n",
        "print('-----')\n",
        "\n",
        "show_mtx_ker(data_gpu, np.int32(dim_x), np.int32(dim_y), grid=(gridsize, 1, 1), block=(blocksize,1,1))\n"
      ],
      "metadata": {
        "colab": {
          "base_uri": "https://localhost:8080/"
        },
        "id": "PgEkTfY-pifd",
        "outputId": "4167eb52-b00d-4b16-df2f-93072d5e412d"
      },
      "execution_count": 4,
      "outputs": [
        {
          "output_type": "stream",
          "name": "stdout",
          "text": [
            "Overwriting test.py\n"
          ]
        }
      ]
    },
    {
      "cell_type": "code",
      "source": [
        "!python test.py"
      ],
      "metadata": {
        "id": "dDgamcRnQoVn",
        "colab": {
          "base_uri": "https://localhost:8080/"
        },
        "outputId": "fcd4374a-fe07-4821-ac20-2b2cd051fbf3"
      },
      "execution_count": 5,
      "outputs": [
        {
          "output_type": "stream",
          "name": "stdout",
          "text": [
            "data_mtx:\n",
            "[[ 0.  1.  2.  3.  4.  5.  6.]\n",
            " [ 7.  8.  9. 10. 11. 12. 13.]\n",
            " [14. 15. 16. 17. 18. 19. 20.]\n",
            " [21. 22. 23. 24. 25. 26. 27.]\n",
            " [28. 29. 30. 31. 32. 33. 34.]]\n",
            "-----\n",
            "block size: 10\n",
            "grid size: 4\n",
            "-----\n",
            "Hello world from tid 10, thread 0, in block 1!\n",
            "Hello world from tid 11, thread 1, in block 1!\n",
            "Hello world from tid 12, thread 2, in block 1!\n",
            "Hello world from tid 13, thread 3, in block 1!\n",
            "Hello world from tid 14, thread 4, in block 1!\n",
            "Hello world from tid 15, thread 5, in block 1!\n",
            "Hello world from tid 16, thread 6, in block 1!\n",
            "Hello world from tid 17, thread 7, in block 1!\n",
            "Hello world from tid 18, thread 8, in block 1!\n",
            "Hello world from tid 19, thread 9, in block 1!\n",
            "Hello world from tid 20, thread 0, in block 2!\n",
            "Hello world from tid 21, thread 1, in block 2!\n",
            "Hello world from tid 22, thread 2, in block 2!\n",
            "Hello world from tid 23, thread 3, in block 2!\n",
            "Hello world from tid 24, thread 4, in block 2!\n",
            "Hello world from tid 25, thread 5, in block 2!\n",
            "Hello world from tid 26, thread 6, in block 2!\n",
            "Hello world from tid 27, thread 7, in block 2!\n",
            "Hello world from tid 28, thread 8, in block 2!\n",
            "Hello world from tid 29, thread 9, in block 2!\n",
            "Hello world from tid 30, thread 0, in block 3!\n",
            "Hello world from tid 31, thread 1, in block 3!\n",
            "Hello world from tid 32, thread 2, in block 3!\n",
            "Hello world from tid 33, thread 3, in block 3!\n",
            "Hello world from tid 34, thread 4, in block 3!\n",
            "Hello world from tid 35, thread 5, in block 3!\n",
            "Hello world from tid 36, thread 6, in block 3!\n",
            "Hello world from tid 37, thread 7, in block 3!\n",
            "Hello world from tid 38, thread 8, in block 3!\n",
            "Hello world from tid 39, thread 9, in block 3!\n",
            "Hello world from tid 0, thread 0, in block 0!\n",
            "Hello world from tid 1, thread 1, in block 0!\n",
            "Hello world from tid 2, thread 2, in block 0!\n",
            "Hello world from tid 3, thread 3, in block 0!\n",
            "Hello world from tid 4, thread 4, in block 0!\n",
            "Hello world from tid 5, thread 5, in block 0!\n",
            "Hello world from tid 6, thread 6, in block 0!\n",
            "Hello world from tid 7, thread 7, in block 0!\n",
            "Hello world from tid 8, thread 8, in block 0!\n",
            "Hello world from tid 9, thread 9, in block 0!\n",
            "tid: 10, i: 3, j: 1, mtx[i,j]: 10.000000\n",
            "tid: 11, i: 4, j: 1, mtx[i,j]: 11.000000\n",
            "tid: 12, i: 5, j: 1, mtx[i,j]: 12.000000\n",
            "tid: 13, i: 6, j: 1, mtx[i,j]: 13.000000\n",
            "tid: 14, i: 0, j: 2, mtx[i,j]: 14.000000\n",
            "tid: 15, i: 1, j: 2, mtx[i,j]: 15.000000\n",
            "tid: 16, i: 2, j: 2, mtx[i,j]: 16.000000\n",
            "tid: 17, i: 3, j: 2, mtx[i,j]: 17.000000\n",
            "tid: 18, i: 4, j: 2, mtx[i,j]: 18.000000\n",
            "tid: 19, i: 5, j: 2, mtx[i,j]: 19.000000\n",
            "tid: 30, i: 2, j: 4, mtx[i,j]: 30.000000\n",
            "tid: 31, i: 3, j: 4, mtx[i,j]: 31.000000\n",
            "tid: 32, i: 4, j: 4, mtx[i,j]: 32.000000\n",
            "tid: 33, i: 5, j: 4, mtx[i,j]: 33.000000\n",
            "tid: 34, i: 6, j: 4, mtx[i,j]: 34.000000\n",
            "tid: 20, i: 6, j: 2, mtx[i,j]: 20.000000\n",
            "tid: 21, i: 0, j: 3, mtx[i,j]: 21.000000\n",
            "tid: 22, i: 1, j: 3, mtx[i,j]: 22.000000\n",
            "tid: 23, i: 2, j: 3, mtx[i,j]: 23.000000\n",
            "tid: 24, i: 3, j: 3, mtx[i,j]: 24.000000\n",
            "tid: 25, i: 4, j: 3, mtx[i,j]: 25.000000\n",
            "tid: 26, i: 5, j: 3, mtx[i,j]: 26.000000\n",
            "tid: 27, i: 6, j: 3, mtx[i,j]: 27.000000\n",
            "tid: 28, i: 0, j: 4, mtx[i,j]: 28.000000\n",
            "tid: 29, i: 1, j: 4, mtx[i,j]: 29.000000\n",
            "tid: 0, i: 0, j: 0, mtx[i,j]: 0.000000\n",
            "tid: 1, i: 1, j: 0, mtx[i,j]: 1.000000\n",
            "tid: 2, i: 2, j: 0, mtx[i,j]: 2.000000\n",
            "tid: 3, i: 3, j: 0, mtx[i,j]: 3.000000\n",
            "tid: 4, i: 4, j: 0, mtx[i,j]: 4.000000\n",
            "tid: 5, i: 5, j: 0, mtx[i,j]: 5.000000\n",
            "tid: 6, i: 6, j: 0, mtx[i,j]: 6.000000\n",
            "tid: 7, i: 0, j: 1, mtx[i,j]: 7.000000\n",
            "tid: 8, i: 1, j: 1, mtx[i,j]: 8.000000\n",
            "tid: 9, i: 2, j: 1, mtx[i,j]: 9.000000\n"
          ]
        }
      ]
    },
    {
      "cell_type": "code",
      "source": [],
      "metadata": {
        "id": "OZ_gG897gWok"
      },
      "execution_count": 3,
      "outputs": []
    }
  ],
  "metadata": {
    "kernelspec": {
      "display_name": "Python 3",
      "language": "python",
      "name": "python3"
    },
    "language_info": {
      "codemirror_mode": {
        "name": "ipython",
        "version": 3
      },
      "file_extension": ".py",
      "mimetype": "text/x-python",
      "name": "python",
      "nbconvert_exporter": "python",
      "pygments_lexer": "ipython3",
      "version": "3.6.13"
    },
    "toc": {
      "base_numbering": 1,
      "nav_menu": {},
      "number_sections": true,
      "sideBar": true,
      "skip_h1_title": false,
      "title_cell": "Table of Contents",
      "title_sidebar": "Contents",
      "toc_cell": false,
      "toc_position": {},
      "toc_section_display": true,
      "toc_window_display": false
    },
    "colab": {
      "provenance": []
    },
    "accelerator": "GPU",
    "gpuClass": "standard"
  },
  "nbformat": 4,
  "nbformat_minor": 0
}