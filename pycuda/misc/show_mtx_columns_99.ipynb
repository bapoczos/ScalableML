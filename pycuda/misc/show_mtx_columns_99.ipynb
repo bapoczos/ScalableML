{
  "cells": [
    {
      "cell_type": "code",
      "source": [
        "#!pip install pycuda"
      ],
      "metadata": {
        "id": "jpFBMCrSQehY"
      },
      "execution_count": 1,
      "outputs": []
    },
    {
      "cell_type": "code",
      "source": [
        "%%writefile show_mtx.cu\n",
        "\n",
        "#include <cuda_runtime.h>\n",
        "#include <stdio.h>\n",
        "#include <stdlib.h>\n",
        "#include <math.h>\n",
        "\n",
        "\n",
        "extern \"C\" __global__ void show_mtx_ker(float * data_mtx, int dim_x, int dim_y)\n",
        "{\n",
        "    int tid = blockIdx.x * blockDim.x + threadIdx.x;\n",
        "    printf(\"Hello world from tid %d, thread %d, in block %d!\\n\", tid, threadIdx.x, blockIdx.x);\n",
        "\t  __syncthreads();\n",
        "\n",
        "    //assign this thread tid to the ith column of the data_mtx\n",
        "    // each thread will print one element\n",
        "    if ( tid < dim_x ) //we don't care about threads with larger tid\n",
        "    {   \n",
        "        printf(\"---------\\n\");  \n",
        "        int col = tid;\n",
        "        for (int row = 0; row< dim_y; row++)\n",
        "        {\n",
        "          float val = data_mtx[col+row*dim_x];\n",
        "          printf(\"tid: %d, col: %d, row: %d, mtx[row,col]: %f\\n\", tid, col,row, val);  \n",
        "        }             \n",
        "        \n",
        "    }\n",
        "    \n",
        "    return;\n",
        "}\n"
      ],
      "metadata": {
        "colab": {
          "base_uri": "https://localhost:8080/"
        },
        "id": "K5S3OEZApTUB",
        "outputId": "e8c28824-c17b-4c49-b019-a503325849cb"
      },
      "execution_count": 2,
      "outputs": [
        {
          "output_type": "stream",
          "name": "stdout",
          "text": [
            "Overwriting show_mtx.cu\n"
          ]
        }
      ]
    },
    {
      "cell_type": "code",
      "source": [
        "!nvcc -ptx -o show_mtx.ptx show_mtx.cu"
      ],
      "metadata": {
        "id": "YP4G_bXDpgyl"
      },
      "execution_count": 3,
      "outputs": []
    },
    {
      "cell_type": "code",
      "source": [
        "%%writefile test.py\n",
        "\n",
        "import pycuda.autoinit\n",
        "import pycuda.driver as drv\n",
        "from pycuda import gpuarray\n",
        "from pycuda.compiler import SourceModule\n",
        "from time import time\n",
        "\n",
        "import numpy as np\n",
        "\n",
        "dim_x=7\n",
        "dim_y=5\n",
        "\n",
        "data_mtx=np.float32(np.arange(dim_x*dim_y).reshape([dim_y,dim_x]))\n",
        "\n",
        "print('data_mtx:')\n",
        "print(data_mtx)\n",
        "print('-----')\n",
        "\n",
        "data_gpu=gpuarray.to_gpu(data_mtx)\n",
        "\n",
        "my_mod = pycuda.driver.module_from_file('./show_mtx.ptx')\n",
        "show_mtx_ker = my_mod.get_function('show_mtx_ker')\n",
        "\n",
        "blocksize = 10\n",
        "gridsize = int(np.ceil(dim_x*dim_y / blocksize))\n",
        "\n",
        "print(f'block size: {blocksize}')\n",
        "print(f'grid size: {gridsize}')\n",
        "print('-----')\n",
        "\n",
        "show_mtx_ker(data_gpu, np.int32(dim_x), np.int32(dim_y), grid=(gridsize, 1, 1), block=(blocksize,1,1))\n"
      ],
      "metadata": {
        "colab": {
          "base_uri": "https://localhost:8080/"
        },
        "id": "PgEkTfY-pifd",
        "outputId": "e8839b50-23bb-4c6c-feda-abd863029d8c"
      },
      "execution_count": 4,
      "outputs": [
        {
          "output_type": "stream",
          "name": "stdout",
          "text": [
            "Overwriting test.py\n"
          ]
        }
      ]
    },
    {
      "cell_type": "code",
      "source": [
        "!python test.py"
      ],
      "metadata": {
        "id": "dDgamcRnQoVn",
        "colab": {
          "base_uri": "https://localhost:8080/"
        },
        "outputId": "1661a0f2-3c02-40eb-8d0f-33baf7eb9db0"
      },
      "execution_count": 5,
      "outputs": [
        {
          "output_type": "stream",
          "name": "stdout",
          "text": [
            "data_mtx:\n",
            "[[ 0.  1.  2.  3.  4.  5.  6.]\n",
            " [ 7.  8.  9. 10. 11. 12. 13.]\n",
            " [14. 15. 16. 17. 18. 19. 20.]\n",
            " [21. 22. 23. 24. 25. 26. 27.]\n",
            " [28. 29. 30. 31. 32. 33. 34.]]\n",
            "-----\n",
            "block size: 10\n",
            "grid size: 4\n",
            "-----\n",
            "Hello world from tid 20, thread 0, in block 2!\n",
            "Hello world from tid 21, thread 1, in block 2!\n",
            "Hello world from tid 22, thread 2, in block 2!\n",
            "Hello world from tid 23, thread 3, in block 2!\n",
            "Hello world from tid 24, thread 4, in block 2!\n",
            "Hello world from tid 25, thread 5, in block 2!\n",
            "Hello world from tid 26, thread 6, in block 2!\n",
            "Hello world from tid 27, thread 7, in block 2!\n",
            "Hello world from tid 28, thread 8, in block 2!\n",
            "Hello world from tid 29, thread 9, in block 2!\n",
            "Hello world from tid 30, thread 0, in block 3!\n",
            "Hello world from tid 31, thread 1, in block 3!\n",
            "Hello world from tid 32, thread 2, in block 3!\n",
            "Hello world from tid 33, thread 3, in block 3!\n",
            "Hello world from tid 34, thread 4, in block 3!\n",
            "Hello world from tid 35, thread 5, in block 3!\n",
            "Hello world from tid 36, thread 6, in block 3!\n",
            "Hello world from tid 37, thread 7, in block 3!\n",
            "Hello world from tid 38, thread 8, in block 3!\n",
            "Hello world from tid 39, thread 9, in block 3!\n",
            "Hello world from tid 10, thread 0, in block 1!\n",
            "Hello world from tid 11, thread 1, in block 1!\n",
            "Hello world from tid 12, thread 2, in block 1!\n",
            "Hello world from tid 13, thread 3, in block 1!\n",
            "Hello world from tid 14, thread 4, in block 1!\n",
            "Hello world from tid 15, thread 5, in block 1!\n",
            "Hello world from tid 16, thread 6, in block 1!\n",
            "Hello world from tid 17, thread 7, in block 1!\n",
            "Hello world from tid 18, thread 8, in block 1!\n",
            "Hello world from tid 19, thread 9, in block 1!\n",
            "Hello world from tid 0, thread 0, in block 0!\n",
            "Hello world from tid 1, thread 1, in block 0!\n",
            "Hello world from tid 2, thread 2, in block 0!\n",
            "Hello world from tid 3, thread 3, in block 0!\n",
            "Hello world from tid 4, thread 4, in block 0!\n",
            "Hello world from tid 5, thread 5, in block 0!\n",
            "Hello world from tid 6, thread 6, in block 0!\n",
            "Hello world from tid 7, thread 7, in block 0!\n",
            "Hello world from tid 8, thread 8, in block 0!\n",
            "Hello world from tid 9, thread 9, in block 0!\n",
            "---------\n",
            "---------\n",
            "---------\n",
            "---------\n",
            "---------\n",
            "---------\n",
            "---------\n",
            "tid: 0, col: 0, row: 0, mtx[row,col]: 0.000000\n",
            "tid: 1, col: 1, row: 0, mtx[row,col]: 1.000000\n",
            "tid: 2, col: 2, row: 0, mtx[row,col]: 2.000000\n",
            "tid: 3, col: 3, row: 0, mtx[row,col]: 3.000000\n",
            "tid: 4, col: 4, row: 0, mtx[row,col]: 4.000000\n",
            "tid: 5, col: 5, row: 0, mtx[row,col]: 5.000000\n",
            "tid: 6, col: 6, row: 0, mtx[row,col]: 6.000000\n",
            "tid: 0, col: 0, row: 1, mtx[row,col]: 7.000000\n",
            "tid: 1, col: 1, row: 1, mtx[row,col]: 8.000000\n",
            "tid: 2, col: 2, row: 1, mtx[row,col]: 9.000000\n",
            "tid: 3, col: 3, row: 1, mtx[row,col]: 10.000000\n",
            "tid: 4, col: 4, row: 1, mtx[row,col]: 11.000000\n",
            "tid: 5, col: 5, row: 1, mtx[row,col]: 12.000000\n",
            "tid: 6, col: 6, row: 1, mtx[row,col]: 13.000000\n",
            "tid: 0, col: 0, row: 2, mtx[row,col]: 14.000000\n",
            "tid: 1, col: 1, row: 2, mtx[row,col]: 15.000000\n",
            "tid: 2, col: 2, row: 2, mtx[row,col]: 16.000000\n",
            "tid: 3, col: 3, row: 2, mtx[row,col]: 17.000000\n",
            "tid: 4, col: 4, row: 2, mtx[row,col]: 18.000000\n",
            "tid: 5, col: 5, row: 2, mtx[row,col]: 19.000000\n",
            "tid: 6, col: 6, row: 2, mtx[row,col]: 20.000000\n",
            "tid: 0, col: 0, row: 3, mtx[row,col]: 21.000000\n",
            "tid: 1, col: 1, row: 3, mtx[row,col]: 22.000000\n",
            "tid: 2, col: 2, row: 3, mtx[row,col]: 23.000000\n",
            "tid: 3, col: 3, row: 3, mtx[row,col]: 24.000000\n",
            "tid: 4, col: 4, row: 3, mtx[row,col]: 25.000000\n",
            "tid: 5, col: 5, row: 3, mtx[row,col]: 26.000000\n",
            "tid: 6, col: 6, row: 3, mtx[row,col]: 27.000000\n",
            "tid: 0, col: 0, row: 4, mtx[row,col]: 28.000000\n",
            "tid: 1, col: 1, row: 4, mtx[row,col]: 29.000000\n",
            "tid: 2, col: 2, row: 4, mtx[row,col]: 30.000000\n",
            "tid: 3, col: 3, row: 4, mtx[row,col]: 31.000000\n",
            "tid: 4, col: 4, row: 4, mtx[row,col]: 32.000000\n",
            "tid: 5, col: 5, row: 4, mtx[row,col]: 33.000000\n",
            "tid: 6, col: 6, row: 4, mtx[row,col]: 34.000000\n"
          ]
        }
      ]
    },
    {
      "cell_type": "code",
      "source": [],
      "metadata": {
        "id": "OZ_gG897gWok"
      },
      "execution_count": null,
      "outputs": []
    }
  ],
  "metadata": {
    "kernelspec": {
      "display_name": "Python 3",
      "language": "python",
      "name": "python3"
    },
    "language_info": {
      "codemirror_mode": {
        "name": "ipython",
        "version": 3
      },
      "file_extension": ".py",
      "mimetype": "text/x-python",
      "name": "python",
      "nbconvert_exporter": "python",
      "pygments_lexer": "ipython3",
      "version": "3.6.13"
    },
    "toc": {
      "base_numbering": 1,
      "nav_menu": {},
      "number_sections": true,
      "sideBar": true,
      "skip_h1_title": false,
      "title_cell": "Table of Contents",
      "title_sidebar": "Contents",
      "toc_cell": false,
      "toc_position": {},
      "toc_section_display": true,
      "toc_window_display": false
    },
    "colab": {
      "provenance": []
    },
    "accelerator": "GPU",
    "gpuClass": "standard"
  },
  "nbformat": 4,
  "nbformat_minor": 0
}