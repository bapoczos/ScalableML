{
  "nbformat": 4,
  "nbformat_minor": 0,
  "metadata": {
    "colab": {
      "provenance": []
    },
    "kernelspec": {
      "name": "python3",
      "display_name": "Python 3"
    },
    "language_info": {
      "name": "python"
    },
    "accelerator": "GPU",
    "gpuClass": "standard"
  },
  "cells": [
    {
      "cell_type": "markdown",
      "source": [
        "Based on https://github.com/jsdnhk/python-parallel-programming-cookbook-code/tree/master/Chapter%206/PyCUDA\n",
        "\n",
        "\n",
        "\n"
      ],
      "metadata": {
        "id": "6xAZc4E93oJ1"
      }
    },
    {
      "cell_type": "code",
      "source": [
        "#!pip install pycuda"
      ],
      "metadata": {
        "id": "8r_Unujo2SBR"
      },
      "execution_count": 1,
      "outputs": []
    },
    {
      "cell_type": "code",
      "source": [
        "import pycuda.gpuarray as gpuarray\n",
        "import pycuda.autoinit\n",
        "import numpy as np\n",
        "from pycuda.reduction import ReductionKernel"
      ],
      "metadata": {
        "id": "ds-7n3Fs2XrL"
      },
      "execution_count": 2,
      "outputs": []
    },
    {
      "cell_type": "code",
      "source": [
        "vector_length = 400"
      ],
      "metadata": {
        "id": "oPwJQxuK4U_u"
      },
      "execution_count": 3,
      "outputs": []
    },
    {
      "cell_type": "code",
      "source": [
        "a = np.asarray(np.random.randn(vector_length), np.float32)\n",
        "b = np.asarray(np.random.randn(vector_length), np.float32)"
      ],
      "metadata": {
        "id": "8av_KS_P5CFl"
      },
      "execution_count": 4,
      "outputs": []
    },
    {
      "cell_type": "code",
      "source": [
        "np.dot(a,b)"
      ],
      "metadata": {
        "colab": {
          "base_uri": "https://localhost:8080/"
        },
        "id": "sZxSCOoX5OFD",
        "outputId": "3be045aa-2854-4ffd-cabb-fce1e328957e"
      },
      "execution_count": 5,
      "outputs": [
        {
          "output_type": "execute_result",
          "data": {
            "text/plain": [
              "-11.284399"
            ]
          },
          "metadata": {},
          "execution_count": 5
        }
      ]
    },
    {
      "cell_type": "code",
      "source": [
        "input_vector_a=gpuarray.to_gpu(a)\n",
        "input_vector_b=gpuarray.to_gpu(b)"
      ],
      "metadata": {
        "id": "rDn-ty704O_H"
      },
      "execution_count": 6,
      "outputs": []
    },
    {
      "cell_type": "code",
      "source": [
        "dot_product = ReductionKernel(np.float32,\n",
        "                       arguments=\"float *x, float *y\",\n",
        "                       map_expr=\"x[i]*y[i]\",\n",
        "                       reduce_expr=\"a+b\", neutral=\"0\")\n"
      ],
      "metadata": {
        "id": "nGUGWEYV5dV6"
      },
      "execution_count": 7,
      "outputs": []
    },
    {
      "cell_type": "code",
      "source": [
        "result = dot_product (input_vector_a, input_vector_b).get()\n"
      ],
      "metadata": {
        "id": "6X5VVWk55hvY"
      },
      "execution_count": 8,
      "outputs": []
    },
    {
      "cell_type": "code",
      "source": [
        "print(result)"
      ],
      "metadata": {
        "colab": {
          "base_uri": "https://localhost:8080/"
        },
        "id": "Apr71rLA5lVr",
        "outputId": "0a4bca87-11a7-468e-f1af-464747858324"
      },
      "execution_count": 9,
      "outputs": [
        {
          "output_type": "stream",
          "name": "stdout",
          "text": [
            "-11.284403\n"
          ]
        }
      ]
    },
    {
      "cell_type": "code",
      "source": [],
      "metadata": {
        "id": "gRJcSfUc5qAo"
      },
      "execution_count": null,
      "outputs": []
    }
  ]
}