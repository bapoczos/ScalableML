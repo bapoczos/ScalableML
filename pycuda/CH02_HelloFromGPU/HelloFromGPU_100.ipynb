{
  "nbformat": 4,
  "nbformat_minor": 0,
  "metadata": {
    "colab": {
      "provenance": []
    },
    "kernelspec": {
      "name": "python3",
      "display_name": "Python 3"
    },
    "language_info": {
      "name": "python"
    },
    "accelerator": "GPU",
    "gpuClass": "standard"
  },
  "cells": [
    {
      "cell_type": "code",
      "execution_count": 7,
      "metadata": {
        "colab": {
          "base_uri": "https://localhost:8080/"
        },
        "id": "v1nAZLtDmsCy",
        "outputId": "c9f7bddd-f4ee-44fd-c3a9-79de950b5d2f"
      },
      "outputs": [
        {
          "output_type": "stream",
          "name": "stdout",
          "text": [
            "Overwriting hello_world.cu\n"
          ]
        }
      ],
      "source": [
        "%%writefile hello_world.cu\n",
        "\n",
        "#include <cuda_runtime.h>\n",
        "#include <stdio.h>\n",
        "\n",
        "__global__ void helloFromGPU()\n",
        "{    \n",
        "\tprintf(\"Hello World from GPU!\\n\");\n",
        "}\n",
        "\n",
        "int main(int argc, char **argv)\n",
        "{    \n",
        "\tprintf(\"Hello World from CPU!\\n\");    \t\n",
        "\thelloFromGPU<<<1, 10>>>();    \t\n",
        "\tcudaDeviceReset();    \n",
        "\treturn 0;\n",
        "}"
      ]
    },
    {
      "cell_type": "markdown",
      "source": [
        "Let's compile the program. We need to call nvcc with a shell command. In Jupyter, shell commands start with !. We need to include the directories for the Cuda include files (-I) and Cuda libraries (-L). Let's link also the cuBlas and cuSolver libraries, since you might need them at some point. We don't specify the name of the executable, so it will be the default a.out. If everything goes well, executing the cell does not give any output. If the compiler has problems, you will see the error messages:"
      ],
      "metadata": {
        "id": "4jBqBxHznMm8"
      }
    },
    {
      "cell_type": "code",
      "source": [
        "!nvcc -I /usr/local/cuda/samples/common/inc/ -L/usr/local/cuda/include -lcublas -lcusolver -arch=sm_35 -Wno-deprecated-gpu-targets hello_world.cu"
      ],
      "metadata": {
        "id": "QHtppwbLnLxW"
      },
      "execution_count": 8,
      "outputs": []
    },
    {
      "cell_type": "code",
      "source": [
        "!./a.out"
      ],
      "metadata": {
        "colab": {
          "base_uri": "https://localhost:8080/"
        },
        "id": "uC3Nw7gRnktx",
        "outputId": "af375b12-be03-435e-bb66-1caefaa670b9"
      },
      "execution_count": 9,
      "outputs": [
        {
          "output_type": "stream",
          "name": "stdout",
          "text": [
            "Hello World from CPU!\n",
            "Hello World from GPU!\n",
            "Hello World from GPU!\n",
            "Hello World from GPU!\n",
            "Hello World from GPU!\n",
            "Hello World from GPU!\n",
            "Hello World from GPU!\n",
            "Hello World from GPU!\n",
            "Hello World from GPU!\n",
            "Hello World from GPU!\n",
            "Hello World from GPU!\n"
          ]
        }
      ]
    }
  ]
}