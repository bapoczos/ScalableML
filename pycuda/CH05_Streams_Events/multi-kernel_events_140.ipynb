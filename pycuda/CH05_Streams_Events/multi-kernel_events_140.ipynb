{
 "cells": [
  {
   "cell_type": "code",
   "execution_count": 1,
   "id": "15ad8617",
   "metadata": {},
   "outputs": [],
   "source": [
    "import pycuda.autoinit\n",
    "import pycuda.driver as drv\n",
    "from pycuda import gpuarray\n",
    "from pycuda.compiler import SourceModule\n",
    "import numpy as np\n",
    "from time import time\n"
   ]
  },
  {
   "cell_type": "code",
   "execution_count": 2,
   "id": "a898a601",
   "metadata": {},
   "outputs": [],
   "source": [
    "# We will create num_arrays (= 200) random arrays\n",
    "num_arrays = 200\n",
    "array_len = 1024**2\n"
   ]
  },
  {
   "cell_type": "code",
   "execution_count": 3,
   "id": "3b5e9aa3",
   "metadata": {},
   "outputs": [],
   "source": [
    "ker = SourceModule(\"\"\"       \n",
    "__global__ void mult_ker(float * array, int array_len)\n",
    "{\n",
    "     int thd = blockIdx.x*blockDim.x + threadIdx.x;\n",
    "     int num_iters = array_len / blockDim.x;\n",
    "     for(int j=0; j < num_iters; j++)\n",
    "     {\n",
    "         int i = j * blockDim.x + thd;\n",
    "         for(int k = 0; k < 50; k++)\n",
    "         {\n",
    "              array[i] *= 2.0;\n",
    "              array[i] /= 2.0;\n",
    "         }\n",
    "     }\n",
    "}\n",
    "\"\"\")\n",
    "\n",
    "mult_ker = ker.get_function('mult_ker')"
   ]
  },
  {
   "cell_type": "code",
   "execution_count": 4,
   "id": "a53a368f",
   "metadata": {},
   "outputs": [],
   "source": [
    "data = []\n",
    "data_gpu = []\n",
    "gpu_out = []\n",
    "streams = []\n",
    "start_events = []\n",
    "end_events = []\n"
   ]
  },
  {
   "cell_type": "code",
   "execution_count": 5,
   "id": "7c4aea90",
   "metadata": {},
   "outputs": [],
   "source": [
    "# We will process each array in a separate stream\n",
    "for _ in range(num_arrays):\n",
    "    streams.append(drv.Stream())\n",
    "    start_events.append(drv.Event())\n",
    "    end_events.append(drv.Event())\n"
   ]
  },
  {
   "cell_type": "code",
   "execution_count": 6,
   "id": "9506a3f4",
   "metadata": {},
   "outputs": [],
   "source": [
    "# generate random arrays.\n",
    "for _ in range(num_arrays):\n",
    "    data.append(np.random.randn(array_len).astype('float32'))\n"
   ]
  },
  {
   "cell_type": "code",
   "execution_count": 7,
   "id": "3e18008d",
   "metadata": {},
   "outputs": [],
   "source": [
    "t_start = time()\n",
    "\n",
    "# copy arrays to GPU. Async for each stream\n",
    "for k in range(num_arrays):\n",
    "    data_gpu.append(gpuarray.to_gpu_async(data[k], stream=streams[k]))\n",
    "\n",
    "# process arrays. Async for each stream.\n",
    "for k in range(num_arrays):\n",
    "    start_events[k].record(streams[k])\n",
    "    mult_ker(data_gpu[k], np.int32(array_len), block=(64,1,1), grid=(1,1,1), stream=streams[k])\n",
    "for k in range(num_arrays):\n",
    "    end_events[k].record(streams[k])\n",
    "    \n",
    "# copy arrays from GPU.\n",
    "for k in range(num_arrays):\n",
    "    gpu_out.append(data_gpu[k].get_async(stream=streams[k]))\n",
    "\n",
    "t_end = time()"
   ]
  },
  {
   "cell_type": "code",
   "execution_count": 8,
   "id": "dc1aeb71",
   "metadata": {},
   "outputs": [
    {
     "name": "stdout",
     "output_type": "stream",
     "text": [
      "Total time: 0.422611\n"
     ]
    }
   ],
   "source": [
    "print('Total time: %f' % (t_end - t_start))"
   ]
  },
  {
   "cell_type": "code",
   "execution_count": 9,
   "id": "fde6c7d3",
   "metadata": {},
   "outputs": [
    {
     "name": "stdout",
     "output_type": "stream",
     "text": [
      "Mean kernel duration (milliseconds): 50.389043\n",
      "Mean kernel standard deviation (milliseconds): 24.563471\n"
     ]
    }
   ],
   "source": [
    "kernel_times = []\n",
    "\n",
    "for k in range(num_arrays):\n",
    "    kernel_times.append(start_events[k].time_till(end_events[k]))\n",
    "\n",
    "\n",
    "print('Mean kernel duration (milliseconds): %f' % np.mean(kernel_times))\n",
    "print('Mean kernel standard deviation (milliseconds): %f' % np.std(kernel_times))"
   ]
  },
  {
   "cell_type": "code",
   "execution_count": 10,
   "id": "5b48f8fb",
   "metadata": {},
   "outputs": [
    {
     "name": "stderr",
     "output_type": "stream",
     "text": [
      "/home/barnabas/anaconda3/envs/py36/lib/python3.6/site-packages/ipykernel_launcher.py:4: MatplotlibDeprecationWarning: Adding an axes using the same arguments as a previous axes currently reuses the earlier instance.  In a future version, a new instance will always be created and returned.  Meanwhile, this warning can be suppressed, and the future behavior ensured, by passing a unique label to each axes instance.\n",
      "  after removing the cwd from sys.path.\n"
     ]
    },
    {
     "data": {
      "text/plain": [
       "[<matplotlib.axis.XTick at 0x7f3ea8c47320>,\n",
       " <matplotlib.axis.XTick at 0x7f3e893ed9b0>,\n",
       " <matplotlib.axis.XTick at 0x7f3e893ed5c0>,\n",
       " <matplotlib.axis.XTick at 0x7f3e893a9630>,\n",
       " <matplotlib.axis.XTick at 0x7f3e893a9ac8>,\n",
       " <matplotlib.axis.XTick at 0x7f3e8933c080>,\n",
       " <matplotlib.axis.XTick at 0x7f3e8933c438>,\n",
       " <matplotlib.axis.XTick at 0x7f3e8933c8d0>]"
      ]
     },
     "execution_count": 10,
     "metadata": {},
     "output_type": "execute_result"
    },
    {
     "data": {
      "image/png": "[encoded data removed]",
      "text/plain": [
       "<Figure size 1080x360 with 1 Axes>"
      ]
     },
     "metadata": {
      "needs_background": "light"
     },
     "output_type": "display_data"
    }
   ],
   "source": [
    "from matplotlib import pyplot as plt\n",
    "plt.rcParams['figure.figsize'] = [15, 5]\n",
    "plt.plot(kernel_times, '*')\n",
    "ax = plt.axes()\n",
    "ax.set_xticks([0, 32, 64,96,128,160,192,200])\n"
   ]
  },
  {
   "cell_type": "code",
   "execution_count": 11,
   "id": "4db833d2",
   "metadata": {},
   "outputs": [],
   "source": [
    "for k in range(num_arrays):\n",
    "    assert (np.allclose(gpu_out[k], data[k]))\n"
   ]
  },
  {
   "cell_type": "code",
   "execution_count": null,
   "id": "fc37d452",
   "metadata": {},
   "outputs": [],
   "source": []
  }
 ],
 "metadata": {
  "kernelspec": {
   "display_name": "Python 3",
   "language": "python",
   "name": "python3"
  },
  "language_info": {
   "codemirror_mode": {
    "name": "ipython",
    "version": 3
   },
   "file_extension": ".py",
   "mimetype": "text/x-python",
   "name": "python",
   "nbconvert_exporter": "python",
   "pygments_lexer": "ipython3",
   "version": "3.6.13"
  },
  "toc": {
   "base_numbering": 1,
   "nav_menu": {},
   "number_sections": true,
   "sideBar": true,
   "skip_h1_title": false,
   "title_cell": "Table of Contents",
   "title_sidebar": "Contents",
   "toc_cell": false,
   "toc_position": {},
   "toc_section_display": true,
   "toc_window_display": false
  }
 },
 "nbformat": 4,
 "nbformat_minor": 5
}
