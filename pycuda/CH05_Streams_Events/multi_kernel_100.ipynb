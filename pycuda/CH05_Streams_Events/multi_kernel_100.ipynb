{
  "cells": [
    {
      "cell_type": "code",
      "source": [
        "!pip install pycuda"
      ],
      "metadata": {
        "id": "rvR1RQA2MGKy",
        "outputId": "0ff912d9-9761-4f14-cc8a-3024ff7a95e7",
        "colab": {
          "base_uri": "https://localhost:8080/"
        }
      },
      "execution_count": 1,
      "outputs": [
        {
          "output_type": "stream",
          "name": "stdout",
          "text": [
            "Looking in indexes: https://pypi.org/simple, https://us-python.pkg.dev/colab-wheels/public/simple/\n",
            "Collecting pycuda\n",
            "  Downloading pycuda-2022.2.2.tar.gz (1.7 MB)\n",
            "\u001b[2K     \u001b[90m━━━━━━━━━━━━━━━━━━━━━━━━━━━━━━━━━━━━━━━━\u001b[0m \u001b[32m1.7/1.7 MB\u001b[0m \u001b[31m20.5 MB/s\u001b[0m eta \u001b[36m0:00:00\u001b[0m\n",
            "\u001b[?25h  Installing build dependencies ... \u001b[?25l\u001b[?25hdone\n",
            "  Getting requirements to build wheel ... \u001b[?25l\u001b[?25hdone\n",
            "  Preparing metadata (pyproject.toml) ... \u001b[?25l\u001b[?25hdone\n",
            "Collecting mako\n",
            "  Downloading Mako-1.2.4-py3-none-any.whl (78 kB)\n",
            "\u001b[2K     \u001b[90m━━━━━━━━━━━━━━━━━━━━━━━━━━━━━━━━━━━━━━━━\u001b[0m \u001b[32m78.7/78.7 KB\u001b[0m \u001b[31m10.1 MB/s\u001b[0m eta \u001b[36m0:00:00\u001b[0m\n",
            "\u001b[?25hCollecting pytools>=2011.2\n",
            "  Downloading pytools-2022.1.14.tar.gz (74 kB)\n",
            "\u001b[2K     \u001b[90m━━━━━━━━━━━━━━━━━━━━━━━━━━━━━━━━━━━━━━━━\u001b[0m \u001b[32m74.6/74.6 KB\u001b[0m \u001b[31m11.6 MB/s\u001b[0m eta \u001b[36m0:00:00\u001b[0m\n",
            "\u001b[?25h  Preparing metadata (setup.py) ... \u001b[?25l\u001b[?25hdone\n",
            "Collecting appdirs>=1.4.0\n",
            "  Downloading appdirs-1.4.4-py2.py3-none-any.whl (9.6 kB)\n",
            "Requirement already satisfied: platformdirs>=2.2.0 in /usr/local/lib/python3.9/dist-packages (from pytools>=2011.2->pycuda) (3.1.1)\n",
            "Requirement already satisfied: typing_extensions>=4.0 in /usr/local/lib/python3.9/dist-packages (from pytools>=2011.2->pycuda) (4.5.0)\n",
            "Requirement already satisfied: MarkupSafe>=0.9.2 in /usr/local/lib/python3.9/dist-packages (from mako->pycuda) (2.1.2)\n",
            "Building wheels for collected packages: pycuda, pytools\n",
            "  Building wheel for pycuda (pyproject.toml) ... \u001b[?25l\u001b[?25hdone\n",
            "  Created wheel for pycuda: filename=pycuda-2022.2.2-cp39-cp39-linux_x86_64.whl size=661963 sha256=ae07f1c8dccb57f1c0791ac1341cd6f4176023d68afd8c0dd1aae7ea68f8cdd7\n",
            "  Stored in directory: /root/.cache/pip/wheels/82/09/27/74d8e31ed19c530166e0d263aabe1ea57465e255615bda8fc0\n",
            "  Building wheel for pytools (setup.py) ... \u001b[?25l\u001b[?25hdone\n",
            "  Created wheel for pytools: filename=pytools-2022.1.14-py2.py3-none-any.whl size=69866 sha256=96127eaff3581cf799914b100c998573ef9dc3b48c183be0a8cae756466dfc43\n",
            "  Stored in directory: /root/.cache/pip/wheels/76/ee/8c/332750bd78e80cdef14a96eb5b539adf0dcda50a97bbdfcbd8\n",
            "Successfully built pycuda pytools\n",
            "Installing collected packages: appdirs, pytools, mako, pycuda\n",
            "Successfully installed appdirs-1.4.4 mako-1.2.4 pycuda-2022.2.2 pytools-2022.1.14\n"
          ]
        }
      ]
    },
    {
      "cell_type": "markdown",
      "source": [
        "**In this demo we will run kernels sequentially** <br>\n",
        "The next kernel function will start when the previous finished."
      ],
      "metadata": {
        "id": "ho-zsp5AMLfj"
      }
    },
    {
      "cell_type": "code",
      "execution_count": 2,
      "metadata": {
        "id": "KIdqmEl9MEjT"
      },
      "outputs": [],
      "source": [
        "import pycuda.autoinit\n",
        "import pycuda.driver as drv\n",
        "from pycuda import gpuarray\n",
        "from pycuda.compiler import SourceModule\n",
        "import numpy as np\n",
        "from time import time\n"
      ]
    },
    {
      "cell_type": "code",
      "execution_count": 3,
      "metadata": {
        "id": "0lJAazwrMEjW"
      },
      "outputs": [],
      "source": [
        "num_arrays = 200 # We will create 200 random arrays\n",
        "\n",
        "array_len = 1024**2 # the length of each array\n"
      ]
    },
    {
      "cell_type": "code",
      "execution_count": 4,
      "metadata": {
        "id": "65bfoy8mMEjW"
      },
      "outputs": [],
      "source": [
        "ker = SourceModule(\"\"\"       \n",
        "__global__ void mult_ker(float * array, int array_len)\n",
        "{\n",
        "     \n",
        "     // we will use one block with blockDim.x=64 number of threads.\n",
        "     \n",
        "     // we will need num_iters number of iterations \n",
        "     // to process one array with the 64 threads\n",
        "     int num_iters = array_len / blockDim.x;\n",
        "\n",
        "     // the current thread id out of the 64 threads\n",
        "     int thd = blockIdx.x*blockDim.x + threadIdx.x; \n",
        "     \n",
        "     // iterate over different parts of the array\n",
        "     for(int j=0; j < num_iters; j++)\n",
        "     {\n",
        "         int i = j * blockDim.x + thd;\n",
        "\n",
        "         for(int k = 0; k < 50; k++) // run this 50  times just to spend some time\n",
        "         {\n",
        "              array[i] *= 2.0; //multiply by 2.0\n",
        "              array[i] /= 2.0; //then devide by 2.0\n",
        "         }\n",
        "     }\n",
        "\n",
        "}\n",
        "\"\"\")\n",
        "\n",
        "mult_ker = ker.get_function('mult_ker')\n"
      ]
    },
    {
      "cell_type": "code",
      "execution_count": 5,
      "metadata": {
        "id": "3Xds-d7FMEjX"
      },
      "outputs": [],
      "source": [
        "data = []\n",
        "data_gpu = []\n",
        "gpu_out = []\n"
      ]
    },
    {
      "cell_type": "code",
      "execution_count": 6,
      "metadata": {
        "id": "syqz34dCMEjX"
      },
      "outputs": [],
      "source": [
        "# generate 200 random arrays and put them into the data list\n",
        "for _ in range(num_arrays):\n",
        "    data.append(np.random.randn(array_len).astype('float32'))\n"
      ]
    },
    {
      "cell_type": "code",
      "source": [
        "print(len(data))\n",
        "print(data[0].shape)"
      ],
      "metadata": {
        "colab": {
          "base_uri": "https://localhost:8080/"
        },
        "id": "3nnJkUqxP1Z0",
        "outputId": "5615cbdb-dfac-44f9-acec-32e15a6f2948"
      },
      "execution_count": 9,
      "outputs": [
        {
          "output_type": "stream",
          "name": "stdout",
          "text": [
            "200\n",
            "(1048576,)\n"
          ]
        }
      ]
    },
    {
      "cell_type": "code",
      "execution_count": 10,
      "metadata": {
        "id": "mSveIONIMEjX",
        "outputId": "2aec8927-411f-4d74-c7e0-458fa33af191",
        "colab": {
          "base_uri": "https://localhost:8080/"
        }
      },
      "outputs": [
        {
          "output_type": "stream",
          "name": "stdout",
          "text": [
            "Total time: 2.756657\n"
          ]
        }
      ],
      "source": [
        "t_start = time()\n",
        "\n",
        "# copy arrays to the GPU. Serial upload\n",
        "for k in range(num_arrays):\n",
        "    data_gpu.append(gpuarray.to_gpu(data[k]))\n",
        "\n",
        "# process arrays. Run num_arrays (= 200) kernel functions serially.\n",
        "for k in range(num_arrays):\n",
        "    mult_ker(data_gpu[k], np.int32(array_len), block=(64,1,1), grid=(1,1,1))\n",
        "\n",
        "# copy arrays from GPU. Serial data download.\n",
        "for k in range(num_arrays):\n",
        "    gpu_out.append(data_gpu[k].get())\n",
        "\n",
        "t_end = time()\n",
        "\n",
        "print('Total time: %f' % (t_end - t_start))\n"
      ]
    },
    {
      "cell_type": "code",
      "execution_count": 11,
      "metadata": {
        "id": "zATrFhIBMEjY"
      },
      "outputs": [],
      "source": [
        "# check if output looks good.\n",
        "for k in range(num_arrays):\n",
        "    assert (np.allclose(gpu_out[k], data[k]))\n",
        "\n"
      ]
    },
    {
      "cell_type": "code",
      "execution_count": null,
      "metadata": {
        "id": "2DbRDlEqMEjY"
      },
      "outputs": [],
      "source": []
    }
  ],
  "metadata": {
    "kernelspec": {
      "display_name": "Python 3",
      "language": "python",
      "name": "python3"
    },
    "language_info": {
      "codemirror_mode": {
        "name": "ipython",
        "version": 3
      },
      "file_extension": ".py",
      "mimetype": "text/x-python",
      "name": "python",
      "nbconvert_exporter": "python",
      "pygments_lexer": "ipython3",
      "version": "3.6.13"
    },
    "toc": {
      "base_numbering": 1,
      "nav_menu": {},
      "number_sections": true,
      "sideBar": true,
      "skip_h1_title": false,
      "title_cell": "Table of Contents",
      "title_sidebar": "Contents",
      "toc_cell": false,
      "toc_position": {},
      "toc_section_display": true,
      "toc_window_display": false
    },
    "colab": {
      "provenance": []
    },
    "accelerator": "GPU",
    "gpuClass": "standard"
  },
  "nbformat": 4,
  "nbformat_minor": 0
}