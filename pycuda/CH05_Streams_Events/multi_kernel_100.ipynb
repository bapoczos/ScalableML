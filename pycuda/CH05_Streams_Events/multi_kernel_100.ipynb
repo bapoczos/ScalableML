{
 "cells": [
  {
   "cell_type": "code",
   "execution_count": 1,
   "metadata": {},
   "outputs": [],
   "source": [
    "import pycuda.autoinit\n",
    "import pycuda.driver as drv\n",
    "from pycuda import gpuarray\n",
    "from pycuda.compiler import SourceModule\n",
    "import numpy as np\n",
    "from time import time\n"
   ]
  },
  {
   "cell_type": "code",
   "execution_count": 2,
   "metadata": {},
   "outputs": [],
   "source": [
    "num_arrays = 200 # We will create 200 random arrays\n",
    "\n",
    "array_len = 1024**2 # the length of the arrays\n"
   ]
  },
  {
   "cell_type": "code",
   "execution_count": 3,
   "metadata": {},
   "outputs": [],
   "source": [
    "ker = SourceModule(\"\"\"       \n",
    "__global__ void mult_ker(float * array, int array_len)\n",
    "{\n",
    "     \n",
    "     // we will use one block with blockDim.x=64 number of threads.\n",
    "     \n",
    "     // we will need num_iters number of iterations to process one array\n",
    "     int num_iters = array_len / blockDim.x;\n",
    "\n",
    "     // current thread id\n",
    "     int thd = blockIdx.x*blockDim.x + threadIdx.x; \n",
    "     \n",
    "     // iterate over different parts of the array\n",
    "     for(int j=0; j < num_iters; j++)\n",
    "     {\n",
    "         int i = j * blockDim.x + thd;\n",
    "\n",
    "         for(int k = 0; k < 50; k++)\n",
    "         {\n",
    "              array[i] *= 2.0;\n",
    "              array[i] /= 2.0;\n",
    "         }\n",
    "     }\n",
    "\n",
    "}\n",
    "\"\"\")\n",
    "\n",
    "mult_ker = ker.get_function('mult_ker')\n"
   ]
  },
  {
   "cell_type": "code",
   "execution_count": 4,
   "metadata": {},
   "outputs": [],
   "source": [
    "data = []\n",
    "data_gpu = []\n",
    "gpu_out = []\n"
   ]
  },
  {
   "cell_type": "code",
   "execution_count": 5,
   "metadata": {},
   "outputs": [],
   "source": [
    "# generate random arrays.\n",
    "for _ in range(num_arrays):\n",
    "    data.append(np.random.randn(array_len).astype('float32'))\n"
   ]
  },
  {
   "cell_type": "code",
   "execution_count": 8,
   "metadata": {},
   "outputs": [
    {
     "name": "stdout",
     "output_type": "stream",
     "text": [
      "Total time: 2.873603\n"
     ]
    }
   ],
   "source": [
    "t_start = time()\n",
    "\n",
    "# copy arrays to GPU.Serial upload\n",
    "for k in range(num_arrays):\n",
    "    data_gpu.append(gpuarray.to_gpu(data[k]))\n",
    "\n",
    "# process arrays.Run num_arrays (= 200) kernel functions serially.\n",
    "for k in range(num_arrays):\n",
    "    mult_ker(data_gpu[k], np.int32(array_len), block=(64,1,1), grid=(1,1,1))\n",
    "\n",
    "# copy arrays from GPU.Serial data download.\n",
    "for k in range(num_arrays):\n",
    "    gpu_out.append(data_gpu[k].get())\n",
    "\n",
    "t_end = time()\n",
    "\n",
    "print('Total time: %f' % (t_end - t_start))\n"
   ]
  },
  {
   "cell_type": "code",
   "execution_count": 9,
   "metadata": {},
   "outputs": [],
   "source": [
    "for k in range(num_arrays):\n",
    "    assert (np.allclose(gpu_out[k], data[k]))\n",
    "\n"
   ]
  },
  {
   "cell_type": "code",
   "execution_count": null,
   "metadata": {},
   "outputs": [],
   "source": []
  }
 ],
 "metadata": {
  "kernelspec": {
   "display_name": "Python 3",
   "language": "python",
   "name": "python3"
  },
  "language_info": {
   "codemirror_mode": {
    "name": "ipython",
    "version": 3
   },
   "file_extension": ".py",
   "mimetype": "text/x-python",
   "name": "python",
   "nbconvert_exporter": "python",
   "pygments_lexer": "ipython3",
   "version": "3.6.13"
  },
  "toc": {
   "base_numbering": 1,
   "nav_menu": {},
   "number_sections": true,
   "sideBar": true,
   "skip_h1_title": false,
   "title_cell": "Table of Contents",
   "title_sidebar": "Contents",
   "toc_cell": false,
   "toc_position": {},
   "toc_section_display": true,
   "toc_window_display": false
  }
 },
 "nbformat": 4,
 "nbformat_minor": 2
}
