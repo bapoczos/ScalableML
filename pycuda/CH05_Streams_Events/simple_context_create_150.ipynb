{
 "cells": [
  {
   "cell_type": "code",
   "execution_count": 1,
   "id": "25290226",
   "metadata": {},
   "outputs": [],
   "source": [
    "import numpy as np\n",
    "from pycuda import gpuarray\n",
    "import pycuda.driver as drv"
   ]
  },
  {
   "cell_type": "code",
   "execution_count": 2,
   "id": "839aea4f",
   "metadata": {},
   "outputs": [],
   "source": [
    "drv.init()\n",
    "dev = drv.Device(0)\n",
    "ctx = dev.make_context()"
   ]
  },
  {
   "cell_type": "code",
   "execution_count": 3,
   "id": "9f7af3e6",
   "metadata": {},
   "outputs": [
    {
     "name": "stdout",
     "output_type": "stream",
     "text": [
      "[1. 2. 3.]\n"
     ]
    }
   ],
   "source": [
    "x = gpuarray.to_gpu(np.float32([1,2,3]))\n",
    "print(x.get())\n"
   ]
  },
  {
   "cell_type": "code",
   "execution_count": 4,
   "id": "d2b3ea1a",
   "metadata": {},
   "outputs": [],
   "source": [
    "ctx.pop()"
   ]
  },
  {
   "cell_type": "code",
   "execution_count": null,
   "id": "96b3122d",
   "metadata": {},
   "outputs": [],
   "source": []
  }
 ],
 "metadata": {
  "kernelspec": {
   "display_name": "Python 3",
   "language": "python",
   "name": "python3"
  },
  "language_info": {
   "codemirror_mode": {
    "name": "ipython",
    "version": 3
   },
   "file_extension": ".py",
   "mimetype": "text/x-python",
   "name": "python",
   "nbconvert_exporter": "python",
   "pygments_lexer": "ipython3",
   "version": "3.6.13"
  },
  "toc": {
   "base_numbering": 1,
   "nav_menu": {},
   "number_sections": true,
   "sideBar": true,
   "skip_h1_title": false,
   "title_cell": "Table of Contents",
   "title_sidebar": "Contents",
   "toc_cell": false,
   "toc_position": {},
   "toc_section_display": true,
   "toc_window_display": false
  }
 },
 "nbformat": 4,
 "nbformat_minor": 5
}
