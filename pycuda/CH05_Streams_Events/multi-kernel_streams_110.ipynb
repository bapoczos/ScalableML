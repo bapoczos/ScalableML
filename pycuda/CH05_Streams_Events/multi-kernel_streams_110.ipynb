{
 "cells": [
  {
   "cell_type": "code",
   "execution_count": 1,
   "id": "fd185a0b",
   "metadata": {},
   "outputs": [],
   "source": [
    "import pycuda.autoinit\n",
    "import pycuda.driver as drv\n",
    "from pycuda import gpuarray\n",
    "from pycuda.compiler import SourceModule\n",
    "import numpy as np\n",
    "from time import time"
   ]
  },
  {
   "cell_type": "code",
   "execution_count": 2,
   "id": "ee542a52",
   "metadata": {},
   "outputs": [],
   "source": [
    "num_arrays = 200\n",
    "array_len = 1024**2"
   ]
  },
  {
   "cell_type": "code",
   "execution_count": 3,
   "id": "1b7540d7",
   "metadata": {},
   "outputs": [],
   "source": [
    "ker = SourceModule(\"\"\"       \n",
    "__global__ void mult_ker(float * array, int array_len)\n",
    "{\n",
    "     int thd = blockIdx.x*blockDim.x + threadIdx.x;\n",
    "     int num_iters = array_len / blockDim.x;\n",
    "\n",
    "     for(int j=0; j < num_iters; j++)\n",
    "     {\n",
    "         int i = j * blockDim.x + thd;\n",
    "\n",
    "         for(int k = 0; k < 50; k++)\n",
    "         {\n",
    "              array[i] *= 2.0;\n",
    "              array[i] /= 2.0;\n",
    "         }\n",
    "     }\n",
    "\n",
    "}\n",
    "\"\"\")\n",
    "\n",
    "mult_ker = ker.get_function('mult_ker')\n"
   ]
  },
  {
   "cell_type": "code",
   "execution_count": 4,
   "id": "d63e49d7",
   "metadata": {},
   "outputs": [],
   "source": [
    "data = []\n",
    "data_gpu = []\n",
    "gpu_out = []\n",
    "streams = []\n",
    "\n",
    "for _ in range(num_arrays):\n",
    "    streams.append(drv.Stream())\n"
   ]
  },
  {
   "cell_type": "code",
   "execution_count": 5,
   "id": "33efaf13",
   "metadata": {},
   "outputs": [],
   "source": [
    "\n",
    "# generate random arrays.\n",
    "for _ in range(num_arrays):\n",
    "    data.append(np.random.randn(array_len).astype('float32'))\n"
   ]
  },
  {
   "cell_type": "code",
   "execution_count": 6,
   "id": "e4909d67",
   "metadata": {},
   "outputs": [
    {
     "name": "stdout",
     "output_type": "stream",
     "text": [
      "Total time: 0.424322\n"
     ]
    }
   ],
   "source": [
    "\n",
    "t_start = time()\n",
    "\n",
    "# copy arrays to GPU. Async data upload with streams.\n",
    "for k in range(num_arrays):\n",
    "    data_gpu.append(gpuarray.to_gpu_async(data[k], stream=streams[k]))\n",
    "\n",
    "# process arrays.  Async data processing with streams. Each stream has 64 threads\n",
    "for k in range(num_arrays):\n",
    "    \n",
    "    mult_ker(data_gpu[k], np.int32(array_len), block=(64,1,1), grid=(1,1,1), stream=streams[k])\n",
    "\n",
    "# copy arrays from GPU.Async data download with streams.\n",
    "for k in range(num_arrays):\n",
    "    gpu_out.append(data_gpu[k].get_async(stream=streams[k]))\n",
    "\n",
    "t_end = time()\n",
    "\n",
    "print('Total time: %f' % (t_end - t_start))\n"
   ]
  },
  {
   "cell_type": "code",
   "execution_count": 7,
   "id": "b36a7cc1",
   "metadata": {},
   "outputs": [],
   "source": [
    "for k in range(num_arrays):\n",
    "    assert (np.allclose(gpu_out[k], data[k]))\n",
    "\n"
   ]
  },
  {
   "cell_type": "code",
   "execution_count": null,
   "id": "983440d2",
   "metadata": {},
   "outputs": [],
   "source": []
  }
 ],
 "metadata": {
  "kernelspec": {
   "display_name": "Python 3",
   "language": "python",
   "name": "python3"
  },
  "language_info": {
   "codemirror_mode": {
    "name": "ipython",
    "version": 3
   },
   "file_extension": ".py",
   "mimetype": "text/x-python",
   "name": "python",
   "nbconvert_exporter": "python",
   "pygments_lexer": "ipython3",
   "version": "3.6.13"
  },
  "toc": {
   "base_numbering": 1,
   "nav_menu": {},
   "number_sections": true,
   "sideBar": true,
   "skip_h1_title": false,
   "title_cell": "Table of Contents",
   "title_sidebar": "Contents",
   "toc_cell": false,
   "toc_position": {},
   "toc_section_display": true,
   "toc_window_display": false
  }
 },
 "nbformat": 4,
 "nbformat_minor": 5
}
