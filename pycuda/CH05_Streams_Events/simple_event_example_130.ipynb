{
 "cells": [
  {
   "cell_type": "code",
   "execution_count": 1,
   "id": "4d750ad3",
   "metadata": {},
   "outputs": [],
   "source": [
    "import pycuda.autoinit\n",
    "import pycuda.driver as drv\n",
    "from pycuda import gpuarray\n",
    "from pycuda.compiler import SourceModule\n",
    "import numpy as np\n",
    "from time import time\n"
   ]
  },
  {
   "cell_type": "code",
   "execution_count": 2,
   "id": "e13dde3a",
   "metadata": {},
   "outputs": [],
   "source": [
    "ker = SourceModule(\"\"\"       \n",
    "__global__ void mult_ker(float * array, int array_len)\n",
    "{\n",
    "     int thd = blockIdx.x*blockDim.x + threadIdx.x;\n",
    "     int num_iters = array_len / blockDim.x;\n",
    "\n",
    "     for(int j=0; j < num_iters; j++)\n",
    "     {\n",
    "         int i = j * blockDim.x + thd;\n",
    "\n",
    "         for(int k = 0; k < 50; k++)\n",
    "         {\n",
    "              array[i] *= 2.0;\n",
    "              array[i] /= 2.0;\n",
    "         }\n",
    "     }\n",
    "}\n",
    "\"\"\")\n",
    "\n",
    "mult_ker = ker.get_function('mult_ker')\n"
   ]
  },
  {
   "cell_type": "code",
   "execution_count": 3,
   "id": "3808640e",
   "metadata": {},
   "outputs": [
    {
     "name": "stdout",
     "output_type": "stream",
     "text": [
      "(104857600,)\n"
     ]
    }
   ],
   "source": [
    "array_len = 100*1024**2\n",
    "\n",
    "data = np.random.randn(array_len).astype('float32')\n",
    "data_gpu = gpuarray.to_gpu(data)\n",
    "print(data_gpu.shape)"
   ]
  },
  {
   "cell_type": "code",
   "execution_count": 4,
   "id": "48e87191",
   "metadata": {},
   "outputs": [
    {
     "name": "stdout",
     "output_type": "stream",
     "text": [
      "1 Has the kernel started yet? True\n",
      "2 Has the kernel started yet? True\n",
      "3 Has the kernel ended yet? True\n",
      "4 Has the kernel ended yet? False\n",
      "5 Has the kernel started yet? True\n",
      "6 Has the kernel ended yet? True\n",
      "Kernel execution time in milliseconds: 1252.224365 \n"
     ]
    }
   ],
   "source": [
    "start_event = drv.Event()\n",
    "end_event = drv.Event()\n",
    "\n",
    "print('1 Has the kernel started yet? {}'.format(start_event.query()))\n",
    "start_event.record()\n",
    "print('2 Has the kernel started yet? {}'.format(start_event.query()))\n",
    "mult_ker(data_gpu, np.int32(array_len), block=(64,1,1), grid=(1,1,1))\n",
    "\n",
    "print('3 Has the kernel ended yet? {}'.format(end_event.query()))\n",
    "end_event.record()\n",
    "print('4 Has the kernel ended yet? {}'.format(end_event.query()))\n",
    "end_event.synchronize()\n",
    "\n",
    "print('5 Has the kernel started yet? {}'.format(start_event.query()))\n",
    "print('6 Has the kernel ended yet? {}'.format(end_event.query()))\n",
    "\n",
    "print('Kernel execution time in milliseconds: %f ' % start_event.time_till(end_event))"
   ]
  },
  {
   "cell_type": "code",
   "execution_count": null,
   "id": "1fc7efef",
   "metadata": {},
   "outputs": [],
   "source": []
  }
 ],
 "metadata": {
  "kernelspec": {
   "display_name": "Python 3",
   "language": "python",
   "name": "python3"
  },
  "language_info": {
   "codemirror_mode": {
    "name": "ipython",
    "version": 3
   },
   "file_extension": ".py",
   "mimetype": "text/x-python",
   "name": "python",
   "nbconvert_exporter": "python",
   "pygments_lexer": "ipython3",
   "version": "3.6.13"
  },
  "toc": {
   "base_numbering": 1,
   "nav_menu": {},
   "number_sections": true,
   "sideBar": true,
   "skip_h1_title": false,
   "title_cell": "Table of Contents",
   "title_sidebar": "Contents",
   "toc_cell": false,
   "toc_position": {},
   "toc_section_display": true,
   "toc_window_display": false
  }
 },
 "nbformat": 4,
 "nbformat_minor": 5
}
