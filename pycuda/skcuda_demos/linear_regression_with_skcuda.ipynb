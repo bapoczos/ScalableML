{
  "cells": [
    {
      "cell_type": "code",
      "source": [
        "!nvidia-smi"
      ],
      "metadata": {
        "colab": {
          "base_uri": "https://localhost:8080/"
        },
        "id": "QEXzneHuAhtR",
        "outputId": "b53dcf80-0448-4bd5-e507-70cb0955824e"
      },
      "id": "QEXzneHuAhtR",
      "execution_count": 1,
      "outputs": [
        {
          "output_type": "stream",
          "name": "stdout",
          "text": [
            "Sun Mar 26 05:25:25 2023       \n",
            "+-----------------------------------------------------------------------------+\n",
            "| NVIDIA-SMI 525.85.12    Driver Version: 525.85.12    CUDA Version: 12.0     |\n",
            "|-------------------------------+----------------------+----------------------+\n",
            "| GPU  Name        Persistence-M| Bus-Id        Disp.A | Volatile Uncorr. ECC |\n",
            "| Fan  Temp  Perf  Pwr:Usage/Cap|         Memory-Usage | GPU-Util  Compute M. |\n",
            "|                               |                      |               MIG M. |\n",
            "|===============================+======================+======================|\n",
            "|   0  Tesla T4            Off  | 00000000:00:04.0 Off |                    0 |\n",
            "| N/A   48C    P8    16W /  70W |      0MiB / 15360MiB |      0%      Default |\n",
            "|                               |                      |                  N/A |\n",
            "+-------------------------------+----------------------+----------------------+\n",
            "                                                                               \n",
            "+-----------------------------------------------------------------------------+\n",
            "| Processes:                                                                  |\n",
            "|  GPU   GI   CI        PID   Type   Process name                  GPU Memory |\n",
            "|        ID   ID                                                   Usage      |\n",
            "|=============================================================================|\n",
            "|  No running processes found                                                 |\n",
            "+-----------------------------------------------------------------------------+\n"
          ]
        }
      ]
    },
    {
      "cell_type": "code",
      "source": [
        "#!pip install pycuda scikit-cuda"
      ],
      "metadata": {
        "id": "m3nKrraDAkEU"
      },
      "id": "m3nKrraDAkEU",
      "execution_count": 2,
      "outputs": []
    },
    {
      "cell_type": "code",
      "source": [
        "import pycuda.gpuarray as gpuarray\n",
        "import pycuda.autoinit\n",
        "import numpy as np\n",
        "import skcuda.linalg as linalg\n",
        "\n",
        "import random\n",
        "import time\n",
        "import numpy as np\n",
        "import matplotlib.pyplot as plt\n"
      ],
      "metadata": {
        "colab": {
          "base_uri": "https://localhost:8080/"
        },
        "id": "3YlbFzALFGRv",
        "outputId": "d2090831-f7b5-4154-c32d-096b668e951d"
      },
      "id": "3YlbFzALFGRv",
      "execution_count": 3,
      "outputs": [
        {
          "output_type": "stream",
          "name": "stderr",
          "text": [
            "/usr/local/lib/python3.9/dist-packages/skcuda/cublas.py:284: UserWarning: creating CUBLAS context to get version number\n",
            "  warnings.warn('creating CUBLAS context to get version number')\n"
          ]
        }
      ]
    },
    {
      "cell_type": "code",
      "source": [
        "linalg.init()"
      ],
      "metadata": {
        "id": "EXiax-ObFJoI"
      },
      "id": "EXiax-ObFJoI",
      "execution_count": 4,
      "outputs": []
    },
    {
      "cell_type": "markdown",
      "source": [
        "### Matrix multiplication demo"
      ],
      "metadata": {
        "id": "tq2FoS9mDt8k"
      },
      "id": "tq2FoS9mDt8k"
    },
    {
      "cell_type": "code",
      "source": [
        "a = np.asarray(np.random.rand(5, 4), np.float32)\n",
        "b = np.asarray(np.random.rand(4, 3), np.float32)\n",
        "c = np.asarray(np.random.rand(3, 2), np.float32)\n",
        "print(f'mtx shapes: {a.shape}, {b.shape} ,{c.shape}')\n",
        "\n",
        "a_gpu = gpuarray.to_gpu(a)\n",
        "b_gpu = gpuarray.to_gpu(b)\n",
        "c_gpu = gpuarray.to_gpu(c)\n",
        "\n",
        "d_gpu = linalg.mdot(a_gpu, b_gpu, c_gpu)\n",
        "gpu_result=d_gpu.get()\n",
        "cpu_result=np.matmul(a,np.matmul(b,c))\n"
      ],
      "metadata": {
        "colab": {
          "base_uri": "https://localhost:8080/"
        },
        "id": "fF07h2EVAwIa",
        "outputId": "0d8d7e4a-4156-4016-c682-39c38b8ad72c"
      },
      "id": "fF07h2EVAwIa",
      "execution_count": 5,
      "outputs": [
        {
          "output_type": "stream",
          "name": "stdout",
          "text": [
            "mtx shapes: (5, 4), (4, 3) ,(3, 2)\n"
          ]
        }
      ]
    },
    {
      "cell_type": "code",
      "source": [
        "print(f'CPU: {cpu_result}')\n",
        "print(f'GPU: {gpu_result}')"
      ],
      "metadata": {
        "colab": {
          "base_uri": "https://localhost:8080/"
        },
        "id": "bUEzEaWCGPyq",
        "outputId": "f4308035-bf1c-4288-cabf-3f2784e54d77"
      },
      "id": "bUEzEaWCGPyq",
      "execution_count": 6,
      "outputs": [
        {
          "output_type": "stream",
          "name": "stdout",
          "text": [
            "CPU: [[2.610798  2.4132574]\n",
            " [1.7176193 1.6206465]\n",
            " [2.2204137 2.0662577]\n",
            " [2.4080937 2.2284636]\n",
            " [1.3815416 1.2763608]]\n",
            "GPU: [[2.6107981 2.4132574]\n",
            " [1.7176192 1.6206464]\n",
            " [2.2204137 2.0662577]\n",
            " [2.4080937 2.2284636]\n",
            " [1.3815416 1.2763606]]\n"
          ]
        }
      ]
    },
    {
      "cell_type": "code",
      "source": [
        "np.allclose(cpu_result, gpu_result)"
      ],
      "metadata": {
        "colab": {
          "base_uri": "https://localhost:8080/"
        },
        "id": "TapjVZ0DFQrG",
        "outputId": "7a67f424-62b7-4101-a138-f27436b21e62"
      },
      "id": "TapjVZ0DFQrG",
      "execution_count": 7,
      "outputs": [
        {
          "output_type": "execute_result",
          "data": {
            "text/plain": [
              "True"
            ]
          },
          "metadata": {},
          "execution_count": 7
        }
      ]
    },
    {
      "cell_type": "markdown",
      "source": [
        "### Linear regression demo"
      ],
      "metadata": {
        "id": "LJEiDjHQDz6v"
      },
      "id": "LJEiDjHQDz6v"
    },
    {
      "cell_type": "code",
      "source": [
        "n=100000\n",
        "dx=1500\n",
        "dy=500\n",
        "C=np.asarray(np.random.randn(dx, dy), np.float32)\n",
        "ones =np.asarray(np.random.randn(n, dy), np.float32) \n",
        "b=np.asarray(np.random.randn(dy, dy), np.float32)\n",
        "nu=0.1*np.asarray(np.random.randn(n, dy), np.float32)\n",
        "X=np.asarray(np.random.randn(n, dx), np.float32)\n",
        "print(f'X shape: {X.shape}')\n",
        "print(f'C shape: {C.shape}')\n",
        "print(f'ones shape: {ones.shape}')\n",
        "print(f'b shape: {b.shape}')\n",
        "\n",
        "Y=np.matmul(X,C)+np.matmul(ones,b)+nu\n",
        "print(f'Y shape: {Y.shape}')"
      ],
      "metadata": {
        "colab": {
          "base_uri": "https://localhost:8080/"
        },
        "id": "xa9gTYgmCIt_",
        "outputId": "5cb43cc1-38ad-4e26-a7f6-5e6837c30dcc"
      },
      "id": "xa9gTYgmCIt_",
      "execution_count": 8,
      "outputs": [
        {
          "output_type": "stream",
          "name": "stdout",
          "text": [
            "X shape: (100000, 1500)\n",
            "C shape: (1500, 500)\n",
            "ones shape: (100000, 500)\n",
            "b shape: (500, 500)\n",
            "Y shape: (100000, 500)\n"
          ]
        }
      ]
    },
    {
      "cell_type": "markdown",
      "source": [
        "$$Y=XC+1b+\\nu$$\n",
        "$$ Y\\in\\mathbb{R}^{n\\times d_y}, X\\in\\mathbb{R}^{n\\times d_x}, C\\in\\mathbb{R}^{d_x\\times d_y}$$\n",
        "$$1\\in\\mathbb{R}^{n\\times d_y}, b\\in{R}^{d_y\\times d_y} ,\\nu \\in {R}^{n\\times d_y}$$"
      ],
      "metadata": {
        "id": "0HoYW5U-HDZE"
      },
      "id": "0HoYW5U-HDZE"
    },
    {
      "cell_type": "markdown",
      "source": [
        "$$_{n}\\{\\underbrace{\\begin{bmatrix}X,1\\end{bmatrix}}_{d_x+d_y}\\underbrace{\\begin{bmatrix} C \\\\ b \\end{bmatrix}}_{d_y} \\approx Y\\in\\mathbb{R}^{n\\times d_y}$$\n",
        "$$A=\\begin{bmatrix}X,1\\end{bmatrix} \\in\\mathbb{R}^{n\\times(d_x+d_y)}, D=\\begin{bmatrix}C\\\\b\\end{bmatrix} \\in\\mathbb{R}^{(d_x+d_y)\\times d_y}$$\n",
        "$$AD \\approx Y\\in\\mathbb{R}^{n\\times d_y}$$"
      ],
      "metadata": {
        "id": "b1FPZZlqICTA"
      },
      "id": "b1FPZZlqICTA"
    },
    {
      "cell_type": "code",
      "source": [
        "A=np.hstack([X,ones])\n",
        "print(A.shape)"
      ],
      "metadata": {
        "colab": {
          "base_uri": "https://localhost:8080/"
        },
        "id": "KOUYQn_8H6M6",
        "outputId": "d069dc4d-8cf8-4d79-fa0b-f5367b6a02b6"
      },
      "id": "KOUYQn_8H6M6",
      "execution_count": 9,
      "outputs": [
        {
          "output_type": "stream",
          "name": "stdout",
          "text": [
            "(100000, 2000)\n"
          ]
        }
      ]
    },
    {
      "cell_type": "code",
      "source": [
        "D=np.vstack([C,b])\n",
        "print(D.shape)"
      ],
      "metadata": {
        "colab": {
          "base_uri": "https://localhost:8080/"
        },
        "id": "TFFEnvRBQkIA",
        "outputId": "4a653875-f54d-476c-c1c5-8f38398904e3"
      },
      "id": "TFFEnvRBQkIA",
      "execution_count": 10,
      "outputs": [
        {
          "output_type": "stream",
          "name": "stdout",
          "text": [
            "(2000, 500)\n"
          ]
        }
      ]
    },
    {
      "cell_type": "markdown",
      "source": [
        "$$A^TAD \\approx A^TY\\in\\mathbb{R}^{(d_x+d_y)\\times d_y}$$\n",
        "$$D \\approx (A^TA)^{-1}A^TY\\in\\mathbb{R}^{n\\times d_y}$$"
      ],
      "metadata": {
        "id": "D43FDstoQtwA"
      },
      "id": "D43FDstoQtwA"
    },
    {
      "cell_type": "markdown",
      "source": [
        "**Calculate regression on the CPU**"
      ],
      "metadata": {
        "id": "mbM0QPdoYhxM"
      },
      "id": "mbM0QPdoYhxM"
    },
    {
      "cell_type": "code",
      "source": [
        "t=time.time()\n",
        "term1= np.linalg.inv(np.matmul(A.T, A))\n",
        "term2 = np.matmul(A.T,Y)\n",
        "res_cpu=np.matmul(term1,term2)\n",
        "t=time.time()-t\n",
        "print(f'Ellapsed time: {t}')"
      ],
      "metadata": {
        "colab": {
          "base_uri": "https://localhost:8080/"
        },
        "id": "AQli1cvVWc8b",
        "outputId": "089d3f11-c2a5-41c2-b336-84a39c7eca00"
      },
      "id": "AQli1cvVWc8b",
      "execution_count": 11,
      "outputs": [
        {
          "output_type": "stream",
          "name": "stdout",
          "text": [
            "Ellapsed time: 10.136053562164307\n"
          ]
        }
      ]
    },
    {
      "cell_type": "markdown",
      "source": [
        "**Calculate regression on the GPU**"
      ],
      "metadata": {
        "id": "NFrYhC55YpOr"
      },
      "id": "NFrYhC55YpOr"
    },
    {
      "cell_type": "code",
      "source": [
        "A_gpu = gpuarray.to_gpu(A)\n",
        "print(A_gpu.shape)\n",
        "Y_gpu = gpuarray.to_gpu(Y)\n",
        "print(Y_gpu.shape)"
      ],
      "metadata": {
        "colab": {
          "base_uri": "https://localhost:8080/"
        },
        "id": "msZAkFHGRMSd",
        "outputId": "86fddcaa-98c3-4854-ceee-e781de5d5a23"
      },
      "id": "msZAkFHGRMSd",
      "execution_count": 12,
      "outputs": [
        {
          "output_type": "stream",
          "name": "stdout",
          "text": [
            "(100000, 2000)\n",
            "(100000, 500)\n"
          ]
        }
      ]
    },
    {
      "cell_type": "code",
      "source": [
        "t=time.time()\n",
        "term1_gpu= linalg.inv(linalg.mdot(linalg.transpose(A_gpu), A_gpu))\n",
        "term2_gpu = linalg.mdot(linalg.transpose(A_gpu),Y_gpu)\n",
        "res_gpu=linalg.mdot(term1_gpu,term2_gpu)\n",
        "t=time.time()-t\n",
        "print(f'Ellapsed time: {t}')"
      ],
      "metadata": {
        "colab": {
          "base_uri": "https://localhost:8080/"
        },
        "id": "iCmHUjO0U041",
        "outputId": "21d2de62-0156-4a5e-ba47-48cfc148b880"
      },
      "id": "iCmHUjO0U041",
      "execution_count": 13,
      "outputs": [
        {
          "output_type": "stream",
          "name": "stdout",
          "text": [
            "Ellapsed time: 0.6024169921875\n"
          ]
        }
      ]
    },
    {
      "cell_type": "markdown",
      "source": [
        "**Check if the results are close to each other on the CPU and the GPU**"
      ],
      "metadata": {
        "id": "oLR8zQ_TY0MI"
      },
      "id": "oLR8zQ_TY0MI"
    },
    {
      "cell_type": "code",
      "source": [
        "np.max(np.abs(res_cpu-res_gpu.get()))"
      ],
      "metadata": {
        "colab": {
          "base_uri": "https://localhost:8080/"
        },
        "id": "j6weY9D9TrFW",
        "outputId": "1ac2c35b-b9cc-4122-a758-40bbe7d71c26"
      },
      "id": "j6weY9D9TrFW",
      "execution_count": 14,
      "outputs": [
        {
          "output_type": "execute_result",
          "data": {
            "text/plain": [
              "0.00012373924"
            ]
          },
          "metadata": {},
          "execution_count": 14
        }
      ]
    },
    {
      "cell_type": "code",
      "source": [
        "np.allclose(res_cpu, res_gpu.get(),atol=1e-4)"
      ],
      "metadata": {
        "colab": {
          "base_uri": "https://localhost:8080/"
        },
        "id": "01-GOIpuXseJ",
        "outputId": "2b184766-ac24-4002-8460-12fd46d3a22d"
      },
      "id": "01-GOIpuXseJ",
      "execution_count": 15,
      "outputs": [
        {
          "output_type": "execute_result",
          "data": {
            "text/plain": [
              "True"
            ]
          },
          "metadata": {},
          "execution_count": 15
        }
      ]
    },
    {
      "cell_type": "code",
      "execution_count": 16,
      "id": "1262debb",
      "metadata": {
        "id": "1262debb",
        "colab": {
          "base_uri": "https://localhost:8080/"
        },
        "outputId": "25044022-fbcb-4166-ef76-c3a2e0f4325d"
      },
      "outputs": [
        {
          "output_type": "execute_result",
          "data": {
            "text/plain": [
              "array([[ 0.70357364, -2.0245886 , -0.42264533,  0.9154077 ],\n",
              "       [-0.9699507 ,  0.2234117 ,  0.64285135, -0.3408896 ],\n",
              "       [ 1.7895846 ,  1.265549  , -0.5181347 ,  0.27114543],\n",
              "       [-0.89868844, -1.166698  ,  0.9022783 , -0.52433676]],\n",
              "      dtype=float32)"
            ]
          },
          "metadata": {},
          "execution_count": 16
        }
      ],
      "source": [
        "res_cpu[:4,:4]"
      ]
    },
    {
      "cell_type": "code",
      "source": [
        "res_gpu.get()[:4,:4]"
      ],
      "metadata": {
        "colab": {
          "base_uri": "https://localhost:8080/"
        },
        "id": "P5iTgzRkXasX",
        "outputId": "359e3def-5f82-46b1-872d-9104204f93e0"
      },
      "id": "P5iTgzRkXasX",
      "execution_count": 17,
      "outputs": [
        {
          "output_type": "execute_result",
          "data": {
            "text/plain": [
              "array([[ 0.70358986, -2.0246353 , -0.42265856,  0.91542226],\n",
              "       [-0.96996266,  0.22341564,  0.6428619 , -0.34089154],\n",
              "       [ 1.7896237 ,  1.2655714 , -0.5181428 ,  0.27114752],\n",
              "       [-0.8987027 , -1.166715  ,  0.9022933 , -0.5243461 ]],\n",
              "      dtype=float32)"
            ]
          },
          "metadata": {},
          "execution_count": 17
        }
      ]
    },
    {
      "cell_type": "code",
      "source": [],
      "metadata": {
        "id": "kY-F3IGFX6nd"
      },
      "id": "kY-F3IGFX6nd",
      "execution_count": null,
      "outputs": []
    }
  ],
  "metadata": {
    "kernelspec": {
      "display_name": "Python 3",
      "name": "python3"
    },
    "language_info": {
      "name": "python"
    },
    "colab": {
      "provenance": []
    },
    "accelerator": "GPU",
    "gpuClass": "standard"
  },
  "nbformat": 4,
  "nbformat_minor": 5
}