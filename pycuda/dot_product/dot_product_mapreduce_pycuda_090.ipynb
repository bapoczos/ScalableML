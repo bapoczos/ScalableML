{
  "nbformat": 4,
  "nbformat_minor": 0,
  "metadata": {
    "colab": {
      "provenance": []
    },
    "kernelspec": {
      "name": "python3",
      "display_name": "Python 3"
    },
    "language_info": {
      "name": "python"
    },
    "accelerator": "GPU",
    "gpuClass": "standard"
  },
  "cells": [
    {
      "cell_type": "markdown",
      "source": [
        "Based on https://github.com/jsdnhk/python-parallel-programming-cookbook-code/tree/master/Chapter%206/PyCUDA\n",
        "\n",
        "\n",
        "\n"
      ],
      "metadata": {
        "id": "6xAZc4E93oJ1"
      }
    },
    {
      "cell_type": "code",
      "source": [
        "#!pip install pycuda"
      ],
      "metadata": {
        "id": "8r_Unujo2SBR"
      },
      "execution_count": 1,
      "outputs": []
    },
    {
      "cell_type": "code",
      "source": [
        "import pycuda.gpuarray as gpuarray\n",
        "import pycuda.autoinit\n",
        "import numpy as np\n",
        "from pycuda.reduction import ReductionKernel\n",
        "from time import time"
      ],
      "metadata": {
        "id": "ds-7n3Fs2XrL"
      },
      "execution_count": 2,
      "outputs": []
    },
    {
      "cell_type": "code",
      "source": [
        "vector_length = 400000000"
      ],
      "metadata": {
        "id": "oPwJQxuK4U_u"
      },
      "execution_count": 3,
      "outputs": []
    },
    {
      "cell_type": "code",
      "source": [
        "a = np.asarray(np.random.randn(vector_length), np.float32)\n",
        "b = np.asarray(np.random.randn(vector_length), np.float32)"
      ],
      "metadata": {
        "id": "8av_KS_P5CFl"
      },
      "execution_count": 4,
      "outputs": []
    },
    {
      "cell_type": "code",
      "source": [
        "t=time()\n",
        "result_cpu=np.dot(a,b)\n",
        "tCPU=time()-t\n",
        "print(f'elapsed time CPU: {tCPU}')\n",
        "print(result_cpu)"
      ],
      "metadata": {
        "colab": {
          "base_uri": "https://localhost:8080/"
        },
        "id": "sZxSCOoX5OFD",
        "outputId": "2596f891-f5de-463f-99a6-f27695ee5bcf"
      },
      "execution_count": 5,
      "outputs": [
        {
          "output_type": "stream",
          "name": "stdout",
          "text": [
            "elapsed time CPU: 0.25710058212280273\n",
            "-8034.493\n"
          ]
        }
      ]
    },
    {
      "cell_type": "code",
      "source": [
        "input_vector_a=gpuarray.to_gpu(a)\n",
        "input_vector_b=gpuarray.to_gpu(b)"
      ],
      "metadata": {
        "id": "rDn-ty704O_H"
      },
      "execution_count": 6,
      "outputs": []
    },
    {
      "cell_type": "code",
      "source": [
        "dot_product = ReductionKernel(np.float32,\n",
        "                       arguments=\"float *x, float *y\",\n",
        "                       map_expr=\"x[i]*y[i]\",\n",
        "                       reduce_expr=\"a+b\", neutral=\"0\")\n"
      ],
      "metadata": {
        "id": "nGUGWEYV5dV6"
      },
      "execution_count": 7,
      "outputs": []
    },
    {
      "cell_type": "code",
      "source": [
        "\n",
        "t=time()\n",
        "result_gpu = dot_product (input_vector_a, input_vector_b).get()\n",
        "tGPU=time()-t\n",
        "print(f'elapsed time GPU: {tGPU}')\n",
        "print(result_gpu)"
      ],
      "metadata": {
        "colab": {
          "base_uri": "https://localhost:8080/"
        },
        "id": "6X5VVWk55hvY",
        "outputId": "86d86fe8-bac6-4c88-a3d3-0fa149f520b9"
      },
      "execution_count": 8,
      "outputs": [
        {
          "output_type": "stream",
          "name": "stdout",
          "text": [
            "elapsed time GPU: 0.014827489852905273\n",
            "-8034.6665\n"
          ]
        }
      ]
    },
    {
      "cell_type": "code",
      "source": [
        "print(f'time CPU / GPU: {tCPU/tGPU}')\n"
      ],
      "metadata": {
        "colab": {
          "base_uri": "https://localhost:8080/"
        },
        "id": "sArVMooa8FXn",
        "outputId": "81f620e1-b4ec-4378-e0e9-183b4d84eb11"
      },
      "execution_count": 9,
      "outputs": [
        {
          "output_type": "stream",
          "name": "stdout",
          "text": [
            "time CPU / GPU: 17.33945426187069\n"
          ]
        }
      ]
    },
    {
      "cell_type": "code",
      "source": [],
      "metadata": {
        "id": "bDoTl4zr8FeX"
      },
      "execution_count": null,
      "outputs": []
    }
  ]
}