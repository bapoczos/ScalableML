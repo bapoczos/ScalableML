{
 "cells": [
  {
   "cell_type": "code",
   "execution_count": 1,
   "metadata": {},
   "outputs": [],
   "source": [
    "import pycuda.autoinit\n",
    "import pycuda.driver as drv\n",
    "import numpy as np\n",
    "from pycuda import gpuarray\n",
    "from pycuda.compiler import SourceModule\n",
    "from time import time\n"
   ]
  },
  {
   "cell_type": "code",
   "execution_count": 2,
   "metadata": {},
   "outputs": [],
   "source": [
    "# this is a naive parallel prefix-sum kernel that uses shared memory\n",
    "naive_ker = SourceModule(\"\"\"\n",
    "__global__ void naive_prefix(double *vec, double *out)\n",
    "{\n",
    "     __shared__ double sum_buf[1024];     \n",
    "     int tid = threadIdx.x;     \n",
    "     sum_buf[tid] = vec[tid];\n",
    "     \n",
    "     // begin parallel prefix sum algorithm\n",
    "     \n",
    "     int iter = 1;\n",
    "     \n",
    "     // 10 = log(1024)\n",
    "     int n_iters = 10;\n",
    "\n",
    "     for (int i=0; i < n_iters; i++)\n",
    "     {\n",
    "         __syncthreads();\n",
    "         if (tid >= iter )\n",
    "         {\n",
    "             sum_buf[tid] = sum_buf[tid] + sum_buf[tid - iter];            \n",
    "         }\n",
    "         \n",
    "         iter *= 2;\n",
    "     }\n",
    "         \n",
    "    __syncthreads();\n",
    "    out[tid] = sum_buf[tid];\n",
    "    __syncthreads();\n",
    "        \n",
    "}\n",
    "\"\"\")\n",
    "naive_gpu = naive_ker.get_function(\"naive_prefix\")\n"
   ]
  },
  {
   "cell_type": "code",
   "execution_count": 3,
   "metadata": {},
   "outputs": [
    {
     "name": "stdout",
     "output_type": "stream",
     "text": [
      "Does our kernel work correctly? : True\n"
     ]
    }
   ],
   "source": [
    "testvec = np.random.randn(1024).astype(np.float64)\n",
    "testvec_gpu = gpuarray.to_gpu(testvec)\n",
    "\n",
    "outvec_gpu = gpuarray.empty_like(testvec_gpu)\n",
    "\n",
    "naive_gpu( testvec_gpu , outvec_gpu, block=(1024,1,1), grid=(1,1,1))\n",
    "\n",
    "total_sum = sum( testvec)\n",
    "total_sum_gpu = outvec_gpu[-1].get()\n",
    "\n",
    "print(\"Does our kernel work correctly? : {}\".format(np.allclose(total_sum_gpu , total_sum) ))\n"
   ]
  },
  {
   "cell_type": "code",
   "execution_count": null,
   "metadata": {},
   "outputs": [],
   "source": []
  },
  {
   "cell_type": "code",
   "execution_count": null,
   "metadata": {},
   "outputs": [],
   "source": []
  }
 ],
 "metadata": {
  "kernelspec": {
   "display_name": "Python 3",
   "language": "python",
   "name": "python3"
  },
  "language_info": {
   "codemirror_mode": {
    "name": "ipython",
    "version": 3
   },
   "file_extension": ".py",
   "mimetype": "text/x-python",
   "name": "python",
   "nbconvert_exporter": "python",
   "pygments_lexer": "ipython3",
   "version": "3.6.13"
  },
  "toc": {
   "base_numbering": 1,
   "nav_menu": {},
   "number_sections": true,
   "sideBar": true,
   "skip_h1_title": false,
   "title_cell": "Table of Contents",
   "title_sidebar": "Contents",
   "toc_cell": false,
   "toc_position": {},
   "toc_section_display": true,
   "toc_window_display": false
  }
 },
 "nbformat": 4,
 "nbformat_minor": 2
}
