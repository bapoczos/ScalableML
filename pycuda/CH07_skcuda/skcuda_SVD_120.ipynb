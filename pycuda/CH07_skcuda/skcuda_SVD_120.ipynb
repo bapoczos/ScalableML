{
  "nbformat": 4,
  "nbformat_minor": 0,
  "metadata": {
    "colab": {
      "provenance": []
    },
    "kernelspec": {
      "name": "python3",
      "display_name": "Python 3"
    },
    "language_info": {
      "name": "python"
    },
    "accelerator": "GPU",
    "gpuClass": "standard"
  },
  "cells": [
    {
      "cell_type": "code",
      "source": [
        "!nvidia-smi"
      ],
      "metadata": {
        "colab": {
          "base_uri": "https://localhost:8080/"
        },
        "id": "yEdwo9fM7_wf",
        "outputId": "21e28887-b5e8-4f6f-9ab6-51ffea50f969"
      },
      "execution_count": 1,
      "outputs": [
        {
          "output_type": "stream",
          "name": "stdout",
          "text": [
            "Wed Mar 22 00:57:06 2023       \n",
            "+-----------------------------------------------------------------------------+\n",
            "| NVIDIA-SMI 525.85.12    Driver Version: 525.85.12    CUDA Version: 12.0     |\n",
            "|-------------------------------+----------------------+----------------------+\n",
            "| GPU  Name        Persistence-M| Bus-Id        Disp.A | Volatile Uncorr. ECC |\n",
            "| Fan  Temp  Perf  Pwr:Usage/Cap|         Memory-Usage | GPU-Util  Compute M. |\n",
            "|                               |                      |               MIG M. |\n",
            "|===============================+======================+======================|\n",
            "|   0  Tesla T4            Off  | 00000000:00:04.0 Off |                    0 |\n",
            "| N/A   63C    P0    26W /  70W |      0MiB / 15360MiB |      0%      Default |\n",
            "|                               |                      |                  N/A |\n",
            "+-------------------------------+----------------------+----------------------+\n",
            "                                                                               \n",
            "+-----------------------------------------------------------------------------+\n",
            "| Processes:                                                                  |\n",
            "|  GPU   GI   CI        PID   Type   Process name                  GPU Memory |\n",
            "|        ID   ID                                                   Usage      |\n",
            "|=============================================================================|\n",
            "|  No running processes found                                                 |\n",
            "+-----------------------------------------------------------------------------+\n"
          ]
        }
      ]
    },
    {
      "cell_type": "code",
      "execution_count": 2,
      "metadata": {
        "colab": {
          "base_uri": "https://localhost:8080/"
        },
        "id": "3yEsi4ZWahHB",
        "outputId": "65a80132-84f1-493c-e3e4-fa46defce0db"
      },
      "outputs": [
        {
          "output_type": "stream",
          "name": "stdout",
          "text": [
            "Looking in indexes: https://pypi.org/simple, https://us-python.pkg.dev/colab-wheels/public/simple/\n",
            "Collecting pycuda\n",
            "  Downloading pycuda-2022.2.2.tar.gz (1.7 MB)\n",
            "\u001b[2K     \u001b[90m━━━━━━━━━━━━━━━━━━━━━━━━━━━━━━━━━━━━━━━━\u001b[0m \u001b[32m1.7/1.7 MB\u001b[0m \u001b[31m18.9 MB/s\u001b[0m eta \u001b[36m0:00:00\u001b[0m\n",
            "\u001b[?25h  Installing build dependencies ... \u001b[?25l\u001b[?25hdone\n",
            "  Getting requirements to build wheel ... \u001b[?25l\u001b[?25hdone\n",
            "  Preparing metadata (pyproject.toml) ... \u001b[?25l\u001b[?25hdone\n",
            "Collecting scikit-cuda\n",
            "  Downloading scikit_cuda-0.5.3-py2.py3-none-any.whl (114 kB)\n",
            "\u001b[2K     \u001b[90m━━━━━━━━━━━━━━━━━━━━━━━━━━━━━━━━━━━━━━\u001b[0m \u001b[32m114.8/114.8 KB\u001b[0m \u001b[31m14.9 MB/s\u001b[0m eta \u001b[36m0:00:00\u001b[0m\n",
            "\u001b[?25hCollecting appdirs>=1.4.0\n",
            "  Downloading appdirs-1.4.4-py2.py3-none-any.whl (9.6 kB)\n",
            "Collecting pytools>=2011.2\n",
            "  Downloading pytools-2022.1.14.tar.gz (74 kB)\n",
            "\u001b[2K     \u001b[90m━━━━━━━━━━━━━━━━━━━━━━━━━━━━━━━━━━━━━━━━\u001b[0m \u001b[32m74.6/74.6 KB\u001b[0m \u001b[31m7.7 MB/s\u001b[0m eta \u001b[36m0:00:00\u001b[0m\n",
            "\u001b[?25h  Preparing metadata (setup.py) ... \u001b[?25l\u001b[?25hdone\n",
            "Collecting mako\n",
            "  Downloading Mako-1.2.4-py3-none-any.whl (78 kB)\n",
            "\u001b[2K     \u001b[90m━━━━━━━━━━━━━━━━━━━━━━━━━━━━━━━━━━━━━━━━\u001b[0m \u001b[32m78.7/78.7 KB\u001b[0m \u001b[31m9.2 MB/s\u001b[0m eta \u001b[36m0:00:00\u001b[0m\n",
            "\u001b[?25hRequirement already satisfied: numpy>=1.2.0 in /usr/local/lib/python3.9/dist-packages (from scikit-cuda) (1.22.4)\n",
            "Requirement already satisfied: MarkupSafe>=0.9.2 in /usr/local/lib/python3.9/dist-packages (from mako->pycuda) (2.1.2)\n",
            "Requirement already satisfied: platformdirs>=2.2.0 in /usr/local/lib/python3.9/dist-packages (from pytools>=2011.2->pycuda) (3.1.1)\n",
            "Requirement already satisfied: typing_extensions>=4.0 in /usr/local/lib/python3.9/dist-packages (from pytools>=2011.2->pycuda) (4.5.0)\n",
            "Building wheels for collected packages: pycuda, pytools\n",
            "  Building wheel for pycuda (pyproject.toml) ... \u001b[?25l\u001b[?25hdone\n",
            "  Created wheel for pycuda: filename=pycuda-2022.2.2-cp39-cp39-linux_x86_64.whl size=661963 sha256=4439a32370e28f2cca57c27d54d5bb6a907f92f6abb069c63025353f9857268b\n",
            "  Stored in directory: /root/.cache/pip/wheels/82/09/27/74d8e31ed19c530166e0d263aabe1ea57465e255615bda8fc0\n",
            "  Building wheel for pytools (setup.py) ... \u001b[?25l\u001b[?25hdone\n",
            "  Created wheel for pytools: filename=pytools-2022.1.14-py2.py3-none-any.whl size=69866 sha256=8ba865ad6f95411d8e50a3da8daa597bb83770f7626703009a4387c10e66af7a\n",
            "  Stored in directory: /root/.cache/pip/wheels/76/ee/8c/332750bd78e80cdef14a96eb5b539adf0dcda50a97bbdfcbd8\n",
            "Successfully built pycuda pytools\n",
            "Installing collected packages: appdirs, pytools, mako, pycuda, scikit-cuda\n",
            "Successfully installed appdirs-1.4.4 mako-1.2.4 pycuda-2022.2.2 pytools-2022.1.14 scikit-cuda-0.5.3\n"
          ]
        }
      ],
      "source": [
        "!pip install pycuda scikit-cuda"
      ]
    },
    {
      "cell_type": "code",
      "source": [
        "from __future__ import division\n",
        "import pycuda.autoinit\n",
        "from pycuda import gpuarray\n",
        "import numpy as np\n",
        "from skcuda import linalg\n",
        "from matplotlib import pyplot as plt\n",
        "\n",
        "import PIL\n",
        "import urllib\n",
        "from time import time"
      ],
      "metadata": {
        "id": "lYAx0uxpiQmy"
      },
      "execution_count": 31,
      "outputs": []
    },
    {
      "cell_type": "code",
      "source": [
        "m = 2800\n",
        "n = 4500\n",
        "k = 30"
      ],
      "metadata": {
        "id": "-ClIHPeajSw-"
      },
      "execution_count": 103,
      "outputs": []
    },
    {
      "cell_type": "code",
      "source": [
        "B = np.random.randn(m, k).astype(np.float32)\n",
        "C = np.random.randn(k, n).astype(np.float32)\n",
        "A = np.matmul(B, C)\n",
        "print(A.shape)\n",
        "A_gpu = gpuarray.to_gpu(A)"
      ],
      "metadata": {
        "colab": {
          "base_uri": "https://localhost:8080/"
        },
        "id": "m5L-OX3S1Iey",
        "outputId": "d087d0d6-6930-4fdb-8571-0dbe234b84ab"
      },
      "execution_count": 104,
      "outputs": [
        {
          "output_type": "stream",
          "name": "stdout",
          "text": [
            "(2800, 4500)\n"
          ]
        }
      ]
    },
    {
      "cell_type": "code",
      "source": [
        "t=time()\n",
        "U,S,V=np.linalg.svd(A, full_matrices=False)\n",
        "t=time()-t\n",
        "print(f'Ellapsed time: {t}')"
      ],
      "metadata": {
        "colab": {
          "base_uri": "https://localhost:8080/"
        },
        "id": "jdMFb-zE21GM",
        "outputId": "33233e0c-ad81-48a1-818f-7dba0dfae12e"
      },
      "execution_count": 105,
      "outputs": [
        {
          "output_type": "stream",
          "name": "stdout",
          "text": [
            "Ellapsed time: 27.56638193130493\n"
          ]
        }
      ]
    },
    {
      "cell_type": "code",
      "source": [
        "print(U.shape)\n",
        "print(S.shape)\n",
        "print(V.shape)"
      ],
      "metadata": {
        "colab": {
          "base_uri": "https://localhost:8080/"
        },
        "id": "s0lPGTwN3UDg",
        "outputId": "cee36ae0-7352-4a1b-d37d-c6af07a5b603"
      },
      "execution_count": 106,
      "outputs": [
        {
          "output_type": "stream",
          "name": "stdout",
          "text": [
            "(2800, 2800)\n",
            "(2800,)\n",
            "(2800, 4500)\n"
          ]
        }
      ]
    },
    {
      "cell_type": "code",
      "source": [
        "Ahat=np.matmul(np.matmul(U,np.diag(S)),V)"
      ],
      "metadata": {
        "id": "t6hoxrrz3dk2"
      },
      "execution_count": 107,
      "outputs": []
    },
    {
      "cell_type": "code",
      "source": [
        "np.max(np.abs(A-Ahat))"
      ],
      "metadata": {
        "colab": {
          "base_uri": "https://localhost:8080/"
        },
        "id": "etEIqnw83kMq",
        "outputId": "20d277dd-e378-4091-b649-8ce6097eb05a"
      },
      "execution_count": 109,
      "outputs": [
        {
          "output_type": "execute_result",
          "data": {
            "text/plain": [
              "1.1444092e-05"
            ]
          },
          "metadata": {},
          "execution_count": 109
        }
      ]
    },
    {
      "cell_type": "code",
      "source": [
        "np.allclose(A,Ahat,atol=1e-2)"
      ],
      "metadata": {
        "colab": {
          "base_uri": "https://localhost:8080/"
        },
        "id": "v5xvLe7o4FmZ",
        "outputId": "46ea1971-4041-4b39-dba7-9191b5ba6e46"
      },
      "execution_count": 110,
      "outputs": [
        {
          "output_type": "execute_result",
          "data": {
            "text/plain": [
              "True"
            ]
          },
          "metadata": {},
          "execution_count": 110
        }
      ]
    },
    {
      "cell_type": "code",
      "source": [
        "linalg.init()"
      ],
      "metadata": {
        "id": "RIijShEZ7Rkn"
      },
      "execution_count": 111,
      "outputs": []
    },
    {
      "cell_type": "code",
      "source": [
        "t=time()\n",
        "U_gpu,S_gpu,V_gpu = linalg.svd(A_gpu,'S','S',lib='cusolver') \n",
        "t=time()-t\n",
        "print(f'Ellapsed time: {t}')"
      ],
      "metadata": {
        "colab": {
          "base_uri": "https://localhost:8080/"
        },
        "id": "dZ2bIs2Y1d69",
        "outputId": "0c987d41-64b3-40c5-93bb-4855f21585d6"
      },
      "execution_count": 112,
      "outputs": [
        {
          "output_type": "stream",
          "name": "stdout",
          "text": [
            "Ellapsed time: 12.056218147277832\n"
          ]
        }
      ]
    },
    {
      "cell_type": "code",
      "source": [
        "U2=U_gpu.get()\n",
        "S2=S_gpu.get()\n",
        "V2=V_gpu.get()"
      ],
      "metadata": {
        "id": "chDGG_pn5G6u"
      },
      "execution_count": 113,
      "outputs": []
    },
    {
      "cell_type": "code",
      "source": [
        "print(U2.shape)\n",
        "print(S2.shape)\n",
        "print(V2.shape)"
      ],
      "metadata": {
        "colab": {
          "base_uri": "https://localhost:8080/"
        },
        "id": "-5crnK3E5t6E",
        "outputId": "4c3f1602-5c7f-4cc6-9b00-825e578d4033"
      },
      "execution_count": 114,
      "outputs": [
        {
          "output_type": "stream",
          "name": "stdout",
          "text": [
            "(2800, 2800)\n",
            "(2800,)\n",
            "(2800, 4500)\n"
          ]
        }
      ]
    },
    {
      "cell_type": "code",
      "source": [
        "Ahat2=np.matmul(np.matmul(U2,np.diag(S2)),V2)\n",
        "print(np.max(np.abs(A-Ahat2)))"
      ],
      "metadata": {
        "colab": {
          "base_uri": "https://localhost:8080/"
        },
        "id": "QmB_PsQJ5b1k",
        "outputId": "a9536c5d-1f60-4992-e6b5-0d0dd850d325"
      },
      "execution_count": 115,
      "outputs": [
        {
          "output_type": "stream",
          "name": "stdout",
          "text": [
            "0.00012874603\n"
          ]
        }
      ]
    },
    {
      "cell_type": "code",
      "source": [
        "np.allclose(A,Ahat2,atol=1e-2)"
      ],
      "metadata": {
        "colab": {
          "base_uri": "https://localhost:8080/"
        },
        "id": "n_qQYGIe6qcD",
        "outputId": "4acb3ffc-025c-4b49-ad1f-f8d446f9f949"
      },
      "execution_count": 116,
      "outputs": [
        {
          "output_type": "execute_result",
          "data": {
            "text/plain": [
              "True"
            ]
          },
          "metadata": {},
          "execution_count": 116
        }
      ]
    },
    {
      "cell_type": "code",
      "source": [],
      "metadata": {
        "id": "r247wQaMojrE"
      },
      "execution_count": null,
      "outputs": []
    }
  ]
}