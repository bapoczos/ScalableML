{
  "nbformat": 4,
  "nbformat_minor": 0,
  "metadata": {
    "colab": {
      "provenance": []
    },
    "kernelspec": {
      "name": "python3",
      "display_name": "Python 3"
    },
    "language_info": {
      "name": "python"
    },
    "accelerator": "GPU",
    "gpuClass": "standard"
  },
  "cells": [
    {
      "cell_type": "code",
      "source": [
        "!nvidia-smi"
      ],
      "metadata": {
        "colab": {
          "base_uri": "https://localhost:8080/"
        },
        "id": "yEdwo9fM7_wf",
        "outputId": "c64a3283-461b-45de-a354-1c4e278fb44d"
      },
      "execution_count": 1,
      "outputs": [
        {
          "output_type": "stream",
          "name": "stdout",
          "text": [
            "Tue Mar 21 23:05:26 2023       \n",
            "+-----------------------------------------------------------------------------+\n",
            "| NVIDIA-SMI 525.85.12    Driver Version: 525.85.12    CUDA Version: 12.0     |\n",
            "|-------------------------------+----------------------+----------------------+\n",
            "| GPU  Name        Persistence-M| Bus-Id        Disp.A | Volatile Uncorr. ECC |\n",
            "| Fan  Temp  Perf  Pwr:Usage/Cap|         Memory-Usage | GPU-Util  Compute M. |\n",
            "|                               |                      |               MIG M. |\n",
            "|===============================+======================+======================|\n",
            "|   0  Tesla T4            Off  | 00000000:00:04.0 Off |                    0 |\n",
            "| N/A   48C    P0    24W /  70W |      0MiB / 15360MiB |      0%      Default |\n",
            "|                               |                      |                  N/A |\n",
            "+-------------------------------+----------------------+----------------------+\n",
            "                                                                               \n",
            "+-----------------------------------------------------------------------------+\n",
            "| Processes:                                                                  |\n",
            "|  GPU   GI   CI        PID   Type   Process name                  GPU Memory |\n",
            "|        ID   ID                                                   Usage      |\n",
            "|=============================================================================|\n",
            "|  No running processes found                                                 |\n",
            "+-----------------------------------------------------------------------------+\n"
          ]
        }
      ]
    },
    {
      "cell_type": "code",
      "execution_count": null,
      "metadata": {
        "colab": {
          "base_uri": "https://localhost:8080/"
        },
        "id": "3yEsi4ZWahHB",
        "outputId": "0d6c9d67-a9af-467c-f63f-78b74165a53b"
      },
      "outputs": [
        {
          "output_type": "stream",
          "name": "stdout",
          "text": [
            "Looking in indexes: https://pypi.org/simple, https://us-python.pkg.dev/colab-wheels/public/simple/\n",
            "Collecting pycuda\n",
            "  Downloading pycuda-2022.2.2.tar.gz (1.7 MB)\n",
            "\u001b[2K     \u001b[90m━━━━━━━━━━━━━━━━━━━━━━━━━━━━━━━━━━━━━━━━\u001b[0m \u001b[32m1.7/1.7 MB\u001b[0m \u001b[31m22.5 MB/s\u001b[0m eta \u001b[36m0:00:00\u001b[0m\n",
            "\u001b[?25h  Installing build dependencies ... \u001b[?25l\u001b[?25hdone\n",
            "  Getting requirements to build wheel ... \u001b[?25l\u001b[?25hdone\n",
            "  Preparing metadata (pyproject.toml) ... \u001b[?25l\u001b[?25hdone\n",
            "Collecting pytools>=2011.2\n",
            "  Downloading pytools-2022.1.14.tar.gz (74 kB)\n",
            "\u001b[2K     \u001b[90m━━━━━━━━━━━━━━━━━━━━━━━━━━━━━━━━━━━━━━━\u001b[0m \u001b[32m74.6/74.6 KB\u001b[0m \u001b[31m294.9 kB/s\u001b[0m eta \u001b[36m0:00:00\u001b[0m\n",
            "\u001b[?25h  Preparing metadata (setup.py) ... \u001b[?25l\u001b[?25hdone\n",
            "Collecting appdirs>=1.4.0\n",
            "  Downloading appdirs-1.4.4-py2.py3-none-any.whl (9.6 kB)\n",
            "Collecting mako\n",
            "  Downloading Mako-1.2.4-py3-none-any.whl (78 kB)\n",
            "\u001b[2K     \u001b[90m━━━━━━━━━━━━━━━━━━━━━━━━━━━━━━━━━━━━━━━━\u001b[0m \u001b[32m78.7/78.7 KB\u001b[0m \u001b[31m10.1 MB/s\u001b[0m eta \u001b[36m0:00:00\u001b[0m\n",
            "\u001b[?25hRequirement already satisfied: platformdirs>=2.2.0 in /usr/local/lib/python3.9/dist-packages (from pytools>=2011.2->pycuda) (3.1.1)\n",
            "Requirement already satisfied: typing_extensions>=4.0 in /usr/local/lib/python3.9/dist-packages (from pytools>=2011.2->pycuda) (4.5.0)\n",
            "Requirement already satisfied: MarkupSafe>=0.9.2 in /usr/local/lib/python3.9/dist-packages (from mako->pycuda) (2.1.2)\n",
            "Building wheels for collected packages: pycuda, pytools\n"
          ]
        }
      ],
      "source": [
        "!pip install pycuda"
      ]
    },
    {
      "cell_type": "code",
      "source": [
        "!pip install scikit-cuda"
      ],
      "metadata": {
        "colab": {
          "base_uri": "https://localhost:8080/"
        },
        "id": "_IiwhDCAUoQb",
        "outputId": "4e01cae1-ebd8-4446-fc24-6b70f2ad8ef4"
      },
      "execution_count": 5,
      "outputs": [
        {
          "output_type": "stream",
          "name": "stdout",
          "text": [
            "Looking in indexes: https://pypi.org/simple, https://us-python.pkg.dev/colab-wheels/public/simple/\n",
            "Collecting scikit-cuda\n",
            "  Downloading scikit_cuda-0.5.3-py2.py3-none-any.whl (114 kB)\n",
            "\u001b[2K     \u001b[90m━━━━━━━━━━━━━━━━━━━━━━━━━━━━━━━━━━━━━━━\u001b[0m \u001b[32m114.8/114.8 KB\u001b[0m \u001b[31m3.6 MB/s\u001b[0m eta \u001b[36m0:00:00\u001b[0m\n",
            "\u001b[?25hRequirement already satisfied: mako>=1.0.1 in /usr/local/lib/python3.9/dist-packages (from scikit-cuda) (1.2.4)\n",
            "Requirement already satisfied: pycuda>=2016.1 in /usr/local/lib/python3.9/dist-packages (from scikit-cuda) (2022.2.2)\n",
            "Requirement already satisfied: numpy>=1.2.0 in /usr/local/lib/python3.9/dist-packages (from scikit-cuda) (1.22.4)\n",
            "Requirement already satisfied: MarkupSafe>=0.9.2 in /usr/local/lib/python3.9/dist-packages (from mako>=1.0.1->scikit-cuda) (2.1.2)\n",
            "Requirement already satisfied: appdirs>=1.4.0 in /usr/local/lib/python3.9/dist-packages (from pycuda>=2016.1->scikit-cuda) (1.4.4)\n",
            "Requirement already satisfied: pytools>=2011.2 in /usr/local/lib/python3.9/dist-packages (from pycuda>=2016.1->scikit-cuda) (2022.1.14)\n",
            "Requirement already satisfied: platformdirs>=2.2.0 in /usr/local/lib/python3.9/dist-packages (from pytools>=2011.2->pycuda>=2016.1->scikit-cuda) (3.1.1)\n",
            "Requirement already satisfied: typing-extensions>=4.0 in /usr/local/lib/python3.9/dist-packages (from pytools>=2011.2->pycuda>=2016.1->scikit-cuda) (4.5.0)\n",
            "Installing collected packages: scikit-cuda\n",
            "Successfully installed scikit-cuda-0.5.3\n"
          ]
        }
      ]
    },
    {
      "cell_type": "code",
      "source": [
        "import pycuda.autoinit\n",
        "from pycuda import gpuarray\n",
        "import numpy as np\n",
        "from skcuda import cublas\n",
        "from time import time"
      ],
      "metadata": {
        "colab": {
          "base_uri": "https://localhost:8080/"
        },
        "id": "mMc7RQfoUWaT",
        "outputId": "afb5177a-d089-491a-a691-b07c4691926e"
      },
      "execution_count": 1,
      "outputs": [
        {
          "output_type": "stream",
          "name": "stderr",
          "text": [
            "/usr/local/lib/python3.9/dist-packages/skcuda/cublas.py:284: UserWarning: creating CUBLAS context to get version number\n",
            "  warnings.warn('creating CUBLAS context to get version number')\n"
          ]
        }
      ]
    },
    {
      "cell_type": "code",
      "source": [
        "m = 5000\n",
        "n = 8000\n",
        "k = 10000\n"
      ],
      "metadata": {
        "id": "deVJbx0KUZzZ"
      },
      "execution_count": 2,
      "outputs": []
    },
    {
      "cell_type": "code",
      "source": [
        "precision='S'\n",
        "if precision=='S':\n",
        "\t\tfloat_type = 'float32'\n",
        "elif precision=='D':\n",
        "\t\tfloat_type = 'float64'\n",
        "print(float_type)"
      ],
      "metadata": {
        "colab": {
          "base_uri": "https://localhost:8080/"
        },
        "id": "Y0ey8tXxU-Vz",
        "outputId": "ef6613d3-d591-4a01-ee66-d076b0033b9f"
      },
      "execution_count": 3,
      "outputs": [
        {
          "output_type": "stream",
          "name": "stdout",
          "text": [
            "float32\n"
          ]
        }
      ]
    },
    {
      "cell_type": "code",
      "source": [
        "# NumPy creates arrays in row-major order\n",
        "a = np.array([[1,2,3,4], [5,6,7,8]])\n",
        "a"
      ],
      "metadata": {
        "colab": {
          "base_uri": "https://localhost:8080/"
        },
        "id": "yJtXqfoFX8KQ",
        "outputId": "17a3947b-59fe-406d-c98b-2f1209b9615a"
      },
      "execution_count": 4,
      "outputs": [
        {
          "output_type": "execute_result",
          "data": {
            "text/plain": [
              "array([[1, 2, 3, 4],\n",
              "       [5, 6, 7, 8]])"
            ]
          },
          "metadata": {},
          "execution_count": 4
        }
      ]
    },
    {
      "cell_type": "code",
      "source": [
        "A = np.random.randn(m, k).astype(float_type)\n",
        "B = np.random.randn(k, n).astype(float_type)\n",
        "C = np.random.randn(m, n).astype(float_type)\n",
        "\n",
        "print(A.shape)\n",
        "print(B.shape)\n",
        "print(C.shape)"
      ],
      "metadata": {
        "colab": {
          "base_uri": "https://localhost:8080/"
        },
        "id": "S5K5lw4pbYB3",
        "outputId": "159170d6-5ac3-45f1-dd5e-6f529cd1f469"
      },
      "execution_count": 5,
      "outputs": [
        {
          "output_type": "stream",
          "name": "stdout",
          "text": [
            "(5000, 10000)\n",
            "(10000, 8000)\n",
            "(5000, 8000)\n"
          ]
        }
      ]
    },
    {
      "cell_type": "code",
      "source": [
        "\n",
        "##A_gpu, B_gpu, C_gpu are expected to be in column-major format\n",
        "# NumPy creates arrays in row-major order by default, so we need to transpose the matrices\n",
        "\n",
        "A_cm = A.T.copy()\n",
        "B_cm = B.T.copy()\n",
        "C_cm = C.T.copy()\n",
        "\n",
        "A_gpu = gpuarray.to_gpu(A_cm)\n",
        "B_gpu = gpuarray.to_gpu(B_cm)\n",
        "C_gpu = gpuarray.to_gpu(C_cm)\n",
        "\n",
        "alpha = np.random.randn()\n",
        "beta = np.random.randn()\n",
        "\n",
        "#alpha=1\n",
        "#beta =0 \n",
        "\n",
        "transa = cublas._CUBLAS_OP['N'] #Do not transpose A, we already transposed it\n",
        "transb = cublas._CUBLAS_OP['N'] #Do not transpose B, we already transposed it\n",
        "\n",
        "lda = m\n",
        "ldb = k\n",
        "ldc = m\n"
      ],
      "metadata": {
        "id": "OwxEch6NVWAA"
      },
      "execution_count": 6,
      "outputs": []
    },
    {
      "cell_type": "markdown",
      "source": [
        "We will calculate $C:=\\alpha AB+ \\beta C$"
      ],
      "metadata": {
        "id": "UlsJl3dhWTHS"
      }
    },
    {
      "cell_type": "markdown",
      "source": [
        "**CPU**"
      ],
      "metadata": {
        "id": "CCm36c_WZzkN"
      }
    },
    {
      "cell_type": "code",
      "source": [
        "t = time()\n",
        "res=alpha*np.matmul(A,B)+beta*C\n",
        "t = time() - t\n",
        "\n",
        "gflops = 2*m*n*(k+1)*(10**-9) / t \n",
        "print(f'CPU performance: {gflops} GFLOPS') \n",
        "\n",
        "print(res.shape)"
      ],
      "metadata": {
        "colab": {
          "base_uri": "https://localhost:8080/"
        },
        "id": "-mo2-Q9wYg0U",
        "outputId": "df856faa-afdb-4ef7-eedd-e48bc94160ef"
      },
      "execution_count": 7,
      "outputs": [
        {
          "output_type": "stream",
          "name": "stdout",
          "text": [
            "CPU performance: 64.8450175196471 GFLOPS\n",
            "(5000, 8000)\n"
          ]
        }
      ]
    },
    {
      "cell_type": "code",
      "source": [
        "res[0:5,0:5]"
      ],
      "metadata": {
        "colab": {
          "base_uri": "https://localhost:8080/"
        },
        "id": "VX_oVhxCcAm4",
        "outputId": "fae57b3d-f9dd-4f1f-82f7-5f9e32a45463"
      },
      "execution_count": 8,
      "outputs": [
        {
          "output_type": "execute_result",
          "data": {
            "text/plain": [
              "array([[-0.768347  ,  0.29589224,  1.9595716 ,  0.7178556 , -0.06956333],\n",
              "       [ 0.94150496,  0.9923849 , -2.6909096 ,  1.2682674 ,  0.6880198 ],\n",
              "       [ 0.10186237,  0.34578502,  0.8439426 , -0.5151506 , -0.8963978 ],\n",
              "       [-1.5527649 ,  1.5836842 ,  2.09026   ,  0.46388733,  0.36500576],\n",
              "       [-0.7837318 ,  0.01005572,  1.0571122 ,  0.3560819 ,  0.20570031]],\n",
              "      dtype=float32)"
            ]
          },
          "metadata": {},
          "execution_count": 8
        }
      ]
    },
    {
      "cell_type": "markdown",
      "source": [
        "**GPU**"
      ],
      "metadata": {
        "id": "_DkpSUjNZ2LY"
      }
    },
    {
      "cell_type": "markdown",
      "source": [
        "cublasSgemm, cublasDgemm: General Matrix-Matrix multiplication with Single or Double precision "
      ],
      "metadata": {
        "id": "8AxcnVcoaIzC"
      }
    },
    {
      "cell_type": "code",
      "source": [
        "\tt = time()\n",
        "\thandle = cublas.cublasCreate()\n",
        "\n",
        "  #A_gpu, B_gpu are expected to be in column-major format\n",
        "  # NumPy creates arrays in row-major order by default\n",
        "  \n",
        "\texec('cublas.cublas%sgemm(handle, transa, transb, m, n, k, alpha, A_gpu.gpudata, lda, \\\n",
        "\t\t\t\t\t\tB_gpu.gpudata, ldb, beta, C_gpu.gpudata, ldc)' % precision)\n",
        "\t\n",
        "\tcublas.cublasDestroy(handle)\n",
        "\tt = time() - t"
      ],
      "metadata": {
        "id": "CDJbQtBrVkyv"
      },
      "execution_count": 10,
      "outputs": []
    },
    {
      "cell_type": "code",
      "source": [
        "gflops = 2*m*n*(k+1)*(10**-9) / t \n",
        "print(f'GPU performance: {gflops} GFLOPS') \n"
      ],
      "metadata": {
        "colab": {
          "base_uri": "https://localhost:8080/"
        },
        "id": "oMX_JVtzVsjH",
        "outputId": "ec1b8782-b0a2-429a-ea4d-3a1720f43181"
      },
      "execution_count": 11,
      "outputs": [
        {
          "output_type": "stream",
          "name": "stdout",
          "text": [
            "GPU performance: 3229.2222934186307 GFLOPS\n"
          ]
        }
      ]
    },
    {
      "cell_type": "code",
      "source": [
        "res_gpu=C_gpu.get()"
      ],
      "metadata": {
        "id": "DrmPZEF6WCUI"
      },
      "execution_count": 12,
      "outputs": []
    },
    {
      "cell_type": "code",
      "source": [
        "np.allclose(res, res_gpu.T, atol=1e-2)"
      ],
      "metadata": {
        "colab": {
          "base_uri": "https://localhost:8080/"
        },
        "id": "VnEoMrC8adNX",
        "outputId": "ddf7c13e-4be2-40c3-cbe8-64e7067c5d2b"
      },
      "execution_count": 13,
      "outputs": [
        {
          "output_type": "execute_result",
          "data": {
            "text/plain": [
              "True"
            ]
          },
          "metadata": {},
          "execution_count": 13
        }
      ]
    },
    {
      "cell_type": "code",
      "source": [
        "np.max(np.abs(res-res_gpu.T))"
      ],
      "metadata": {
        "colab": {
          "base_uri": "https://localhost:8080/"
        },
        "id": "jLB2MhGFc4Jx",
        "outputId": "86897c90-1427-4d9c-8029-93ca8e2ee40a"
      },
      "execution_count": 14,
      "outputs": [
        {
          "output_type": "execute_result",
          "data": {
            "text/plain": [
              "1.1444092e-05"
            ]
          },
          "metadata": {},
          "execution_count": 14
        }
      ]
    },
    {
      "cell_type": "code",
      "source": [
        "res_gpu[0:4,0:4].T"
      ],
      "metadata": {
        "colab": {
          "base_uri": "https://localhost:8080/"
        },
        "id": "mr6mMAu5arzG",
        "outputId": "6ecbf319-ee48-4565-d401-2681f0428ca7"
      },
      "execution_count": 15,
      "outputs": [
        {
          "output_type": "execute_result",
          "data": {
            "text/plain": [
              "array([[-0.768347  ,  0.29589278,  1.9595715 ,  0.71785575],\n",
              "       [ 0.9415051 ,  0.9923851 , -2.6909108 ,  1.2682693 ],\n",
              "       [ 0.10186085,  0.34578395,  0.84394276, -0.5151509 ],\n",
              "       [-1.5527645 ,  1.5836843 ,  2.0902603 ,  0.46388772]],\n",
              "      dtype=float32)"
            ]
          },
          "metadata": {},
          "execution_count": 15
        }
      ]
    },
    {
      "cell_type": "code",
      "source": [
        "res[0:4,0:4]"
      ],
      "metadata": {
        "colab": {
          "base_uri": "https://localhost:8080/"
        },
        "id": "mbeSQTMTapVu",
        "outputId": "0d7a9f06-eec3-4f58-af45-5e0e34e978e6"
      },
      "execution_count": 16,
      "outputs": [
        {
          "output_type": "execute_result",
          "data": {
            "text/plain": [
              "array([[-0.768347  ,  0.29589224,  1.9595716 ,  0.7178556 ],\n",
              "       [ 0.94150496,  0.9923849 , -2.6909096 ,  1.2682674 ],\n",
              "       [ 0.10186237,  0.34578502,  0.8439426 , -0.5151506 ],\n",
              "       [-1.5527649 ,  1.5836842 ,  2.09026   ,  0.46388733]],\n",
              "      dtype=float32)"
            ]
          },
          "metadata": {},
          "execution_count": 16
        }
      ]
    }
  ]
}