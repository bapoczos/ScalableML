{
 "cells": [
  {
   "cell_type": "code",
   "execution_count": 1,
   "metadata": {},
   "outputs": [],
   "source": [
    "import numpy as np\n",
    "import pycuda.autoinit\n",
    "from pycuda import gpuarray\n",
    "from pycuda.scan import InclusiveScanKernel\n",
    "from time import time"
   ]
  },
  {
   "cell_type": "code",
   "execution_count": 2,
   "metadata": {},
   "outputs": [],
   "source": [
    "#seq = np.array([1,2,3,4],dtype=np.float32)\n",
    "seq = np.random.normal(0,1,50).astype(np.float32)\n",
    "seq_gpu = gpuarray.to_gpu(seq)\n"
   ]
  },
  {
   "cell_type": "markdown",
   "metadata": {},
   "source": [
    "### InclusiveScanKernel\n",
    "\n",
    "The InclusiveScanKernel can be used to run binary associative operations parallel on arrays stored on GPUs. <br>\n",
    "\n",
    "Examples: \n",
    "\n",
    "a1+a2+...+an, <br>\n",
    "a1\\*a2\\*...\\*an, <br>\n",
    "max(a1,a2,...,an) <br>\n"
   ]
  },
  {
   "cell_type": "code",
   "execution_count": 3,
   "metadata": {},
   "outputs": [],
   "source": [
    "sum_gpu = InclusiveScanKernel(np.float32, \"a+b\")"
   ]
  },
  {
   "cell_type": "code",
   "execution_count": 4,
   "metadata": {},
   "outputs": [
    {
     "name": "stdout",
     "output_type": "stream",
     "text": [
      "[-0.365399   -1.1777244  -0.02585006  0.47755384 -1.2651286  -1.7261264\n",
      " -2.0969682   0.36338258  1.7729613   0.07546878  0.11856723  0.20565614\n",
      " -0.945343   -0.29189116  2.5069315   2.3546934   2.5000381   2.8058856\n",
      "  1.6873157   1.7811344   1.226975    2.320427    2.0022097   2.2759705\n",
      "  2.7239122   1.8514686   1.9156115   3.4370003   2.6179607   3.9064543\n",
      "  4.21203     5.1885986   4.7499213   5.76593     5.392536    5.893618\n",
      "  7.481668    7.1522927   7.7429366   9.500859   10.585716   11.189121\n",
      " 12.154033   13.202533   12.165617   11.042746   11.929541   12.568664\n",
      " 12.388678   11.892275  ]\n",
      "[-0.365399   -1.1777244  -0.02585006  0.47755384 -1.2651286  -1.7261264\n",
      " -2.0969682   0.36338258  1.7729614   0.0754689   0.11856735  0.20565629\n",
      " -0.9453429  -0.29189104  2.5069315   2.3546934   2.5000384   2.8058858\n",
      "  1.6873157   1.7811344   1.226975    2.320427    2.0022097   2.2759705\n",
      "  2.7239125   1.8514688   1.9156117   3.4370003   2.617961    3.9064546\n",
      "  4.21203     5.1885986   4.7499213   5.76593     5.392536    5.893618\n",
      "  7.4816685   7.152293    7.742937    9.50086    10.585716   11.189121\n",
      " 12.154032   13.202532   12.165616   11.042744   11.929539   12.568662\n",
      " 12.388677   11.892274  ]\n"
     ]
    }
   ],
   "source": [
    "print(np.cumsum(seq))\n",
    "print(sum_gpu(seq_gpu).get())\n"
   ]
  },
  {
   "cell_type": "markdown",
   "metadata": {},
   "source": [
    "### Speed Test"
   ]
  },
  {
   "cell_type": "code",
   "execution_count": 5,
   "metadata": {},
   "outputs": [],
   "source": [
    "seq_cpu = np.float32( np.random.normal(0,1,50000000) )\n",
    "seq_gpu = gpuarray.to_gpu(seq_cpu)"
   ]
  },
  {
   "cell_type": "code",
   "execution_count": 6,
   "metadata": {},
   "outputs": [
    {
     "name": "stdout",
     "output_type": "stream",
     "text": [
      "total time to compute on CPU: 0.015843\n"
     ]
    }
   ],
   "source": [
    "t1 = time()\n",
    "results_cpu=np.sum(seq_cpu)\n",
    "#results_cpu=np.sort(seq_cpu)\n",
    "t2 = time()\n",
    "print('total time to compute on CPU: %f' % (t2 - t1))"
   ]
  },
  {
   "cell_type": "code",
   "execution_count": 7,
   "metadata": {},
   "outputs": [
    {
     "name": "stdout",
     "output_type": "stream",
     "text": [
      "total time to compute on GPU: 0.006409\n"
     ]
    }
   ],
   "source": [
    "t1 = time()\n",
    "tmp=sum_gpu(seq_gpu)\n",
    "t2 = time()\n",
    "results_gpu=tmp.get()[-1]\n",
    "print('total time to compute on GPU: %f' % (t2 - t1))"
   ]
  },
  {
   "cell_type": "code",
   "execution_count": 8,
   "metadata": {},
   "outputs": [
    {
     "data": {
      "text/plain": [
       "-1580.8334"
      ]
     },
     "execution_count": 8,
     "metadata": {},
     "output_type": "execute_result"
    }
   ],
   "source": [
    "results_cpu"
   ]
  },
  {
   "cell_type": "code",
   "execution_count": 9,
   "metadata": {},
   "outputs": [
    {
     "data": {
      "text/plain": [
       "-1580.834"
      ]
     },
     "execution_count": 9,
     "metadata": {},
     "output_type": "execute_result"
    }
   ],
   "source": [
    "results_gpu"
   ]
  },
  {
   "cell_type": "code",
   "execution_count": null,
   "metadata": {},
   "outputs": [],
   "source": []
  }
 ],
 "metadata": {
  "kernelspec": {
   "display_name": "Python 3",
   "language": "python",
   "name": "python3"
  },
  "language_info": {
   "codemirror_mode": {
    "name": "ipython",
    "version": 3
   },
   "file_extension": ".py",
   "mimetype": "text/x-python",
   "name": "python",
   "nbconvert_exporter": "python",
   "pygments_lexer": "ipython3",
   "version": "3.6.13"
  },
  "toc": {
   "base_numbering": 1,
   "nav_menu": {},
   "number_sections": true,
   "sideBar": true,
   "skip_h1_title": false,
   "title_cell": "Table of Contents",
   "title_sidebar": "Contents",
   "toc_cell": false,
   "toc_position": {},
   "toc_section_display": true,
   "toc_window_display": false
  }
 },
 "nbformat": 4,
 "nbformat_minor": 2
}
