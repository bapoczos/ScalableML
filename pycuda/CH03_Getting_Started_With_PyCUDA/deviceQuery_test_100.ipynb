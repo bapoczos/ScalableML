{
  "cells": [
    {
      "cell_type": "code",
      "execution_count": null,
      "metadata": {
        "id": "zZiSzLwBcMfy",
        "outputId": "cfb92490-d5f6-4c96-ee17-c845c3cfa07a",
        "colab": {
          "base_uri": "https://localhost:8080/"
        }
      },
      "outputs": [
        {
          "output_type": "stream",
          "name": "stdout",
          "text": [
            "Looking in indexes: https://pypi.org/simple, https://us-python.pkg.dev/colab-wheels/public/simple/\n",
            "Collecting pycuda\n",
            "  Downloading pycuda-2022.2.2.tar.gz (1.7 MB)\n",
            "\u001b[2K     \u001b[90m━━━━━━━━━━━━━━━━━━━━━━━━━━━━━━━━━━━━━━━━\u001b[0m \u001b[32m1.7/1.7 MB\u001b[0m \u001b[31m12.6 MB/s\u001b[0m eta \u001b[36m0:00:00\u001b[0m\n",
            "\u001b[?25h  Installing build dependencies ... \u001b[?25l\u001b[?25hdone\n",
            "  Getting requirements to build wheel ... \u001b[?25l\u001b[?25hdone\n",
            "  Preparing metadata (pyproject.toml) ... \u001b[?25l\u001b[?25hdone\n",
            "Collecting mako\n",
            "  Downloading Mako-1.2.4-py3-none-any.whl (78 kB)\n",
            "\u001b[2K     \u001b[90m━━━━━━━━━━━━━━━━━━━━━━━━━━━━━━━━━━━━━━━━\u001b[0m \u001b[32m78.7/78.7 KB\u001b[0m \u001b[31m6.4 MB/s\u001b[0m eta \u001b[36m0:00:00\u001b[0m\n",
            "\u001b[?25hCollecting pytools>=2011.2\n",
            "  Downloading pytools-2022.1.14.tar.gz (74 kB)\n",
            "\u001b[2K     \u001b[90m━━━━━━━━━━━━━━━━━━━━━━━━━━━━━━━━━━━━━━━━\u001b[0m \u001b[32m74.6/74.6 KB\u001b[0m \u001b[31m11.4 MB/s\u001b[0m eta \u001b[36m0:00:00\u001b[0m\n",
            "\u001b[?25h  Preparing metadata (setup.py) ... \u001b[?25l\u001b[?25hdone\n",
            "Requirement already satisfied: appdirs>=1.4.0 in /usr/local/lib/python3.8/dist-packages (from pycuda) (1.4.4)\n",
            "Requirement already satisfied: platformdirs>=2.2.0 in /usr/local/lib/python3.8/dist-packages (from pytools>=2011.2->pycuda) (3.0.0)\n",
            "Requirement already satisfied: typing_extensions>=4.0 in /usr/local/lib/python3.8/dist-packages (from pytools>=2011.2->pycuda) (4.5.0)\n",
            "Requirement already satisfied: MarkupSafe>=0.9.2 in /usr/local/lib/python3.8/dist-packages (from mako->pycuda) (2.0.1)\n",
            "Building wheels for collected packages: pycuda, pytools\n",
            "  Building wheel for pycuda (pyproject.toml) ... \u001b[?25l\u001b[?25hdone\n",
            "  Created wheel for pycuda: filename=pycuda-2022.2.2-cp38-cp38-linux_x86_64.whl size=662008 sha256=7cac660ef8f20914a143db5e6cc3bf0029c7691cab9838c1d7ae41a569b58836\n",
            "  Stored in directory: /root/.cache/pip/wheels/7b/41/0d/7cecb04af969d283ebe4a69579a8b2baec0d010a1ac4159f7e\n",
            "  Building wheel for pytools (setup.py) ... \u001b[?25l\u001b[?25hdone\n",
            "  Created wheel for pytools: filename=pytools-2022.1.14-py2.py3-none-any.whl size=69870 sha256=2b7602d30ad360a0568b438e81178e74404de2431a76ee7150a963e71ac0f648\n",
            "  Stored in directory: /root/.cache/pip/wheels/cb/fc/a9/1e7e56fe02d7f58eaff555f22e79d4fc2d817012291254bae2\n",
            "Successfully built pycuda pytools\n",
            "Installing collected packages: pytools, mako, pycuda\n",
            "Successfully installed mako-1.2.4 pycuda-2022.2.2 pytools-2022.1.14\n"
          ]
        }
      ],
      "source": [
        "# This cell might take a while\n",
        "#!pip install pycuda"
      ]
    },
    {
      "cell_type": "markdown",
      "source": [
        "Check if we have a cuda device: **drv.Device.count()**"
      ],
      "metadata": {
        "id": "nHRXr2Hwd2Uo"
      }
    },
    {
      "cell_type": "code",
      "execution_count": null,
      "metadata": {
        "id": "ZCWNt5zncMf2",
        "outputId": "bbb0b167-12b1-4c27-83a7-76a7df51d03d",
        "colab": {
          "base_uri": "https://localhost:8080/"
        }
      },
      "outputs": [
        {
          "output_type": "stream",
          "name": "stdout",
          "text": [
            "Detected 1 CUDA Capable device(s)\n"
          ]
        }
      ],
      "source": [
        "import pycuda\n",
        "import pycuda.driver as drv\n",
        "drv.init()\n",
        "\n",
        "print(f'Detected {drv.Device.count()} CUDA Capable device(s)')\n"
      ]
    },
    {
      "cell_type": "markdown",
      "source": [
        "Print out some of the properties of the device."
      ],
      "metadata": {
        "id": "MXc_QpM6eH8x"
      }
    },
    {
      "cell_type": "code",
      "source": [
        "i=0\n",
        "gpu_device = drv.Device(i)\n",
        "\n",
        "# print out the name of the device\n",
        "print(f'Device {i}: {gpu_device.name()}')\n",
        "\n"
      ],
      "metadata": {
        "id": "qOpPommMeS7y",
        "outputId": "eb7337b1-5d34-4bb4-a6e0-2cb75c14a0bd",
        "colab": {
          "base_uri": "https://localhost:8080/"
        }
      },
      "execution_count": null,
      "outputs": [
        {
          "output_type": "stream",
          "name": "stdout",
          "text": [
            "Device 0: Tesla T4\n"
          ]
        }
      ]
    },
    {
      "cell_type": "code",
      "source": [
        "# print out the name out the compute capability of the device\n",
        "# This will determine how many GPU cores we have. \n",
        "# See below for the details.\n",
        "\n",
        "compute_capability = float( '%d.%d' % gpu_device.compute_capability() )\n",
        "\n",
        "print(f'\\t Compute Capability: {compute_capability}')\n"
      ],
      "metadata": {
        "id": "RkpJw7Y4egvt",
        "outputId": "34ef4644-63b1-4b11-84bc-62a4d112cb0d",
        "colab": {
          "base_uri": "https://localhost:8080/"
        }
      },
      "execution_count": null,
      "outputs": [
        {
          "output_type": "stream",
          "name": "stdout",
          "text": [
            "\t Compute Capability: 7.5\n"
          ]
        }
      ]
    },
    {
      "cell_type": "code",
      "execution_count": null,
      "metadata": {
        "id": "rRoMk8SDcMf3",
        "outputId": "7f978e15-aa71-4865-95c6-c1b03e130fef",
        "colab": {
          "base_uri": "https://localhost:8080/"
        }
      },
      "outputs": [
        {
          "output_type": "stream",
          "name": "stdout",
          "text": [
            "\t Total Memory: 15109 megabytes\n"
          ]
        }
      ],
      "source": [
        "# memory of the device in megabytes:\n",
        "print(f'\\t Total Memory: {gpu_device.total_memory()//(1024**2)} megabytes')"
      ]
    },
    {
      "cell_type": "code",
      "execution_count": null,
      "metadata": {
        "id": "PXqRXllScMf4",
        "outputId": "42966e65-2fb6-4bfe-93ab-44089f23f3d8",
        "colab": {
          "base_uri": "https://localhost:8080/"
        }
      },
      "outputs": [
        {
          "output_type": "execute_result",
          "data": {
            "text/plain": [
              "{'ASYNC_ENGINE_COUNT': 3,\n",
              " 'CAN_MAP_HOST_MEMORY': 1,\n",
              " 'CAN_USE_HOST_POINTER_FOR_REGISTERED_MEM': 1,\n",
              " 'CLOCK_RATE': 1590000,\n",
              " 'COMPUTE_CAPABILITY_MAJOR': 7,\n",
              " 'COMPUTE_CAPABILITY_MINOR': 5,\n",
              " 'COMPUTE_MODE': pycuda._driver.compute_mode.DEFAULT,\n",
              " 'COMPUTE_PREEMPTION_SUPPORTED': 1,\n",
              " 'CONCURRENT_KERNELS': 1,\n",
              " 'CONCURRENT_MANAGED_ACCESS': 1,\n",
              " 'DIRECT_MANAGED_MEM_ACCESS_FROM_HOST': 0,\n",
              " 'ECC_ENABLED': 1,\n",
              " 'GENERIC_COMPRESSION_SUPPORTED': 0,\n",
              " 'GLOBAL_L1_CACHE_SUPPORTED': 1,\n",
              " 'GLOBAL_MEMORY_BUS_WIDTH': 256,\n",
              " 'GPU_OVERLAP': 1,\n",
              " 'HANDLE_TYPE_POSIX_FILE_DESCRIPTOR_SUPPORTED': 1,\n",
              " 'HANDLE_TYPE_WIN32_HANDLE_SUPPORTED': 0,\n",
              " 'HANDLE_TYPE_WIN32_KMT_HANDLE_SUPPORTED': 0,\n",
              " 'HOST_NATIVE_ATOMIC_SUPPORTED': 0,\n",
              " 'INTEGRATED': 0,\n",
              " 'KERNEL_EXEC_TIMEOUT': 0,\n",
              " 'L2_CACHE_SIZE': 4194304,\n",
              " 'LOCAL_L1_CACHE_SUPPORTED': 1,\n",
              " 'MANAGED_MEMORY': 1,\n",
              " 'MAXIMUM_SURFACE1D_LAYERED_LAYERS': 2048,\n",
              " 'MAXIMUM_SURFACE1D_LAYERED_WIDTH': 32768,\n",
              " 'MAXIMUM_SURFACE1D_WIDTH': 32768,\n",
              " 'MAXIMUM_SURFACE2D_HEIGHT': 65536,\n",
              " 'MAXIMUM_SURFACE2D_LAYERED_HEIGHT': 32768,\n",
              " 'MAXIMUM_SURFACE2D_LAYERED_LAYERS': 2048,\n",
              " 'MAXIMUM_SURFACE2D_LAYERED_WIDTH': 32768,\n",
              " 'MAXIMUM_SURFACE2D_WIDTH': 131072,\n",
              " 'MAXIMUM_SURFACE3D_DEPTH': 16384,\n",
              " 'MAXIMUM_SURFACE3D_HEIGHT': 16384,\n",
              " 'MAXIMUM_SURFACE3D_WIDTH': 16384,\n",
              " 'MAXIMUM_SURFACECUBEMAP_LAYERED_LAYERS': 2046,\n",
              " 'MAXIMUM_SURFACECUBEMAP_LAYERED_WIDTH': 32768,\n",
              " 'MAXIMUM_SURFACECUBEMAP_WIDTH': 32768,\n",
              " 'MAXIMUM_TEXTURE1D_LAYERED_LAYERS': 2048,\n",
              " 'MAXIMUM_TEXTURE1D_LAYERED_WIDTH': 32768,\n",
              " 'MAXIMUM_TEXTURE1D_LINEAR_WIDTH': 268435456,\n",
              " 'MAXIMUM_TEXTURE1D_MIPMAPPED_WIDTH': 32768,\n",
              " 'MAXIMUM_TEXTURE1D_WIDTH': 131072,\n",
              " 'MAXIMUM_TEXTURE2D_ARRAY_HEIGHT': 32768,\n",
              " 'MAXIMUM_TEXTURE2D_ARRAY_NUMSLICES': 2048,\n",
              " 'MAXIMUM_TEXTURE2D_ARRAY_WIDTH': 32768,\n",
              " 'MAXIMUM_TEXTURE2D_GATHER_HEIGHT': 32768,\n",
              " 'MAXIMUM_TEXTURE2D_GATHER_WIDTH': 32768,\n",
              " 'MAXIMUM_TEXTURE2D_HEIGHT': 65536,\n",
              " 'MAXIMUM_TEXTURE2D_LINEAR_HEIGHT': 65000,\n",
              " 'MAXIMUM_TEXTURE2D_LINEAR_PITCH': 2097120,\n",
              " 'MAXIMUM_TEXTURE2D_LINEAR_WIDTH': 131072,\n",
              " 'MAXIMUM_TEXTURE2D_MIPMAPPED_HEIGHT': 32768,\n",
              " 'MAXIMUM_TEXTURE2D_MIPMAPPED_WIDTH': 32768,\n",
              " 'MAXIMUM_TEXTURE2D_WIDTH': 131072,\n",
              " 'MAXIMUM_TEXTURE3D_DEPTH': 16384,\n",
              " 'MAXIMUM_TEXTURE3D_DEPTH_ALTERNATE': 32768,\n",
              " 'MAXIMUM_TEXTURE3D_HEIGHT': 16384,\n",
              " 'MAXIMUM_TEXTURE3D_HEIGHT_ALTERNATE': 8192,\n",
              " 'MAXIMUM_TEXTURE3D_WIDTH': 16384,\n",
              " 'MAXIMUM_TEXTURE3D_WIDTH_ALTERNATE': 8192,\n",
              " 'MAXIMUM_TEXTURECUBEMAP_LAYERED_LAYERS': 2046,\n",
              " 'MAXIMUM_TEXTURECUBEMAP_LAYERED_WIDTH': 32768,\n",
              " 'MAXIMUM_TEXTURECUBEMAP_WIDTH': 32768,\n",
              " 'MAX_BLOCKS_PER_MULTIPROCESSOR': 16,\n",
              " 'MAX_BLOCK_DIM_X': 1024,\n",
              " 'MAX_BLOCK_DIM_Y': 1024,\n",
              " 'MAX_BLOCK_DIM_Z': 64,\n",
              " 'MAX_GRID_DIM_X': 2147483647,\n",
              " 'MAX_GRID_DIM_Y': 65535,\n",
              " 'MAX_GRID_DIM_Z': 65535,\n",
              " 'MAX_PERSISTING_L2_CACHE_SIZE': 0,\n",
              " 'MAX_PITCH': 2147483647,\n",
              " 'MAX_REGISTERS_PER_BLOCK': 65536,\n",
              " 'MAX_REGISTERS_PER_MULTIPROCESSOR': 65536,\n",
              " 'MAX_SHARED_MEMORY_PER_BLOCK': 49152,\n",
              " 'MAX_SHARED_MEMORY_PER_BLOCK_OPTIN': 65536,\n",
              " 'MAX_SHARED_MEMORY_PER_MULTIPROCESSOR': 65536,\n",
              " 'MAX_THREADS_PER_BLOCK': 1024,\n",
              " 'MAX_THREADS_PER_MULTIPROCESSOR': 1024,\n",
              " 'MEMORY_CLOCK_RATE': 5001000,\n",
              " 'MEMORY_POOLS_SUPPORTED': 1,\n",
              " 'MULTIPROCESSOR_COUNT': 40,\n",
              " 'MULTI_GPU_BOARD': 0,\n",
              " 'MULTI_GPU_BOARD_GROUP_ID': 0,\n",
              " 'PAGEABLE_MEMORY_ACCESS': 0,\n",
              " 'PAGEABLE_MEMORY_ACCESS_USES_HOST_PAGE_TABLES': 0,\n",
              " 'PCI_BUS_ID': 0,\n",
              " 'PCI_DEVICE_ID': 4,\n",
              " 'PCI_DOMAIN_ID': 0,\n",
              " 'READ_ONLY_HOST_REGISTER_SUPPORTED': 1,\n",
              " 'RESERVED_SHARED_MEMORY_PER_BLOCK': 0,\n",
              " 'SINGLE_TO_DOUBLE_PRECISION_PERF_RATIO': 32,\n",
              " 'STREAM_PRIORITIES_SUPPORTED': 1,\n",
              " 'SURFACE_ALIGNMENT': 512,\n",
              " 'TCC_DRIVER': 0,\n",
              " 'TEXTURE_ALIGNMENT': 512,\n",
              " 'TEXTURE_PITCH_ALIGNMENT': 32,\n",
              " 'TOTAL_CONSTANT_MEMORY': 65536,\n",
              " 'UNIFIED_ADDRESSING': 1,\n",
              " 'WARP_SIZE': 32}"
            ]
          },
          "metadata": {},
          "execution_count": 7
        }
      ],
      "source": [
        "# print out all the other device attributes and their values\n",
        "device_attributes_tuples = tuple(gpu_device.get_attributes().items())\n",
        "device_attributes = {}\n",
        "    \n",
        "for k, v in device_attributes_tuples:\n",
        "        device_attributes[str(k)] = v\n",
        "\n",
        "device_attributes"
      ]
    },
    {
      "cell_type": "code",
      "execution_count": null,
      "metadata": {
        "code_folding": [],
        "id": "gDdjpGFXcMf5",
        "outputId": "c18905e6-165d-4fb4-a20a-9578011b542f",
        "colab": {
          "base_uri": "https://localhost:8080/"
        }
      },
      "outputs": [
        {
          "output_type": "stream",
          "name": "stdout",
          "text": [
            "compute_capability: 7.5\n",
            "CUDA Cores / Multiprocessor: 64\n",
            "number of multiprocessors: 40\n",
            "CUDA Cores: 2560 \n"
          ]
        }
      ],
      "source": [
        "# Cores per multiprocessor is not reported by the GPU!  \n",
        "# We must use a lookup table based on compute capability.\n",
        "# See the following:\n",
        "# http://docs.nvidia.com/cuda/cuda-c-programming-guide/index.html#compute-capabilities\n",
        "    \n",
        "print(f'compute_capability: {compute_capability}')\n",
        "\n",
        "cuda_cores_per_mp = {3.7:32, 5.0 : 128, 5.1 : 128, 5.2 : 128, 6.0 : 64, 6.1 : 128, 6.2 : 128, 7.5: 64}[compute_capability]\n",
        "print(f'CUDA Cores / Multiprocessor: {cuda_cores_per_mp}')\n",
        "\n",
        "num_mp = device_attributes['MULTIPROCESSOR_COUNT']\n",
        "print(f'number of multiprocessors: {num_mp}')\n",
        "\n",
        "print(f'CUDA Cores: {num_mp*cuda_cores_per_mp} ')\n",
        "    \n"
      ]
    },
    {
      "cell_type": "markdown",
      "source": [
        "Let us print all these for all GPUs "
      ],
      "metadata": {
        "id": "v7bRgcHbgUHf"
      }
    },
    {
      "cell_type": "code",
      "execution_count": null,
      "metadata": {
        "id": "MeFfOOVHcMf5",
        "outputId": "7784eed1-cda0-42b3-fe85-821c9caef6eb",
        "colab": {
          "base_uri": "https://localhost:8080/"
        }
      },
      "outputs": [
        {
          "output_type": "stream",
          "name": "stdout",
          "text": [
            "Device 0: Tesla T4\n",
            "\t Compute Capability: 7.5\n",
            "\t Total Memory: 15109 megabytes\n",
            "\t ASYNC_ENGINE_COUNT: 3\n",
            "\t CAN_MAP_HOST_MEMORY: 1\n",
            "\t CAN_USE_HOST_POINTER_FOR_REGISTERED_MEM: 1\n",
            "\t CLOCK_RATE: 1590000\n",
            "\t COMPUTE_CAPABILITY_MAJOR: 7\n",
            "\t COMPUTE_CAPABILITY_MINOR: 5\n",
            "\t COMPUTE_MODE: DEFAULT\n",
            "\t COMPUTE_PREEMPTION_SUPPORTED: 1\n",
            "\t CONCURRENT_KERNELS: 1\n",
            "\t CONCURRENT_MANAGED_ACCESS: 1\n",
            "\t DIRECT_MANAGED_MEM_ACCESS_FROM_HOST: 0\n",
            "\t ECC_ENABLED: 1\n",
            "\t GENERIC_COMPRESSION_SUPPORTED: 0\n",
            "\t GLOBAL_L1_CACHE_SUPPORTED: 1\n",
            "\t GLOBAL_MEMORY_BUS_WIDTH: 256\n",
            "\t GPU_OVERLAP: 1\n",
            "\t HANDLE_TYPE_POSIX_FILE_DESCRIPTOR_SUPPORTED: 1\n",
            "\t HANDLE_TYPE_WIN32_HANDLE_SUPPORTED: 0\n",
            "\t HANDLE_TYPE_WIN32_KMT_HANDLE_SUPPORTED: 0\n",
            "\t HOST_NATIVE_ATOMIC_SUPPORTED: 0\n",
            "\t INTEGRATED: 0\n",
            "\t KERNEL_EXEC_TIMEOUT: 0\n",
            "\t L2_CACHE_SIZE: 4194304\n",
            "\t LOCAL_L1_CACHE_SUPPORTED: 1\n",
            "\t MANAGED_MEMORY: 1\n",
            "\t MAXIMUM_SURFACE1D_LAYERED_LAYERS: 2048\n",
            "\t MAXIMUM_SURFACE1D_LAYERED_WIDTH: 32768\n",
            "\t MAXIMUM_SURFACE1D_WIDTH: 32768\n",
            "\t MAXIMUM_SURFACE2D_HEIGHT: 65536\n",
            "\t MAXIMUM_SURFACE2D_LAYERED_HEIGHT: 32768\n",
            "\t MAXIMUM_SURFACE2D_LAYERED_LAYERS: 2048\n",
            "\t MAXIMUM_SURFACE2D_LAYERED_WIDTH: 32768\n",
            "\t MAXIMUM_SURFACE2D_WIDTH: 131072\n",
            "\t MAXIMUM_SURFACE3D_DEPTH: 16384\n",
            "\t MAXIMUM_SURFACE3D_HEIGHT: 16384\n",
            "\t MAXIMUM_SURFACE3D_WIDTH: 16384\n",
            "\t MAXIMUM_SURFACECUBEMAP_LAYERED_LAYERS: 2046\n",
            "\t MAXIMUM_SURFACECUBEMAP_LAYERED_WIDTH: 32768\n",
            "\t MAXIMUM_SURFACECUBEMAP_WIDTH: 32768\n",
            "\t MAXIMUM_TEXTURE1D_LAYERED_LAYERS: 2048\n",
            "\t MAXIMUM_TEXTURE1D_LAYERED_WIDTH: 32768\n",
            "\t MAXIMUM_TEXTURE1D_LINEAR_WIDTH: 268435456\n",
            "\t MAXIMUM_TEXTURE1D_MIPMAPPED_WIDTH: 32768\n",
            "\t MAXIMUM_TEXTURE1D_WIDTH: 131072\n",
            "\t MAXIMUM_TEXTURE2D_ARRAY_HEIGHT: 32768\n",
            "\t MAXIMUM_TEXTURE2D_ARRAY_NUMSLICES: 2048\n",
            "\t MAXIMUM_TEXTURE2D_ARRAY_WIDTH: 32768\n",
            "\t MAXIMUM_TEXTURE2D_GATHER_HEIGHT: 32768\n",
            "\t MAXIMUM_TEXTURE2D_GATHER_WIDTH: 32768\n",
            "\t MAXIMUM_TEXTURE2D_HEIGHT: 65536\n",
            "\t MAXIMUM_TEXTURE2D_LINEAR_HEIGHT: 65000\n",
            "\t MAXIMUM_TEXTURE2D_LINEAR_PITCH: 2097120\n",
            "\t MAXIMUM_TEXTURE2D_LINEAR_WIDTH: 131072\n",
            "\t MAXIMUM_TEXTURE2D_MIPMAPPED_HEIGHT: 32768\n",
            "\t MAXIMUM_TEXTURE2D_MIPMAPPED_WIDTH: 32768\n",
            "\t MAXIMUM_TEXTURE2D_WIDTH: 131072\n",
            "\t MAXIMUM_TEXTURE3D_DEPTH: 16384\n",
            "\t MAXIMUM_TEXTURE3D_DEPTH_ALTERNATE: 32768\n",
            "\t MAXIMUM_TEXTURE3D_HEIGHT: 16384\n",
            "\t MAXIMUM_TEXTURE3D_HEIGHT_ALTERNATE: 8192\n",
            "\t MAXIMUM_TEXTURE3D_WIDTH: 16384\n",
            "\t MAXIMUM_TEXTURE3D_WIDTH_ALTERNATE: 8192\n",
            "\t MAXIMUM_TEXTURECUBEMAP_LAYERED_LAYERS: 2046\n",
            "\t MAXIMUM_TEXTURECUBEMAP_LAYERED_WIDTH: 32768\n",
            "\t MAXIMUM_TEXTURECUBEMAP_WIDTH: 32768\n",
            "\t MAX_BLOCKS_PER_MULTIPROCESSOR: 16\n",
            "\t MAX_BLOCK_DIM_X: 1024\n",
            "\t MAX_BLOCK_DIM_Y: 1024\n",
            "\t MAX_BLOCK_DIM_Z: 64\n",
            "\t MAX_GRID_DIM_X: 2147483647\n",
            "\t MAX_GRID_DIM_Y: 65535\n",
            "\t MAX_GRID_DIM_Z: 65535\n",
            "\t MAX_PERSISTING_L2_CACHE_SIZE: 0\n",
            "\t MAX_PITCH: 2147483647\n",
            "\t MAX_REGISTERS_PER_BLOCK: 65536\n",
            "\t MAX_REGISTERS_PER_MULTIPROCESSOR: 65536\n",
            "\t MAX_SHARED_MEMORY_PER_BLOCK: 49152\n",
            "\t MAX_SHARED_MEMORY_PER_BLOCK_OPTIN: 65536\n",
            "\t MAX_SHARED_MEMORY_PER_MULTIPROCESSOR: 65536\n",
            "\t MAX_THREADS_PER_BLOCK: 1024\n",
            "\t MAX_THREADS_PER_MULTIPROCESSOR: 1024\n",
            "\t MEMORY_CLOCK_RATE: 5001000\n",
            "\t MEMORY_POOLS_SUPPORTED: 1\n",
            "\t MULTIPROCESSOR_COUNT: 40\n",
            "\t MULTI_GPU_BOARD: 0\n",
            "\t MULTI_GPU_BOARD_GROUP_ID: 0\n",
            "\t PAGEABLE_MEMORY_ACCESS: 0\n",
            "\t PAGEABLE_MEMORY_ACCESS_USES_HOST_PAGE_TABLES: 0\n",
            "\t PCI_BUS_ID: 0\n",
            "\t PCI_DEVICE_ID: 4\n",
            "\t PCI_DOMAIN_ID: 0\n",
            "\t READ_ONLY_HOST_REGISTER_SUPPORTED: 1\n",
            "\t RESERVED_SHARED_MEMORY_PER_BLOCK: 0\n",
            "\t SINGLE_TO_DOUBLE_PRECISION_PERF_RATIO: 32\n",
            "\t STREAM_PRIORITIES_SUPPORTED: 1\n",
            "\t SURFACE_ALIGNMENT: 512\n",
            "\t TCC_DRIVER: 0\n",
            "\t TEXTURE_ALIGNMENT: 512\n",
            "\t TEXTURE_PITCH_ALIGNMENT: 32\n",
            "\t TOTAL_CONSTANT_MEMORY: 65536\n",
            "\t UNIFIED_ADDRESSING: 1\n",
            "\t WARP_SIZE: 32\n"
          ]
        }
      ],
      "source": [
        "for i in range(drv.Device.count()):\n",
        "    \n",
        "    gpu_device = drv.Device(i)\n",
        "    print('Device {}: {}'.format( i, gpu_device.name() ) )\n",
        "    compute_capability = float( '%d.%d' % gpu_device.compute_capability() )\n",
        "    print('\\t Compute Capability: {}'.format(compute_capability))\n",
        "    print('\\t Total Memory: {} megabytes'.format(gpu_device.total_memory()//(1024**2)))\n",
        "    \n",
        "    # The following will give us all remaining device attributes as seen \n",
        "    # in the original deviceQuery.\n",
        "    # We set up a dictionary as such so that we can easily index\n",
        "    # the values using a string descriptor.\n",
        "    \n",
        "    device_attributes_tuples = gpu_device.get_attributes().items() \n",
        "    device_attributes = {}\n",
        "    \n",
        "    for k, v in device_attributes_tuples:\n",
        "        device_attributes[str(k)] = v\n",
        "    \n",
        "    for k in device_attributes.keys():\n",
        "        print('\\t {}: {}'.format(k, device_attributes[k]))"
      ]
    },
    {
      "cell_type": "code",
      "execution_count": null,
      "metadata": {
        "id": "_G1Qt6BhcMf6"
      },
      "outputs": [],
      "source": []
    }
  ],
  "metadata": {
    "kernelspec": {
      "display_name": "Python 3",
      "language": "python",
      "name": "python3"
    },
    "language_info": {
      "codemirror_mode": {
        "name": "ipython",
        "version": 3
      },
      "file_extension": ".py",
      "mimetype": "text/x-python",
      "name": "python",
      "nbconvert_exporter": "python",
      "pygments_lexer": "ipython3",
      "version": "3.6.13"
    },
    "toc": {
      "base_numbering": 1,
      "nav_menu": {},
      "number_sections": true,
      "sideBar": true,
      "skip_h1_title": false,
      "title_cell": "Table of Contents",
      "title_sidebar": "Contents",
      "toc_cell": false,
      "toc_position": {},
      "toc_section_display": true,
      "toc_window_display": false
    },
    "colab": {
      "provenance": []
    },
    "accelerator": "GPU",
    "gpuClass": "standard"
  },
  "nbformat": 4,
  "nbformat_minor": 0
}