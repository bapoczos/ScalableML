{
 "cells": [
  {
   "cell_type": "code",
   "execution_count": 1,
   "metadata": {},
   "outputs": [],
   "source": [
    "import numpy as np\n",
    "import pycuda.autoinit\n",
    "from pycuda import gpuarray\n",
    "from time import time\n"
   ]
  },
  {
   "cell_type": "code",
   "execution_count": 2,
   "metadata": {},
   "outputs": [
    {
     "name": "stdout",
     "output_type": "stream",
     "text": [
      "total time to compute on CPU: 0.04358506202697754\n"
     ]
    }
   ],
   "source": [
    "host_data = np.float32( np.random.random(50000000) )\n",
    "\n",
    "t1 = time()\n",
    "host_data_2x =  host_data * np.float32(2)\n",
    "t2 = time()\n",
    "\n",
    "print(f'total time to compute on CPU: {t2 - t1}')\n"
   ]
  },
  {
   "cell_type": "code",
   "execution_count": 3,
   "metadata": {},
   "outputs": [
    {
     "name": "stdout",
     "output_type": "stream",
     "text": [
      "total time to compute on GPU: 0.22163796424865723\n",
      "Is the host computation the same as the GPU computation? : True\n"
     ]
    }
   ],
   "source": [
    "device_data = gpuarray.to_gpu(host_data)\n",
    "\n",
    "t1 = time()\n",
    "device_data_2x =  device_data * np.float32( 2 )\n",
    "t2 = time()\n",
    "\n",
    "from_device = device_data_2x.get()\n",
    "\n",
    "print(f'total time to compute on GPU: {t2 - t1}')\n",
    "print(f'Is the host computation the same as the GPU computation? : {np.allclose(from_device, host_data_2x)}')\n"
   ]
  },
  {
   "cell_type": "code",
   "execution_count": 4,
   "metadata": {},
   "outputs": [
    {
     "name": "stdout",
     "output_type": "stream",
     "text": [
      "total time to compute on GPU: 0.0008945465087890625\n"
     ]
    }
   ],
   "source": [
    "t1 = time()\n",
    "device_data_2x =  device_data * np.float32( 2 )\n",
    "t2 = time()\n",
    "\n",
    "from_device = device_data_2x.get()\n",
    "\n",
    "print(f'total time to compute on GPU: {t2 - t1}')"
   ]
  },
  {
   "cell_type": "code",
   "execution_count": null,
   "metadata": {},
   "outputs": [],
   "source": []
  }
 ],
 "metadata": {
  "kernelspec": {
   "display_name": "Python 3",
   "language": "python",
   "name": "python3"
  },
  "language_info": {
   "codemirror_mode": {
    "name": "ipython",
    "version": 3
   },
   "file_extension": ".py",
   "mimetype": "text/x-python",
   "name": "python",
   "nbconvert_exporter": "python",
   "pygments_lexer": "ipython3",
   "version": "3.6.13"
  },
  "toc": {
   "base_numbering": 1,
   "nav_menu": {},
   "number_sections": true,
   "sideBar": true,
   "skip_h1_title": false,
   "title_cell": "Table of Contents",
   "title_sidebar": "Contents",
   "toc_cell": false,
   "toc_position": {},
   "toc_section_display": true,
   "toc_window_display": false
  }
 },
 "nbformat": 4,
 "nbformat_minor": 2
}
