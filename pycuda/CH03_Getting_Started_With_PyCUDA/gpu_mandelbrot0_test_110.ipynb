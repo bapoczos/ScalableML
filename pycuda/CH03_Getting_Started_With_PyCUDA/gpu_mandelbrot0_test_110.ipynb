{
 "cells": [
  {
   "cell_type": "code",
   "execution_count": 1,
   "metadata": {},
   "outputs": [],
   "source": [
    "from time import time\n",
    "import matplotlib\n",
    "#this will prevent the figure from popping up\n",
    "matplotlib.use('Agg')\n",
    "from matplotlib import pyplot as plt\n",
    "import numpy as np\n",
    "import pycuda.autoinit\n",
    "from pycuda import gpuarray\n",
    "from pycuda.elementwise import ElementwiseKernel\n",
    "%matplotlib inline"
   ]
  },
  {
   "cell_type": "markdown",
   "metadata": {},
   "source": [
    "### ElementwiseKernel kernel function"
   ]
  },
  {
   "cell_type": "markdown",
   "metadata": {},
   "source": [
    "<b>pycuda::complex<float> *lattice </b>: 2D complex np array. The input of the kernel. The kernel function will run parallel on each of its elements. <br>\n",
    "    \n",
    "<b>float *mandelbrot_graph</b>: 2D float np array. The output of the kernel.<br>\n",
    "    \n",
    "<b>int max_iters</b>: np.int32 max iteration number<br>\n",
    "\n",
    "<b>float upper_bound</b>: float, parameter of the fractal <br>"
   ]
  },
  {
   "cell_type": "markdown",
   "metadata": {},
   "source": [
    "The kernel function will run parallel on each of its input elements. The 2D input and output matrices will be flattened and indexed by **i**."
   ]
  },
  {
   "cell_type": "code",
   "execution_count": 2,
   "metadata": {},
   "outputs": [],
   "source": [
    "### the kernel function ###\n",
    "\n",
    "# ElementwiseKernel(inputs with their types, kernel code, kernel name)\n",
    "\n",
    "mandel_ker = ElementwiseKernel(\n",
    "\"pycuda::complex<float> *lattice, float *mandelbrot_graph, int max_iters, float upper_bound\",\n",
    "\"\"\"\n",
    "mandelbrot_graph[i] = 1;\n",
    "\n",
    "pycuda::complex<float> c = lattice[i]; \n",
    "pycuda::complex<float> z(0,0);\n",
    "\n",
    "for (int j = 0; j < max_iters; j++)\n",
    "    {\n",
    "    \n",
    "     z = z*z + c;\n",
    "     \n",
    "     if(abs(z) > upper_bound)\n",
    "         {\n",
    "          mandelbrot_graph[i] = 0;\n",
    "          break;\n",
    "         }\n",
    "\n",
    "    }\n",
    "         \n",
    "\"\"\",\n",
    "\"mandel_ker\")\n"
   ]
  },
  {
   "cell_type": "markdown",
   "metadata": {},
   "source": [
    "### Create a complex 2D latice"
   ]
  },
  {
   "cell_type": "code",
   "execution_count": 3,
   "metadata": {},
   "outputs": [],
   "source": [
    "width=512 \n",
    "height=512 \n",
    "real_low=-2 \n",
    "real_high=2 \n",
    "imag_low=-2 \n",
    "imag_high=2 \n",
    "max_iters=256 \n",
    "upper_bound=2\n"
   ]
  },
  {
   "cell_type": "code",
   "execution_count": 4,
   "metadata": {},
   "outputs": [
    {
     "name": "stdout",
     "output_type": "stream",
     "text": [
      "(512, 512)\n",
      "<class 'numpy.ndarray'>\n"
     ]
    }
   ],
   "source": [
    "# we set up our complex lattice. This will be the kernel input\n",
    "real_vals = np.matrix(np.linspace(real_low, real_high, width), dtype=np.complex64)\n",
    "imag_vals = np.matrix(np.linspace( imag_high, imag_low, height), dtype=np.complex64) * 1j\n",
    "mandelbrot_lattice = np.array(real_vals + imag_vals.transpose(), dtype=np.complex64)    \n",
    "\n",
    "print(mandelbrot_lattice.shape)\n",
    "print(type(mandelbrot_lattice))"
   ]
  },
  {
   "cell_type": "code",
   "execution_count": 5,
   "metadata": {},
   "outputs": [
    {
     "name": "stdout",
     "output_type": "stream",
     "text": [
      "(-2+2j)\n",
      "(-2-2j)\n",
      "(2+2j)\n",
      "(2-2j)\n",
      "(-0.0039138943+0.0039138943j)\n",
      "(0.0039138943-0.0039138943j)\n"
     ]
    }
   ],
   "source": [
    "print(mandelbrot_lattice[0,0])\n",
    "print(mandelbrot_lattice[511,0])\n",
    "print(mandelbrot_lattice[0,511])\n",
    "print(mandelbrot_lattice[511,511])\n",
    "print(mandelbrot_lattice[255,255])\n",
    "print(mandelbrot_lattice[256,256])"
   ]
  },
  {
   "cell_type": "code",
   "execution_count": 6,
   "metadata": {},
   "outputs": [
    {
     "name": "stdout",
     "output_type": "stream",
     "text": [
      "(512, 512)\n",
      "<class 'pycuda.gpuarray.GPUArray'>\n"
     ]
    }
   ],
   "source": [
    "# copy complex lattice to the GPU\n",
    "mandelbrot_lattice_gpu = gpuarray.to_gpu(mandelbrot_lattice)\n",
    "print(mandelbrot_lattice_gpu.shape)\n",
    "print(type(mandelbrot_lattice_gpu))"
   ]
  },
  {
   "cell_type": "code",
   "execution_count": 7,
   "metadata": {},
   "outputs": [
    {
     "name": "stdout",
     "output_type": "stream",
     "text": [
      "(512, 512)\n",
      "<class 'pycuda.gpuarray.GPUArray'>\n"
     ]
    }
   ],
   "source": [
    "# allocate an empty array on the GPU\n",
    "# this will be the output\n",
    "mandelbrot_graph_gpu = gpuarray.empty(shape=mandelbrot_lattice.shape, dtype=np.float32)\n",
    "print(mandelbrot_graph_gpu.shape)\n",
    "print(type(mandelbrot_graph_gpu))"
   ]
  },
  {
   "cell_type": "code",
   "execution_count": 8,
   "metadata": {},
   "outputs": [
    {
     "name": "stdout",
     "output_type": "stream",
     "text": [
      "It took 0.2143235206604004 seconds to calculate the Mandelbrot graph.\n"
     ]
    }
   ],
   "source": [
    "#calling the kernel function on GPU\n",
    "t1 = time()\n",
    "mandel_ker( mandelbrot_lattice_gpu, mandelbrot_graph_gpu, np.int32(max_iters), np.float32(upper_bound))\n",
    "t2 = time()\n",
    "\n",
    "mandel_time = t2 - t1\n",
    "print(f'It took {mandel_time} seconds to calculate the Mandelbrot graph.')"
   ]
  },
  {
   "cell_type": "markdown",
   "metadata": {},
   "source": [
    "**Let us call the kernel function once more**"
   ]
  },
  {
   "cell_type": "code",
   "execution_count": 9,
   "metadata": {},
   "outputs": [
    {
     "name": "stdout",
     "output_type": "stream",
     "text": [
      "It took 0.00017714500427246094 seconds to calculate the Mandelbrot graph.\n"
     ]
    }
   ],
   "source": [
    "#calling the kernel function on GPU\n",
    "t1 = time()\n",
    "mandel_ker( mandelbrot_lattice_gpu, mandelbrot_graph_gpu, np.int32(max_iters), np.float32(upper_bound))\n",
    "t2 = time()\n",
    "mandel_time = t2 - t1\n",
    "print(f'It took {mandel_time} seconds to calculate the Mandelbrot graph.')"
   ]
  },
  {
   "cell_type": "markdown",
   "metadata": {},
   "source": [
    "**It was much faster at the second time** <br>\n",
    "The first time pycuda had to compile the kernel function, the second time we don't need to compile it anymore.\n"
   ]
  },
  {
   "cell_type": "markdown",
   "metadata": {},
   "source": [
    "### Show the results"
   ]
  },
  {
   "cell_type": "code",
   "execution_count": 10,
   "metadata": {},
   "outputs": [],
   "source": [
    "# get the results back to CPU\n",
    "mandelbrot_graph = mandelbrot_graph_gpu.get()"
   ]
  },
  {
   "cell_type": "code",
   "execution_count": 11,
   "metadata": {},
   "outputs": [
    {
     "name": "stdout",
     "output_type": "stream",
     "text": [
      "It took 0.11837959289550781 seconds to dump the image.\n"
     ]
    },
    {
     "data": {
      "image/png": "[encoded data removed]",
      "text/plain": [
       "<Figure size 432x288 with 1 Axes>"
      ]
     },
     "metadata": {
      "needs_background": "light"
     },
     "output_type": "display_data"
    }
   ],
   "source": [
    "t1 = time()\n",
    "fig = plt.figure(1)\n",
    "plt.imshow(mandelbrot_graph, extent=(-2, 2, -2, 2))\n",
    "plt.savefig('mandelbrot.png', dpi=fig.dpi)\n",
    "t2 = time()\n",
    "\n",
    "dump_time = t2 - t1\n",
    "print(f'It took {dump_time} seconds to dump the image.')"
   ]
  },
  {
   "cell_type": "code",
   "execution_count": 12,
   "metadata": {},
   "outputs": [
    {
     "name": "stdout",
     "output_type": "stream",
     "text": [
      "<class 'pycuda.gpuarray.GPUArray'>\n"
     ]
    }
   ],
   "source": [
    "print(type(mandelbrot_graph_gpu))\n",
    "\n",
    "#this wouldn't work:\n",
    "#plt.imshow(float(mandelbrot_graph_gpu), extent=(-2, 2, -2, 2))\n",
    "# because mandelbrot_graph_gpu is has type GPUArray  and it is on the GPU"
   ]
  },
  {
   "cell_type": "code",
   "execution_count": null,
   "metadata": {},
   "outputs": [],
   "source": []
  }
 ],
 "metadata": {
  "kernelspec": {
   "display_name": "Python 3",
   "language": "python",
   "name": "python3"
  },
  "language_info": {
   "codemirror_mode": {
    "name": "ipython",
    "version": 3
   },
   "file_extension": ".py",
   "mimetype": "text/x-python",
   "name": "python",
   "nbconvert_exporter": "python",
   "pygments_lexer": "ipython3",
   "version": "3.6.13"
  },
  "toc": {
   "base_numbering": 1,
   "nav_menu": {},
   "number_sections": true,
   "sideBar": true,
   "skip_h1_title": false,
   "title_cell": "Table of Contents",
   "title_sidebar": "Contents",
   "toc_cell": false,
   "toc_position": {},
   "toc_section_display": true,
   "toc_window_display": false
  }
 },
 "nbformat": 4,
 "nbformat_minor": 2
}
