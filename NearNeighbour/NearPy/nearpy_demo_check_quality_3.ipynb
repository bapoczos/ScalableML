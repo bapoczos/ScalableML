{
 "cells": [
  {
   "cell_type": "code",
   "execution_count": 1,
   "metadata": {},
   "outputs": [],
   "source": [
    "%matplotlib inline"
   ]
  },
  {
   "cell_type": "code",
   "execution_count": 2,
   "metadata": {},
   "outputs": [],
   "source": [
    "import time\n",
    "import numpy\n",
    "\n",
    "import matplotlib as mpl\n",
    "#mpl.use('Agg')\n",
    "import matplotlib.pyplot as plt\n",
    "\n",
    "from nearpy import Engine\n",
    "from nearpy.hashes import RandomDiscretizedProjections\n",
    "from nearpy.filters import NearestFilter, UniqueFilter\n",
    "from nearpy.distances import EuclideanDistance\n",
    "from nearpy.experiments import DistanceRatioExperiment"
   ]
  },
  {
   "cell_type": "code",
   "execution_count": 3,
   "metadata": {},
   "outputs": [],
   "source": [
    "# Set dimension and vector count for this experiment\n",
    "dimension = 100\n",
    "vector_count = 10000\n"
   ]
  },
  {
   "cell_type": "code",
   "execution_count": 4,
   "metadata": {},
   "outputs": [],
   "source": [
    "# Create data set from two clusters\n",
    "vectors = []\n"
   ]
  },
  {
   "cell_type": "code",
   "execution_count": 5,
   "metadata": {},
   "outputs": [],
   "source": [
    "center = numpy.random.randn(dimension)\n",
    "for index in range(vector_count//2):\n",
    "    vector = center + 0.01 * numpy.random.randn(dimension)\n",
    "    vectors.append(vector)\n",
    "\n",
    "\n",
    "center = numpy.random.randn(dimension)\n",
    "for index in range(vector_count//2):\n",
    "    vector = center + 0.01 * numpy.random.randn(dimension)\n",
    "    vectors.append(vector)\n",
    "    "
   ]
  },
  {
   "cell_type": "code",
   "execution_count": 6,
   "metadata": {},
   "outputs": [],
   "source": [
    "# We are looking for the ten closest neighbours\n",
    "nearest = NearestFilter(10)\n",
    "# We want unique candidates\n",
    "unique = UniqueFilter()\n"
   ]
  },
  {
   "cell_type": "code",
   "execution_count": 7,
   "metadata": {},
   "outputs": [
    {
     "name": "stdout",
     "output_type": "stream",
     "text": [
      "Creating engines...\n"
     ]
    }
   ],
   "source": [
    "# We will fill this array with all the engines we want to test\n",
    "engines = []\n",
    "\n",
    "print('Creating engines...')\n"
   ]
  },
  {
   "cell_type": "code",
   "execution_count": 8,
   "metadata": {},
   "outputs": [],
   "source": [
    "# We are going to test these bin widths\n",
    "bin_widths = [ 0.0002 * x for x in range(1,10)]\n"
   ]
  },
  {
   "cell_type": "code",
   "execution_count": 9,
   "metadata": {},
   "outputs": [
    {
     "name": "stdout",
     "output_type": "stream",
     "text": [
      "*** engine init done ***\n",
      "*** engine init done ***\n",
      "*** engine init done ***\n",
      "*** engine init done ***\n",
      "*** engine init done ***\n",
      "*** engine init done ***\n",
      "*** engine init done ***\n",
      "*** engine init done ***\n",
      "*** engine init done ***\n"
     ]
    }
   ],
   "source": [
    "# Create engines for all configurations\n",
    "for bin_width in bin_widths:\n",
    "    # Use four random 1-dim discretized projections\n",
    "    rdp1 = RandomDiscretizedProjections('rdp1', 1, bin_width)\n",
    "    rdp2 = RandomDiscretizedProjections('rdp2', 1, bin_width)\n",
    "    rdp3 = RandomDiscretizedProjections('rdp3', 1, bin_width)\n",
    "    rdp4 = RandomDiscretizedProjections('rdp4', 1, bin_width)\n",
    "\n",
    "    # Create engine with this configuration\n",
    "    engine = Engine(dimension, lshashes=[rdp1, rdp2, rdp3, rdp4],distance=EuclideanDistance(), vector_filters=[unique, nearest])\n",
    "\n",
    "    # Add engine to list of engines to evaluate\n",
    "    engines.append(engine)\n"
   ]
  },
  {
   "cell_type": "code",
   "execution_count": 10,
   "metadata": {},
   "outputs": [
    {
     "name": "stdout",
     "output_type": "stream",
     "text": [
      "Creating experiment and performing exact search...\n",
      "\n",
      "Starting exact search (query set size=2000)...\n",
      "\n",
      "\\Done with exact search...\n",
      "\n"
     ]
    }
   ],
   "source": [
    "print('Creating experiment and performing exact search...')\n",
    "\n",
    "# Create experiment (looking for ten closest neighbours).\n",
    "# The constructor performs exact search for evaluation.\n",
    "# So the data set should not be too large for experiments.\n",
    "exp = DistanceRatioExperiment(10, vectors, coverage_ratio=0.2)\n"
   ]
  },
  {
   "cell_type": "code",
   "execution_count": 11,
   "metadata": {},
   "outputs": [
    {
     "name": "stdout",
     "output_type": "stream",
     "text": [
      "Performing experiment for all engines...\n",
      "Engine 0 / 9\n",
      "  distance_ratio=0.164229, result_size=9.127000, time=0.075510\n",
      "Engine 1 / 9\n",
      "  distance_ratio=0.126410, result_size=9.970500, time=0.122483\n",
      "Engine 2 / 9\n",
      "  distance_ratio=0.108793, result_size=9.995000, time=0.158802\n",
      "Engine 3 / 9\n",
      "  distance_ratio=0.095314, result_size=9.999000, time=0.206491\n",
      "Engine 4 / 9\n",
      "  distance_ratio=0.088199, result_size=10.000000, time=0.257789\n",
      "Engine 5 / 9\n",
      "  distance_ratio=0.081705, result_size=10.000000, time=0.300418\n",
      "Engine 6 / 9\n",
      "  distance_ratio=0.080154, result_size=10.000000, time=0.309375\n",
      "Engine 7 / 9\n",
      "  distance_ratio=0.074659, result_size=10.000000, time=0.347471\n",
      "Engine 8 / 9\n",
      "  distance_ratio=0.070245, result_size=10.000000, time=0.394115\n"
     ]
    }
   ],
   "source": [
    "print('Performing experiment for all engines...')\n",
    "\n",
    "# Perform experiment for all engines\n",
    "result = exp.perform_experiment(engines)\n"
   ]
  },
  {
   "cell_type": "code",
   "execution_count": 12,
   "metadata": {},
   "outputs": [],
   "source": [
    "# Collect these measures from all result items\n",
    "distance_ratios = []\n",
    "searchtimes = []\n",
    "resultsizes= []\n"
   ]
  },
  {
   "cell_type": "code",
   "execution_count": 13,
   "metadata": {},
   "outputs": [],
   "source": [
    "for item in result:\n",
    "    distance_ratios.append(item[0])\n",
    "    resultsizes.append(item[1])\n",
    "    searchtimes.append(item[2])\n"
   ]
  },
  {
   "cell_type": "code",
   "execution_count": 14,
   "metadata": {},
   "outputs": [
    {
     "name": "stdout",
     "output_type": "stream",
     "text": [
      "Plotting resulting graph...\n"
     ]
    },
    {
     "data": {
      "image/png": "[encoded data removed]",
      "text/plain": [
       "<Figure size 432x288 with 1 Axes>"
      ]
     },
     "metadata": {},
     "output_type": "display_data"
    }
   ],
   "source": [
    "print('Plotting resulting graph...')\n",
    "\n",
    "# Plot measures\n",
    "ticks = bin_widths\n",
    "fig = plt.figure()\n",
    "ax = fig.add_subplot(111)\n",
    "ax.plot(ticks, distance_ratios)\n",
    "ax.legend(['distance_ratios'],loc='upper right')\n",
    "ax.set_xlabel('bin width')\n",
    "ax.set_title('random discretized 1-dim projections')\n",
    "fig.savefig('distance_ratios.png')\n"
   ]
  },
  {
   "cell_type": "markdown",
   "metadata": {},
   "source": [
    "#### The lower the distance ratio, the better the quality is. As we can see, increasing the  'bin width' increases the quality  "
   ]
  },
  {
   "cell_type": "code",
   "execution_count": 15,
   "metadata": {},
   "outputs": [
    {
     "data": {
      "image/png": "[encoded data removed]",
      "text/plain": [
       "<Figure size 432x288 with 1 Axes>"
      ]
     },
     "metadata": {},
     "output_type": "display_data"
    }
   ],
   "source": [
    "fig = plt.figure()\n",
    "ax = fig.add_subplot(111)\n",
    "ax.plot(ticks, searchtimes)\n",
    "ax.legend(['search_time'],loc='upper right')\n",
    "ax.set_xlabel('bin width')\n",
    "ax.set_title('random discretized 1-dim projections')\n",
    "fig.savefig('times.png')\n"
   ]
  },
  {
   "cell_type": "code",
   "execution_count": null,
   "metadata": {},
   "outputs": [],
   "source": []
  }
 ],
 "metadata": {
  "kernelspec": {
   "display_name": "Environment (conda_python3)",
   "language": "python",
   "name": "conda_python3"
  },
  "language_info": {
   "codemirror_mode": {
    "name": "ipython",
    "version": 3
   },
   "file_extension": ".py",
   "mimetype": "text/x-python",
   "name": "python",
   "nbconvert_exporter": "python",
   "pygments_lexer": "ipython3",
   "version": "3.6.5"
  }
 },
 "nbformat": 4,
 "nbformat_minor": 2
}
