{
 "cells": [
  {
   "cell_type": "code",
   "execution_count": 1,
   "metadata": {},
   "outputs": [],
   "source": [
    "import time\n",
    "\n",
    "import numpy\n",
    "import scipy\n",
    "import unittest\n",
    "import nearpy.utils.utils\n",
    "from nearpy import Engine\n",
    "from nearpy.distances import EuclideanDistance\n",
    "\n",
    "from nearpy.hashes import RandomBinaryProjections, RandomBinaryProjectionsBias, RandomBinaryProjectionTree, HashPermutations, HashPermutationMapper\n"
   ]
  },
  {
   "cell_type": "code",
   "execution_count": 2,
   "metadata": {},
   "outputs": [],
   "source": [
    "def print_results(results):\n",
    "    print('  Data \\t| Distance')\n",
    "    for r in results:\n",
    "        data = r[1]\n",
    "        dist = r[2]\n",
    "        print('  {}  \\t| {:.6f}'.format(data, dist))\n"
   ]
  },
  {
   "cell_type": "code",
   "execution_count": 3,
   "metadata": {},
   "outputs": [],
   "source": [
    "# Dimension of feature space\n",
    "DIM = 100\n",
    "\n",
    "# Number of data points (dont do too much because of exact search)\n",
    "POINTS = 100000\n",
    "\n"
   ]
  },
  {
   "cell_type": "code",
   "execution_count": 4,
   "metadata": {},
   "outputs": [
    {
     "name": "stdout",
     "output_type": "stream",
     "text": [
      "Creating engines\n",
      "*** engine init done ***\n"
     ]
    }
   ],
   "source": [
    "print('Creating engines')\n",
    "\n",
    "\n",
    "# Create engine 1\n",
    "# We want 12 projections, 20 results at least\n",
    "rbpt = RandomBinaryProjectionTree('rbpt', 20, 20)\n",
    "engine_rbpt = Engine(DIM, lshashes=[rbpt], distance=EuclideanDistance())\n"
   ]
  },
  {
   "cell_type": "code",
   "execution_count": 5,
   "metadata": {},
   "outputs": [
    {
     "name": "stdout",
     "output_type": "stream",
     "text": [
      "*** engine init done ***\n"
     ]
    }
   ],
   "source": [
    "# Create engine 2\n",
    "rbp1 = RandomBinaryProjectionsBias('rbp1', 5,1)\n",
    "engine = Engine(DIM, lshashes=[rbp1], distance=EuclideanDistance())\n"
   ]
  },
  {
   "cell_type": "code",
   "execution_count": 6,
   "metadata": {},
   "outputs": [
    {
     "name": "stdout",
     "output_type": "stream",
     "text": [
      "*** engine init done ***\n"
     ]
    }
   ],
   "source": [
    "# Create engine 3\n",
    "# Create permutations meta-hash\n",
    "permutations = HashPermutations('permut')\n",
    "\n",
    "# Create binary hash as child hash\n",
    "rbp_perm = RandomBinaryProjections('rbp_perm', 20)\n",
    "rbp_conf = {'num_permutation':50,'beam_size':10,'num_neighbour':100}\n",
    "\n",
    "# Add rbp as child hash of permutations hash\n",
    "permutations.add_child_hash(rbp_perm, rbp_conf)\n",
    "\n",
    "engine_perm = Engine(DIM, lshashes=[permutations], distance=EuclideanDistance())\n"
   ]
  },
  {
   "cell_type": "code",
   "execution_count": 7,
   "metadata": {},
   "outputs": [
    {
     "name": "stdout",
     "output_type": "stream",
     "text": [
      "*** engine init done ***\n"
     ]
    }
   ],
   "source": [
    "# Create engine 4\n",
    "# Create permutations meta-hash\n",
    "permutations2 = HashPermutationMapper('permut2')\n",
    "\n",
    "# Create binary hash as child hash\n",
    "rbp_perm2 = RandomBinaryProjections('rbp_perm2', 12)\n",
    "\n",
    "# Add rbp as child hash of permutations hash\n",
    "permutations2.add_child_hash(rbp_perm2)\n",
    "\n",
    "engine_perm2 = Engine(DIM, lshashes=[permutations2], distance=EuclideanDistance())\n",
    "\n"
   ]
  },
  {
   "cell_type": "code",
   "execution_count": 8,
   "metadata": {},
   "outputs": [
    {
     "name": "stdout",
     "output_type": "stream",
     "text": [
      "Indexing 100000 random vectors of dimension 100\n",
      "Buckets 1 = 32\n",
      "Buckets 2 = 91048\n"
     ]
    }
   ],
   "source": [
    "print('Indexing %d random vectors of dimension %d' % (POINTS, DIM))\n",
    "\n",
    "# First index some random vectors\n",
    "matrix = numpy.zeros((POINTS,DIM))\n",
    "for i in range(POINTS):\n",
    "    v = numpy.random.randn(DIM)\n",
    "    matrix[i, :] = v\n",
    "    engine.store_vector(v, i)\n",
    "    engine_rbpt.store_vector(v, i)\n",
    "    engine_perm.store_vector(v, i)\n",
    "    engine_perm2.store_vector(v, i)\n",
    "\n",
    "print('Buckets 1 = %d' % len(engine.storage.buckets['rbp1'].keys()))\n",
    "print('Buckets 2 = %d' % len(engine_rbpt.storage.buckets['rbpt'].keys()))\n"
   ]
  },
  {
   "cell_type": "code",
   "execution_count": 9,
   "metadata": {},
   "outputs": [
    {
     "name": "stdout",
     "output_type": "stream",
     "text": [
      "Building permuted index for HashPermutations\n"
     ]
    }
   ],
   "source": [
    "print('Building permuted index for HashPermutations')\n",
    "\n",
    "# Then update permuted index\n",
    "permutations.build_permuted_index()\n"
   ]
  },
  {
   "cell_type": "code",
   "execution_count": 10,
   "metadata": {},
   "outputs": [
    {
     "name": "stdout",
     "output_type": "stream",
     "text": [
      "Generate random data\n"
     ]
    }
   ],
   "source": [
    "print('Generate random data')\n",
    "\n",
    "# Get random query vector\n",
    "query = numpy.random.randn(DIM)\n"
   ]
  },
  {
   "cell_type": "code",
   "execution_count": 11,
   "metadata": {},
   "outputs": [
    {
     "name": "stdout",
     "output_type": "stream",
     "text": [
      "\n",
      "Neighbour distances with RandomBinaryProjectionTree:\n",
      "  -> Candidate count is 26\n",
      "Query took 0.001529 seconds\n",
      "  Data \t| Distance\n",
      "  13854  \t| 13.006561\n",
      "  13955  \t| 13.019674\n",
      "  44488  \t| 13.374769\n",
      "  88062  \t| 13.450678\n",
      "  87574  \t| 13.642172\n",
      "  50347  \t| 13.791151\n",
      "  29583  \t| 13.811685\n",
      "  80151  \t| 13.879819\n",
      "  47402  \t| 14.012909\n",
      "  49383  \t| 14.095808\n"
     ]
    }
   ],
   "source": [
    "# Do random query on engine 1\n",
    "print('\\nNeighbour distances with RandomBinaryProjectionTree:')\n",
    "print('  -> Candidate count is %d' % engine_rbpt.candidate_count(query))\n",
    "\n",
    "t0=time.time()\n",
    "results = engine_rbpt.neighbours(query)\n",
    "t1 = time.time()\n",
    "print('Query took %f seconds' % (t1-t0))\n",
    "\n",
    "print_results(results)\n"
   ]
  },
  {
   "cell_type": "code",
   "execution_count": 12,
   "metadata": {},
   "outputs": [
    {
     "name": "stdout",
     "output_type": "stream",
     "text": [
      "\n",
      "Neighbour distances with RandomBinaryProjections:\n",
      "  -> Candidate count is 3838\n",
      "Query took 0.039614 seconds\n",
      "  Data \t| Distance\n",
      "  7830  \t| 11.414758\n",
      "  26368  \t| 11.590515\n",
      "  95468  \t| 11.661299\n",
      "  73457  \t| 11.670204\n",
      "  45173  \t| 11.679428\n",
      "  75149  \t| 11.794335\n",
      "  67002  \t| 11.794519\n",
      "  3588  \t| 11.923831\n",
      "  92726  \t| 12.002960\n",
      "  36262  \t| 12.026924\n"
     ]
    }
   ],
   "source": [
    "# Do random query on engine 2\n",
    "print('\\nNeighbour distances with RandomBinaryProjections:')\n",
    "print('  -> Candidate count is %d' % engine.candidate_count(query))\n",
    "\n",
    "t0=time.time()\n",
    "results = engine.neighbours(query)\n",
    "t1 = time.time()\n",
    "print('Query took %f seconds' % (t1-t0))\n",
    "\n",
    "print_results(results)\n"
   ]
  },
  {
   "cell_type": "code",
   "execution_count": 13,
   "metadata": {},
   "outputs": [
    {
     "name": "stdout",
     "output_type": "stream",
     "text": [
      "\n",
      "Neighbour distances with HashPermutations:\n",
      "  -> Candidate count is 114\n",
      "Query took 0.003474 seconds\n",
      "  Data \t| Distance\n",
      "  92545  \t| 11.751412\n",
      "  87321  \t| 11.848985\n",
      "  51618  \t| 12.143929\n",
      "  26920  \t| 12.294305\n",
      "  39463  \t| 12.464323\n",
      "  79005  \t| 12.477592\n",
      "  85569  \t| 12.493771\n",
      "  3232  \t| 12.529598\n",
      "  60619  \t| 12.546336\n",
      "  37061  \t| 12.554748\n"
     ]
    }
   ],
   "source": [
    "# Do random query on engine 3\n",
    "print('\\nNeighbour distances with HashPermutations:')\n",
    "print('  -> Candidate count is %d' % engine_perm.candidate_count(query))\n",
    "\n",
    "t0=time.time()\n",
    "results = engine_perm.neighbours(query)\n",
    "t1 = time.time()\n",
    "print('Query took %f seconds' % (t1-t0))\n",
    "\n",
    "print_results(results)\n"
   ]
  },
  {
   "cell_type": "code",
   "execution_count": 14,
   "metadata": {},
   "outputs": [
    {
     "name": "stdout",
     "output_type": "stream",
     "text": [
      "\n",
      "Neighbour distances with HashPermutations2:\n",
      "  -> Candidate count is 2847\n",
      "Query took 0.023810 seconds\n",
      "  Data \t| Distance\n",
      "  45271  \t| 10.822296\n",
      "  63441  \t| 11.462094\n",
      "  38317  \t| 11.509614\n",
      "  72292  \t| 11.547821\n",
      "  63882  \t| 11.614826\n",
      "  97137  \t| 11.688304\n",
      "  24577  \t| 11.751268\n",
      "  21204  \t| 11.791053\n",
      "  67002  \t| 11.794519\n",
      "  50328  \t| 11.810473\n"
     ]
    }
   ],
   "source": [
    "# Do random query on engine 4\n",
    "print('\\nNeighbour distances with HashPermutations2:')\n",
    "print('  -> Candidate count is %d' % engine_perm2.candidate_count(query))\n",
    "\n",
    "t0=time.time()\n",
    "results = engine_perm2.neighbours(query)\n",
    "t1 = time.time()\n",
    "print('Query took %f seconds' % (t1-t0))\n",
    "\n",
    "print_results(results)\n"
   ]
  },
  {
   "cell_type": "code",
   "execution_count": 15,
   "metadata": {},
   "outputs": [
    {
     "name": "stdout",
     "output_type": "stream",
     "text": [
      "\n",
      "Real neighbour distances:\n",
      "Query took 0.678506 seconds\n",
      "  Data \t| Distance\n",
      "  45271  \t| 10.822296\n",
      "  10193  \t| 11.026911\n",
      "  44906  \t| 11.182873\n",
      "  82730  \t| 11.363449\n",
      "  43733  \t| 11.366635\n",
      "  8831  \t| 11.393744\n",
      "  97447  \t| 11.402475\n",
      "  95583  \t| 11.409419\n",
      "  7830  \t| 11.414758\n",
      "  63441  \t| 11.462094\n"
     ]
    }
   ],
   "source": [
    "# Real neighbours\n",
    "print('\\nReal neighbour distances:')\n",
    "\n",
    "\n",
    "dists=numpy.zeros(POINTS)\n",
    "t0 = time.time()\n",
    "for iter in range(POINTS):\n",
    "    dists[iter] = EuclideanDistance().distance(matrix[iter], query)\n",
    "dists = dists.reshape((-1,))\n",
    "dists_argsort = numpy.argsort(dists)\n",
    "t1 = time.time()\n",
    "print('Query took %f seconds' % (t1-t0))\n",
    "\n",
    "results = [(None, d, dists[d]) for d in dists_argsort[:10]]\n",
    "print_results(results)"
   ]
  },
  {
   "cell_type": "code",
   "execution_count": null,
   "metadata": {},
   "outputs": [],
   "source": []
  },
  {
   "cell_type": "code",
   "execution_count": null,
   "metadata": {},
   "outputs": [],
   "source": []
  }
 ],
 "metadata": {
  "kernelspec": {
   "display_name": "Environment (conda_python3)",
   "language": "python",
   "name": "conda_python3"
  },
  "language_info": {
   "codemirror_mode": {
    "name": "ipython",
    "version": 3
   },
   "file_extension": ".py",
   "mimetype": "text/x-python",
   "name": "python",
   "nbconvert_exporter": "python",
   "pygments_lexer": "ipython3",
   "version": "3.6.5"
  }
 },
 "nbformat": 4,
 "nbformat_minor": 2
}
