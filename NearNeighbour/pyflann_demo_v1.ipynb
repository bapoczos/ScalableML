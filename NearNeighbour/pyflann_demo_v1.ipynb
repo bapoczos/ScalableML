{
 "cells": [
  {
   "cell_type": "markdown",
   "metadata": {},
   "source": [
    "### FLANN - Fast Library for Approximate Nearest Neighbors"
   ]
  },
  {
   "cell_type": "markdown",
   "metadata": {},
   "source": [
    "#### For more information, see e.g. https://github.com/flann-lib/flann\n",
    "\n",
    "#### Docvumentation: https://github.com/flann-lib/flann/blob/master/doc/manual.tex\n",
    "\n",
    "#### The C++ version has LSH implementation too, but this seems to be missing from the python bindings. "
   ]
  },
  {
   "cell_type": "code",
   "execution_count": 1,
   "metadata": {},
   "outputs": [
    {
     "name": "stdout",
     "output_type": "stream",
     "text": [
      "Requirement already satisfied: pyflann in /home/ubuntu/anaconda3/envs/python2/lib/python2.7/site-packages (1.6.14)\n",
      "\u001b[31mmoviepy 1.0.0 requires tqdm<5.0,>=4.11.2, which is not installed.\u001b[0m\n",
      "\u001b[31mproglog 0.1.9 requires tqdm, which is not installed.\u001b[0m\n",
      "\u001b[33mYou are using pip version 10.0.1, however version 20.3.4 is available.\n",
      "You should consider upgrading via the 'pip install --upgrade pip' command.\u001b[0m\n"
     ]
    }
   ],
   "source": [
    "# The pip install only works with python2!\n",
    "!pip install pyflann"
   ]
  },
  {
   "cell_type": "code",
   "execution_count": 2,
   "metadata": {},
   "outputs": [],
   "source": [
    "from pyflann import *\n",
    "import numpy as np\n",
    "import time"
   ]
  },
  {
   "cell_type": "markdown",
   "metadata": {},
   "source": [
    "### Example 1"
   ]
  },
  {
   "cell_type": "code",
   "execution_count": 3,
   "metadata": {},
   "outputs": [
    {
     "name": "stdout",
     "output_type": "stream",
     "text": [
      "We have 4 5-dimensional points in the dataset\n"
     ]
    }
   ],
   "source": [
    "# Create a dataset\n",
    "\n",
    "dataset = np.array(\n",
    "    [[1., 1, 1, 2, 3],\n",
    "     [10, 10, 10, 3, 2],\n",
    "     [100, 100, 2, 30, 1],\n",
    "     [40, 10, 22, 30, 9]\n",
    "     ])\n",
    "\n",
    "print('We have {} {}-dimensional points in the dataset'.format(dataset.shape[0],dataset.shape[1]))"
   ]
  },
  {
   "cell_type": "code",
   "execution_count": 4,
   "metadata": {},
   "outputs": [
    {
     "name": "stdout",
     "output_type": "stream",
     "text": [
      "The query set contains 2 5-dimensional points\n"
     ]
    }
   ],
   "source": [
    "# Create a query set\n",
    "\n",
    "queryset = np.array(\n",
    "    [[1., 1, 1, 1, 1],\n",
    "     [90, 90, 10, 10, 1]\n",
    "     ])\n",
    "\n",
    "print('The query set contains {} {}-dimensional points'.format(queryset.shape[0],queryset.shape[1]))\n"
   ]
  },
  {
   "cell_type": "code",
   "execution_count": 5,
   "metadata": {},
   "outputs": [],
   "source": [
    "# Create a flann datastructure\n",
    "# There are vvarious algorithms you can choose from.\n",
    "\n",
    "flann = FLANN()\n",
    "result, dists = flann.nn(dataset, queryset, 3, algorithm=\"kmeans\", branching=32, iterations=7, checks=16)"
   ]
  },
  {
   "cell_type": "code",
   "execution_count": 6,
   "metadata": {},
   "outputs": [
    {
     "name": "stdout",
     "output_type": "stream",
     "text": [
      "Help on method nn in module pyflann.index:\n",
      "\n",
      "nn(self, pts, qpts, num_neighbors=1, **kwargs) method of pyflann.index.FLANN instance\n",
      "    Returns the num_neighbors nearest points in dataset for each point\n",
      "    in testset.\n",
      "\n"
     ]
    }
   ],
   "source": [
    "help(flann.nn)"
   ]
  },
  {
   "cell_type": "code",
   "execution_count": 7,
   "metadata": {},
   "outputs": [
    {
     "name": "stdout",
     "output_type": "stream",
     "text": [
      "[[0 1 3]\n",
      " [2 3 1]]\n"
     ]
    }
   ],
   "source": [
    "print(result)\n",
    "# the indices of the 3 nearest neighbours of the 2 query points"
   ]
  },
  {
   "cell_type": "code",
   "execution_count": 8,
   "metadata": {},
   "outputs": [
    {
     "name": "stdout",
     "output_type": "stream",
     "text": [
      "[[5.000e+00 2.480e+02 2.948e+03]\n",
      " [6.640e+02 9.508e+03 1.285e+04]]\n"
     ]
    }
   ],
   "source": [
    "print(dists)\n",
    "# the distences from the the 2 query points to its 3 nearest neighbours in the dataset"
   ]
  },
  {
   "cell_type": "markdown",
   "metadata": {},
   "source": [
    "### Example 2"
   ]
  },
  {
   "cell_type": "code",
   "execution_count": 9,
   "metadata": {},
   "outputs": [
    {
     "name": "stdout",
     "output_type": "stream",
     "text": [
      "We have 10000 128-dimensional points in the dataset\n",
      "The query set contains 1000 128-dimensional points\n"
     ]
    }
   ],
   "source": [
    "dataset = np.random.rand(10000, 128)\n",
    "print('We have {} {}-dimensional points in the dataset'.format(dataset.shape[0],dataset.shape[1]))\n",
    "\n",
    "queryset = np.random.rand(1000, 128)\n",
    "print('The query set contains {} {}-dimensional points'.format(queryset.shape[0],queryset.shape[1]))\n"
   ]
  },
  {
   "cell_type": "code",
   "execution_count": 10,
   "metadata": {},
   "outputs": [],
   "source": [
    "flann = FLANN()\n",
    "result, dists = flann.nn(dataset, queryset, 5, algorithm=\"kmeans\", branching=32, iterations=7, checks=16)"
   ]
  },
  {
   "cell_type": "code",
   "execution_count": 11,
   "metadata": {},
   "outputs": [],
   "source": [
    "#this would take a few minutes to run ...\n",
    "#params = flann.build_index(dataset, algorithm=\"autotuned\", target_precision=0.5, log_level = \"info\");\n",
    "#print params\n",
    "#result, dists = flann.nn_index(queryset,5, checks=params[\"checks\"]);"
   ]
  },
  {
   "cell_type": "code",
   "execution_count": 12,
   "metadata": {},
   "outputs": [
    {
     "name": "stdout",
     "output_type": "stream",
     "text": [
      "(1000, 5)\n",
      "[[4432 5090 1787 8018  480]\n",
      " [2719 9627 2720 1300 2891]\n",
      " [2105 9242 8438  480 5356]\n",
      " ...\n",
      " [ 933 8654 3642 7746 9636]\n",
      " [2692 3125 3350 1029 3891]\n",
      " [5254  693 6764 4383 5911]]\n"
     ]
    }
   ],
   "source": [
    "print(result.shape)\n",
    "print(result)"
   ]
  },
  {
   "cell_type": "code",
   "execution_count": 13,
   "metadata": {},
   "outputs": [
    {
     "name": "stdout",
     "output_type": "stream",
     "text": [
      "(1000, 5)\n",
      "[[15.28320257 15.45376435 16.41858967 16.92903959 17.03648633]\n",
      " [16.16246798 16.6267674  16.91570521 17.83611935 18.46422683]\n",
      " [14.98482739 17.29532222 17.76185872 18.45351986 18.47682788]\n",
      " ...\n",
      " [15.59720834 16.29963063 18.32725127 19.02224202 19.39307164]\n",
      " [15.60386668 15.69104885 16.2268636  16.40207419 16.7072947 ]\n",
      " [15.19437224 15.72291309 15.84173138 16.36839645 16.37319553]]\n"
     ]
    }
   ],
   "source": [
    "print(dists.shape)\n",
    "print(dists)"
   ]
  },
  {
   "cell_type": "markdown",
   "metadata": {},
   "source": [
    "### Example 3"
   ]
  },
  {
   "cell_type": "code",
   "execution_count": 14,
   "metadata": {},
   "outputs": [
    {
     "name": "stdout",
     "output_type": "stream",
     "text": [
      "Query took 0.133844 seconds\n",
      "(1000, 5)\n",
      "(1000, 5)\n"
     ]
    }
   ],
   "source": [
    "# We will use kdtrees\n",
    "\n",
    "t0=time.time()\n",
    "result, dists = flann.nn(dataset, queryset, 5, algorithm=\"kdtree\", trees=4)\n",
    "t1 = time.time()\n",
    "print('Query took %f seconds' % (t1-t0))\n",
    "\n",
    "print(result.shape)\n",
    "print(dists.shape)\n"
   ]
  },
  {
   "cell_type": "markdown",
   "metadata": {},
   "source": [
    "### Example 4"
   ]
  },
  {
   "cell_type": "code",
   "execution_count": 15,
   "metadata": {},
   "outputs": [
    {
     "name": "stdout",
     "output_type": "stream",
     "text": [
      "Query took 1.138500 seconds\n",
      "(1000, 5)\n",
      "(1000, 5)\n"
     ]
    }
   ],
   "source": [
    "t0=time.time()\n",
    "result, dists = flann.nn(dataset, queryset, 5, algorithm=\"linear\")\n",
    "t1 = time.time()\n",
    "print('Query took %f seconds' % (t1-t0))\n",
    "\n",
    "print(result.shape)\n",
    "print(dists.shape)"
   ]
  },
  {
   "cell_type": "code",
   "execution_count": null,
   "metadata": {},
   "outputs": [],
   "source": []
  }
 ],
 "metadata": {
  "kernelspec": {
   "display_name": "Environment (conda_python2)",
   "language": "python",
   "name": "conda_python2"
  },
  "language_info": {
   "codemirror_mode": {
    "name": "ipython",
    "version": 2
   },
   "file_extension": ".py",
   "mimetype": "text/x-python",
   "name": "python",
   "nbconvert_exporter": "python",
   "pygments_lexer": "ipython2",
   "version": "2.7.15"
  }
 },
 "nbformat": 4,
 "nbformat_minor": 2
}
