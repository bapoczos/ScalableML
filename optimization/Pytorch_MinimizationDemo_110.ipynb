{
  "nbformat": 4,
  "nbformat_minor": 0,
  "metadata": {
    "colab": {
      "provenance": []
    },
    "kernelspec": {
      "name": "python3",
      "display_name": "Python 3"
    },
    "language_info": {
      "name": "python"
    }
  },
  "cells": [
    {
      "cell_type": "code",
      "source": [
        "import torch"
      ],
      "metadata": {
        "id": "WX0N4RBeLr0l"
      },
      "execution_count": 1,
      "outputs": []
    },
    {
      "cell_type": "code",
      "source": [
        "params = torch.tensor([[0.1], [0.9]], requires_grad = True)\n",
        "X=params[0]\n",
        "Y=params[1]\n",
        "  \n",
        "optimizer = torch.optim.Adam([params], lr=0.01)\n",
        "steps = 2000\n",
        "for i in range(steps):\n",
        "  optimizer.zero_grad()\n",
        "  f = (1.5-X+X*Y)**2+(2.25-X+X*Y**2)**2+(2.625-X+X*Y**3)**2  \n",
        "  f.backward()\n",
        "  optimizer.step()\n",
        "  if i%100 == 0:\n",
        "    print(f'At step {i+1 :4} x={str([round(params[i].item(), 3) for i in range(params.numel())]) :16}'\\\n",
        "          f' and the function value is {f.item(): 0.4f}.' )"
      ],
      "metadata": {
        "id": "Du8ztUJBdlbO",
        "outputId": "2c3c0cd3-dd8d-47af-c988-816c7c557ae1",
        "colab": {
          "base_uri": "https://localhost:8080/"
        }
      },
      "execution_count": 12,
      "outputs": [
        {
          "output_type": "stream",
          "name": "stdout",
          "text": [
            "At step    1 x=[0.11, 0.89]     and the function value is  13.9465.\n",
            "At step  101 x=[1.202, 0.006]   and the function value is  3.2671.\n",
            "At step  201 x=[1.818, 0.065]   and the function value is  0.8956.\n",
            "At step  301 x=[2.151, 0.212]   and the function value is  0.3241.\n",
            "At step  401 x=[2.357, 0.294]   and the function value is  0.1450.\n",
            "At step  501 x=[2.496, 0.346]   and the function value is  0.0746.\n",
            "At step  601 x=[2.598, 0.382]   and the function value is  0.0418.\n",
            "At step  701 x=[2.676, 0.408]   and the function value is  0.0246.\n",
            "At step  801 x=[2.738, 0.427]   and the function value is  0.0150.\n",
            "At step  901 x=[2.787, 0.442]   and the function value is  0.0093.\n",
            "At step 1001 x=[2.828, 0.454]   and the function value is  0.0058.\n",
            "At step 1101 x=[2.861, 0.463]   and the function value is  0.0036.\n",
            "At step 1201 x=[2.889, 0.471]   and the function value is  0.0023.\n",
            "At step 1301 x=[2.911, 0.477]   and the function value is  0.0014.\n",
            "At step 1401 x=[2.93, 0.482]    and the function value is  0.0009.\n",
            "At step 1501 x=[2.945, 0.486]   and the function value is  0.0005.\n",
            "At step 1601 x=[2.957, 0.489]   and the function value is  0.0003.\n",
            "At step 1701 x=[2.967, 0.492]   and the function value is  0.0002.\n",
            "At step 1801 x=[2.975, 0.494]   and the function value is  0.0001.\n",
            "At step 1901 x=[2.982, 0.495]   and the function value is  0.0001.\n"
          ]
        }
      ]
    },
    {
      "cell_type": "code",
      "source": [],
      "metadata": {
        "id": "QZ6pZ7MBg_pk"
      },
      "execution_count": null,
      "outputs": []
    }
  ]
}