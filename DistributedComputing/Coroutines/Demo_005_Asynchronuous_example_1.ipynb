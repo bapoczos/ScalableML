{
 "cells": [
  {
   "cell_type": "markdown",
   "metadata": {},
   "source": [
    "Based on **Francesco Pierfederici: Distributed Computing with Python, Chapter 2**"
   ]
  },
  {
   "cell_type": "markdown",
   "metadata": {},
   "source": [
    "# An asynchronous example"
   ]
  },
  {
   "cell_type": "markdown",
   "metadata": {},
   "source": [
    "To keep things simple but still interesting, let's write a tool that, given a text file, will \n",
    "count the occurrences of a given word"
   ]
  },
  {
   "cell_type": "code",
   "execution_count": 1,
   "metadata": {},
   "outputs": [],
   "source": [
    "# Run the below line in a terminal:\n",
    "# time(grep -io love data/pg2600.txt | wc -l)\n",
    "#\n",
    "# This will count the number of \"love\" work in the data/pg2600.txt file\n",
    "# It will also measure the executation time.\n",
    "# Results:\n"
   ]
  },
  {
   "cell_type": "markdown",
   "metadata": {},
   "source": [
    "677\n",
    "\n",
    "real    0m0.014s <br>\n",
    "user    0m0.008s <br>\n",
    "sys     0m0.004s <br>\n"
   ]
  },
  {
   "cell_type": "markdown",
   "metadata": {},
   "source": [
    "### We will solve the word counting problem with coroutines "
   ]
  },
  {
   "cell_type": "code",
   "execution_count": 2,
   "metadata": {},
   "outputs": [],
   "source": [
    "def coroutine(fn):\n",
    "    def wrapper(*args, **kwargs):\n",
    "        c = fn(*args, **kwargs)\n",
    "        next(c)\n",
    "        return c\n",
    "    return wrapper"
   ]
  },
  {
   "cell_type": "code",
   "execution_count": 3,
   "metadata": {},
   "outputs": [
    {
     "name": "stdout",
     "output_type": "stream",
     "text": [
      "<_io.TextIOWrapper name='../data/pg2600.txt' mode='r' encoding='UTF-8'>\n"
     ]
    }
   ],
   "source": [
    "#We will work with this file\n",
    "f=open('../data/pg2600.txt')\n",
    "print(f)"
   ]
  },
  {
   "cell_type": "markdown",
   "metadata": {},
   "source": [
    "The next function, cat, will **read the file line by line**\n",
    "\n",
    "This function, cat, **acts as the data source** for the whole program; \n",
    "\n",
    "It **reads the file line by line and sends each line to its child function via child.send(line).** \n",
    "\n",
    "This child function will be the **grep()** function\n",
    "\n",
    "If we want a case-insensitive match, then we simply make the line lowercase; otherwise, we pass it unchanged.\n"
   ]
  },
  {
   "cell_type": "code",
   "execution_count": 4,
   "metadata": {},
   "outputs": [],
   "source": [
    "def cat(f, case_insensitive, child):\n",
    "    if case_insensitive:\n",
    "        line_processor = lambda l: l.lower()\n",
    "    else:\n",
    "        line_processor = lambda l: l\n",
    "\n",
    "    for line in f:\n",
    "        child.send(line_processor(line))"
   ]
  },
  {
   "cell_type": "markdown",
   "metadata": {},
   "source": [
    "### Counting the occurrences of the substring variable in each line\n",
    "\n",
    "The **grep** function is our first coroutine. It will be the 'child' function in the 'cat()' function\n",
    "\n",
    "* In it, we enter an infinite loop where **we keep receiving data (text = (yield))**, \n",
    "\n",
    "* then **count the occurrences** of the \"substring\" variable in the \"text\" variable, which is one line from the text file. \n",
    "\n",
    "* and **send that number of occurrences** to the next coroutine (count() in our case). This will add these numbers to count how many times we have seen the \"substring\" variable in the whole text file: **child.send(textcount))**.\n"
   ]
  },
  {
   "cell_type": "code",
   "execution_count": 5,
   "metadata": {},
   "outputs": [],
   "source": [
    "@coroutine\n",
    "def grep(substring, case_insensitive, child):\n",
    "    if case_insensitive:\n",
    "        substring = substring.lower()\n",
    "    while True:\n",
    "        text = (yield) #this is where we receive the data. It will be one line from the text file.\n",
    "        textcount=text.count(substring) # Count the number of occurrences of substring in this line\n",
    "        child.send(textcount) #send the the data (i.e. the count of this line) to the next coroutine (child())\n",
    "        # The child function will add all these numbers"
   ]
  },
  {
   "cell_type": "code",
   "execution_count": 6,
   "metadata": {},
   "outputs": [],
   "source": [
    "#Adding up all the numbers and printing out the total\n",
    "\n",
    "#The count coroutine keeps a running total, n, of the numbers it receives, \n",
    "#(n += (yield)), from grep. \n",
    "\n",
    "#It catches the GeneratorExit exception sent to each coroutine \n",
    "#when they are closed (which in our case happens automatically when we reach the \n",
    "#end of the file) to know when to print out substring and n\n",
    "\n",
    "@coroutine\n",
    "def count(substring):\n",
    "    n = 0\n",
    "    try:\n",
    "        while True:\n",
    "            n += (yield)\n",
    "    except GeneratorExit:\n",
    "        print(substring, n)"
   ]
  },
  {
   "cell_type": "markdown",
   "metadata": {},
   "source": [
    "This is how we can use these corutines:"
   ]
  },
  {
   "cell_type": "code",
   "execution_count": 7,
   "metadata": {},
   "outputs": [
    {
     "name": "stdout",
     "output_type": "stream",
     "text": [
      "love 677\n"
     ]
    }
   ],
   "source": [
    "cat(f, case_insensitive=True, child=grep(substring='love', case_insensitive=True, child=count('love')))"
   ]
  },
  {
   "cell_type": "code",
   "execution_count": null,
   "metadata": {},
   "outputs": [],
   "source": []
  }
 ],
 "metadata": {
  "kernelspec": {
   "display_name": "Environment (conda_python3)",
   "language": "python",
   "name": "conda_python3"
  },
  "language_info": {
   "codemirror_mode": {
    "name": "ipython",
    "version": 3
   },
   "file_extension": ".py",
   "mimetype": "text/x-python",
   "name": "python",
   "nbconvert_exporter": "python",
   "pygments_lexer": "ipython3",
   "version": "3.6.5"
  }
 },
 "nbformat": 4,
 "nbformat_minor": 2
}
