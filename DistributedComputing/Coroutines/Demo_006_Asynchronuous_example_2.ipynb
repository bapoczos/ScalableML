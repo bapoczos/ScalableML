{
 "cells": [
  {
   "cell_type": "markdown",
   "metadata": {},
   "source": [
    "Based on **Francesco Pierfederici: Distributed Computing with Python, Chapter 2**"
   ]
  },
  {
   "cell_type": "markdown",
   "metadata": {},
   "source": [
    "# An asynchronous example"
   ]
  },
  {
   "cell_type": "markdown",
   "metadata": {},
   "source": [
    "Things become interesting when we start **organizing coroutines into complex  graphs**. \n",
    "\n",
    "For instance, we might want to **count the concurrence of multiple words in the input file**.\n",
    "\n",
    "The below code is an example for this:"
   ]
  },
  {
   "cell_type": "code",
   "execution_count": 1,
   "metadata": {},
   "outputs": [],
   "source": [
    "# We will use this as a decorator for our coroutines\n",
    "def coroutine(fn):\n",
    "    def wrapper(*args, **kwargs):\n",
    "        c = fn(*args, **kwargs)\n",
    "        next(c)\n",
    "        return c\n",
    "    return wrapper\n"
   ]
  },
  {
   "cell_type": "code",
   "execution_count": 2,
   "metadata": {},
   "outputs": [],
   "source": [
    "# These are the similar to the functions in the previous example\n",
    "def cat(f, child):\n",
    "    for line in f:\n",
    "        child.send(line)\n",
    "\n",
    "@coroutine\n",
    "def grep(substring, child):\n",
    "    try:\n",
    "        substring = substring.lower()\n",
    "        while True:\n",
    "            text = (yield)\n",
    "            child.send(text.count(substring))\n",
    "    except GeneratorExit:\n",
    "        print('exit grep')\n",
    "        \n",
    "@coroutine\n",
    "def count(substring):\n",
    "    n = 0\n",
    "    try:\n",
    "        while True:\n",
    "            tmp = (yield)\n",
    "            n += tmp\n",
    "            if tmp > 0:\n",
    "                print(substring, n)\n",
    "    except GeneratorExit:\n",
    "        print('exit count')\n",
    "        print(substring, n)\n"
   ]
  },
  {
   "cell_type": "code",
   "execution_count": 4,
   "metadata": {},
   "outputs": [],
   "source": [
    "@coroutine\n",
    "def fanout(children):\n",
    "    try: \n",
    "        while True:\n",
    "            data = (yield) #this will get a line\n",
    "            for child in children: #Here we will send the data (=line) to multiple coroutines (grep function) listed in the children variable\n",
    "                child.send(data)\n",
    "    except GeneratorExit:\n",
    "        print('exit fanout')"
   ]
  },
  {
   "cell_type": "code",
   "execution_count": 5,
   "metadata": {},
   "outputs": [
    {
     "name": "stdout",
     "output_type": "stream",
     "text": [
      "hope 1\n",
      "hope 2\n",
      "love 1\n",
      "love 2\n",
      "hate 1\n",
      "love 3\n",
      "hope 3\n",
      "hope 4\n",
      "love 4\n",
      "hope 6\n",
      "love 5\n",
      "hope 7\n",
      "hope 8\n",
      "love 6\n",
      "love 7\n",
      "love 8\n",
      "love 9\n",
      "love 10\n",
      "love 11\n",
      "love 12\n",
      "love 13\n",
      "hope 9\n",
      "hope 10\n",
      "hope 11\n",
      "love 14\n",
      "hope 12\n",
      "hope 13\n",
      "hope 14\n",
      "hate 2\n",
      "love 15\n",
      "love 16\n",
      "love 17\n",
      "love 18\n",
      "love 19\n",
      "hope 15\n",
      "love 20\n",
      "love 21\n",
      "love 22\n",
      "hope 16\n",
      "love 23\n",
      "love 24\n",
      "love 25\n",
      "exit fanout\n",
      "exit grep\n",
      "exit count\n",
      "hate 2\n",
      "exit grep\n",
      "exit count\n",
      "love 25\n",
      "exit grep\n",
      "exit count\n",
      "hope 16\n"
     ]
    }
   ],
   "source": [
    "cat(f=list(open('../data/pg2600.txt'))[0:5000], child=fanout(children=[grep(substring=p, child=count(p)) for p in ['love','hate','hope']]))"
   ]
  },
  {
   "cell_type": "markdown",
   "metadata": {},
   "source": [
    "### Other tools:\n",
    "Python 3.4 introduced a **new library for asynchronous I/O** called **asyncio**.\n",
    "\n",
    "Python 3.5 introduced **coroutine types** via **async def** and **await**.\n",
    "\n"
   ]
  },
  {
   "cell_type": "code",
   "execution_count": null,
   "metadata": {},
   "outputs": [],
   "source": []
  }
 ],
 "metadata": {
  "kernelspec": {
   "display_name": "Environment (conda_python3)",
   "language": "python",
   "name": "conda_python3"
  },
  "language_info": {
   "codemirror_mode": {
    "name": "ipython",
    "version": 3
   },
   "file_extension": ".py",
   "mimetype": "text/x-python",
   "name": "python",
   "nbconvert_exporter": "python",
   "pygments_lexer": "ipython3",
   "version": "3.6.5"
  }
 },
 "nbformat": 4,
 "nbformat_minor": 2
}
