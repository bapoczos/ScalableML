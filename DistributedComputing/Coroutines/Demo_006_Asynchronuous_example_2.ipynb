{
 "cells": [
  {
   "cell_type": "markdown",
   "metadata": {},
   "source": [
    "Based on **Francesco Pierfederici: Distributed Computing with Python, Chapter 2**"
   ]
  },
  {
   "cell_type": "markdown",
   "metadata": {},
   "source": [
    "# An asynchronous example"
   ]
  },
  {
   "cell_type": "markdown",
   "metadata": {},
   "source": [
    "Things become interesting when we start **organizing coroutines into complex  graphs**. \n",
    "\n",
    "For instance, we might want to **count the concurrence of multiple words in the input file**.\n",
    "\n",
    "The below code is an example for this:"
   ]
  },
  {
   "cell_type": "code",
   "execution_count": 1,
   "metadata": {},
   "outputs": [],
   "source": [
    "def coroutine(fn):\n",
    "    def wrapper(*args, **kwargs):\n",
    "        c = fn(*args, **kwargs)\n",
    "        next(c)\n",
    "        return c\n",
    "    return wrapper\n",
    "\n",
    "def cat(f, case_insensitive, child):\n",
    "    if case_insensitive:\n",
    "        line_processor = lambda l: l.lower()\n",
    "    else:\n",
    "        line_processor = lambda l: l\n",
    "\n",
    "    for line in f:\n",
    "        child.send(line_processor(line))\n",
    "\n",
    "@coroutine\n",
    "def grep(substring, case_insensitive, child):\n",
    "    if case_insensitive:\n",
    "        substring = substring.lower()\n",
    "    while True:\n",
    "        text = (yield)\n",
    "        child.send(text.count(substring))\n",
    "\n",
    "@coroutine\n",
    "def count(substring):\n",
    "    n = 0\n",
    "    try:\n",
    "        while True:\n",
    "            n += (yield)\n",
    "    except GeneratorExit:\n",
    "        print(substring, n)\n",
    "\n",
    "@coroutine\n",
    "def fanout(children):\n",
    "    while True:\n",
    "        data = (yield)\n",
    "        for child in children: #Here we will send data to multiple corutines listed in the children variable\n",
    "            child.send(data)"
   ]
  },
  {
   "cell_type": "code",
   "execution_count": 2,
   "metadata": {},
   "outputs": [
    {
     "name": "stdout",
     "output_type": "stream",
     "text": [
      "hate 103\n",
      "love 677\n",
      "hope 158\n"
     ]
    }
   ],
   "source": [
    "cat(f=open('../data/pg2600.txt'), case_insensitive=True, child=fanout(children=[grep(substring=p,case_insensitive=True,child=count(p)) for p in ['love','hate','hope']]))"
   ]
  },
  {
   "cell_type": "markdown",
   "metadata": {},
   "source": [
    "### Other tools:\n",
    "Python 3.4 introduced a **new library for asynchronous I/O** called **asyncio**.\n",
    "\n",
    "Python 3.5 introduced **coroutine types** via **async def** and **await**.\n",
    "\n",
    "We will discuss them later."
   ]
  },
  {
   "cell_type": "code",
   "execution_count": null,
   "metadata": {},
   "outputs": [],
   "source": []
  }
 ],
 "metadata": {
  "kernelspec": {
   "display_name": "Environment (conda_python3)",
   "language": "python",
   "name": "conda_python3"
  },
  "language_info": {
   "codemirror_mode": {
    "name": "ipython",
    "version": 3
   },
   "file_extension": ".py",
   "mimetype": "text/x-python",
   "name": "python",
   "nbconvert_exporter": "python",
   "pygments_lexer": "ipython3",
   "version": "3.6.5"
  }
 },
 "nbformat": 4,
 "nbformat_minor": 2
}
