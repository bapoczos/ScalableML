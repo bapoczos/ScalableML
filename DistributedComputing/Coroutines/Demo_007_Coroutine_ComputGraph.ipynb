{
 "cells": [
  {
   "cell_type": "markdown",
   "metadata": {},
   "source": [
    "# An asynchronous example"
   ]
  },
  {
   "cell_type": "code",
   "execution_count": 1,
   "metadata": {},
   "outputs": [],
   "source": [
    "def coroutine(fn):\n",
    "    def wrapper(*args, **kwargs):\n",
    "        c = fn(*args, **kwargs)\n",
    "        next(c)\n",
    "        return c\n",
    "    return wrapper"
   ]
  },
  {
   "cell_type": "code",
   "execution_count": 2,
   "metadata": {},
   "outputs": [],
   "source": [
    "@coroutine\n",
    "def fun1(id):\n",
    "    state='s1'\n",
    "    while True:\n",
    "        myinput = (yield) #this is where we receive the data. \n",
    "        state = myinput+state\n",
    "        result1=state+'_1a_'\n",
    "        result2=state+'_1b_'\n",
    "        print('f1state: '+state)\n",
    "        f2.send(result1)\n",
    "        f3.send(result2)\n",
    "        \n",
    "\n",
    "f1=fun1('f1')"
   ]
  },
  {
   "cell_type": "code",
   "execution_count": 3,
   "metadata": {},
   "outputs": [],
   "source": [
    "@coroutine\n",
    "def fun2(id):\n",
    "    state='s2'\n",
    "    while True:\n",
    "        myinput = (yield) #this is where we receive the data. \n",
    "        state = myinput+state\n",
    "        print('f2state: '+state)\n",
    "        myoutput={'output':state+'_2_',\n",
    "                  'sender': id}\n",
    "        f4.send(myoutput) \n",
    "\n",
    "f2=fun2('f2')"
   ]
  },
  {
   "cell_type": "code",
   "execution_count": 4,
   "metadata": {},
   "outputs": [],
   "source": [
    "@coroutine\n",
    "def fun3(id):\n",
    "    state='s3'\n",
    "    while True:\n",
    "        myinput = (yield) #this is where we receive the data. \n",
    "        state = myinput+state\n",
    "        print('f3state: '+state)\n",
    "        myoutput={'output':state+'_3_',\n",
    "                  'sender': id}\n",
    "        f4.send(myoutput) \n",
    "        \n",
    "f3=fun3('f3')"
   ]
  },
  {
   "cell_type": "code",
   "execution_count": 5,
   "metadata": {},
   "outputs": [],
   "source": [
    "@coroutine\n",
    "def fun4():\n",
    "        state='s4'\n",
    "        while True:\n",
    "            myinput = (yield)\n",
    "            state = myinput['output']+state #this is where we receive the data. \n",
    "            #print(myinput)\n",
    "            print('f4state: '+state)\n",
    "\n",
    "f4=fun4()"
   ]
  },
  {
   "cell_type": "code",
   "execution_count": null,
   "metadata": {},
   "outputs": [],
   "source": [
    "\n",
    "        "
   ]
  },
  {
   "cell_type": "code",
   "execution_count": 6,
   "metadata": {},
   "outputs": [
    {
     "name": "stdout",
     "output_type": "stream",
     "text": [
      "f1state: Xs1\n",
      "f2state: Xs1_1a_s2\n",
      "f4state: Xs1_1a_s2_2_s4\n",
      "f3state: Xs1_1b_s3\n",
      "f4state: Xs1_1b_s3_3_Xs1_1a_s2_2_s4\n"
     ]
    }
   ],
   "source": [
    "f1.send('X')"
   ]
  },
  {
   "cell_type": "code",
   "execution_count": 7,
   "metadata": {},
   "outputs": [
    {
     "name": "stdout",
     "output_type": "stream",
     "text": [
      "f1state: YXs1\n",
      "f2state: YXs1_1a_Xs1_1a_s2\n",
      "f4state: YXs1_1a_Xs1_1a_s2_2_Xs1_1b_s3_3_Xs1_1a_s2_2_s4\n",
      "f3state: YXs1_1b_Xs1_1b_s3\n",
      "f4state: YXs1_1b_Xs1_1b_s3_3_YXs1_1a_Xs1_1a_s2_2_Xs1_1b_s3_3_Xs1_1a_s2_2_s4\n"
     ]
    }
   ],
   "source": [
    "f1.send('Y')"
   ]
  },
  {
   "cell_type": "code",
   "execution_count": null,
   "metadata": {},
   "outputs": [],
   "source": []
  }
 ],
 "metadata": {
  "kernelspec": {
   "display_name": "Environment (conda_python3)",
   "language": "python",
   "name": "conda_python3"
  },
  "language_info": {
   "codemirror_mode": {
    "name": "ipython",
    "version": 3
   },
   "file_extension": ".py",
   "mimetype": "text/x-python",
   "name": "python",
   "nbconvert_exporter": "python",
   "pygments_lexer": "ipython3",
   "version": "3.6.5"
  }
 },
 "nbformat": 4,
 "nbformat_minor": 2
}
