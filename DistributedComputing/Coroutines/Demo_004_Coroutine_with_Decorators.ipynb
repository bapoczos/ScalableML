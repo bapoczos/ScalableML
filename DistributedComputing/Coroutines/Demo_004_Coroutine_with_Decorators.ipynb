{
 "cells": [
  {
   "cell_type": "markdown",
   "metadata": {},
   "source": [
    "Based on **Francesco Pierfederici: Distributed Computing with Python, Chapter 2**"
   ]
  },
  {
   "cell_type": "markdown",
   "metadata": {},
   "source": [
    "### Decorators"
   ]
  },
  {
   "cell_type": "markdown",
   "metadata": {},
   "source": [
    "When using coroutines, most people find **having to call next() on the coroutine \n",
    "rather annoying** and end up **using a decorator to avoid the extra call**, as the following \n",
    "example shows:"
   ]
  },
  {
   "cell_type": "code",
   "execution_count": 1,
   "metadata": {},
   "outputs": [],
   "source": [
    "# Let us create a wrapper function that will always call the next(c) function for us.\n",
    "def coroutine(fn):\n",
    "    # We will apply the coroutine function to the fn function.\n",
    "    # Inside the coroutine function we create first another local function called wrapper.\n",
    "    # This wrapper will call the origanal fn function with its arguments, and then apply the next() function \n",
    "    # on the resulting coroutine\n",
    "    def wrapper(*args, **kwargs):\n",
    "        c = fn(*args, **kwargs)\n",
    "        next(c)\n",
    "        return c\n",
    "    return wrapper"
   ]
  },
  {
   "cell_type": "markdown",
   "metadata": {},
   "source": [
    "Example of using the decorator:"
   ]
  },
  {
   "cell_type": "code",
   "execution_count": 2,
   "metadata": {},
   "outputs": [],
   "source": [
    "@coroutine\n",
    "def complain_about2(substring):\n",
    "    print('Please talk to me!')\n",
    "    while True:\n",
    "        text = (yield)\n",
    "        if substring in text:\n",
    "            print('Oh no: I found a %s again!'% (substring))\n",
    "            "
   ]
  },
  {
   "cell_type": "markdown",
   "metadata": {},
   "source": [
    "Now we can run this coroutine without starting it with the next statement:"
   ]
  },
  {
   "cell_type": "code",
   "execution_count": 3,
   "metadata": {},
   "outputs": [
    {
     "name": "stdout",
     "output_type": "stream",
     "text": [
      "Please talk to me!\n"
     ]
    }
   ],
   "source": [
    "c = complain_about2('AI')"
   ]
  },
  {
   "cell_type": "code",
   "execution_count": 4,
   "metadata": {},
   "outputs": [],
   "source": [
    "c.send('Test data with JavaScript somewhere in it')"
   ]
  },
  {
   "cell_type": "code",
   "execution_count": 5,
   "metadata": {},
   "outputs": [],
   "source": [
    "c.send('Hello')"
   ]
  },
  {
   "cell_type": "code",
   "execution_count": 6,
   "metadata": {},
   "outputs": [
    {
     "name": "stdout",
     "output_type": "stream",
     "text": [
      "Oh no: I found a AI again!\n"
     ]
    }
   ],
   "source": [
    "c.send('Hello AI')"
   ]
  },
  {
   "cell_type": "code",
   "execution_count": 7,
   "metadata": {},
   "outputs": [],
   "source": [
    "c.close()"
   ]
  },
  {
   "cell_type": "markdown",
   "metadata": {},
   "source": [
    "Coroutines can be arranged in rather **complex hierarchies**. \n",
    "\n",
    "One **coroutine can send data to multiple other ones** and they can also **get data from multiple sources**."
   ]
  },
  {
   "cell_type": "markdown",
   "metadata": {},
   "source": [
    "Since coroutines **can stop their execution** and **wait in a non-blocking way** till we restart them again, they can be used in **asynchronous programming**:"
   ]
  },
  {
   "cell_type": "code",
   "execution_count": null,
   "metadata": {},
   "outputs": [],
   "source": []
  }
 ],
 "metadata": {
  "kernelspec": {
   "display_name": "Environment (conda_python3)",
   "language": "python",
   "name": "conda_python3"
  },
  "language_info": {
   "codemirror_mode": {
    "name": "ipython",
    "version": 3
   },
   "file_extension": ".py",
   "mimetype": "text/x-python",
   "name": "python",
   "nbconvert_exporter": "python",
   "pygments_lexer": "ipython3",
   "version": "3.6.5"
  }
 },
 "nbformat": 4,
 "nbformat_minor": 2
}
