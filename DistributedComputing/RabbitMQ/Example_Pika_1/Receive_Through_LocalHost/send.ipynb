{
 "cells": [
  {
   "cell_type": "markdown",
   "metadata": {},
   "source": [
    "# Using rabbitmq-server Message Broker with Amazon AWS"
   ]
  },
  {
   "cell_type": "markdown",
   "metadata": {},
   "source": [
    "### Installation"
   ]
  },
  {
   "cell_type": "markdown",
   "metadata": {},
   "source": [
    "### check notes on http://kronosapiens.github.io/blog/2015/04/28/rabbitmq-aws.html"
   ]
  },
  {
   "cell_type": "markdown",
   "metadata": {},
   "source": [
    "Install rabbitmq-server server first:"
   ]
  },
  {
   "cell_type": "code",
   "execution_count": 1,
   "metadata": {},
   "outputs": [],
   "source": [
    "#!sudo apt-get install rabbitmq-server"
   ]
  },
  {
   "cell_type": "markdown",
   "metadata": {},
   "source": [
    "check if the rabbitmq server is up and runnning: "
   ]
  },
  {
   "cell_type": "code",
   "execution_count": 2,
   "metadata": {},
   "outputs": [
    {
     "name": "stdout",
     "output_type": "stream",
     "text": [
      "Status of node 'rabbit@ip-172-31-2-17' ...\r\n",
      "[{pid,1968},\r\n",
      " {running_applications,[{rabbit,\"RabbitMQ\",\"3.5.7\"},\r\n",
      "                        {mnesia,\"MNESIA  CXC 138 12\",\"4.13.3\"},\r\n",
      "                        {xmerl,\"XML parser\",\"1.3.10\"},\r\n",
      "                        {os_mon,\"CPO  CXC 138 46\",\"2.4\"},\r\n",
      "                        {sasl,\"SASL  CXC 138 11\",\"2.7\"},\r\n",
      "                        {stdlib,\"ERTS  CXC 138 10\",\"2.8\"},\r\n",
      "                        {kernel,\"ERTS  CXC 138 10\",\"4.2\"}]},\r\n",
      " {os,{unix,linux}},\r\n",
      " {erlang_version,\"Erlang/OTP 18 [erts-7.3] [source] [64-bit] [smp:4:4] [async-threads:64] [kernel-poll:true]\\n\"},\r\n",
      " {memory,[{total,56678656},\r\n",
      "          {connection_readers,0},\r\n",
      "          {connection_writers,0},\r\n",
      "          {connection_channels,0},\r\n",
      "          {connection_other,6864},\r\n",
      "          {queue_procs,37976},\r\n",
      "          {queue_slave_procs,0},\r\n",
      "          {plugins,0},\r\n",
      "          {other_proc,13700024},\r\n",
      "          {mnesia,68136},\r\n",
      "          {mgmt_db,0},\r\n",
      "          {msg_index,294784},\r\n",
      "          {other_ets,857280},\r\n",
      "          {binary,13089032},\r\n",
      "          {code,16965867},\r\n",
      "          {atom,654217},\r\n",
      "          {other_system,11004476}]},\r\n",
      " {alarms,[]},\r\n",
      " {listeners,[{clustering,25672,\"::\"},{amqp,5672,\"::\"}]},\r\n",
      " {vm_memory_high_watermark,0.4},\r\n",
      " {vm_memory_limit,6727309721},\r\n",
      " {disk_free_limit,50000000},\r\n",
      " {disk_free,17905782784},\r\n",
      " {file_descriptors,[{total_limit,65436},\r\n",
      "                    {total_used,4},\r\n",
      "                    {sockets_limit,58890},\r\n",
      "                    {sockets_used,1}]},\r\n",
      " {processes,[{limit,1048576},{used,131}]},\r\n",
      " {run_queue,0},\r\n",
      " {uptime,8452}]\r\n"
     ]
    }
   ],
   "source": [
    "!sudo rabbitmqctl status"
   ]
  },
  {
   "cell_type": "markdown",
   "metadata": {},
   "source": [
    "RabbitMQ comes with a “guest” user out of the box, but this user is not configured to accept external requests. This would be fine if you were planning on sending and consuming messages locally, but we are not.\n",
    "\n",
    "The easiest way to configure RabbitMQ to accept external requests is to create a new user. Go ahead and run the following. (Feel free to chahnge the myguest username and password to anytihng you like):"
   ]
  },
  {
   "cell_type": "code",
   "execution_count": 3,
   "metadata": {},
   "outputs": [],
   "source": [
    "#!sudo rabbitmqctl add_user myguest myguestpwd\n",
    "#!sudo rabbitmqctl set_permissions -p / myguest \".\" \".\" \".*\""
   ]
  },
  {
   "cell_type": "markdown",
   "metadata": {},
   "source": [
    "This will create a new user on the RabbitMQ server. We will use this username and password to configure the app-layer instance to send messages to Rabbit.\n",
    "\n",
    "Let’s check to make sure the user was created correctly:"
   ]
  },
  {
   "cell_type": "code",
   "execution_count": 4,
   "metadata": {},
   "outputs": [
    {
     "name": "stdout",
     "output_type": "stream",
     "text": [
      "Listing users ...\r\n",
      "guest\t[administrator]\r\n",
      "myguest\t[]\r\n"
     ]
    }
   ],
   "source": [
    "!sudo rabbitmqctl list_users"
   ]
  },
  {
   "cell_type": "markdown",
   "metadata": {},
   "source": [
    "Pika is a pure-Python implementation of the AMQP 0-9-1 protocol that is used by RabbitMQ."
   ]
  },
  {
   "cell_type": "markdown",
   "metadata": {},
   "source": [
    "### For more details see  https://www.rabbitmq.com/tutorials/tutorial-one-python.html"
   ]
  },
  {
   "cell_type": "code",
   "execution_count": 5,
   "metadata": {},
   "outputs": [],
   "source": [
    "#!pip install pika --upgrade"
   ]
  },
  {
   "cell_type": "code",
   "execution_count": 6,
   "metadata": {},
   "outputs": [],
   "source": [
    "import pika"
   ]
  },
  {
   "cell_type": "code",
   "execution_count": 7,
   "metadata": {},
   "outputs": [
    {
     "data": {
      "text/plain": [
       "'1.1.0'"
      ]
     },
     "execution_count": 7,
     "metadata": {},
     "output_type": "execute_result"
    }
   ],
   "source": [
    "pika.__version__"
   ]
  },
  {
   "cell_type": "markdown",
   "metadata": {},
   "source": [
    "#### Queues\n",
    "\n",
    "A queue is the name for a post box which lives inside RabbitMQ. Although messages flow through RabbitMQ and your applications, they can only be stored inside a queue. A queue is only bound by the host's memory & disk limits, it's essentially a large message buffer. Many producers can send messages that go to one queue, and many consumers can try to receive data from one queue. "
   ]
  },
  {
   "cell_type": "markdown",
   "metadata": {},
   "source": [
    "### Example for sending message on Localhost "
   ]
  },
  {
   "cell_type": "code",
   "execution_count": 8,
   "metadata": {},
   "outputs": [],
   "source": [
    "# create a connection to 'localhost'\n",
    "connection_local = pika.BlockingConnection(pika.ConnectionParameters('localhost'))\n"
   ]
  },
  {
   "cell_type": "code",
   "execution_count": 9,
   "metadata": {},
   "outputs": [],
   "source": [
    "# create a channel on this connection:\n",
    "channel_local = connection_local.channel()"
   ]
  },
  {
   "cell_type": "code",
   "execution_count": 10,
   "metadata": {},
   "outputs": [
    {
     "data": {
      "text/plain": [
       "<METHOD(['channel_number=1', 'frame_type=1', \"method=<Queue.DeclareOk(['consumer_count=0', 'message_count=0', 'queue=hello_local'])>\"])>"
      ]
     },
     "execution_count": 10,
     "metadata": {},
     "output_type": "execute_result"
    }
   ],
   "source": [
    "# set up the queue\n",
    "# Creating a queue using queue_declare is idempotent ‒ we can run the command as many times as we like, \n",
    "# and only one will be created.\n",
    "\n",
    "channel_local.queue_declare(queue='hello_local')"
   ]
  },
  {
   "cell_type": "markdown",
   "metadata": {},
   "source": [
    "<b> Before you run the next cell, run the 'recive_localhost' code as well. That program will wait for message"
   ]
  },
  {
   "cell_type": "code",
   "execution_count": 11,
   "metadata": {},
   "outputs": [
    {
     "name": "stdout",
     "output_type": "stream",
     "text": [
      " [x] Sent 'Hello World 1!'\n"
     ]
    }
   ],
   "source": [
    "# send a message to this channel by specifiying a routing_key\n",
    "# set the routing_key to the same as  the queue name!\n",
    "\n",
    "channel_local.basic_publish(exchange='',\n",
    "                      routing_key='hello_local',\n",
    "                      body='Hello World 1!')\n",
    "print(\" [x] Sent 'Hello World 1!'\")"
   ]
  },
  {
   "cell_type": "markdown",
   "metadata": {},
   "source": [
    "<b> Check if the running 'recive_localhost' code recived the message!"
   ]
  },
  {
   "cell_type": "code",
   "execution_count": 12,
   "metadata": {},
   "outputs": [],
   "source": [
    "connection_local.close()"
   ]
  },
  {
   "cell_type": "markdown",
   "metadata": {},
   "source": [
    "### Here is another way with setting up credentials"
   ]
  },
  {
   "cell_type": "code",
   "execution_count": 13,
   "metadata": {},
   "outputs": [
    {
     "data": {
      "text/plain": [
       "<METHOD(['channel_number=1', 'frame_type=1', \"method=<Queue.DeclareOk(['consumer_count=1', 'message_count=0', 'queue=hello_local'])>\"])>"
      ]
     },
     "execution_count": 13,
     "metadata": {},
     "output_type": "execute_result"
    }
   ],
   "source": [
    "credentials = pika.PlainCredentials('myguest', 'myguestpwd')\n",
    "parameters =  pika.ConnectionParameters('localhost', port=5672, credentials=credentials)\n",
    "connection = pika.BlockingConnection(parameters)\n",
    "channel = connection.channel()\n",
    "channel.queue_declare(queue='hello_local')"
   ]
  },
  {
   "cell_type": "code",
   "execution_count": 14,
   "metadata": {},
   "outputs": [
    {
     "name": "stdout",
     "output_type": "stream",
     "text": [
      " [x] Sent 'Hello World 2!'\n"
     ]
    }
   ],
   "source": [
    "# set the routing key to be the queu name.\n",
    "channel.basic_publish(exchange='',\n",
    "                      routing_key='hello_local',\n",
    "                      body='Hello World 2!')\n",
    "print(\" [x] Sent 'Hello World 2!'\")"
   ]
  },
  {
   "cell_type": "markdown",
   "metadata": {},
   "source": [
    "<b> check if the running 'receive_localhost' code received the message!"
   ]
  },
  {
   "cell_type": "code",
   "execution_count": 15,
   "metadata": {},
   "outputs": [],
   "source": [
    "connection.close()"
   ]
  },
  {
   "cell_type": "markdown",
   "metadata": {},
   "source": [
    "you can list the exisitng queues"
   ]
  },
  {
   "cell_type": "code",
   "execution_count": 16,
   "metadata": {},
   "outputs": [
    {
     "name": "stdout",
     "output_type": "stream",
     "text": [
      "Listing queues ...\r\n",
      "celery\t0\r\n",
      "hello_local\t0\r\n"
     ]
    }
   ],
   "source": [
    "!sudo rabbitmqctl list_queues"
   ]
  },
  {
   "cell_type": "code",
   "execution_count": null,
   "metadata": {},
   "outputs": [],
   "source": []
  }
 ],
 "metadata": {
  "kernelspec": {
   "display_name": "Environment (conda_python3)",
   "language": "python",
   "name": "conda_python3"
  },
  "language_info": {
   "codemirror_mode": {
    "name": "ipython",
    "version": 3
   },
   "file_extension": ".py",
   "mimetype": "text/x-python",
   "name": "python",
   "nbconvert_exporter": "python",
   "pygments_lexer": "ipython3",
   "version": "3.6.5"
  }
 },
 "nbformat": 4,
 "nbformat_minor": 2
}
