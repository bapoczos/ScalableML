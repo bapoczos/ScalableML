{
 "cells": [
  {
   "cell_type": "markdown",
   "metadata": {},
   "source": [
    "# Using rabbitmq-server Message Broker with Amazon AWS"
   ]
  },
  {
   "cell_type": "markdown",
   "metadata": {},
   "source": [
    "### Installation"
   ]
  },
  {
   "cell_type": "markdown",
   "metadata": {},
   "source": [
    "### check notes on http://kronosapiens.github.io/blog/2015/04/28/rabbitmq-aws.html"
   ]
  },
  {
   "cell_type": "markdown",
   "metadata": {},
   "source": [
    "Install rabbitmq-server server first:"
   ]
  },
  {
   "cell_type": "code",
   "execution_count": 1,
   "metadata": {},
   "outputs": [],
   "source": [
    "#!sudo apt-get install rabbitmq-server"
   ]
  },
  {
   "cell_type": "markdown",
   "metadata": {},
   "source": [
    "check if the rabbitmq server is up and runnning: "
   ]
  },
  {
   "cell_type": "code",
   "execution_count": 2,
   "metadata": {},
   "outputs": [
    {
     "name": "stdout",
     "output_type": "stream",
     "text": [
      "Status of node 'rabbit@ip-172-31-2-17' ...\r\n",
      "[{pid,1968},\r\n",
      " {running_applications,[{rabbit,\"RabbitMQ\",\"3.5.7\"},\r\n",
      "                        {mnesia,\"MNESIA  CXC 138 12\",\"4.13.3\"},\r\n",
      "                        {xmerl,\"XML parser\",\"1.3.10\"},\r\n",
      "                        {os_mon,\"CPO  CXC 138 46\",\"2.4\"},\r\n",
      "                        {sasl,\"SASL  CXC 138 11\",\"2.7\"},\r\n",
      "                        {stdlib,\"ERTS  CXC 138 10\",\"2.8\"},\r\n",
      "                        {kernel,\"ERTS  CXC 138 10\",\"4.2\"}]},\r\n",
      " {os,{unix,linux}},\r\n",
      " {erlang_version,\"Erlang/OTP 18 [erts-7.3] [source] [64-bit] [smp:4:4] [async-threads:64] [kernel-poll:true]\\n\"},\r\n",
      " {memory,[{total,59036720},\r\n",
      "          {connection_readers,9072},\r\n",
      "          {connection_writers,2784},\r\n",
      "          {connection_channels,6016},\r\n",
      "          {connection_other,35032},\r\n",
      "          {queue_procs,31592},\r\n",
      "          {queue_slave_procs,0},\r\n",
      "          {plugins,0},\r\n",
      "          {other_proc,13622088},\r\n",
      "          {mnesia,68136},\r\n",
      "          {mgmt_db,0},\r\n",
      "          {msg_index,294784},\r\n",
      "          {other_ets,858336},\r\n",
      "          {binary,15479864},\r\n",
      "          {code,16965867},\r\n",
      "          {atom,654217},\r\n",
      "          {other_system,11008932}]},\r\n",
      " {alarms,[]},\r\n",
      " {listeners,[{clustering,25672,\"::\"},{amqp,5672,\"::\"}]},\r\n",
      " {vm_memory_high_watermark,0.4},\r\n",
      " {vm_memory_limit,6727309721},\r\n",
      " {disk_free_limit,50000000},\r\n",
      " {disk_free,17903443968},\r\n",
      " {file_descriptors,[{total_limit,65436},\r\n",
      "                    {total_used,5},\r\n",
      "                    {sockets_limit,58890},\r\n",
      "                    {sockets_used,2}]},\r\n",
      " {processes,[{limit,1048576},{used,142}]},\r\n",
      " {run_queue,0},\r\n",
      " {uptime,8614}]\r\n"
     ]
    }
   ],
   "source": [
    "!sudo rabbitmqctl status"
   ]
  },
  {
   "cell_type": "markdown",
   "metadata": {},
   "source": [
    "RabbitMQ comes with a “guest” user out of the box, but this user is not configured to accept external requests. This would be fine if you were planning on sending and consuming messages locally, but we are not.\n",
    "\n",
    "The easiest way to configure RabbitMQ to accept external requests is to create a new user. Go ahead and run the following. (Feel free to chahnge the myguest username and password to anytihng you like):"
   ]
  },
  {
   "cell_type": "code",
   "execution_count": 3,
   "metadata": {},
   "outputs": [],
   "source": [
    "#!sudo rabbitmqctl add_user myguest myguestpwd\n",
    "#!sudo rabbitmqctl set_permissions -p / myguest \".\" \".\" \".*\""
   ]
  },
  {
   "cell_type": "markdown",
   "metadata": {},
   "source": [
    "This will create a new user on the RabbitMQ server. We will use this username and password to configure the app-layer instance to send messages to Rabbit.\n",
    "\n",
    "Let’s check to make sure the user was created correctly:"
   ]
  },
  {
   "cell_type": "code",
   "execution_count": 4,
   "metadata": {},
   "outputs": [
    {
     "name": "stdout",
     "output_type": "stream",
     "text": [
      "Listing users ...\n",
      "guest\t[administrator]\n",
      "myguest\t[]\n"
     ]
    }
   ],
   "source": [
    "!sudo rabbitmqctl list_users"
   ]
  },
  {
   "cell_type": "markdown",
   "metadata": {},
   "source": [
    "Pika is a pure-Python implementation of the AMQP 0-9-1 protocol that is used by RabbitMQ."
   ]
  },
  {
   "cell_type": "markdown",
   "metadata": {},
   "source": [
    "### For more details see  https://www.rabbitmq.com/tutorials/tutorial-one-python.html"
   ]
  },
  {
   "cell_type": "code",
   "execution_count": 5,
   "metadata": {},
   "outputs": [],
   "source": [
    "#!pip install pika --upgrade"
   ]
  },
  {
   "cell_type": "code",
   "execution_count": 6,
   "metadata": {},
   "outputs": [],
   "source": [
    "import pika"
   ]
  },
  {
   "cell_type": "code",
   "execution_count": 7,
   "metadata": {},
   "outputs": [
    {
     "data": {
      "text/plain": [
       "'1.1.0'"
      ]
     },
     "execution_count": 7,
     "metadata": {},
     "output_type": "execute_result"
    }
   ],
   "source": [
    "pika.__version__"
   ]
  },
  {
   "cell_type": "markdown",
   "metadata": {},
   "source": [
    "### Example for sending message through web"
   ]
  },
  {
   "cell_type": "markdown",
   "metadata": {},
   "source": [
    "Below I'm using a balance loader (PROD-JOB-844fd7d2202ac4da.elb.us-east-2.amazonaws.com) that I set up on AWS. <br>\n",
    "<b> You should change it to your machine's address!"
   ]
  },
  {
   "cell_type": "markdown",
   "metadata": {},
   "source": [
    "Before you run the next cell, make sure AWS \"Target groups\" in the \"Load balancing\" are set up correctly and the instances are registered. "
   ]
  },
  {
   "cell_type": "code",
   "execution_count": 8,
   "metadata": {},
   "outputs": [],
   "source": [
    "credentials = pika.PlainCredentials('myguest', 'myguestpwd')\n",
    "parameters =  pika.ConnectionParameters('PROD-JOB-844fd7d2202ac4da.elb.us-east-2.amazonaws.com', port=5672, credentials=credentials)\n",
    "connection = pika.BlockingConnection(parameters)\n",
    "channel = connection.channel()"
   ]
  },
  {
   "cell_type": "markdown",
   "metadata": {},
   "source": [
    "<b> Before you run the next cell, you should also run the receiver: \"receive_through_url.ipynb\""
   ]
  },
  {
   "cell_type": "code",
   "execution_count": 9,
   "metadata": {},
   "outputs": [
    {
     "name": "stdout",
     "output_type": "stream",
     "text": [
      " [x] Sent 'Hello World3!'\n"
     ]
    }
   ],
   "source": [
    "channel.basic_publish(exchange='',\n",
    "                      routing_key='hello2',\n",
    "                      body='Hello World3!')\n",
    "print(\" [x] Sent 'Hello World3!'\")"
   ]
  },
  {
   "cell_type": "code",
   "execution_count": 10,
   "metadata": {},
   "outputs": [],
   "source": [
    "connection.close()"
   ]
  },
  {
   "cell_type": "code",
   "execution_count": null,
   "metadata": {},
   "outputs": [],
   "source": []
  }
 ],
 "metadata": {
  "kernelspec": {
   "display_name": "Environment (conda_python3)",
   "language": "python",
   "name": "conda_python3"
  },
  "language_info": {
   "codemirror_mode": {
    "name": "ipython",
    "version": 3
   },
   "file_extension": ".py",
   "mimetype": "text/x-python",
   "name": "python",
   "nbconvert_exporter": "python",
   "pygments_lexer": "ipython3",
   "version": "3.6.5"
  }
 },
 "nbformat": 4,
 "nbformat_minor": 2
}
