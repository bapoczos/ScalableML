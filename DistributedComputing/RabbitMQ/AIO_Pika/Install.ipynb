{
 "cells": [
  {
   "cell_type": "markdown",
   "metadata": {},
   "source": [
    "### You will need to install the below packages to make aio-pika work"
   ]
  },
  {
   "cell_type": "code",
   "execution_count": 1,
   "metadata": {},
   "outputs": [
    {
     "name": "stdout",
     "output_type": "stream",
     "text": [
      "Requirement already satisfied: ipykernel in /home/ubuntu/anaconda3/lib/python3.6/site-packages (4.8.2)\n",
      "Collecting ipykernel\n",
      "  Downloading ipykernel-5.5.6-py3-none-any.whl (121 kB)\n",
      "     |████████████████████████████████| 121 kB 4.1 MB/s            \n",
      "\u001b[?25hRequirement already satisfied: ipython in /home/ubuntu/anaconda3/lib/python3.6/site-packages (6.4.0)\n",
      "Collecting ipython\n",
      "  Downloading ipython-7.16.3-py3-none-any.whl (783 kB)\n",
      "     |████████████████████████████████| 783 kB 31.0 MB/s            \n",
      "\u001b[?25hRequirement already satisfied: traitlets>=4.1.0 in /home/ubuntu/anaconda3/lib/python3.6/site-packages (from ipykernel) (4.3.2)\n",
      "Requirement already satisfied: ipython-genutils in /home/ubuntu/anaconda3/lib/python3.6/site-packages (from ipykernel) (0.2.0)\n",
      "Requirement already satisfied: tornado>=4.2 in /home/ubuntu/anaconda3/lib/python3.6/site-packages (from ipykernel) (5.0.2)\n",
      "Requirement already satisfied: jupyter-client in /home/ubuntu/anaconda3/lib/python3.6/site-packages (from ipykernel) (5.2.3)\n",
      "Requirement already satisfied: setuptools>=18.5 in /home/ubuntu/anaconda3/lib/python3.6/site-packages (from ipython) (39.1.0)\n",
      "Requirement already satisfied: pickleshare in /home/ubuntu/anaconda3/lib/python3.6/site-packages (from ipython) (0.7.4)\n",
      "Requirement already satisfied: jedi<=0.17.2,>=0.10 in /home/ubuntu/anaconda3/lib/python3.6/site-packages (from ipython) (0.12.0)\n",
      "Requirement already satisfied: pexpect in /home/ubuntu/anaconda3/lib/python3.6/site-packages (from ipython) (4.5.0)\n",
      "Requirement already satisfied: backcall in /home/ubuntu/anaconda3/lib/python3.6/site-packages (from ipython) (0.1.0)\n",
      "Requirement already satisfied: pygments in /home/ubuntu/anaconda3/lib/python3.6/site-packages (from ipython) (2.2.0)\n",
      "Requirement already satisfied: decorator in /home/ubuntu/anaconda3/lib/python3.6/site-packages (from ipython) (4.3.0)\n",
      "Collecting prompt-toolkit!=3.0.0,!=3.0.1,<3.1.0,>=2.0.0\n",
      "  Downloading prompt_toolkit-3.0.26-py3-none-any.whl (375 kB)\n",
      "     |████████████████████████████████| 375 kB 58.6 MB/s            \n",
      "\u001b[?25hRequirement already satisfied: parso>=0.2.0 in /home/ubuntu/anaconda3/lib/python3.6/site-packages (from jedi<=0.17.2,>=0.10->ipython) (0.2.0)\n",
      "Requirement already satisfied: wcwidth in /home/ubuntu/anaconda3/lib/python3.6/site-packages (from prompt-toolkit!=3.0.0,!=3.0.1,<3.1.0,>=2.0.0->ipython) (0.1.7)\n",
      "Requirement already satisfied: six in /home/ubuntu/anaconda3/lib/python3.6/site-packages (from traitlets>=4.1.0->ipykernel) (1.11.0)\n",
      "Requirement already satisfied: jupyter_core in /home/ubuntu/anaconda3/lib/python3.6/site-packages (from jupyter-client->ipykernel) (4.4.0)\n",
      "Requirement already satisfied: pyzmq>=13 in /home/ubuntu/anaconda3/lib/python3.6/site-packages (from jupyter-client->ipykernel) (17.0.0)\n",
      "Requirement already satisfied: python-dateutil>=2.1 in /home/ubuntu/anaconda3/lib/python3.6/site-packages (from jupyter-client->ipykernel) (2.7.3)\n",
      "Requirement already satisfied: ptyprocess>=0.5 in /home/ubuntu/anaconda3/lib/python3.6/site-packages (from pexpect->ipython) (0.5.2)\n",
      "Installing collected packages: prompt-toolkit, ipython, ipykernel\n",
      "  Attempting uninstall: prompt-toolkit\n",
      "    Found existing installation: prompt-toolkit 1.0.15\n",
      "    Uninstalling prompt-toolkit-1.0.15:\n",
      "      Successfully uninstalled prompt-toolkit-1.0.15\n",
      "  Attempting uninstall: ipython\n",
      "    Found existing installation: ipython 6.4.0\n",
      "    Uninstalling ipython-6.4.0:\n",
      "      Successfully uninstalled ipython-6.4.0\n",
      "  Attempting uninstall: ipykernel\n",
      "    Found existing installation: ipykernel 4.8.2\n",
      "    Uninstalling ipykernel-4.8.2:\n",
      "      Successfully uninstalled ipykernel-4.8.2\n",
      "\u001b[31mERROR: pip's dependency resolver does not currently take into account all the packages that are installed. This behaviour is the source of the following dependency conflicts.\n",
      "sparkmagic 0.12.5 requires ipykernel<5,>=4.2.2, but you have ipykernel 5.5.6 which is incompatible.\n",
      "sparkmagic 0.12.5 requires ipython<7,>=4.0.2, but you have ipython 7.16.3 which is incompatible.\n",
      "jupyter-console 5.2.0 requires prompt_toolkit<2.0.0,>=1.0.0, but you have prompt-toolkit 3.0.26 which is incompatible.\n",
      "hdijupyterutils 0.12.6 requires ipykernel<5,>=4.2.2, but you have ipykernel 5.5.6 which is incompatible.\n",
      "hdijupyterutils 0.12.6 requires ipython<7,>=4.0.2, but you have ipython 7.16.3 which is incompatible.\u001b[0m\n",
      "Successfully installed ipykernel-5.5.6 ipython-7.16.3 prompt-toolkit-3.0.26\n"
     ]
    }
   ],
   "source": [
    "!pip install ipykernel ipython --upgrade"
   ]
  },
  {
   "cell_type": "code",
   "execution_count": 2,
   "metadata": {},
   "outputs": [
    {
     "name": "stdout",
     "output_type": "stream",
     "text": [
      "Collecting aio-pika\n",
      "  Downloading aio_pika-6.8.2-py3-none-any.whl (42 kB)\n",
      "     |████████████████████████████████| 42 kB 724 kB/s             \n",
      "\u001b[?25hCollecting aiormq<4,>=3.2.3\n",
      "  Downloading aiormq-3.3.1-py3-none-any.whl (28 kB)\n",
      "Collecting yarl\n",
      "  Downloading yarl-1.7.2-cp36-cp36m-manylinux_2_5_x86_64.manylinux1_x86_64.manylinux_2_12_x86_64.manylinux2010_x86_64.whl (270 kB)\n",
      "     |████████████████████████████████| 270 kB 8.9 MB/s            \n",
      "\u001b[?25hCollecting pamqp==2.3.0\n",
      "  Downloading pamqp-2.3.0-py2.py3-none-any.whl (28 kB)\n",
      "Requirement already satisfied: idna>=2.0 in /home/ubuntu/anaconda3/lib/python3.6/site-packages (from yarl->aio-pika) (2.6)\n",
      "Collecting typing-extensions>=3.7.4\n",
      "  Downloading typing_extensions-4.0.1-py3-none-any.whl (22 kB)\n",
      "Collecting multidict>=4.0\n",
      "  Downloading multidict-5.2.0-cp36-cp36m-manylinux_2_5_x86_64.manylinux1_x86_64.manylinux_2_12_x86_64.manylinux2010_x86_64.whl (159 kB)\n",
      "     |████████████████████████████████| 159 kB 67.0 MB/s            \n",
      "\u001b[?25hInstalling collected packages: typing-extensions, multidict, yarl, pamqp, aiormq, aio-pika\n",
      "Successfully installed aio-pika-6.8.2 aiormq-3.3.1 multidict-5.2.0 pamqp-2.3.0 typing-extensions-4.0.1 yarl-1.7.2\n"
     ]
    }
   ],
   "source": [
    "!pip install aio-pika"
   ]
  },
  {
   "cell_type": "code",
   "execution_count": 3,
   "metadata": {},
   "outputs": [
    {
     "name": "stdout",
     "output_type": "stream",
     "text": [
      "Collecting tornado==4.5.3\n",
      "  Downloading tornado-4.5.3.tar.gz (484 kB)\n",
      "     |████████████████████████████████| 484 kB 4.6 MB/s            \n",
      "\u001b[?25h  Preparing metadata (setup.py) ... \u001b[?25ldone\n",
      "\u001b[?25hBuilding wheels for collected packages: tornado\n",
      "  Building wheel for tornado (setup.py) ... \u001b[?25ldone\n",
      "\u001b[?25h  Created wheel for tornado: filename=tornado-4.5.3-cp36-cp36m-linux_x86_64.whl size=424280 sha256=5847c8d7c7580f0f932dc13e0d2248d4c3439ea26a408b929963d58adecf08de\n",
      "  Stored in directory: /home/ubuntu/.cache/pip/wheels/7c/26/a6/8fc2a26547829568bcafabbabe61ea5f9c449f97be752af46a\n",
      "Successfully built tornado\n",
      "Installing collected packages: tornado\n",
      "  Attempting uninstall: tornado\n",
      "    Found existing installation: tornado 5.0.2\n",
      "    Uninstalling tornado-5.0.2:\n",
      "      Successfully uninstalled tornado-5.0.2\n",
      "\u001b[31mERROR: pip's dependency resolver does not currently take into account all the packages that are installed. This behaviour is the source of the following dependency conflicts.\n",
      "sparkmagic 0.12.5 requires ipykernel<5,>=4.2.2, but you have ipykernel 5.5.6 which is incompatible.\n",
      "sparkmagic 0.12.5 requires ipython<7,>=4.0.2, but you have ipython 7.16.3 which is incompatible.\n",
      "hdijupyterutils 0.12.6 requires ipykernel<5,>=4.2.2, but you have ipykernel 5.5.6 which is incompatible.\n",
      "hdijupyterutils 0.12.6 requires ipython<7,>=4.0.2, but you have ipython 7.16.3 which is incompatible.\u001b[0m\n",
      "Successfully installed tornado-4.5.3\n"
     ]
    }
   ],
   "source": [
    "!pip install tornado==4.5.3"
   ]
  },
  {
   "cell_type": "code",
   "execution_count": null,
   "metadata": {},
   "outputs": [],
   "source": []
  }
 ],
 "metadata": {
  "kernelspec": {
   "display_name": "Python 3",
   "language": "python",
   "name": "python3"
  },
  "language_info": {
   "codemirror_mode": {
    "name": "ipython",
    "version": 3
   },
   "file_extension": ".py",
   "mimetype": "text/x-python",
   "name": "python",
   "nbconvert_exporter": "python",
   "pygments_lexer": "ipython3",
   "version": "3.6.5"
  }
 },
 "nbformat": 4,
 "nbformat_minor": 2
}
