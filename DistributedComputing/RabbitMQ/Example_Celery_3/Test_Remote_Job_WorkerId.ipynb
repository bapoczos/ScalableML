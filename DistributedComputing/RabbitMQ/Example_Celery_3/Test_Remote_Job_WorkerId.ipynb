{
 "cells": [
  {
   "cell_type": "code",
   "execution_count": 1,
   "metadata": {},
   "outputs": [],
   "source": [
    "#!pip install celery"
   ]
  },
  {
   "cell_type": "code",
   "execution_count": 2,
   "metadata": {},
   "outputs": [
    {
     "name": "stdout",
     "output_type": "stream",
     "text": [
      "Creating user \"myguest\" ...\n",
      "Error: user_already_exists: myguest\n",
      "Setting permissions for user \"myguest\" in vhost \"/\" ...\n"
     ]
    }
   ],
   "source": [
    "!sudo rabbitmqctl add_user myguest myguestpwd\n",
    "!sudo rabbitmqctl set_permissions -p / myguest \".\" \".\" \".*\""
   ]
  },
  {
   "cell_type": "code",
   "execution_count": 3,
   "metadata": {},
   "outputs": [
    {
     "name": "stdout",
     "output_type": "stream",
     "text": [
      "Listing users ...\r\n",
      "guest\t[administrator]\r\n",
      "myguest\t[]\r\n"
     ]
    }
   ],
   "source": [
    "!sudo rabbitmqctl list_users"
   ]
  },
  {
   "cell_type": "markdown",
   "metadata": {},
   "source": [
    "This code will **run on a server machine**. It will ask worker machines to complete some tasks and send the results back to the server."
   ]
  },
  {
   "cell_type": "markdown",
   "metadata": {},
   "source": [
    "In the same folder with this code there is a whoamI.py file \n",
    "You will need to run that code on the **worker** machines:\n",
    "\n",
    "**\"celery -A whoamI worker --loglevel=info --concurrency=3\" on worker machine 1** <br>\n",
    "**\"celery -A whoamI worker --loglevel=info --concurrency=2\" on worker machine 2** <br>\n",
    "**\"celery -A whoamI worker --loglevel=info --concurrency=4\" on worker machine 3**\n",
    "\n",
    "(The server machine can also be your worker machine, you will just need to run these in a terminal as new processes)\n",
    "\n",
    "Then those processes/machines will become workers, and will be able to run the app task, i.e. in this case the echo function, whenever the broker requests it.\n",
    "\n",
    "The server can ask the workers to run the echo function by these commands:\n",
    "``` python\n",
    "from test import echo\n",
    "res = echo.delay('Python rocks!'); \n",
    "print(res)\n",
    "res.result\n",
    "```"
   ]
  },
  {
   "cell_type": "code",
   "execution_count": 4,
   "metadata": {},
   "outputs": [],
   "source": [
    "from whoamI import echo"
   ]
  },
  {
   "cell_type": "markdown",
   "metadata": {},
   "source": [
    "**Check the available worker machines** <br>\n",
    "In the <code> !celery -A test status </code> command we use \"test\" because \"test.py\" runs on the workers"
   ]
  },
  {
   "cell_type": "code",
   "execution_count": 5,
   "metadata": {},
   "outputs": [
    {
     "name": "stdout",
     "output_type": "stream",
     "text": [
      "\u001b[37m\u001b[1m->\u001b[0m  \u001b[36m\u001b[1mcelery@ip-172-31-32-7: \u001b[0m\u001b[32m\u001b[1mOK\u001b[0m\n",
      "\u001b[37m\u001b[1m->\u001b[0m  \u001b[36m\u001b[1mcelery@ip-172-31-35-180: \u001b[0m\u001b[32m\u001b[1mOK\u001b[0m\n",
      "\u001b[37m\u001b[1m->\u001b[0m  \u001b[36m\u001b[1mcelery@ip-172-31-46-167: \u001b[0m\u001b[32m\u001b[1mOK\u001b[0m\n",
      "\n",
      "3 nodes online.\n"
     ]
    }
   ],
   "source": [
    "!celery -A whoamI status"
   ]
  },
  {
   "cell_type": "markdown",
   "metadata": {},
   "source": [
    "**Now let us run a series of jobs asynchronously on the workers.** "
   ]
  },
  {
   "cell_type": "code",
   "execution_count": 6,
   "metadata": {},
   "outputs": [],
   "source": [
    "res =[]\n",
    "for iter in range(1,50):\n",
    "    res.append(echo.delay('hello ' + str(iter)))"
   ]
  },
  {
   "cell_type": "markdown",
   "metadata": {},
   "source": [
    "**Let us wait for the results with \".get()\", and print them out**"
   ]
  },
  {
   "cell_type": "code",
   "execution_count": 7,
   "metadata": {},
   "outputs": [
    {
     "name": "stdout",
     "output_type": "stream",
     "text": [
      "Response from worker: 172.31.32.7 process_name: ForkPoolWorker-2 process_index: 1 os_pid: 6979 message: hello 1 **\n",
      "Response from worker: 172.31.35.180 process_name: ForkPoolWorker-2 process_index: 1 os_pid: 12175 message: hello 2 **\n",
      "Response from worker: 172.31.46.167 process_name: ForkPoolWorker-2 process_index: 1 os_pid: 21687 message: hello 3 **\n",
      "Response from worker: 172.31.32.7 process_name: ForkPoolWorker-1 process_index: 0 os_pid: 6977 message: hello 4 **\n",
      "Response from worker: 172.31.35.180 process_name: ForkPoolWorker-1 process_index: 0 os_pid: 12172 message: hello 5 **\n",
      "Response from worker: 172.31.46.167 process_name: ForkPoolWorker-4 process_index: 3 os_pid: 21690 message: hello 6 **\n",
      "Response from worker: 172.31.32.7 process_name: ForkPoolWorker-3 process_index: 2 os_pid: 6980 message: hello 7 **\n",
      "Response from worker: 172.31.35.180 process_name: ForkPoolWorker-1 process_index: 0 os_pid: 12172 message: hello 8 **\n",
      "Response from worker: 172.31.46.167 process_name: ForkPoolWorker-1 process_index: 0 os_pid: 21684 message: hello 9 **\n",
      "Response from worker: 172.31.32.7 process_name: ForkPoolWorker-3 process_index: 2 os_pid: 6980 message: hello 10 **\n",
      "Response from worker: 172.31.35.180 process_name: ForkPoolWorker-2 process_index: 1 os_pid: 12175 message: hello 11 **\n",
      "Response from worker: 172.31.46.167 process_name: ForkPoolWorker-3 process_index: 2 os_pid: 21688 message: hello 12 **\n",
      "Response from worker: 172.31.32.7 process_name: ForkPoolWorker-1 process_index: 0 os_pid: 6977 message: hello 13 **\n",
      "Response from worker: 172.31.35.180 process_name: ForkPoolWorker-1 process_index: 0 os_pid: 12172 message: hello 14 **\n",
      "Response from worker: 172.31.46.167 process_name: ForkPoolWorker-1 process_index: 0 os_pid: 21684 message: hello 15 **\n",
      "Response from worker: 172.31.32.7 process_name: ForkPoolWorker-1 process_index: 0 os_pid: 6977 message: hello 16 **\n",
      "Response from worker: 172.31.35.180 process_name: ForkPoolWorker-1 process_index: 0 os_pid: 12172 message: hello 17 **\n",
      "Response from worker: 172.31.46.167 process_name: ForkPoolWorker-1 process_index: 0 os_pid: 21684 message: hello 18 **\n",
      "Response from worker: 172.31.32.7 process_name: ForkPoolWorker-2 process_index: 1 os_pid: 6979 message: hello 19 **\n",
      "Response from worker: 172.31.35.180 process_name: ForkPoolWorker-2 process_index: 1 os_pid: 12175 message: hello 20 **\n",
      "Response from worker: 172.31.46.167 process_name: ForkPoolWorker-4 process_index: 3 os_pid: 21690 message: hello 21 **\n",
      "Response from worker: 172.31.32.7 process_name: ForkPoolWorker-1 process_index: 0 os_pid: 6977 message: hello 22 **\n",
      "Response from worker: 172.31.35.180 process_name: ForkPoolWorker-2 process_index: 1 os_pid: 12175 message: hello 23 **\n",
      "Response from worker: 172.31.46.167 process_name: ForkPoolWorker-3 process_index: 2 os_pid: 21688 message: hello 24 **\n",
      "Response from worker: 172.31.32.7 process_name: ForkPoolWorker-3 process_index: 2 os_pid: 6980 message: hello 25 **\n",
      "Response from worker: 172.31.35.180 process_name: ForkPoolWorker-1 process_index: 0 os_pid: 12172 message: hello 26 **\n",
      "Response from worker: 172.31.46.167 process_name: ForkPoolWorker-2 process_index: 1 os_pid: 21687 message: hello 27 **\n",
      "Response from worker: 172.31.32.7 process_name: ForkPoolWorker-1 process_index: 0 os_pid: 6977 message: hello 28 **\n",
      "Response from worker: 172.31.35.180 process_name: ForkPoolWorker-2 process_index: 1 os_pid: 12175 message: hello 29 **\n",
      "Response from worker: 172.31.46.167 process_name: ForkPoolWorker-2 process_index: 1 os_pid: 21687 message: hello 30 **\n",
      "Response from worker: 172.31.32.7 process_name: ForkPoolWorker-1 process_index: 0 os_pid: 6977 message: hello 31 **\n",
      "Response from worker: 172.31.46.167 process_name: ForkPoolWorker-3 process_index: 2 os_pid: 21688 message: hello 32 **\n",
      "Response from worker: 172.31.32.7 process_name: ForkPoolWorker-3 process_index: 2 os_pid: 6980 message: hello 33 **\n",
      "Response from worker: 172.31.46.167 process_name: ForkPoolWorker-1 process_index: 0 os_pid: 21684 message: hello 34 **\n",
      "Response from worker: 172.31.32.7 process_name: ForkPoolWorker-2 process_index: 1 os_pid: 6979 message: hello 35 **\n",
      "Response from worker: 172.31.46.167 process_name: ForkPoolWorker-4 process_index: 3 os_pid: 21690 message: hello 36 **\n",
      "Response from worker: 172.31.32.7 process_name: ForkPoolWorker-1 process_index: 0 os_pid: 6977 message: hello 37 **\n",
      "Response from worker: 172.31.46.167 process_name: ForkPoolWorker-2 process_index: 1 os_pid: 21687 message: hello 38 **\n",
      "Response from worker: 172.31.32.7 process_name: ForkPoolWorker-2 process_index: 1 os_pid: 6979 message: hello 39 **\n",
      "Response from worker: 172.31.46.167 process_name: ForkPoolWorker-1 process_index: 0 os_pid: 21684 message: hello 40 **\n",
      "Response from worker: 172.31.32.7 process_name: ForkPoolWorker-3 process_index: 2 os_pid: 6980 message: hello 41 **\n",
      "Response from worker: 172.31.46.167 process_name: ForkPoolWorker-1 process_index: 0 os_pid: 21684 message: hello 42 **\n",
      "Response from worker: 172.31.46.167 process_name: ForkPoolWorker-4 process_index: 3 os_pid: 21690 message: hello 43 **\n",
      "Response from worker: 172.31.46.167 process_name: ForkPoolWorker-3 process_index: 2 os_pid: 21688 message: hello 44 **\n",
      "Response from worker: 172.31.46.167 process_name: ForkPoolWorker-1 process_index: 0 os_pid: 21684 message: hello 45 **\n",
      "Response from worker: 172.31.46.167 process_name: ForkPoolWorker-1 process_index: 0 os_pid: 21684 message: hello 46 **\n",
      "Response from worker: 172.31.32.7 process_name: ForkPoolWorker-1 process_index: 0 os_pid: 6977 message: hello 47 **\n",
      "Response from worker: 172.31.46.167 process_name: ForkPoolWorker-4 process_index: 3 os_pid: 21690 message: hello 48 **\n",
      "Response from worker: 172.31.35.180 process_name: ForkPoolWorker-2 process_index: 1 os_pid: 12175 message: hello 49 **\n"
     ]
    }
   ],
   "source": [
    "for iter in range(len(res)):\n",
    "    print(res[iter].get()) #let us wait for the results and print them out"
   ]
  },
  {
   "cell_type": "markdown",
   "metadata": {},
   "source": [
    "Note that the job allocation looks like a round-robin among the different host machines for a while, but it is not always exactly like that.\n",
    "\n",
    "In one instance, the same ip address and process id got tasks right after each other: <br>\n",
    "\n",
    "Response from worker: 172.31.46.167 process_name: ForkPoolWorker-1 process_index: 0 os_pid: 21684 message: hello 45 <br>\n",
    "Response from worker: 172.31.46.167 process_name: ForkPoolWorker-1 process_index: 0 os_pid: 21684 message: hello 46  <br>"
   ]
  },
  {
   "cell_type": "markdown",
   "metadata": {},
   "source": [
    "**Let us run the echo function on the server instead of the workers:**"
   ]
  },
  {
   "cell_type": "code",
   "execution_count": 9,
   "metadata": {},
   "outputs": [
    {
     "name": "stdout",
     "output_type": "stream",
     "text": [
      "172.31.46.167 process_name: MainProcess process_index: _none_ os_pid: 22333 message: running on the server **\n"
     ]
    }
   ],
   "source": [
    "res=echo('running on the server')"
   ]
  },
  {
   "cell_type": "code",
   "execution_count": null,
   "metadata": {},
   "outputs": [],
   "source": []
  }
 ],
 "metadata": {
  "kernelspec": {
   "display_name": "Environment (conda_python3)",
   "language": "python",
   "name": "conda_python3"
  },
  "language_info": {
   "codemirror_mode": {
    "name": "ipython",
    "version": 3
   },
   "file_extension": ".py",
   "mimetype": "text/x-python",
   "name": "python",
   "nbconvert_exporter": "python",
   "pygments_lexer": "ipython3",
   "version": "3.6.5"
  }
 },
 "nbformat": 4,
 "nbformat_minor": 2
}
