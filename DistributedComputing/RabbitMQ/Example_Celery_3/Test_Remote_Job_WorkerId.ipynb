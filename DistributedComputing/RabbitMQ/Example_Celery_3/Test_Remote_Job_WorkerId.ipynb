{
 "cells": [
  {
   "cell_type": "code",
   "execution_count": 1,
   "metadata": {},
   "outputs": [],
   "source": [
    "#!pip install celery"
   ]
  },
  {
   "cell_type": "code",
   "execution_count": 2,
   "metadata": {},
   "outputs": [
    {
     "name": "stdout",
     "output_type": "stream",
     "text": [
      "Creating user \"myguest\" ...\n",
      "Error: user_already_exists: myguest\n",
      "Setting permissions for user \"myguest\" in vhost \"/\" ...\n"
     ]
    }
   ],
   "source": [
    "!sudo rabbitmqctl add_user myguest myguestpwd\n",
    "!sudo rabbitmqctl set_permissions -p / myguest \".\" \".\" \".*\""
   ]
  },
  {
   "cell_type": "code",
   "execution_count": 3,
   "metadata": {},
   "outputs": [
    {
     "name": "stdout",
     "output_type": "stream",
     "text": [
      "Listing users ...\n",
      "guest\t[administrator]\n",
      "myguest\t[]\n"
     ]
    }
   ],
   "source": [
    "!sudo rabbitmqctl list_users"
   ]
  },
  {
   "cell_type": "markdown",
   "metadata": {},
   "source": [
    "This code will **run on a server machine**. It will ask worker machines to complete some tasks and send the results back to the server."
   ]
  },
  {
   "cell_type": "markdown",
   "metadata": {},
   "source": [
    "In the same folder with this code there is a whoamI.py file \n",
    "You will need to run that code on the **worker** machines:\n",
    "\n",
    "**\"celery -A whoamI worker --loglevel=info --concurrency=3\" on worker machine 1** <br>\n",
    "**\"celery -A whoamI worker --loglevel=info --concurrency=2\" on worker machine 2**\n",
    "\n",
    "(The server machine can also be your worker machine, you will just need to run these in a terminal as new processes)\n",
    "\n",
    "Then those processes/machines will become workers, and will be able to run the app task, i.e. in this case the echo function, whenever the broker requests it.\n",
    "\n",
    "The echo function will be run by these commands on the workers:\n",
    "\n",
    "from test import echo\n",
    "res = echo.delay('Python rocks!'); print(type(res)); print(res)\n",
    "res.result"
   ]
  },
  {
   "cell_type": "code",
   "execution_count": 4,
   "metadata": {},
   "outputs": [],
   "source": [
    "from whoamI import echo"
   ]
  },
  {
   "cell_type": "markdown",
   "metadata": {},
   "source": [
    "**Check the available worker machines** <br>\n",
    "In the \"!celery -A test status\" command we use \"test\" because \"test.py\" runs on the workers"
   ]
  },
  {
   "cell_type": "code",
   "execution_count": 5,
   "metadata": {},
   "outputs": [
    {
     "name": "stdout",
     "output_type": "stream",
     "text": [
      "\u001b[0m\u001b[1;36mcelery@ip-172-31-31-181: \u001b[0m\u001b[1;32mOK\u001b[0m\u001b[0m\n",
      "\u001b[0m\u001b[1;36mcelery@ip-172-31-28-61: \u001b[0m\u001b[1;32mOK\u001b[0m\u001b[0m\n",
      "\n",
      "2 nodes online.\n"
     ]
    }
   ],
   "source": [
    "!celery -A whoamI status"
   ]
  },
  {
   "cell_type": "markdown",
   "metadata": {},
   "source": [
    "**Now let us run a series of jobs asynchronously on the workers. Observe the round-robin job allocation**"
   ]
  },
  {
   "cell_type": "code",
   "execution_count": 7,
   "metadata": {},
   "outputs": [],
   "source": [
    "res =[]\n",
    "for iter in range(1,30):\n",
    "    res.append(echo.delay('hello ' + str(iter)))"
   ]
  },
  {
   "cell_type": "markdown",
   "metadata": {},
   "source": [
    "**Let us wait for the results with \".get()\", and print them out**"
   ]
  },
  {
   "cell_type": "code",
   "execution_count": 8,
   "metadata": {},
   "outputs": [
    {
     "name": "stdout",
     "output_type": "stream",
     "text": [
      "Response from worker: 172.31.31.181 process_name: ForkPoolWorker-2 process_index: 1 os_pid: 16119 message: hello 1 **\n",
      "Response from worker: 172.31.28.61 process_name: ForkPoolWorker-2 process_index: 1 os_pid: 4652 message: hello 2 **\n",
      "Response from worker: 172.31.31.181 process_name: ForkPoolWorker-1 process_index: 0 os_pid: 16114 message: hello 3 **\n",
      "Response from worker: 172.31.28.61 process_name: ForkPoolWorker-1 process_index: 0 os_pid: 4650 message: hello 4 **\n",
      "Response from worker: 172.31.31.181 process_name: ForkPoolWorker-2 process_index: 1 os_pid: 16119 message: hello 5 **\n",
      "Response from worker: 172.31.28.61 process_name: ForkPoolWorker-3 process_index: 2 os_pid: 4653 message: hello 6 **\n",
      "Response from worker: 172.31.31.181 process_name: ForkPoolWorker-1 process_index: 0 os_pid: 16114 message: hello 7 **\n",
      "Response from worker: 172.31.28.61 process_name: ForkPoolWorker-1 process_index: 0 os_pid: 4650 message: hello 8 **\n",
      "Response from worker: 172.31.31.181 process_name: ForkPoolWorker-1 process_index: 0 os_pid: 16114 message: hello 9 **\n",
      "Response from worker: 172.31.28.61 process_name: ForkPoolWorker-2 process_index: 1 os_pid: 4652 message: hello 10 **\n",
      "Response from worker: 172.31.31.181 process_name: ForkPoolWorker-2 process_index: 1 os_pid: 16119 message: hello 11 **\n",
      "Response from worker: 172.31.28.61 process_name: ForkPoolWorker-1 process_index: 0 os_pid: 4650 message: hello 12 **\n",
      "Response from worker: 172.31.31.181 process_name: ForkPoolWorker-2 process_index: 1 os_pid: 16119 message: hello 13 **\n",
      "Response from worker: 172.31.28.61 process_name: ForkPoolWorker-3 process_index: 2 os_pid: 4653 message: hello 14 **\n",
      "Response from worker: 172.31.31.181 process_name: ForkPoolWorker-1 process_index: 0 os_pid: 16114 message: hello 15 **\n",
      "Response from worker: 172.31.28.61 process_name: ForkPoolWorker-1 process_index: 0 os_pid: 4650 message: hello 16 **\n",
      "Response from worker: 172.31.31.181 process_name: ForkPoolWorker-2 process_index: 1 os_pid: 16119 message: hello 17 **\n",
      "Response from worker: 172.31.28.61 process_name: ForkPoolWorker-2 process_index: 1 os_pid: 4652 message: hello 18 **\n",
      "Response from worker: 172.31.31.181 process_name: ForkPoolWorker-1 process_index: 0 os_pid: 16114 message: hello 19 **\n",
      "Response from worker: 172.31.28.61 process_name: ForkPoolWorker-1 process_index: 0 os_pid: 4650 message: hello 20 **\n",
      "Response from worker: 172.31.28.61 process_name: ForkPoolWorker-2 process_index: 1 os_pid: 4652 message: hello 21 **\n",
      "Response from worker: 172.31.28.61 process_name: ForkPoolWorker-1 process_index: 0 os_pid: 4650 message: hello 22 **\n",
      "Response from worker: 172.31.28.61 process_name: ForkPoolWorker-3 process_index: 2 os_pid: 4653 message: hello 23 **\n",
      "Response from worker: 172.31.28.61 process_name: ForkPoolWorker-1 process_index: 0 os_pid: 4650 message: hello 24 **\n",
      "Response from worker: 172.31.28.61 process_name: ForkPoolWorker-1 process_index: 0 os_pid: 4650 message: hello 25 **\n",
      "Response from worker: 172.31.28.61 process_name: ForkPoolWorker-2 process_index: 1 os_pid: 4652 message: hello 26 **\n",
      "Response from worker: 172.31.28.61 process_name: ForkPoolWorker-2 process_index: 1 os_pid: 4652 message: hello 27 **\n",
      "Response from worker: 172.31.28.61 process_name: ForkPoolWorker-3 process_index: 2 os_pid: 4653 message: hello 28 **\n",
      "Response from worker: 172.31.31.181 process_name: ForkPoolWorker-2 process_index: 1 os_pid: 16119 message: hello 29 **\n"
     ]
    }
   ],
   "source": [
    "for iter in range(len(res)):\n",
    "    print(res[iter].get()) #let us wait for the results and print them out"
   ]
  },
  {
   "cell_type": "markdown",
   "metadata": {},
   "source": [
    "**Let us run the echo function on the server instead of the workers:**"
   ]
  },
  {
   "cell_type": "code",
   "execution_count": 9,
   "metadata": {},
   "outputs": [
    {
     "name": "stdout",
     "output_type": "stream",
     "text": [
      "172.31.28.61 process_name: MainProcess process_index: _none_ os_pid: 5672 message: running on the server **\n"
     ]
    }
   ],
   "source": [
    "res=echo('running on the server')"
   ]
  },
  {
   "cell_type": "code",
   "execution_count": null,
   "metadata": {},
   "outputs": [],
   "source": []
  }
 ],
 "metadata": {
  "kernelspec": {
   "display_name": "Environment (conda_python3)",
   "language": "python",
   "name": "conda_python3"
  },
  "language_info": {
   "codemirror_mode": {
    "name": "ipython",
    "version": 3
   },
   "file_extension": ".py",
   "mimetype": "text/x-python",
   "name": "python",
   "nbconvert_exporter": "python",
   "pygments_lexer": "ipython3",
   "version": "3.6.5"
  }
 },
 "nbformat": 4,
 "nbformat_minor": 2
}
