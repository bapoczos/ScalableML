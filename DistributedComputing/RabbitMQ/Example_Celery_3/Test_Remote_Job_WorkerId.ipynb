{
 "cells": [
  {
   "cell_type": "code",
   "execution_count": 1,
   "metadata": {},
   "outputs": [],
   "source": [
    "#!pip install celery"
   ]
  },
  {
   "cell_type": "code",
   "execution_count": 2,
   "metadata": {},
   "outputs": [],
   "source": [
    "#!sudo rabbitmqctl add_user myguest myguestpwd\n",
    "#!sudo rabbitmqctl set_permissions -p / myguest \".\" \".\" \".*\""
   ]
  },
  {
   "cell_type": "code",
   "execution_count": 3,
   "metadata": {},
   "outputs": [
    {
     "name": "stdout",
     "output_type": "stream",
     "text": [
      "Listing users ...\r\n",
      "guest\t[administrator]\r\n",
      "myguest\t[]\r\n"
     ]
    }
   ],
   "source": [
    "!sudo rabbitmqctl list_users"
   ]
  },
  {
   "cell_type": "markdown",
   "metadata": {},
   "source": [
    "This code will **run on a server machine**. It will ask worker machines to complete some tasks and send the results back to the server."
   ]
  },
  {
   "cell_type": "markdown",
   "metadata": {},
   "source": [
    "In the same folder with this code there is a test.py file \n",
    "You will need to run that code on a **worker** machines e.g. with <br>\n",
    "\n",
    "**\"celery -A test worker --loglevel=info --concurrency=3\" on worker machine 1**\n",
    "**\"celery -A test worker --loglevel=info --concurrency=2\" on worker machine 2**\n",
    "\n",
    "Then those machines will become workers, and will be able to run the app task, i.e. in this case the echo function, whenever the broker requests it.\n",
    "\n",
    "The echo function will be run by these commands on the remote (=worker) machine:\n",
    "\n",
    "from test import echo\n",
    "res = echo.delay('Python rocks!'); print(type(res)); print(res)\n",
    "res.result"
   ]
  },
  {
   "cell_type": "code",
   "execution_count": 4,
   "metadata": {},
   "outputs": [],
   "source": [
    "from test import echo"
   ]
  },
  {
   "cell_type": "markdown",
   "metadata": {},
   "source": [
    "Before you run the next cell, you might need to <br>\n",
    "\"pip install celery\" on the worker machine and then run <br>\n",
    "\"celery -A test worker --loglevel=info\" on the worker machine.\n",
    "\n",
    "Otherwise the result of 'res1.ready()' in the cell below will be False forever"
   ]
  },
  {
   "cell_type": "markdown",
   "metadata": {},
   "source": [
    "**Check the available worker machines** <br>\n",
    "In the \"!celery -A test status\" command we use \"test\" because \"test.py\" runs on the workers"
   ]
  },
  {
   "cell_type": "code",
   "execution_count": 14,
   "metadata": {},
   "outputs": [
    {
     "name": "stdout",
     "output_type": "stream",
     "text": [
      "\u001b[0m\u001b[1;36mcelery@ip-172-31-3-168: \u001b[0m\u001b[1;32mOK\u001b[0m\u001b[0m\n",
      "\u001b[0m\u001b[1;36mcelery@ip-172-31-3-202: \u001b[0m\u001b[1;32mOK\u001b[0m\u001b[0m\n",
      "\n",
      "2 nodes online.\n"
     ]
    }
   ],
   "source": [
    "!celery -A test status"
   ]
  },
  {
   "cell_type": "code",
   "execution_count": 5,
   "metadata": {},
   "outputs": [
    {
     "name": "stdout",
     "output_type": "stream",
     "text": [
      "<class 'celery.result.AsyncResult'>\n",
      "ad3f33f5-1da9-4b94-9a4c-fd493253f33e\n"
     ]
    }
   ],
   "source": [
    "# We will run the echo function on the worker machine.\n",
    "# The fun.delay(arg) function sends the arg message to the worker's fun function and run it on the worker machine.\n",
    "# For more info, see https://docs.celeryproject.org/en/latest/userguide/calling.html\n",
    "    \n",
    "# This code will send 'Python rocks 1 :) !' to the worker machine, and put its response into res1\n",
    "res1 = echo.delay('Python rocks 1 :) !'); print(type(res1)); print(res1)"
   ]
  },
  {
   "cell_type": "code",
   "execution_count": 6,
   "metadata": {},
   "outputs": [
    {
     "data": {
      "text/plain": [
       "False"
      ]
     },
     "execution_count": 6,
     "metadata": {},
     "output_type": "execute_result"
    }
   ],
   "source": [
    "res1.ready()"
   ]
  },
  {
   "cell_type": "code",
   "execution_count": 7,
   "metadata": {},
   "outputs": [],
   "source": [
    "res1.result"
   ]
  },
  {
   "cell_type": "markdown",
   "metadata": {},
   "source": [
    "**Now let us run a series of jobs asynchronously on the workers. Observe the round-robin job allocation**"
   ]
  },
  {
   "cell_type": "code",
   "execution_count": 8,
   "metadata": {},
   "outputs": [],
   "source": [
    "res =[]\n",
    "for iter in range(1,30):\n",
    "    res.append(echo.delay('hello ' + str(iter)))"
   ]
  },
  {
   "cell_type": "markdown",
   "metadata": {},
   "source": [
    "**Let us wait for the results with \".get()\", and print them out**"
   ]
  },
  {
   "cell_type": "code",
   "execution_count": 9,
   "metadata": {},
   "outputs": [
    {
     "name": "stdout",
     "output_type": "stream",
     "text": [
      "Response from worker: 172.31.3.168 process_name: ForkPoolWorker-2 process_index: 1 os_pid: 24674 message: hello 1 **\n",
      "Response from worker: 172.31.3.202 process_name: ForkPoolWorker-2 process_index: 1 os_pid: 1556 message: hello 2 **\n",
      "Response from worker: 172.31.3.168 process_name: ForkPoolWorker-3 process_index: 2 os_pid: 24675 message: hello 3 **\n",
      "Response from worker: 172.31.3.202 process_name: ForkPoolWorker-1 process_index: 0 os_pid: 1555 message: hello 4 **\n",
      "Response from worker: 172.31.3.168 process_name: ForkPoolWorker-1 process_index: 0 os_pid: 24671 message: hello 5 **\n",
      "Response from worker: 172.31.3.202 process_name: ForkPoolWorker-1 process_index: 0 os_pid: 1555 message: hello 6 **\n",
      "Response from worker: 172.31.3.168 process_name: ForkPoolWorker-2 process_index: 1 os_pid: 24674 message: hello 7 **\n",
      "Response from worker: 172.31.3.202 process_name: ForkPoolWorker-1 process_index: 0 os_pid: 1555 message: hello 8 **\n",
      "Response from worker: 172.31.3.168 process_name: ForkPoolWorker-1 process_index: 0 os_pid: 24671 message: hello 9 **\n",
      "Response from worker: 172.31.3.202 process_name: ForkPoolWorker-1 process_index: 0 os_pid: 1555 message: hello 10 **\n",
      "Response from worker: 172.31.3.168 process_name: ForkPoolWorker-3 process_index: 2 os_pid: 24675 message: hello 11 **\n",
      "Response from worker: 172.31.3.202 process_name: ForkPoolWorker-2 process_index: 1 os_pid: 1556 message: hello 12 **\n",
      "Response from worker: 172.31.3.168 process_name: ForkPoolWorker-2 process_index: 1 os_pid: 24674 message: hello 13 **\n",
      "Response from worker: 172.31.3.202 process_name: ForkPoolWorker-2 process_index: 1 os_pid: 1556 message: hello 14 **\n",
      "Response from worker: 172.31.3.168 process_name: ForkPoolWorker-1 process_index: 0 os_pid: 24671 message: hello 15 **\n",
      "Response from worker: 172.31.3.202 process_name: ForkPoolWorker-1 process_index: 0 os_pid: 1555 message: hello 16 **\n",
      "Response from worker: 172.31.3.168 process_name: ForkPoolWorker-2 process_index: 1 os_pid: 24674 message: hello 17 **\n",
      "Response from worker: 172.31.3.202 process_name: ForkPoolWorker-2 process_index: 1 os_pid: 1556 message: hello 18 **\n",
      "Response from worker: 172.31.3.168 process_name: ForkPoolWorker-3 process_index: 2 os_pid: 24675 message: hello 19 **\n",
      "Response from worker: 172.31.3.202 process_name: ForkPoolWorker-1 process_index: 0 os_pid: 1555 message: hello 20 **\n",
      "Response from worker: 172.31.3.168 process_name: ForkPoolWorker-2 process_index: 1 os_pid: 24674 message: hello 21 **\n",
      "Response from worker: 172.31.3.168 process_name: ForkPoolWorker-1 process_index: 0 os_pid: 24671 message: hello 22 **\n",
      "Response from worker: 172.31.3.168 process_name: ForkPoolWorker-2 process_index: 1 os_pid: 24674 message: hello 23 **\n",
      "Response from worker: 172.31.3.168 process_name: ForkPoolWorker-3 process_index: 2 os_pid: 24675 message: hello 24 **\n",
      "Response from worker: 172.31.3.168 process_name: ForkPoolWorker-1 process_index: 0 os_pid: 24671 message: hello 25 **\n",
      "Response from worker: 172.31.3.168 process_name: ForkPoolWorker-2 process_index: 1 os_pid: 24674 message: hello 26 **\n",
      "Response from worker: 172.31.3.168 process_name: ForkPoolWorker-3 process_index: 2 os_pid: 24675 message: hello 27 **\n",
      "Response from worker: 172.31.3.202 process_name: ForkPoolWorker-2 process_index: 1 os_pid: 1556 message: hello 28 **\n",
      "Response from worker: 172.31.3.168 process_name: ForkPoolWorker-3 process_index: 2 os_pid: 24675 message: hello 29 **\n"
     ]
    }
   ],
   "source": [
    "for iter in range(len(res)):\n",
    "    print(res[iter].get()) #let us wait for the results and print them out"
   ]
  },
  {
   "cell_type": "markdown",
   "metadata": {},
   "source": [
    "**Let us run the echo function on the server instead of the workers:**"
   ]
  },
  {
   "cell_type": "code",
   "execution_count": 10,
   "metadata": {},
   "outputs": [
    {
     "name": "stdout",
     "output_type": "stream",
     "text": [
      "172.31.3.168 process_name: MainProcess process_index: _none_ os_pid: 25009 message: running on the server **\n"
     ]
    }
   ],
   "source": [
    "res=echo('running on the server')"
   ]
  },
  {
   "cell_type": "code",
   "execution_count": null,
   "metadata": {},
   "outputs": [],
   "source": []
  }
 ],
 "metadata": {
  "kernelspec": {
   "display_name": "Environment (conda_python3)",
   "language": "python",
   "name": "conda_python3"
  },
  "language_info": {
   "codemirror_mode": {
    "name": "ipython",
    "version": 3
   },
   "file_extension": ".py",
   "mimetype": "text/x-python",
   "name": "python",
   "nbconvert_exporter": "python",
   "pygments_lexer": "ipython3",
   "version": "3.6.5"
  }
 },
 "nbformat": 4,
 "nbformat_minor": 2
}
