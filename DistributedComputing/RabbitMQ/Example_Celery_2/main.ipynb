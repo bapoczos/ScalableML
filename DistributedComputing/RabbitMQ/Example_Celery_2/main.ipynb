{
 "cells": [
  {
   "cell_type": "code",
   "execution_count": 1,
   "metadata": {},
   "outputs": [],
   "source": [
    "#!pip install celery"
   ]
  },
  {
   "cell_type": "code",
   "execution_count": 2,
   "metadata": {},
   "outputs": [],
   "source": [
    "#!sudo rabbitmqctl add_user myguest myguestpwd\n",
    "#!sudo rabbitmqctl set_permissions -p / myguest \".\" \".\" \".*\""
   ]
  },
  {
   "cell_type": "code",
   "execution_count": 3,
   "metadata": {},
   "outputs": [
    {
     "name": "stdout",
     "output_type": "stream",
     "text": [
      "Listing users ...\r\n",
      "guest\t[administrator]\r\n",
      "myguest\t[]\r\n"
     ]
    }
   ],
   "source": [
    "!sudo rabbitmqctl list_users"
   ]
  },
  {
   "cell_type": "markdown",
   "metadata": {},
   "source": [
    "This code will run on the **server** machine. It will **ask its worker machines** to complete some sortings task and send the results back to the server."
   ]
  },
  {
   "cell_type": "code",
   "execution_count": 4,
   "metadata": {},
   "outputs": [],
   "source": [
    "import random\n",
    "import time\n",
    "from celery import group\n",
    "from mergesort import sort, merge\n"
   ]
  },
  {
   "cell_type": "code",
   "execution_count": 5,
   "metadata": {},
   "outputs": [],
   "source": [
    "# Create a list of 1,000,000 elements in random order.\n",
    "sequence = list(range(1000000))\n",
    "random.shuffle(sequence)\n"
   ]
  },
  {
   "cell_type": "code",
   "execution_count": 6,
   "metadata": {},
   "outputs": [],
   "source": [
    "# Split the sequence in a number of chunks and process those independently.\n",
    "n = 4\n",
    "l = len(sequence) // n\n",
    "subseqs = [sequence[i * l:(i + 1) * l] for i in range(n - 1)]\n",
    "subseqs.append(sequence[(n - 1) * l:])"
   ]
  },
  {
   "cell_type": "code",
   "execution_count": 7,
   "metadata": {},
   "outputs": [
    {
     "data": {
      "text/plain": [
       "4"
      ]
     },
     "execution_count": 7,
     "metadata": {},
     "output_type": "execute_result"
    }
   ],
   "source": [
    "len(subseqs)"
   ]
  },
  {
   "cell_type": "code",
   "execution_count": 8,
   "metadata": {},
   "outputs": [
    {
     "name": "stdout",
     "output_type": "stream",
     "text": [
      "Lentght of sequence 0: 250000\n",
      "Lentght of sequence 1: 250000\n",
      "Lentght of sequence 2: 250000\n",
      "Lentght of sequence 3: 250000\n"
     ]
    }
   ],
   "source": [
    "for i in range(len(subseqs)):\n",
    "    print('Lentght of sequence {}: {}'.format(i,len(subseqs[i])))"
   ]
  },
  {
   "cell_type": "markdown",
   "metadata": {},
   "source": [
    "Before you run the next cell, you will need to run th code on a worker machine with\n",
    "\n",
    "**\"celery -A mergesort worker --loglevel=info\". **\n",
    "\n",
    "Then that machine will become a worker, and will be able to run the app task, i.e. the sort function, whenever the broker requests it.\n",
    "\n"
   ]
  },
  {
   "cell_type": "code",
   "execution_count": 9,
   "metadata": {},
   "outputs": [
    {
     "name": "stdout",
     "output_type": "stream",
     "text": [
      "Tasks sent to workers in 1.14s\n",
      "Results from all the workers came back in 11.98s\n",
      "Distributed mergesort took 12.58s\n"
     ]
    }
   ],
   "source": [
    "\n",
    "t0 = time.time()\n",
    "\n",
    "# Ask the Celery workers to sort each sub-sequence.\n",
    "# Use a group to run the individual independent tasks as a unit of work.\n",
    "\n",
    "# celery.group creates a group of tasks to be executed in parallel.\n",
    "# 'sort.s' is the signature of the sort function. This indicates that we want to call this function on the worker machines\n",
    "\n",
    "lazy_partials = group(sort.s(seq) for seq in subseqs)() # call remote workers to run the sort task parallel \n",
    "t1 = time.time()-t0\n",
    "\n",
    "# We will with till we get back the results from all of them\n",
    "partials = lazy_partials.get() # will wait for the tasks to return\n",
    "t2 = time.time()-t0\n",
    "# Merge all the individual sorted sub-lists into our final result.\n",
    "result = partials[0]\n",
    "for partial in partials[1:]:\n",
    "    result = merge(result, partial) # local merge the results back from the workers\n",
    "\n",
    "t3 = time.time() - t0\n",
    "\n",
    "print('Tasks sent to workers in %.02fs' % (t1))\n",
    "print('Results from all the workers came back in %.02fs' % (t2))\n",
    "print('Distributed mergesort took %.02fs' % (t3))\n",
    "\n"
   ]
  },
  {
   "cell_type": "code",
   "execution_count": 10,
   "metadata": {},
   "outputs": [
    {
     "name": "stdout",
     "output_type": "stream",
     "text": [
      "Local mergesort took 22.74s\n"
     ]
    }
   ],
   "source": [
    "# Do the same thing locally and compare the times.\n",
    "t0 = time.time()\n",
    "\n",
    "# Here we will call the 'sort' function witohut its signature 'sort.s' to indicate we want to run this remotely.\n",
    "truth = sort(sequence)\n",
    "dt = time.time() - t0\n",
    "print('Local mergesort took %.02fs' % (dt))\n",
    "\n"
   ]
  },
  {
   "cell_type": "markdown",
   "metadata": {},
   "source": [
    "**In this case local sort took longer time then parralel sort using the workers!**"
   ]
  },
  {
   "cell_type": "code",
   "execution_count": 11,
   "metadata": {},
   "outputs": [],
   "source": [
    "# Final sanity checks.\n",
    "assert result == truth\n",
    "assert result == sorted(sequence)\n",
    "\n",
    "# Yayyy sorting was successful"
   ]
  },
  {
   "cell_type": "markdown",
   "metadata": {},
   "source": [
    "**Let us see some more tests**"
   ]
  },
  {
   "cell_type": "code",
   "execution_count": 12,
   "metadata": {},
   "outputs": [
    {
     "name": "stdout",
     "output_type": "stream",
     "text": [
      "4\n",
      "53f40593-3c0c-4ce3-8fa9-44069e70bf7c\n",
      "1fee9843-c3c4-416b-b0e2-d38653a7257e\n",
      "a6b1b1dd-6f0b-4c3f-a136-ab83a39d2268\n",
      "ae7b78cc-4794-4da9-9627-898d06eb6902\n"
     ]
    }
   ],
   "source": [
    "#the below line just send the tasks to the workers and ask them to run the tasks parallel\n",
    "lazy_partials = group(sort.s(seq) for seq in subseqs)() # call remote workers to run the sort task parallel \n",
    "\n",
    "print(len(lazy_partials))\n",
    "for i in lazy_partials: \n",
    "    print(i)\n",
    "\n",
    "# We get the results back in a lazy way. The results have not been calculated yet!   "
   ]
  },
  {
   "cell_type": "code",
   "execution_count": 13,
   "metadata": {},
   "outputs": [
    {
     "name": "stdout",
     "output_type": "stream",
     "text": [
      "4\n",
      "length of chunk 0: 250000\n",
      "length of chunk 1: 250000\n",
      "length of chunk 2: 250000\n",
      "length of chunk 3: 250000\n"
     ]
    }
   ],
   "source": [
    "# We need to call the .get() function to get the final results from all the workers:\n",
    "partials = lazy_partials.get()    \n",
    "print(len(partials))\n",
    "for i in range(len(partials)): \n",
    "    print('length of chunk {}: {}'.format(i, len(partials[i])))"
   ]
  },
  {
   "cell_type": "markdown",
   "metadata": {},
   "source": [
    "**Let us check the running time again!**"
   ]
  },
  {
   "cell_type": "code",
   "execution_count": 14,
   "metadata": {},
   "outputs": [
    {
     "name": "stdout",
     "output_type": "stream",
     "text": [
      " took 1.00s\n"
     ]
    }
   ],
   "source": [
    "t0 = time.time()\n",
    "lazy_partials = group(sort.s(seq) for seq in subseqs)() # call remote workers to run the sort task \n",
    "dt = time.time() - t0\n",
    "print(' took %.02fs' % (dt))\n"
   ]
  },
  {
   "cell_type": "markdown",
   "metadata": {},
   "source": [
    "It took this much time to communicate with the workes, but the results are not calculated yet.\n",
    "In the background calculation continues..."
   ]
  },
  {
   "cell_type": "code",
   "execution_count": 15,
   "metadata": {},
   "outputs": [
    {
     "name": "stdout",
     "output_type": "stream",
     "text": [
      "took 10.27s\n"
     ]
    }
   ],
   "source": [
    "t0 = time.time()\n",
    "partials = lazy_partials.get() # will wait for the tasks to return\n",
    "dt = time.time() - t0\n",
    "print('took %.02fs' % (dt))\n"
   ]
  },
  {
   "cell_type": "markdown",
   "metadata": {},
   "source": [
    "We needed this much more time to get all the calculated results from the workers"
   ]
  },
  {
   "cell_type": "code",
   "execution_count": null,
   "metadata": {},
   "outputs": [],
   "source": []
  }
 ],
 "metadata": {
  "kernelspec": {
   "display_name": "Environment (conda_python3)",
   "language": "python",
   "name": "conda_python3"
  },
  "language_info": {
   "codemirror_mode": {
    "name": "ipython",
    "version": 3
   },
   "file_extension": ".py",
   "mimetype": "text/x-python",
   "name": "python",
   "nbconvert_exporter": "python",
   "pygments_lexer": "ipython3",
   "version": "3.6.5"
  }
 },
 "nbformat": 4,
 "nbformat_minor": 2
}
