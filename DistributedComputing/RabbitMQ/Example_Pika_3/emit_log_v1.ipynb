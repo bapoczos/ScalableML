{
 "cells": [
  {
   "cell_type": "markdown",
   "metadata": {},
   "source": [
    "In the previous tutorial we created a work queue. The assumption behind a work queue is that each task is delivered to exactly one worker. In this part we'll do something completely different -- we'll deliver a message to multiple consumers.  \n",
    "\n",
    "To illustrate the pattern, we're going to build a simple logging system. It will consist of two programs -- the first will emit log messages and the second will receive and print them.\n",
    "\n",
    "Essentially, published log messages are going to be broadcast to all the receivers."
   ]
  },
  {
   "cell_type": "markdown",
   "metadata": {},
   "source": [
    "### Exchanges\n",
    "In previous parts of the tutorial we sent and received messages to and from a queue. Now it's time to introduce the full messaging model in Rabbit.\n",
    "\n",
    "Let's quickly go over what we covered in the previous tutorials:\n",
    "\n",
    "A producer is a user application that sends messages.\n",
    "A queue is a buffer that stores messages.\n",
    "A consumer is a user application that receives messages.\n",
    "The core idea in the messaging model in RabbitMQ is that the producer never sends any messages directly to a queue. Actually, quite often the producer doesn't even know if a message will be delivered to any queue at all.\n",
    "\n",
    "Instead, the producer can only send messages to an exchange. An exchange is a very simple thing. On one side it receives messages from producers and the other side it pushes them to queues. The exchange must know exactly what to do with a message it receives. Should it be appended to a particular queue? Should it be appended to many queues? Or should it get discarded. The rules for that are defined by the exchange type."
   ]
  },
  {
   "cell_type": "markdown",
   "metadata": {},
   "source": [
    "There are a few exchange types available: direct, topic, headers and fanout. We'll focus on the last one -- the fanout. Let's create an exchange of that type, and call it logs:\n",
    "\n",
    "channel.exchange_declare(exchange='logs',exchange_type='fanout')\n",
    "\n",
    "The fanout exchange is very simple. As you can probably guess from the name, it just broadcasts all the messages it receives to all the queues it knows. And that's exactly what we need for our logger."
   ]
  },
  {
   "cell_type": "markdown",
   "metadata": {},
   "source": [
    "### Listing exchanges\n",
    "To list the exchanges on the server you can run the ever useful rabbitmqctl:\n",
    "\n",
    "sudo rabbitmqctl list_exchanges\n",
    "\n",
    "In this list there will be some amq.* exchanges and the default (unnamed) exchange. These are created by default, but it is unlikely you'll need to use them at the moment.\n",
    "\n",
    "#### The default exchange\n",
    "In previous parts of the tutorial we knew nothing about exchanges, but still were able to send messages to queues. That was possible because we were using a default exchange, which we identify by the empty string (\"\").\n",
    "\n",
    "Recall how we published a message before:\n",
    "\n",
    "channel.basic_publish(exchange='',\n",
    "                      routing_key='hello',\n",
    "                      body=message)\n",
    "                      \n",
    "The exchange parameter is the name of the exchange. The empty string denotes the default or nameless exchange: messages are routed to the queue with the name specified by routing_key, if it exists."
   ]
  },
  {
   "cell_type": "markdown",
   "metadata": {},
   "source": [
    "### Temporary queues\n",
    "\n",
    "As you may remember previously we were using queues that had specific names (remember hello and task_queue?). Being able to name a queue was crucial for us -- we needed to point the workers to the same queue. Giving a queue a name is important when you want to share the queue between producers and consumers.\n",
    "\n",
    "But that's not the case for our logger. We want to hear about all log messages, not just a subset of them. We're also interested only in currently flowing messages not in the old ones. To solve that we need two things.\n",
    "\n",
    "Firstly, whenever we connect to Rabbit we need a fresh, empty queue. To do it we could create a queue with a random name, or, even better - let the server choose a random queue name for us. We can do this by not supplying the queue parameter to queue_declare:\n",
    "\n",
    "result = channel.queue_declare()\n",
    "At this point result.method.queue contains a random queue name. For example it may look like amq.gen-JzTY20BRgKO-HjmUJj0wLg.\n",
    "\n",
    "Secondly, once the consumer connection is closed, the queue should be deleted. There's an exclusive flag for that:\n",
    "\n",
    "result = channel.queue_declare(exclusive=True)"
   ]
  },
  {
   "cell_type": "markdown",
   "metadata": {},
   "source": [
    "### Bindings\n",
    "\n",
    "We've already created a fanout exchange and a queue. Now we need to tell the exchange to send messages to our queue. That relationship between exchange and a queue is called a binding.\n",
    "\n",
    "channel.queue_bind(exchange='logs',\n",
    "                   queue=result.method.queue)\n",
    "From now on the logs exchange will append messages to our queue.\n",
    "\n",
    "#### Listing bindings\n",
    "You can list existing bindings using, you guessed it,\n",
    "\n",
    "sudo rabbitmqctl list_bindings"
   ]
  },
  {
   "cell_type": "markdown",
   "metadata": {},
   "source": [
    "**Before running the next cell, run the to receivers first: receive_logs_1, receive_logs_2**"
   ]
  },
  {
   "cell_type": "code",
   "execution_count": 4,
   "metadata": {},
   "outputs": [
    {
     "data": {
      "text/plain": [
       "'1.1.0'"
      ]
     },
     "execution_count": 4,
     "metadata": {},
     "output_type": "execute_result"
    }
   ],
   "source": [
    "import pika\n",
    "import sys\n",
    "pika.__version__"
   ]
  },
  {
   "cell_type": "code",
   "execution_count": 5,
   "metadata": {},
   "outputs": [],
   "source": [
    "#!sudo service rabbitmq-server restart\n",
    "#!sudo rabbitmqctl status"
   ]
  },
  {
   "cell_type": "code",
   "execution_count": 6,
   "metadata": {},
   "outputs": [
    {
     "name": "stdout",
     "output_type": "stream",
     "text": [
      "Listing users ...\r\n",
      "guest\t[administrator]\r\n",
      "myguest\t[]\r\n"
     ]
    }
   ],
   "source": [
    "!sudo rabbitmqctl list_users"
   ]
  },
  {
   "cell_type": "code",
   "execution_count": 7,
   "metadata": {},
   "outputs": [
    {
     "name": "stdout",
     "output_type": "stream",
     "text": [
      "Listing bindings ...\r\n",
      "\texchange\tamq.gen-oueTZmRTr3lFeNnR4dEr3A\tqueue\tamq.gen-oueTZmRTr3lFeNnR4dEr3A\t[]\r\n",
      "\texchange\tamq.gen-somBXTFBWwemrcgsEjFLdQ\tqueue\tamq.gen-somBXTFBWwemrcgsEjFLdQ\t[]\r\n",
      "\texchange\thello2\tqueue\thello2\t[]\r\n",
      "logs\texchange\tamq.gen-oueTZmRTr3lFeNnR4dEr3A\tqueue\tamq.gen-oueTZmRTr3lFeNnR4dEr3A\t[]\r\n",
      "logs\texchange\tamq.gen-somBXTFBWwemrcgsEjFLdQ\tqueue\tamq.gen-somBXTFBWwemrcgsEjFLdQ\t[]\r\n"
     ]
    }
   ],
   "source": [
    "!sudo rabbitmqctl list_bindings"
   ]
  },
  {
   "cell_type": "code",
   "execution_count": 8,
   "metadata": {},
   "outputs": [],
   "source": [
    "credentials = pika.PlainCredentials('myguest', 'myguestpwd')\n",
    "    \n",
    "#URL='localhost'\n",
    "URL='PROD-JOB-844fd7d2202ac4da.elb.us-east-2.amazonaws.com'\n",
    "parameters =  pika.ConnectionParameters(URL, port=5672, credentials=credentials)\n",
    "\n",
    "iter=0\n",
    "exchangeName = 'logs'"
   ]
  },
  {
   "cell_type": "code",
   "execution_count": 9,
   "metadata": {},
   "outputs": [],
   "source": [
    "iter=iter+1\n",
    "connection = pika.BlockingConnection(parameters)\n",
    "channel = connection.channel()\n",
    "\n",
    "channel.exchange_declare(exchange=exchangeName, exchange_type='fanout')\n",
    "#channel.queue_declare(queue='task_queue', durable=True)\n",
    "\n",
    "#send message #for fanout type exchange, routing key/queue is useless\n",
    "properties = pika.spec.BasicProperties(content_type = \"text/plain\", delivery_mode = 1)\n",
    "message = \"MessageToEveryOne: \"+str(iter)\n",
    "\n",
    "channel.basic_publish(exchange = exchangeName, routing_key = \"\", body = message, properties = properties)\n",
    "\n",
    "#disconnect\n",
    "connection.close()"
   ]
  },
  {
   "cell_type": "markdown",
   "metadata": {},
   "source": [
    "**After this, we should see that all workers received the same message**"
   ]
  },
  {
   "cell_type": "code",
   "execution_count": 10,
   "metadata": {},
   "outputs": [
    {
     "name": "stdout",
     "output_type": "stream",
     "text": [
      "Listing bindings ...\r\n",
      "\texchange\tamq.gen-oueTZmRTr3lFeNnR4dEr3A\tqueue\tamq.gen-oueTZmRTr3lFeNnR4dEr3A\t[]\r\n",
      "\texchange\tamq.gen-somBXTFBWwemrcgsEjFLdQ\tqueue\tamq.gen-somBXTFBWwemrcgsEjFLdQ\t[]\r\n",
      "\texchange\thello2\tqueue\thello2\t[]\r\n",
      "logs\texchange\tamq.gen-oueTZmRTr3lFeNnR4dEr3A\tqueue\tamq.gen-oueTZmRTr3lFeNnR4dEr3A\t[]\r\n",
      "logs\texchange\tamq.gen-somBXTFBWwemrcgsEjFLdQ\tqueue\tamq.gen-somBXTFBWwemrcgsEjFLdQ\t[]\r\n"
     ]
    }
   ],
   "source": [
    "!sudo rabbitmqctl list_bindings"
   ]
  },
  {
   "cell_type": "code",
   "execution_count": 11,
   "metadata": {},
   "outputs": [
    {
     "name": "stdout",
     "output_type": "stream",
     "text": [
      "Listing exchanges ...\r\n",
      "\tdirect\r\n",
      "amq.direct\tdirect\r\n",
      "amq.fanout\tfanout\r\n",
      "amq.headers\theaders\r\n",
      "amq.match\theaders\r\n",
      "amq.rabbitmq.log\ttopic\r\n",
      "amq.rabbitmq.trace\ttopic\r\n",
      "amq.topic\ttopic\r\n",
      "logs\tfanout\r\n"
     ]
    }
   ],
   "source": [
    "!sudo rabbitmqctl list_exchanges"
   ]
  },
  {
   "cell_type": "markdown",
   "metadata": {},
   "source": [
    "**Let us try once more**"
   ]
  },
  {
   "cell_type": "code",
   "execution_count": 12,
   "metadata": {},
   "outputs": [],
   "source": [
    "iter=iter+1\n",
    "connection = pika.BlockingConnection(parameters)\n",
    "channel = connection.channel()\n",
    "\n",
    "channel.exchange_declare(exchange=exchangeName, exchange_type='fanout')\n",
    "#channel.queue_declare(queue='task_queue', durable=True)\n",
    "\n",
    "#send message #for fanout type exchange, routing key/queue is useless\n",
    "properties = pika.spec.BasicProperties(content_type = \"text/plain\", delivery_mode = 1)\n",
    "message = \"MessageToEveryOne: \"+str(iter)\n",
    "\n",
    "channel.basic_publish(exchange = exchangeName, routing_key = \"\", body = message, properties = properties)\n",
    "\n",
    "#disconnect\n",
    "connection.close()"
   ]
  },
  {
   "cell_type": "markdown",
   "metadata": {},
   "source": [
    "**After this cell, all workers should have received the second message too**"
   ]
  },
  {
   "cell_type": "code",
   "execution_count": null,
   "metadata": {},
   "outputs": [],
   "source": []
  }
 ],
 "metadata": {
  "kernelspec": {
   "display_name": "Environment (conda_python3)",
   "language": "python",
   "name": "conda_python3"
  },
  "language_info": {
   "codemirror_mode": {
    "name": "ipython",
    "version": 3
   },
   "file_extension": ".py",
   "mimetype": "text/x-python",
   "name": "python",
   "nbconvert_exporter": "python",
   "pygments_lexer": "ipython3",
   "version": "3.6.5"
  }
 },
 "nbformat": 4,
 "nbformat_minor": 2
}
