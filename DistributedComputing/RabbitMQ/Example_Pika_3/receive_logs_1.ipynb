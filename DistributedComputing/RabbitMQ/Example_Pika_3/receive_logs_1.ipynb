{
 "cells": [
  {
   "cell_type": "code",
   "execution_count": 1,
   "metadata": {},
   "outputs": [
    {
     "data": {
      "text/plain": [
       "'1.1.0'"
      ]
     },
     "execution_count": 1,
     "metadata": {},
     "output_type": "execute_result"
    }
   ],
   "source": [
    "import pika\n",
    "pika.__version__"
   ]
  },
  {
   "cell_type": "code",
   "execution_count": 2,
   "metadata": {},
   "outputs": [
    {
     "data": {
      "text/plain": [
       "<METHOD(['channel_number=1', 'frame_type=1', 'method=<Exchange.DeclareOk>'])>"
      ]
     },
     "execution_count": 2,
     "metadata": {},
     "output_type": "execute_result"
    }
   ],
   "source": [
    "credentials = pika.PlainCredentials('myguest', 'myguestpwd')\n",
    "exchangeName = 'logs'\n",
    "#URL='localhost'\n",
    "URL='PROD-JOB-844fd7d2202ac4da.elb.us-east-2.amazonaws.com'\n",
    "parameters =  pika.ConnectionParameters(URL, port=5672, credentials=credentials)\n",
    "connection = pika.BlockingConnection(parameters)\n",
    "channel = connection.channel()\n",
    "\n",
    "channel.exchange_declare(exchange=exchangeName, exchange_type='fanout')\n",
    "#channel.exchange_declare(exchange = exchangeName, exchange_type = \"fanout\", auto_delete = True)"
   ]
  },
  {
   "cell_type": "code",
   "execution_count": 3,
   "metadata": {},
   "outputs": [],
   "source": [
    "def callback(ch, method, properties, body):\n",
    "    print(\" [x] %r\" % body)"
   ]
  },
  {
   "cell_type": "code",
   "execution_count": 4,
   "metadata": {},
   "outputs": [
    {
     "name": "stdout",
     "output_type": "stream",
     "text": [
      "amq.gen-somBXTFBWwemrcgsEjFLdQ\n"
     ]
    },
    {
     "data": {
      "text/plain": [
       "<METHOD(['channel_number=1', 'frame_type=1', 'method=<Queue.BindOk>'])>"
      ]
     },
     "execution_count": 4,
     "metadata": {},
     "output_type": "execute_result"
    }
   ],
   "source": [
    "#declare exchange and queue, bind them and consume messages\n",
    "#for fanout type exchange, routing key is useless\n",
    " \n",
    "\n",
    "#result=channel.queue_declare(queue = queueName, exclusive = True, auto_delete = True)\n",
    "result = channel.queue_declare('', exclusive=True)\n",
    "queueName = result.method.queue\n",
    "print(queueName)\n",
    "\n",
    "channel.queue_bind(exchange = exchangeName, queue = queueName, routing_key = None)"
   ]
  },
  {
   "cell_type": "code",
   "execution_count": null,
   "metadata": {},
   "outputs": [
    {
     "name": "stdout",
     "output_type": "stream",
     "text": [
      " [*] Waiting for logs. To exit press CTRL+C\n",
      " [x] b'MessageToEveryOne: 1'\n",
      " [x] b'MessageToEveryOne: 2'\n"
     ]
    }
   ],
   "source": [
    "print(' [*] Waiting for logs. To exit press CTRL+C')\n",
    "\n",
    "channel.basic_consume(queue=queueName, on_message_callback=callback, auto_ack=True)\n",
    "\n",
    "channel.start_consuming()"
   ]
  },
  {
   "cell_type": "code",
   "execution_count": null,
   "metadata": {},
   "outputs": [],
   "source": [
    "!sudo rabbitmqctl list_bindings"
   ]
  }
 ],
 "metadata": {
  "kernelspec": {
   "display_name": "Environment (conda_python3)",
   "language": "python",
   "name": "conda_python3"
  },
  "language_info": {
   "codemirror_mode": {
    "name": "ipython",
    "version": 3
   },
   "file_extension": ".py",
   "mimetype": "text/x-python",
   "name": "python",
   "nbconvert_exporter": "python",
   "pygments_lexer": "ipython3",
   "version": "3.6.5"
  }
 },
 "nbformat": 4,
 "nbformat_minor": 2
}
