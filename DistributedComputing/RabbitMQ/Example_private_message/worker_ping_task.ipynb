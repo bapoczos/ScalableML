{
 "cells": [
  {
   "cell_type": "code",
   "execution_count": null,
   "metadata": {},
   "outputs": [],
   "source": [
    "#!pip install --upgrade pika"
   ]
  },
  {
   "cell_type": "code",
   "execution_count": null,
   "metadata": {},
   "outputs": [],
   "source": [
    "from billiard import current_process\n",
    "import time\n",
    "import math\n",
    "import socket\n",
    "import numpy as np\n",
    "import os\n",
    "import random\n",
    "import json\n",
    "from utils import NumpyEncoder"
   ]
  },
  {
   "cell_type": "code",
   "execution_count": null,
   "metadata": {},
   "outputs": [],
   "source": [
    "import pika\n",
    "pika.__version__"
   ]
  },
  {
   "cell_type": "code",
   "execution_count": 4,
   "metadata": {},
   "outputs": [],
   "source": [
    "#!sudo rabbitmqctl add_user myguest myguestpwd\n",
    "#!sudo rabbitmqctl set_permissions -p / myguest \".\" \".\" \".*\""
   ]
  },
  {
   "cell_type": "code",
   "execution_count": 5,
   "metadata": {},
   "outputs": [
    {
     "name": "stdout",
     "output_type": "stream",
     "text": [
      "Listing users ...\r\n",
      "guest\t[administrator]\r\n",
      "myguest\t[]\r\n"
     ]
    }
   ],
   "source": [
    "!sudo rabbitmqctl list_users"
   ]
  },
  {
   "cell_type": "code",
   "execution_count": 6,
   "metadata": {},
   "outputs": [
    {
     "name": "stdout",
     "output_type": "stream",
     "text": [
      "Listing bindings ...\r\n"
     ]
    }
   ],
   "source": [
    "!sudo rabbitmqctl list_bindings"
   ]
  },
  {
   "cell_type": "code",
   "execution_count": 7,
   "metadata": {},
   "outputs": [
    {
     "name": "stdout",
     "output_type": "stream",
     "text": [
      "Listing exchanges ...\r\n",
      "\tdirect\r\n",
      "amq.direct\tdirect\r\n",
      "amq.fanout\tfanout\r\n",
      "amq.headers\theaders\r\n",
      "amq.match\theaders\r\n",
      "amq.rabbitmq.log\ttopic\r\n",
      "amq.rabbitmq.trace\ttopic\r\n",
      "amq.topic\ttopic\r\n",
      "direct_pings\tdirect\r\n"
     ]
    }
   ],
   "source": [
    "!sudo rabbitmqctl list_exchanges"
   ]
  },
  {
   "cell_type": "code",
   "execution_count": 8,
   "metadata": {},
   "outputs": [
    {
     "name": "stdout",
     "output_type": "stream",
     "text": [
      "Listing bindings ...\r\n"
     ]
    }
   ],
   "source": [
    "!sudo rabbitmqctl list_bindings"
   ]
  },
  {
   "cell_type": "code",
   "execution_count": 9,
   "metadata": {},
   "outputs": [],
   "source": [
    "credentials = pika.PlainCredentials('myguest', 'myguestpwd')\n",
    "#URL='localhost'\n",
    "URL='PROD-JOB-844fd7d2202ac4da.elb.us-east-2.amazonaws.com'\n",
    "\n",
    "parameters =  pika.ConnectionParameters(URL, port=5672, credentials=credentials)\n",
    "connection = pika.BlockingConnection(parameters)\n",
    "channel = connection.channel()\n",
    "exchangeName = 'direct_pings'"
   ]
  },
  {
   "cell_type": "code",
   "execution_count": 10,
   "metadata": {},
   "outputs": [],
   "source": [
    "def create_routing_name():\n",
    "    \n",
    "    #process_name=current_process()._name\n",
    "    #print('process name: ', process_name)\n",
    "    \n",
    "    #try:\n",
    "    #    process_index=str(current_process().index)\n",
    "    #except:\n",
    "    #    process_index='_none_'\n",
    "    \n",
    "    #print('process index: ', process_index)\n",
    "    \n",
    "    tmpip= socket.gethostbyname(socket.gethostname())\n",
    "    print('ip: ', tmpip)\n",
    "    print(' os_pid: ',str(os.getpid()))\n",
    "    \n",
    "    results='routing_'+tmpip+'_'+str(os.getpid())\n",
    "    \n",
    "    return results"
   ]
  },
  {
   "cell_type": "code",
   "execution_count": 11,
   "metadata": {},
   "outputs": [],
   "source": [
    "def fib(n):\n",
    "    if n == 0:\n",
    "        return 0\n",
    "    elif n == 1:\n",
    "        return 1\n",
    "    else:\n",
    "        return fib(n - 1) + fib(n - 2)    "
   ]
  },
  {
   "cell_type": "code",
   "execution_count": 12,
   "metadata": {},
   "outputs": [],
   "source": [
    "def on_request(ch, method, props, body):\n",
    "    global exchangeName\n",
    "    global queue_name\n",
    "    \n",
    "    msg = str(body.decode('ascii')) # body is the message from server to the worker. \n",
    "    task=json.loads(msg)['task']\n",
    "    print(\" I just received message:\", msg)\n",
    "    \n",
    "    print('ch:', ch)\n",
    "    print('method:', method)\n",
    "    print('props:', props)\n",
    "    \n",
    "    print('props.reply_to:', props.reply_to)\n",
    "    print('props.correlation_id:', props.correlation_id)\n",
    "    \n",
    "    if task=='Ping!':\n",
    "        result = create_routing_name() # Results, Fib(n), calculated\n",
    "        ch.queue_bind(exchange=exchangeName, queue=queue_name,routing_key=result)\n",
    "        json_dump = json.dumps({'task': 'Ping!','result':result}, cls=NumpyEncoder)\n",
    "    elif task =='Fib':\n",
    "        n=int(json.loads(msg)['num'])\n",
    "        result = str(fib(n))\n",
    "        json_dump = json.dumps({'task': 'Fib','result':result}, cls=NumpyEncoder) \n",
    "    else:\n",
    "        raise Exception('Invalid task!')\n",
    "        \n",
    "    # We need to send back the results to the client\n",
    "    ch.basic_publish(exchange='', # Default exchange\n",
    "                     routing_key=props.reply_to, # This is the routing key to the queue that we use for sending the answer\n",
    "                     #use the same correlation_id so the client knows that this is a reply to what message\n",
    "                     properties=pika.BasicProperties(correlation_id = props.correlation_id), \n",
    "                     body=json_dump)\n",
    "    #ch.basic_ack(delivery_tag=method.delivery_tag)\n",
    "    \n",
    "    print(\" Calculations done. Results sent back to the server\")\n",
    "    print(\" *** \")\n"
   ]
  },
  {
   "cell_type": "code",
   "execution_count": 13,
   "metadata": {},
   "outputs": [
    {
     "data": {
      "text/plain": [
       "<METHOD(['channel_number=1', 'frame_type=1', 'method=<Queue.BindOk>'])>"
      ]
     },
     "execution_count": 13,
     "metadata": {},
     "output_type": "execute_result"
    }
   ],
   "source": [
    "channel.exchange_declare(exchange=exchangeName, exchange_type='direct')\n",
    "\n",
    "result = channel.queue_declare(queue='', exclusive=True)\n",
    "queue_name = result.method.queue\n",
    "\n",
    "channel.queue_bind(exchange=exchangeName, queue=queue_name,routing_key='ping_queue')\n",
    "\n",
    "#channel.basic_qos(prefetch_count=1)\n"
   ]
  },
  {
   "cell_type": "code",
   "execution_count": 14,
   "metadata": {},
   "outputs": [
    {
     "data": {
      "text/plain": [
       "'ctag1.d2e5ac621b794f58893295ac57bb73bb'"
      ]
     },
     "execution_count": 14,
     "metadata": {},
     "output_type": "execute_result"
    }
   ],
   "source": [
    "#When the worker receives a message it will tun the \"on_request\" call back function\n",
    "channel.basic_consume(queue=queue_name, on_message_callback=on_request, auto_ack=True)  "
   ]
  },
  {
   "cell_type": "code",
   "execution_count": null,
   "metadata": {},
   "outputs": [
    {
     "name": "stdout",
     "output_type": "stream",
     "text": [
      " [x] Awaiting requests\n",
      " I just received message: {\"task\": \"Ping!\"}\n",
      "ch: <BlockingChannel impl=<Channel number=1 OPEN conn=<SelectConnection OPEN transport=<pika.adapters.utils.io_services_utils._AsyncPlaintextTransport object at 0x7f0c0387e978> params=<ConnectionParameters host=PROD-JOB-844fd7d2202ac4da.elb.us-east-2.amazonaws.com port=5672 virtual_host=/ ssl=False>>>>\n",
      "method: <Basic.Deliver(['consumer_tag=ctag1.d2e5ac621b794f58893295ac57bb73bb', 'delivery_tag=1', 'exchange=direct_pings', 'redelivered=False', 'routing_key=ping_queue'])>\n",
      "props: <BasicProperties(['content_type=text/plain', 'correlation_id=9d6accb0-057c-49ea-a0e9-90c0ec2ac554', 'delivery_mode=1', 'reply_to=amq.gen-5hNzVPzjk0HHuj9TCfVvHw'])>\n",
      "props.reply_to: amq.gen-5hNzVPzjk0HHuj9TCfVvHw\n",
      "props.correlation_id: 9d6accb0-057c-49ea-a0e9-90c0ec2ac554\n",
      "ip:  172.31.14.37\n",
      " os_pid:  11770\n",
      " Calculations done. Results sent back to the server\n",
      " *** \n",
      " I just received message: {\"task\": \"Ping!\"}\n",
      "ch: <BlockingChannel impl=<Channel number=1 OPEN conn=<SelectConnection OPEN transport=<pika.adapters.utils.io_services_utils._AsyncPlaintextTransport object at 0x7f0c0387e978> params=<ConnectionParameters host=PROD-JOB-844fd7d2202ac4da.elb.us-east-2.amazonaws.com port=5672 virtual_host=/ ssl=False>>>>\n",
      "method: <Basic.Deliver(['consumer_tag=ctag1.d2e5ac621b794f58893295ac57bb73bb', 'delivery_tag=2', 'exchange=direct_pings', 'redelivered=False', 'routing_key=ping_queue'])>\n",
      "props: <BasicProperties(['content_type=text/plain', 'correlation_id=d9638c91-5348-4108-8810-0d6b44a033ce', 'delivery_mode=1', 'reply_to=amq.gen-5hNzVPzjk0HHuj9TCfVvHw'])>\n",
      "props.reply_to: amq.gen-5hNzVPzjk0HHuj9TCfVvHw\n",
      "props.correlation_id: d9638c91-5348-4108-8810-0d6b44a033ce\n",
      "ip:  172.31.14.37\n",
      " os_pid:  11770\n",
      " Calculations done. Results sent back to the server\n",
      " *** \n",
      " I just received message: {\"task\": \"Fib\", \"num\": 14}\n",
      "ch: <BlockingChannel impl=<Channel number=1 OPEN conn=<SelectConnection OPEN transport=<pika.adapters.utils.io_services_utils._AsyncPlaintextTransport object at 0x7f0c0387e978> params=<ConnectionParameters host=PROD-JOB-844fd7d2202ac4da.elb.us-east-2.amazonaws.com port=5672 virtual_host=/ ssl=False>>>>\n",
      "method: <Basic.Deliver(['consumer_tag=ctag1.d2e5ac621b794f58893295ac57bb73bb', 'delivery_tag=3', 'exchange=direct_pings', 'redelivered=False', 'routing_key=routing_172.31.14.37_11770'])>\n",
      "props: <BasicProperties(['content_type=text/plain', 'correlation_id=d57cdcaf-2201-42be-8829-f8b811f5e50a', 'delivery_mode=1', 'reply_to=amq.gen-5hNzVPzjk0HHuj9TCfVvHw'])>\n",
      "props.reply_to: amq.gen-5hNzVPzjk0HHuj9TCfVvHw\n",
      "props.correlation_id: d57cdcaf-2201-42be-8829-f8b811f5e50a\n",
      " Calculations done. Results sent back to the server\n",
      " *** \n"
     ]
    }
   ],
   "source": [
    "print(\" [x] Awaiting requests\")\n",
    "channel.start_consuming()"
   ]
  },
  {
   "cell_type": "code",
   "execution_count": null,
   "metadata": {},
   "outputs": [],
   "source": []
  }
 ],
 "metadata": {
  "kernelspec": {
   "display_name": "Environment (conda_python3)",
   "language": "python",
   "name": "conda_python3"
  },
  "language_info": {
   "codemirror_mode": {
    "name": "ipython",
    "version": 3
   },
   "file_extension": ".py",
   "mimetype": "text/x-python",
   "name": "python",
   "nbconvert_exporter": "python",
   "pygments_lexer": "ipython3",
   "version": "3.6.5"
  }
 },
 "nbformat": 4,
 "nbformat_minor": 2
}
