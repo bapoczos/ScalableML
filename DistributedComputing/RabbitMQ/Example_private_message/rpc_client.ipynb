{
 "cells": [
  {
   "cell_type": "code",
   "execution_count": 1,
   "metadata": {},
   "outputs": [],
   "source": [
    "import pika\n",
    "import uuid"
   ]
  },
  {
   "cell_type": "code",
   "execution_count": 2,
   "metadata": {},
   "outputs": [],
   "source": [
    "credentials = pika.PlainCredentials('myguest', 'myguestpwd')\n",
    "#URL='localhost'\n",
    "URL='PROD-JOB-844fd7d2202ac4da.elb.us-east-2.amazonaws.com'\n",
    "parameters =  pika.ConnectionParameters(URL, port=5672, credentials=credentials)\n",
    "exchangeName = 'direct_pings'"
   ]
  },
  {
   "cell_type": "code",
   "execution_count": 3,
   "metadata": {},
   "outputs": [
    {
     "name": "stdout",
     "output_type": "stream",
     "text": [
      "Listing exchanges ...\r\n",
      "\tdirect\r\n",
      "amq.direct\tdirect\r\n",
      "amq.fanout\tfanout\r\n",
      "amq.headers\theaders\r\n",
      "amq.match\theaders\r\n",
      "amq.rabbitmq.log\ttopic\r\n",
      "amq.rabbitmq.trace\ttopic\r\n",
      "amq.topic\ttopic\r\n",
      "direct_pings\tdirect\r\n"
     ]
    }
   ],
   "source": [
    "!sudo rabbitmqctl list_exchanges"
   ]
  },
  {
   "cell_type": "code",
   "execution_count": 4,
   "metadata": {},
   "outputs": [
    {
     "name": "stdout",
     "output_type": "stream",
     "text": [
      "Listing bindings ...\r\n",
      "\texchange\tamq.gen-KgXlN-n7LIPky1SpfrrRoQ\tqueue\tamq.gen-KgXlN-n7LIPky1SpfrrRoQ\t[]\r\n",
      "direct_pings\texchange\tamq.gen-KgXlN-n7LIPky1SpfrrRoQ\tqueue\tping_queue\t[]\r\n"
     ]
    }
   ],
   "source": [
    "!sudo rabbitmqctl list_bindings"
   ]
  },
  {
   "cell_type": "markdown",
   "metadata": {},
   "source": [
    "Below we will create a connection, channel, and queue"
   ]
  },
  {
   "cell_type": "markdown",
   "metadata": {},
   "source": [
    "**queue_declare(queue, passive=False, durable=False, exclusive=False, auto_delete=False, arguments=None, callback=None)**<br>\n",
    "<br>\n",
    "Declare queue, create if needed. This method creates or checks a queue. When creating a new queue the client can specify various properties that control the durability of the queue and its contents, and the level of sharing for the queue."
   ]
  },
  {
   "cell_type": "markdown",
   "metadata": {},
   "source": [
    "**basic_consume(queue, on_message_callback, auto_ack=False, exclusive=False, consumer_tag=None, arguments=None, callback=None)**\n",
    "\n",
    "Sends the AMQP 0-9-1 command Basic.Consume to the broker and binds messages for the consumer_tag to the consumer callback. If you do not pass in a consumer_tag, one will be automatically generated for you. Returns the consumer tag.\n",
    "\n",
    "**queue (str)** – The queue to consume from. Use the empty string to specify the most recent server-named queue for this channel\n",
    "\n",
    "**on_message_callback**: (callable) –\n",
    "The function to call when consuming with the **signature on_message_callback(channel, method, properties, body)**, where\n",
    "\n",
    "* **channel**: pika.Channel \n",
    "\n",
    "* **method**: pika.spec.Basic.Deliver \n",
    "\n",
    "* **properties**: pika.spec.BasicProperties \n",
    "\n",
    "* **body**: bytes\n"
   ]
  },
  {
   "cell_type": "markdown",
   "metadata": {},
   "source": [
    "### Message properties\n",
    "\n",
    "The AMQP 0-9-1 protocol predefines a set of 14 properties that go with a message. Most of the properties are rarely used, with the exception of the following:\n",
    "\n",
    "* delivery_mode: Marks a message as persistent (with a value of 2) or transient (any other value). \n",
    "* content_type: Used to describe the mime-type of the encoding. For example for the often used JSON encoding it is a good practice to set this property to: application/json.\n",
    "* reply_to: Commonly used to name a callback queue.\n",
    "* correlation_id: Useful to correlate RPC responses with requests.\n",
    "\n",
    "**See https://www.rabbitmq.com/tutorials/tutorial-six-python.html for details**"
   ]
  },
  {
   "cell_type": "code",
   "execution_count": 5,
   "metadata": {},
   "outputs": [],
   "source": [
    "class TalkToWorkersClient(object):\n",
    "\n",
    "    def __init__(self):\n",
    "        #self.connection = pika.BlockingConnection(pika.ConnectionParameters(host='localhost'))\n",
    "\n",
    "        self.connection = pika.BlockingConnection(parameters)\n",
    "        self.channel = self.connection.channel()\n",
    "        self.channel.exchange_declare(exchange=exchangeName, exchange_type='direct')\n",
    "        \n",
    "        self.ping_responses=[]\n",
    "        \n",
    "        myqueue = self.channel.queue_declare('', exclusive=True)\n",
    "        print(\"myqueue:\", myqueue)\n",
    "        \n",
    "        self.callback_queue = myqueue.method.queue #The queue we just created\n",
    "\n",
    "        print(\"myqueue.method:\", myqueue.method)\n",
    "        \n",
    "        # Let us start waiting for messages (The results of our call). \n",
    "        #When we recevie a message, we will the on_response call back function\n",
    "        self.channel.basic_consume(\n",
    "            queue=self.callback_queue, #the queue we created above\n",
    "            on_message_callback=self.on_response, #The callback function to run when we receive a message from the workers\n",
    "            auto_ack=True)\n",
    "        \n",
    "\n",
    "    def on_response(self, ch, method, props, body):\n",
    "        if self.corr_id == props.correlation_id: #Check if our correlation id is the same as we get in the message\n",
    "            self.response = body\n",
    "            self.ping_responses.append(body)\n",
    "            print(self.response)\n",
    "\n",
    "    def send_task2worker(self, worker_routing):\n",
    "        self.response = None\n",
    "        self.corr_id = str(uuid.uuid4()) # This is where we create our unique correlation id\n",
    "        print('corr_id:', self.corr_id)\n",
    "        \n",
    "        # Now we are ready to send our message to the workers\n",
    "        self.channel.basic_publish(\n",
    "            exchange=exchangeName,\n",
    "            routing_key='rpc_queue',\n",
    "            properties=pika.BasicProperties(\n",
    "                reply_to=self.callback_queue,\n",
    "                correlation_id=self.corr_id,\n",
    "                delivery_mode =1,\n",
    "                content_type =\"text/plain\"\n",
    "            ),\n",
    "            body=str(n))\n",
    "        \n",
    "        #Waiting for the results\n",
    "        while self.response is None:\n",
    "            self.connection.process_data_events()\n",
    "        return self.response\n",
    "        \n",
    "    def ping_workers(self):\n",
    "        self.response = None\n",
    "        self.corr_id = str(uuid.uuid4()) # This is where we create our unique correlation id\n",
    "        print('corr_id:', self.corr_id)\n",
    "        \n",
    "        # Now we are ready to send our message to the workers\n",
    "        self.channel.basic_publish(\n",
    "            exchange=exchangeName,\n",
    "            routing_key='ping_queue',\n",
    "            properties=pika.BasicProperties(\n",
    "                reply_to=self.callback_queue,\n",
    "                correlation_id=self.corr_id,\n",
    "                delivery_mode =1,\n",
    "                content_type =\"text/plain\"\n",
    "            ),\n",
    "            body='Ping!')\n",
    "        \n",
    "        #Waiting for the results\n",
    "        while self.response is None:\n",
    "            self.connection.process_data_events()\n",
    "        return self.response\n",
    "    "
   ]
  },
  {
   "cell_type": "code",
   "execution_count": 6,
   "metadata": {},
   "outputs": [
    {
     "name": "stdout",
     "output_type": "stream",
     "text": [
      "myqueue: <METHOD(['channel_number=1', 'frame_type=1', \"method=<Queue.DeclareOk(['consumer_count=0', 'message_count=0', 'queue=amq.gen-G4z2TFQiKK1GC-RX92H1Lg'])>\"])>\n",
      "myqueue.method: <Queue.DeclareOk(['consumer_count=0', 'message_count=0', 'queue=amq.gen-G4z2TFQiKK1GC-RX92H1Lg'])>\n"
     ]
    }
   ],
   "source": [
    "#This will create one channel and queue. All communications will be done on that queue using different correlation ids. \n",
    "talkToWorkersClient_instance = TalkToWorkersClient()"
   ]
  },
  {
   "cell_type": "code",
   "execution_count": 7,
   "metadata": {},
   "outputs": [
    {
     "name": "stdout",
     "output_type": "stream",
     "text": [
      "corr_id: 727b42d5-0083-4a71-ac7e-b08b4c20ade7\n",
      "b'routing_172.31.14.37_10936'\n",
      " [.] Got b'routing_172.31.14.37_10936'\n"
     ]
    }
   ],
   "source": [
    "response = talkToWorkersClient_instance.ping_workers()\n",
    "print(response)"
   ]
  },
  {
   "cell_type": "code",
   "execution_count": 9,
   "metadata": {},
   "outputs": [
    {
     "name": "stdout",
     "output_type": "stream",
     "text": [
      "Listing bindings ...\r\n",
      "\texchange\tamq.gen-G4z2TFQiKK1GC-RX92H1Lg\tqueue\tamq.gen-G4z2TFQiKK1GC-RX92H1Lg\t[]\r\n",
      "\texchange\tamq.gen-KgXlN-n7LIPky1SpfrrRoQ\tqueue\tamq.gen-KgXlN-n7LIPky1SpfrrRoQ\t[]\r\n",
      "direct_pings\texchange\tamq.gen-KgXlN-n7LIPky1SpfrrRoQ\tqueue\tping_queue\t[]\r\n",
      "direct_pings\texchange\tamq.gen-KgXlN-n7LIPky1SpfrrRoQ\tqueue\trouting_172.31.14.37_10936\t[]\r\n"
     ]
    }
   ],
   "source": [
    "!sudo rabbitmqctl list_bindings"
   ]
  },
  {
   "cell_type": "code",
   "execution_count": 10,
   "metadata": {},
   "outputs": [
    {
     "data": {
      "text/plain": [
       "[b'routing_172.31.14.37_10936']"
      ]
     },
     "execution_count": 10,
     "metadata": {},
     "output_type": "execute_result"
    }
   ],
   "source": [
    "talkToWorkersClient_instance.ping_responses"
   ]
  },
  {
   "cell_type": "code",
   "execution_count": 12,
   "metadata": {},
   "outputs": [
    {
     "name": "stdout",
     "output_type": "stream",
     "text": [
      "corr_id: 2bfccbe1-523b-42dc-af35-76111fdebe6c\n"
     ]
    },
    {
     "ename": "StreamLostError",
     "evalue": "Stream connection lost: ConnectionResetError(104, 'Connection reset by peer')",
     "output_type": "error",
     "traceback": [
      "\u001b[0;31m---------------------------------------------------------------------------\u001b[0m",
      "\u001b[0;31mStreamLostError\u001b[0m                           Traceback (most recent call last)",
      "\u001b[0;32m<ipython-input-12-f931c3a83a50>\u001b[0m in \u001b[0;36m<module>\u001b[0;34m()\u001b[0m\n\u001b[0;32m----> 1\u001b[0;31m \u001b[0mresponse\u001b[0m \u001b[0;34m=\u001b[0m \u001b[0mtalkToWorkersClient_instance\u001b[0m\u001b[0;34m.\u001b[0m\u001b[0mping_workers\u001b[0m\u001b[0;34m(\u001b[0m\u001b[0;34m)\u001b[0m\u001b[0;34m\u001b[0m\u001b[0m\n\u001b[0m",
      "\u001b[0;32m<ipython-input-5-19b11f5d939d>\u001b[0m in \u001b[0;36mping_workers\u001b[0;34m(self)\u001b[0m\n\u001b[1;32m     68\u001b[0m                 \u001b[0mcontent_type\u001b[0m \u001b[0;34m=\u001b[0m\u001b[0;34m\"text/plain\"\u001b[0m\u001b[0;34m\u001b[0m\u001b[0m\n\u001b[1;32m     69\u001b[0m             ),\n\u001b[0;32m---> 70\u001b[0;31m             body='Ping!')\n\u001b[0m\u001b[1;32m     71\u001b[0m \u001b[0;34m\u001b[0m\u001b[0m\n\u001b[1;32m     72\u001b[0m         \u001b[0;31m#Waiting for the results\u001b[0m\u001b[0;34m\u001b[0m\u001b[0;34m\u001b[0m\u001b[0m\n",
      "\u001b[0;32m~/anaconda3/envs/python3/lib/python3.6/site-packages/pika/adapters/blocking_connection.py\u001b[0m in \u001b[0;36mbasic_publish\u001b[0;34m(self, exchange, routing_key, body, properties, mandatory)\u001b[0m\n\u001b[1;32m   2246\u001b[0m                 \u001b[0mproperties\u001b[0m\u001b[0;34m=\u001b[0m\u001b[0mproperties\u001b[0m\u001b[0;34m,\u001b[0m\u001b[0;34m\u001b[0m\u001b[0m\n\u001b[1;32m   2247\u001b[0m                 mandatory=mandatory)\n\u001b[0;32m-> 2248\u001b[0;31m             \u001b[0mself\u001b[0m\u001b[0;34m.\u001b[0m\u001b[0m_flush_output\u001b[0m\u001b[0;34m(\u001b[0m\u001b[0;34m)\u001b[0m\u001b[0;34m\u001b[0m\u001b[0m\n\u001b[0m\u001b[1;32m   2249\u001b[0m \u001b[0;34m\u001b[0m\u001b[0m\n\u001b[1;32m   2250\u001b[0m     \u001b[0;32mdef\u001b[0m \u001b[0mbasic_qos\u001b[0m\u001b[0;34m(\u001b[0m\u001b[0mself\u001b[0m\u001b[0;34m,\u001b[0m \u001b[0mprefetch_size\u001b[0m\u001b[0;34m=\u001b[0m\u001b[0;36m0\u001b[0m\u001b[0;34m,\u001b[0m \u001b[0mprefetch_count\u001b[0m\u001b[0;34m=\u001b[0m\u001b[0;36m0\u001b[0m\u001b[0;34m,\u001b[0m \u001b[0mglobal_qos\u001b[0m\u001b[0;34m=\u001b[0m\u001b[0;32mFalse\u001b[0m\u001b[0;34m)\u001b[0m\u001b[0;34m:\u001b[0m\u001b[0;34m\u001b[0m\u001b[0m\n",
      "\u001b[0;32m~/anaconda3/envs/python3/lib/python3.6/site-packages/pika/adapters/blocking_connection.py\u001b[0m in \u001b[0;36m_flush_output\u001b[0;34m(self, *waiters)\u001b[0m\n\u001b[1;32m   1334\u001b[0m             \u001b[0mwaiters\u001b[0m \u001b[0;34m=\u001b[0m \u001b[0mself\u001b[0m\u001b[0;34m.\u001b[0m\u001b[0m_ALWAYS_READY_WAITERS\u001b[0m\u001b[0;34m\u001b[0m\u001b[0m\n\u001b[1;32m   1335\u001b[0m \u001b[0;34m\u001b[0m\u001b[0m\n\u001b[0;32m-> 1336\u001b[0;31m         \u001b[0mself\u001b[0m\u001b[0;34m.\u001b[0m\u001b[0m_connection\u001b[0m\u001b[0;34m.\u001b[0m\u001b[0m_flush_output\u001b[0m\u001b[0;34m(\u001b[0m\u001b[0;32mlambda\u001b[0m\u001b[0;34m:\u001b[0m \u001b[0mself\u001b[0m\u001b[0;34m.\u001b[0m\u001b[0mis_closed\u001b[0m\u001b[0;34m,\u001b[0m \u001b[0;34m*\u001b[0m\u001b[0mwaiters\u001b[0m\u001b[0;34m)\u001b[0m\u001b[0;34m\u001b[0m\u001b[0m\n\u001b[0m\u001b[1;32m   1337\u001b[0m \u001b[0;34m\u001b[0m\u001b[0m\n\u001b[1;32m   1338\u001b[0m         if self.is_closed and isinstance(self._closing_reason,\n",
      "\u001b[0;32m~/anaconda3/envs/python3/lib/python3.6/site-packages/pika/adapters/blocking_connection.py\u001b[0m in \u001b[0;36m_flush_output\u001b[0;34m(self, *waiters)\u001b[0m\n\u001b[1;32m    520\u001b[0m                     LOGGER.error('Unexpected connection close detected: %r',\n\u001b[1;32m    521\u001b[0m                                  self._closed_result.value.error)\n\u001b[0;32m--> 522\u001b[0;31m                     \u001b[0;32mraise\u001b[0m \u001b[0mself\u001b[0m\u001b[0;34m.\u001b[0m\u001b[0m_closed_result\u001b[0m\u001b[0;34m.\u001b[0m\u001b[0mvalue\u001b[0m\u001b[0;34m.\u001b[0m\u001b[0merror\u001b[0m\u001b[0;34m\u001b[0m\u001b[0m\n\u001b[0m\u001b[1;32m    523\u001b[0m                 \u001b[0;32melse\u001b[0m\u001b[0;34m:\u001b[0m\u001b[0;34m\u001b[0m\u001b[0m\n\u001b[1;32m    524\u001b[0m                     LOGGER.info('User-initiated close: result=%r',\n",
      "\u001b[0;31mStreamLostError\u001b[0m: Stream connection lost: ConnectionResetError(104, 'Connection reset by peer')"
     ]
    }
   ],
   "source": [
    "response = talkToWorkersClient_instance.ping_workers()\n",
    "print(response)"
   ]
  },
  {
   "cell_type": "code",
   "execution_count": 13,
   "metadata": {},
   "outputs": [
    {
     "data": {
      "text/plain": [
       "[b'routing_172.31.14.37_10936']"
      ]
     },
     "execution_count": 13,
     "metadata": {},
     "output_type": "execute_result"
    }
   ],
   "source": [
    "talkToWorkersClient_instance.ping_responses"
   ]
  },
  {
   "cell_type": "code",
   "execution_count": null,
   "metadata": {},
   "outputs": [],
   "source": []
  },
  {
   "cell_type": "code",
   "execution_count": null,
   "metadata": {},
   "outputs": [],
   "source": []
  },
  {
   "cell_type": "code",
   "execution_count": null,
   "metadata": {},
   "outputs": [],
   "source": []
  },
  {
   "cell_type": "code",
   "execution_count": 8,
   "metadata": {},
   "outputs": [
    {
     "name": "stdout",
     "output_type": "stream",
     "text": [
      " [x] sending message\n",
      "corr_id: 34aeae03-2d2b-4729-94aa-35f45007410e\n",
      "b\"172.31.14.37 process_name: MainProcess process_index: _none_ os_pid: 5449 time: 1568681518.1953926 message: b'huh'\"\n",
      "b\"172.31.14.37 process_name: MainProcess process_index: _none_ os_pid: 6634 time: 1568681518.1957557 message: b'huh'\"\n",
      " [.] Got b\"172.31.14.37 process_name: MainProcess process_index: _none_ os_pid: 6634 time: 1568681518.1957557 message: b'huh'\"\n"
     ]
    }
   ],
   "source": [
    "print(\" [x] sending message\")\n",
    "response = fibonacci_rpc.call('huh')\n",
    "print(\" [.] Got %r\" % response)"
   ]
  },
  {
   "cell_type": "code",
   "execution_count": 9,
   "metadata": {},
   "outputs": [
    {
     "data": {
      "text/plain": [
       "[b\"172.31.14.37 process_name: MainProcess process_index: _none_ os_pid: 6634 time: 1568681517.4342203 message: b'hi'\",\n",
       " b\"172.31.14.37 process_name: MainProcess process_index: _none_ os_pid: 5449 time: 1568681517.4351234 message: b'hi'\",\n",
       " b\"172.31.14.37 process_name: MainProcess process_index: _none_ os_pid: 5449 time: 1568681518.1953926 message: b'huh'\",\n",
       " b\"172.31.14.37 process_name: MainProcess process_index: _none_ os_pid: 6634 time: 1568681518.1957557 message: b'huh'\"]"
      ]
     },
     "execution_count": 9,
     "metadata": {},
     "output_type": "execute_result"
    }
   ],
   "source": [
    "fibonacci_rpc.ping_responses"
   ]
  },
  {
   "cell_type": "code",
   "execution_count": 10,
   "metadata": {},
   "outputs": [
    {
     "name": "stdout",
     "output_type": "stream",
     "text": [
      " [x] sending message\n",
      "corr_id: e6d91786-bc1a-4190-a555-872ba93ce107\n",
      "b\"172.31.14.37 process_name: MainProcess process_index: _none_ os_pid: 6634 time: 1568681583.291425 message: b'mehh'\"\n",
      "b\"172.31.14.37 process_name: MainProcess process_index: _none_ os_pid: 5449 time: 1568681583.291952 message: b'mehh'\"\n",
      " [.] Got b\"172.31.14.37 process_name: MainProcess process_index: _none_ os_pid: 5449 time: 1568681583.291952 message: b'mehh'\"\n"
     ]
    }
   ],
   "source": [
    "print(\" [x] sending message\")\n",
    "response = fibonacci_rpc.call('mehh')\n",
    "print(\" [.] Got %r\" % response)"
   ]
  },
  {
   "cell_type": "code",
   "execution_count": 19,
   "metadata": {},
   "outputs": [
    {
     "name": "stdout",
     "output_type": "stream",
     "text": [
      "corr_id: bfffb612-b740-4318-8739-8566654ed953\n",
      "b\"172.31.14.37 process_name: MainProcess process_index: _none_ os_pid: 6634 time: 1568681674.904041 message: b'hmm'\"\n",
      "b\"172.31.14.37 process_name: MainProcess process_index: _none_ os_pid: 5449 time: 1568681674.9215417 message: b'hmm'\"\n",
      " [.] Got b\"172.31.14.37 process_name: MainProcess process_index: _none_ os_pid: 5449 time: 1568681674.9215417 message: b'hmm'\"\n"
     ]
    }
   ],
   "source": [
    "response = fibonacci_rpc.call('hmm')\n",
    "print(\" [.] Got %r\" % response)"
   ]
  },
  {
   "cell_type": "code",
   "execution_count": 20,
   "metadata": {},
   "outputs": [
    {
     "data": {
      "text/plain": [
       "[b\"172.31.14.37 process_name: MainProcess process_index: _none_ os_pid: 6634 time: 1568681517.4342203 message: b'hi'\",\n",
       " b\"172.31.14.37 process_name: MainProcess process_index: _none_ os_pid: 5449 time: 1568681517.4351234 message: b'hi'\",\n",
       " b\"172.31.14.37 process_name: MainProcess process_index: _none_ os_pid: 5449 time: 1568681518.1953926 message: b'huh'\",\n",
       " b\"172.31.14.37 process_name: MainProcess process_index: _none_ os_pid: 6634 time: 1568681518.1957557 message: b'huh'\",\n",
       " b\"172.31.14.37 process_name: MainProcess process_index: _none_ os_pid: 6634 time: 1568681583.291425 message: b'mehh'\",\n",
       " b\"172.31.14.37 process_name: MainProcess process_index: _none_ os_pid: 5449 time: 1568681583.291952 message: b'mehh'\",\n",
       " b\"172.31.14.37 process_name: MainProcess process_index: _none_ os_pid: 6634 time: 1568681585.5706172 message: b'lalala'\",\n",
       " b\"172.31.14.37 process_name: MainProcess process_index: _none_ os_pid: 6634 time: 1568681626.9531314 message: b'lalala'\",\n",
       " b\"172.31.14.37 process_name: MainProcess process_index: _none_ os_pid: 5449 time: 1568681641.4059725 message: b'lalala'\",\n",
       " b\"172.31.14.37 process_name: MainProcess process_index: _none_ os_pid: 5449 time: 1568681655.4190814 message: b'lalala'\",\n",
       " b\"172.31.14.37 process_name: MainProcess process_index: _none_ os_pid: 6634 time: 1568681655.419501 message: b'lalala'\",\n",
       " b\"172.31.14.37 process_name: MainProcess process_index: _none_ os_pid: 6634 time: 1568681674.904041 message: b'hmm'\",\n",
       " b\"172.31.14.37 process_name: MainProcess process_index: _none_ os_pid: 5449 time: 1568681674.9215417 message: b'hmm'\"]"
      ]
     },
     "execution_count": 20,
     "metadata": {},
     "output_type": "execute_result"
    }
   ],
   "source": [
    "fibonacci_rpc.ping_responses"
   ]
  },
  {
   "cell_type": "code",
   "execution_count": 21,
   "metadata": {},
   "outputs": [
    {
     "name": "stdout",
     "output_type": "stream",
     "text": [
      "corr_id: 78ed9a32-c64a-4b17-b03a-7c0b6ea3648b\n"
     ]
    },
    {
     "ename": "StreamLostError",
     "evalue": "Stream connection lost: ConnectionResetError(104, 'Connection reset by peer')",
     "output_type": "error",
     "traceback": [
      "\u001b[0;31m---------------------------------------------------------------------------\u001b[0m",
      "\u001b[0;31mStreamLostError\u001b[0m                           Traceback (most recent call last)",
      "\u001b[0;32m<ipython-input-21-59d3621e88d3>\u001b[0m in \u001b[0;36m<module>\u001b[0;34m()\u001b[0m\n\u001b[0;32m----> 1\u001b[0;31m \u001b[0mresponse\u001b[0m \u001b[0;34m=\u001b[0m \u001b[0mfibonacci_rpc\u001b[0m\u001b[0;34m.\u001b[0m\u001b[0mcall\u001b[0m\u001b[0;34m(\u001b[0m\u001b[0;34m'hmm :)'\u001b[0m\u001b[0;34m)\u001b[0m\u001b[0;34m\u001b[0m\u001b[0m\n\u001b[0m\u001b[1;32m      2\u001b[0m \u001b[0mprint\u001b[0m\u001b[0;34m(\u001b[0m\u001b[0;34m\" [.] Got %r\"\u001b[0m \u001b[0;34m%\u001b[0m \u001b[0mresponse\u001b[0m\u001b[0;34m)\u001b[0m\u001b[0;34m\u001b[0m\u001b[0m\n",
      "\u001b[0;32m<ipython-input-5-457f87eddd00>\u001b[0m in \u001b[0;36mcall\u001b[0;34m(self, n)\u001b[0m\n\u001b[1;32m     46\u001b[0m                 \u001b[0mcontent_type\u001b[0m \u001b[0;34m=\u001b[0m\u001b[0;34m\"text/plain\"\u001b[0m\u001b[0;34m\u001b[0m\u001b[0m\n\u001b[1;32m     47\u001b[0m             ),\n\u001b[0;32m---> 48\u001b[0;31m             body=str(n))\n\u001b[0m\u001b[1;32m     49\u001b[0m \u001b[0;34m\u001b[0m\u001b[0m\n\u001b[1;32m     50\u001b[0m         \u001b[0;31m#Waiting for the results\u001b[0m\u001b[0;34m\u001b[0m\u001b[0;34m\u001b[0m\u001b[0m\n",
      "\u001b[0;32m~/anaconda3/envs/python3/lib/python3.6/site-packages/pika/adapters/blocking_connection.py\u001b[0m in \u001b[0;36mbasic_publish\u001b[0;34m(self, exchange, routing_key, body, properties, mandatory)\u001b[0m\n\u001b[1;32m   2246\u001b[0m                 \u001b[0mproperties\u001b[0m\u001b[0;34m=\u001b[0m\u001b[0mproperties\u001b[0m\u001b[0;34m,\u001b[0m\u001b[0;34m\u001b[0m\u001b[0m\n\u001b[1;32m   2247\u001b[0m                 mandatory=mandatory)\n\u001b[0;32m-> 2248\u001b[0;31m             \u001b[0mself\u001b[0m\u001b[0;34m.\u001b[0m\u001b[0m_flush_output\u001b[0m\u001b[0;34m(\u001b[0m\u001b[0;34m)\u001b[0m\u001b[0;34m\u001b[0m\u001b[0m\n\u001b[0m\u001b[1;32m   2249\u001b[0m \u001b[0;34m\u001b[0m\u001b[0m\n\u001b[1;32m   2250\u001b[0m     \u001b[0;32mdef\u001b[0m \u001b[0mbasic_qos\u001b[0m\u001b[0;34m(\u001b[0m\u001b[0mself\u001b[0m\u001b[0;34m,\u001b[0m \u001b[0mprefetch_size\u001b[0m\u001b[0;34m=\u001b[0m\u001b[0;36m0\u001b[0m\u001b[0;34m,\u001b[0m \u001b[0mprefetch_count\u001b[0m\u001b[0;34m=\u001b[0m\u001b[0;36m0\u001b[0m\u001b[0;34m,\u001b[0m \u001b[0mglobal_qos\u001b[0m\u001b[0;34m=\u001b[0m\u001b[0;32mFalse\u001b[0m\u001b[0;34m)\u001b[0m\u001b[0;34m:\u001b[0m\u001b[0;34m\u001b[0m\u001b[0m\n",
      "\u001b[0;32m~/anaconda3/envs/python3/lib/python3.6/site-packages/pika/adapters/blocking_connection.py\u001b[0m in \u001b[0;36m_flush_output\u001b[0;34m(self, *waiters)\u001b[0m\n\u001b[1;32m   1334\u001b[0m             \u001b[0mwaiters\u001b[0m \u001b[0;34m=\u001b[0m \u001b[0mself\u001b[0m\u001b[0;34m.\u001b[0m\u001b[0m_ALWAYS_READY_WAITERS\u001b[0m\u001b[0;34m\u001b[0m\u001b[0m\n\u001b[1;32m   1335\u001b[0m \u001b[0;34m\u001b[0m\u001b[0m\n\u001b[0;32m-> 1336\u001b[0;31m         \u001b[0mself\u001b[0m\u001b[0;34m.\u001b[0m\u001b[0m_connection\u001b[0m\u001b[0;34m.\u001b[0m\u001b[0m_flush_output\u001b[0m\u001b[0;34m(\u001b[0m\u001b[0;32mlambda\u001b[0m\u001b[0;34m:\u001b[0m \u001b[0mself\u001b[0m\u001b[0;34m.\u001b[0m\u001b[0mis_closed\u001b[0m\u001b[0;34m,\u001b[0m \u001b[0;34m*\u001b[0m\u001b[0mwaiters\u001b[0m\u001b[0;34m)\u001b[0m\u001b[0;34m\u001b[0m\u001b[0m\n\u001b[0m\u001b[1;32m   1337\u001b[0m \u001b[0;34m\u001b[0m\u001b[0m\n\u001b[1;32m   1338\u001b[0m         if self.is_closed and isinstance(self._closing_reason,\n",
      "\u001b[0;32m~/anaconda3/envs/python3/lib/python3.6/site-packages/pika/adapters/blocking_connection.py\u001b[0m in \u001b[0;36m_flush_output\u001b[0;34m(self, *waiters)\u001b[0m\n\u001b[1;32m    520\u001b[0m                     LOGGER.error('Unexpected connection close detected: %r',\n\u001b[1;32m    521\u001b[0m                                  self._closed_result.value.error)\n\u001b[0;32m--> 522\u001b[0;31m                     \u001b[0;32mraise\u001b[0m \u001b[0mself\u001b[0m\u001b[0;34m.\u001b[0m\u001b[0m_closed_result\u001b[0m\u001b[0;34m.\u001b[0m\u001b[0mvalue\u001b[0m\u001b[0;34m.\u001b[0m\u001b[0merror\u001b[0m\u001b[0;34m\u001b[0m\u001b[0m\n\u001b[0m\u001b[1;32m    523\u001b[0m                 \u001b[0;32melse\u001b[0m\u001b[0;34m:\u001b[0m\u001b[0;34m\u001b[0m\u001b[0m\n\u001b[1;32m    524\u001b[0m                     LOGGER.info('User-initiated close: result=%r',\n",
      "\u001b[0;31mStreamLostError\u001b[0m: Stream connection lost: ConnectionResetError(104, 'Connection reset by peer')"
     ]
    }
   ],
   "source": [
    "response = fibonacci_rpc.call('hmm :)')\n",
    "print(\" [.] Got %r\" % response)"
   ]
  },
  {
   "cell_type": "code",
   "execution_count": null,
   "metadata": {},
   "outputs": [],
   "source": []
  }
 ],
 "metadata": {
  "kernelspec": {
   "display_name": "Environment (conda_python3)",
   "language": "python",
   "name": "conda_python3"
  },
  "language_info": {
   "codemirror_mode": {
    "name": "ipython",
    "version": 3
   },
   "file_extension": ".py",
   "mimetype": "text/x-python",
   "name": "python",
   "nbconvert_exporter": "python",
   "pygments_lexer": "ipython3",
   "version": "3.6.5"
  }
 },
 "nbformat": 4,
 "nbformat_minor": 2
}
