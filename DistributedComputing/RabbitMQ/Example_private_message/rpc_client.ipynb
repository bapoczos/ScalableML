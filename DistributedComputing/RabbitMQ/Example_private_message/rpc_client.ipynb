{
 "cells": [
  {
   "cell_type": "code",
   "execution_count": 1,
   "metadata": {},
   "outputs": [],
   "source": [
    "import pika\n",
    "import uuid"
   ]
  },
  {
   "cell_type": "code",
   "execution_count": 2,
   "metadata": {},
   "outputs": [],
   "source": [
    "credentials = pika.PlainCredentials('myguest', 'myguestpwd')\n",
    "#URL='localhost'\n",
    "URL='PROD-JOB-844fd7d2202ac4da.elb.us-east-2.amazonaws.com'\n",
    "parameters =  pika.ConnectionParameters(URL, port=5672, credentials=credentials)\n",
    "exchangeName = 'direct_pings'"
   ]
  },
  {
   "cell_type": "code",
   "execution_count": 3,
   "metadata": {},
   "outputs": [
    {
     "name": "stdout",
     "output_type": "stream",
     "text": [
      "Listing exchanges ...\r\n",
      "\tdirect\r\n",
      "amq.direct\tdirect\r\n",
      "amq.fanout\tfanout\r\n",
      "amq.headers\theaders\r\n",
      "amq.match\theaders\r\n",
      "amq.rabbitmq.log\ttopic\r\n",
      "amq.rabbitmq.trace\ttopic\r\n",
      "amq.topic\ttopic\r\n",
      "direct_pings\tdirect\r\n"
     ]
    }
   ],
   "source": [
    "!sudo rabbitmqctl list_exchanges"
   ]
  },
  {
   "cell_type": "code",
   "execution_count": 4,
   "metadata": {},
   "outputs": [
    {
     "name": "stdout",
     "output_type": "stream",
     "text": [
      "Listing bindings ...\r\n",
      "\texchange\tamq.gen-CeDnEDJ9PaU6dFzlqAYcmQ\tqueue\tamq.gen-CeDnEDJ9PaU6dFzlqAYcmQ\t[]\r\n",
      "direct_pings\texchange\tamq.gen-CeDnEDJ9PaU6dFzlqAYcmQ\tqueue\trpc_queue\t[]\r\n"
     ]
    }
   ],
   "source": [
    "!sudo rabbitmqctl list_bindings"
   ]
  },
  {
   "cell_type": "markdown",
   "metadata": {},
   "source": [
    "Below we will create a connection, channel, and queue"
   ]
  },
  {
   "cell_type": "markdown",
   "metadata": {},
   "source": [
    "**queue_declare(queue, passive=False, durable=False, exclusive=False, auto_delete=False, arguments=None, callback=None)**<br>\n",
    "<br>\n",
    "Declare queue, create if needed. This method creates or checks a queue. When creating a new queue the client can specify various properties that control the durability of the queue and its contents, and the level of sharing for the queue."
   ]
  },
  {
   "cell_type": "markdown",
   "metadata": {},
   "source": [
    "**basic_consume(queue, on_message_callback, auto_ack=False, exclusive=False, consumer_tag=None, arguments=None, callback=None)**\n",
    "\n",
    "Sends the AMQP 0-9-1 command Basic.Consume to the broker and binds messages for the consumer_tag to the consumer callback. If you do not pass in a consumer_tag, one will be automatically generated for you. Returns the consumer tag.\n",
    "\n",
    "**queue (str)** – The queue to consume from. Use the empty string to specify the most recent server-named queue for this channel\n",
    "\n",
    "**on_message_callback**: (callable) –\n",
    "The function to call when consuming with the **signature on_message_callback(channel, method, properties, body)**, where\n",
    "\n",
    "* **channel**: pika.Channel \n",
    "\n",
    "* **method**: pika.spec.Basic.Deliver \n",
    "\n",
    "* **properties**: pika.spec.BasicProperties \n",
    "\n",
    "* **body**: bytes\n"
   ]
  },
  {
   "cell_type": "markdown",
   "metadata": {},
   "source": [
    "### Message properties\n",
    "\n",
    "The AMQP 0-9-1 protocol predefines a set of 14 properties that go with a message. Most of the properties are rarely used, with the exception of the following:\n",
    "\n",
    "* delivery_mode: Marks a message as persistent (with a value of 2) or transient (any other value). \n",
    "* content_type: Used to describe the mime-type of the encoding. For example for the often used JSON encoding it is a good practice to set this property to: application/json.\n",
    "* reply_to: Commonly used to name a callback queue.\n",
    "* correlation_id: Useful to correlate RPC responses with requests.\n",
    "\n",
    "**See https://www.rabbitmq.com/tutorials/tutorial-six-python.html for details**"
   ]
  },
  {
   "cell_type": "code",
   "execution_count": 5,
   "metadata": {},
   "outputs": [],
   "source": [
    "class FibonacciRpcClient(object):\n",
    "\n",
    "    def __init__(self):\n",
    "        #self.connection = pika.BlockingConnection(pika.ConnectionParameters(host='localhost'))\n",
    "\n",
    "        self.connection = pika.BlockingConnection(parameters)\n",
    "        self.channel = self.connection.channel()\n",
    "        self.channel.exchange_declare(exchange=exchangeName, exchange_type='direct')\n",
    "        \n",
    "        myqueue = self.channel.queue_declare('', exclusive=True)\n",
    "        print(\"myqueue:\", myqueue)\n",
    "        \n",
    "        self.callback_queue = myqueue.method.queue #The queue we just created\n",
    "\n",
    "        print(\"myqueue.method:\", myqueue.method)\n",
    "        \n",
    "        # Let us start waiting for messages (The results of our call). \n",
    "        #When we recevie a message, we will the on_response call back function\n",
    "        self.channel.basic_consume(\n",
    "            queue=self.callback_queue, #the queue we created above\n",
    "            on_message_callback=self.on_response, #The callback function to run when we receive a message from the workers\n",
    "            auto_ack=True)\n",
    "\n",
    "    def on_response(self, ch, method, props, body):\n",
    "        if self.corr_id == props.correlation_id: #Check if our correlation id is the same as we get in the message\n",
    "            self.response = body\n",
    "            print(self.response)\n",
    "\n",
    "    def call(self, n):\n",
    "        self.response = None\n",
    "        self.corr_id = str(uuid.uuid4()) # This is where we create our unique correlation id\n",
    "        print('corr_id:', self.corr_id)\n",
    "        \n",
    "        # Now we are ready to send our message to the workers\n",
    "        self.channel.basic_publish(\n",
    "            exchange=exchangeName,\n",
    "            routing_key='rpc_queue',\n",
    "            properties=pika.BasicProperties(\n",
    "                reply_to=self.callback_queue,\n",
    "                correlation_id=self.corr_id,\n",
    "                delivery_mode =1,\n",
    "                content_type =\"text/plain\"\n",
    "            ),\n",
    "            body=str(n))\n",
    "        \n",
    "        #Waiting for the results\n",
    "        while self.response is None:\n",
    "            self.connection.process_data_events()\n",
    "        return self.response\n",
    "    "
   ]
  },
  {
   "cell_type": "code",
   "execution_count": 6,
   "metadata": {},
   "outputs": [
    {
     "name": "stdout",
     "output_type": "stream",
     "text": [
      "myqueue: <METHOD(['channel_number=1', 'frame_type=1', \"method=<Queue.DeclareOk(['consumer_count=0', 'message_count=0', 'queue=amq.gen-iBhlUFd0m6ghuAIDqqzBGg'])>\"])>\n",
      "myqueue.method: <Queue.DeclareOk(['consumer_count=0', 'message_count=0', 'queue=amq.gen-iBhlUFd0m6ghuAIDqqzBGg'])>\n"
     ]
    }
   ],
   "source": [
    "#This will create one channel and queue. All communications will be done on that queue using different correlation ids. \n",
    "fibonacci_rpc = FibonacciRpcClient()"
   ]
  },
  {
   "cell_type": "code",
   "execution_count": 7,
   "metadata": {},
   "outputs": [
    {
     "name": "stdout",
     "output_type": "stream",
     "text": [
      " [x] Requesting fib(30)\n",
      "corr_id: 689119fd-3b19-4e4f-9c16-3ad72c269859\n",
      "b\"172.31.14.37 process_name: MainProcess process_index: _none_ os_pid: 29012 time: 1568680743.2625663 message: b'hi'\"\n",
      " [.] Got b\"172.31.14.37 process_name: MainProcess process_index: _none_ os_pid: 29012 time: 1568680743.2625663 message: b'hi'\"\n"
     ]
    }
   ],
   "source": [
    "print(\" [x] sending message\")\n",
    "response = fibonacci_rpc.call('hi')\n",
    "print(\" [.] Got %r\" % response)"
   ]
  },
  {
   "cell_type": "code",
   "execution_count": 8,
   "metadata": {},
   "outputs": [
    {
     "name": "stdout",
     "output_type": "stream",
     "text": [
      " [x] Requesting fib(20)\n",
      "corr_id: c43b7bdd-7709-485c-a170-26147550af9c\n",
      "b\"172.31.14.37 process_name: MainProcess process_index: _none_ os_pid: 29012 time: 1568680745.3039148 message: b'huh'\"\n",
      " [.] Got b\"172.31.14.37 process_name: MainProcess process_index: _none_ os_pid: 29012 time: 1568680745.3039148 message: b'huh'\"\n"
     ]
    }
   ],
   "source": [
    "print(\" [x] sending message\")\n",
    "response = fibonacci_rpc.call('huh')\n",
    "print(\" [.] Got %r\" % response)"
   ]
  },
  {
   "cell_type": "code",
   "execution_count": 9,
   "metadata": {},
   "outputs": [
    {
     "name": "stdout",
     "output_type": "stream",
     "text": [
      " [x] sending message\n",
      "corr_id: 83f843d9-f79b-43bd-bf8d-f9e81f7dbdbf\n",
      "b\"172.31.14.37 process_name: MainProcess process_index: _none_ os_pid: 29012 time: 1568680812.1684191 message: b'mehh'\"\n",
      " [.] Got b\"172.31.14.37 process_name: MainProcess process_index: _none_ os_pid: 29012 time: 1568680812.1684191 message: b'mehh'\"\n"
     ]
    }
   ],
   "source": [
    "print(\" [x] sending message\")\n",
    "response = fibonacci_rpc.call('mehh')\n",
    "print(\" [.] Got %r\" % response)"
   ]
  },
  {
   "cell_type": "code",
   "execution_count": null,
   "metadata": {},
   "outputs": [],
   "source": []
  }
 ],
 "metadata": {
  "kernelspec": {
   "display_name": "Environment (conda_python3)",
   "language": "python",
   "name": "conda_python3"
  },
  "language_info": {
   "codemirror_mode": {
    "name": "ipython",
    "version": 3
   },
   "file_extension": ".py",
   "mimetype": "text/x-python",
   "name": "python",
   "nbconvert_exporter": "python",
   "pygments_lexer": "ipython3",
   "version": "3.6.5"
  }
 },
 "nbformat": 4,
 "nbformat_minor": 2
}
