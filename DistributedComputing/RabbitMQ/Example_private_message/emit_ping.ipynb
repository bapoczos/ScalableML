{
 "cells": [
  {
   "cell_type": "code",
   "execution_count": 1,
   "metadata": {},
   "outputs": [
    {
     "data": {
      "text/plain": [
       "'1.1.0'"
      ]
     },
     "execution_count": 1,
     "metadata": {},
     "output_type": "execute_result"
    }
   ],
   "source": [
    "import pika\n",
    "import sys\n",
    "pika.__version__"
   ]
  },
  {
   "cell_type": "code",
   "execution_count": 2,
   "metadata": {},
   "outputs": [],
   "source": [
    "#!sudo service rabbitmq-server restart\n",
    "#!sudo rabbitmqctl status"
   ]
  },
  {
   "cell_type": "code",
   "execution_count": 3,
   "metadata": {},
   "outputs": [
    {
     "name": "stdout",
     "output_type": "stream",
     "text": [
      "Listing users ...\r\n",
      "guest\t[administrator]\r\n",
      "myguest\t[]\r\n"
     ]
    }
   ],
   "source": [
    "!sudo rabbitmqctl list_users"
   ]
  },
  {
   "cell_type": "code",
   "execution_count": 4,
   "metadata": {},
   "outputs": [
    {
     "name": "stdout",
     "output_type": "stream",
     "text": [
      "Listing bindings ...\r\n",
      "\texchange\tamq.gen-nb9coprYp33EVzYkbzqHMA\tqueue\tamq.gen-nb9coprYp33EVzYkbzqHMA\t[]\r\n",
      "\texchange\tamq.gen-s3n1Dhhem2Z9GN9WCTyDxg\tqueue\tamq.gen-s3n1Dhhem2Z9GN9WCTyDxg\t[]\r\n",
      "\texchange\thello2\tqueue\thello2\t[]\r\n",
      "\texchange\trpc_queue\tqueue\trpc_queue\t[]\r\n",
      "\texchange\ttask_queue\tqueue\ttask_queue\t[]\r\n",
      "direct_logs\texchange\ttask_queue\tqueue\tNYC\t[]\r\n",
      "direct_logs\texchange\ttask_queue\tqueue\tPittsburgh\t[]\r\n",
      "direct_logs\texchange\ttask_queue\tqueue\tWashington\t[]\r\n",
      "ping\texchange\tamq.gen-nb9coprYp33EVzYkbzqHMA\tqueue\tamq.gen-nb9coprYp33EVzYkbzqHMA\t[]\r\n"
     ]
    }
   ],
   "source": [
    "!sudo rabbitmqctl list_bindings"
   ]
  },
  {
   "cell_type": "code",
   "execution_count": 5,
   "metadata": {},
   "outputs": [],
   "source": [
    "credentials = pika.PlainCredentials('myguest', 'myguestpwd')\n",
    "    \n",
    "#URL='localhost'\n",
    "URL='PROD-JOB-844fd7d2202ac4da.elb.us-east-2.amazonaws.com'\n",
    "parameters =  pika.ConnectionParameters(URL, port=5672, credentials=credentials)\n",
    "\n",
    "exchangeName = 'ping'"
   ]
  },
  {
   "cell_type": "code",
   "execution_count": 6,
   "metadata": {},
   "outputs": [],
   "source": [
    "def on_response(self, ch, method, props, body):\n",
    "    print(body)"
   ]
  },
  {
   "cell_type": "code",
   "execution_count": 8,
   "metadata": {},
   "outputs": [
    {
     "name": "stdout",
     "output_type": "stream",
     "text": [
      "myqueue: <METHOD(['channel_number=1', 'frame_type=1', \"method=<Queue.DeclareOk(['consumer_count=0', 'message_count=0', 'queue=amq.gen-JlwenA-ZMVn2o18wljndww'])>\"])>\n"
     ]
    },
    {
     "data": {
      "text/plain": [
       "'ctag1.865614f89ec04cf1aca1b8e9ebff79bf'"
      ]
     },
     "execution_count": 8,
     "metadata": {},
     "output_type": "execute_result"
    }
   ],
   "source": [
    "connection = pika.BlockingConnection(parameters)\n",
    "channel = connection.channel()\n",
    "\n",
    "channel.exchange_declare(exchange=exchangeName, exchange_type='fanout')\n",
    "\n",
    "#ping all workers\n",
    "#for fanout type exchange, routing key/queue is useless\n",
    "properties = pika.spec.BasicProperties(content_type = \"text/plain\", delivery_mode = 1)\n",
    "message = \"Ping EveryOne!\"\n",
    "\n",
    "#channel.basic_publish(exchange = exchangeName, routing_key = \"\", body = message, properties = properties)\n",
    "\n",
    "\n",
    "myqueue = channel.queue_declare('')\n",
    "print(\"myqueue:\", myqueue)\n",
    "callback_queue = myqueue.method.queue #The queue we just created\n",
    "\n",
    "    \n",
    "#disconnect\n",
    "#connection.close()"
   ]
  },
  {
   "cell_type": "code",
   "execution_count": 9,
   "metadata": {},
   "outputs": [],
   "source": [
    "\n",
    "channel.basic_publish(\n",
    "            exchange=exchangeName,\n",
    "            routing_key=\"\",\n",
    "            properties=pika.BasicProperties(\n",
    "                reply_to=callback_queue,\n",
    "            ),\n",
    "            body=message)"
   ]
  },
  {
   "cell_type": "code",
   "execution_count": 10,
   "metadata": {},
   "outputs": [
    {
     "data": {
      "text/plain": [
       "'ctag1.012edfcf04224003a390b45fd591f9d0'"
      ]
     },
     "execution_count": 10,
     "metadata": {},
     "output_type": "execute_result"
    }
   ],
   "source": [
    "channel.basic_consume(\n",
    "            queue=callback_queue, #the queue we created above\n",
    "            on_message_callback=on_response, #The callback function to run when we receive a message from the workers\n",
    "            auto_ack=True)\n"
   ]
  },
  {
   "cell_type": "markdown",
   "metadata": {},
   "source": [
    "**After this, we should see that all workers received the same message**"
   ]
  },
  {
   "cell_type": "code",
   "execution_count": 7,
   "metadata": {},
   "outputs": [
    {
     "name": "stdout",
     "output_type": "stream",
     "text": [
      "Listing bindings ...\r\n",
      "\texchange\tamq.gen-gf_WYyWCqa0YVkH8hbihPA\tqueue\tamq.gen-gf_WYyWCqa0YVkH8hbihPA\t[]\r\n",
      "\texchange\thello2\tqueue\thello2\t[]\r\n",
      "\texchange\trpc_queue\tqueue\trpc_queue\t[]\r\n",
      "\texchange\ttask_queue\tqueue\ttask_queue\t[]\r\n",
      "direct_logs\texchange\ttask_queue\tqueue\tNYC\t[]\r\n",
      "direct_logs\texchange\ttask_queue\tqueue\tPittsburgh\t[]\r\n",
      "direct_logs\texchange\ttask_queue\tqueue\tWashington\t[]\r\n",
      "ping\texchange\tamq.gen-gf_WYyWCqa0YVkH8hbihPA\tqueue\tamq.gen-gf_WYyWCqa0YVkH8hbihPA\t[]\r\n"
     ]
    }
   ],
   "source": [
    "!sudo rabbitmqctl list_bindings"
   ]
  },
  {
   "cell_type": "code",
   "execution_count": 8,
   "metadata": {},
   "outputs": [
    {
     "name": "stdout",
     "output_type": "stream",
     "text": [
      "Listing exchanges ...\r\n",
      "\tdirect\r\n",
      "amq.direct\tdirect\r\n",
      "amq.fanout\tfanout\r\n",
      "amq.headers\theaders\r\n",
      "amq.match\theaders\r\n",
      "amq.rabbitmq.log\ttopic\r\n",
      "amq.rabbitmq.trace\ttopic\r\n",
      "amq.topic\ttopic\r\n",
      "direct_logs\tdirect\r\n",
      "logs\tfanout\r\n",
      "ping\tfanout\r\n"
     ]
    }
   ],
   "source": [
    "!sudo rabbitmqctl list_exchanges"
   ]
  },
  {
   "cell_type": "code",
   "execution_count": null,
   "metadata": {},
   "outputs": [],
   "source": []
  }
 ],
 "metadata": {
  "kernelspec": {
   "display_name": "Environment (conda_python3)",
   "language": "python",
   "name": "conda_python3"
  },
  "language_info": {
   "codemirror_mode": {
    "name": "ipython",
    "version": 3
   },
   "file_extension": ".py",
   "mimetype": "text/x-python",
   "name": "python",
   "nbconvert_exporter": "python",
   "pygments_lexer": "ipython3",
   "version": "3.6.5"
  }
 },
 "nbformat": 4,
 "nbformat_minor": 2
}
