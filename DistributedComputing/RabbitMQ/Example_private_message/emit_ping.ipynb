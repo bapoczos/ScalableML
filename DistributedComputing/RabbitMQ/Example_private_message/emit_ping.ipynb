{
 "cells": [
  {
   "cell_type": "code",
   "execution_count": 1,
   "metadata": {},
   "outputs": [],
   "source": [
    "#!pip install --upgrade pika"
   ]
  },
  {
   "cell_type": "code",
   "execution_count": 1,
   "metadata": {},
   "outputs": [
    {
     "data": {
      "text/plain": [
       "'1.1.0'"
      ]
     },
     "execution_count": 1,
     "metadata": {},
     "output_type": "execute_result"
    }
   ],
   "source": [
    "import pika\n",
    "import sys\n",
    "pika.__version__"
   ]
  },
  {
   "cell_type": "code",
   "execution_count": 3,
   "metadata": {},
   "outputs": [
    {
     "name": "stdout",
     "output_type": "stream",
     "text": [
      "Creating user \"myguest\" ...\n",
      "Error: user_already_exists: myguest\n",
      "Setting permissions for user \"myguest\" in vhost \"/\" ...\n"
     ]
    }
   ],
   "source": [
    "!sudo rabbitmqctl add_user myguest myguestpwd\n",
    "!sudo rabbitmqctl set_permissions -p / myguest \".\" \".\" \".*\""
   ]
  },
  {
   "cell_type": "code",
   "execution_count": 2,
   "metadata": {},
   "outputs": [
    {
     "name": "stdout",
     "output_type": "stream",
     "text": [
      "Listing users ...\r\n",
      "guest\t[administrator]\r\n",
      "myguest\t[]\r\n"
     ]
    }
   ],
   "source": [
    "!sudo rabbitmqctl list_users"
   ]
  },
  {
   "cell_type": "code",
   "execution_count": 3,
   "metadata": {},
   "outputs": [
    {
     "name": "stdout",
     "output_type": "stream",
     "text": [
      "Listing bindings ...\r\n",
      "\texchange\tamq.gen-L1thtIGEsmOb6jTGRBD04g\tqueue\tamq.gen-L1thtIGEsmOb6jTGRBD04g\t[]\r\n",
      "\texchange\tamq.gen-W1f-cSg2hOe4Lh95CqRxxw\tqueue\tamq.gen-W1f-cSg2hOe4Lh95CqRxxw\t[]\r\n",
      "\texchange\tamq.gen-lrOH1y0b4n955khMfG8Wsg\tqueue\tamq.gen-lrOH1y0b4n955khMfG8Wsg\t[]\r\n",
      "\texchange\tamq.gen-tzKD3AstQV43tTeDRaW3aw\tqueue\tamq.gen-tzKD3AstQV43tTeDRaW3aw\t[]\r\n",
      "ping\texchange\tamq.gen-W1f-cSg2hOe4Lh95CqRxxw\tqueue\tamq.gen-W1f-cSg2hOe4Lh95CqRxxw\t[]\r\n"
     ]
    }
   ],
   "source": [
    "!sudo rabbitmqctl list_bindings"
   ]
  },
  {
   "cell_type": "code",
   "execution_count": 4,
   "metadata": {},
   "outputs": [],
   "source": [
    "credentials = pika.PlainCredentials('myguest', 'myguestpwd')\n",
    "URL='localhost'\n",
    "#URL='PROD-JOB-844fd7d2202ac4da.elb.us-east-2.amazonaws.com'\n",
    "parameters =  pika.ConnectionParameters(URL, port=5672, credentials=credentials)"
   ]
  },
  {
   "cell_type": "code",
   "execution_count": null,
   "metadata": {},
   "outputs": [],
   "source": [
    "class FibonacciRpcClient(object):\n",
    "\n",
    "    def __init__(self):\n",
    "        #self.connection = pika.BlockingConnection(pika.ConnectionParameters(host='localhost'))\n",
    "\n",
    "        self.connection = pika.BlockingConnection(parameters)\n",
    "        self.channel = self.connection.channel() #This channel will be used to send and receive ping messages\n",
    "\n",
    "        myqueue = self.channel.queue_declare('', exclusive=True)\n",
    "        print(\"myqueue:\", myqueue)\n",
    "        \n",
    "        self.callback_queue = myqueue.method.queue #The queue we just created\n",
    "\n",
    "        print(\"myqueue.method:\", myqueue.method)\n",
    "        \n",
    "        # Let us start waiting for messages (The results of our call). \n",
    "        #When we recevie a message, we will the on_response call back function\n",
    "        self.channel.basic_consume(\n",
    "            queue=self.callback_queue, #the queue we created above\n",
    "            on_message_callback=self.on_response, #The callback function to run when we receive a message from the workers\n",
    "            auto_ack=True)\n",
    "\n",
    "    def on_response(self, ch, method, props, body):\n",
    "        if self.corr_id == props.correlation_id: #Check if our correlation id is the same as we get in the message\n",
    "            self.response = body\n",
    "\n",
    "    def call(self, n):\n",
    "        self.response = None\n",
    "        self.corr_id = str(uuid.uuid4()) # This is where we create our unique correlation id\n",
    "        print('corr_id:', self.corr_id) #We will use the correlaion_id when sending and receiving a message\n",
    "        \n",
    "        # Now we are ready to send our message to the workers\n",
    "        self.channel.basic_publish(\n",
    "            exchange='', #send the message on default exchange\n",
    "            routing_key='rpc_queue', #send the meassage on \"rpc_queue\"\n",
    "            properties=pika.BasicProperties(\n",
    "                reply_to=self.callback_queue, #message will be received on the queue we created in init\n",
    "                correlation_id=self.corr_id,\n",
    "            ),\n",
    "            body=str(n))\n",
    "        #Waiting for the results\n",
    "        while self.response is None:\n",
    "            self.connection.process_data_events()\n",
    "        return int(self.response)"
   ]
  },
  {
   "cell_type": "code",
   "execution_count": 5,
   "metadata": {},
   "outputs": [],
   "source": [
    "credentials = pika.PlainCredentials('myguest', 'myguestpwd')\n",
    "    \n",
    "URL='localhost'\n",
    "#URL='PROD-JOB-844fd7d2202ac4da.elb.us-east-2.amazonaws.com'\n",
    "parameters =  pika.ConnectionParameters(URL, port=5672, credentials=credentials)\n",
    "\n",
    "exchangeName = 'ping'"
   ]
  },
  {
   "cell_type": "code",
   "execution_count": 6,
   "metadata": {},
   "outputs": [],
   "source": [
    "def on_response(self, ch, method, props, body):\n",
    "    print(body)"
   ]
  },
  {
   "cell_type": "code",
   "execution_count": 7,
   "metadata": {},
   "outputs": [],
   "source": [
    "myconnection = pika.BlockingConnection(parameters)"
   ]
  },
  {
   "cell_type": "code",
   "execution_count": 8,
   "metadata": {},
   "outputs": [
    {
     "name": "stdout",
     "output_type": "stream",
     "text": [
      "myqueue: <METHOD(['channel_number=1', 'frame_type=1', \"method=<Queue.DeclareOk(['consumer_count=0', 'message_count=0', 'queue=amq.gen-LSrhVaeNvLDFlD1mjkQVUg'])>\"])>\n",
      "callback_queue amq.gen-LSrhVaeNvLDFlD1mjkQVUg\n"
     ]
    }
   ],
   "source": [
    "#Create a channel for sending out ping message\n",
    "mychannel = myconnection.channel()\n",
    "\n",
    "mychannel.exchange_declare(exchange=exchangeName, exchange_type='fanout')\n",
    "\n",
    "#ping all workers\n",
    "#for fanout type exchange, routing key/queue is useless\n",
    "properties = pika.spec.BasicProperties(content_type = \"text/plain\", delivery_mode = 1)\n",
    "message = \"Ping EveryOne!\"\n",
    "\n",
    "#channel.basic_publish(exchange = exchangeName, routing_key = \"\", body = message, properties = properties)\n",
    "\n",
    "\n",
    "queue_ping = mychannel.queue_declare('')\n",
    "print(\"myqueue:\", queue_ping)\n",
    "callback_queue = queue_ping.method.queue #The queue we just created\n",
    "print(\"callback_queue\", callback_queue)"
   ]
  },
  {
   "cell_type": "code",
   "execution_count": 9,
   "metadata": {},
   "outputs": [
    {
     "data": {
      "text/plain": [
       "'ctag1.07bd5f38545c47ab9d2a9bdc88337cb1'"
      ]
     },
     "execution_count": 9,
     "metadata": {},
     "output_type": "execute_result"
    }
   ],
   "source": [
    "mychannel.basic_consume(\n",
    "            queue=callback_queue, #the queue we created above\n",
    "            on_message_callback=on_response, #The callback function to run when we receive a message from the workers\n",
    "            auto_ack=True)"
   ]
  },
  {
   "cell_type": "code",
   "execution_count": 10,
   "metadata": {},
   "outputs": [],
   "source": [
    "#disconnect\n",
    "#connection.close()"
   ]
  },
  {
   "cell_type": "code",
   "execution_count": 11,
   "metadata": {},
   "outputs": [],
   "source": [
    "mychannel.basic_publish(\n",
    "            exchange=exchangeName,\n",
    "            routing_key=\"\",\n",
    "            properties=pika.BasicProperties(\n",
    "                reply_to=callback_queue,\n",
    "            ),\n",
    "            body=message)"
   ]
  },
  {
   "cell_type": "markdown",
   "metadata": {},
   "source": [
    "**After this, we should see that all workers received the same message**"
   ]
  },
  {
   "cell_type": "code",
   "execution_count": 7,
   "metadata": {},
   "outputs": [
    {
     "name": "stdout",
     "output_type": "stream",
     "text": [
      "Listing bindings ...\r\n",
      "\texchange\tamq.gen-gf_WYyWCqa0YVkH8hbihPA\tqueue\tamq.gen-gf_WYyWCqa0YVkH8hbihPA\t[]\r\n",
      "\texchange\thello2\tqueue\thello2\t[]\r\n",
      "\texchange\trpc_queue\tqueue\trpc_queue\t[]\r\n",
      "\texchange\ttask_queue\tqueue\ttask_queue\t[]\r\n",
      "direct_logs\texchange\ttask_queue\tqueue\tNYC\t[]\r\n",
      "direct_logs\texchange\ttask_queue\tqueue\tPittsburgh\t[]\r\n",
      "direct_logs\texchange\ttask_queue\tqueue\tWashington\t[]\r\n",
      "ping\texchange\tamq.gen-gf_WYyWCqa0YVkH8hbihPA\tqueue\tamq.gen-gf_WYyWCqa0YVkH8hbihPA\t[]\r\n"
     ]
    }
   ],
   "source": [
    "!sudo rabbitmqctl list_bindings"
   ]
  },
  {
   "cell_type": "code",
   "execution_count": 8,
   "metadata": {},
   "outputs": [
    {
     "name": "stdout",
     "output_type": "stream",
     "text": [
      "Listing exchanges ...\r\n",
      "\tdirect\r\n",
      "amq.direct\tdirect\r\n",
      "amq.fanout\tfanout\r\n",
      "amq.headers\theaders\r\n",
      "amq.match\theaders\r\n",
      "amq.rabbitmq.log\ttopic\r\n",
      "amq.rabbitmq.trace\ttopic\r\n",
      "amq.topic\ttopic\r\n",
      "direct_logs\tdirect\r\n",
      "logs\tfanout\r\n",
      "ping\tfanout\r\n"
     ]
    }
   ],
   "source": [
    "!sudo rabbitmqctl list_exchanges"
   ]
  },
  {
   "cell_type": "code",
   "execution_count": null,
   "metadata": {},
   "outputs": [],
   "source": []
  }
 ],
 "metadata": {
  "kernelspec": {
   "display_name": "Environment (conda_python3)",
   "language": "python",
   "name": "conda_python3"
  },
  "language_info": {
   "codemirror_mode": {
    "name": "ipython",
    "version": 3
   },
   "file_extension": ".py",
   "mimetype": "text/x-python",
   "name": "python",
   "nbconvert_exporter": "python",
   "pygments_lexer": "ipython3",
   "version": "3.6.5"
  }
 },
 "nbformat": 4,
 "nbformat_minor": 2
}
