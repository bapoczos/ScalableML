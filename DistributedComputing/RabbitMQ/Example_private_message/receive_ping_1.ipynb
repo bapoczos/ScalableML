{
 "cells": [
  {
   "cell_type": "code",
   "execution_count": 1,
   "metadata": {},
   "outputs": [
    {
     "data": {
      "text/plain": [
       "'1.1.0'"
      ]
     },
     "execution_count": 1,
     "metadata": {},
     "output_type": "execute_result"
    }
   ],
   "source": [
    "import pika\n",
    "\n",
    "from billiard import current_process\n",
    "import time\n",
    "import math\n",
    "import socket\n",
    "import numpy as np\n",
    "import os\n",
    "\n",
    "pika.__version__\n"
   ]
  },
  {
   "cell_type": "code",
   "execution_count": 2,
   "metadata": {},
   "outputs": [
    {
     "data": {
      "text/plain": [
       "<METHOD(['channel_number=1', 'frame_type=1', 'method=<Exchange.DeclareOk>'])>"
      ]
     },
     "execution_count": 2,
     "metadata": {},
     "output_type": "execute_result"
    }
   ],
   "source": [
    "credentials = pika.PlainCredentials('myguest', 'myguestpwd')\n",
    "exchangeName = 'ping'\n",
    "#URL='localhost'\n",
    "URL='PROD-JOB-844fd7d2202ac4da.elb.us-east-2.amazonaws.com'\n",
    "parameters =  pika.ConnectionParameters(URL, port=5672, credentials=credentials)\n",
    "connection = pika.BlockingConnection(parameters)\n",
    "channel = connection.channel()\n",
    "\n",
    "channel.exchange_declare(exchange=exchangeName, exchange_type='fanout')\n",
    "#channel.exchange_declare(exchange = exchangeName, exchange_type = \"fanout\", auto_delete = True)"
   ]
  },
  {
   "cell_type": "code",
   "execution_count": 3,
   "metadata": {},
   "outputs": [],
   "source": [
    "def callback(ch, method, props, body):\n",
    "    \n",
    "    print(\" [x] %r\" % body)\n",
    "    \n",
    "    print('body:', body)\n",
    "    print('ch:', ch)\n",
    "    print('method:', method)\n",
    "    print('props:', props)\n",
    "    \n",
    "    print('props.reply_to:', props.reply_to)\n",
    "    print('props.correlation_id:', props.correlation_id)\n",
    "    \n",
    "    \n",
    "    process_name=current_process()._name\n",
    "    try:\n",
    "        process_index=str(current_process().index)\n",
    "    except:\n",
    "        process_index='_none_'\n",
    "    \n",
    "    tmpip= socket.gethostbyname(socket.gethostname())\n",
    "    \n",
    "    results=tmpip+' process_name: '+process_name+' process_index: '+process_index+' os_pid: '+str(os.getpid())+' '+'**'\n",
    "    print(results)\n",
    "    \n",
    "    mybody=str('Response from worker: '+results)\n",
    "    \n",
    "    # We need to send back the results to the client\n",
    "    ch.basic_publish(exchange='', # Default exchange\n",
    "                     routing_key='Reply', # This is the routing key to the queue that we use for sending the answer\n",
    "                     #use the same correlation_id so the client knows that this is a reply to what message\n",
    "                     properties=pika.BasicProperties(correlation_id = props.correlation_id), \n",
    "                     body=mybody)\n",
    "    print(\" Results sent back to the server\")\n",
    "    print(\" *** \\n\")\n"
   ]
  },
  {
   "cell_type": "code",
   "execution_count": 4,
   "metadata": {},
   "outputs": [
    {
     "name": "stdout",
     "output_type": "stream",
     "text": [
      "amq.gen-nb9coprYp33EVzYkbzqHMA\n"
     ]
    },
    {
     "data": {
      "text/plain": [
       "<METHOD(['channel_number=1', 'frame_type=1', 'method=<Queue.BindOk>'])>"
      ]
     },
     "execution_count": 4,
     "metadata": {},
     "output_type": "execute_result"
    }
   ],
   "source": [
    "#declare exchange and queue, bind them and consume messages\n",
    "#for fanout type exchange, routing key is useless\n",
    " \n",
    "#result=channel.queue_declare(queue = queueName, exclusive = True, auto_delete = True)\n",
    "result = channel.queue_declare('', exclusive=True)\n",
    "queueName = result.method.queue\n",
    "print(queueName)\n",
    "\n",
    "channel.queue_bind(exchange = exchangeName, queue = queueName, routing_key = None)"
   ]
  },
  {
   "cell_type": "code",
   "execution_count": null,
   "metadata": {},
   "outputs": [
    {
     "name": "stdout",
     "output_type": "stream",
     "text": [
      " [*] Waiting for logs. To exit press CTRL+C\n",
      " [x] b'Ping EveryOne!'\n",
      "body: b'Ping EveryOne!'\n",
      "ch: <BlockingChannel impl=<Channel number=1 OPEN conn=<SelectConnection OPEN transport=<pika.adapters.utils.io_services_utils._AsyncPlaintextTransport object at 0x7fd9ec01d4a8> params=<ConnectionParameters host=PROD-JOB-844fd7d2202ac4da.elb.us-east-2.amazonaws.com port=5672 virtual_host=/ ssl=False>>>>\n",
      "method: <Basic.Deliver(['consumer_tag=ctag1.07aad9ce601946818a378a074859d79e', 'delivery_tag=1', 'exchange=ping', 'redelivered=False', 'routing_key='])>\n",
      "props: <BasicProperties(['reply_to=amq.gen-JlwenA-ZMVn2o18wljndww'])>\n",
      "props.reply_to: amq.gen-JlwenA-ZMVn2o18wljndww\n",
      "props.correlation_id: None\n",
      "172.31.13.51 process_name: MainProcess process_index: _none_ os_pid: 20985 **\n",
      " Results sent back to the server\n",
      " *** \n",
      "\n"
     ]
    }
   ],
   "source": [
    "print(' [*] Waiting for logs. To exit press CTRL+C')\n",
    "\n",
    "channel.basic_consume(queue=queueName,  on_message_callback=callback, auto_ack=True)\n",
    "\n",
    "channel.start_consuming()"
   ]
  },
  {
   "cell_type": "code",
   "execution_count": null,
   "metadata": {},
   "outputs": [],
   "source": []
  }
 ],
 "metadata": {
  "kernelspec": {
   "display_name": "Environment (conda_python3)",
   "language": "python",
   "name": "conda_python3"
  },
  "language_info": {
   "codemirror_mode": {
    "name": "ipython",
    "version": 3
   },
   "file_extension": ".py",
   "mimetype": "text/x-python",
   "name": "python",
   "nbconvert_exporter": "python",
   "pygments_lexer": "ipython3",
   "version": "3.6.5"
  }
 },
 "nbformat": 4,
 "nbformat_minor": 2
}
