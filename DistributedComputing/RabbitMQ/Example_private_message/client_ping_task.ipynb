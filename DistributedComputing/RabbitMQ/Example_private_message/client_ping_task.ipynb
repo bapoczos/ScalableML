{
 "cells": [
  {
   "cell_type": "code",
   "execution_count": 1,
   "metadata": {},
   "outputs": [],
   "source": [
    "import pika\n",
    "import uuid\n",
    "import time\n",
    "from utils import NumpyEncoder\n",
    "import json"
   ]
  },
  {
   "cell_type": "code",
   "execution_count": 2,
   "metadata": {},
   "outputs": [],
   "source": [
    "credentials = pika.PlainCredentials('myguest', 'myguestpwd')\n",
    "#URL='localhost'\n",
    "URL='PROD-JOB-844fd7d2202ac4da.elb.us-east-2.amazonaws.com'\n",
    "parameters =  pika.ConnectionParameters(URL, port=5672, credentials=credentials)\n",
    "exchangeName = 'direct_pings'"
   ]
  },
  {
   "cell_type": "code",
   "execution_count": 3,
   "metadata": {},
   "outputs": [
    {
     "name": "stdout",
     "output_type": "stream",
     "text": [
      "Listing exchanges ...\r\n",
      "\tdirect\r\n",
      "amq.direct\tdirect\r\n",
      "amq.fanout\tfanout\r\n",
      "amq.headers\theaders\r\n",
      "amq.match\theaders\r\n",
      "amq.rabbitmq.log\ttopic\r\n",
      "amq.rabbitmq.trace\ttopic\r\n",
      "amq.topic\ttopic\r\n",
      "direct_pings\tdirect\r\n"
     ]
    }
   ],
   "source": [
    "!sudo rabbitmqctl list_exchanges"
   ]
  },
  {
   "cell_type": "code",
   "execution_count": 4,
   "metadata": {},
   "outputs": [
    {
     "name": "stdout",
     "output_type": "stream",
     "text": [
      "Listing bindings ...\r\n",
      "\texchange\tamq.gen-RhuLmneWWdCahw5RvWJBAQ\tqueue\tamq.gen-RhuLmneWWdCahw5RvWJBAQ\t[]\r\n",
      "\texchange\tamq.gen-_fNZavjKI_BhNaV4d-fOBw\tqueue\tamq.gen-_fNZavjKI_BhNaV4d-fOBw\t[]\r\n",
      "direct_pings\texchange\tamq.gen-RhuLmneWWdCahw5RvWJBAQ\tqueue\tping_queue\t[]\r\n",
      "direct_pings\texchange\tamq.gen-_fNZavjKI_BhNaV4d-fOBw\tqueue\tping_queue\t[]\r\n"
     ]
    }
   ],
   "source": [
    "!sudo rabbitmqctl list_bindings"
   ]
  },
  {
   "cell_type": "code",
   "execution_count": 5,
   "metadata": {},
   "outputs": [
    {
     "name": "stdout",
     "output_type": "stream",
     "text": [
      "Listing channels ...\r\n",
      "<rabbit@ip-172-31-14-37.3.5652.9>\tmyguest\t1\t0\r\n",
      "<rabbit@ip-172-31-14-37.3.5897.9>\tmyguest\t1\t0\r\n"
     ]
    }
   ],
   "source": [
    "!sudo rabbitmqctl list_channels"
   ]
  },
  {
   "cell_type": "markdown",
   "metadata": {},
   "source": [
    "Below we will create a connection, channel, and queue"
   ]
  },
  {
   "cell_type": "markdown",
   "metadata": {},
   "source": [
    "**queue_declare(queue, passive=False, durable=False, exclusive=False, auto_delete=False, arguments=None, callback=None)**<br>\n",
    "<br>\n",
    "Declare queue, create if needed. This method creates or checks a queue. When creating a new queue the client can specify various properties that control the durability of the queue and its contents, and the level of sharing for the queue."
   ]
  },
  {
   "cell_type": "markdown",
   "metadata": {},
   "source": [
    "**basic_consume(queue, on_message_callback, auto_ack=False, exclusive=False, consumer_tag=None, arguments=None, callback=None)**\n",
    "\n",
    "Sends the AMQP 0-9-1 command Basic.Consume to the broker and binds messages for the consumer_tag to the consumer callback. If you do not pass in a consumer_tag, one will be automatically generated for you. Returns the consumer tag.\n",
    "\n",
    "**queue (str)** – The queue to consume from. Use the empty string to specify the most recent server-named queue for this channel\n",
    "\n",
    "**on_message_callback**: (callable) –\n",
    "The function to call when consuming with the **signature on_message_callback(channel, method, properties, body)**, where\n",
    "\n",
    "* **channel**: pika.Channel \n",
    "\n",
    "* **method**: pika.spec.Basic.Deliver \n",
    "\n",
    "* **properties**: pika.spec.BasicProperties \n",
    "\n",
    "* **body**: bytes\n"
   ]
  },
  {
   "cell_type": "markdown",
   "metadata": {},
   "source": [
    "### Message properties\n",
    "\n",
    "The AMQP 0-9-1 protocol predefines a set of 14 properties that go with a message. Most of the properties are rarely used, with the exception of the following:\n",
    "\n",
    "* delivery_mode: Marks a message as persistent (with a value of 2) or transient (any other value). \n",
    "* content_type: Used to describe the mime-type of the encoding. For example for the often used JSON encoding it is a good practice to set this property to: application/json.\n",
    "* reply_to: Commonly used to name a callback queue.\n",
    "* correlation_id: Useful to correlate RPC responses with requests.\n",
    "\n",
    "**See https://www.rabbitmq.com/tutorials/tutorial-six-python.html for details**"
   ]
  },
  {
   "cell_type": "code",
   "execution_count": 6,
   "metadata": {},
   "outputs": [],
   "source": [
    "class TalkToWorkersClient(object):\n",
    "\n",
    "    def __init__(self):\n",
    "        #self.connection = pika.BlockingConnection(pika.ConnectionParameters(host='localhost'))\n",
    "\n",
    "        self.connection = pika.BlockingConnection(parameters)\n",
    "        self.channel = self.connection.channel()\n",
    "        self.channel.exchange_declare(exchange=exchangeName, exchange_type='direct')\n",
    "        \n",
    "        self.responses=[]\n",
    "        \n",
    "        #Create a new queue with a random name. We will use this queue to receive messages (consume)\n",
    "        myqueue = self.channel.queue_declare('', exclusive=True)\n",
    "        print(\"myqueue:\", myqueue)\n",
    "        \n",
    "        self.callback_queue = myqueue.method.queue #The queue we just created\n",
    "\n",
    "        print(\"myqueue.method:\", myqueue.method)\n",
    "        \n",
    "        # Let us start waiting for messages (The results of our call). \n",
    "        #When we recevie a message, we will the on_response call back function\n",
    "        self.channel.basic_consume(\n",
    "            queue=self.callback_queue, #the queue we created above\n",
    "            on_message_callback=self.on_response, #The callback function to run when we receive a message from the workers\n",
    "            auto_ack=True)\n",
    "            \n",
    "    def on_response(self, ch, method, props, body):\n",
    "        if self.corr_id == props.correlation_id: #Check if our correlation id is the same as we get in the message\n",
    "            self.response = body\n",
    "            self.responses.append(body)\n",
    "            print(self.response)\n",
    "            \n",
    "            \n",
    "            \n",
    "\n",
    "    def send_task2worker(self, worker_routing,n):\n",
    "        self.response = None\n",
    "        self.corr_id = str(uuid.uuid4()) # This is where we create our unique correlation id\n",
    "        print('corr_id:', self.corr_id)\n",
    "        \n",
    "        json_dump = json.dumps({'task': 'Fib','num':n}, cls=NumpyEncoder) \n",
    "        # Now we are ready to send our message to the workers\n",
    "        self.channel.basic_publish(\n",
    "            exchange=exchangeName,\n",
    "            routing_key=worker_routing,\n",
    "            properties=pika.BasicProperties(\n",
    "                reply_to=self.callback_queue,\n",
    "                correlation_id=self.corr_id,\n",
    "                delivery_mode =1,\n",
    "                content_type =\"text/plain\"\n",
    "            ),\n",
    "            body=json_dump)\n",
    "        \n",
    "        #Waiting for the results\n",
    "        while self.response is None:\n",
    "            self.connection.process_data_events()\n",
    "        return self.response\n",
    "        \n",
    "    def ping_workers(self):\n",
    "        self.responses=[]\n",
    "        self.response = None\n",
    "        self.corr_id = str(uuid.uuid4()) # This is where we create our unique correlation id\n",
    "        print('corr_id:', self.corr_id)\n",
    "        json_dump = json.dumps({'task': 'Ping!'}, cls=NumpyEncoder) \n",
    "        # Now we are ready to send our \"Ping\" message to the workers\n",
    "        self.channel.basic_publish(\n",
    "            exchange=exchangeName,\n",
    "            routing_key='ping_queue', #sending messages on the \"ping_queue\" routing.\n",
    "            properties=pika.BasicProperties(\n",
    "                reply_to=self.callback_queue,\n",
    "                correlation_id=self.corr_id,\n",
    "                delivery_mode =1,\n",
    "                content_type =\"text/plain\"\n",
    "            ),\n",
    "            body=json_dump)\n",
    "        \n",
    "        \n",
    "        t_end = time.time() + 5\n",
    "        while time.time() < t_end:\n",
    "        #while self.response is None:\n",
    "        #Waiting for the results\n",
    "           self.connection.process_data_events()\n",
    "        return self.response\n",
    "    "
   ]
  },
  {
   "cell_type": "code",
   "execution_count": 7,
   "metadata": {},
   "outputs": [
    {
     "name": "stdout",
     "output_type": "stream",
     "text": [
      "myqueue: <METHOD(['channel_number=1', 'frame_type=1', \"method=<Queue.DeclareOk(['consumer_count=0', 'message_count=0', 'queue=amq.gen-5hNzVPzjk0HHuj9TCfVvHw'])>\"])>\n",
      "myqueue.method: <Queue.DeclareOk(['consumer_count=0', 'message_count=0', 'queue=amq.gen-5hNzVPzjk0HHuj9TCfVvHw'])>\n"
     ]
    }
   ],
   "source": [
    "#This will create one channel and queue. All communications will be done on that queue using different correlation ids. \n",
    "talkToWorkersClient_instance = TalkToWorkersClient()"
   ]
  },
  {
   "cell_type": "code",
   "execution_count": 8,
   "metadata": {},
   "outputs": [
    {
     "name": "stdout",
     "output_type": "stream",
     "text": [
      "corr_id: 9d6accb0-057c-49ea-a0e9-90c0ec2ac554\n",
      "b'{\"task\": \"Ping!\", \"result\": \"routing_172.31.14.37_11770\"}'\n",
      "b'{\"task\": \"Ping!\", \"result\": \"routing_172.31.14.37_12986\"}'\n",
      "b'{\"task\": \"Ping!\", \"result\": \"routing_172.31.14.37_12986\"}'\n"
     ]
    }
   ],
   "source": [
    "response = talkToWorkersClient_instance.ping_workers()\n",
    "print(response)"
   ]
  },
  {
   "cell_type": "code",
   "execution_count": 9,
   "metadata": {},
   "outputs": [
    {
     "name": "stdout",
     "output_type": "stream",
     "text": [
      "Listing bindings ...\r\n",
      "\texchange\tamq.gen-5hNzVPzjk0HHuj9TCfVvHw\tqueue\tamq.gen-5hNzVPzjk0HHuj9TCfVvHw\t[]\r\n",
      "\texchange\tamq.gen-RhuLmneWWdCahw5RvWJBAQ\tqueue\tamq.gen-RhuLmneWWdCahw5RvWJBAQ\t[]\r\n",
      "\texchange\tamq.gen-_fNZavjKI_BhNaV4d-fOBw\tqueue\tamq.gen-_fNZavjKI_BhNaV4d-fOBw\t[]\r\n",
      "direct_pings\texchange\tamq.gen-RhuLmneWWdCahw5RvWJBAQ\tqueue\tping_queue\t[]\r\n",
      "direct_pings\texchange\tamq.gen-RhuLmneWWdCahw5RvWJBAQ\tqueue\trouting_172.31.14.37_11770\t[]\r\n",
      "direct_pings\texchange\tamq.gen-_fNZavjKI_BhNaV4d-fOBw\tqueue\tping_queue\t[]\r\n",
      "direct_pings\texchange\tamq.gen-_fNZavjKI_BhNaV4d-fOBw\tqueue\trouting_172.31.14.37_12986\t[]\r\n"
     ]
    }
   ],
   "source": [
    "!sudo rabbitmqctl list_bindings"
   ]
  },
  {
   "cell_type": "code",
   "execution_count": 10,
   "metadata": {},
   "outputs": [
    {
     "data": {
      "text/plain": [
       "[b'{\"task\": \"Ping!\", \"result\": \"routing_172.31.14.37_11770\"}',\n",
       " b'{\"task\": \"Ping!\", \"result\": \"routing_172.31.14.37_12986\"}']"
      ]
     },
     "execution_count": 10,
     "metadata": {},
     "output_type": "execute_result"
    }
   ],
   "source": [
    "talkToWorkersClient_instance.responses"
   ]
  },
  {
   "cell_type": "code",
   "execution_count": 11,
   "metadata": {},
   "outputs": [
    {
     "name": "stdout",
     "output_type": "stream",
     "text": [
      "corr_id: d9638c91-5348-4108-8810-0d6b44a033ce\n",
      "b'{\"task\": \"Ping!\", \"result\": \"routing_172.31.14.37_11770\"}'\n",
      "b'{\"task\": \"Ping!\", \"result\": \"routing_172.31.14.37_12986\"}'\n",
      "b'{\"task\": \"Ping!\", \"result\": \"routing_172.31.14.37_12986\"}'\n"
     ]
    }
   ],
   "source": [
    "response = talkToWorkersClient_instance.ping_workers()\n",
    "print(response)"
   ]
  },
  {
   "cell_type": "code",
   "execution_count": 12,
   "metadata": {},
   "outputs": [
    {
     "data": {
      "text/plain": [
       "[b'{\"task\": \"Ping!\", \"result\": \"routing_172.31.14.37_11770\"}',\n",
       " b'{\"task\": \"Ping!\", \"result\": \"routing_172.31.14.37_12986\"}']"
      ]
     },
     "execution_count": 12,
     "metadata": {},
     "output_type": "execute_result"
    }
   ],
   "source": [
    "talkToWorkersClient_instance.responses"
   ]
  },
  {
   "cell_type": "code",
   "execution_count": 13,
   "metadata": {},
   "outputs": [
    {
     "name": "stdout",
     "output_type": "stream",
     "text": [
      "Listing channels ...\r\n",
      "<rabbit@ip-172-31-14-37.3.5652.9>\tmyguest\t1\t0\r\n",
      "<rabbit@ip-172-31-14-37.3.5897.9>\tmyguest\t1\t0\r\n",
      "<rabbit@ip-172-31-14-37.3.6839.9>\tmyguest\t1\t0\r\n"
     ]
    }
   ],
   "source": [
    "!sudo rabbitmqctl list_channels"
   ]
  },
  {
   "cell_type": "code",
   "execution_count": 14,
   "metadata": {},
   "outputs": [
    {
     "data": {
      "text/plain": [
       "'{\"task\": \"Ping!\", \"result\": \"routing_172.31.14.37_11770\"}'"
      ]
     },
     "execution_count": 14,
     "metadata": {},
     "output_type": "execute_result"
    }
   ],
   "source": [
    "talkToWorkersClient_instance.responses[0].decode('ascii')"
   ]
  },
  {
   "cell_type": "code",
   "execution_count": 15,
   "metadata": {},
   "outputs": [],
   "source": [
    "worker_routing=json.loads(talkToWorkersClient_instance.responses[0])['result']"
   ]
  },
  {
   "cell_type": "code",
   "execution_count": 16,
   "metadata": {},
   "outputs": [
    {
     "name": "stdout",
     "output_type": "stream",
     "text": [
      "corr_id: d57cdcaf-2201-42be-8829-f8b811f5e50a\n",
      "b'{\"task\": \"Fib\", \"result\": \"377\"}'\n"
     ]
    },
    {
     "data": {
      "text/plain": [
       "b'{\"task\": \"Fib\", \"result\": \"377\"}'"
      ]
     },
     "execution_count": 16,
     "metadata": {},
     "output_type": "execute_result"
    }
   ],
   "source": [
    "talkToWorkersClient_instance.send_task2worker(worker_routing,14)"
   ]
  },
  {
   "cell_type": "code",
   "execution_count": 17,
   "metadata": {},
   "outputs": [
    {
     "data": {
      "text/plain": [
       "b'{\"task\": \"Ping!\", \"result\": \"routing_172.31.14.37_11770\"}'"
      ]
     },
     "execution_count": 17,
     "metadata": {},
     "output_type": "execute_result"
    }
   ],
   "source": [
    "talkToWorkersClient_instance.responses[0]"
   ]
  },
  {
   "cell_type": "code",
   "execution_count": 18,
   "metadata": {},
   "outputs": [
    {
     "name": "stdout",
     "output_type": "stream",
     "text": [
      "routing_172.31.14.37_12986\n"
     ]
    }
   ],
   "source": [
    "worker_routing=json.loads(talkToWorkersClient_instance.responses[1])['result']\n",
    "print(worker_routing)"
   ]
  },
  {
   "cell_type": "code",
   "execution_count": 19,
   "metadata": {},
   "outputs": [
    {
     "name": "stdout",
     "output_type": "stream",
     "text": [
      "corr_id: 5facc5bc-ae7b-422b-bbcf-459472a2466e\n",
      "b'{\"task\": \"Fib\", \"result\": \"144\"}'\n"
     ]
    },
    {
     "data": {
      "text/plain": [
       "b'{\"task\": \"Fib\", \"result\": \"144\"}'"
      ]
     },
     "execution_count": 19,
     "metadata": {},
     "output_type": "execute_result"
    }
   ],
   "source": [
    "talkToWorkersClient_instance.send_task2worker(worker_routing,12)"
   ]
  },
  {
   "cell_type": "code",
   "execution_count": null,
   "metadata": {},
   "outputs": [],
   "source": []
  }
 ],
 "metadata": {
  "kernelspec": {
   "display_name": "Environment (conda_python3)",
   "language": "python",
   "name": "conda_python3"
  },
  "language_info": {
   "codemirror_mode": {
    "name": "ipython",
    "version": 3
   },
   "file_extension": ".py",
   "mimetype": "text/x-python",
   "name": "python",
   "nbconvert_exporter": "python",
   "pygments_lexer": "ipython3",
   "version": "3.6.5"
  }
 },
 "nbformat": 4,
 "nbformat_minor": 2
}
