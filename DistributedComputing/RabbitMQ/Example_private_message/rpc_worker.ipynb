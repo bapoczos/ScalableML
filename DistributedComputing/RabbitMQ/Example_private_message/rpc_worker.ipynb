{
 "cells": [
  {
   "cell_type": "code",
   "execution_count": 11,
   "metadata": {},
   "outputs": [],
   "source": [
    "#!pip install --upgrade pika"
   ]
  },
  {
   "cell_type": "code",
   "execution_count": 12,
   "metadata": {},
   "outputs": [
    {
     "data": {
      "text/plain": [
       "'1.1.0'"
      ]
     },
     "execution_count": 12,
     "metadata": {},
     "output_type": "execute_result"
    }
   ],
   "source": [
    "import pika\n",
    "pika.__version__"
   ]
  },
  {
   "cell_type": "code",
   "execution_count": 13,
   "metadata": {},
   "outputs": [
    {
     "name": "stdout",
     "output_type": "stream",
     "text": [
      "Creating user \"myguest\" ...\n",
      "Setting permissions for user \"myguest\" in vhost \"/\" ...\n"
     ]
    }
   ],
   "source": [
    "#!sudo rabbitmqctl add_user myguest myguestpwd\n",
    "#!sudo rabbitmqctl set_permissions -p / myguest \".\" \".\" \".*\""
   ]
  },
  {
   "cell_type": "code",
   "execution_count": 14,
   "metadata": {},
   "outputs": [
    {
     "name": "stdout",
     "output_type": "stream",
     "text": [
      "Listing users ...\r\n",
      "guest\t[administrator]\r\n",
      "myguest\t[]\r\n"
     ]
    }
   ],
   "source": [
    "!sudo rabbitmqctl list_users"
   ]
  },
  {
   "cell_type": "code",
   "execution_count": 15,
   "metadata": {},
   "outputs": [
    {
     "name": "stdout",
     "output_type": "stream",
     "text": [
      "Listing bindings ...\r\n"
     ]
    }
   ],
   "source": [
    "!sudo rabbitmqctl list_bindings"
   ]
  },
  {
   "cell_type": "code",
   "execution_count": 16,
   "metadata": {},
   "outputs": [
    {
     "name": "stdout",
     "output_type": "stream",
     "text": [
      "Listing exchanges ...\r\n",
      "\tdirect\r\n",
      "amq.direct\tdirect\r\n",
      "amq.fanout\tfanout\r\n",
      "amq.headers\theaders\r\n",
      "amq.match\theaders\r\n",
      "amq.rabbitmq.log\ttopic\r\n",
      "amq.rabbitmq.trace\ttopic\r\n",
      "amq.topic\ttopic\r\n"
     ]
    }
   ],
   "source": [
    "!sudo rabbitmqctl list_exchanges"
   ]
  },
  {
   "cell_type": "code",
   "execution_count": 17,
   "metadata": {},
   "outputs": [],
   "source": [
    "credentials = pika.PlainCredentials('myguest', 'myguestpwd')\n",
    "#URL='localhost'\n",
    "URL='PROD-JOB-844fd7d2202ac4da.elb.us-east-2.amazonaws.com'\n",
    "parameters =  pika.ConnectionParameters(URL, port=5672, credentials=credentials)\n",
    "connection = pika.BlockingConnection(parameters)\n",
    "channel = connection.channel()\n",
    "exchangeName = 'direct_pings'"
   ]
  },
  {
   "cell_type": "code",
   "execution_count": 18,
   "metadata": {},
   "outputs": [],
   "source": [
    "def fib(n):\n",
    "    if n == 0:\n",
    "        return 0\n",
    "    elif n == 1:\n",
    "        return 1\n",
    "    else:\n",
    "        return fib(n - 1) + fib(n - 2)"
   ]
  },
  {
   "cell_type": "code",
   "execution_count": 19,
   "metadata": {},
   "outputs": [],
   "source": [
    "def on_request(ch, method, props, body):\n",
    "    n = int(body) # body is the message to the worker. We want to calculate Fib(n)\n",
    "\n",
    "    print(\" I need to calculate fib(%s)\" % n)\n",
    "    \n",
    "    print('ch:', ch)\n",
    "    print('method:', method)\n",
    "    print('props:', props)\n",
    "    \n",
    "    print('props.reply_to:', props.reply_to)\n",
    "    print('props.correlation_id:', props.correlation_id)\n",
    "    \n",
    "    response = fib(n) # Results, Fib(n), calculated\n",
    "    \n",
    "    # We need to send back the results to the client\n",
    "    ch.basic_publish(exchange='', # Default exchange\n",
    "                     routing_key=props.reply_to, # This is the routing key to the queue that we use for sending the answer\n",
    "                     #use the same correlation_id so the client knows that this is a reply to what message\n",
    "                     properties=pika.BasicProperties(correlation_id = props.correlation_id), \n",
    "                     body=str(response))\n",
    "    #ch.basic_ack(delivery_tag=method.delivery_tag)\n",
    "    print(\" Fib(%s) Calculation done. Results sent back to the server\" % n)\n",
    "    print(\" *** \\n\")\n"
   ]
  },
  {
   "cell_type": "code",
   "execution_count": 20,
   "metadata": {},
   "outputs": [
    {
     "data": {
      "text/plain": [
       "<METHOD(['channel_number=1', 'frame_type=1', 'method=<Queue.BindOk>'])>"
      ]
     },
     "execution_count": 20,
     "metadata": {},
     "output_type": "execute_result"
    }
   ],
   "source": [
    "channel.exchange_declare(exchange=exchangeName, exchange_type='direct')\n",
    "\n",
    "result = channel.queue_declare(queue='', exclusive=True)\n",
    "queue_name = result.method.queue\n",
    "\n",
    "channel.queue_bind(exchange=exchangeName, queue=queue_name,routing_key='rpc_queue')\n",
    "\n",
    "#channel.basic_qos(prefetch_count=1)\n"
   ]
  },
  {
   "cell_type": "code",
   "execution_count": 21,
   "metadata": {},
   "outputs": [
    {
     "data": {
      "text/plain": [
       "'ctag1.ac7489dad9f54f7897309f1185fed9c2'"
      ]
     },
     "execution_count": 21,
     "metadata": {},
     "output_type": "execute_result"
    }
   ],
   "source": [
    "#When the worker receives a message it will tun the \"on_request\" call back function\n",
    "channel.basic_consume(queue=queue_name, on_message_callback=on_request, auto_ack=True)  "
   ]
  },
  {
   "cell_type": "code",
   "execution_count": null,
   "metadata": {},
   "outputs": [
    {
     "name": "stdout",
     "output_type": "stream",
     "text": [
      " [x] Awaiting RPC requests\n",
      " I need to calculate fib(30)\n",
      "ch: <BlockingChannel impl=<Channel number=1 OPEN conn=<SelectConnection OPEN transport=<pika.adapters.utils.io_services_utils._AsyncPlaintextTransport object at 0x7f078cecac50> params=<ConnectionParameters host=PROD-JOB-844fd7d2202ac4da.elb.us-east-2.amazonaws.com port=5672 virtual_host=/ ssl=False>>>>\n",
      "method: <Basic.Deliver(['consumer_tag=ctag1.ac7489dad9f54f7897309f1185fed9c2', 'delivery_tag=1', 'exchange=direct_pings', 'redelivered=False', 'routing_key=rpc_queue'])>\n",
      "props: <BasicProperties(['content_type=text/plain', 'correlation_id=3276de27-7c7b-4f61-9aea-666aa4f7f211', 'delivery_mode=1', 'reply_to=amq.gen-JB1qmad_v6KbZQELdv9P0w'])>\n",
      "props.reply_to: amq.gen-JB1qmad_v6KbZQELdv9P0w\n",
      "props.correlation_id: 3276de27-7c7b-4f61-9aea-666aa4f7f211\n",
      " Fib(30) Calculation done. Results sent back to the server\n",
      " *** \n",
      "\n",
      " I need to calculate fib(20)\n",
      "ch: <BlockingChannel impl=<Channel number=1 OPEN conn=<SelectConnection OPEN transport=<pika.adapters.utils.io_services_utils._AsyncPlaintextTransport object at 0x7f078cecac50> params=<ConnectionParameters host=PROD-JOB-844fd7d2202ac4da.elb.us-east-2.amazonaws.com port=5672 virtual_host=/ ssl=False>>>>\n",
      "method: <Basic.Deliver(['consumer_tag=ctag1.ac7489dad9f54f7897309f1185fed9c2', 'delivery_tag=2', 'exchange=direct_pings', 'redelivered=False', 'routing_key=rpc_queue'])>\n",
      "props: <BasicProperties(['content_type=text/plain', 'correlation_id=de9aecf0-4f38-4f9f-8ce4-3bcfb5a33801', 'delivery_mode=1', 'reply_to=amq.gen-JB1qmad_v6KbZQELdv9P0w'])>\n",
      "props.reply_to: amq.gen-JB1qmad_v6KbZQELdv9P0w\n",
      "props.correlation_id: de9aecf0-4f38-4f9f-8ce4-3bcfb5a33801\n",
      " Fib(20) Calculation done. Results sent back to the server\n",
      " *** \n",
      "\n",
      " I need to calculate fib(14)\n",
      "ch: <BlockingChannel impl=<Channel number=1 OPEN conn=<SelectConnection OPEN transport=<pika.adapters.utils.io_services_utils._AsyncPlaintextTransport object at 0x7f078cecac50> params=<ConnectionParameters host=PROD-JOB-844fd7d2202ac4da.elb.us-east-2.amazonaws.com port=5672 virtual_host=/ ssl=False>>>>\n",
      "method: <Basic.Deliver(['consumer_tag=ctag1.ac7489dad9f54f7897309f1185fed9c2', 'delivery_tag=3', 'exchange=direct_pings', 'redelivered=False', 'routing_key=rpc_queue'])>\n",
      "props: <BasicProperties(['content_type=text/plain', 'correlation_id=034c22fa-86a6-4b38-ae4f-945f47549c52', 'delivery_mode=1', 'reply_to=amq.gen-JB1qmad_v6KbZQELdv9P0w'])>\n",
      "props.reply_to: amq.gen-JB1qmad_v6KbZQELdv9P0w\n",
      "props.correlation_id: 034c22fa-86a6-4b38-ae4f-945f47549c52\n",
      " Fib(14) Calculation done. Results sent back to the server\n",
      " *** \n",
      "\n"
     ]
    }
   ],
   "source": [
    "print(\" [x] Awaiting RPC requests\")\n",
    "channel.start_consuming()"
   ]
  },
  {
   "cell_type": "code",
   "execution_count": null,
   "metadata": {},
   "outputs": [],
   "source": []
  }
 ],
 "metadata": {
  "kernelspec": {
   "display_name": "Environment (conda_python3)",
   "language": "python",
   "name": "conda_python3"
  },
  "language_info": {
   "codemirror_mode": {
    "name": "ipython",
    "version": 3
   },
   "file_extension": ".py",
   "mimetype": "text/x-python",
   "name": "python",
   "nbconvert_exporter": "python",
   "pygments_lexer": "ipython3",
   "version": "3.6.5"
  }
 },
 "nbformat": 4,
 "nbformat_minor": 2
}
