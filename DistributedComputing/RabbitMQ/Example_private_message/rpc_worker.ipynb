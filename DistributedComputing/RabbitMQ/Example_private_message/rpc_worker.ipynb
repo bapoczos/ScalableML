{
 "cells": [
  {
   "cell_type": "code",
   "execution_count": 1,
   "metadata": {},
   "outputs": [],
   "source": [
    "#!pip install --upgrade pika"
   ]
  },
  {
   "cell_type": "code",
   "execution_count": 2,
   "metadata": {},
   "outputs": [],
   "source": [
    "from billiard import current_process\n",
    "import time\n",
    "import math\n",
    "import socket\n",
    "import numpy as np\n",
    "import os\n",
    "import random"
   ]
  },
  {
   "cell_type": "code",
   "execution_count": 3,
   "metadata": {},
   "outputs": [
    {
     "data": {
      "text/plain": [
       "'1.1.0'"
      ]
     },
     "execution_count": 3,
     "metadata": {},
     "output_type": "execute_result"
    }
   ],
   "source": [
    "import pika\n",
    "pika.__version__"
   ]
  },
  {
   "cell_type": "code",
   "execution_count": 4,
   "metadata": {},
   "outputs": [],
   "source": [
    "#!sudo rabbitmqctl add_user myguest myguestpwd\n",
    "#!sudo rabbitmqctl set_permissions -p / myguest \".\" \".\" \".*\""
   ]
  },
  {
   "cell_type": "code",
   "execution_count": 5,
   "metadata": {},
   "outputs": [
    {
     "name": "stdout",
     "output_type": "stream",
     "text": [
      "Listing users ...\r\n",
      "guest\t[administrator]\r\n",
      "myguest\t[]\r\n"
     ]
    }
   ],
   "source": [
    "!sudo rabbitmqctl list_users"
   ]
  },
  {
   "cell_type": "code",
   "execution_count": 6,
   "metadata": {},
   "outputs": [
    {
     "name": "stdout",
     "output_type": "stream",
     "text": [
      "Listing bindings ...\r\n",
      "\texchange\tamq.gen-vbQdJOYlGUaM4EhbdctsLQ\tqueue\tamq.gen-vbQdJOYlGUaM4EhbdctsLQ\t[]\r\n",
      "direct_pings\texchange\tamq.gen-vbQdJOYlGUaM4EhbdctsLQ\tqueue\trpc_queue\t[]\r\n"
     ]
    }
   ],
   "source": [
    "!sudo rabbitmqctl list_bindings"
   ]
  },
  {
   "cell_type": "code",
   "execution_count": 7,
   "metadata": {},
   "outputs": [
    {
     "name": "stdout",
     "output_type": "stream",
     "text": [
      "Listing exchanges ...\r\n",
      "\tdirect\r\n",
      "amq.direct\tdirect\r\n",
      "amq.fanout\tfanout\r\n",
      "amq.headers\theaders\r\n",
      "amq.match\theaders\r\n",
      "amq.rabbitmq.log\ttopic\r\n",
      "amq.rabbitmq.trace\ttopic\r\n",
      "amq.topic\ttopic\r\n",
      "direct_pings\tdirect\r\n"
     ]
    }
   ],
   "source": [
    "!sudo rabbitmqctl list_exchanges"
   ]
  },
  {
   "cell_type": "code",
   "execution_count": 8,
   "metadata": {},
   "outputs": [],
   "source": [
    "credentials = pika.PlainCredentials('myguest', 'myguestpwd')\n",
    "#URL='localhost'\n",
    "URL='PROD-JOB-844fd7d2202ac4da.elb.us-east-2.amazonaws.com'\n",
    "parameters =  pika.ConnectionParameters(URL, port=5672, credentials=credentials)\n",
    "connection = pika.BlockingConnection(parameters)\n",
    "channel = connection.channel()\n",
    "exchangeName = 'direct_pings'"
   ]
  },
  {
   "cell_type": "code",
   "execution_count": 9,
   "metadata": {},
   "outputs": [],
   "source": [
    "def calculate_message(msg):\n",
    "    \n",
    "    process_name=current_process()._name\n",
    "    try:\n",
    "        process_index=str(current_process().index)\n",
    "    except:\n",
    "        process_index='_none_'\n",
    "    \n",
    "    tmpip= socket.gethostbyname(socket.gethostname())\n",
    "    \n",
    "    results=tmpip+' process_name: '+process_name+' process_index: '+process_index+' os_pid: '+str(os.getpid())+' time: '+str(time.time())+' message: '+str(msg)\n",
    "    \n",
    "    #time.sleep(random.uniform(0,7)) # Let us wait some random time to simulate that some jobs might take longer time\n",
    "    \n",
    "    return results\n",
    "\n",
    "    #if n == 0:\n",
    "    #    return 0\n",
    "    #elif n == 1:\n",
    "    #    return 1\n",
    "    #else:\n",
    "    #    return fib(n - 1) + fib(n - 2)"
   ]
  },
  {
   "cell_type": "code",
   "execution_count": 10,
   "metadata": {},
   "outputs": [],
   "source": [
    "def on_request(ch, method, props, body):\n",
    "    msg = str(body) # body is the message to the worker. We want to calculate Fib(n)\n",
    "\n",
    "    print(\" I just received message:\", msg)\n",
    "    \n",
    "    print('ch:', ch)\n",
    "    print('method:', method)\n",
    "    print('props:', props)\n",
    "    \n",
    "    print('props.reply_to:', props.reply_to)\n",
    "    print('props.correlation_id:', props.correlation_id)\n",
    "    \n",
    "    response = calculate_message(msg) # Results, Fib(n), calculated\n",
    "    \n",
    "    # We need to send back the results to the client\n",
    "    ch.basic_publish(exchange='', # Default exchange\n",
    "                     routing_key=props.reply_to, # This is the routing key to the queue that we use for sending the answer\n",
    "                     #use the same correlation_id so the client knows that this is a reply to what message\n",
    "                     properties=pika.BasicProperties(correlation_id = props.correlation_id), \n",
    "                     body=str(response))\n",
    "    #ch.basic_ack(delivery_tag=method.delivery_tag)\n",
    "    print(\" Calculations done. Results sent back to the server\")\n",
    "    print(\" *** \\n\")\n"
   ]
  },
  {
   "cell_type": "code",
   "execution_count": 11,
   "metadata": {},
   "outputs": [
    {
     "data": {
      "text/plain": [
       "<METHOD(['channel_number=1', 'frame_type=1', 'method=<Queue.BindOk>'])>"
      ]
     },
     "execution_count": 11,
     "metadata": {},
     "output_type": "execute_result"
    }
   ],
   "source": [
    "channel.exchange_declare(exchange=exchangeName, exchange_type='direct')\n",
    "\n",
    "result = channel.queue_declare(queue='', exclusive=True)\n",
    "queue_name = result.method.queue\n",
    "\n",
    "channel.queue_bind(exchange=exchangeName, queue=queue_name,routing_key='rpc_queue')\n",
    "\n",
    "#channel.basic_qos(prefetch_count=1)\n"
   ]
  },
  {
   "cell_type": "code",
   "execution_count": 12,
   "metadata": {},
   "outputs": [
    {
     "data": {
      "text/plain": [
       "'ctag1.7b0dfdae7e954913b5800614b30605b9'"
      ]
     },
     "execution_count": 12,
     "metadata": {},
     "output_type": "execute_result"
    }
   ],
   "source": [
    "#When the worker receives a message it will tun the \"on_request\" call back function\n",
    "channel.basic_consume(queue=queue_name, on_message_callback=on_request, auto_ack=True)  "
   ]
  },
  {
   "cell_type": "code",
   "execution_count": null,
   "metadata": {},
   "outputs": [
    {
     "name": "stdout",
     "output_type": "stream",
     "text": [
      " [x] Awaiting RPC requests\n",
      " I just received message: b'hi'\n",
      "ch: <BlockingChannel impl=<Channel number=1 OPEN conn=<SelectConnection OPEN transport=<pika.adapters.utils.io_services_utils._AsyncPlaintextTransport object at 0x7ff67c05d6d8> params=<ConnectionParameters host=PROD-JOB-844fd7d2202ac4da.elb.us-east-2.amazonaws.com port=5672 virtual_host=/ ssl=False>>>>\n",
      "method: <Basic.Deliver(['consumer_tag=ctag1.7b0dfdae7e954913b5800614b30605b9', 'delivery_tag=1', 'exchange=direct_pings', 'redelivered=False', 'routing_key=rpc_queue'])>\n",
      "props: <BasicProperties(['content_type=text/plain', 'correlation_id=10d9746b-ac5c-459b-9c02-dc7289931465', 'delivery_mode=1', 'reply_to=amq.gen-6-3BnoIcWTRp3sjv1Fhm6w'])>\n",
      "props.reply_to: amq.gen-6-3BnoIcWTRp3sjv1Fhm6w\n",
      "props.correlation_id: 10d9746b-ac5c-459b-9c02-dc7289931465\n",
      " Calculations done. Results sent back to the server\n",
      " *** \n",
      "\n",
      " I just received message: b'huh'\n",
      "ch: <BlockingChannel impl=<Channel number=1 OPEN conn=<SelectConnection OPEN transport=<pika.adapters.utils.io_services_utils._AsyncPlaintextTransport object at 0x7ff67c05d6d8> params=<ConnectionParameters host=PROD-JOB-844fd7d2202ac4da.elb.us-east-2.amazonaws.com port=5672 virtual_host=/ ssl=False>>>>\n",
      "method: <Basic.Deliver(['consumer_tag=ctag1.7b0dfdae7e954913b5800614b30605b9', 'delivery_tag=2', 'exchange=direct_pings', 'redelivered=False', 'routing_key=rpc_queue'])>\n",
      "props: <BasicProperties(['content_type=text/plain', 'correlation_id=cb883e8c-6fb9-41b0-9af7-dc2f1a2e6792', 'delivery_mode=1', 'reply_to=amq.gen-6-3BnoIcWTRp3sjv1Fhm6w'])>\n",
      "props.reply_to: amq.gen-6-3BnoIcWTRp3sjv1Fhm6w\n",
      "props.correlation_id: cb883e8c-6fb9-41b0-9af7-dc2f1a2e6792\n",
      " Calculations done. Results sent back to the server\n",
      " *** \n",
      "\n",
      " I just received message: b'mehh'\n",
      "ch: <BlockingChannel impl=<Channel number=1 OPEN conn=<SelectConnection OPEN transport=<pika.adapters.utils.io_services_utils._AsyncPlaintextTransport object at 0x7ff67c05d6d8> params=<ConnectionParameters host=PROD-JOB-844fd7d2202ac4da.elb.us-east-2.amazonaws.com port=5672 virtual_host=/ ssl=False>>>>\n",
      "method: <Basic.Deliver(['consumer_tag=ctag1.7b0dfdae7e954913b5800614b30605b9', 'delivery_tag=3', 'exchange=direct_pings', 'redelivered=False', 'routing_key=rpc_queue'])>\n",
      "props: <BasicProperties(['content_type=text/plain', 'correlation_id=8a5caa88-91fe-46b9-93a1-1ba7ee21af23', 'delivery_mode=1', 'reply_to=amq.gen-6-3BnoIcWTRp3sjv1Fhm6w'])>\n",
      "props.reply_to: amq.gen-6-3BnoIcWTRp3sjv1Fhm6w\n",
      "props.correlation_id: 8a5caa88-91fe-46b9-93a1-1ba7ee21af23\n",
      " Calculations done. Results sent back to the server\n",
      " *** \n",
      "\n",
      " I just received message: b'lalala'\n",
      "ch: <BlockingChannel impl=<Channel number=1 OPEN conn=<SelectConnection OPEN transport=<pika.adapters.utils.io_services_utils._AsyncPlaintextTransport object at 0x7ff67c05d6d8> params=<ConnectionParameters host=PROD-JOB-844fd7d2202ac4da.elb.us-east-2.amazonaws.com port=5672 virtual_host=/ ssl=False>>>>\n",
      "method: <Basic.Deliver(['consumer_tag=ctag1.7b0dfdae7e954913b5800614b30605b9', 'delivery_tag=4', 'exchange=direct_pings', 'redelivered=False', 'routing_key=rpc_queue'])>\n",
      "props: <BasicProperties(['content_type=text/plain', 'correlation_id=c7166ff9-c366-4a0e-abc3-c48996dd2e2a', 'delivery_mode=1', 'reply_to=amq.gen-6-3BnoIcWTRp3sjv1Fhm6w'])>\n",
      "props.reply_to: amq.gen-6-3BnoIcWTRp3sjv1Fhm6w\n",
      "props.correlation_id: c7166ff9-c366-4a0e-abc3-c48996dd2e2a\n",
      " Calculations done. Results sent back to the server\n",
      " *** \n",
      "\n",
      " I just received message: b'hey :)'\n",
      "ch: <BlockingChannel impl=<Channel number=1 OPEN conn=<SelectConnection OPEN transport=<pika.adapters.utils.io_services_utils._AsyncPlaintextTransport object at 0x7ff67c05d6d8> params=<ConnectionParameters host=PROD-JOB-844fd7d2202ac4da.elb.us-east-2.amazonaws.com port=5672 virtual_host=/ ssl=False>>>>\n",
      "method: <Basic.Deliver(['consumer_tag=ctag1.7b0dfdae7e954913b5800614b30605b9', 'delivery_tag=5', 'exchange=direct_pings', 'redelivered=False', 'routing_key=rpc_queue'])>\n",
      "props: <BasicProperties(['content_type=text/plain', 'correlation_id=bc491f36-dd91-496f-8624-cab75079f0a7', 'delivery_mode=1', 'reply_to=amq.gen-6-3BnoIcWTRp3sjv1Fhm6w'])>\n",
      "props.reply_to: amq.gen-6-3BnoIcWTRp3sjv1Fhm6w\n",
      "props.correlation_id: bc491f36-dd91-496f-8624-cab75079f0a7\n",
      " Calculations done. Results sent back to the server\n",
      " *** \n",
      "\n",
      " I just received message: b'hey :)'\n",
      "ch: <BlockingChannel impl=<Channel number=1 OPEN conn=<SelectConnection OPEN transport=<pika.adapters.utils.io_services_utils._AsyncPlaintextTransport object at 0x7ff67c05d6d8> params=<ConnectionParameters host=PROD-JOB-844fd7d2202ac4da.elb.us-east-2.amazonaws.com port=5672 virtual_host=/ ssl=False>>>>\n",
      "method: <Basic.Deliver(['consumer_tag=ctag1.7b0dfdae7e954913b5800614b30605b9', 'delivery_tag=6', 'exchange=direct_pings', 'redelivered=False', 'routing_key=rpc_queue'])>\n",
      "props: <BasicProperties(['content_type=text/plain', 'correlation_id=f26aa667-8985-4adb-8d09-626b9c609642', 'delivery_mode=1', 'reply_to=amq.gen-6-3BnoIcWTRp3sjv1Fhm6w'])>\n",
      "props.reply_to: amq.gen-6-3BnoIcWTRp3sjv1Fhm6w\n",
      "props.correlation_id: f26aa667-8985-4adb-8d09-626b9c609642\n",
      " Calculations done. Results sent back to the server\n",
      " *** \n",
      "\n",
      " I just received message: b'hey :)'\n",
      "ch: <BlockingChannel impl=<Channel number=1 OPEN conn=<SelectConnection OPEN transport=<pika.adapters.utils.io_services_utils._AsyncPlaintextTransport object at 0x7ff67c05d6d8> params=<ConnectionParameters host=PROD-JOB-844fd7d2202ac4da.elb.us-east-2.amazonaws.com port=5672 virtual_host=/ ssl=False>>>>\n",
      "method: <Basic.Deliver(['consumer_tag=ctag1.7b0dfdae7e954913b5800614b30605b9', 'delivery_tag=7', 'exchange=direct_pings', 'redelivered=False', 'routing_key=rpc_queue'])>\n",
      "props: <BasicProperties(['content_type=text/plain', 'correlation_id=837f147e-d93b-4f7a-ae75-88bfb084c93d', 'delivery_mode=1', 'reply_to=amq.gen-6-3BnoIcWTRp3sjv1Fhm6w'])>\n",
      "props.reply_to: amq.gen-6-3BnoIcWTRp3sjv1Fhm6w\n",
      "props.correlation_id: 837f147e-d93b-4f7a-ae75-88bfb084c93d\n",
      " Calculations done. Results sent back to the server\n",
      " *** \n",
      "\n",
      " I just received message: b'hey :)'\n",
      "ch: <BlockingChannel impl=<Channel number=1 OPEN conn=<SelectConnection OPEN transport=<pika.adapters.utils.io_services_utils._AsyncPlaintextTransport object at 0x7ff67c05d6d8> params=<ConnectionParameters host=PROD-JOB-844fd7d2202ac4da.elb.us-east-2.amazonaws.com port=5672 virtual_host=/ ssl=False>>>>\n",
      "method: <Basic.Deliver(['consumer_tag=ctag1.7b0dfdae7e954913b5800614b30605b9', 'delivery_tag=8', 'exchange=direct_pings', 'redelivered=False', 'routing_key=rpc_queue'])>\n",
      "props: <BasicProperties(['content_type=text/plain', 'correlation_id=d0eafcf7-5553-4a0c-8f54-98f19e0f7cda', 'delivery_mode=1', 'reply_to=amq.gen-6-3BnoIcWTRp3sjv1Fhm6w'])>\n",
      "props.reply_to: amq.gen-6-3BnoIcWTRp3sjv1Fhm6w\n",
      "props.correlation_id: d0eafcf7-5553-4a0c-8f54-98f19e0f7cda\n",
      " Calculations done. Results sent back to the server\n",
      " *** \n",
      "\n",
      " I just received message: b'hey :)'\n",
      "ch: <BlockingChannel impl=<Channel number=1 OPEN conn=<SelectConnection OPEN transport=<pika.adapters.utils.io_services_utils._AsyncPlaintextTransport object at 0x7ff67c05d6d8> params=<ConnectionParameters host=PROD-JOB-844fd7d2202ac4da.elb.us-east-2.amazonaws.com port=5672 virtual_host=/ ssl=False>>>>\n",
      "method: <Basic.Deliver(['consumer_tag=ctag1.7b0dfdae7e954913b5800614b30605b9', 'delivery_tag=9', 'exchange=direct_pings', 'redelivered=False', 'routing_key=rpc_queue'])>\n",
      "props: <BasicProperties(['content_type=text/plain', 'correlation_id=9ad7eb89-a015-44db-981d-366ef63dba1e', 'delivery_mode=1', 'reply_to=amq.gen-6-3BnoIcWTRp3sjv1Fhm6w'])>\n",
      "props.reply_to: amq.gen-6-3BnoIcWTRp3sjv1Fhm6w\n",
      "props.correlation_id: 9ad7eb89-a015-44db-981d-366ef63dba1e\n",
      " Calculations done. Results sent back to the server\n",
      " *** \n",
      "\n",
      " I just received message: b'hey :)'\n",
      "ch: <BlockingChannel impl=<Channel number=1 OPEN conn=<SelectConnection OPEN transport=<pika.adapters.utils.io_services_utils._AsyncPlaintextTransport object at 0x7ff67c05d6d8> params=<ConnectionParameters host=PROD-JOB-844fd7d2202ac4da.elb.us-east-2.amazonaws.com port=5672 virtual_host=/ ssl=False>>>>\n",
      "method: <Basic.Deliver(['consumer_tag=ctag1.7b0dfdae7e954913b5800614b30605b9', 'delivery_tag=10', 'exchange=direct_pings', 'redelivered=False', 'routing_key=rpc_queue'])>\n",
      "props: <BasicProperties(['content_type=text/plain', 'correlation_id=bfb8c8f5-7847-4272-9663-ab8d803b8b57', 'delivery_mode=1', 'reply_to=amq.gen-6-3BnoIcWTRp3sjv1Fhm6w'])>\n",
      "props.reply_to: amq.gen-6-3BnoIcWTRp3sjv1Fhm6w\n",
      "props.correlation_id: bfb8c8f5-7847-4272-9663-ab8d803b8b57\n",
      " Calculations done. Results sent back to the server\n",
      " *** \n",
      "\n"
     ]
    },
    {
     "name": "stdout",
     "output_type": "stream",
     "text": [
      " I just received message: b'hey :)'\n",
      "ch: <BlockingChannel impl=<Channel number=1 OPEN conn=<SelectConnection OPEN transport=<pika.adapters.utils.io_services_utils._AsyncPlaintextTransport object at 0x7ff67c05d6d8> params=<ConnectionParameters host=PROD-JOB-844fd7d2202ac4da.elb.us-east-2.amazonaws.com port=5672 virtual_host=/ ssl=False>>>>\n",
      "method: <Basic.Deliver(['consumer_tag=ctag1.7b0dfdae7e954913b5800614b30605b9', 'delivery_tag=11', 'exchange=direct_pings', 'redelivered=False', 'routing_key=rpc_queue'])>\n",
      "props: <BasicProperties(['content_type=text/plain', 'correlation_id=373c5421-6857-408b-bd0d-bdd99827fe5d', 'delivery_mode=1', 'reply_to=amq.gen-6-3BnoIcWTRp3sjv1Fhm6w'])>\n",
      "props.reply_to: amq.gen-6-3BnoIcWTRp3sjv1Fhm6w\n",
      "props.correlation_id: 373c5421-6857-408b-bd0d-bdd99827fe5d\n",
      " Calculations done. Results sent back to the server\n",
      " *** \n",
      "\n",
      " I just received message: b'lalala'\n",
      "ch: <BlockingChannel impl=<Channel number=1 OPEN conn=<SelectConnection OPEN transport=<pika.adapters.utils.io_services_utils._AsyncPlaintextTransport object at 0x7ff67c05d6d8> params=<ConnectionParameters host=PROD-JOB-844fd7d2202ac4da.elb.us-east-2.amazonaws.com port=5672 virtual_host=/ ssl=False>>>>\n",
      "method: <Basic.Deliver(['consumer_tag=ctag1.7b0dfdae7e954913b5800614b30605b9', 'delivery_tag=12', 'exchange=direct_pings', 'redelivered=False', 'routing_key=rpc_queue'])>\n",
      "props: <BasicProperties(['content_type=text/plain', 'correlation_id=5ca07eef-99af-454c-bce4-24bdff6e65d7', 'delivery_mode=1', 'reply_to=amq.gen-6-3BnoIcWTRp3sjv1Fhm6w'])>\n",
      "props.reply_to: amq.gen-6-3BnoIcWTRp3sjv1Fhm6w\n",
      "props.correlation_id: 5ca07eef-99af-454c-bce4-24bdff6e65d7\n",
      " Calculations done. Results sent back to the server\n",
      " *** \n",
      "\n",
      " I just received message: b'mehh'\n",
      "ch: <BlockingChannel impl=<Channel number=1 OPEN conn=<SelectConnection OPEN transport=<pika.adapters.utils.io_services_utils._AsyncPlaintextTransport object at 0x7ff67c05d6d8> params=<ConnectionParameters host=PROD-JOB-844fd7d2202ac4da.elb.us-east-2.amazonaws.com port=5672 virtual_host=/ ssl=False>>>>\n",
      "method: <Basic.Deliver(['consumer_tag=ctag1.7b0dfdae7e954913b5800614b30605b9', 'delivery_tag=13', 'exchange=direct_pings', 'redelivered=False', 'routing_key=rpc_queue'])>\n",
      "props: <BasicProperties(['content_type=text/plain', 'correlation_id=60ffa45b-b01e-4c84-a177-10d7b78531e1', 'delivery_mode=1', 'reply_to=amq.gen-6-3BnoIcWTRp3sjv1Fhm6w'])>\n",
      "props.reply_to: amq.gen-6-3BnoIcWTRp3sjv1Fhm6w\n",
      "props.correlation_id: 60ffa45b-b01e-4c84-a177-10d7b78531e1\n",
      " Calculations done. Results sent back to the server\n",
      " *** \n",
      "\n",
      " I just received message: b'hmm :)'\n",
      "ch: <BlockingChannel impl=<Channel number=1 OPEN conn=<SelectConnection OPEN transport=<pika.adapters.utils.io_services_utils._AsyncPlaintextTransport object at 0x7ff67c05d6d8> params=<ConnectionParameters host=PROD-JOB-844fd7d2202ac4da.elb.us-east-2.amazonaws.com port=5672 virtual_host=/ ssl=False>>>>\n",
      "method: <Basic.Deliver(['consumer_tag=ctag1.7b0dfdae7e954913b5800614b30605b9', 'delivery_tag=14', 'exchange=direct_pings', 'redelivered=False', 'routing_key=rpc_queue'])>\n",
      "props: <BasicProperties(['content_type=text/plain', 'correlation_id=c58e90c2-5c58-4f82-83c6-404464dfe249', 'delivery_mode=1', 'reply_to=amq.gen-6-3BnoIcWTRp3sjv1Fhm6w'])>\n",
      "props.reply_to: amq.gen-6-3BnoIcWTRp3sjv1Fhm6w\n",
      "props.correlation_id: c58e90c2-5c58-4f82-83c6-404464dfe249\n",
      " Calculations done. Results sent back to the server\n",
      " *** \n",
      "\n",
      " I just received message: b'hi'\n",
      "ch: <BlockingChannel impl=<Channel number=1 OPEN conn=<SelectConnection OPEN transport=<pika.adapters.utils.io_services_utils._AsyncPlaintextTransport object at 0x7ff67c05d6d8> params=<ConnectionParameters host=PROD-JOB-844fd7d2202ac4da.elb.us-east-2.amazonaws.com port=5672 virtual_host=/ ssl=False>>>>\n",
      "method: <Basic.Deliver(['consumer_tag=ctag1.7b0dfdae7e954913b5800614b30605b9', 'delivery_tag=15', 'exchange=direct_pings', 'redelivered=False', 'routing_key=rpc_queue'])>\n",
      "props: <BasicProperties(['content_type=text/plain', 'correlation_id=b6700f2f-0bb0-490c-a1f8-0f37f7dd12ff', 'delivery_mode=1', 'reply_to=amq.gen-Sv7AtFiRX0s0VTcJrSCLMQ'])>\n",
      "props.reply_to: amq.gen-Sv7AtFiRX0s0VTcJrSCLMQ\n",
      "props.correlation_id: b6700f2f-0bb0-490c-a1f8-0f37f7dd12ff\n",
      " Calculations done. Results sent back to the server\n",
      " *** \n",
      "\n",
      " I just received message: b'huh'\n",
      "ch: <BlockingChannel impl=<Channel number=1 OPEN conn=<SelectConnection OPEN transport=<pika.adapters.utils.io_services_utils._AsyncPlaintextTransport object at 0x7ff67c05d6d8> params=<ConnectionParameters host=PROD-JOB-844fd7d2202ac4da.elb.us-east-2.amazonaws.com port=5672 virtual_host=/ ssl=False>>>>\n",
      "method: <Basic.Deliver(['consumer_tag=ctag1.7b0dfdae7e954913b5800614b30605b9', 'delivery_tag=16', 'exchange=direct_pings', 'redelivered=False', 'routing_key=rpc_queue'])>\n",
      "props: <BasicProperties(['content_type=text/plain', 'correlation_id=34aeae03-2d2b-4729-94aa-35f45007410e', 'delivery_mode=1', 'reply_to=amq.gen-Sv7AtFiRX0s0VTcJrSCLMQ'])>\n",
      "props.reply_to: amq.gen-Sv7AtFiRX0s0VTcJrSCLMQ\n",
      "props.correlation_id: 34aeae03-2d2b-4729-94aa-35f45007410e\n",
      " Calculations done. Results sent back to the server\n",
      " *** \n",
      "\n",
      " I just received message: b'mehh'\n",
      "ch: <BlockingChannel impl=<Channel number=1 OPEN conn=<SelectConnection OPEN transport=<pika.adapters.utils.io_services_utils._AsyncPlaintextTransport object at 0x7ff67c05d6d8> params=<ConnectionParameters host=PROD-JOB-844fd7d2202ac4da.elb.us-east-2.amazonaws.com port=5672 virtual_host=/ ssl=False>>>>\n",
      "method: <Basic.Deliver(['consumer_tag=ctag1.7b0dfdae7e954913b5800614b30605b9', 'delivery_tag=17', 'exchange=direct_pings', 'redelivered=False', 'routing_key=rpc_queue'])>\n",
      "props: <BasicProperties(['content_type=text/plain', 'correlation_id=e6d91786-bc1a-4190-a555-872ba93ce107', 'delivery_mode=1', 'reply_to=amq.gen-Sv7AtFiRX0s0VTcJrSCLMQ'])>\n",
      "props.reply_to: amq.gen-Sv7AtFiRX0s0VTcJrSCLMQ\n",
      "props.correlation_id: e6d91786-bc1a-4190-a555-872ba93ce107\n",
      " Calculations done. Results sent back to the server\n",
      " *** \n",
      "\n",
      " I just received message: b'lalala'\n",
      "ch: <BlockingChannel impl=<Channel number=1 OPEN conn=<SelectConnection OPEN transport=<pika.adapters.utils.io_services_utils._AsyncPlaintextTransport object at 0x7ff67c05d6d8> params=<ConnectionParameters host=PROD-JOB-844fd7d2202ac4da.elb.us-east-2.amazonaws.com port=5672 virtual_host=/ ssl=False>>>>\n",
      "method: <Basic.Deliver(['consumer_tag=ctag1.7b0dfdae7e954913b5800614b30605b9', 'delivery_tag=18', 'exchange=direct_pings', 'redelivered=False', 'routing_key=rpc_queue'])>\n",
      "props: <BasicProperties(['content_type=text/plain', 'correlation_id=53b7af93-4ac8-40ba-ae28-9a8145711d4d', 'delivery_mode=1', 'reply_to=amq.gen-Sv7AtFiRX0s0VTcJrSCLMQ'])>\n",
      "props.reply_to: amq.gen-Sv7AtFiRX0s0VTcJrSCLMQ\n",
      "props.correlation_id: 53b7af93-4ac8-40ba-ae28-9a8145711d4d\n",
      " Calculations done. Results sent back to the server\n",
      " *** \n",
      "\n",
      " I just received message: b'lalala'\n",
      "ch: <BlockingChannel impl=<Channel number=1 OPEN conn=<SelectConnection OPEN transport=<pika.adapters.utils.io_services_utils._AsyncPlaintextTransport object at 0x7ff67c05d6d8> params=<ConnectionParameters host=PROD-JOB-844fd7d2202ac4da.elb.us-east-2.amazonaws.com port=5672 virtual_host=/ ssl=False>>>>\n",
      "method: <Basic.Deliver(['consumer_tag=ctag1.7b0dfdae7e954913b5800614b30605b9', 'delivery_tag=19', 'exchange=direct_pings', 'redelivered=False', 'routing_key=rpc_queue'])>\n",
      "props: <BasicProperties(['content_type=text/plain', 'correlation_id=bba61032-31c5-4614-9871-3ac1dacab663', 'delivery_mode=1', 'reply_to=amq.gen-Sv7AtFiRX0s0VTcJrSCLMQ'])>\n",
      "props.reply_to: amq.gen-Sv7AtFiRX0s0VTcJrSCLMQ\n",
      "props.correlation_id: bba61032-31c5-4614-9871-3ac1dacab663\n",
      " Calculations done. Results sent back to the server\n",
      " *** \n",
      "\n",
      " I just received message: b'lalala'\n",
      "ch: <BlockingChannel impl=<Channel number=1 OPEN conn=<SelectConnection OPEN transport=<pika.adapters.utils.io_services_utils._AsyncPlaintextTransport object at 0x7ff67c05d6d8> params=<ConnectionParameters host=PROD-JOB-844fd7d2202ac4da.elb.us-east-2.amazonaws.com port=5672 virtual_host=/ ssl=False>>>>\n",
      "method: <Basic.Deliver(['consumer_tag=ctag1.7b0dfdae7e954913b5800614b30605b9', 'delivery_tag=20', 'exchange=direct_pings', 'redelivered=False', 'routing_key=rpc_queue'])>\n",
      "props: <BasicProperties(['content_type=text/plain', 'correlation_id=e243eccd-d5df-400f-9187-febf85c13b17', 'delivery_mode=1', 'reply_to=amq.gen-Sv7AtFiRX0s0VTcJrSCLMQ'])>\n",
      "props.reply_to: amq.gen-Sv7AtFiRX0s0VTcJrSCLMQ\n",
      "props.correlation_id: e243eccd-d5df-400f-9187-febf85c13b17\n",
      " Calculations done. Results sent back to the server\n",
      " *** \n",
      "\n"
     ]
    },
    {
     "name": "stdout",
     "output_type": "stream",
     "text": [
      " I just received message: b'lalala'\n",
      "ch: <BlockingChannel impl=<Channel number=1 OPEN conn=<SelectConnection OPEN transport=<pika.adapters.utils.io_services_utils._AsyncPlaintextTransport object at 0x7ff67c05d6d8> params=<ConnectionParameters host=PROD-JOB-844fd7d2202ac4da.elb.us-east-2.amazonaws.com port=5672 virtual_host=/ ssl=False>>>>\n",
      "method: <Basic.Deliver(['consumer_tag=ctag1.7b0dfdae7e954913b5800614b30605b9', 'delivery_tag=21', 'exchange=direct_pings', 'redelivered=False', 'routing_key=rpc_queue'])>\n",
      "props: <BasicProperties(['content_type=text/plain', 'correlation_id=529d18f7-9706-4fae-a8e1-eb5df2e0f8c6', 'delivery_mode=1', 'reply_to=amq.gen-Sv7AtFiRX0s0VTcJrSCLMQ'])>\n",
      "props.reply_to: amq.gen-Sv7AtFiRX0s0VTcJrSCLMQ\n",
      "props.correlation_id: 529d18f7-9706-4fae-a8e1-eb5df2e0f8c6\n",
      " Calculations done. Results sent back to the server\n",
      " *** \n",
      "\n",
      " I just received message: b'hmm'\n",
      "ch: <BlockingChannel impl=<Channel number=1 OPEN conn=<SelectConnection OPEN transport=<pika.adapters.utils.io_services_utils._AsyncPlaintextTransport object at 0x7ff67c05d6d8> params=<ConnectionParameters host=PROD-JOB-844fd7d2202ac4da.elb.us-east-2.amazonaws.com port=5672 virtual_host=/ ssl=False>>>>\n",
      "method: <Basic.Deliver(['consumer_tag=ctag1.7b0dfdae7e954913b5800614b30605b9', 'delivery_tag=22', 'exchange=direct_pings', 'redelivered=False', 'routing_key=rpc_queue'])>\n",
      "props: <BasicProperties(['content_type=text/plain', 'correlation_id=bfffb612-b740-4318-8739-8566654ed953', 'delivery_mode=1', 'reply_to=amq.gen-Sv7AtFiRX0s0VTcJrSCLMQ'])>\n",
      "props.reply_to: amq.gen-Sv7AtFiRX0s0VTcJrSCLMQ\n",
      "props.correlation_id: bfffb612-b740-4318-8739-8566654ed953\n",
      " Calculations done. Results sent back to the server\n",
      " *** \n",
      "\n"
     ]
    }
   ],
   "source": [
    "print(\" [x] Awaiting RPC requests\")\n",
    "channel.start_consuming()"
   ]
  },
  {
   "cell_type": "code",
   "execution_count": null,
   "metadata": {},
   "outputs": [],
   "source": []
  }
 ],
 "metadata": {
  "kernelspec": {
   "display_name": "Environment (conda_python3)",
   "language": "python",
   "name": "conda_python3"
  },
  "language_info": {
   "codemirror_mode": {
    "name": "ipython",
    "version": 3
   },
   "file_extension": ".py",
   "mimetype": "text/x-python",
   "name": "python",
   "nbconvert_exporter": "python",
   "pygments_lexer": "ipython3",
   "version": "3.6.5"
  }
 },
 "nbformat": 4,
 "nbformat_minor": 2
}
