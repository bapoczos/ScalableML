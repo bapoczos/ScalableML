{
 "cells": [
  {
   "cell_type": "code",
   "execution_count": 1,
   "metadata": {},
   "outputs": [],
   "source": [
    "#!pip install --upgrade pika"
   ]
  },
  {
   "cell_type": "code",
   "execution_count": 2,
   "metadata": {},
   "outputs": [],
   "source": [
    "from billiard import current_process\n",
    "import time\n",
    "import math\n",
    "import socket\n",
    "import numpy as np\n",
    "import os\n",
    "import random"
   ]
  },
  {
   "cell_type": "code",
   "execution_count": 3,
   "metadata": {},
   "outputs": [
    {
     "data": {
      "text/plain": [
       "'1.1.0'"
      ]
     },
     "execution_count": 3,
     "metadata": {},
     "output_type": "execute_result"
    }
   ],
   "source": [
    "import pika\n",
    "pika.__version__"
   ]
  },
  {
   "cell_type": "code",
   "execution_count": 4,
   "metadata": {},
   "outputs": [],
   "source": [
    "#!sudo rabbitmqctl add_user myguest myguestpwd\n",
    "#!sudo rabbitmqctl set_permissions -p / myguest \".\" \".\" \".*\""
   ]
  },
  {
   "cell_type": "code",
   "execution_count": 5,
   "metadata": {},
   "outputs": [
    {
     "name": "stdout",
     "output_type": "stream",
     "text": [
      "Listing users ...\n",
      "guest\t[administrator]\n",
      "myguest\t[]\n"
     ]
    }
   ],
   "source": [
    "!sudo rabbitmqctl list_users"
   ]
  },
  {
   "cell_type": "code",
   "execution_count": 6,
   "metadata": {},
   "outputs": [
    {
     "name": "stdout",
     "output_type": "stream",
     "text": [
      "Listing bindings ...\r\n",
      "\texchange\tamq.gen-RQxdupBnAkoybSBg4aGKWA\tqueue\tamq.gen-RQxdupBnAkoybSBg4aGKWA\t[]\r\n"
     ]
    }
   ],
   "source": [
    "!sudo rabbitmqctl list_bindings"
   ]
  },
  {
   "cell_type": "code",
   "execution_count": 7,
   "metadata": {},
   "outputs": [
    {
     "name": "stdout",
     "output_type": "stream",
     "text": [
      "Listing exchanges ...\r\n",
      "\tdirect\r\n",
      "amq.direct\tdirect\r\n",
      "amq.fanout\tfanout\r\n",
      "amq.headers\theaders\r\n",
      "amq.match\theaders\r\n",
      "amq.rabbitmq.log\ttopic\r\n",
      "amq.rabbitmq.trace\ttopic\r\n",
      "amq.topic\ttopic\r\n",
      "direct_pings\tdirect\r\n"
     ]
    }
   ],
   "source": [
    "!sudo rabbitmqctl list_exchanges"
   ]
  },
  {
   "cell_type": "code",
   "execution_count": 8,
   "metadata": {},
   "outputs": [],
   "source": [
    "credentials = pika.PlainCredentials('myguest', 'myguestpwd')\n",
    "#URL='localhost'\n",
    "URL='PROD-JOB-844fd7d2202ac4da.elb.us-east-2.amazonaws.com'\n",
    "parameters =  pika.ConnectionParameters(URL, port=5672, credentials=credentials)\n",
    "connection = pika.BlockingConnection(parameters)\n",
    "channel = connection.channel()\n",
    "exchangeName = 'direct_pings'"
   ]
  },
  {
   "cell_type": "code",
   "execution_count": 9,
   "metadata": {},
   "outputs": [],
   "source": [
    "def calculate_message(msg):\n",
    "    \n",
    "    process_name=current_process()._name\n",
    "    try:\n",
    "        process_index=str(current_process().index)\n",
    "    except:\n",
    "        process_index='_none_'\n",
    "    \n",
    "    tmpip= socket.gethostbyname(socket.gethostname())\n",
    "    \n",
    "    results=tmpip+' process_name: '+process_name+' process_index: '+process_index+' os_pid: '+str(os.getpid())+' time: '+str(time.time())+' message: '+str(msg)\n",
    "    \n",
    "    #time.sleep(random.uniform(0,7)) # Let us wait some random time to simulate that some jobs might take longer time\n",
    "    \n",
    "    return results\n",
    "\n",
    "    #if n == 0:\n",
    "    #    return 0\n",
    "    #elif n == 1:\n",
    "    #    return 1\n",
    "    #else:\n",
    "    #    return fib(n - 1) + fib(n - 2)"
   ]
  },
  {
   "cell_type": "code",
   "execution_count": 10,
   "metadata": {},
   "outputs": [],
   "source": [
    "def on_request(ch, method, props, body):\n",
    "    msg = str(body) # body is the message to the worker. We want to calculate Fib(n)\n",
    "\n",
    "    print(\" I just received message:\", msg)\n",
    "    \n",
    "    print('ch:', ch)\n",
    "    print('method:', method)\n",
    "    print('props:', props)\n",
    "    \n",
    "    print('props.reply_to:', props.reply_to)\n",
    "    print('props.correlation_id:', props.correlation_id)\n",
    "    \n",
    "    response = calculate_message(msg) # Results, Fib(n), calculated\n",
    "    \n",
    "    # We need to send back the results to the client\n",
    "    ch.basic_publish(exchange='', # Default exchange\n",
    "                     routing_key=props.reply_to, # This is the routing key to the queue that we use for sending the answer\n",
    "                     #use the same correlation_id so the client knows that this is a reply to what message\n",
    "                     properties=pika.BasicProperties(correlation_id = props.correlation_id), \n",
    "                     body=str(response))\n",
    "    #ch.basic_ack(delivery_tag=method.delivery_tag)\n",
    "    print(\" Calculations done. Results sent back to the server\")\n",
    "    print(\" *** \\n\")\n"
   ]
  },
  {
   "cell_type": "code",
   "execution_count": 11,
   "metadata": {},
   "outputs": [
    {
     "data": {
      "text/plain": [
       "<METHOD(['channel_number=1', 'frame_type=1', 'method=<Queue.BindOk>'])>"
      ]
     },
     "execution_count": 11,
     "metadata": {},
     "output_type": "execute_result"
    }
   ],
   "source": [
    "channel.exchange_declare(exchange=exchangeName, exchange_type='direct')\n",
    "\n",
    "result = channel.queue_declare(queue='', exclusive=True)\n",
    "queue_name = result.method.queue\n",
    "\n",
    "channel.queue_bind(exchange=exchangeName, queue=queue_name,routing_key='rpc_queue')\n",
    "\n",
    "#channel.basic_qos(prefetch_count=1)\n"
   ]
  },
  {
   "cell_type": "code",
   "execution_count": 12,
   "metadata": {},
   "outputs": [
    {
     "data": {
      "text/plain": [
       "'ctag1.9147dcc80b1f489ba282f2933c139624'"
      ]
     },
     "execution_count": 12,
     "metadata": {},
     "output_type": "execute_result"
    }
   ],
   "source": [
    "#When the worker receives a message it will tun the \"on_request\" call back function\n",
    "channel.basic_consume(queue=queue_name, on_message_callback=on_request, auto_ack=True)  "
   ]
  },
  {
   "cell_type": "code",
   "execution_count": null,
   "metadata": {},
   "outputs": [
    {
     "name": "stdout",
     "output_type": "stream",
     "text": [
      " [x] Awaiting RPC requests\n",
      " I just received message: b'hi'\n",
      "ch: <BlockingChannel impl=<Channel number=1 OPEN conn=<SelectConnection OPEN transport=<pika.adapters.utils.io_services_utils._AsyncPlaintextTransport object at 0x7f732f663908> params=<ConnectionParameters host=PROD-JOB-844fd7d2202ac4da.elb.us-east-2.amazonaws.com port=5672 virtual_host=/ ssl=False>>>>\n",
      "method: <Basic.Deliver(['consumer_tag=ctag1.9147dcc80b1f489ba282f2933c139624', 'delivery_tag=1', 'exchange=direct_pings', 'redelivered=False', 'routing_key=rpc_queue'])>\n",
      "props: <BasicProperties(['content_type=text/plain', 'correlation_id=689119fd-3b19-4e4f-9c16-3ad72c269859', 'delivery_mode=1', 'reply_to=amq.gen-iBhlUFd0m6ghuAIDqqzBGg'])>\n",
      "props.reply_to: amq.gen-iBhlUFd0m6ghuAIDqqzBGg\n",
      "props.correlation_id: 689119fd-3b19-4e4f-9c16-3ad72c269859\n",
      " Calculations done. Results sent back to the server\n",
      " *** \n",
      "\n",
      " I just received message: b'huh'\n",
      "ch: <BlockingChannel impl=<Channel number=1 OPEN conn=<SelectConnection OPEN transport=<pika.adapters.utils.io_services_utils._AsyncPlaintextTransport object at 0x7f732f663908> params=<ConnectionParameters host=PROD-JOB-844fd7d2202ac4da.elb.us-east-2.amazonaws.com port=5672 virtual_host=/ ssl=False>>>>\n",
      "method: <Basic.Deliver(['consumer_tag=ctag1.9147dcc80b1f489ba282f2933c139624', 'delivery_tag=2', 'exchange=direct_pings', 'redelivered=False', 'routing_key=rpc_queue'])>\n",
      "props: <BasicProperties(['content_type=text/plain', 'correlation_id=c43b7bdd-7709-485c-a170-26147550af9c', 'delivery_mode=1', 'reply_to=amq.gen-iBhlUFd0m6ghuAIDqqzBGg'])>\n",
      "props.reply_to: amq.gen-iBhlUFd0m6ghuAIDqqzBGg\n",
      "props.correlation_id: c43b7bdd-7709-485c-a170-26147550af9c\n",
      " Calculations done. Results sent back to the server\n",
      " *** \n",
      "\n",
      " I just received message: b'mehh'\n",
      "ch: <BlockingChannel impl=<Channel number=1 OPEN conn=<SelectConnection OPEN transport=<pika.adapters.utils.io_services_utils._AsyncPlaintextTransport object at 0x7f732f663908> params=<ConnectionParameters host=PROD-JOB-844fd7d2202ac4da.elb.us-east-2.amazonaws.com port=5672 virtual_host=/ ssl=False>>>>\n",
      "method: <Basic.Deliver(['consumer_tag=ctag1.9147dcc80b1f489ba282f2933c139624', 'delivery_tag=3', 'exchange=direct_pings', 'redelivered=False', 'routing_key=rpc_queue'])>\n",
      "props: <BasicProperties(['content_type=text/plain', 'correlation_id=83f843d9-f79b-43bd-bf8d-f9e81f7dbdbf', 'delivery_mode=1', 'reply_to=amq.gen-iBhlUFd0m6ghuAIDqqzBGg'])>\n",
      "props.reply_to: amq.gen-iBhlUFd0m6ghuAIDqqzBGg\n",
      "props.correlation_id: 83f843d9-f79b-43bd-bf8d-f9e81f7dbdbf\n",
      " Calculations done. Results sent back to the server\n",
      " *** \n",
      "\n"
     ]
    }
   ],
   "source": [
    "print(\" [x] Awaiting RPC requests\")\n",
    "channel.start_consuming()"
   ]
  },
  {
   "cell_type": "code",
   "execution_count": null,
   "metadata": {},
   "outputs": [],
   "source": []
  }
 ],
 "metadata": {
  "kernelspec": {
   "display_name": "Environment (conda_python3)",
   "language": "python",
   "name": "conda_python3"
  },
  "language_info": {
   "codemirror_mode": {
    "name": "ipython",
    "version": 3
   },
   "file_extension": ".py",
   "mimetype": "text/x-python",
   "name": "python",
   "nbconvert_exporter": "python",
   "pygments_lexer": "ipython3",
   "version": "3.6.5"
  }
 },
 "nbformat": 4,
 "nbformat_minor": 2
}
