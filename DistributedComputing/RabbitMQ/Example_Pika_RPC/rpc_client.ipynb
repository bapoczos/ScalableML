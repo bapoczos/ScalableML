{
 "cells": [
  {
   "cell_type": "code",
   "execution_count": 1,
   "metadata": {},
   "outputs": [],
   "source": [
    "import pika\n",
    "import uuid"
   ]
  },
  {
   "cell_type": "code",
   "execution_count": 2,
   "metadata": {},
   "outputs": [],
   "source": [
    "credentials = pika.PlainCredentials('myguest', 'myguestpwd')\n",
    "#URL='localhost'\n",
    "URL='PROD-JOB-844fd7d2202ac4da.elb.us-east-2.amazonaws.com'\n",
    "parameters =  pika.ConnectionParameters(URL, port=5672, credentials=credentials)"
   ]
  },
  {
   "cell_type": "markdown",
   "metadata": {},
   "source": [
    "Below we will create a connection, channel, and queue"
   ]
  },
  {
   "cell_type": "markdown",
   "metadata": {},
   "source": [
    "**queue_declare(queue, passive=False, durable=False, exclusive=False, auto_delete=False, arguments=None, callback=None)**<br>\n",
    "<br>\n",
    "Declare queue, create if needed. This method creates or checks a queue. When creating a new queue the client can specify various properties that control the durability of the queue and its contents, and the level of sharing for the queue."
   ]
  },
  {
   "cell_type": "markdown",
   "metadata": {},
   "source": [
    "**basic_consume(queue, on_message_callback, auto_ack=False, exclusive=False, consumer_tag=None, arguments=None, callback=None)**\n",
    "\n",
    "Sends the AMQP 0-9-1 command Basic.Consume to the broker and binds messages for the consumer_tag to the consumer callback. If you do not pass in a consumer_tag, one will be automatically generated for you. Returns the consumer tag.\n",
    "\n",
    "**queue (str)** – The queue to consume from. Use the empty string to specify the most recent server-named queue for this channel\n",
    "\n",
    "**on_message_callback**: (callable) –\n",
    "The function to call when consuming with the **signature on_message_callback(channel, method, properties, body)**, where\n",
    "\n",
    "* **channel**: pika.Channel \n",
    "\n",
    "* **method**: pika.spec.Basic.Deliver \n",
    "\n",
    "* **properties**: pika.spec.BasicProperties \n",
    "\n",
    "* **body**: bytes\n"
   ]
  },
  {
   "cell_type": "markdown",
   "metadata": {},
   "source": [
    "### Message properties\n",
    "\n",
    "The AMQP 0-9-1 protocol predefines a set of 14 properties that go with a message. Most of the properties are rarely used, with the exception of the following:\n",
    "\n",
    "* delivery_mode: Marks a message as persistent (with a value of 2) or transient (any other value). \n",
    "* content_type: Used to describe the mime-type of the encoding. For example for the often used JSON encoding it is a good practice to set this property to: application/json.\n",
    "* reply_to: Commonly used to name a callback queue.\n",
    "* correlation_id: Useful to correlate RPC responses with requests.\n",
    "\n",
    "**See https://www.rabbitmq.com/tutorials/tutorial-six-python.html for details**"
   ]
  },
  {
   "cell_type": "code",
   "execution_count": 3,
   "metadata": {},
   "outputs": [],
   "source": [
    "class FibonacciRpcClient(object):\n",
    "\n",
    "    def __init__(self):\n",
    "        #self.connection = pika.BlockingConnection(pika.ConnectionParameters(host='localhost'))\n",
    "\n",
    "        self.connection = pika.BlockingConnection(parameters)\n",
    "        self.channel = self.connection.channel()\n",
    "\n",
    "        myqueue = self.channel.queue_declare('', exclusive=True)\n",
    "        print(\"myqueue:\", myqueue)\n",
    "        \n",
    "        self.callback_queue = myqueue.method.queue #The queue we just created\n",
    "\n",
    "        print(\"myqueue.method:\", myqueue.method)\n",
    "        \n",
    "        # Let us start waiting for messages (The results of our call). \n",
    "        #When we recevie a message, we will the on_response call back function\n",
    "        self.channel.basic_consume(\n",
    "            queue=self.callback_queue, #the queue we created above\n",
    "            on_message_callback=self.on_response, #The callback function to run when we receive a message from the workers\n",
    "            auto_ack=True)\n",
    "\n",
    "    def on_response(self, ch, method, props, body):\n",
    "        if self.corr_id == props.correlation_id: #Check if our correlation id is the same as we get in the message\n",
    "            self.response = body\n",
    "\n",
    "    def call(self, n):\n",
    "        self.response = None\n",
    "        self.corr_id = str(uuid.uuid4()) # This is where we create our unique correlation id\n",
    "        print('corr_id:', self.corr_id)\n",
    "        \n",
    "        # Now we are ready to send our message to the workers\n",
    "        self.channel.basic_publish(\n",
    "            exchange='',\n",
    "            routing_key='rpc_queue',\n",
    "            properties=pika.BasicProperties(\n",
    "                reply_to=self.callback_queue,\n",
    "                correlation_id=self.corr_id,\n",
    "            ),\n",
    "            body=str(n))\n",
    "        #Waiting for the results\n",
    "        while self.response is None:\n",
    "            self.connection.process_data_events()\n",
    "        return int(self.response)"
   ]
  },
  {
   "cell_type": "code",
   "execution_count": 9,
   "metadata": {},
   "outputs": [
    {
     "name": "stdout",
     "output_type": "stream",
     "text": [
      "myqueue: <METHOD(['channel_number=1', 'frame_type=1', \"method=<Queue.DeclareOk(['consumer_count=0', 'message_count=0', 'queue=amq.gen-k1gW8M51FPr2EZtTbcS9kg'])>\"])>\n",
      "myqueue.method: <Queue.DeclareOk(['consumer_count=0', 'message_count=0', 'queue=amq.gen-k1gW8M51FPr2EZtTbcS9kg'])>\n"
     ]
    }
   ],
   "source": [
    "#This will create one channel and queue. All communications will be done on that queue using different correlation ids. \n",
    "fibonacci_rpc = FibonacciRpcClient()"
   ]
  },
  {
   "cell_type": "code",
   "execution_count": 5,
   "metadata": {},
   "outputs": [
    {
     "name": "stdout",
     "output_type": "stream",
     "text": [
      " [x] Requesting fib(30)\n",
      "corr_id: 8ae873a0-ccad-4750-849e-423f2d4be8d8\n",
      " [.] Got 832040\n"
     ]
    }
   ],
   "source": [
    "print(\" [x] Requesting fib(30)\")\n",
    "response = fibonacci_rpc.call(30)\n",
    "print(\" [.] Got %r\" % response)"
   ]
  },
  {
   "cell_type": "code",
   "execution_count": 6,
   "metadata": {},
   "outputs": [
    {
     "name": "stdout",
     "output_type": "stream",
     "text": [
      " [x] Requesting fib(20)\n",
      "corr_id: 26eba689-fa6e-42a8-85bf-575daaa50259\n",
      " [.] Got 6765\n"
     ]
    }
   ],
   "source": [
    "print(\" [x] Requesting fib(20)\")\n",
    "response = fibonacci_rpc.call(20)\n",
    "print(\" [.] Got %r\" % response)"
   ]
  },
  {
   "cell_type": "code",
   "execution_count": 7,
   "metadata": {},
   "outputs": [
    {
     "name": "stdout",
     "output_type": "stream",
     "text": [
      " [x] Requesting fib(32)\n",
      "corr_id: 37cf2fb2-4392-4f80-b1bb-25b86a476d01\n",
      " [.] Got 2178309\n"
     ]
    }
   ],
   "source": [
    "print(\" [x] Requesting fib(32)\")\n",
    "response = fibonacci_rpc.call(32)\n",
    "print(\" [.] Got %r\" % response)"
   ]
  },
  {
   "cell_type": "code",
   "execution_count": 8,
   "metadata": {},
   "outputs": [
    {
     "name": "stdout",
     "output_type": "stream",
     "text": [
      " [x] Requesting fib(14)\n",
      "corr_id: d06ca5f2-1179-449b-a5e4-480813470612\n",
      " [.] Got 377\n"
     ]
    }
   ],
   "source": [
    "print(\" [x] Requesting fib(14)\")\n",
    "response = fibonacci_rpc.call(14)\n",
    "print(\" [.] Got %r\" % response)"
   ]
  },
  {
   "cell_type": "code",
   "execution_count": null,
   "metadata": {},
   "outputs": [],
   "source": []
  }
 ],
 "metadata": {
  "kernelspec": {
   "display_name": "Environment (conda_python3)",
   "language": "python",
   "name": "conda_python3"
  },
  "language_info": {
   "codemirror_mode": {
    "name": "ipython",
    "version": 3
   },
   "file_extension": ".py",
   "mimetype": "text/x-python",
   "name": "python",
   "nbconvert_exporter": "python",
   "pygments_lexer": "ipython3",
   "version": "3.6.5"
  }
 },
 "nbformat": 4,
 "nbformat_minor": 2
}
