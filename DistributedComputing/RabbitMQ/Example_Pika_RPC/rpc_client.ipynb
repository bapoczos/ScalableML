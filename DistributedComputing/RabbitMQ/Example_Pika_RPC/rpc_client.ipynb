{
 "cells": [
  {
   "cell_type": "code",
   "execution_count": 1,
   "metadata": {},
   "outputs": [],
   "source": [
    "import pika\n",
    "import uuid"
   ]
  },
  {
   "cell_type": "code",
   "execution_count": 2,
   "metadata": {},
   "outputs": [],
   "source": [
    "credentials = pika.PlainCredentials('myguest', 'myguestpwd')\n",
    "#URL='localhost'\n",
    "URL='PROD-JOB-844fd7d2202ac4da.elb.us-east-2.amazonaws.com'\n",
    "parameters =  pika.ConnectionParameters(URL, port=5672, credentials=credentials)"
   ]
  },
  {
   "cell_type": "code",
   "execution_count": 3,
   "metadata": {},
   "outputs": [],
   "source": [
    "class FibonacciRpcClient(object):\n",
    "\n",
    "    def __init__(self):\n",
    "        #self.connection = pika.BlockingConnection(\n",
    "        #    pika.ConnectionParameters(host='localhost'))\n",
    "        #self.channel = self.connection.channel()\n",
    "        \n",
    "\n",
    "        self.connection = pika.BlockingConnection(parameters)\n",
    "        self.channel = self.connection.channel()\n",
    "\n",
    "        result = self.channel.queue_declare('', exclusive=True)\n",
    "        print(result)\n",
    "        self.callback_queue = result.method.queue\n",
    "\n",
    "        self.channel.basic_consume(\n",
    "            queue=self.callback_queue,\n",
    "            on_message_callback=self.on_response,\n",
    "            auto_ack=True)\n",
    "\n",
    "    def on_response(self, ch, method, props, body):\n",
    "        if self.corr_id == props.correlation_id:\n",
    "            self.response = body\n",
    "\n",
    "    def call(self, n):\n",
    "        self.response = None\n",
    "        self.corr_id = str(uuid.uuid4())\n",
    "        print(self.corr_id)\n",
    "        self.channel.basic_publish(\n",
    "            exchange='',\n",
    "            routing_key='rpc_queue',\n",
    "            properties=pika.BasicProperties(\n",
    "                reply_to=self.callback_queue,\n",
    "                correlation_id=self.corr_id,\n",
    "            ),\n",
    "            body=str(n))\n",
    "        while self.response is None:\n",
    "            self.connection.process_data_events()\n",
    "        return int(self.response)"
   ]
  },
  {
   "cell_type": "code",
   "execution_count": 4,
   "metadata": {},
   "outputs": [
    {
     "name": "stdout",
     "output_type": "stream",
     "text": [
      "<METHOD(['channel_number=1', 'frame_type=1', \"method=<Queue.DeclareOk(['consumer_count=0', 'message_count=0', 'queue=amq.gen-dn4TLbG4SwHhBokSaI-JCw'])>\"])>\n"
     ]
    }
   ],
   "source": [
    "fibonacci_rpc = FibonacciRpcClient()"
   ]
  },
  {
   "cell_type": "code",
   "execution_count": 5,
   "metadata": {},
   "outputs": [
    {
     "name": "stdout",
     "output_type": "stream",
     "text": [
      " [x] Requesting fib(30)\n",
      "d1ddbc98-3f35-45db-a29e-8ad1d5ee1ae7\n",
      " [.] Got 832040\n"
     ]
    }
   ],
   "source": [
    "print(\" [x] Requesting fib(30)\")\n",
    "response = fibonacci_rpc.call(30)\n",
    "print(\" [.] Got %r\" % response)"
   ]
  },
  {
   "cell_type": "code",
   "execution_count": 6,
   "metadata": {},
   "outputs": [
    {
     "name": "stdout",
     "output_type": "stream",
     "text": [
      " [x] Requesting fib(20)\n",
      "a1dd7d8b-b3ee-4fde-90cd-e6afdeaeac3e\n",
      " [.] Got 6765\n"
     ]
    }
   ],
   "source": [
    "print(\" [x] Requesting fib(20)\")\n",
    "response = fibonacci_rpc.call(20)\n",
    "print(\" [.] Got %r\" % response)"
   ]
  },
  {
   "cell_type": "code",
   "execution_count": 7,
   "metadata": {},
   "outputs": [
    {
     "name": "stdout",
     "output_type": "stream",
     "text": [
      " [x] Requesting fib(32)\n",
      "05a9364c-a54b-40b3-8b1c-c6dc946d991a\n",
      " [.] Got 2178309\n"
     ]
    }
   ],
   "source": [
    "print(\" [x] Requesting fib(32)\")\n",
    "response = fibonacci_rpc.call(32)\n",
    "print(\" [.] Got %r\" % response)"
   ]
  },
  {
   "cell_type": "code",
   "execution_count": 8,
   "metadata": {},
   "outputs": [
    {
     "name": "stdout",
     "output_type": "stream",
     "text": [
      " [x] Requesting fib(14)\n",
      "b9ba985e-c3c5-4be5-9f92-5574872733d8\n",
      " [.] Got 377\n"
     ]
    }
   ],
   "source": [
    "print(\" [x] Requesting fib(14)\")\n",
    "response = fibonacci_rpc.call(14)\n",
    "print(\" [.] Got %r\" % response)"
   ]
  },
  {
   "cell_type": "code",
   "execution_count": null,
   "metadata": {},
   "outputs": [],
   "source": []
  }
 ],
 "metadata": {
  "kernelspec": {
   "display_name": "Environment (conda_python3)",
   "language": "python",
   "name": "conda_python3"
  },
  "language_info": {
   "codemirror_mode": {
    "name": "ipython",
    "version": 3
   },
   "file_extension": ".py",
   "mimetype": "text/x-python",
   "name": "python",
   "nbconvert_exporter": "python",
   "pygments_lexer": "ipython3",
   "version": "3.6.5"
  }
 },
 "nbformat": 4,
 "nbformat_minor": 2
}
