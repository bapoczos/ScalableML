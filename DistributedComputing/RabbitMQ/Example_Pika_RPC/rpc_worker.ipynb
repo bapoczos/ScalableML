{
 "cells": [
  {
   "cell_type": "code",
   "execution_count": 1,
   "metadata": {},
   "outputs": [],
   "source": [
    "#!pip install --upgrade pika"
   ]
  },
  {
   "cell_type": "code",
   "execution_count": 2,
   "metadata": {},
   "outputs": [
    {
     "data": {
      "text/plain": [
       "'1.1.0'"
      ]
     },
     "execution_count": 2,
     "metadata": {},
     "output_type": "execute_result"
    }
   ],
   "source": [
    "import pika\n",
    "pika.__version__"
   ]
  },
  {
   "cell_type": "code",
   "execution_count": 3,
   "metadata": {},
   "outputs": [],
   "source": [
    "#!sudo rabbitmqctl add_user myguest myguestpwd\n",
    "#!sudo rabbitmqctl set_permissions -p / myguest \".\" \".\" \".*\""
   ]
  },
  {
   "cell_type": "code",
   "execution_count": 4,
   "metadata": {},
   "outputs": [
    {
     "name": "stdout",
     "output_type": "stream",
     "text": [
      "Listing users ...\r\n",
      "guest\t[administrator]\r\n",
      "myguest\t[]\r\n"
     ]
    }
   ],
   "source": [
    "!sudo rabbitmqctl list_users"
   ]
  },
  {
   "cell_type": "code",
   "execution_count": 5,
   "metadata": {},
   "outputs": [],
   "source": [
    "credentials = pika.PlainCredentials('myguest', 'myguestpwd')\n",
    "#URL='localhost'\n",
    "URL='PROD-JOB-844fd7d2202ac4da.elb.us-east-2.amazonaws.com'\n",
    "parameters =  pika.ConnectionParameters(URL, port=5672, credentials=credentials)\n",
    "connection = pika.BlockingConnection(parameters)\n",
    "channel = connection.channel()"
   ]
  },
  {
   "cell_type": "code",
   "execution_count": 6,
   "metadata": {},
   "outputs": [],
   "source": [
    "def fib(n):\n",
    "    if n == 0:\n",
    "        return 0\n",
    "    elif n == 1:\n",
    "        return 1\n",
    "    else:\n",
    "        return fib(n - 1) + fib(n - 2)"
   ]
  },
  {
   "cell_type": "code",
   "execution_count": 7,
   "metadata": {},
   "outputs": [],
   "source": [
    "def on_request(ch, method, props, body):\n",
    "    n = int(body) # body is the message to the worker. We want to calculate Fib(n)\n",
    "\n",
    "    print(\" I need to calculate fib(%s)\" % n)\n",
    "    \n",
    "    print('ch:', ch)\n",
    "    print('method:', method)\n",
    "    print('props:', props)\n",
    "    \n",
    "    print('props.reply_to:', props.reply_to)\n",
    "    print('props.correlation_id:', props.correlation_id)\n",
    "    \n",
    "    response = fib(n) # Results, Fib(n), calculated\n",
    "    \n",
    "    # We need to send back the results to the client\n",
    "    ch.basic_publish(exchange='', # Default exchange\n",
    "                     routing_key=props.reply_to, # This is the routing key to the queue that we use for sending the answer\n",
    "                     #use the same correlation_id so the client knows that this is a reply to what message\n",
    "                     properties=pika.BasicProperties(correlation_id = props.correlation_id), \n",
    "                     body=str(response))\n",
    "    ch.basic_ack(delivery_tag=method.delivery_tag)\n",
    "    print(\" Fib(%s) Calculation done. Results sent back to the server\" % n)\n",
    "    print(\" *** \\n\")\n"
   ]
  },
  {
   "cell_type": "code",
   "execution_count": 8,
   "metadata": {},
   "outputs": [],
   "source": [
    "channel.queue_declare(queue='rpc_queue')\n",
    "channel.basic_qos(prefetch_count=1)"
   ]
  },
  {
   "cell_type": "code",
   "execution_count": 9,
   "metadata": {},
   "outputs": [
    {
     "data": {
      "text/plain": [
       "'ctag1.12f39371161b4cb381a9df14469d5115'"
      ]
     },
     "execution_count": 9,
     "metadata": {},
     "output_type": "execute_result"
    }
   ],
   "source": [
    "#When the worker receives a message it will tun the \"on_request\" call back function\n",
    "channel.basic_consume(queue='rpc_queue', on_message_callback=on_request)  "
   ]
  },
  {
   "cell_type": "code",
   "execution_count": null,
   "metadata": {},
   "outputs": [
    {
     "name": "stdout",
     "output_type": "stream",
     "text": [
      " [x] Awaiting RPC requests\n",
      " I need to calculate fib(30)\n",
      "ch: <BlockingChannel impl=<Channel number=1 OPEN conn=<SelectConnection OPEN transport=<pika.adapters.utils.io_services_utils._AsyncPlaintextTransport object at 0x7f931c219c18> params=<ConnectionParameters host=PROD-JOB-844fd7d2202ac4da.elb.us-east-2.amazonaws.com port=5672 virtual_host=/ ssl=False>>>>\n",
      "method: <Basic.Deliver(['consumer_tag=ctag1.12f39371161b4cb381a9df14469d5115', 'delivery_tag=1', 'exchange=', 'redelivered=False', 'routing_key=rpc_queue'])>\n",
      "props: <BasicProperties(['correlation_id=8ae873a0-ccad-4750-849e-423f2d4be8d8', 'reply_to=amq.gen-Iwf8D-LXL713ChiKbhEBpQ'])>\n",
      "props.reply_to: amq.gen-Iwf8D-LXL713ChiKbhEBpQ\n",
      "props.correlation_id: 8ae873a0-ccad-4750-849e-423f2d4be8d8\n",
      " Fib(30) Calculation done. Results sent back to the server\n",
      " *** \n",
      "\n",
      " I need to calculate fib(20)\n",
      "ch: <BlockingChannel impl=<Channel number=1 OPEN conn=<SelectConnection OPEN transport=<pika.adapters.utils.io_services_utils._AsyncPlaintextTransport object at 0x7f931c219c18> params=<ConnectionParameters host=PROD-JOB-844fd7d2202ac4da.elb.us-east-2.amazonaws.com port=5672 virtual_host=/ ssl=False>>>>\n",
      "method: <Basic.Deliver(['consumer_tag=ctag1.12f39371161b4cb381a9df14469d5115', 'delivery_tag=2', 'exchange=', 'redelivered=False', 'routing_key=rpc_queue'])>\n",
      "props: <BasicProperties(['correlation_id=26eba689-fa6e-42a8-85bf-575daaa50259', 'reply_to=amq.gen-Iwf8D-LXL713ChiKbhEBpQ'])>\n",
      "props.reply_to: amq.gen-Iwf8D-LXL713ChiKbhEBpQ\n",
      "props.correlation_id: 26eba689-fa6e-42a8-85bf-575daaa50259\n",
      " Fib(20) Calculation done. Results sent back to the server\n",
      " *** \n",
      "\n",
      " I need to calculate fib(32)\n",
      "ch: <BlockingChannel impl=<Channel number=1 OPEN conn=<SelectConnection OPEN transport=<pika.adapters.utils.io_services_utils._AsyncPlaintextTransport object at 0x7f931c219c18> params=<ConnectionParameters host=PROD-JOB-844fd7d2202ac4da.elb.us-east-2.amazonaws.com port=5672 virtual_host=/ ssl=False>>>>\n",
      "method: <Basic.Deliver(['consumer_tag=ctag1.12f39371161b4cb381a9df14469d5115', 'delivery_tag=3', 'exchange=', 'redelivered=False', 'routing_key=rpc_queue'])>\n",
      "props: <BasicProperties(['correlation_id=37cf2fb2-4392-4f80-b1bb-25b86a476d01', 'reply_to=amq.gen-Iwf8D-LXL713ChiKbhEBpQ'])>\n",
      "props.reply_to: amq.gen-Iwf8D-LXL713ChiKbhEBpQ\n",
      "props.correlation_id: 37cf2fb2-4392-4f80-b1bb-25b86a476d01\n",
      " Fib(32) Calculation done. Results sent back to the server\n",
      " *** \n",
      "\n",
      " I need to calculate fib(14)\n",
      "ch: <BlockingChannel impl=<Channel number=1 OPEN conn=<SelectConnection OPEN transport=<pika.adapters.utils.io_services_utils._AsyncPlaintextTransport object at 0x7f931c219c18> params=<ConnectionParameters host=PROD-JOB-844fd7d2202ac4da.elb.us-east-2.amazonaws.com port=5672 virtual_host=/ ssl=False>>>>\n",
      "method: <Basic.Deliver(['consumer_tag=ctag1.12f39371161b4cb381a9df14469d5115', 'delivery_tag=4', 'exchange=', 'redelivered=False', 'routing_key=rpc_queue'])>\n",
      "props: <BasicProperties(['correlation_id=d06ca5f2-1179-449b-a5e4-480813470612', 'reply_to=amq.gen-Iwf8D-LXL713ChiKbhEBpQ'])>\n",
      "props.reply_to: amq.gen-Iwf8D-LXL713ChiKbhEBpQ\n",
      "props.correlation_id: d06ca5f2-1179-449b-a5e4-480813470612\n",
      " Fib(14) Calculation done. Results sent back to the server\n",
      " *** \n",
      "\n"
     ]
    }
   ],
   "source": [
    "print(\" [x] Awaiting RPC requests\")\n",
    "channel.start_consuming()"
   ]
  },
  {
   "cell_type": "code",
   "execution_count": null,
   "metadata": {},
   "outputs": [],
   "source": []
  }
 ],
 "metadata": {
  "kernelspec": {
   "display_name": "Environment (conda_python3)",
   "language": "python",
   "name": "conda_python3"
  },
  "language_info": {
   "codemirror_mode": {
    "name": "ipython",
    "version": 3
   },
   "file_extension": ".py",
   "mimetype": "text/x-python",
   "name": "python",
   "nbconvert_exporter": "python",
   "pygments_lexer": "ipython3",
   "version": "3.6.5"
  }
 },
 "nbformat": 4,
 "nbformat_minor": 2
}
