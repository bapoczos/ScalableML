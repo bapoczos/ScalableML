{
 "cells": [
  {
   "cell_type": "code",
   "execution_count": 1,
   "metadata": {},
   "outputs": [],
   "source": [
    "import pika\n",
    "import sys\n",
    "pika.__version__\n",
    "import numpy as np"
   ]
  },
  {
   "cell_type": "code",
   "execution_count": 2,
   "metadata": {},
   "outputs": [],
   "source": [
    "#!sudo rabbitmqctl add_user myguest myguestpwd\n",
    "#!sudo rabbitmqctl set_permissions -p / myguest \".\" \".\" \".*\""
   ]
  },
  {
   "cell_type": "code",
   "execution_count": 3,
   "metadata": {},
   "outputs": [
    {
     "name": "stdout",
     "output_type": "stream",
     "text": [
      "Listing users ...\r\n",
      "guest\t[administrator]\r\n",
      "myguest\t[]\r\n"
     ]
    }
   ],
   "source": [
    "!sudo rabbitmqctl list_users"
   ]
  },
  {
   "cell_type": "code",
   "execution_count": 4,
   "metadata": {},
   "outputs": [],
   "source": [
    "credentials = pika.PlainCredentials('myguest', 'myguestpwd')\n",
    "    \n",
    "#URL='localhost'\n",
    "URL='PROD-JOB-844fd7d2202ac4da.elb.us-east-2.amazonaws.com'\n",
    "parameters =  pika.ConnectionParameters(URL, port=5672, credentials=credentials)\n",
    "\n",
    "iter=0\n",
    "exchangeName = 'direct_logs'"
   ]
  },
  {
   "cell_type": "code",
   "execution_count": 5,
   "metadata": {},
   "outputs": [
    {
     "name": "stdout",
     "output_type": "stream",
     "text": [
      "Pittsburgh\n"
     ]
    }
   ],
   "source": [
    "index=np.random.randint(0,3)\n",
    "routing_list=['Pittsburgh','NYC','Washington']\n",
    "print(routing_list[index])"
   ]
  },
  {
   "cell_type": "code",
   "execution_count": 9,
   "metadata": {},
   "outputs": [
    {
     "name": "stdout",
     "output_type": "stream",
     "text": [
      " [x] Sent 'Pittsburgh':'Message0_Pittsburgh'\n",
      " [x] Sent 'Pittsburgh':'Message1_Pittsburgh'\n",
      " [x] Sent 'Washington':'Message2_Washington'\n",
      " [x] Sent 'NYC':'Message3_NYC'\n",
      " [x] Sent 'Pittsburgh':'Message4_Pittsburgh'\n",
      " [x] Sent 'NYC':'Message5_NYC'\n",
      " [x] Sent 'Pittsburgh':'Message6_Pittsburgh'\n",
      " [x] Sent 'Pittsburgh':'Message7_Pittsburgh'\n",
      " [x] Sent 'NYC':'Message8_NYC'\n",
      " [x] Sent 'Pittsburgh':'Message9_Pittsburgh'\n"
     ]
    }
   ],
   "source": [
    "for iter in range(10):\n",
    "    connection = pika.BlockingConnection(parameters)\n",
    "    channel = connection.channel()\n",
    "\n",
    "    channel.exchange_declare(exchange=exchangeName, exchange_type='direct')\n",
    "    #channel.queue_declare(queue='task_queue', durable=True)\n",
    "    \n",
    "    index=np.random.randint(0,3)\n",
    "    routing_list=['Pittsburgh','NYC','Washington']\n",
    "    myrouting=routing_list[index]\n",
    "\n",
    "    properties = pika.spec.BasicProperties(content_type = \"text/plain\", delivery_mode = 1)\n",
    "    message = \"Message\"+str(iter)+\"_\"+myrouting\n",
    "\n",
    "    channel.basic_publish(exchange = exchangeName, routing_key = myrouting, body = message, properties = properties)\n",
    "    print(\" [x] Sent %r:%r\" % (myrouting, message))\n",
    "    #disconnect\n",
    "    connection.close()"
   ]
  },
  {
   "cell_type": "code",
   "execution_count": null,
   "metadata": {},
   "outputs": [],
   "source": []
  }
 ],
 "metadata": {
  "kernelspec": {
   "display_name": "Environment (conda_python3)",
   "language": "python",
   "name": "conda_python3"
  },
  "language_info": {
   "codemirror_mode": {
    "name": "ipython",
    "version": 3
   },
   "file_extension": ".py",
   "mimetype": "text/x-python",
   "name": "python",
   "nbconvert_exporter": "python",
   "pygments_lexer": "ipython3",
   "version": "3.6.5"
  }
 },
 "nbformat": 4,
 "nbformat_minor": 2
}
