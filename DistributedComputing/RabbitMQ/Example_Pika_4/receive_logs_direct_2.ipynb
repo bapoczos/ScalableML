{
 "cells": [
  {
   "cell_type": "code",
   "execution_count": 1,
   "metadata": {},
   "outputs": [
    {
     "data": {
      "text/plain": [
       "'1.1.0'"
      ]
     },
     "execution_count": 1,
     "metadata": {},
     "output_type": "execute_result"
    }
   ],
   "source": [
    "import pika\n",
    "import sys\n",
    "pika.__version__"
   ]
  },
  {
   "cell_type": "code",
   "execution_count": 2,
   "metadata": {},
   "outputs": [
    {
     "data": {
      "text/plain": [
       "<METHOD(['channel_number=1', 'frame_type=1', 'method=<Exchange.DeclareOk>'])>"
      ]
     },
     "execution_count": 2,
     "metadata": {},
     "output_type": "execute_result"
    }
   ],
   "source": [
    "credentials = pika.PlainCredentials('myguest', 'myguestpwd')\n",
    "exchangeName = 'direct_logs'\n",
    "#URL='localhost'\n",
    "URL='PROD-JOB-844fd7d2202ac4da.elb.us-east-2.amazonaws.com'\n",
    "parameters =  pika.ConnectionParameters(URL, port=5672, credentials=credentials)\n",
    "connection = pika.BlockingConnection(parameters)\n",
    "channel = connection.channel()\n",
    "\n",
    "channel.exchange_declare(exchange=exchangeName, exchange_type='direct')\n"
   ]
  },
  {
   "cell_type": "code",
   "execution_count": 3,
   "metadata": {},
   "outputs": [],
   "source": [
    "def callback(ch, method, properties, body):\n",
    "    print(\" [x] %r:%r\" % (method.routing_key, body))"
   ]
  },
  {
   "cell_type": "code",
   "execution_count": null,
   "metadata": {},
   "outputs": [
    {
     "name": "stdout",
     "output_type": "stream",
     "text": [
      " [*] Waiting for logs. To exit press CTRL+C\n",
      " [x] 'NYC':b'Message0_NYC'\n",
      " [x] 'NYC':b'Message2_NYC'\n",
      " [x] 'NYC':b'Message4_NYC'\n",
      " [x] 'NYC':b'Message5_NYC'\n",
      " [x] 'Pittsburgh':b'Message6_Pittsburgh'\n",
      " [x] 'Pittsburgh':b'Message7_Pittsburgh'\n",
      " [x] 'NYC':b'Message8_NYC'\n",
      " [x] 'NYC':b'Message0_NYC'\n",
      " [x] 'NYC':b'Message1_NYC'\n",
      " [x] 'Pittsburgh':b'Message2_Pittsburgh'\n",
      " [x] 'NYC':b'Message5_NYC'\n",
      " [x] 'Pittsburgh':b'Message6_Pittsburgh'\n",
      " [x] 'Pittsburgh':b'Message7_Pittsburgh'\n",
      " [x] 'NYC':b'Message8_NYC'\n",
      " [x] 'NYC':b'Message9_NYC'\n",
      " [x] 'Pittsburgh':b'Message1_Pittsburgh'\n",
      " [x] 'NYC':b'Message3_NYC'\n",
      " [x] 'Pittsburgh':b'Message4_Pittsburgh'\n",
      " [x] 'NYC':b'Message6_NYC'\n",
      " [x] 'NYC':b'Message7_NYC'\n",
      " [x] 'NYC':b'Message8_NYC'\n",
      " [x] 'Pittsburgh':b'Message0_Pittsburgh'\n",
      " [x] 'Pittsburgh':b'Message1_Pittsburgh'\n",
      " [x] 'NYC':b'Message3_NYC'\n",
      " [x] 'Pittsburgh':b'Message4_Pittsburgh'\n",
      " [x] 'NYC':b'Message5_NYC'\n",
      " [x] 'Pittsburgh':b'Message6_Pittsburgh'\n",
      " [x] 'Pittsburgh':b'Message7_Pittsburgh'\n",
      " [x] 'NYC':b'Message8_NYC'\n",
      " [x] 'Pittsburgh':b'Message9_Pittsburgh'\n"
     ]
    }
   ],
   "source": [
    "result = channel.queue_declare('', exclusive=True)\n",
    "#result = channel.queue_declare('task_queue')\n",
    "queue_name = result.method.queue\n",
    "\n",
    "\n",
    "for myrouting in ['Pittsburgh','NYC']:\n",
    "    channel.queue_bind(exchange='direct_logs', queue=queue_name, routing_key=myrouting)\n",
    "\n",
    "print(' [*] Waiting for logs. To exit press CTRL+C')\n",
    "\n",
    "channel.basic_consume(queue=queue_name, on_message_callback=callback, auto_ack=True)\n",
    "\n",
    "channel.start_consuming()"
   ]
  },
  {
   "cell_type": "code",
   "execution_count": null,
   "metadata": {},
   "outputs": [],
   "source": []
  }
 ],
 "metadata": {
  "kernelspec": {
   "display_name": "Environment (conda_python3)",
   "language": "python",
   "name": "conda_python3"
  },
  "language_info": {
   "codemirror_mode": {
    "name": "ipython",
    "version": 3
   },
   "file_extension": ".py",
   "mimetype": "text/x-python",
   "name": "python",
   "nbconvert_exporter": "python",
   "pygments_lexer": "ipython3",
   "version": "3.6.5"
  }
 },
 "nbformat": 4,
 "nbformat_minor": 2
}
