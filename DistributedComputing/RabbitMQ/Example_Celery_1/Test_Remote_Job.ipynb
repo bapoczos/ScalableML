{
 "cells": [
  {
   "cell_type": "code",
   "execution_count": 1,
   "metadata": {},
   "outputs": [],
   "source": [
    "#!pip install --upgrade celery"
   ]
  },
  {
   "cell_type": "code",
   "execution_count": 2,
   "metadata": {},
   "outputs": [],
   "source": [
    "#import celery\n",
    "#print(celery.__version__)\n",
    "#5.1.2"
   ]
  },
  {
   "cell_type": "code",
   "execution_count": 3,
   "metadata": {},
   "outputs": [
    {
     "name": "stdout",
     "output_type": "stream",
     "text": [
      "Creating user \"myguest\" ...\n",
      "Error: user_already_exists: myguest\n",
      "Setting permissions for user \"myguest\" in vhost \"/\" ...\n"
     ]
    }
   ],
   "source": [
    "!sudo rabbitmqctl add_user myguest myguestpwd\n",
    "!sudo rabbitmqctl set_permissions -p / myguest \".\" \".\" \".*\""
   ]
  },
  {
   "cell_type": "code",
   "execution_count": 4,
   "metadata": {},
   "outputs": [
    {
     "name": "stdout",
     "output_type": "stream",
     "text": [
      "Listing users ...\r\n",
      "guest\t[administrator]\r\n",
      "myguest\t[]\r\n"
     ]
    }
   ],
   "source": [
    "!sudo rabbitmqctl list_users"
   ]
  },
  {
   "cell_type": "markdown",
   "metadata": {},
   "source": [
    "This code will **run on a server machine**. It will ask worker machines to complete some tasks and send the results back to the server."
   ]
  },
  {
   "cell_type": "markdown",
   "metadata": {},
   "source": [
    "In the same folder with this code there is a test.py file \n",
    "You will need to run that code on a **worker** machine with <br>\n",
    "\n",
    "**\"celery -A test worker --loglevel=info\"**\n",
    "\n",
    "Then that machine will become a worker, and will be able to run the app task, i.e. in this case the echo function, whenever the broker requests it.\n",
    "\n",
    "The echo function will be run by these commands on the remote (=worker) machine:\n",
    "\n",
    "from test import echo\n",
    "res = echo.delay('Python rocks!'); print(type(res)); print(res)\n",
    "res.result"
   ]
  },
  {
   "cell_type": "code",
   "execution_count": 5,
   "metadata": {},
   "outputs": [],
   "source": [
    "from test import echo"
   ]
  },
  {
   "cell_type": "markdown",
   "metadata": {},
   "source": [
    "Before you run the next cell, you will need to <br>\n",
    "\"pip install celery\" on the worker machine and then run <br>\n",
    "\"celery -A test worker --loglevel=info\" on the worker machine.\n",
    "\n",
    "Otherwise the result of 'res1.ready()' in the cell below will be False"
   ]
  },
  {
   "cell_type": "code",
   "execution_count": 6,
   "metadata": {},
   "outputs": [
    {
     "name": "stdout",
     "output_type": "stream",
     "text": [
      "<class 'celery.result.AsyncResult'>\n",
      "7ddccfd9-847f-4687-9b3b-8575bd792442\n"
     ]
    }
   ],
   "source": [
    "# We will run the echo function on the worker machine.\n",
    "# The fun.delay(arg) function sends the arg message to the worker's fun function and run it on the worker machine.\n",
    "# For more info, see https://docs.celeryproject.org/en/latest/userguide/calling.html\n",
    "    \n",
    "# This code will send 'Python rocks 1 :) !' to the worker machine, and put its response into res1\n",
    "res1 = echo.delay('Python rocks 1 :) !')\n",
    "\n",
    "print(type(res1))\n",
    "print(res1)"
   ]
  },
  {
   "cell_type": "code",
   "execution_count": 7,
   "metadata": {},
   "outputs": [
    {
     "data": {
      "text/plain": [
       "True"
      ]
     },
     "execution_count": 7,
     "metadata": {},
     "output_type": "execute_result"
    }
   ],
   "source": [
    "res1.ready()"
   ]
  },
  {
   "cell_type": "code",
   "execution_count": 8,
   "metadata": {},
   "outputs": [
    {
     "data": {
      "text/plain": [
       "'Response from worker: Python rocks 1 :) !'"
      ]
     },
     "execution_count": 8,
     "metadata": {},
     "output_type": "execute_result"
    }
   ],
   "source": [
    "res1.result"
   ]
  },
  {
   "cell_type": "code",
   "execution_count": 9,
   "metadata": {},
   "outputs": [
    {
     "name": "stdout",
     "output_type": "stream",
     "text": [
      "<class 'celery.result.AsyncResult'>\n",
      "a68a9ddb-982c-45b7-a512-4b85501cd0da\n"
     ]
    },
    {
     "data": {
      "text/plain": [
       "False"
      ]
     },
     "execution_count": 9,
     "metadata": {},
     "output_type": "execute_result"
    }
   ],
   "source": [
    "# Let us repeat it with a different message: \n",
    "res2 = echo.delay('Python rocks 2 :) !'); print(type(res2)); print(res2)\n",
    "res2.ready()"
   ]
  },
  {
   "cell_type": "code",
   "execution_count": 10,
   "metadata": {},
   "outputs": [
    {
     "name": "stdout",
     "output_type": "stream",
     "text": [
      "Response from worker: Python rocks 2 :) !\n"
     ]
    }
   ],
   "source": [
    "print(res2.result)"
   ]
  },
  {
   "cell_type": "code",
   "execution_count": 11,
   "metadata": {},
   "outputs": [
    {
     "data": {
      "text/plain": [
       "'Response from worker: hello'"
      ]
     },
     "execution_count": 11,
     "metadata": {},
     "output_type": "execute_result"
    }
   ],
   "source": [
    "echo('hello')"
   ]
  },
  {
   "cell_type": "code",
   "execution_count": null,
   "metadata": {},
   "outputs": [],
   "source": []
  }
 ],
 "metadata": {
  "kernelspec": {
   "display_name": "Environment (conda_python3)",
   "language": "python",
   "name": "conda_python3"
  },
  "language_info": {
   "codemirror_mode": {
    "name": "ipython",
    "version": 3
   },
   "file_extension": ".py",
   "mimetype": "text/x-python",
   "name": "python",
   "nbconvert_exporter": "python",
   "pygments_lexer": "ipython3",
   "version": "3.6.5"
  }
 },
 "nbformat": 4,
 "nbformat_minor": 2
}
