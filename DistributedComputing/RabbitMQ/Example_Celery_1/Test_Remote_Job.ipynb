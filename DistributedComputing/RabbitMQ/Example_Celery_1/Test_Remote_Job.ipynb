{
 "cells": [
  {
   "cell_type": "code",
   "execution_count": 5,
   "metadata": {},
   "outputs": [],
   "source": [
    "#!pip install --upgrade celery"
   ]
  },
  {
   "cell_type": "code",
   "execution_count": 6,
   "metadata": {},
   "outputs": [
    {
     "name": "stdout",
     "output_type": "stream",
     "text": [
      "5.1.2\n"
     ]
    }
   ],
   "source": [
    "import celery\n",
    "print(celery.__version__)\n",
    "#5.1.2"
   ]
  },
  {
   "cell_type": "code",
   "execution_count": 7,
   "metadata": {},
   "outputs": [
    {
     "name": "stdout",
     "output_type": "stream",
     "text": [
      "Creating user \"myguest\" ...\n",
      "Error: user_already_exists: myguest\n",
      "Setting permissions for user \"myguest\" in vhost \"/\" ...\n"
     ]
    }
   ],
   "source": [
    "!sudo rabbitmqctl add_user myguest myguestpwd\n",
    "!sudo rabbitmqctl set_permissions -p / myguest \".\" \".\" \".*\""
   ]
  },
  {
   "cell_type": "code",
   "execution_count": 8,
   "metadata": {},
   "outputs": [
    {
     "name": "stdout",
     "output_type": "stream",
     "text": [
      "Listing users ...\r\n",
      "guest\t[administrator]\r\n",
      "myguest\t[]\r\n"
     ]
    }
   ],
   "source": [
    "!sudo rabbitmqctl list_users"
   ]
  },
  {
   "cell_type": "markdown",
   "metadata": {},
   "source": [
    "This code will **run on a server machine**. It will ask worker machines to complete some tasks and send the results back to the server."
   ]
  },
  {
   "cell_type": "markdown",
   "metadata": {},
   "source": [
    "In the same folder with this code there is a **test.py** file. <br> \n",
    "You will need to run that code on all of your **worker** machines with <br>\n",
    "\n",
    "<code>celery -A test worker --loglevel=info\" </code>\n",
    "\n",
    "Then that machine becomes a worker and will be able to run the \"test\" application (i.e. in this case the echo function in test.py) whenever the broker requests it.\n",
    "\n",
    "The echo function will be called by these commands on the remote (=worker) machines:\n",
    "\n",
    "```python\n",
    "from test import echo  \n",
    "res = echo.delay('Python rocks!')  \n",
    "res.result <br>\n",
    "```"
   ]
  },
  {
   "cell_type": "code",
   "execution_count": 10,
   "metadata": {},
   "outputs": [],
   "source": [
    "from test import echo"
   ]
  },
  {
   "cell_type": "markdown",
   "metadata": {},
   "source": [
    "Before you run the next cell, you will need to <br>\n",
    "<code> pip install celery </code> on the worker machine and then run <br>\n",
    "<code> celery -A test worker --loglevel=info <code> on that machine.\n",
    "\n"
   ]
  },
  {
   "cell_type": "code",
   "execution_count": 11,
   "metadata": {},
   "outputs": [
    {
     "name": "stdout",
     "output_type": "stream",
     "text": [
      "<class 'celery.result.AsyncResult'>\n",
      "df808041-c479-4073-91bd-82c017251952\n"
     ]
    }
   ],
   "source": [
    "# We will run the echo function on the worker machine.\n",
    "# The fun.delay(arg) function sends the arg message to the worker's fun function and run it on the worker machine.\n",
    "# For more info, see https://docs.celeryproject.org/en/latest/userguide/calling.html\n",
    "    \n",
    "# This code will send 'Python rocks 1 :) !' to the worker machine, and put its response into res1\n",
    "res1 = echo.delay('Python rocks 1 :) !')\n",
    "\n",
    "print(type(res1))\n",
    "print(res1)"
   ]
  },
  {
   "cell_type": "code",
   "execution_count": 12,
   "metadata": {},
   "outputs": [
    {
     "data": {
      "text/plain": [
       "True"
      ]
     },
     "execution_count": 12,
     "metadata": {},
     "output_type": "execute_result"
    }
   ],
   "source": [
    "# You will need backend to be able to get the below results.\n",
    "# As you can see in the test.py we are using 'rpc://...' backend.\n",
    "res1.ready()"
   ]
  },
  {
   "cell_type": "code",
   "execution_count": 13,
   "metadata": {},
   "outputs": [
    {
     "data": {
      "text/plain": [
       "'Response from worker: Python rocks 1 :) !'"
      ]
     },
     "execution_count": 13,
     "metadata": {},
     "output_type": "execute_result"
    }
   ],
   "source": [
    "res1.result"
   ]
  },
  {
   "cell_type": "code",
   "execution_count": 14,
   "metadata": {},
   "outputs": [
    {
     "name": "stdout",
     "output_type": "stream",
     "text": [
      "<class 'celery.result.AsyncResult'>\n",
      "b9873a16-8ff0-4612-9eb7-993f568e41a3\n"
     ]
    },
    {
     "data": {
      "text/plain": [
       "False"
      ]
     },
     "execution_count": 14,
     "metadata": {},
     "output_type": "execute_result"
    }
   ],
   "source": [
    "# Let us repeat it with a different message: \n",
    "# Tasks will be distributed round robin among the workers\n",
    "\n",
    "res2 = echo.delay('Python rocks 2 :) !'); print(type(res2)); print(res2)\n",
    "res2.ready()"
   ]
  },
  {
   "cell_type": "markdown",
   "metadata": {},
   "source": [
    "As you can see res2 is asyncronous and might not be immedialtely available."
   ]
  },
  {
   "cell_type": "code",
   "execution_count": 15,
   "metadata": {},
   "outputs": [
    {
     "name": "stdout",
     "output_type": "stream",
     "text": [
      "Response from worker: Python rocks 2 :) !\n"
     ]
    }
   ],
   "source": [
    "print(res2.result)"
   ]
  },
  {
   "cell_type": "code",
   "execution_count": 16,
   "metadata": {},
   "outputs": [
    {
     "data": {
      "text/plain": [
       "True"
      ]
     },
     "execution_count": 16,
     "metadata": {},
     "output_type": "execute_result"
    }
   ],
   "source": [
    "res2.ready()"
   ]
  },
  {
   "cell_type": "markdown",
   "metadata": {},
   "source": [
    "Note that by default only **one** of the workers will work on your 'echo' task.\n",
    "If you call this task multiple times, then the tasks will be distributed **round robin** among the workers.\n",
    "In the below experiment I used 3 aws instances as workers."
   ]
  },
  {
   "cell_type": "code",
   "execution_count": 22,
   "metadata": {},
   "outputs": [
    {
     "name": "stdout",
     "output_type": "stream",
     "text": [
      "0: 824c6271-88ce-4e82-ba77-7c51ccc719a7, False, Response from worker: Python rocks 0 :) !\n",
      "1: 0215e58d-c955-4069-8542-ff55ec429071, False, Response from worker: Python rocks 1 :) !\n",
      "2: 69dc4c13-1911-42fa-b826-4d12cc9042b7, False, None\n",
      "3: 726432c5-535c-4717-8456-4b661960b623, False, Response from worker: Python rocks 3 :) !\n",
      "4: 608513bb-3369-403a-af3d-47233be969d1, False, Response from worker: Python rocks 4 :) !\n",
      "5: 4b8fd96e-7ff5-4528-8adf-478b491f664e, False, Response from worker: Python rocks 5 :) !\n",
      "6: 0888780c-fa04-4d71-a211-3bdbcd96c247, False, Response from worker: Python rocks 6 :) !\n",
      "7: b9993f0e-dd73-44f3-9178-e13c9783fb88, False, Response from worker: Python rocks 7 :) !\n",
      "8: 2ebadac2-c89d-449a-9f60-61c99a0ae7de, False, None\n",
      "9: 8c25b976-9bf3-4a4f-b978-fc3d5efa6648, False, Response from worker: Python rocks 9 :) !\n"
     ]
    }
   ],
   "source": [
    "results=[]\n",
    "for it in range(10):\n",
    "    res = echo.delay(f'Python rocks {it} :) !')\n",
    "    results.append(res)\n",
    "    print(f'{it}: {res}, {res.ready()}, {res.result}')"
   ]
  },
  {
   "cell_type": "markdown",
   "metadata": {},
   "source": [
    "As you can see above, some of the results are avaialble almost immediately, for the other we will have to wait.\n",
    "Below I show that soon all results become available."
   ]
  },
  {
   "cell_type": "code",
   "execution_count": 23,
   "metadata": {},
   "outputs": [
    {
     "name": "stdout",
     "output_type": "stream",
     "text": [
      "0: 824c6271-88ce-4e82-ba77-7c51ccc719a7, True, Response from worker: Python rocks 0 :) !\n",
      "1: 0215e58d-c955-4069-8542-ff55ec429071, True, Response from worker: Python rocks 1 :) !\n",
      "2: 69dc4c13-1911-42fa-b826-4d12cc9042b7, True, Response from worker: Python rocks 2 :) !\n",
      "3: 726432c5-535c-4717-8456-4b661960b623, True, Response from worker: Python rocks 3 :) !\n",
      "4: 608513bb-3369-403a-af3d-47233be969d1, True, Response from worker: Python rocks 4 :) !\n",
      "5: 4b8fd96e-7ff5-4528-8adf-478b491f664e, True, Response from worker: Python rocks 5 :) !\n",
      "6: 0888780c-fa04-4d71-a211-3bdbcd96c247, True, Response from worker: Python rocks 6 :) !\n",
      "7: b9993f0e-dd73-44f3-9178-e13c9783fb88, True, Response from worker: Python rocks 7 :) !\n",
      "8: 2ebadac2-c89d-449a-9f60-61c99a0ae7de, True, Response from worker: Python rocks 8 :) !\n",
      "9: 8c25b976-9bf3-4a4f-b978-fc3d5efa6648, True, Response from worker: Python rocks 9 :) !\n"
     ]
    }
   ],
   "source": [
    "for it in range(10):\n",
    "    res=results[it]\n",
    "    print(f'{it}: {res}, {res.ready()}, {res.result}')"
   ]
  },
  {
   "cell_type": "code",
   "execution_count": 18,
   "metadata": {},
   "outputs": [
    {
     "data": {
      "text/plain": [
       "'Response from worker: hello'"
      ]
     },
     "execution_count": 18,
     "metadata": {},
     "output_type": "execute_result"
    }
   ],
   "source": [
    "echo('hello')"
   ]
  },
  {
   "cell_type": "code",
   "execution_count": null,
   "metadata": {},
   "outputs": [],
   "source": []
  },
  {
   "cell_type": "code",
   "execution_count": null,
   "metadata": {},
   "outputs": [],
   "source": []
  }
 ],
 "metadata": {
  "kernelspec": {
   "display_name": "Environment (conda_python3)",
   "language": "python",
   "name": "conda_python3"
  },
  "language_info": {
   "codemirror_mode": {
    "name": "ipython",
    "version": 3
   },
   "file_extension": ".py",
   "mimetype": "text/x-python",
   "name": "python",
   "nbconvert_exporter": "python",
   "pygments_lexer": "ipython3",
   "version": "3.6.5"
  }
 },
 "nbformat": 4,
 "nbformat_minor": 2
}
