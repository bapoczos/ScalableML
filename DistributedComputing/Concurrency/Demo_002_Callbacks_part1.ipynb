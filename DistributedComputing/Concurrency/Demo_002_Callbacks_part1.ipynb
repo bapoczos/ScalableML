{
 "cells": [
  {
   "cell_type": "markdown",
   "metadata": {},
   "source": [
    "### Based on Lanaro: Python High Performance"
   ]
  },
  {
   "cell_type": "markdown",
   "metadata": {},
   "source": [
    "# Callbacks"
   ]
  },
  {
   "cell_type": "markdown",
   "metadata": {},
   "source": [
    "The code we have seen so far **blocks the execution of the program until the resource is\n",
    "available**. \n",
    "\n",
    "The call responsible for the waiting is time.sleep. \n",
    "\n",
    "To **make the code start working on other tasks**, we need to **find a way to avoid blocking** the program flow so that\n",
    "the **rest of the program can go on** with the other tasks.\n",
    "\n",
    "One of the simplest ways to accomplish this behavior is through **callbacks**."
   ]
  },
  {
   "cell_type": "markdown",
   "metadata": {},
   "source": [
    "We will compare the blocking code of time.sleep with the equivalent **non-blocking code of threading.Timer**"
   ]
  },
  {
   "cell_type": "markdown",
   "metadata": {},
   "source": [
    "For this example, we will write a function, **wait_and_print**, that will **block the program\n",
    "execution for one second** and then print a message:"
   ]
  },
  {
   "cell_type": "code",
   "execution_count": 1,
   "metadata": {},
   "outputs": [],
   "source": [
    "import time"
   ]
  },
  {
   "cell_type": "code",
   "execution_count": 2,
   "metadata": {},
   "outputs": [],
   "source": [
    "def wait_and_print(msg):\n",
    "    print(\"*** I will wait five seconds ***\")\n",
    "    time.sleep(5.0) # Wait and Block the CPU\n",
    "    print(\"*** Waiting done ***\")\n",
    "    print(msg)\n",
    "    print(\"*** Function done ***\")"
   ]
  },
  {
   "cell_type": "code",
   "execution_count": 3,
   "metadata": {},
   "outputs": [
    {
     "name": "stdout",
     "output_type": "stream",
     "text": [
      "*** I will wait five seconds ***\n",
      "*** Waiting done ***\n",
      "First call\n",
      "*** Function done ***\n",
      "*** I will wait five seconds ***\n",
      "*** Waiting done ***\n",
      "Second call\n",
      "*** Function done ***\n",
      "*** I will wait five seconds ***\n",
      "*** Waiting done ***\n",
      "Third call\n",
      "*** Function done ***\n"
     ]
    }
   ],
   "source": [
    "# Syncronous\n",
    "wait_and_print(\"First call\")\n",
    "wait_and_print(\"Second call\")\n",
    "wait_and_print(\"Third call\")"
   ]
  },
  {
   "cell_type": "markdown",
   "metadata": {},
   "source": [
    "If we want to write the same function in a non-blocking way, we can use the\n",
    "**threading.Timer class**. \n",
    "\n",
    "We can **initialize a threading.Timer instance** by passing the **amount of time** we want to wait and a **callback**. \n",
    "\n",
    "A callback is simply a function that will be called when the timer expires. \n"
   ]
  },
  {
   "cell_type": "code",
   "execution_count": 4,
   "metadata": {},
   "outputs": [],
   "source": [
    "import threading\n",
    "\n",
    "def wait_and_print_async(msg):\n",
    "    def callback():\n",
    "        print(\"*** Entering callback ***\")\n",
    "        print(msg)\n",
    "        print(\"*** Callback done ***\")\n",
    "\n",
    "    print(\"*** I will wait five seconds without blocking the CPU ***\")        \n",
    "    timer = threading.Timer(5.0, callback) #starting a new thread that is able to handle the wait \n",
    "    # and executing the callback parallel\n",
    "    timer.start() # activate the timer. When timer is done, call the callback function on a new thread\n",
    "    print(\"I didn't block the CPU during the wait time\")\n",
    "    print(\"*** Function done ***\")\n",
    "    "
   ]
  },
  {
   "cell_type": "code",
   "execution_count": 5,
   "metadata": {},
   "outputs": [
    {
     "name": "stdout",
     "output_type": "stream",
     "text": [
      "*** I will wait five seconds without blocking the CPU ***\n",
      "I didn't block the CPU during the wait time\n",
      "*** Function done ***\n",
      "*** I will wait five seconds without blocking the CPU ***\n",
      "I didn't block the CPU during the wait time\n",
      "*** Function done ***\n",
      "*** I will wait five seconds without blocking the CPU ***\n",
      "I didn't block the CPU during the wait time\n",
      "*** Function done ***\n",
      "*** Entering callback ***\n",
      "First call async*** Entering callback ***\n",
      "Second call async\n",
      "*** Callback done ***\n",
      "*** Entering callback ***\n",
      "Third call async\n",
      "*** Callback done ***\n",
      "\n",
      "*** Callback done ***\n"
     ]
    }
   ],
   "source": [
    "wait_and_print_async(\"First call async\")\n",
    "wait_and_print_async(\"Second call async\")\n",
    "wait_and_print_async(\"Third call async\")"
   ]
  },
  {
   "cell_type": "code",
   "execution_count": null,
   "metadata": {},
   "outputs": [],
   "source": []
  }
 ],
 "metadata": {
  "kernelspec": {
   "display_name": "Environment (conda_python3)",
   "language": "python",
   "name": "conda_python3"
  },
  "language_info": {
   "codemirror_mode": {
    "name": "ipython",
    "version": 3
   },
   "file_extension": ".py",
   "mimetype": "text/x-python",
   "name": "python",
   "nbconvert_exporter": "python",
   "pygments_lexer": "ipython3",
   "version": "3.6.5"
  }
 },
 "nbformat": 4,
 "nbformat_minor": 2
}
