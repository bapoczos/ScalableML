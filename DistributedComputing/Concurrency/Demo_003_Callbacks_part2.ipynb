{
 "cells": [
  {
   "cell_type": "markdown",
   "metadata": {},
   "source": [
    "### Based on Lanaro: Python High Performance**"
   ]
  },
  {
   "cell_type": "markdown",
   "metadata": {},
   "source": [
    "# Callbacks"
   ]
  },
  {
   "cell_type": "markdown",
   "metadata": {},
   "source": [
    "Now we explore a slightly more complex situation by rewriting our network_request function using callbacks. \n",
    "\n",
    "In the following code, we **define the network_request_async** function. \n",
    "\n",
    "The biggest difference between network_request_async and its blocking counterpart is that **network_request_async\n",
    "doesn't return anything**. This is because we are merely submitting the request when\n",
    "network_request_async is called, but the **value is available only when the request is completed**."
   ]
  },
  {
   "cell_type": "markdown",
   "metadata": {},
   "source": [
    "If we can't return anything, how do we pass the result of the request? Rather than returning\n",
    "the value, we will **pass the result as an argument to the on_done callback** function"
   ]
  },
  {
   "cell_type": "code",
   "execution_count": 1,
   "metadata": {},
   "outputs": [],
   "source": [
    "import threading"
   ]
  },
  {
   "cell_type": "code",
   "execution_count": 2,
   "metadata": {},
   "outputs": [],
   "source": [
    "def network_request_async(number):\n",
    "        def timer_done():\n",
    "            print('*** callback started ***')\n",
    "            print({\"success\": True, \"result\": number ** 2})\n",
    "            print('*** callback done ***\\n')\n",
    "        \n",
    "        print('*** request started ***')\n",
    "        print('*** I will wait in a non-blocking way ***')\n",
    "        timer = threading.Timer(5.0, timer_done)\n",
    "        timer.start()\n",
    "        print('*** Function done ***\\n')\n",
    "        # We don't return anything!\n",
    "        \n"
   ]
  },
  {
   "cell_type": "code",
   "execution_count": 3,
   "metadata": {},
   "outputs": [
    {
     "name": "stdout",
     "output_type": "stream",
     "text": [
      "*** request started ***\n",
      "*** I will wait in a non-blocking way ***\n",
      "*** Function done ***\n",
      "\n",
      "*** request started ***\n",
      "*** I will wait in a non-blocking way ***\n",
      "*** Function done ***\n",
      "\n",
      "*** request started ***\n",
      "*** I will wait in a non-blocking way ***\n",
      "*** Function done ***\n",
      "\n"
     ]
    }
   ],
   "source": [
    "network_request_async(2)\n",
    "network_request_async(3)\n",
    "network_request_async(4)"
   ]
  },
  {
   "cell_type": "markdown",
   "metadata": {},
   "source": [
    "### Example of calling an asyncronuous function from another function"
   ]
  },
  {
   "cell_type": "code",
   "execution_count": 4,
   "metadata": {},
   "outputs": [],
   "source": [
    "def network_request_async(number, on_done):\n",
    "    def timer_done():\n",
    "        on_done({\"success\": True,\n",
    "                 \"result\": number ** 2})\n",
    "\n",
    "    timer = threading.Timer(5.0, timer_done)\n",
    "    timer.start()\n",
    "            \n",
    "def fetch_square(number):\n",
    "    def on_done(response):\n",
    "        if response[\"success\"]:\n",
    "            print(\"Result is: {}\".format(response[\"result\"]))\n",
    "            print(\"*** callback done ***\\n\")\n",
    "\n",
    "    print('fetch_square function started')        \n",
    "    network_request_async(number, on_done)\n",
    "    print('fetch_square function done\\n')"
   ]
  },
  {
   "cell_type": "code",
   "execution_count": 5,
   "metadata": {},
   "outputs": [
    {
     "name": "stdout",
     "output_type": "stream",
     "text": [
      "fetch_square function started\n",
      "fetch_square function done\n",
      "\n",
      "fetch_square function started\n",
      "fetch_square function done\n",
      "\n",
      "fetch_square function started\n",
      "fetch_square function done\n",
      "\n",
      "*** callback started ***\n",
      "{'success': True, 'result': 4}\n",
      "*** callback done ***\n",
      "\n",
      "*** callback started ***\n",
      "{'success': True, 'result': 9}\n",
      "*** callback done ***\n",
      "\n",
      "*** callback started ***\n",
      "{'success': True, 'result': 16}\n",
      "*** callback done ***\n",
      "\n",
      "Result is: 4\n",
      "*** callback done ***\n",
      "\n",
      "Result is: 9Result is: 16\n",
      "*** callback done ***\n",
      "\n",
      "\n",
      "*** callback done ***\n",
      "\n"
     ]
    }
   ],
   "source": [
    "fetch_square(2)\n",
    "fetch_square(3)\n",
    "fetch_square(4)"
   ]
  },
  {
   "cell_type": "markdown",
   "metadata": {},
   "source": [
    "The **asynchronous code** is significantly **more convoluted than its\n",
    "synchronous counterpart**. \n",
    "\n",
    "This is due to the fact that we are required to **write and pass a\n",
    "callback every time we need to retrieve a certain result**, causing the code to become **nested\n",
    "and hard to follow**."
   ]
  },
  {
   "cell_type": "code",
   "execution_count": null,
   "metadata": {},
   "outputs": [],
   "source": []
  }
 ],
 "metadata": {
  "kernelspec": {
   "display_name": "Environment (conda_python3)",
   "language": "python",
   "name": "conda_python3"
  },
  "language_info": {
   "codemirror_mode": {
    "name": "ipython",
    "version": 3
   },
   "file_extension": ".py",
   "mimetype": "text/x-python",
   "name": "python",
   "nbconvert_exporter": "python",
   "pygments_lexer": "ipython3",
   "version": "3.6.5"
  }
 },
 "nbformat": 4,
 "nbformat_minor": 2
}
