{
 "cells": [
  {
   "cell_type": "code",
   "execution_count": 1,
   "metadata": {},
   "outputs": [],
   "source": [
    "#!pip install ipykernel ipython --upgrade"
   ]
  },
  {
   "cell_type": "markdown",
   "metadata": {},
   "source": [
    "asyncio doesn't work with tornado > 5.0 yet...\n",
    "See, e.g. https://github.com/jupyter/notebook/issues/3397"
   ]
  },
  {
   "cell_type": "code",
   "execution_count": 2,
   "metadata": {},
   "outputs": [],
   "source": [
    "#!pip install tornado==4.5.3"
   ]
  },
  {
   "cell_type": "markdown",
   "metadata": {},
   "source": [
    "**asyncio** “provides infrastructure for writing single-threaded concurrent code using coroutines.\n",
    "The asyncio module provides a framework that revolves around the event loop. An event loop basically says “when event A happens, react with function B”."
   ]
  },
  {
   "cell_type": "markdown",
   "metadata": {},
   "source": [
    "When a user loads the web page, the server will check for and call one or more event handlers. Once those event handlers are done, they need to give control back to the event loop. To do this in Python, **asyncio uses coroutines**."
   ]
  },
  {
   "cell_type": "markdown",
   "metadata": {},
   "source": [
    "A coroutine is a special function that can give up control to its caller without losing its state."
   ]
  },
  {
   "cell_type": "code",
   "execution_count": 3,
   "metadata": {},
   "outputs": [],
   "source": [
    "%autoawait False"
   ]
  },
  {
   "cell_type": "code",
   "execution_count": 4,
   "metadata": {},
   "outputs": [
    {
     "name": "stdout",
     "output_type": "stream",
     "text": [
      "IPython autoawait is `off`, and set to use `asyncio`\n"
     ]
    }
   ],
   "source": [
    "%autoawait"
   ]
  },
  {
   "cell_type": "code",
   "execution_count": 5,
   "metadata": {},
   "outputs": [],
   "source": [
    "import asyncio"
   ]
  },
  {
   "cell_type": "markdown",
   "metadata": {},
   "source": [
    "Examples are here:\n",
    "https://www.blog.pythonlibrary.org/2016/07/26/python-3-an-intro-to-asyncio/"
   ]
  },
  {
   "cell_type": "markdown",
   "metadata": {},
   "source": [
    "You may have noted how **await provides a breakpoint for the event loop**\n",
    "so that, as it **waits for the resource**, the **event loop can move on** and\n",
    "concurrently manage other coroutines"
   ]
  },
  {
   "cell_type": "markdown",
   "metadata": {},
   "source": [
    "Even better, **coroutines are also awaitable**, and we can use the await statement to **chain\n",
    "coroutines asynchronously**. In the following example, we rewrite the\n",
    "network_request function, which we defined earlier, by replacing the call to time.sleep\n",
    "with asyncio.sleep:"
   ]
  },
  {
   "cell_type": "code",
   "execution_count": 6,
   "metadata": {},
   "outputs": [],
   "source": [
    "async def network_request(number):\n",
    "         await asyncio.sleep(3.0)\n",
    "         return {\"success\": True, \"result\": number ** 2}"
   ]
  },
  {
   "cell_type": "markdown",
   "metadata": {},
   "source": [
    "We can follow up by reimplementing fetch_square. As you can see, we can await\n",
    "network_request directly without needing additional futures or callbacks."
   ]
  },
  {
   "cell_type": "code",
   "execution_count": 7,
   "metadata": {},
   "outputs": [],
   "source": [
    "async def fetch_square(number):\n",
    "         response = await network_request(number)\n",
    "         if response[\"success\"]:\n",
    "             print(\"Result is: {}\".format(response[\"result\"]))"
   ]
  },
  {
   "cell_type": "markdown",
   "metadata": {},
   "source": [
    "The coroutines can be executed individually using loop.run_until_complete:"
   ]
  },
  {
   "cell_type": "code",
   "execution_count": 12,
   "metadata": {},
   "outputs": [],
   "source": [
    "loop = asyncio.get_event_loop()"
   ]
  },
  {
   "cell_type": "code",
   "execution_count": 13,
   "metadata": {},
   "outputs": [
    {
     "name": "stdout",
     "output_type": "stream",
     "text": [
      "Result is: 16\n"
     ]
    }
   ],
   "source": [
    "loop.run_until_complete(fetch_square(4))"
   ]
  },
  {
   "cell_type": "code",
   "execution_count": 14,
   "metadata": {},
   "outputs": [
    {
     "name": "stdout",
     "output_type": "stream",
     "text": [
      "Result is: 9\n"
     ]
    }
   ],
   "source": [
    "loop.run_until_complete(fetch_square(3))"
   ]
  },
  {
   "cell_type": "code",
   "execution_count": 15,
   "metadata": {},
   "outputs": [
    {
     "name": "stdout",
     "output_type": "stream",
     "text": [
      "Result is: 4\n"
     ]
    }
   ],
   "source": [
    "loop.run_until_complete(fetch_square(2))"
   ]
  },
  {
   "cell_type": "markdown",
   "metadata": {},
   "source": [
    "Running tasks using run_until_complete is fine for testing and debugging. However,\n",
    "our program will be started with loop.run_forever most of the times, and we will need\n",
    "to submit our tasks while the loop is already running.\n",
    "asyncio provides the ensure_future function, which schedules coroutines (as well as\n",
    "futures) for execution. ensure_future can be used by simply passing the coroutine we\n",
    "want to schedule. The following code will schedule multiple calls to fetch_square that\n",
    "will be executed concurrently:"
   ]
  },
  {
   "cell_type": "code",
   "execution_count": 16,
   "metadata": {},
   "outputs": [
    {
     "data": {
      "text/plain": [
       "<Task pending coro=<fetch_square() running at <ipython-input-7-b131e5135712>:1>>"
      ]
     },
     "execution_count": 16,
     "metadata": {},
     "output_type": "execute_result"
    }
   ],
   "source": [
    "asyncio.ensure_future(fetch_square(2))\n",
    "asyncio.ensure_future(fetch_square(3))\n",
    "asyncio.ensure_future(fetch_square(4))"
   ]
  },
  {
   "cell_type": "code",
   "execution_count": null,
   "metadata": {},
   "outputs": [
    {
     "name": "stdout",
     "output_type": "stream",
     "text": [
      "Result is: 4\n",
      "Result is: 9\n",
      "Result is: 16\n"
     ]
    }
   ],
   "source": [
    "loop.run_forever()"
   ]
  },
  {
   "cell_type": "code",
   "execution_count": null,
   "metadata": {},
   "outputs": [],
   "source": []
  }
 ],
 "metadata": {
  "kernelspec": {
   "display_name": "Python 3",
   "language": "python",
   "name": "python3"
  },
  "language_info": {
   "codemirror_mode": {
    "name": "ipython",
    "version": 3
   },
   "file_extension": ".py",
   "mimetype": "text/x-python",
   "name": "python",
   "nbconvert_exporter": "python",
   "pygments_lexer": "ipython3",
   "version": "3.6.5"
  }
 },
 "nbformat": 4,
 "nbformat_minor": 2
}
