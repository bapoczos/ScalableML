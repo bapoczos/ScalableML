{
 "cells": [
  {
   "cell_type": "code",
   "execution_count": 1,
   "metadata": {},
   "outputs": [],
   "source": [
    "#!pip install ipykernel ipython --upgrade"
   ]
  },
  {
   "cell_type": "markdown",
   "metadata": {},
   "source": [
    "asyncio doesn't work with tornado > 5.0 yet...\n",
    "See, e.g. https://github.com/jupyter/notebook/issues/3397"
   ]
  },
  {
   "cell_type": "code",
   "execution_count": 2,
   "metadata": {},
   "outputs": [],
   "source": [
    "#!pip install tornado==4.5.3"
   ]
  },
  {
   "cell_type": "markdown",
   "metadata": {},
   "source": [
    "**asyncio** “provides infrastructure for writing single-threaded concurrent code using coroutines.\n",
    "The asyncio module provides a framework that revolves around the event loop. An event loop basically says “when event A happens, react with function B”."
   ]
  },
  {
   "cell_type": "markdown",
   "metadata": {},
   "source": [
    "When a user loads the web page, the server will check for and call one or more event handlers. Once those event handlers are done, they need to give control back to the event loop. To do this in Python, **asyncio uses coroutines**."
   ]
  },
  {
   "cell_type": "markdown",
   "metadata": {},
   "source": [
    "A coroutine is a special function that can give up control to its caller without losing its state."
   ]
  },
  {
   "cell_type": "code",
   "execution_count": 3,
   "metadata": {},
   "outputs": [],
   "source": [
    "%autoawait False"
   ]
  },
  {
   "cell_type": "code",
   "execution_count": 4,
   "metadata": {},
   "outputs": [
    {
     "name": "stdout",
     "output_type": "stream",
     "text": [
      "IPython autoawait is `off`, and set to use `asyncio`\n"
     ]
    }
   ],
   "source": [
    "%autoawait"
   ]
  },
  {
   "cell_type": "code",
   "execution_count": 5,
   "metadata": {},
   "outputs": [],
   "source": [
    "import asyncio"
   ]
  },
  {
   "cell_type": "markdown",
   "metadata": {},
   "source": [
    "Examples are here:\n",
    "https://www.blog.pythonlibrary.org/2016/07/26/python-3-an-intro-to-asyncio/"
   ]
  },
  {
   "cell_type": "code",
   "execution_count": 6,
   "metadata": {},
   "outputs": [],
   "source": [
    "#!pip install aiohttp"
   ]
  },
  {
   "cell_type": "code",
   "execution_count": 7,
   "metadata": {},
   "outputs": [],
   "source": [
    "import aiohttp\n",
    "import asyncio\n",
    "import async_timeout\n",
    "import os\n",
    " \n",
    " \n",
    "async def download_coroutine(session, url):\n",
    "    with async_timeout.timeout(10):\n",
    "        async with session.get(url) as response:\n",
    "            filename = os.path.basename(url)\n",
    "            with open(filename, 'wb') as f_handle:\n",
    "                while True:\n",
    "                    chunk = await response.content.read(1024)\n",
    "                    if not chunk:\n",
    "                        break\n",
    "                    f_handle.write(chunk)\n",
    "            return await response.release()\n",
    " \n",
    " \n",
    "async def main(loop):\n",
    "    urls = [\"http://www.irs.gov/pub/irs-pdf/f1040.pdf\",\n",
    "        \"http://www.irs.gov/pub/irs-pdf/f1040a.pdf\",\n",
    "        \"http://www.irs.gov/pub/irs-pdf/f1040ez.pdf\",\n",
    "        \"http://www.irs.gov/pub/irs-pdf/f1040es.pdf\",\n",
    "        \"http://www.irs.gov/pub/irs-pdf/f1040sb.pdf\"]\n",
    " \n",
    "    async with aiohttp.ClientSession(loop=loop) as session:\n",
    "        tasks = [download_coroutine(session, url) for url in urls]\n",
    "        await asyncio.gather(*tasks)\n",
    " \n",
    " \n"
   ]
  },
  {
   "cell_type": "code",
   "execution_count": 8,
   "metadata": {},
   "outputs": [],
   "source": [
    "loop = asyncio.get_event_loop()\n",
    "loop.run_until_complete(main(loop))"
   ]
  },
  {
   "cell_type": "code",
   "execution_count": null,
   "metadata": {},
   "outputs": [],
   "source": []
  }
 ],
 "metadata": {
  "kernelspec": {
   "display_name": "Python 3",
   "language": "python",
   "name": "python3"
  },
  "language_info": {
   "codemirror_mode": {
    "name": "ipython",
    "version": 3
   },
   "file_extension": ".py",
   "mimetype": "text/x-python",
   "name": "python",
   "nbconvert_exporter": "python",
   "pygments_lexer": "ipython3",
   "version": "3.6.5"
  }
 },
 "nbformat": 4,
 "nbformat_minor": 2
}
