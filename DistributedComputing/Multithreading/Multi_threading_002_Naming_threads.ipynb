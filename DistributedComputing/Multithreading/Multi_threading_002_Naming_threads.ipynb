{
 "cells": [
  {
   "cell_type": "markdown",
   "metadata": {},
   "source": [
    "### Based on Zaccone: Python Parallel Programming Cookbook** "
   ]
  },
  {
   "cell_type": "markdown",
   "metadata": {},
   "source": [
    "### Naming the threads to determine which thread is running.\n",
    "\n",
    "**threading.currentThread().getName()** can get the name of the current thread"
   ]
  },
  {
   "cell_type": "code",
   "execution_count": 1,
   "metadata": {},
   "outputs": [],
   "source": [
    "import threading\n",
    "import time\n",
    "\n",
    "def first_function():\n",
    "    print (threading.currentThread().getName()+str(' is Starting \\n'))\n",
    "    time.sleep(2)\n",
    "    print (threading.currentThread().getName()+str( ' is Exiting \\n'))\n",
    "    return\n",
    "\n",
    "def second_function():\n",
    "    print (threading.currentThread().getName()+str(' is Starting \\n'))\n",
    "    time.sleep(2)\n",
    "    print (threading.currentThread().getName()+str( ' is Exiting \\n'))\n",
    "    return\n",
    "\n",
    "def third_function():\n",
    "    print (threading.currentThread().getName()+str(' is Starting \\n'))\n",
    "    time.sleep(2)\n",
    "    print (threading.currentThread().getName()+str( ' is Exiting \\n'))\n",
    "    return"
   ]
  },
  {
   "cell_type": "code",
   "execution_count": 3,
   "metadata": {},
   "outputs": [],
   "source": [
    "#We instantiate a thread with a target function. We also give names to the threads:\n",
    "t1 = threading.Thread(name='first_function', target=first_function)\n",
    "t2 = threading.Thread(name='second_function', target=second_function)\n",
    "t3 = threading.Thread(name='third_function',target=third_function) "
   ]
  },
  {
   "cell_type": "code",
   "execution_count": 4,
   "metadata": {},
   "outputs": [
    {
     "name": "stdout",
     "output_type": "stream",
     "text": [
      "first_function is Starting \n",
      "\n",
      "second_function is Starting \n",
      "third_function is Starting \n",
      "\n",
      "\n",
      "first_function is Exiting \n",
      "\n",
      "second_function is Exiting \n",
      "third_function is Exiting \n",
      "\n",
      "\n"
     ]
    }
   ],
   "source": [
    "t1.start()\n",
    "t2.start()\n",
    "t3.start()\n",
    "\n",
    "t1.join()\n",
    "t2.join()\n",
    "t3.join()"
   ]
  },
  {
   "cell_type": "code",
   "execution_count": null,
   "metadata": {},
   "outputs": [],
   "source": []
  }
 ],
 "metadata": {
  "kernelspec": {
   "display_name": "Environment (conda_python3)",
   "language": "python",
   "name": "conda_python3"
  },
  "language_info": {
   "codemirror_mode": {
    "name": "ipython",
    "version": 3
   },
   "file_extension": ".py",
   "mimetype": "text/x-python",
   "name": "python",
   "nbconvert_exporter": "python",
   "pygments_lexer": "ipython3",
   "version": "3.6.5"
  }
 },
 "nbformat": 4,
 "nbformat_minor": 2
}
