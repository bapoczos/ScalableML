{
 "cells": [
  {
   "cell_type": "markdown",
   "metadata": {},
   "source": [
    "### Demo codes from https://trio.readthedocs.io/en/latest/tutorial.html\n",
    "#### more info here: https://trio.readthedocs.io/en/latest/"
   ]
  },
  {
   "cell_type": "code",
   "execution_count": 1,
   "metadata": {},
   "outputs": [],
   "source": [
    "#!pip install ipykernel ipython --upgrade"
   ]
  },
  {
   "cell_type": "code",
   "execution_count": 2,
   "metadata": {},
   "outputs": [],
   "source": [
    "#!pip install --upgrade trio"
   ]
  },
  {
   "cell_type": "markdown",
   "metadata": {},
   "source": [
    "asyncio doesn't work with tornado > 5.0 yet...\n",
    "See, e.g. https://github.com/jupyter/notebook/issues/3397"
   ]
  },
  {
   "cell_type": "code",
   "execution_count": 3,
   "metadata": {},
   "outputs": [],
   "source": [
    "#!pip install tornado==4.5.3"
   ]
  },
  {
   "cell_type": "code",
   "execution_count": 4,
   "metadata": {},
   "outputs": [],
   "source": [
    "%autoawait trio"
   ]
  },
  {
   "cell_type": "code",
   "execution_count": 5,
   "metadata": {},
   "outputs": [],
   "source": [
    "# A regular function\n",
    "def regular_double(x):\n",
    "    return 2 * x\n",
    "\n",
    "# An async function\n",
    "async def async_double(x):\n",
    "    return 2 * x"
   ]
  },
  {
   "cell_type": "code",
   "execution_count": 6,
   "metadata": {},
   "outputs": [
    {
     "ename": "SyntaxError",
     "evalue": "'await' outside async function (<ipython-input-6-7bcec2c7ad92>, line 5)",
     "output_type": "error",
     "traceback": [
      "\u001b[0;36m  File \u001b[0;32m\"<ipython-input-6-7bcec2c7ad92>\"\u001b[0;36m, line \u001b[0;32m5\u001b[0m\n\u001b[0;31mSyntaxError\u001b[0m\u001b[0;31m:\u001b[0m 'await' outside async function\n"
     ]
    }
   ],
   "source": [
    "def print_double(x):\n",
    "    print(await async_double(x))   # <-- SyntaxError here"
   ]
  },
  {
   "cell_type": "code",
   "execution_count": 7,
   "metadata": {},
   "outputs": [],
   "source": [
    "async def print_double(x):\n",
    "    print(await async_double(x))   # <-- OK!"
   ]
  },
  {
   "cell_type": "code",
   "execution_count": null,
   "metadata": {},
   "outputs": [],
   "source": []
  },
  {
   "cell_type": "code",
   "execution_count": 8,
   "metadata": {},
   "outputs": [
    {
     "data": {
      "text/plain": [
       "6"
      ]
     },
     "execution_count": 8,
     "metadata": {},
     "output_type": "execute_result"
    }
   ],
   "source": [
    "import trio\n",
    "\n",
    "async def async_double(x):\n",
    "    return 2 * x\n",
    "\n",
    "trio.run(async_double, 3)  # returns 6"
   ]
  },
  {
   "cell_type": "code",
   "execution_count": 12,
   "metadata": {},
   "outputs": [],
   "source": [
    "import trio\n",
    "\n",
    "async def double_sleep(x):\n",
    "    await trio.sleep(2 * x)\n",
    "\n",
    "trio.run(double_sleep, 3)  # does nothing for 6 seconds then returns"
   ]
  },
  {
   "cell_type": "code",
   "execution_count": null,
   "metadata": {},
   "outputs": [],
   "source": []
  },
  {
   "cell_type": "code",
   "execution_count": 13,
   "metadata": {},
   "outputs": [
    {
     "name": "stdout",
     "output_type": "stream",
     "text": [
      "*yawn* Going to sleep\n",
      "Woke up after 0.00 seconds, feeling well rested!\n"
     ]
    },
    {
     "name": "stderr",
     "output_type": "stream",
     "text": [
      "/home/ubuntu/anaconda3/lib/python3.6/site-packages/ipykernel_launcher.py:9: RuntimeWarning: coroutine 'sleep' was never awaited\n",
      "  if __name__ == '__main__':\n"
     ]
    }
   ],
   "source": [
    "import time\n",
    "import trio\n",
    "\n",
    "async def broken_double_sleep(x):\n",
    "    print(\"*yawn* Going to sleep\")\n",
    "    start_time = time.perf_counter()\n",
    "\n",
    "    # Whoops, we forgot the 'await'!\n",
    "    trio.sleep(2 * x)\n",
    "\n",
    "    sleep_time = time.perf_counter() - start_time\n",
    "    print(\"Woke up after {:.2f} seconds, feeling well rested!\".format(sleep_time))\n",
    "\n",
    "trio.run(broken_double_sleep, 3)"
   ]
  },
  {
   "cell_type": "code",
   "execution_count": null,
   "metadata": {},
   "outputs": [],
   "source": []
  },
  {
   "cell_type": "code",
   "execution_count": 14,
   "metadata": {},
   "outputs": [
    {
     "name": "stdout",
     "output_type": "stream",
     "text": [
      "parent: started!\n",
      "parent: spawning child1...\n",
      "parent: spawning child2...\n",
      "parent: waiting for children to finish...\n",
      "  child2: started! sleeping now...\n",
      "  child1: started! sleeping now...\n",
      "  child2: exiting!\n",
      "  child1: exiting!\n",
      "parent: all done!\n"
     ]
    }
   ],
   "source": [
    "# tasks-intro.py\n",
    "\n",
    "import trio\n",
    "\n",
    "async def child1():\n",
    "    print(\"  child1: started! sleeping now...\")\n",
    "    await trio.sleep(1)\n",
    "    print(\"  child1: exiting!\")\n",
    "\n",
    "async def child2():\n",
    "    print(\"  child2: started! sleeping now...\")\n",
    "    await trio.sleep(1)\n",
    "    print(\"  child2: exiting!\")\n",
    "\n",
    "async def parent():\n",
    "    print(\"parent: started!\")\n",
    "    async with trio.open_nursery() as nursery:\n",
    "        print(\"parent: spawning child1...\")\n",
    "        nursery.start_soon(child1)\n",
    "\n",
    "        print(\"parent: spawning child2...\")\n",
    "        nursery.start_soon(child2)\n",
    "\n",
    "        print(\"parent: waiting for children to finish...\")\n",
    "        # -- we exit the nursery block here --\n",
    "    print(\"parent: all done!\")\n",
    "\n",
    "trio.run(parent)"
   ]
  },
  {
   "cell_type": "code",
   "execution_count": 15,
   "metadata": {},
   "outputs": [],
   "source": [
    "class Tracer(trio.abc.Instrument):\n",
    "    def before_run(self):\n",
    "        print(\"!!! run started\")\n",
    "\n",
    "    def _print_with_task(self, msg, task):\n",
    "        # repr(task) is perhaps more useful than task.name in general,\n",
    "        # but in context of a tutorial the extra noise is unhelpful.\n",
    "        print(\"{}: {}\".format(msg, task.name))\n",
    "\n",
    "    def task_spawned(self, task):\n",
    "        self._print_with_task(\"### new task spawned\", task)\n",
    "\n",
    "    def task_scheduled(self, task):\n",
    "        self._print_with_task(\"### task scheduled\", task)\n",
    "\n",
    "    def before_task_step(self, task):\n",
    "        self._print_with_task(\">>> about to run one step of task\", task)\n",
    "\n",
    "    def after_task_step(self, task):\n",
    "        self._print_with_task(\"<<< task step finished\", task)\n",
    "\n",
    "    def task_exited(self, task):\n",
    "        self._print_with_task(\"### task exited\", task)\n",
    "\n",
    "    def before_io_wait(self, timeout):\n",
    "        if timeout:\n",
    "            print(\"### waiting for I/O for up to {} seconds\".format(timeout))\n",
    "        else:\n",
    "            print(\"### doing a quick check for I/O\")\n",
    "        self._sleep_time = trio.current_time()\n",
    "\n",
    "    def after_io_wait(self, timeout):\n",
    "        duration = trio.current_time() - self._sleep_time\n",
    "        print(\"### finished I/O check (took {} seconds)\".format(duration))\n",
    "\n",
    "    def after_run(self):\n",
    "        print(\"!!! run finished\")"
   ]
  },
  {
   "cell_type": "code",
   "execution_count": 16,
   "metadata": {},
   "outputs": [
    {
     "name": "stdout",
     "output_type": "stream",
     "text": [
      "!!! run started\n",
      "### new task spawned: <init>\n",
      "### task scheduled: <init>\n",
      "### doing a quick check for I/O\n",
      "### finished I/O check (took 2.1993997506797314e-05 seconds)\n",
      ">>> about to run one step of task: <init>\n",
      "### new task spawned: __main__.parent\n",
      "### task scheduled: __main__.parent\n",
      "### new task spawned: <TrioToken.run_sync_soon task>\n",
      "### task scheduled: <TrioToken.run_sync_soon task>\n",
      "<<< task step finished: <init>\n",
      "### doing a quick check for I/O\n",
      "### finished I/O check (took 1.060499926097691e-05 seconds)\n",
      ">>> about to run one step of task: <TrioToken.run_sync_soon task>\n",
      "<<< task step finished: <TrioToken.run_sync_soon task>\n",
      ">>> about to run one step of task: __main__.parent\n",
      "parent: started!\n",
      "parent: spawning child1...\n",
      "### new task spawned: __main__.child1\n",
      "### task scheduled: __main__.child1\n",
      "parent: spawning child2...\n",
      "### new task spawned: __main__.child2\n",
      "### task scheduled: __main__.child2\n",
      "parent: waiting for children to finish...\n",
      "<<< task step finished: __main__.parent\n",
      "### doing a quick check for I/O\n",
      "### finished I/O check (took 1.4716992154717445e-05 seconds)\n",
      ">>> about to run one step of task: __main__.child1\n",
      "  child1: started! sleeping now...\n",
      "<<< task step finished: __main__.child1\n",
      ">>> about to run one step of task: __main__.child2\n",
      "  child2: started! sleeping now...\n",
      "<<< task step finished: __main__.child2\n",
      "### waiting for I/O for up to 0.9998192780185491 seconds\n",
      "### finished I/O check (took 1.0002269220130984 seconds)\n",
      "### task scheduled: __main__.child1\n",
      "### task scheduled: __main__.child2\n",
      ">>> about to run one step of task: __main__.child1\n",
      "  child1: exiting!\n",
      "### task exited: __main__.child1\n",
      "<<< task step finished: __main__.child1\n",
      ">>> about to run one step of task: __main__.child2\n",
      "  child2: exiting!\n",
      "### task scheduled: __main__.parent\n",
      "### task exited: __main__.child2\n",
      "<<< task step finished: __main__.child2\n",
      "### doing a quick check for I/O\n",
      "### finished I/O check (took 1.571598113514483e-05 seconds)\n",
      ">>> about to run one step of task: __main__.parent\n",
      "parent: all done!\n",
      "### task scheduled: <TrioToken.run_sync_soon task>\n",
      "### task exited: __main__.parent\n",
      "<<< task step finished: __main__.parent\n",
      "### doing a quick check for I/O\n",
      "### finished I/O check (took 9.565002983435988e-06 seconds)\n",
      ">>> about to run one step of task: <TrioToken.run_sync_soon task>\n",
      "### task scheduled: <init>\n",
      "### task exited: <TrioToken.run_sync_soon task>\n",
      "<<< task step finished: <TrioToken.run_sync_soon task>\n",
      "### doing a quick check for I/O\n",
      "### finished I/O check (took 8.25998722575605e-06 seconds)\n",
      ">>> about to run one step of task: <init>\n",
      "### task exited: <init>\n",
      "<<< task step finished: <init>\n",
      "!!! run finished\n"
     ]
    }
   ],
   "source": [
    "trio.run(parent, instruments=[Tracer()])"
   ]
  },
  {
   "cell_type": "code",
   "execution_count": null,
   "metadata": {},
   "outputs": [],
   "source": []
  }
 ],
 "metadata": {
  "kernelspec": {
   "display_name": "Python 3",
   "language": "python",
   "name": "python3"
  },
  "language_info": {
   "codemirror_mode": {
    "name": "ipython",
    "version": 3
   },
   "file_extension": ".py",
   "mimetype": "text/x-python",
   "name": "python",
   "nbconvert_exporter": "python",
   "pygments_lexer": "ipython3",
   "version": "3.6.5"
  }
 },
 "nbformat": 4,
 "nbformat_minor": 2
}
