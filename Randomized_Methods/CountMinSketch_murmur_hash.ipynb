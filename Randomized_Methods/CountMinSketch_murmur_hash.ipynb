{
  "nbformat": 4,
  "nbformat_minor": 0,
  "metadata": {
    "colab": {
      "provenance": []
    },
    "kernelspec": {
      "name": "python3",
      "display_name": "Python 3"
    },
    "language_info": {
      "name": "python"
    }
  },
  "cells": [
    {
      "cell_type": "code",
      "execution_count": 130,
      "metadata": {
        "id": "pf62ruYjpYlm"
      },
      "outputs": [],
      "source": [
        "import numpy as np\n",
        "import urllib.request"
      ]
    },
    {
      "cell_type": "code",
      "source": [
        "!pip install mmh3"
      ],
      "metadata": {
        "colab": {
          "base_uri": "https://localhost:8080/"
        },
        "id": "YO0HUTQUHiz3",
        "outputId": "a7bd961d-7468-470f-8ea9-57c6c28b9b10"
      },
      "execution_count": 3,
      "outputs": [
        {
          "output_type": "stream",
          "name": "stdout",
          "text": [
            "Looking in indexes: https://pypi.org/simple, https://us-python.pkg.dev/colab-wheels/public/simple/\n",
            "Collecting mmh3\n",
            "  Downloading mmh3-3.0.0-cp38-cp38-manylinux2010_x86_64.whl (50 kB)\n",
            "\u001b[2K     \u001b[90m━━━━━━━━━━━━━━━━━━━━━━━━━━━━━━━━━━━━━━━━\u001b[0m \u001b[32m50.0/50.0 KB\u001b[0m \u001b[31m2.6 MB/s\u001b[0m eta \u001b[36m0:00:00\u001b[0m\n",
            "\u001b[?25hInstalling collected packages: mmh3\n",
            "Successfully installed mmh3-3.0.0\n"
          ]
        }
      ]
    },
    {
      "cell_type": "code",
      "source": [
        "import mmh3"
      ],
      "metadata": {
        "id": "CcdTS31YHQDH"
      },
      "execution_count": 4,
      "outputs": []
    },
    {
      "cell_type": "code",
      "source": [
        "eps = 0.002 # bound on realtive error\n",
        "delta = 0.01"
      ],
      "metadata": {
        "id": "ZgrM9S4Nt-3C"
      },
      "execution_count": 131,
      "outputs": []
    },
    {
      "cell_type": "markdown",
      "source": [
        "Colum numbers: $\\doteq\\left\\lceil\\frac{e}{\\epsilon}\\right\\rceil$"
      ],
      "metadata": {
        "id": "1C9cq9GQ2xeN"
      }
    },
    {
      "cell_type": "code",
      "source": [
        "# number of columns\n",
        "col_num = int(np.ceil(np.exp(1)/eps))\n",
        "print(col_num)"
      ],
      "metadata": {
        "colab": {
          "base_uri": "https://localhost:8080/"
        },
        "id": "CfoMGXl22gwE",
        "outputId": "23a4fbb8-52f4-451f-cdb1-55e31896a1ed"
      },
      "execution_count": 132,
      "outputs": [
        {
          "output_type": "stream",
          "name": "stdout",
          "text": [
            "1360\n"
          ]
        }
      ]
    },
    {
      "cell_type": "code",
      "source": [
        "# number of rows\n",
        "row_num  = int(np.ceil(np.log(1/delta)))\n",
        "print(row_num)"
      ],
      "metadata": {
        "colab": {
          "base_uri": "https://localhost:8080/"
        },
        "id": "ZTV9Jof73UKo",
        "outputId": "05621a96-4eda-442b-c012-dc82ff1a62f0"
      },
      "execution_count": 133,
      "outputs": [
        {
          "output_type": "stream",
          "name": "stdout",
          "text": [
            "5\n"
          ]
        }
      ]
    },
    {
      "cell_type": "code",
      "source": [
        "# Based on: https://github.com/pnxenopoulos/countminsketch\n",
        "class CountMinSketch(object):\n",
        "    ''' Class for a CountMinSketch data structure\n",
        "    '''\n",
        "    def __init__(self, width, depth, seeds):\n",
        "        ''' Method to initialize the data structure\n",
        "        @param width int: Width of the table\n",
        "        @param depth int: Depth of the table (num of hash func)\n",
        "        @param seeds list: Random seed list\n",
        "        '''\n",
        "        self.width = width\n",
        "        self.depth = depth\n",
        "        self.table = np.zeros([depth, width])  # Create empty table\n",
        "        self.seed = seeds #seeds to define the hash functions\n",
        "\n",
        "    def increment(self, key):\n",
        "        ''' Method to add a key to the CMS\n",
        "        @param key str: A string to add to the CMS\n",
        "        '''\n",
        "        for i in range(0, self.depth):\n",
        "            #print(i,key,self.seed[i])\n",
        "            index = mmh3.hash(key, self.seed[i]) % self.width\n",
        "            self.table[i, index] = self.table[i, index]+1\n",
        "\n",
        "    def estimate(self, key):\n",
        "        ''' Method to estimate if a key is in a CMS\n",
        "        @param key str: A string to check\n",
        "        '''\n",
        "        vals=[]\n",
        "        for i in range(0, self.depth):\n",
        "            index = mmh3.hash(key, self.seed[i]) % self.width\n",
        "            vals.append(self.table[i, index])\n",
        "            min_est = int(np.min(vals))\n",
        "        return min_est"
      ],
      "metadata": {
        "id": "waLGiinCH47k"
      },
      "execution_count": 146,
      "outputs": []
    },
    {
      "cell_type": "code",
      "source": [
        "seeds=np.random.randint(1000, size = row_num)\n",
        "seeds"
      ],
      "metadata": {
        "colab": {
          "base_uri": "https://localhost:8080/"
        },
        "id": "QnbIHI5jIrLI",
        "outputId": "ae7c537f-f249-48fd-e02c-6a22c339fcf6"
      },
      "execution_count": 136,
      "outputs": [
        {
          "output_type": "execute_result",
          "data": {
            "text/plain": [
              "array([884, 817, 494, 517, 620])"
            ]
          },
          "metadata": {},
          "execution_count": 136
        }
      ]
    },
    {
      "cell_type": "code",
      "source": [
        "CM= CountMinSketch(width=col_num, depth=row_num, seeds=seeds)"
      ],
      "metadata": {
        "id": "Mb_5nmDXIDpt"
      },
      "execution_count": 149,
      "outputs": []
    },
    {
      "cell_type": "code",
      "source": [
        "CM.increment('the')"
      ],
      "metadata": {
        "id": "G1CLB_iZJqgu"
      },
      "execution_count": 150,
      "outputs": []
    },
    {
      "cell_type": "code",
      "source": [
        "CM.estimate('the')"
      ],
      "metadata": {
        "colab": {
          "base_uri": "https://localhost:8080/"
        },
        "id": "yJfVD7n3JNSR",
        "outputId": "364f42b4-9a05-4231-fcf6-2dcccb27e40b"
      },
      "execution_count": 151,
      "outputs": [
        {
          "output_type": "execute_result",
          "data": {
            "text/plain": [
              "1"
            ]
          },
          "metadata": {},
          "execution_count": 151
        }
      ]
    },
    {
      "cell_type": "code",
      "source": [
        "target_url = \"https://www.gutenberg.org/cache/epub/1513/pg1513-images.html#sceneI_30.1\""
      ],
      "metadata": {
        "id": "2pJ_2AKHKycZ"
      },
      "execution_count": 140,
      "outputs": []
    },
    {
      "cell_type": "code",
      "source": [
        "CM= CountMinSketch(width=col_num, depth=row_num, seeds=seeds)\n",
        "\n",
        "mydict={}\n",
        "word_count = 0\n",
        "data = urllib.request.urlopen(target_url)\n",
        "\n",
        "for line in data:\n",
        "  line = str(line)\n",
        "  words = line.split(' ')\n",
        "  for actword in words:\n",
        "    word_count=word_count+1\n",
        "    actword = actword.lower() \n",
        "    CM.increment(actword)\n",
        "    try:\n",
        "      mydict[actword]\n",
        "    except:\n",
        "      mydict[actword]=1\n",
        "    else:\n",
        "      mydict[actword]=mydict[actword]+1\n",
        "print(f'Word count: {word_count}')"
      ],
      "metadata": {
        "colab": {
          "base_uri": "https://localhost:8080/"
        },
        "id": "EM4wHX3wKye3",
        "outputId": "2506e8d7-8cc8-43a6-fabc-c7a33377c13b"
      },
      "execution_count": 152,
      "outputs": [
        {
          "output_type": "stream",
          "name": "stdout",
          "text": [
            "Word count: 31939\n"
          ]
        }
      ]
    },
    {
      "cell_type": "code",
      "source": [
        "print(f'Error bound: {word_count*eps}' )"
      ],
      "metadata": {
        "colab": {
          "base_uri": "https://localhost:8080/"
        },
        "id": "vH3HpOnTQZYt",
        "outputId": "2b27d097-f4b7-406e-dc8e-1d7103b83fe1"
      },
      "execution_count": 153,
      "outputs": [
        {
          "output_type": "stream",
          "name": "stdout",
          "text": [
            "Error bound: 63.878\n"
          ]
        }
      ]
    },
    {
      "cell_type": "code",
      "source": [
        "key = 'romeo'\n",
        "print(CM.estimate(key),mydict[key])"
      ],
      "metadata": {
        "colab": {
          "base_uri": "https://localhost:8080/"
        },
        "id": "NsvcX304PD6f",
        "outputId": "487b693b-4d7c-4b44-85d4-543cdd0322f8"
      },
      "execution_count": 154,
      "outputs": [
        {
          "output_type": "stream",
          "name": "stdout",
          "text": [
            "42 37\n"
          ]
        }
      ]
    },
    {
      "cell_type": "code",
      "source": [
        "key = 'juliet'\n",
        "print(CM.estimate(key),mydict[key])"
      ],
      "metadata": {
        "colab": {
          "base_uri": "https://localhost:8080/"
        },
        "id": "Ar7j5rHkUqN3",
        "outputId": "f99896d1-b153-46d9-d986-87cc7f5b576b"
      },
      "execution_count": 157,
      "outputs": [
        {
          "output_type": "stream",
          "name": "stdout",
          "text": [
            "23 16\n"
          ]
        }
      ]
    },
    {
      "cell_type": "code",
      "source": [
        "key = 'the'\n",
        "print(CM.estimate(key),mydict[key])"
      ],
      "metadata": {
        "colab": {
          "base_uri": "https://localhost:8080/"
        },
        "id": "BmcEA8w9JNVt",
        "outputId": "0b8feb6c-7b2a-4499-f440-2986c2aa3305"
      },
      "execution_count": 158,
      "outputs": [
        {
          "output_type": "stream",
          "name": "stdout",
          "text": [
            "766 762\n"
          ]
        }
      ]
    },
    {
      "cell_type": "code",
      "source": [],
      "metadata": {
        "id": "C3wf2jECUN7A"
      },
      "execution_count": null,
      "outputs": []
    }
  ]
}