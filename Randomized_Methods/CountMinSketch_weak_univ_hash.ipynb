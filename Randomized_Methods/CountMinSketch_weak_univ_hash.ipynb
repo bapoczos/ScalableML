{
  "nbformat": 4,
  "nbformat_minor": 0,
  "metadata": {
    "colab": {
      "provenance": []
    },
    "kernelspec": {
      "name": "python3",
      "display_name": "Python 3"
    },
    "language_info": {
      "name": "python"
    }
  },
  "cells": [
    {
      "cell_type": "code",
      "execution_count": 1,
      "metadata": {
        "id": "pf62ruYjpYlm"
      },
      "outputs": [],
      "source": [
        "import numpy as np"
      ]
    },
    {
      "cell_type": "code",
      "source": [
        "eps = 0.002 # bound on realtive error\n",
        "delta = 0.01 # bound on the probability of getting bigger error then the relative error eps\n",
        "stream_dim=100000 #This can be very big, the domain of the hash functions (number of how many different items we might have)"
      ],
      "metadata": {
        "id": "ZgrM9S4Nt-3C"
      },
      "execution_count": 4,
      "outputs": []
    },
    {
      "cell_type": "markdown",
      "source": [
        "Colum numbers: $\\doteq\\left\\lceil\\frac{e}{\\epsilon}\\right\\rceil$"
      ],
      "metadata": {
        "id": "1C9cq9GQ2xeN"
      }
    },
    {
      "cell_type": "code",
      "source": [
        "# number of columns\n",
        "col_num = int(np.ceil(np.exp(1)/eps))\n",
        "print(col_num)"
      ],
      "metadata": {
        "colab": {
          "base_uri": "https://localhost:8080/"
        },
        "id": "CfoMGXl22gwE",
        "outputId": "bb776094-712f-4bdb-9d8f-b2015df08fac"
      },
      "execution_count": 5,
      "outputs": [
        {
          "output_type": "stream",
          "name": "stdout",
          "text": [
            "1360\n"
          ]
        }
      ]
    },
    {
      "cell_type": "code",
      "source": [
        "# number of rows\n",
        "row_num  = int(np.ceil(np.log(1/delta)))\n",
        "print(row_num)"
      ],
      "metadata": {
        "colab": {
          "base_uri": "https://localhost:8080/"
        },
        "id": "ZTV9Jof73UKo",
        "outputId": "8b1e1638-7e3f-4211-8a60-aaf1b0b3698b"
      },
      "execution_count": 6,
      "outputs": [
        {
          "output_type": "stream",
          "name": "stdout",
          "text": [
            "5\n"
          ]
        }
      ]
    },
    {
      "cell_type": "markdown",
      "source": [
        "**Let us make weakly unviersal hash functions**"
      ],
      "metadata": {
        "id": "FUQtuxqenIR-"
      }
    },
    {
      "cell_type": "code",
      "source": [
        "n=col_num\n",
        "m = stream_dim\n",
        "print(n,m)"
      ],
      "metadata": {
        "colab": {
          "base_uri": "https://localhost:8080/"
        },
        "id": "cMU_CZhz4Ty-",
        "outputId": "738c5ef6-f2dc-4c3c-fe1a-f8f6e222f187"
      },
      "execution_count": 7,
      "outputs": [
        {
          "output_type": "stream",
          "name": "stdout",
          "text": [
            "1360 100000\n"
          ]
        }
      ]
    },
    {
      "cell_type": "code",
      "source": [
        "from sympy import isprime"
      ],
      "metadata": {
        "id": "JY0iqQVW4bgZ"
      },
      "execution_count": 8,
      "outputs": []
    },
    {
      "cell_type": "code",
      "source": [
        "for it in np.arange(m,2*m):\n",
        "  #print(it)\n",
        "  if isprime(int(it)):\n",
        "    p=it\n",
        "    print(p)\n",
        "    break\n"
      ],
      "metadata": {
        "colab": {
          "base_uri": "https://localhost:8080/"
        },
        "id": "I3a7dylt5a2U",
        "outputId": "f9d6e2b2-30f9-4164-9e56-9733fbb2f553"
      },
      "execution_count": 9,
      "outputs": [
        {
          "output_type": "stream",
          "name": "stdout",
          "text": [
            "100003\n"
          ]
        }
      ]
    },
    {
      "cell_type": "code",
      "source": [
        "print(n,m,p)"
      ],
      "metadata": {
        "colab": {
          "base_uri": "https://localhost:8080/"
        },
        "id": "HW9GOhk1AIYT",
        "outputId": "0b9e9442-755a-4c7d-982e-3ac567f9eeb6"
      },
      "execution_count": 10,
      "outputs": [
        {
          "output_type": "stream",
          "name": "stdout",
          "text": [
            "1360 100000 100003\n"
          ]
        }
      ]
    },
    {
      "cell_type": "markdown",
      "source": [
        "$M=\\{0,1,\\ldots,m-1\\}$, $m$ can be big, <br>\n",
        "$N= \\{0,1,\\ldots,n-1\\}$, $n$ is small </br>\n",
        "Let $p$ be a prime number such that $n\\leq m \\leq p \\leq 2m$.\n",
        "\n",
        "Let $\\mathcal{H}\\doteq\\{h_{a,b}:M\\to N| 1\\leq a \\leq p-1, 0\\leq b \\leq p-1\\}$. This is a weakly 2-universal family.\n",
        "\n",
        "$h_{a,b}(x)=((ax+b \\quad \\textrm{mod } p) \\quad \\textrm{mod } n) \\quad \\forall x \\in\\mathbb{Z}_p$"
      ],
      "metadata": {
        "id": "zpz3_IzUvdAz"
      }
    },
    {
      "cell_type": "code",
      "source": [
        "class Make_hash_functions:\n",
        "  def __init__(self, n,m,p):\n",
        "    self.p = p\n",
        "    self.n = n\n",
        "    self.m = m\n",
        "  def make_h_ab(self,a,b):\n",
        "    p=self.p\n",
        "    n=self.n\n",
        "\n",
        "    def h_ab(x):\n",
        "      tmp=a*x+b\n",
        "      tmp =  tmp % p\n",
        "      tmp = tmp % n\n",
        "      return tmp\n",
        "    return h_ab"
      ],
      "metadata": {
        "id": "8AsAktQ5sbRj"
      },
      "execution_count": 11,
      "outputs": []
    },
    {
      "cell_type": "code",
      "source": [
        "print(n,m,p)\n",
        "make_hash_functions_pn = Make_hash_functions(n,m,p)"
      ],
      "metadata": {
        "id": "_Naud_-gtrFe",
        "colab": {
          "base_uri": "https://localhost:8080/"
        },
        "outputId": "ddf16b35-6dda-4d0e-b4e4-5142060ec2ce"
      },
      "execution_count": 12,
      "outputs": [
        {
          "output_type": "stream",
          "name": "stdout",
          "text": [
            "1360 100000 100003\n"
          ]
        }
      ]
    },
    {
      "cell_type": "code",
      "source": [
        "# Let us select randomly row_num hash functions\n",
        "indices_a = np.random.uniform(1,p,size=row_num).astype(int)\n",
        "indices_b = np.random.uniform(0,p,size=row_num).astype(int)\n",
        "print(indices_a,indices_b)"
      ],
      "metadata": {
        "colab": {
          "base_uri": "https://localhost:8080/"
        },
        "id": "cP3Mi1yYYIib",
        "outputId": "be06c976-7b6e-4190-c420-6931234cb161"
      },
      "execution_count": 13,
      "outputs": [
        {
          "output_type": "stream",
          "name": "stdout",
          "text": [
            "[84988 97216 89103 42680 54307] [27527 59542 85269 91296 54576]\n"
          ]
        }
      ]
    },
    {
      "cell_type": "code",
      "source": [
        "# create the hash functions with parameters a and b\n",
        "hash_family = [];\n",
        "for it,_ in enumerate(indices_a):\n",
        "    h=make_hash_functions_pn.make_h_ab(indices_a[it],indices_b[it])\n",
        "    hash_family.append(h)\n"
      ],
      "metadata": {
        "id": "i1evFOJCt24D"
      },
      "execution_count": 15,
      "outputs": []
    },
    {
      "cell_type": "code",
      "source": [
        "H = len(hash_family)\n",
        "print(H)"
      ],
      "metadata": {
        "colab": {
          "base_uri": "https://localhost:8080/"
        },
        "id": "QYNTDgDoxh11",
        "outputId": "d7bd1388-af5b-4d6a-a5cf-7581aba1105b"
      },
      "execution_count": 16,
      "outputs": [
        {
          "output_type": "stream",
          "name": "stdout",
          "text": [
            "5\n"
          ]
        }
      ]
    },
    {
      "cell_type": "code",
      "source": [
        "# h maps from m to n, n <=m\n",
        "print(m,n)\n"
      ],
      "metadata": {
        "colab": {
          "base_uri": "https://localhost:8080/"
        },
        "id": "46DKSHSCyD5c",
        "outputId": "9bf32a30-ad4b-4e08-9443-d96efc0985f6"
      },
      "execution_count": 17,
      "outputs": [
        {
          "output_type": "stream",
          "name": "stdout",
          "text": [
            "100000 1360\n"
          ]
        }
      ]
    },
    {
      "cell_type": "code",
      "source": [
        "if 0:\n",
        "  # Check weak universality:\n",
        "  # Let 0 <=i,j <=n\n",
        "  i = 6 \n",
        "  j= 5\n",
        "  count = 0\n",
        "  for it in np.arange(H):\n",
        "    if hash_family[it](i) == hash_family[it](j):\n",
        "      count = count +1\n",
        "  print(f'We should have {count/H} <= {1/m}')"
      ],
      "metadata": {
        "id": "CLK2wY0sxM6c"
      },
      "execution_count": null,
      "outputs": []
    },
    {
      "cell_type": "markdown",
      "source": [
        "The $CM(\\epsilon,\\delta)$ data structure is\n",
        "represented with a 2D array, called Count matrix\n"
      ],
      "metadata": {
        "id": "TFe6vlDK2Reo"
      }
    },
    {
      "cell_type": "code",
      "source": [
        "print(H)\n",
        "print(col_num)\n",
        "print(row_num)"
      ],
      "metadata": {
        "colab": {
          "base_uri": "https://localhost:8080/"
        },
        "id": "crdgOfC8Cb2h",
        "outputId": "c1b88c52-2c3f-452e-ddad-d79c5720bdd1"
      },
      "execution_count": 18,
      "outputs": [
        {
          "output_type": "stream",
          "name": "stdout",
          "text": [
            "5\n",
            "1360\n",
            "5\n"
          ]
        }
      ]
    },
    {
      "cell_type": "code",
      "source": [],
      "metadata": {
        "id": "Eof_1zeI3vZ1"
      },
      "execution_count": null,
      "outputs": []
    },
    {
      "cell_type": "markdown",
      "source": [
        "### Create a random stream"
      ],
      "metadata": {
        "id": "O8N4DsYBBAZ1"
      }
    },
    {
      "cell_type": "code",
      "source": [
        "A=np.zeros(stream_dim)\n",
        "CM=np.zeros([row_num,col_num])\n",
        "for iter in np.arange(50000):\n",
        "  \n",
        "  # In many real applications the items in the stream are not uniformly distributed. \n",
        "  # Here we sample the items of the stream randomly from a mixture of a uniform and exponential distribution\n",
        "  select = np.random.uniform()\n",
        "  if select > 0.2:\n",
        "    index=np.floor(np.random.exponential(scale=30)).astype(int) % stream_dim\n",
        "  else:\n",
        "    index=np.floor(np.random.uniform(stream_dim)).astype(int)\n",
        "\n",
        "  c=np.ceil(np.random.uniform(10))\n",
        "  A[index]=A[index]+c\n",
        "\n",
        "  for it in np.arange(row_num):\n",
        "    act_col = hash_family[it](index)\n",
        "    CM[it,act_col]=CM[it,act_col]+c"
      ],
      "metadata": {
        "id": "JblDORpfBJJT"
      },
      "execution_count": 19,
      "outputs": []
    },
    {
      "cell_type": "code",
      "source": [
        "print(f' number of items in the stream: {np.sum(A)}')\n",
        "print(f' the max of the counts: {np.max(A)}')\n",
        "print(f' the min of the counts: {np.min(A)}')"
      ],
      "metadata": {
        "colab": {
          "base_uri": "https://localhost:8080/"
        },
        "id": "enokzVFWGaxC",
        "outputId": "ab6f8c0e-9375-425a-e640-0d66ab2a2b9c"
      },
      "execution_count": 20,
      "outputs": [
        {
          "output_type": "stream",
          "name": "stdout",
          "text": [
            " number of items in the stream: 300265.0\n",
            " the max of the counts: 8011.0\n",
            " the min of the counts: 0.0\n"
          ]
        }
      ]
    },
    {
      "cell_type": "code",
      "source": [
        "error_limit=eps*np.sum(A)\n",
        "print(f'Error limit: {error_limit}')"
      ],
      "metadata": {
        "id": "g4ZtUhaplOrR",
        "colab": {
          "base_uri": "https://localhost:8080/"
        },
        "outputId": "8507eb16-1768-427c-d6d3-d1fab6e3551e"
      },
      "execution_count": 21,
      "outputs": [
        {
          "output_type": "stream",
          "name": "stdout",
          "text": [
            "Error limit: 600.53\n"
          ]
        }
      ]
    },
    {
      "cell_type": "code",
      "source": [
        "# Let us check the estimated and true value for an item\n",
        "index = 20\n",
        "true_val = A[index]\n",
        "print(f'True value: {true_val}')\n",
        "\n",
        "CM_values=[]\n",
        "for it in np.arange(row_num):\n",
        "  act_col = hash_family[it](index)\n",
        "  CM_values.append(CM[it,act_col])\n",
        "estimated_val=np.min(CM_values)\n",
        "print(f'Estimated value: {estimated_val}')"
      ],
      "metadata": {
        "colab": {
          "base_uri": "https://localhost:8080/"
        },
        "id": "jipx0UhYg_8c",
        "outputId": "43ff47c6-ee3d-4819-ea14-ab77314e8e46"
      },
      "execution_count": 22,
      "outputs": [
        {
          "output_type": "stream",
          "name": "stdout",
          "text": [
            "True value: 4022.0\n",
            "Estimated value: 4038.0\n"
          ]
        }
      ]
    },
    {
      "cell_type": "code",
      "source": [
        "# The first 8 columns\n",
        "CM[:,:8]"
      ],
      "metadata": {
        "colab": {
          "base_uri": "https://localhost:8080/"
        },
        "id": "K7w_f7KeijUD",
        "outputId": "b826376e-3183-4b6c-ee0b-b4bf297ad885"
      },
      "execution_count": 23,
      "outputs": [
        {
          "output_type": "execute_result",
          "data": {
            "text/plain": [
              "array([[  48.,   14.,   71.,   63.,  379.,   36.,   63.,   44.],\n",
              "       [  35.,   45.,  668.,   55.,   43.,   29.,   25.,   40.],\n",
              "       [  59.,   43.,  296.,   68.,   36.,   49.,   21., 1134.],\n",
              "       [  75.,   46.,   81.,   44.,   42., 2427.,   23.,   15.],\n",
              "       [  42.,   71.,   46.,   45.,   33.,   39.,   39.,   51.]])"
            ]
          },
          "metadata": {},
          "execution_count": 23
        }
      ]
    }
  ]
}