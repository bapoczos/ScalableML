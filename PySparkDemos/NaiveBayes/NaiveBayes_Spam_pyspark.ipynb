{
 "cells": [
  {
   "cell_type": "markdown",
   "id": "98f2994f",
   "metadata": {},
   "source": [
    "based on https://ai.plainenglish.io/build-naive-bayes-spam-classifier-on-pyspark-58aa3352e244"
   ]
  },
  {
   "cell_type": "code",
   "execution_count": 1,
   "id": "9a429021",
   "metadata": {},
   "outputs": [
    {
     "name": "stdout",
     "output_type": "stream",
     "text": [
      "Starting Spark application\n"
     ]
    },
    {
     "data": {
      "text/html": [
       "<table>\n",
       "<tr><th>ID</th><th>YARN Application ID</th><th>Kind</th><th>State</th><th>Spark UI</th><th>Driver log</th><th>User</th><th>Current session?</th></tr><tr><td>1</td><td>application_1675807987740_0002</td><td>pyspark</td><td>idle</td><td><a target=\"_blank\" href=\"http://ip-172-31-40-18.us-east-2.compute.internal:20888/proxy/application_1675807987740_0002/\">Link</a></td><td><a target=\"_blank\" href=\"http://ip-172-31-41-251.us-east-2.compute.internal:8042/node/containerlogs/container_1675807987740_0002_01_000001/livy\">Link</a></td><td>None</td><td>✔</td></tr></table>"
      ],
      "text/plain": [
       "<IPython.core.display.HTML object>"
      ]
     },
     "metadata": {},
     "output_type": "display_data"
    },
    {
     "data": {
      "application/vnd.jupyter.widget-view+json": {
       "model_id": "",
       "version_major": 2,
       "version_minor": 0
      },
      "text/plain": [
       "FloatProgress(value=0.0, bar_style='info', description='Progress:', layout=Layout(height='25px', width='50%'),…"
      ]
     },
     "metadata": {},
     "output_type": "display_data"
    },
    {
     "name": "stdout",
     "output_type": "stream",
     "text": [
      "SparkSession available as 'spark'.\n"
     ]
    },
    {
     "data": {
      "application/vnd.jupyter.widget-view+json": {
       "model_id": "",
       "version_major": 2,
       "version_minor": 0
      },
      "text/plain": [
       "FloatProgress(value=0.0, bar_style='info', description='Progress:', layout=Layout(height='25px', width='50%'),…"
      ]
     },
     "metadata": {},
     "output_type": "display_data"
    },
    {
     "name": "stdout",
     "output_type": "stream",
     "text": [
      "'3.3.0-amzn-0'"
     ]
    }
   ],
   "source": [
    "sc.version"
   ]
  },
  {
   "cell_type": "code",
   "execution_count": 2,
   "id": "b5128026",
   "metadata": {},
   "outputs": [
    {
     "data": {
      "application/vnd.jupyter.widget-view+json": {
       "model_id": "",
       "version_major": 2,
       "version_minor": 0
      },
      "text/plain": [
       "FloatProgress(value=0.0, bar_style='info', description='Progress:', layout=Layout(height='25px', width='50%'),…"
      ]
     },
     "metadata": {},
     "output_type": "display_data"
    }
   ],
   "source": [
    "import wget"
   ]
  },
  {
   "cell_type": "code",
   "execution_count": 3,
   "id": "caa88c48",
   "metadata": {},
   "outputs": [
    {
     "data": {
      "application/vnd.jupyter.widget-view+json": {
       "model_id": "",
       "version_major": 2,
       "version_minor": 0
      },
      "text/plain": [
       "FloatProgress(value=0.0, bar_style='info', description='Progress:', layout=Layout(height='25px', width='50%'),…"
      ]
     },
     "metadata": {},
     "output_type": "display_data"
    }
   ],
   "source": [
    "url = 'http://www.futurecrew.com/skaven/song_files/mp3/razorback.mp3'\n",
    "filename = wget.download(url)"
   ]
  },
  {
   "cell_type": "code",
   "execution_count": 4,
   "id": "043f2543",
   "metadata": {},
   "outputs": [
    {
     "data": {
      "application/vnd.jupyter.widget-view+json": {
       "model_id": "",
       "version_major": 2,
       "version_minor": 0
      },
      "text/plain": [
       "FloatProgress(value=0.0, bar_style='info', description='Progress:', layout=Layout(height='25px', width='50%'),…"
      ]
     },
     "metadata": {},
     "output_type": "display_data"
    },
    {
     "name": "stdout",
     "output_type": "stream",
     "text": [
      "'smsspamcollection.zip'"
     ]
    }
   ],
   "source": [
    "# Define the remote file to retrieve\n",
    "remote_url = 'https://archive.ics.uci.edu/ml/machine-learning-databases/00228/smsspamcollection.zip'\n",
    "# Define the local filename to save data\n",
    "local_file = 'smsspamcollection.zip'\n",
    "# Make http request for remote file data\n",
    "wget.download(remote_url, local_file)"
   ]
  },
  {
   "cell_type": "code",
   "execution_count": 5,
   "id": "9142f88e",
   "metadata": {},
   "outputs": [
    {
     "data": {
      "application/vnd.jupyter.widget-view+json": {
       "model_id": "",
       "version_major": 2,
       "version_minor": 0
      },
      "text/plain": [
       "FloatProgress(value=0.0, bar_style='info', description='Progress:', layout=Layout(height='25px', width='50%'),…"
      ]
     },
     "metadata": {},
     "output_type": "display_data"
    },
    {
     "name": "stdout",
     "output_type": "stream",
     "text": [
      "['tmp', 'container_tokens', '.container_tokens.crc', 'launch_container.sh', '.launch_container.sh.crc', 'default_container_executor_session.sh', '.default_container_executor_session.sh.crc', 'default_container_executor.sh', '.default_container_executor.sh.crc', '__spark_libs__', 'netty-all-4.1.17.Final.jar', 'netlib-native_ref-linux-armhf-1.1-natives.jar', 'pyspark.zip', 'netlib-native_system-linux-i686-1.1-natives.jar', 'arpack_combined_all-0.1.jar', 'native_system-java-1.1.jar', '__spark_conf__', 'livy-core_2.12-0.7.1-incubating.jar', 'livy-api-0.7.1-incubating.jar', 'livy-rsc-0.7.1-incubating.jar', 'hudi-defaults.conf', 'netlib-native_system-linux-x86_64-1.1-natives.jar', 'livy-repl_2.12-0.7.1-incubating.jar', 'jniloader-1.1.jar', 'py4j-0.10.9.5-src.zip', 'netlib-native_system-linux-armhf-1.1-natives.jar', 'livy-thriftserver-session-0.7.1-incubating.jar', 'commons-codec-1.9.jar', 'netlib-native_system-osx-x86_64-1.1-natives.jar', 'netlib-native_ref-win-i686-1.1-natives.jar', 'netlib-native_ref-linux-x86_64-1.1-natives.jar', 'sparkr', 'netlib-native_ref-win-x86_64-1.1-natives.jar', 'netlib-native_ref-osx-x86_64-1.1-natives.jar', 'core-1.1.2.jar', 'native_ref-java-1.1.jar', 'netlib-native_system-win-i686-1.1-natives.jar', 'netlib-native_system-win-x86_64-1.1-natives.jar', 'netlib-native_ref-linux-i686-1.1-natives.jar', 'razorback.mp3', 'smsspamcollection.zip']"
     ]
    }
   ],
   "source": [
    "import os\n",
    "os.listdir() "
   ]
  },
  {
   "cell_type": "code",
   "execution_count": 6,
   "id": "0adb480b",
   "metadata": {},
   "outputs": [
    {
     "data": {
      "application/vnd.jupyter.widget-view+json": {
       "model_id": "",
       "version_major": 2,
       "version_minor": 0
      },
      "text/plain": [
       "FloatProgress(value=0.0, bar_style='info', description='Progress:', layout=Layout(height='25px', width='50%'),…"
      ]
     },
     "metadata": {},
     "output_type": "display_data"
    }
   ],
   "source": [
    "import zipfile"
   ]
  },
  {
   "cell_type": "code",
   "execution_count": 7,
   "id": "6390a7fe",
   "metadata": {},
   "outputs": [
    {
     "data": {
      "application/vnd.jupyter.widget-view+json": {
       "model_id": "",
       "version_major": 2,
       "version_minor": 0
      },
      "text/plain": [
       "FloatProgress(value=0.0, bar_style='info', description='Progress:', layout=Layout(height='25px', width='50%'),…"
      ]
     },
     "metadata": {},
     "output_type": "display_data"
    }
   ],
   "source": [
    "with zipfile.ZipFile(\"smsspamcollection.zip\",\"r\") as zip_ref:\n",
    "    zip_ref.extractall('')"
   ]
  },
  {
   "cell_type": "code",
   "execution_count": 19,
   "id": "df34e697",
   "metadata": {},
   "outputs": [
    {
     "data": {
      "application/vnd.jupyter.widget-view+json": {
       "model_id": "",
       "version_major": 2,
       "version_minor": 0
      },
      "text/plain": [
       "FloatProgress(value=0.0, bar_style='info', description='Progress:', layout=Layout(height='25px', width='50%'),…"
      ]
     },
     "metadata": {},
     "output_type": "display_data"
    },
    {
     "name": "stdout",
     "output_type": "stream",
     "text": [
      "['tmp', 'container_tokens', '.container_tokens.crc', 'launch_container.sh', '.launch_container.sh.crc', 'default_container_executor_session.sh', '.default_container_executor_session.sh.crc', 'default_container_executor.sh', '.default_container_executor.sh.crc', '__spark_libs__', 'netty-all-4.1.17.Final.jar', 'netlib-native_ref-linux-armhf-1.1-natives.jar', 'pyspark.zip', 'netlib-native_system-linux-i686-1.1-natives.jar', 'arpack_combined_all-0.1.jar', 'native_system-java-1.1.jar', '__spark_conf__', 'livy-core_2.12-0.7.1-incubating.jar', 'livy-api-0.7.1-incubating.jar', 'livy-rsc-0.7.1-incubating.jar', 'hudi-defaults.conf', 'netlib-native_system-linux-x86_64-1.1-natives.jar', 'livy-repl_2.12-0.7.1-incubating.jar', 'jniloader-1.1.jar', 'py4j-0.10.9.5-src.zip', 'netlib-native_system-linux-armhf-1.1-natives.jar', 'livy-thriftserver-session-0.7.1-incubating.jar', 'commons-codec-1.9.jar', 'netlib-native_system-osx-x86_64-1.1-natives.jar', 'netlib-native_ref-win-i686-1.1-natives.jar', 'netlib-native_ref-linux-x86_64-1.1-natives.jar', 'sparkr', 'netlib-native_ref-win-x86_64-1.1-natives.jar', 'netlib-native_ref-osx-x86_64-1.1-natives.jar', 'core-1.1.2.jar', 'native_ref-java-1.1.jar', 'netlib-native_system-win-i686-1.1-natives.jar', 'netlib-native_system-win-x86_64-1.1-natives.jar', 'netlib-native_ref-linux-i686-1.1-natives.jar', 'razorback.mp3', 'smsspamcollection.zip', 'SMSSpamCollection', 'readme']"
     ]
    }
   ],
   "source": [
    "os.listdir()"
   ]
  },
  {
   "cell_type": "code",
   "execution_count": 9,
   "id": "1e899efa",
   "metadata": {},
   "outputs": [
    {
     "data": {
      "application/vnd.jupyter.widget-view+json": {
       "model_id": "",
       "version_major": 2,
       "version_minor": 0
      },
      "text/plain": [
       "FloatProgress(value=0.0, bar_style='info', description='Progress:', layout=Layout(height='25px', width='50%'),…"
      ]
     },
     "metadata": {},
     "output_type": "display_data"
    }
   ],
   "source": [
    "#import shutil\n",
    "#shutil.rmtree('SMSSpamCollection', ignore_errors=True)"
   ]
  },
  {
   "cell_type": "code",
   "execution_count": 18,
   "id": "5e9047fa",
   "metadata": {},
   "outputs": [
    {
     "data": {
      "application/vnd.jupyter.widget-view+json": {
       "model_id": "",
       "version_major": 2,
       "version_minor": 0
      },
      "text/plain": [
       "FloatProgress(value=0.0, bar_style='info', description='Progress:', layout=Layout(height='25px', width='50%'),…"
      ]
     },
     "metadata": {},
     "output_type": "display_data"
    },
    {
     "name": "stdout",
     "output_type": "stream",
     "text": [
      "'/mnt/yarn/usercache/livy/appcache/application_1675807987740_0002/container_1675807987740_0002_01_000001'"
     ]
    }
   ],
   "source": [
    "os.getcwd()"
   ]
  },
  {
   "cell_type": "code",
   "execution_count": 28,
   "id": "71d0f382",
   "metadata": {},
   "outputs": [
    {
     "data": {
      "application/vnd.jupyter.widget-view+json": {
       "model_id": "",
       "version_major": 2,
       "version_minor": 0
      },
      "text/plain": [
       "FloatProgress(value=0.0, bar_style='info', description='Progress:', layout=Layout(height='25px', width='50%'),…"
      ]
     },
     "metadata": {},
     "output_type": "display_data"
    },
    {
     "name": "stdout",
     "output_type": "stream",
     "text": [
      "True"
     ]
    }
   ],
   "source": [
    "mypath = os.getcwd()+'/SMSSpamCollection'\n",
    "os.path.isfile(mypath)"
   ]
  },
  {
   "cell_type": "code",
   "execution_count": 29,
   "id": "170d8a5d",
   "metadata": {},
   "outputs": [
    {
     "data": {
      "application/vnd.jupyter.widget-view+json": {
       "model_id": "",
       "version_major": 2,
       "version_minor": 0
      },
      "text/plain": [
       "FloatProgress(value=0.0, bar_style='info', description='Progress:', layout=Layout(height='25px', width='50%'),…"
      ]
     },
     "metadata": {},
     "output_type": "display_data"
    }
   ],
   "source": [
    "f = open(\"SMSSpamCollection\", \"r\")\n",
    "mytext=f.read()\n"
   ]
  },
  {
   "cell_type": "code",
   "execution_count": 64,
   "id": "4f0fc40f",
   "metadata": {},
   "outputs": [
    {
     "data": {
      "application/vnd.jupyter.widget-view+json": {
       "model_id": "",
       "version_major": 2,
       "version_minor": 0
      },
      "text/plain": [
       "FloatProgress(value=0.0, bar_style='info', description='Progress:', layout=Layout(height='25px', width='50%'),…"
      ]
     },
     "metadata": {},
     "output_type": "display_data"
    },
    {
     "name": "stdout",
     "output_type": "stream",
     "text": [
      "ham\tGo until jurong point, crazy.. Available only in bugis n great world la e buffet... Cine there got amore wat...\n",
      "ham\tOk lar... Joking wif u oni...\n",
      "spam\tFree entry in 2 a wkly comp to win FA Cup final tkts 21st May 2005. Text FA to 87121 to receive entry question(std txt rate)T&C's apply 08452810075over18's\n",
      "ham\tU dun say so early hor... U c already then say...\n",
      "ham\tNah I don't think he goes to usf, he lives around here though\n",
      "spam\tFreeMsg Hey there darling it's been 3 week's now and no word back! I'd like some fun you up for it still? Tb ok! XxX std chgs to send, £1.50 to rcv\n",
      "ham\tEven my brother is not like to speak with me. They treat me like aids patent.\n",
      "ham\tAs per your request 'Melle Melle (Oru Minnaminunginte Nurungu Vettam)' has been set as your callertune for all Callers. Press *9 to copy your friends Callertune\n",
      "spam\tWINNER!! As a valued network customer you have been selected to receivea £900 prize reward! To claim call 09061701461. Claim code KL341. Valid 12 hours only.\n",
      "spam\tH"
     ]
    }
   ],
   "source": [
    "print(mytext[0:1000])"
   ]
  },
  {
   "cell_type": "code",
   "execution_count": 43,
   "id": "ad27b0c0",
   "metadata": {},
   "outputs": [
    {
     "data": {
      "application/vnd.jupyter.widget-view+json": {
       "model_id": "",
       "version_major": 2,
       "version_minor": 0
      },
      "text/plain": [
       "FloatProgress(value=0.0, bar_style='info', description='Progress:', layout=Layout(height='25px', width='50%'),…"
      ]
     },
     "metadata": {},
     "output_type": "display_data"
    }
   ],
   "source": [
    "from io import StringIO\n",
    "my_pdf=pd.read_csv(StringIO(mytext), sep='\\t', header=None)\n"
   ]
  },
  {
   "cell_type": "code",
   "execution_count": 46,
   "id": "2f21e011",
   "metadata": {},
   "outputs": [
    {
     "data": {
      "application/vnd.jupyter.widget-view+json": {
       "model_id": "",
       "version_major": 2,
       "version_minor": 0
      },
      "text/plain": [
       "FloatProgress(value=0.0, bar_style='info', description='Progress:', layout=Layout(height='25px', width='50%'),…"
      ]
     },
     "metadata": {},
     "output_type": "display_data"
    },
    {
     "name": "stdout",
     "output_type": "stream",
     "text": [
      "         0                                                  1\n",
      "0      ham  Go until jurong point, crazy.. Available only ...\n",
      "1      ham                      Ok lar... Joking wif u oni...\n",
      "2     spam  Free entry in 2 a wkly comp to win FA Cup fina...\n",
      "3      ham  U dun say so early hor... U c already then say...\n",
      "4      ham  Nah I don't think he goes to usf, he lives aro...\n",
      "...    ...                                                ...\n",
      "5567  spam  This is the 2nd time we have tried 2 contact u...\n",
      "5568   ham               Will ü b going to esplanade fr home?\n",
      "5569   ham  Pity, * was in mood for that. So...any other s...\n",
      "5570   ham  The guy did some bitching but I acted like i'd...\n",
      "5571   ham                         Rofl. Its true to its name\n",
      "\n",
      "[5572 rows x 2 columns]"
     ]
    }
   ],
   "source": [
    "my_pdf"
   ]
  },
  {
   "cell_type": "code",
   "execution_count": 52,
   "id": "6741cd62",
   "metadata": {},
   "outputs": [
    {
     "data": {
      "application/vnd.jupyter.widget-view+json": {
       "model_id": "",
       "version_major": 2,
       "version_minor": 0
      },
      "text/plain": [
       "FloatProgress(value=0.0, bar_style='info', description='Progress:', layout=Layout(height='25px', width='50%'),…"
      ]
     },
     "metadata": {},
     "output_type": "display_data"
    },
    {
     "name": "stdout",
     "output_type": "stream",
     "text": [
      "+------------+--------------------+\n",
      "|label_string|                 sms|\n",
      "+------------+--------------------+\n",
      "|         ham|Go until jurong p...|\n",
      "|         ham|Ok lar... Joking ...|\n",
      "|        spam|Free entry in 2 a...|\n",
      "|         ham|U dun say so earl...|\n",
      "|         ham|Nah I don't think...|\n",
      "|        spam|FreeMsg Hey there...|\n",
      "|         ham|Even my brother i...|\n",
      "|         ham|As per your reque...|\n",
      "|        spam|WINNER!! As a val...|\n",
      "|        spam|Had your mobile 1...|\n",
      "|         ham|I'm gonna be home...|\n",
      "|        spam|SIX chances to wi...|\n",
      "|        spam|URGENT! You have ...|\n",
      "|         ham|I've been searchi...|\n",
      "|         ham|I HAVE A DATE ON ...|\n",
      "|        spam|XXXMobileMovieClu...|\n",
      "|         ham|Oh k...i'm watchi...|\n",
      "|         ham|Eh u remember how...|\n",
      "|         ham|Fine if thats th...|\n",
      "|        spam|England v Macedon...|\n",
      "+------------+--------------------+\n",
      "only showing top 20 rows"
     ]
    }
   ],
   "source": [
    "df = spark.createDataFrame(my_pdf).withColumnRenamed(\"0\", \"label_string\").withColumnRenamed(\"1\", \"sms\")\n",
    "df.show()"
   ]
  },
  {
   "cell_type": "code",
   "execution_count": 53,
   "id": "0d1d346b",
   "metadata": {},
   "outputs": [
    {
     "data": {
      "application/vnd.jupyter.widget-view+json": {
       "model_id": "",
       "version_major": 2,
       "version_minor": 0
      },
      "text/plain": [
       "FloatProgress(value=0.0, bar_style='info', description='Progress:', layout=Layout(height='25px', width='50%'),…"
      ]
     },
     "metadata": {},
     "output_type": "display_data"
    }
   ],
   "source": [
    "# Import the required packages\n",
    "from pyspark.ml.feature import CountVectorizer\n",
    "from pyspark.ml.feature import Tokenizer, RegexTokenizer\n",
    "from pyspark.ml.feature import StringIndexer\n",
    "from pyspark.ml.feature import VectorAssembler\n",
    "from pyspark.ml.classification import NaiveBayes"
   ]
  },
  {
   "cell_type": "code",
   "execution_count": 54,
   "id": "524e421a",
   "metadata": {},
   "outputs": [
    {
     "data": {
      "application/vnd.jupyter.widget-view+json": {
       "model_id": "",
       "version_major": 2,
       "version_minor": 0
      },
      "text/plain": [
       "FloatProgress(value=0.0, bar_style='info', description='Progress:', layout=Layout(height='25px', width='50%'),…"
      ]
     },
     "metadata": {},
     "output_type": "display_data"
    },
    {
     "name": "stdout",
     "output_type": "stream",
     "text": [
      "\n",
      " RegexTokenizer_bd5e6583326e\n",
      "\n",
      " CountVectorizer_9a22e772e766\n",
      "\n",
      " StringIndexer_d6ba23e34fe9\n",
      "\n",
      " VectorAssembler_b016d550656d\n",
      "[None, None, None, None]"
     ]
    }
   ],
   "source": [
    "stages = []\n",
    "# 1. clean data and tokenize sentences using RegexTokenizer\n",
    "regexTokenizer = RegexTokenizer(inputCol=\"sms\", outputCol=\"tokens\", pattern=\"\\\\W+\")\n",
    "stages += [regexTokenizer]\n",
    "\n",
    "# 2. CountVectorize the data\n",
    "cv = CountVectorizer(inputCol=\"tokens\", outputCol=\"token_features\", minDF=2.0)#, vocabSize=3, minDF=2.0\n",
    "stages += [cv]\n",
    "\n",
    "# 3. Convert the labels to numerical values using binariser\n",
    "indexer = StringIndexer(inputCol=\"label_string\", outputCol=\"label\")\n",
    "stages += [indexer]\n",
    "\n",
    "# 4. Vectorise features using vectorassembler\n",
    "vecAssembler = VectorAssembler(inputCols=['token_features'], outputCol=\"features\")\n",
    "stages += [vecAssembler]\n",
    "\n",
    "[print('\\n', stage) for stage in stages]"
   ]
  },
  {
   "cell_type": "code",
   "execution_count": 60,
   "id": "5e8d3a0c",
   "metadata": {},
   "outputs": [
    {
     "data": {
      "application/vnd.jupyter.widget-view+json": {
       "model_id": "",
       "version_major": 2,
       "version_minor": 0
      },
      "text/plain": [
       "FloatProgress(value=0.0, bar_style='info', description='Progress:', layout=Layout(height='25px', width='50%'),…"
      ]
     },
     "metadata": {},
     "output_type": "display_data"
    }
   ],
   "source": [
    "from pyspark.ml import Pipeline\n",
    "pipeline = Pipeline(stages=stages)\n",
    "data = pipeline.fit(df).transform(df)"
   ]
  },
  {
   "cell_type": "code",
   "execution_count": 67,
   "id": "8b85e5c3",
   "metadata": {},
   "outputs": [
    {
     "data": {
      "application/vnd.jupyter.widget-view+json": {
       "model_id": "",
       "version_major": 2,
       "version_minor": 0
      },
      "text/plain": [
       "FloatProgress(value=0.0, bar_style='info', description='Progress:', layout=Layout(height='25px', width='50%'),…"
      ]
     },
     "metadata": {},
     "output_type": "display_data"
    },
    {
     "name": "stdout",
     "output_type": "stream",
     "text": [
      "+------------+--------------------+--------------------+--------------------+-----+--------------------+\n",
      "|label_string|                 sms|              tokens|      token_features|label|            features|\n",
      "+------------+--------------------+--------------------+--------------------+-----+--------------------+\n",
      "|         ham|Go until jurong p...|[go, until, juron...|(4249,[7,52,60,61...|  0.0|(4249,[7,52,60,61...|\n",
      "|         ham|Ok lar... Joking ...|[ok, lar, joking,...|(4249,[5,48,346,4...|  0.0|(4249,[5,48,346,4...|\n",
      "|        spam|Free entry in 2 a...|[free, entry, in,...|(4249,[1,3,7,17,2...|  1.0|(4249,[1,3,7,17,2...|\n",
      "|         ham|U dun say so earl...|[u, dun, say, so,...|(4249,[5,25,59,11...|  0.0|(4249,[5,25,59,11...|\n",
      "|         ham|Nah I don't think...|[nah, i, don, t, ...|(4249,[0,1,23,65,...|  0.0|(4249,[0,1,23,65,...|\n",
      "|        spam|FreeMsg Hey there...|[freemsg, hey, th...|(4249,[0,1,2,6,11...|  1.0|(4249,[0,1,2,6,11...|\n",
      "|         ham|Even my brother i...|[even, my, brothe...|(4249,[1,8,9,10,2...|  0.0|(4249,[1,8,9,10,2...|\n",
      "|         ham|As per your reque...|[as, per, your, r...|(4249,[1,12,13,53...|  0.0|(4249,[1,12,13,53...|\n",
      "|        spam|WINNER!! As a val...|[winner, as, a, v...|(4249,[1,2,3,15,1...|  1.0|(4249,[1,2,3,15,1...|\n",
      "|        spam|Had your mobile 1...|[had, your, mobil...|(4249,[1,4,5,12,1...|  1.0|(4249,[1,4,5,12,1...|\n",
      "+------------+--------------------+--------------------+--------------------+-----+--------------------+\n",
      "only showing top 10 rows"
     ]
    }
   ],
   "source": [
    "data.show(10)"
   ]
  },
  {
   "cell_type": "code",
   "execution_count": 80,
   "id": "d054388f",
   "metadata": {},
   "outputs": [
    {
     "data": {
      "application/vnd.jupyter.widget-view+json": {
       "model_id": "",
       "version_major": 2,
       "version_minor": 0
      },
      "text/plain": [
       "FloatProgress(value=0.0, bar_style='info', description='Progress:', layout=Layout(height='25px', width='50%'),…"
      ]
     },
     "metadata": {},
     "output_type": "display_data"
    }
   ],
   "source": [
    "myrow=data.take(1)[0]"
   ]
  },
  {
   "cell_type": "code",
   "execution_count": 85,
   "id": "dc73fb9c",
   "metadata": {},
   "outputs": [
    {
     "data": {
      "application/vnd.jupyter.widget-view+json": {
       "model_id": "",
       "version_major": 2,
       "version_minor": 0
      },
      "text/plain": [
       "FloatProgress(value=0.0, bar_style='info', description='Progress:', layout=Layout(height='25px', width='50%'),…"
      ]
     },
     "metadata": {},
     "output_type": "display_data"
    },
    {
     "name": "stdout",
     "output_type": "stream",
     "text": [
      "Go until jurong point, crazy.. Available only in bugis n great world la e buffet... Cine there got amore wat...\n",
      "111"
     ]
    }
   ],
   "source": [
    "print(myrow[1])\n",
    "print(len(myrow[1]))"
   ]
  },
  {
   "cell_type": "code",
   "execution_count": 84,
   "id": "fa75325b",
   "metadata": {},
   "outputs": [
    {
     "data": {
      "application/vnd.jupyter.widget-view+json": {
       "model_id": "",
       "version_major": 2,
       "version_minor": 0
      },
      "text/plain": [
       "FloatProgress(value=0.0, bar_style='info', description='Progress:', layout=Layout(height='25px', width='50%'),…"
      ]
     },
     "metadata": {},
     "output_type": "display_data"
    },
    {
     "name": "stdout",
     "output_type": "stream",
     "text": [
      "['go', 'until', 'jurong', 'point', 'crazy', 'available', 'only', 'in', 'bugis', 'n', 'great', 'world', 'la', 'e', 'buffet', 'cine', 'there', 'got', 'amore', 'wat']\n",
      "20"
     ]
    }
   ],
   "source": [
    "print(myrow[2])\n",
    "print(len(myrow[2]))"
   ]
  },
  {
   "cell_type": "code",
   "execution_count": 93,
   "id": "3bbefd99",
   "metadata": {},
   "outputs": [
    {
     "data": {
      "application/vnd.jupyter.widget-view+json": {
       "model_id": "",
       "version_major": 2,
       "version_minor": 0
      },
      "text/plain": [
       "FloatProgress(value=0.0, bar_style='info', description='Progress:', layout=Layout(height='25px', width='50%'),…"
      ]
     },
     "metadata": {},
     "output_type": "display_data"
    },
    {
     "name": "stdout",
     "output_type": "stream",
     "text": [
      "4249\n",
      "SparseVector(4249, {7: 1.0, 52: 1.0, 60: 1.0, 61: 1.0, 69: 1.0, 92: 1.0, 128: 1.0, 138: 1.0, 149: 1.0, 340: 1.0, 475: 1.0, 653: 1.0, 762: 1.0, 856: 1.0, 1392: 1.0, 1425: 1.0, 1449: 1.0, 2977: 1.0})"
     ]
    }
   ],
   "source": [
    "print(len(myrow[3]))\n",
    "myrow[3] #Sparse vector!"
   ]
  },
  {
   "cell_type": "code",
   "execution_count": 98,
   "id": "a09b0bb3",
   "metadata": {},
   "outputs": [
    {
     "data": {
      "application/vnd.jupyter.widget-view+json": {
       "model_id": "",
       "version_major": 2,
       "version_minor": 0
      },
      "text/plain": [
       "FloatProgress(value=0.0, bar_style='info', description='Progress:', layout=Layout(height='25px', width='50%'),…"
      ]
     },
     "metadata": {},
     "output_type": "display_data"
    },
    {
     "name": "stdout",
     "output_type": "stream",
     "text": [
      "4249\n",
      "SparseVector(4249, {7: 1.0, 52: 1.0, 60: 1.0, 61: 1.0, 69: 1.0, 92: 1.0, 128: 1.0, 138: 1.0, 149: 1.0, 340: 1.0, 475: 1.0, 653: 1.0, 762: 1.0, 856: 1.0, 1392: 1.0, 1425: 1.0, 1449: 1.0, 2977: 1.0})"
     ]
    }
   ],
   "source": [
    "print(len(myrow[5]))\n",
    "myrow[5] #Sparse vector!\n"
   ]
  },
  {
   "cell_type": "code",
   "execution_count": 61,
   "id": "b7e82de3",
   "metadata": {},
   "outputs": [
    {
     "data": {
      "application/vnd.jupyter.widget-view+json": {
       "model_id": "",
       "version_major": 2,
       "version_minor": 0
      },
      "text/plain": [
       "FloatProgress(value=0.0, bar_style='info', description='Progress:', layout=Layout(height='25px', width='50%'),…"
      ]
     },
     "metadata": {},
     "output_type": "display_data"
    }
   ],
   "source": [
    "train, test = data.randomSplit([0.7, 0.3], seed = 2018)"
   ]
  },
  {
   "cell_type": "code",
   "execution_count": 62,
   "id": "8c4ab433",
   "metadata": {},
   "outputs": [
    {
     "data": {
      "application/vnd.jupyter.widget-view+json": {
       "model_id": "",
       "version_major": 2,
       "version_minor": 0
      },
      "text/plain": [
       "FloatProgress(value=0.0, bar_style='info', description='Progress:', layout=Layout(height='25px', width='50%'),…"
      ]
     },
     "metadata": {},
     "output_type": "display_data"
    },
    {
     "name": "stdout",
     "output_type": "stream",
     "text": [
      "+-----+----------+--------------------+\n",
      "|label|prediction|         probability|\n",
      "+-----+----------+--------------------+\n",
      "|  0.0|       0.0|[0.99999999998502...|\n",
      "|  0.0|       0.0|[1.0,9.9944924432...|\n",
      "|  0.0|       0.0|[0.99995307089561...|\n",
      "|  0.0|       0.0|[0.99999999999996...|\n",
      "|  0.0|       0.0|[1.0,3.8880759688...|\n",
      "|  0.0|       0.0|[0.99721004254286...|\n",
      "|  0.0|       0.0|[0.99997384692459...|\n",
      "|  0.0|       0.0|[0.95132192017068...|\n",
      "|  0.0|       0.0|[1.0,2.5029409705...|\n",
      "|  0.0|       0.0|[0.99998437378653...|\n",
      "|  0.0|       0.0|[0.99964675874825...|\n",
      "|  0.0|       0.0|[0.99999963377621...|\n",
      "|  0.0|       0.0|[0.99999999993842...|\n",
      "|  0.0|       0.0|[0.98408367661440...|\n",
      "|  0.0|       0.0|[0.99985802417588...|\n",
      "|  0.0|       0.0|[0.99999999999932...|\n",
      "|  0.0|       0.0|[0.99999540641006...|\n",
      "|  0.0|       0.0|[0.99941445374825...|\n",
      "|  0.0|       0.0|[0.99999999983287...|\n",
      "|  0.0|       0.0|[0.99998068624588...|\n",
      "+-----+----------+--------------------+\n",
      "only showing top 20 rows"
     ]
    }
   ],
   "source": [
    "from pyspark.ml.classification import NaiveBayes\n",
    "# Initialise the model\n",
    "nb = NaiveBayes(smoothing=1.0, modelType=\"multinomial\")\n",
    "# Fit the model\n",
    "model = nb.fit(train)\n",
    "# Make predictions on test data\n",
    "predictions = model.transform(test)\n",
    "predictions.select(\"label\", \"prediction\", \"probability\").show()"
   ]
  },
  {
   "cell_type": "code",
   "execution_count": 63,
   "id": "5a5e469f",
   "metadata": {},
   "outputs": [
    {
     "data": {
      "application/vnd.jupyter.widget-view+json": {
       "model_id": "",
       "version_major": 2,
       "version_minor": 0
      },
      "text/plain": [
       "FloatProgress(value=0.0, bar_style='info', description='Progress:', layout=Layout(height='25px', width='50%'),…"
      ]
     },
     "metadata": {},
     "output_type": "display_data"
    },
    {
     "name": "stdout",
     "output_type": "stream",
     "text": [
      "Model Accuracy:  0.9622117349421038"
     ]
    }
   ],
   "source": [
    "from pyspark.ml.evaluation import BinaryClassificationEvaluator\n",
    "evaluator = BinaryClassificationEvaluator(rawPredictionCol=\"prediction\")\n",
    "accuracy = evaluator.evaluate(predictions)\n",
    "print (\"Model Accuracy: \", accuracy)"
   ]
  },
  {
   "cell_type": "code",
   "execution_count": null,
   "id": "e61865b8",
   "metadata": {},
   "outputs": [],
   "source": []
  }
 ],
 "metadata": {
  "kernelspec": {
   "display_name": "PySpark",
   "language": "python",
   "name": "pysparkkernel"
  },
  "language_info": {
   "codemirror_mode": {
    "name": "python",
    "version": 3
   },
   "file_extension": ".py",
   "mimetype": "text/x-python",
   "name": "pyspark",
   "pygments_lexer": "python3"
  }
 },
 "nbformat": 4,
 "nbformat_minor": 5
}
