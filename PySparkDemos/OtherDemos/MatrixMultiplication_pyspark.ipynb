{
 "cells": [
  {
   "cell_type": "code",
   "execution_count": 1,
   "id": "773238bf",
   "metadata": {},
   "outputs": [
    {
     "name": "stdout",
     "output_type": "stream",
     "text": [
      "Starting Spark application\n"
     ]
    },
    {
     "data": {
      "text/html": [
       "<table>\n",
       "<tr><th>ID</th><th>YARN Application ID</th><th>Kind</th><th>State</th><th>Spark UI</th><th>Driver log</th><th>User</th><th>Current session?</th></tr><tr><td>14</td><td>application_1675528049135_0015</td><td>pyspark</td><td>idle</td><td><a target=\"_blank\" href=\"http://ip-172-31-46-43.us-east-2.compute.internal:20888/proxy/application_1675528049135_0015/\">Link</a></td><td><a target=\"_blank\" href=\"http://ip-172-31-41-58.us-east-2.compute.internal:8042/node/containerlogs/container_1675528049135_0015_01_000001/livy\">Link</a></td><td>None</td><td>✔</td></tr></table>"
      ],
      "text/plain": [
       "<IPython.core.display.HTML object>"
      ]
     },
     "metadata": {},
     "output_type": "display_data"
    },
    {
     "data": {
      "application/vnd.jupyter.widget-view+json": {
       "model_id": "",
       "version_major": 2,
       "version_minor": 0
      },
      "text/plain": [
       "FloatProgress(value=0.0, bar_style='info', description='Progress:', layout=Layout(height='25px', width='50%'),…"
      ]
     },
     "metadata": {},
     "output_type": "display_data"
    },
    {
     "name": "stdout",
     "output_type": "stream",
     "text": [
      "SparkSession available as 'spark'.\n"
     ]
    },
    {
     "data": {
      "application/vnd.jupyter.widget-view+json": {
       "model_id": "",
       "version_major": 2,
       "version_minor": 0
      },
      "text/plain": [
       "FloatProgress(value=0.0, bar_style='info', description='Progress:', layout=Layout(height='25px', width='50%'),…"
      ]
     },
     "metadata": {},
     "output_type": "display_data"
    },
    {
     "name": "stdout",
     "output_type": "stream",
     "text": [
      "<SparkContext master=yarn appName=livy-session-14>"
     ]
    }
   ],
   "source": [
    "sc"
   ]
  },
  {
   "cell_type": "code",
   "execution_count": 2,
   "id": "644ba5b6",
   "metadata": {},
   "outputs": [
    {
     "data": {
      "application/vnd.jupyter.widget-view+json": {
       "model_id": "",
       "version_major": 2,
       "version_minor": 0
      },
      "text/plain": [
       "FloatProgress(value=0.0, bar_style='info', description='Progress:', layout=Layout(height='25px', width='50%'),…"
      ]
     },
     "metadata": {},
     "output_type": "display_data"
    }
   ],
   "source": [
    "import numpy as np\n",
    "import pandas as pd\n",
    "from pyspark.mllib.linalg.distributed import IndexedRowMatrix, IndexedRow\n"
   ]
  },
  {
   "cell_type": "code",
   "execution_count": 3,
   "id": "09b4f122",
   "metadata": {},
   "outputs": [
    {
     "data": {
      "application/vnd.jupyter.widget-view+json": {
       "model_id": "",
       "version_major": 2,
       "version_minor": 0
      },
      "text/plain": [
       "FloatProgress(value=0.0, bar_style='info', description='Progress:', layout=Layout(height='25px', width='50%'),…"
      ]
     },
     "metadata": {},
     "output_type": "display_data"
    }
   ],
   "source": [
    "dim1 = 30\n",
    "dim2 = 40\n",
    "dim3 = 50\n",
    "\n",
    "#A = np.random.randn(dim1, dim2)\n",
    "#B = np.random.randn(dim2, dim3)\n",
    "\n",
    "A = np.arange(dim1*dim2, dtype=np.float64).reshape(dim1, dim2)\n",
    "B = np.arange(dim2*dim3, dtype=np.float64).reshape(dim2, dim3)\n"
   ]
  },
  {
   "cell_type": "code",
   "execution_count": 4,
   "id": "03720d63",
   "metadata": {},
   "outputs": [
    {
     "data": {
      "application/vnd.jupyter.widget-view+json": {
       "model_id": "",
       "version_major": 2,
       "version_minor": 0
      },
      "text/plain": [
       "FloatProgress(value=0.0, bar_style='info', description='Progress:', layout=Layout(height='25px', width='50%'),…"
      ]
     },
     "metadata": {},
     "output_type": "display_data"
    }
   ],
   "source": [
    "def as_block_matrix(rdd, rowsPerBlock=5, colsPerBlock=5):\n",
    "    return IndexedRowMatrix(\n",
    "        rdd.zipWithIndex().map(lambda xi: IndexedRow(xi[1], xi[0]))\n",
    "    ).toBlockMatrix(rowsPerBlock, colsPerBlock)\n",
    "\n",
    "matrixA = as_block_matrix(sc.parallelize(A))\n",
    "matrixB = as_block_matrix(sc.parallelize(B))\n",
    "matrixC = matrixA.multiply(matrixB)\n"
   ]
  },
  {
   "cell_type": "code",
   "execution_count": 5,
   "id": "384af857",
   "metadata": {},
   "outputs": [
    {
     "data": {
      "application/vnd.jupyter.widget-view+json": {
       "model_id": "",
       "version_major": 2,
       "version_minor": 0
      },
      "text/plain": [
       "FloatProgress(value=0.0, bar_style='info', description='Progress:', layout=Layout(height='25px', width='50%'),…"
      ]
     },
     "metadata": {},
     "output_type": "display_data"
    },
    {
     "name": "stdout",
     "output_type": "stream",
     "text": [
      "[[1027000. 1027780.]\n",
      " [2587000. 2589380.]]"
     ]
    }
   ],
   "source": [
    "C_np=np.matmul(A,B)\n",
    "print(C_np[:2,:2])"
   ]
  },
  {
   "cell_type": "code",
   "execution_count": 6,
   "id": "9bd9a3dd",
   "metadata": {},
   "outputs": [
    {
     "data": {
      "application/vnd.jupyter.widget-view+json": {
       "model_id": "",
       "version_major": 2,
       "version_minor": 0
      },
      "text/plain": [
       "FloatProgress(value=0.0, bar_style='info', description='Progress:', layout=Layout(height='25px', width='50%'),…"
      ]
     },
     "metadata": {},
     "output_type": "display_data"
    },
    {
     "name": "stdout",
     "output_type": "stream",
     "text": [
      "[[1027000. 1027780.]\n",
      " [2587000. 2589380.]]"
     ]
    }
   ],
   "source": [
    "C_spark=matrixC.toLocalMatrix().toArray()\n",
    "print(C_spark[:2,:2])"
   ]
  },
  {
   "cell_type": "code",
   "execution_count": null,
   "id": "a101b82d",
   "metadata": {},
   "outputs": [],
   "source": []
  },
  {
   "cell_type": "code",
   "execution_count": null,
   "id": "63650083",
   "metadata": {},
   "outputs": [],
   "source": []
  },
  {
   "cell_type": "code",
   "execution_count": 7,
   "id": "06d9760f",
   "metadata": {},
   "outputs": [
    {
     "data": {
      "application/vnd.jupyter.widget-view+json": {
       "model_id": "",
       "version_major": 2,
       "version_minor": 0
      },
      "text/plain": [
       "FloatProgress(value=0.0, bar_style='info', description='Progress:', layout=Layout(height='25px', width='50%'),…"
      ]
     },
     "metadata": {},
     "output_type": "display_data"
    },
    {
     "name": "stdout",
     "output_type": "stream",
     "text": [
      "True"
     ]
    }
   ],
   "source": [
    "print(np.allclose(C_np,C_spark))"
   ]
  },
  {
   "cell_type": "code",
   "execution_count": 8,
   "id": "cf60e21d",
   "metadata": {},
   "outputs": [
    {
     "data": {
      "application/vnd.jupyter.widget-view+json": {
       "model_id": "",
       "version_major": 2,
       "version_minor": 0
      },
      "text/plain": [
       "FloatProgress(value=0.0, bar_style='info', description='Progress:', layout=Layout(height='25px', width='50%'),…"
      ]
     },
     "metadata": {},
     "output_type": "display_data"
    },
    {
     "name": "stdout",
     "output_type": "stream",
     "text": [
      "(30, 40) 48\n",
      "(40, 50) 80\n",
      "(30, 50) 60"
     ]
    }
   ],
   "source": [
    "print(A.shape, len(matrixA.blocks.collect()))\n",
    "print(B.shape, len(matrixB.blocks.collect()))\n",
    "print(C_np.shape, len(matrixC.blocks.collect()))"
   ]
  },
  {
   "cell_type": "code",
   "execution_count": 9,
   "id": "37cd8409",
   "metadata": {},
   "outputs": [
    {
     "data": {
      "application/vnd.jupyter.widget-view+json": {
       "model_id": "",
       "version_major": 2,
       "version_minor": 0
      },
      "text/plain": [
       "FloatProgress(value=0.0, bar_style='info', description='Progress:', layout=Layout(height='25px', width='50%'),…"
      ]
     },
     "metadata": {},
     "output_type": "display_data"
    },
    {
     "name": "stdout",
     "output_type": "stream",
     "text": [
      "array([[ 8827000.,  8835780.,  8844560.,  8853340.,  8862120.],\n",
      "       [10387000., 10397380., 10407760., 10418140., 10428520.],\n",
      "       [11947000., 11958980., 11970960., 11982940., 11994920.],\n",
      "       [13507000., 13520580., 13534160., 13547740., 13561320.],\n",
      "       [15067000., 15082180., 15097360., 15112540., 15127720.]])"
     ]
    }
   ],
   "source": [
    "block_id=2\n",
    "matrixC.blocks.collect()[block_id][1].toArray()"
   ]
  },
  {
   "cell_type": "code",
   "execution_count": 10,
   "id": "874b59cb",
   "metadata": {},
   "outputs": [
    {
     "data": {
      "application/vnd.jupyter.widget-view+json": {
       "model_id": "",
       "version_major": 2,
       "version_minor": 0
      },
      "text/plain": [
       "FloatProgress(value=0.0, bar_style='info', description='Progress:', layout=Layout(height='25px', width='50%'),…"
      ]
     },
     "metadata": {},
     "output_type": "display_data"
    },
    {
     "name": "stdout",
     "output_type": "stream",
     "text": [
      "array([[ 8827000.,  8835780.,  8844560.,  8853340.,  8862120.],\n",
      "       [10387000., 10397380., 10407760., 10418140., 10428520.],\n",
      "       [11947000., 11958980., 11970960., 11982940., 11994920.],\n",
      "       [13507000., 13520580., 13534160., 13547740., 13561320.],\n",
      "       [15067000., 15082180., 15097360., 15112540., 15127720.]])"
     ]
    }
   ],
   "source": [
    "C_np[5:10,0:5]"
   ]
  },
  {
   "cell_type": "code",
   "execution_count": null,
   "id": "6e2b4829",
   "metadata": {},
   "outputs": [],
   "source": []
  }
 ],
 "metadata": {
  "kernelspec": {
   "display_name": "PySpark",
   "language": "python",
   "name": "pysparkkernel"
  },
  "language_info": {
   "codemirror_mode": {
    "name": "python",
    "version": 3
   },
   "file_extension": ".py",
   "mimetype": "text/x-python",
   "name": "pyspark",
   "pygments_lexer": "python3"
  }
 },
 "nbformat": 4,
 "nbformat_minor": 5
}
