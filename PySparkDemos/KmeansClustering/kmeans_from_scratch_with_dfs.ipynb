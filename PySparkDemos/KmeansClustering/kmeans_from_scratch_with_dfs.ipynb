{
 "cells": [
  {
   "cell_type": "code",
   "execution_count": 1,
   "metadata": {},
   "outputs": [
    {
     "name": "stdout",
     "output_type": "stream",
     "text": [
      "Starting Spark application\n"
     ]
    },
    {
     "data": {
      "text/html": [
       "<table>\n",
       "<tr><th>ID</th><th>YARN Application ID</th><th>Kind</th><th>State</th><th>Spark UI</th><th>Driver log</th><th>User</th><th>Current session?</th></tr><tr><td>1</td><td>application_1675882034894_0002</td><td>pyspark</td><td>idle</td><td><a target=\"_blank\" href=\"http://ip-172-31-32-239.us-east-2.compute.internal:20888/proxy/application_1675882034894_0002/\">Link</a></td><td><a target=\"_blank\" href=\"http://ip-172-31-36-55.us-east-2.compute.internal:8042/node/containerlogs/container_1675882034894_0002_01_000001/livy\">Link</a></td><td>None</td><td>✔</td></tr></table>"
      ],
      "text/plain": [
       "<IPython.core.display.HTML object>"
      ]
     },
     "metadata": {},
     "output_type": "display_data"
    },
    {
     "data": {
      "application/vnd.jupyter.widget-view+json": {
       "model_id": "",
       "version_major": 2,
       "version_minor": 0
      },
      "text/plain": [
       "FloatProgress(value=0.0, bar_style='info', description='Progress:', layout=Layout(height='25px', width='50%'),…"
      ]
     },
     "metadata": {},
     "output_type": "display_data"
    },
    {
     "name": "stdout",
     "output_type": "stream",
     "text": [
      "SparkSession available as 'spark'.\n"
     ]
    },
    {
     "data": {
      "application/vnd.jupyter.widget-view+json": {
       "model_id": "",
       "version_major": 2,
       "version_minor": 0
      },
      "text/plain": [
       "FloatProgress(value=0.0, bar_style='info', description='Progress:', layout=Layout(height='25px', width='50%'),…"
      ]
     },
     "metadata": {},
     "output_type": "display_data"
    },
    {
     "name": "stdout",
     "output_type": "stream",
     "text": [
      "<SparkContext master=yarn appName=livy-session-1>"
     ]
    }
   ],
   "source": [
    "sc"
   ]
  },
  {
   "cell_type": "code",
   "execution_count": 2,
   "metadata": {},
   "outputs": [
    {
     "data": {
      "application/vnd.jupyter.widget-view+json": {
       "model_id": "",
       "version_major": 2,
       "version_minor": 0
      },
      "text/plain": [
       "FloatProgress(value=0.0, bar_style='info', description='Progress:', layout=Layout(height='25px', width='50%'),…"
      ]
     },
     "metadata": {},
     "output_type": "display_data"
    }
   ],
   "source": [
    "import matplotlib.pyplot as plt\n",
    "from matplotlib import style\n",
    "style.use('fivethirtyeight')"
   ]
  },
  {
   "cell_type": "code",
   "execution_count": 3,
   "metadata": {},
   "outputs": [
    {
     "data": {
      "application/vnd.jupyter.widget-view+json": {
       "model_id": "",
       "version_major": 2,
       "version_minor": 0
      },
      "text/plain": [
       "FloatProgress(value=0.0, bar_style='info', description='Progress:', layout=Layout(height='25px', width='50%'),…"
      ]
     },
     "metadata": {},
     "output_type": "display_data"
    }
   ],
   "source": [
    "from sklearn.datasets import make_blobs\n",
    "import numpy as np\n",
    "import pandas as pd\n",
    "\n",
    "from pyspark.mllib.linalg.distributed import IndexedRowMatrix, IndexedRow\n",
    "\n",
    "from pyspark.sql.functions import udf, struct\n",
    "from pyspark.sql.types import FloatType, IntegerType\n",
    "from pyspark.sql.functions import col\n",
    "import pyspark.sql.functions as f\n",
    "\n"
   ]
  },
  {
   "cell_type": "markdown",
   "metadata": {},
   "source": [
    "### Create data"
   ]
  },
  {
   "cell_type": "code",
   "execution_count": 4,
   "metadata": {},
   "outputs": [
    {
     "data": {
      "application/vnd.jupyter.widget-view+json": {
       "model_id": "",
       "version_major": 2,
       "version_minor": 0
      },
      "text/plain": [
       "FloatProgress(value=0.0, bar_style='info', description='Progress:', layout=Layout(height='25px', width='50%'),…"
      ]
     },
     "metadata": {},
     "output_type": "display_data"
    }
   ],
   "source": [
    "n_samples=1600\n",
    "n_clusters=3\n",
    "n_features =2"
   ]
  },
  {
   "cell_type": "code",
   "execution_count": 5,
   "metadata": {},
   "outputs": [
    {
     "data": {
      "application/vnd.jupyter.widget-view+json": {
       "model_id": "",
       "version_major": 2,
       "version_minor": 0
      },
      "text/plain": [
       "FloatProgress(value=0.0, bar_style='info', description='Progress:', layout=Layout(height='25px', width='50%'),…"
      ]
     },
     "metadata": {},
     "output_type": "display_data"
    },
    {
     "name": "stdout",
     "output_type": "stream",
     "text": [
      "(1600, 2)"
     ]
    }
   ],
   "source": [
    "np.random.seed(24)\n",
    "\n",
    "# Creating a n_features=2 Dim dataset with centers=3 clusters\n",
    "Xs, Ys = make_blobs(n_samples=n_samples, n_features=n_features, centers=n_clusters)\n",
    "print(Xs.shape)"
   ]
  },
  {
   "cell_type": "code",
   "execution_count": 6,
   "metadata": {},
   "outputs": [
    {
     "data": {
      "application/vnd.jupyter.widget-view+json": {
       "model_id": "",
       "version_major": 2,
       "version_minor": 0
      },
      "text/plain": [
       "FloatProgress(value=0.0, bar_style='info', description='Progress:', layout=Layout(height='25px', width='50%'),…"
      ]
     },
     "metadata": {},
     "output_type": "display_data"
    },
    {
     "name": "stdout",
     "output_type": "stream",
     "text": [
      "[[ 0.03426483  0.06039263]\n",
      " [ 0.41996483 -0.78388267]\n",
      " [ 0.25672095  1.32709177]]"
     ]
    }
   ],
   "source": [
    "cluster_centers_np = np.random.randn(n_clusters, n_features)\n",
    "print(cluster_centers_np)"
   ]
  },
  {
   "cell_type": "code",
   "execution_count": 7,
   "metadata": {
    "scrolled": true
   },
   "outputs": [
    {
     "data": {
      "application/vnd.jupyter.widget-view+json": {
       "model_id": "",
       "version_major": 2,
       "version_minor": 0
      },
      "text/plain": [
       "FloatProgress(value=0.0, bar_style='info', description='Progress:', layout=Layout(height='25px', width='50%'),…"
      ]
     },
     "metadata": {},
     "output_type": "display_data"
    },
    {
     "data": {
      "image/png": "[encoded data removed]",
      "text/plain": [
       "<IPython.core.display.Image object>"
      ]
     },
     "metadata": {},
     "output_type": "display_data"
    }
   ],
   "source": [
    "plt.rcParams['figure.figsize'] = (8, 5)\n",
    "fig = plt.figure()\n",
    "\n",
    "ax0 = fig.add_subplot(111)\n",
    "ax0.scatter([point[0] for point in Xs], [point[1] for point in Xs])\n",
    "ax0.set_title('Dataset')\n",
    "\n",
    "C= cluster_centers_np\n",
    "plt.scatter(np.array(C[:,0]), np.array(C[:,1]), marker='*', s=300, c='r')\n",
    "\n",
    "%matplot plt"
   ]
  },
  {
   "cell_type": "code",
   "execution_count": 8,
   "metadata": {},
   "outputs": [
    {
     "data": {
      "application/vnd.jupyter.widget-view+json": {
       "model_id": "",
       "version_major": 2,
       "version_minor": 0
      },
      "text/plain": [
       "FloatProgress(value=0.0, bar_style='info', description='Progress:', layout=Layout(height='25px', width='50%'),…"
      ]
     },
     "metadata": {},
     "output_type": "display_data"
    },
    {
     "name": "stdout",
     "output_type": "stream",
     "text": [
      "+-------------------+-------------------+\n",
      "|                 x1|                 x2|\n",
      "+-------------------+-------------------+\n",
      "|-2.5638208798284507|  4.456735811810272|\n",
      "| 10.490242243595278|-5.1535626793877345|\n",
      "|-3.2685543481553845|  6.069838764259055|\n",
      "| 10.435737197119435| 3.9543776746596095|\n",
      "|  9.260825829214923|  4.936193706759728|\n",
      "+-------------------+-------------------+\n",
      "only showing top 5 rows"
     ]
    }
   ],
   "source": [
    "x_df=spark.createDataFrame(pd.DataFrame(Xs,columns=list(['x1','x2'])))\n",
    "x_df.show(5)"
   ]
  },
  {
   "cell_type": "markdown",
   "metadata": {},
   "source": [
    "### KMeans updates"
   ]
  },
  {
   "cell_type": "code",
   "execution_count": 10,
   "metadata": {},
   "outputs": [
    {
     "data": {
      "application/vnd.jupyter.widget-view+json": {
       "model_id": "",
       "version_major": 2,
       "version_minor": 0
      },
      "text/plain": [
       "FloatProgress(value=0.0, bar_style='info', description='Progress:', layout=Layout(height='25px', width='50%'),…"
      ]
     },
     "metadata": {},
     "output_type": "display_data"
    },
    {
     "name": "stdout",
     "output_type": "stream",
     "text": [
      "26.077882747280274"
     ]
    }
   ],
   "source": [
    "#Calculate the squared distance between a data instance and a cluster center\n",
    "row = np.array(x_df.take(1)[0]) # data instance\n",
    "print(np.linalg.norm(row-cluster_centers_np[0])**2) #first cluster center\n"
   ]
  },
  {
   "cell_type": "code",
   "execution_count": 12,
   "metadata": {},
   "outputs": [
    {
     "data": {
      "application/vnd.jupyter.widget-view+json": {
       "model_id": "",
       "version_major": 2,
       "version_minor": 0
      },
      "text/plain": [
       "FloatProgress(value=0.0, bar_style='info', description='Progress:', layout=Layout(height='25px', width='50%'),…"
      ]
     },
     "metadata": {},
     "output_type": "display_data"
    }
   ],
   "source": [
    "# calculate the squred distance between a data instance (myrow) \n",
    "#and all the cluster centers (mycenter)\n",
    "\n",
    "def distance_from(mycenter):\n",
    "    return f.udf(lambda myrow: sum([(x-mycenter[it])**2 for it,x in enumerate(myrow)]), FloatType())"
   ]
  },
  {
   "cell_type": "code",
   "execution_count": 14,
   "metadata": {},
   "outputs": [
    {
     "data": {
      "application/vnd.jupyter.widget-view+json": {
       "model_id": "",
       "version_major": 2,
       "version_minor": 0
      },
      "text/plain": [
       "FloatProgress(value=0.0, bar_style='info', description='Progress:', layout=Layout(height='25px', width='50%'),…"
      ]
     },
     "metadata": {},
     "output_type": "display_data"
    },
    {
     "name": "stdout",
     "output_type": "stream",
     "text": [
      "+-------------------+-------------------+\n",
      "|                 x1|                 x2|\n",
      "+-------------------+-------------------+\n",
      "|-2.5638208798284507|  4.456735811810272|\n",
      "| 10.490242243595278|-5.1535626793877345|\n",
      "|-3.2685543481553845|  6.069838764259055|\n",
      "| 10.435737197119435| 3.9543776746596095|\n",
      "|  9.260825829214923|  4.936193706759728|\n",
      "+-------------------+-------------------+\n",
      "only showing top 5 rows"
     ]
    }
   ],
   "source": [
    "x_df.show(5)"
   ]
  },
  {
   "cell_type": "code",
   "execution_count": 15,
   "metadata": {},
   "outputs": [
    {
     "data": {
      "application/vnd.jupyter.widget-view+json": {
       "model_id": "",
       "version_major": 2,
       "version_minor": 0
      },
      "text/plain": [
       "FloatProgress(value=0.0, bar_style='info', description='Progress:', layout=Layout(height='25px', width='50%'),…"
      ]
     },
     "metadata": {},
     "output_type": "display_data"
    },
    {
     "name": "stdout",
     "output_type": "stream",
     "text": [
      "+-------------------+-------------------+----------+----------+---------+\n",
      "|                 x1|                 x2| sq_norm_0| sq_norm_1|sq_norm_2|\n",
      "+-------------------+-------------------+----------+----------+---------+\n",
      "|-2.5638208798284507|  4.456735811810272| 26.077883| 36.367058|17.750128|\n",
      "| 10.490242243595278|-5.1535626793877345| 136.51279| 120.50459|146.72385|\n",
      "|-3.2685543481553845|  6.069838764259055| 47.022057|  60.57867|34.921215|\n",
      "| 10.435737197119435| 3.9543776746596095|123.353745| 122.76681|  110.515|\n",
      "|  9.260825829214923|  4.936193706759728| 108.90286|  110.8801| 94.09952|\n",
      "|-2.6294512508241956| 3.8576784451119805| 21.514763| 30.843027|14.733859|\n",
      "|  7.548191177187899| -4.720251713145924|  79.31365|  66.30661|  89.7359|\n",
      "|  8.555401604576748| -6.397837730270541| 114.31851|  97.70182|128.54263|\n",
      "| -1.539054700017762|  4.962466533288968| 26.505663| 36.858288| 16.44076|\n",
      "|-3.6051237450575684|  4.119242333215236|  29.71941| 40.241974| 22.70995|\n",
      "|  9.906711684149462| -4.339334950164115| 116.82281| 102.63961|125.23071|\n",
      "|  9.834932274821382|  3.274161375444754| 106.38139| 105.10934| 95.53321|\n",
      "|  8.299371136472597|-3.7864067258709047|  83.10985|   71.1002| 90.83209|\n",
      "| 10.352422903480027| -5.713678617112796| 139.80429| 122.95661|151.49565|\n",
      "|  9.132115006972672| -7.110844647008607| 134.19753| 115.93201|149.97139|\n",
      "| -3.150875908961631|  4.275897462999925| 27.915602|  38.35228| 20.30717|\n",
      "|  11.40844637745329| 5.4785136887234245| 158.72804| 159.96434|141.59529|\n",
      "|  8.575524570034109|  4.841153144601208|  95.80879|  98.15418|81.551125|\n",
      "|-2.9538321929668734|  4.688127153603122|  30.34465| 41.325397| 21.60421|\n",
      "|  9.568841362249547|  3.825292067349924| 105.08262|104.946434| 92.95659|\n",
      "+-------------------+-------------------+----------+----------+---------+\n",
      "only showing top 20 rows"
     ]
    }
   ],
   "source": [
    "# calculate the distances between all data points and all cluster centers\n",
    "results_df =x_df\n",
    "for i in np.arange(n_clusters):\n",
    "    act_center=list(float(it) for it in cluster_centers_np[i])\n",
    "    results_df = results_df.withColumn(f\"sq_norm_{i}\", distance_from(act_center)(struct([x_df[x] for x in x_df.columns])))\n",
    "results_df.show()"
   ]
  },
  {
   "cell_type": "code",
   "execution_count": 16,
   "metadata": {},
   "outputs": [
    {
     "data": {
      "application/vnd.jupyter.widget-view+json": {
       "model_id": "",
       "version_major": 2,
       "version_minor": 0
      },
      "text/plain": [
       "FloatProgress(value=0.0, bar_style='info', description='Progress:', layout=Layout(height='25px', width='50%'),…"
      ]
     },
     "metadata": {},
     "output_type": "display_data"
    },
    {
     "name": "stdout",
     "output_type": "stream",
     "text": [
      "+----------+----------+---------+\n",
      "| sq_norm_0| sq_norm_1|sq_norm_2|\n",
      "+----------+----------+---------+\n",
      "| 26.077883| 36.367058|17.750128|\n",
      "| 136.51279| 120.50459|146.72385|\n",
      "| 47.022057|  60.57867|34.921215|\n",
      "|123.353745| 122.76681|  110.515|\n",
      "| 108.90286|  110.8801| 94.09952|\n",
      "| 21.514763| 30.843027|14.733859|\n",
      "|  79.31365|  66.30661|  89.7359|\n",
      "| 114.31851|  97.70182|128.54263|\n",
      "| 26.505663| 36.858288| 16.44076|\n",
      "|  29.71941| 40.241974| 22.70995|\n",
      "| 116.82281| 102.63961|125.23071|\n",
      "| 106.38139| 105.10934| 95.53321|\n",
      "|  83.10985|   71.1002| 90.83209|\n",
      "| 139.80429| 122.95661|151.49565|\n",
      "| 134.19753| 115.93201|149.97139|\n",
      "| 27.915602|  38.35228| 20.30717|\n",
      "| 158.72804| 159.96434|141.59529|\n",
      "|  95.80879|  98.15418|81.551125|\n",
      "|  30.34465| 41.325397| 21.60421|\n",
      "| 105.08262|104.946434| 92.95659|\n",
      "+----------+----------+---------+\n",
      "only showing top 20 rows"
     ]
    }
   ],
   "source": [
    "# select the distance columns only\n",
    "sq_norms_df=results_df.select([f\"sq_norm_{i}\" for i in np.arange(n_clusters)])\n",
    "sq_norms_df.show()"
   ]
  },
  {
   "cell_type": "code",
   "execution_count": 17,
   "metadata": {},
   "outputs": [
    {
     "data": {
      "application/vnd.jupyter.widget-view+json": {
       "model_id": "",
       "version_major": 2,
       "version_minor": 0
      },
      "text/plain": [
       "FloatProgress(value=0.0, bar_style='info', description='Progress:', layout=Layout(height='25px', width='50%'),…"
      ]
     },
     "metadata": {},
     "output_type": "display_data"
    },
    {
     "name": "stdout",
     "output_type": "stream",
     "text": [
      "+-------------------+-------------------+----------+----------+---------+--------+\n",
      "|                 x1|                 x2| sq_norm_0| sq_norm_1|sq_norm_2|min_dist|\n",
      "+-------------------+-------------------+----------+----------+---------+--------+\n",
      "|-2.5638208798284507|  4.456735811810272| 26.077883| 36.367058|17.750128|       2|\n",
      "| 10.490242243595278|-5.1535626793877345| 136.51279| 120.50459|146.72385|       1|\n",
      "|-3.2685543481553845|  6.069838764259055| 47.022057|  60.57867|34.921215|       2|\n",
      "| 10.435737197119435| 3.9543776746596095|123.353745| 122.76681|  110.515|       2|\n",
      "|  9.260825829214923|  4.936193706759728| 108.90286|  110.8801| 94.09952|       2|\n",
      "|-2.6294512508241956| 3.8576784451119805| 21.514763| 30.843027|14.733859|       2|\n",
      "|  7.548191177187899| -4.720251713145924|  79.31365|  66.30661|  89.7359|       1|\n",
      "|  8.555401604576748| -6.397837730270541| 114.31851|  97.70182|128.54263|       1|\n",
      "| -1.539054700017762|  4.962466533288968| 26.505663| 36.858288| 16.44076|       2|\n",
      "|-3.6051237450575684|  4.119242333215236|  29.71941| 40.241974| 22.70995|       2|\n",
      "|  9.906711684149462| -4.339334950164115| 116.82281| 102.63961|125.23071|       1|\n",
      "|  9.834932274821382|  3.274161375444754| 106.38139| 105.10934| 95.53321|       2|\n",
      "|  8.299371136472597|-3.7864067258709047|  83.10985|   71.1002| 90.83209|       1|\n",
      "| 10.352422903480027| -5.713678617112796| 139.80429| 122.95661|151.49565|       1|\n",
      "|  9.132115006972672| -7.110844647008607| 134.19753| 115.93201|149.97139|       1|\n",
      "| -3.150875908961631|  4.275897462999925| 27.915602|  38.35228| 20.30717|       2|\n",
      "|  11.40844637745329| 5.4785136887234245| 158.72804| 159.96434|141.59529|       2|\n",
      "|  8.575524570034109|  4.841153144601208|  95.80879|  98.15418|81.551125|       2|\n",
      "|-2.9538321929668734|  4.688127153603122|  30.34465| 41.325397| 21.60421|       2|\n",
      "|  9.568841362249547|  3.825292067349924| 105.08262|104.946434| 92.95659|       2|\n",
      "+-------------------+-------------------+----------+----------+---------+--------+\n",
      "only showing top 20 rows"
     ]
    }
   ],
   "source": [
    "# Calculate which cluster center is the closest\n",
    "@udf(returnType=IntegerType()) \n",
    "def min_dist(myrow):\n",
    "    dist=int(np.argmin(np.array([x for x in myrow])))\n",
    "    return dist\n",
    "\n",
    "results_df = results_df.withColumn(\"min_dist\", min_dist(struct([sq_norms_df[x] for x in sq_norms_df.columns])))\n",
    "results_df.show()"
   ]
  },
  {
   "cell_type": "code",
   "execution_count": 22,
   "metadata": {},
   "outputs": [
    {
     "data": {
      "application/vnd.jupyter.widget-view+json": {
       "model_id": "",
       "version_major": 2,
       "version_minor": 0
      },
      "text/plain": [
       "FloatProgress(value=0.0, bar_style='info', description='Progress:', layout=Layout(height='25px', width='50%'),…"
      ]
     },
     "metadata": {},
     "output_type": "display_data"
    },
    {
     "name": "stdout",
     "output_type": "stream",
     "text": [
      "+------------------+-------------------+\n",
      "|                x1|                 x2|\n",
      "+------------------+-------------------+\n",
      "|10.490242243595278|-5.1535626793877345|\n",
      "| 7.548191177187899| -4.720251713145924|\n",
      "| 8.555401604576748| -6.397837730270541|\n",
      "| 9.906711684149462| -4.339334950164115|\n",
      "| 8.299371136472597|-3.7864067258709047|\n",
      "|10.352422903480027| -5.713678617112796|\n",
      "| 9.132115006972672| -7.110844647008607|\n",
      "|12.040196540107363| -6.556482502250076|\n",
      "|  9.93089416500604| -8.226103353890947|\n",
      "|  9.04334519122285| -6.759914416157469|\n",
      "|11.846920458660556| -4.186623275828181|\n",
      "| 8.391513726068009| -5.332233415335716|\n",
      "|  8.36744622681324| -6.330335706576502|\n",
      "|  9.87241181771912| -6.152802235756552|\n",
      "|11.102807476705713| -5.240322848610395|\n",
      "| 8.639683547898269|-5.0501399300046454|\n",
      "|11.905626363505036| -4.924753016967367|\n",
      "|12.324947277983334| -6.862074909447875|\n",
      "|  9.85787681745546| -5.993118380123434|\n",
      "|10.833422119518787| -7.023655928078864|\n",
      "+------------------+-------------------+\n",
      "only showing top 20 rows"
     ]
    }
   ],
   "source": [
    "# filter those instances who belong to a cluster with id cluster_id\n",
    "\n",
    "column_names = [f'x{i}' for i in np.arange(1,n_features+1)]\n",
    "#print(column_names)\n",
    "\n",
    "cluster_id =1\n",
    "selected_rows_df=results_df.filter(results_df.min_dist == cluster_id).select(column_names)\n",
    "selected_rows_df.show()"
   ]
  },
  {
   "cell_type": "code",
   "execution_count": 23,
   "metadata": {},
   "outputs": [
    {
     "data": {
      "application/vnd.jupyter.widget-view+json": {
       "model_id": "",
       "version_major": 2,
       "version_minor": 0
      },
      "text/plain": [
       "FloatProgress(value=0.0, bar_style='info', description='Progress:', layout=Layout(height='25px', width='50%'),…"
      ]
     },
     "metadata": {},
     "output_type": "display_data"
    }
   ],
   "source": [
    "from pyspark.sql.functions import mean"
   ]
  },
  {
   "cell_type": "code",
   "execution_count": 24,
   "metadata": {},
   "outputs": [
    {
     "data": {
      "application/vnd.jupyter.widget-view+json": {
       "model_id": "",
       "version_major": 2,
       "version_minor": 0
      },
      "text/plain": [
       "FloatProgress(value=0.0, bar_style='info', description='Progress:', layout=Layout(height='25px', width='50%'),…"
      ]
     },
     "metadata": {},
     "output_type": "display_data"
    },
    {
     "name": "stdout",
     "output_type": "stream",
     "text": [
      "+-----------------+------------------+\n",
      "|          avg(x1)|           avg(x2)|\n",
      "+-----------------+------------------+\n",
      "|9.928639831102268|-5.603128892187697|\n",
      "+-----------------+------------------+"
     ]
    }
   ],
   "source": [
    "#calculate the mean of the selected rows\n",
    "selected_rows_df.select([mean('x1'),mean('x2')]).show()"
   ]
  },
  {
   "cell_type": "code",
   "execution_count": 25,
   "metadata": {},
   "outputs": [
    {
     "data": {
      "application/vnd.jupyter.widget-view+json": {
       "model_id": "",
       "version_major": 2,
       "version_minor": 0
      },
      "text/plain": [
       "FloatProgress(value=0.0, bar_style='info', description='Progress:', layout=Layout(height='25px', width='50%'),…"
      ]
     },
     "metadata": {},
     "output_type": "display_data"
    },
    {
     "name": "stdout",
     "output_type": "stream",
     "text": [
      "[Column<'avg(x1)'>, Column<'avg(x2)'>]"
     ]
    }
   ],
   "source": [
    "mylist = [ mean(it) for it in column_names]\n",
    "mylist"
   ]
  },
  {
   "cell_type": "code",
   "execution_count": 26,
   "metadata": {},
   "outputs": [
    {
     "data": {
      "application/vnd.jupyter.widget-view+json": {
       "model_id": "",
       "version_major": 2,
       "version_minor": 0
      },
      "text/plain": [
       "FloatProgress(value=0.0, bar_style='info', description='Progress:', layout=Layout(height='25px', width='50%'),…"
      ]
     },
     "metadata": {},
     "output_type": "display_data"
    },
    {
     "name": "stdout",
     "output_type": "stream",
     "text": [
      "array([ 9.92863983, -5.60312889])"
     ]
    }
   ],
   "source": [
    "np.squeeze(np.array(selected_rows_df.select(mylist).collect()))"
   ]
  },
  {
   "cell_type": "code",
   "execution_count": null,
   "metadata": {},
   "outputs": [],
   "source": []
  },
  {
   "cell_type": "markdown",
   "metadata": {},
   "source": [
    "## Everything Together In a Loop"
   ]
  },
  {
   "cell_type": "code",
   "execution_count": 32,
   "metadata": {},
   "outputs": [
    {
     "data": {
      "application/vnd.jupyter.widget-view+json": {
       "model_id": "",
       "version_major": 2,
       "version_minor": 0
      },
      "text/plain": [
       "FloatProgress(value=0.0, bar_style='info', description='Progress:', layout=Layout(height='25px', width='50%'),…"
      ]
     },
     "metadata": {},
     "output_type": "display_data"
    },
    {
     "name": "stdout",
     "output_type": "stream",
     "text": [
      "[[ 0.66698806  0.02581308]\n",
      " [-0.77761941  0.94863382]\n",
      " [ 0.70167179 -1.05108156]]"
     ]
    }
   ],
   "source": [
    "np.random.seed(23)\n",
    "cluster_centers_np = np.random.randn(n_clusters, n_features)\n",
    "print(cluster_centers_np)"
   ]
  },
  {
   "cell_type": "code",
   "execution_count": 36,
   "metadata": {},
   "outputs": [
    {
     "data": {
      "application/vnd.jupyter.widget-view+json": {
       "model_id": "",
       "version_major": 2,
       "version_minor": 0
      },
      "text/plain": [
       "FloatProgress(value=0.0, bar_style='info', description='Progress:', layout=Layout(height='25px', width='50%'),…"
      ]
     },
     "metadata": {},
     "output_type": "display_data"
    },
    {
     "name": "stdout",
     "output_type": "stream",
     "text": [
      "[Column<'avg(x1)'>, Column<'avg(x2)'>]"
     ]
    }
   ],
   "source": [
    "x_column_names = [f'x{i}' for i in np.arange(1,n_features+1)]\n",
    "x_column_mean_list = [ mean(it) for it in column_names]\n",
    "print(x_column_mean_list)\n",
    "cluster_centers_hist = []\n",
    "cluster_centers_hist.append(cluster_centers_np)"
   ]
  },
  {
   "cell_type": "code",
   "execution_count": 37,
   "metadata": {},
   "outputs": [
    {
     "data": {
      "application/vnd.jupyter.widget-view+json": {
       "model_id": "",
       "version_major": 2,
       "version_minor": 0
      },
      "text/plain": [
       "FloatProgress(value=0.0, bar_style='info', description='Progress:', layout=Layout(height='25px', width='50%'),…"
      ]
     },
     "metadata": {},
     "output_type": "display_data"
    },
    {
     "data": {
      "image/png": "[encoded data removed]",
      "text/plain": [
       "<IPython.core.display.Image object>"
      ]
     },
     "metadata": {},
     "output_type": "display_data"
    }
   ],
   "source": [
    "plt.rcParams['figure.figsize'] = (8, 5)\n",
    "fig = plt.figure()\n",
    "\n",
    "ax0 = fig.add_subplot(111)\n",
    "ax0.scatter([point[0] for point in Xs], [point[1] for point in Xs])\n",
    "ax0.set_title('Dataset')\n",
    "\n",
    "C= cluster_centers_hist[-1]\n",
    "plt.scatter(np.array(C[:,0]), np.array(C[:,1]), marker='*', s=300, c='r')\n",
    "%matplot plt"
   ]
  },
  {
   "cell_type": "code",
   "execution_count": 38,
   "metadata": {},
   "outputs": [
    {
     "data": {
      "application/vnd.jupyter.widget-view+json": {
       "model_id": "",
       "version_major": 2,
       "version_minor": 0
      },
      "text/plain": [
       "FloatProgress(value=0.0, bar_style='info', description='Progress:', layout=Layout(height='25px', width='50%'),…"
      ]
     },
     "metadata": {},
     "output_type": "display_data"
    }
   ],
   "source": [
    "em_iter_num = 5\n",
    "\n",
    "for emiter in np.arange(em_iter_num):\n",
    "    #print(cluster_centers_np)\n",
    "    results_df =x_df\n",
    "\n",
    "    for i in np.arange(n_clusters):\n",
    "        act_center=list(float(it) for it in cluster_centers_np[i])\n",
    "        results_df = results_df.withColumn(f\"sq_norm_{i}\", distance_from(act_center)(struct([x_df[x] for x in x_df.columns])))\n",
    "    #results_df.show()\n",
    "\n",
    "    sq_norms_df=results_df.select([f\"sq_norm_{i}\" for i in np.arange(n_clusters)])\n",
    "    #sq_norms_df.show()\n",
    "\n",
    "    results_df = results_df.withColumn(\"min_dist\", min_dist(struct([sq_norms_df[x] for x in sq_norms_df.columns])))\n",
    "    #results_df.show()\n",
    "\n",
    "\n",
    "    new_means=[]\n",
    "    for it in range(n_clusters):\n",
    "        selected_rows_df=results_df.filter(results_df.min_dist == it).select(x_column_names)\n",
    "        #selecte=[]d_rows_df.show()\n",
    "        new_means.append(np.squeeze(np.array(selected_rows_df.select(x_column_mean_list).collect())))\n",
    "        \n",
    "        #print(new_means)\n",
    "\n",
    "    for it in range(n_clusters):\n",
    "        try:\n",
    "            _ = np.sum(new_means[it]) #check if the list is not none\n",
    "            cluster_centers_np[it] = new_means[it]\n",
    "        except:\n",
    "            pass\n",
    "\n",
    "    cluster_centers_hist.append(cluster_centers_np)\n",
    "    "
   ]
  },
  {
   "cell_type": "code",
   "execution_count": null,
   "metadata": {},
   "outputs": [],
   "source": []
  },
  {
   "cell_type": "code",
   "execution_count": 39,
   "metadata": {
    "scrolled": true
   },
   "outputs": [
    {
     "data": {
      "application/vnd.jupyter.widget-view+json": {
       "model_id": "",
       "version_major": 2,
       "version_minor": 0
      },
      "text/plain": [
       "FloatProgress(value=0.0, bar_style='info', description='Progress:', layout=Layout(height='25px', width='50%'),…"
      ]
     },
     "metadata": {},
     "output_type": "display_data"
    },
    {
     "data": {
      "image/png": "[encoded data removed]",
      "text/plain": [
       "<IPython.core.display.Image object>"
      ]
     },
     "metadata": {},
     "output_type": "display_data"
    }
   ],
   "source": [
    "plt.rcParams['figure.figsize'] = (8, 5)\n",
    "fig = plt.figure()\n",
    "\n",
    "ax0 = fig.add_subplot(111)\n",
    "ax0.scatter([point[0] for point in Xs], [point[1] for point in Xs])\n",
    "ax0.set_title('Dataset')\n",
    "\n",
    "C= cluster_centers_hist[-1]\n",
    "plt.scatter(np.array(C[:,0]), np.array(C[:,1]), marker='*', s=300, c='r')\n",
    "%matplot plt"
   ]
  },
  {
   "cell_type": "code",
   "execution_count": null,
   "metadata": {},
   "outputs": [],
   "source": []
  },
  {
   "cell_type": "code",
   "execution_count": null,
   "metadata": {},
   "outputs": [],
   "source": []
  },
  {
   "cell_type": "code",
   "execution_count": null,
   "metadata": {},
   "outputs": [],
   "source": []
  }
 ],
 "metadata": {
  "anaconda-cloud": {},
  "kernelspec": {
   "display_name": "PySpark",
   "language": "python",
   "name": "pysparkkernel"
  },
  "language_info": {
   "codemirror_mode": {
    "name": "python",
    "version": 3
   },
   "file_extension": ".py",
   "mimetype": "text/x-python",
   "name": "pyspark",
   "pygments_lexer": "python3"
  }
 },
 "nbformat": 4,
 "nbformat_minor": 1
}
