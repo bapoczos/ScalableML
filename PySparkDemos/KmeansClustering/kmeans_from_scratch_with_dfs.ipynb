{
 "cells": [
  {
   "cell_type": "code",
   "execution_count": 1,
   "metadata": {},
   "outputs": [
    {
     "name": "stdout",
     "output_type": "stream",
     "text": [
      "Starting Spark application\n"
     ]
    },
    {
     "data": {
      "text/html": [
       "<table>\n",
       "<tr><th>ID</th><th>YARN Application ID</th><th>Kind</th><th>State</th><th>Spark UI</th><th>Driver log</th><th>User</th><th>Current session?</th></tr><tr><td>16</td><td>application_1675528049135_0017</td><td>pyspark</td><td>idle</td><td></td><td></td><td>None</td><td>✔</td></tr></table>"
      ],
      "text/plain": [
       "<IPython.core.display.HTML object>"
      ]
     },
     "metadata": {},
     "output_type": "display_data"
    },
    {
     "data": {
      "application/vnd.jupyter.widget-view+json": {
       "model_id": "",
       "version_major": 2,
       "version_minor": 0
      },
      "text/plain": [
       "FloatProgress(value=0.0, bar_style='info', description='Progress:', layout=Layout(height='25px', width='50%'),…"
      ]
     },
     "metadata": {},
     "output_type": "display_data"
    },
    {
     "name": "stdout",
     "output_type": "stream",
     "text": [
      "SparkSession available as 'spark'.\n"
     ]
    },
    {
     "data": {
      "application/vnd.jupyter.widget-view+json": {
       "model_id": "",
       "version_major": 2,
       "version_minor": 0
      },
      "text/plain": [
       "FloatProgress(value=0.0, bar_style='info', description='Progress:', layout=Layout(height='25px', width='50%'),…"
      ]
     },
     "metadata": {},
     "output_type": "display_data"
    },
    {
     "name": "stdout",
     "output_type": "stream",
     "text": [
      "<SparkContext master=yarn appName=livy-session-16>"
     ]
    }
   ],
   "source": [
    "sc"
   ]
  },
  {
   "cell_type": "code",
   "execution_count": 2,
   "metadata": {},
   "outputs": [
    {
     "data": {
      "application/vnd.jupyter.widget-view+json": {
       "model_id": "",
       "version_major": 2,
       "version_minor": 0
      },
      "text/plain": [
       "FloatProgress(value=0.0, bar_style='info', description='Progress:', layout=Layout(height='25px', width='50%'),…"
      ]
     },
     "metadata": {},
     "output_type": "display_data"
    }
   ],
   "source": [
    "import matplotlib.pyplot as plt\n",
    "from matplotlib import style\n",
    "style.use('fivethirtyeight')"
   ]
  },
  {
   "cell_type": "code",
   "execution_count": 3,
   "metadata": {},
   "outputs": [
    {
     "data": {
      "application/vnd.jupyter.widget-view+json": {
       "model_id": "",
       "version_major": 2,
       "version_minor": 0
      },
      "text/plain": [
       "FloatProgress(value=0.0, bar_style='info', description='Progress:', layout=Layout(height='25px', width='50%'),…"
      ]
     },
     "metadata": {},
     "output_type": "display_data"
    }
   ],
   "source": [
    "from sklearn.datasets import make_blobs\n",
    "import numpy as np\n",
    "import pandas as pd\n",
    "\n",
    "from pyspark.mllib.linalg.distributed import IndexedRowMatrix, IndexedRow\n",
    "\n",
    "from pyspark.sql.functions import udf, struct\n",
    "from pyspark.sql.types import FloatType, IntegerType\n",
    "from pyspark.sql.functions import col\n",
    "import pyspark.sql.functions as f\n",
    "\n"
   ]
  },
  {
   "cell_type": "code",
   "execution_count": 4,
   "metadata": {},
   "outputs": [
    {
     "data": {
      "application/vnd.jupyter.widget-view+json": {
       "model_id": "",
       "version_major": 2,
       "version_minor": 0
      },
      "text/plain": [
       "FloatProgress(value=0.0, bar_style='info', description='Progress:', layout=Layout(height='25px', width='50%'),…"
      ]
     },
     "metadata": {},
     "output_type": "display_data"
    }
   ],
   "source": [
    "n_samples=1600\n",
    "n_clusters=3\n",
    "n_features =2"
   ]
  },
  {
   "cell_type": "code",
   "execution_count": 5,
   "metadata": {},
   "outputs": [
    {
     "data": {
      "application/vnd.jupyter.widget-view+json": {
       "model_id": "",
       "version_major": 2,
       "version_minor": 0
      },
      "text/plain": [
       "FloatProgress(value=0.0, bar_style='info', description='Progress:', layout=Layout(height='25px', width='50%'),…"
      ]
     },
     "metadata": {},
     "output_type": "display_data"
    },
    {
     "name": "stdout",
     "output_type": "stream",
     "text": [
      "(1600, 2)"
     ]
    }
   ],
   "source": [
    "# Creating a n_features=2 Dim dataset with centers=3 clusters\n",
    "Xs, Ys = make_blobs(n_samples=n_samples, n_features=n_features, centers=n_clusters)\n",
    "print(Xs.shape)"
   ]
  },
  {
   "cell_type": "code",
   "execution_count": 36,
   "metadata": {},
   "outputs": [
    {
     "data": {
      "application/vnd.jupyter.widget-view+json": {
       "model_id": "",
       "version_major": 2,
       "version_minor": 0
      },
      "text/plain": [
       "FloatProgress(value=0.0, bar_style='info', description='Progress:', layout=Layout(height='25px', width='50%'),…"
      ]
     },
     "metadata": {},
     "output_type": "display_data"
    },
    {
     "name": "stdout",
     "output_type": "stream",
     "text": [
      "[[ 0.38614874  0.17219811]\n",
      " [ 0.77807089  0.22668619]\n",
      " [-1.20179506  1.06801434]]"
     ]
    }
   ],
   "source": [
    "cluster_centers_np = np.random.randn(n_clusters, n_features)\n",
    "print(cluster_centers_np)"
   ]
  },
  {
   "cell_type": "code",
   "execution_count": 7,
   "metadata": {
    "scrolled": true
   },
   "outputs": [
    {
     "data": {
      "application/vnd.jupyter.widget-view+json": {
       "model_id": "",
       "version_major": 2,
       "version_minor": 0
      },
      "text/plain": [
       "FloatProgress(value=0.0, bar_style='info', description='Progress:', layout=Layout(height='25px', width='50%'),…"
      ]
     },
     "metadata": {},
     "output_type": "display_data"
    },
    {
     "data": {
      "image/png": "[encoded data removed]",
      "text/plain": [
       "<IPython.core.display.Image object>"
      ]
     },
     "metadata": {},
     "output_type": "display_data"
    }
   ],
   "source": [
    "plt.rcParams['figure.figsize'] = (8, 5)\n",
    "fig = plt.figure()\n",
    "\n",
    "ax0 = fig.add_subplot(111)\n",
    "ax0.scatter([point[0] for point in Xs], [point[1] for point in Xs])\n",
    "ax0.set_title('Dataset')\n",
    "\n",
    "C= cluster_centers_np\n",
    "plt.scatter(np.array(C[:,0]), np.array(C[:,1]), marker='*', s=300, c='r')\n",
    "\n",
    "%matplot plt"
   ]
  },
  {
   "cell_type": "code",
   "execution_count": 8,
   "metadata": {},
   "outputs": [
    {
     "data": {
      "application/vnd.jupyter.widget-view+json": {
       "model_id": "",
       "version_major": 2,
       "version_minor": 0
      },
      "text/plain": [
       "FloatProgress(value=0.0, bar_style='info', description='Progress:', layout=Layout(height='25px', width='50%'),…"
      ]
     },
     "metadata": {},
     "output_type": "display_data"
    },
    {
     "name": "stdout",
     "output_type": "stream",
     "text": [
      "+------------------+------------------+\n",
      "|                x1|                x2|\n",
      "+------------------+------------------+\n",
      "|  6.73023735866654| 5.930825399665926|\n",
      "|  8.98853645131158|4.3714084029673534|\n",
      "|-9.069312923209587|-8.245013649043477|\n",
      "| 9.665007593614948|4.2238508821953396|\n",
      "|-9.999697249385967|-8.564980919874639|\n",
      "+------------------+------------------+\n",
      "only showing top 5 rows"
     ]
    }
   ],
   "source": [
    "x_df=spark.createDataFrame(pd.DataFrame(Xs,columns=list(['x1','x2'])))\n",
    "x_df.show(5)"
   ]
  },
  {
   "cell_type": "code",
   "execution_count": null,
   "metadata": {},
   "outputs": [],
   "source": []
  },
  {
   "cell_type": "code",
   "execution_count": 9,
   "metadata": {},
   "outputs": [
    {
     "data": {
      "application/vnd.jupyter.widget-view+json": {
       "model_id": "",
       "version_major": 2,
       "version_minor": 0
      },
      "text/plain": [
       "FloatProgress(value=0.0, bar_style='info', description='Progress:', layout=Layout(height='25px', width='50%'),…"
      ]
     },
     "metadata": {},
     "output_type": "display_data"
    }
   ],
   "source": [
    "#row = np.array(df.collect()[1])\n",
    "#print(np.linalg.norm(row-cluster_centers_np[0])**2)\n"
   ]
  },
  {
   "cell_type": "code",
   "execution_count": 10,
   "metadata": {},
   "outputs": [
    {
     "data": {
      "application/vnd.jupyter.widget-view+json": {
       "model_id": "",
       "version_major": 2,
       "version_minor": 0
      },
      "text/plain": [
       "FloatProgress(value=0.0, bar_style='info', description='Progress:', layout=Layout(height='25px', width='50%'),…"
      ]
     },
     "metadata": {},
     "output_type": "display_data"
    }
   ],
   "source": [
    "def distance_from(mycenter):\n",
    "    return f.udf(lambda myrow: sum([(x-mycenter[it])**2 for it,x in enumerate(myrow)]), FloatType())"
   ]
  },
  {
   "cell_type": "code",
   "execution_count": 11,
   "metadata": {},
   "outputs": [
    {
     "data": {
      "application/vnd.jupyter.widget-view+json": {
       "model_id": "",
       "version_major": 2,
       "version_minor": 0
      },
      "text/plain": [
       "FloatProgress(value=0.0, bar_style='info', description='Progress:', layout=Layout(height='25px', width='50%'),…"
      ]
     },
     "metadata": {},
     "output_type": "display_data"
    },
    {
     "name": "stdout",
     "output_type": "stream",
     "text": [
      "+-------------------+-------------------+\n",
      "|                 x1|                 x2|\n",
      "+-------------------+-------------------+\n",
      "|   6.73023735866654|  5.930825399665926|\n",
      "|   8.98853645131158| 4.3714084029673534|\n",
      "| -9.069312923209587| -8.245013649043477|\n",
      "|  9.665007593614948| 4.2238508821953396|\n",
      "| -9.999697249385967| -8.564980919874639|\n",
      "| -9.200335356750989|  7.302904831976651|\n",
      "| -9.823413904079372|-10.603942214936811|\n",
      "| -8.890131847691658|  8.816491904144613|\n",
      "| -8.931665753649677| -9.296934346382645|\n",
      "| -7.068429304095122|  9.688659011682235|\n",
      "| -10.04286489476779|  9.519223622977496|\n",
      "| -8.853007103103122| 10.303885315345534|\n",
      "|   8.14306550042263|  5.127281957000719|\n",
      "| -10.79209321473029| -11.16339336765941|\n",
      "|  6.878850326204755|  3.866721436656245|\n",
      "|-10.477756666110178| -9.748521081596827|\n",
      "| -9.774408898357947|  8.341539776286655|\n",
      "| -8.975458864817176| -7.841047426547503|\n",
      "|  7.487265080938265| 3.8695815644741898|\n",
      "| -9.374752454567975| -9.452902806844486|\n",
      "+-------------------+-------------------+\n",
      "only showing top 20 rows"
     ]
    }
   ],
   "source": [
    "x_df.show()"
   ]
  },
  {
   "cell_type": "code",
   "execution_count": 12,
   "metadata": {},
   "outputs": [
    {
     "data": {
      "application/vnd.jupyter.widget-view+json": {
       "model_id": "",
       "version_major": 2,
       "version_minor": 0
      },
      "text/plain": [
       "FloatProgress(value=0.0, bar_style='info', description='Progress:', layout=Layout(height='25px', width='50%'),…"
      ]
     },
     "metadata": {},
     "output_type": "display_data"
    },
    {
     "name": "stdout",
     "output_type": "stream",
     "text": [
      "+-------------------+-------------------+---------+----------+----------+\n",
      "|                 x1|                 x2|sq_norm_0| sq_norm_1| sq_norm_2|\n",
      "+-------------------+-------------------+---------+----------+----------+\n",
      "|   6.73023735866654|  5.930825399665926| 85.16578|  119.4315|100.094284|\n",
      "|   8.98853645131158| 4.3714084029673534|109.54428| 154.98564| 123.58953|\n",
      "| -9.069312923209587| -8.245013649043477|146.07202| 120.58474| 126.69581|\n",
      "|  9.665007593614948| 4.2238508821953396| 122.0482| 170.60239|  136.3446|\n",
      "| -9.999697249385967| -8.564980919874639|168.14227| 138.75804| 147.57677|\n",
      "| -9.200335356750989|  7.302904831976651|117.66451|  80.17001| 123.28509|\n",
      "| -9.823413904079372|-10.603942214936811|206.08656| 178.98355| 182.35802|\n",
      "| -8.890131847691658|  8.816491904144613|135.35681|  98.12777| 143.64442|\n",
      "| -8.931665753649677| -9.296934346382645|163.33066| 139.22769| 142.35638|\n",
      "| -7.068429304095122|  9.688659011682235| 124.2282|  94.44892| 135.24092|\n",
      "| -10.04286489476779|  9.519223622977496|167.63753|124.772484| 176.22546|\n",
      "| -8.853007103103122| 10.303885315345534|161.66588|123.508705| 172.38072|\n",
      "|   8.14306550042263|  5.127281957000719| 100.2114| 141.34236| 114.86499|\n",
      "| -10.79209321473029| -11.16339336765941|237.37332| 206.37926|  212.0413|\n",
      "|  6.878850326204755|  3.866721436656245|   69.304| 105.74655|  81.00889|\n",
      "|-10.477756666110178| -9.748521081596827|200.11311| 169.47539| 177.29181|\n",
      "| -9.774408898357947|  8.341539776286655|142.88968| 102.08234| 149.77122|\n",
      "| -8.975458864817176| -7.841047426547503|137.60461|112.237305|118.948204|\n",
      "|  7.487265080938265| 3.8695815644741898|78.965096| 118.10767| 91.114655|\n",
      "| -9.374752454567975| -9.452902806844486|173.87004| 147.91383|  152.3236|\n",
      "+-------------------+-------------------+---------+----------+----------+\n",
      "only showing top 20 rows"
     ]
    }
   ],
   "source": [
    "results_df =x_df\n",
    "for i in np.arange(n_clusters):\n",
    "    act_center=list(float(it) for it in cluster_centers_np[i])\n",
    "    results_df = results_df.withColumn(f\"sq_norm_{i}\", distance_from(act_center)(struct([x_df[x] for x in x_df.columns])))\n",
    "results_df.show()"
   ]
  },
  {
   "cell_type": "code",
   "execution_count": 13,
   "metadata": {},
   "outputs": [
    {
     "data": {
      "application/vnd.jupyter.widget-view+json": {
       "model_id": "",
       "version_major": 2,
       "version_minor": 0
      },
      "text/plain": [
       "FloatProgress(value=0.0, bar_style='info', description='Progress:', layout=Layout(height='25px', width='50%'),…"
      ]
     },
     "metadata": {},
     "output_type": "display_data"
    },
    {
     "name": "stdout",
     "output_type": "stream",
     "text": [
      "+---------+----------+----------+\n",
      "|sq_norm_0| sq_norm_1| sq_norm_2|\n",
      "+---------+----------+----------+\n",
      "| 85.16578|  119.4315|100.094284|\n",
      "|109.54428| 154.98564| 123.58953|\n",
      "|146.07202| 120.58474| 126.69581|\n",
      "| 122.0482| 170.60239|  136.3446|\n",
      "|168.14227| 138.75804| 147.57677|\n",
      "|117.66451|  80.17001| 123.28509|\n",
      "|206.08656| 178.98355| 182.35802|\n",
      "|135.35681|  98.12777| 143.64442|\n",
      "|163.33066| 139.22769| 142.35638|\n",
      "| 124.2282|  94.44892| 135.24092|\n",
      "|167.63753|124.772484| 176.22546|\n",
      "|161.66588|123.508705| 172.38072|\n",
      "| 100.2114| 141.34236| 114.86499|\n",
      "|237.37332| 206.37926|  212.0413|\n",
      "|   69.304| 105.74655|  81.00889|\n",
      "|200.11311| 169.47539| 177.29181|\n",
      "|142.88968| 102.08234| 149.77122|\n",
      "|137.60461|112.237305|118.948204|\n",
      "|78.965096| 118.10767| 91.114655|\n",
      "|173.87004| 147.91383|  152.3236|\n",
      "+---------+----------+----------+\n",
      "only showing top 20 rows"
     ]
    }
   ],
   "source": [
    "sq_norms_df=results_df.select([f\"sq_norm_{i}\" for i in np.arange(n_clusters)])\n",
    "sq_norms_df.show()"
   ]
  },
  {
   "cell_type": "code",
   "execution_count": 14,
   "metadata": {},
   "outputs": [
    {
     "data": {
      "application/vnd.jupyter.widget-view+json": {
       "model_id": "",
       "version_major": 2,
       "version_minor": 0
      },
      "text/plain": [
       "FloatProgress(value=0.0, bar_style='info', description='Progress:', layout=Layout(height='25px', width='50%'),…"
      ]
     },
     "metadata": {},
     "output_type": "display_data"
    },
    {
     "name": "stdout",
     "output_type": "stream",
     "text": [
      "+-------------------+-------------------+---------+----------+----------+--------+\n",
      "|                 x1|                 x2|sq_norm_0| sq_norm_1| sq_norm_2|min_dist|\n",
      "+-------------------+-------------------+---------+----------+----------+--------+\n",
      "|   6.73023735866654|  5.930825399665926| 85.16578|  119.4315|100.094284|       0|\n",
      "|   8.98853645131158| 4.3714084029673534|109.54428| 154.98564| 123.58953|       0|\n",
      "| -9.069312923209587| -8.245013649043477|146.07202| 120.58474| 126.69581|       1|\n",
      "|  9.665007593614948| 4.2238508821953396| 122.0482| 170.60239|  136.3446|       0|\n",
      "| -9.999697249385967| -8.564980919874639|168.14227| 138.75804| 147.57677|       1|\n",
      "| -9.200335356750989|  7.302904831976651|117.66451|  80.17001| 123.28509|       1|\n",
      "| -9.823413904079372|-10.603942214936811|206.08656| 178.98355| 182.35802|       1|\n",
      "| -8.890131847691658|  8.816491904144613|135.35681|  98.12777| 143.64442|       1|\n",
      "| -8.931665753649677| -9.296934346382645|163.33066| 139.22769| 142.35638|       1|\n",
      "| -7.068429304095122|  9.688659011682235| 124.2282|  94.44892| 135.24092|       1|\n",
      "| -10.04286489476779|  9.519223622977496|167.63753|124.772484| 176.22546|       1|\n",
      "| -8.853007103103122| 10.303885315345534|161.66588|123.508705| 172.38072|       1|\n",
      "|   8.14306550042263|  5.127281957000719| 100.2114| 141.34236| 114.86499|       0|\n",
      "| -10.79209321473029| -11.16339336765941|237.37332| 206.37926|  212.0413|       1|\n",
      "|  6.878850326204755|  3.866721436656245|   69.304| 105.74655|  81.00889|       0|\n",
      "|-10.477756666110178| -9.748521081596827|200.11311| 169.47539| 177.29181|       1|\n",
      "| -9.774408898357947|  8.341539776286655|142.88968| 102.08234| 149.77122|       1|\n",
      "| -8.975458864817176| -7.841047426547503|137.60461|112.237305|118.948204|       1|\n",
      "|  7.487265080938265| 3.8695815644741898|78.965096| 118.10767| 91.114655|       0|\n",
      "| -9.374752454567975| -9.452902806844486|173.87004| 147.91383|  152.3236|       1|\n",
      "+-------------------+-------------------+---------+----------+----------+--------+\n",
      "only showing top 20 rows"
     ]
    }
   ],
   "source": [
    "@udf(returnType=IntegerType()) \n",
    "def min_dist(myrow):\n",
    "    dist=int(np.argmin(np.array([x for x in myrow])))\n",
    "    return dist\n",
    "\n",
    "results_df = results_df.withColumn(\"min_dist\", min_dist(struct([sq_norms_df[x] for x in sq_norms_df.columns])))\n",
    "results_df.show()"
   ]
  },
  {
   "cell_type": "code",
   "execution_count": 15,
   "metadata": {},
   "outputs": [
    {
     "data": {
      "application/vnd.jupyter.widget-view+json": {
       "model_id": "",
       "version_major": 2,
       "version_minor": 0
      },
      "text/plain": [
       "FloatProgress(value=0.0, bar_style='info', description='Progress:', layout=Layout(height='25px', width='50%'),…"
      ]
     },
     "metadata": {},
     "output_type": "display_data"
    },
    {
     "name": "stdout",
     "output_type": "stream",
     "text": [
      "+------------------+------------------+\n",
      "|                x1|                x2|\n",
      "+------------------+------------------+\n",
      "|  6.73023735866654| 5.930825399665926|\n",
      "|  8.98853645131158|4.3714084029673534|\n",
      "| 9.665007593614948|4.2238508821953396|\n",
      "|  8.14306550042263| 5.127281957000719|\n",
      "| 6.878850326204755| 3.866721436656245|\n",
      "| 7.487265080938265|3.8695815644741898|\n",
      "| 8.532038937735294| 4.377720091662975|\n",
      "| 9.209451016236564| 5.102109418976008|\n",
      "|10.012228783284534|6.1204336919016304|\n",
      "|  7.14894528820804| 5.191528544495565|\n",
      "| 7.575626860333687|4.2452476299046715|\n",
      "| 8.829069944851623|  5.45237304328226|\n",
      "|10.361829601014804|  4.47749672070945|\n",
      "| 7.113966070861037| 4.126868865964766|\n",
      "| 7.520682839267314| 4.062760209273119|\n",
      "| 8.516316424117658| 6.027246189885087|\n",
      "| 8.619978524361674| 5.536163885330674|\n",
      "| 6.567638006047394|4.3234477293878975|\n",
      "| 8.752159274213136| 3.474526184184466|\n",
      "| 7.236888569824117| 4.937154207357682|\n",
      "+------------------+------------------+\n",
      "only showing top 20 rows"
     ]
    }
   ],
   "source": [
    "column_names = [f'x{i}' for i in np.arange(1,n_features+1)]\n",
    "#print(column_names)\n",
    "\n",
    "selected_rows_df=results_df.filter(results_df.min_dist == 0).select(column_names)\n",
    "selected_rows_df.show()"
   ]
  },
  {
   "cell_type": "code",
   "execution_count": 16,
   "metadata": {},
   "outputs": [
    {
     "data": {
      "application/vnd.jupyter.widget-view+json": {
       "model_id": "",
       "version_major": 2,
       "version_minor": 0
      },
      "text/plain": [
       "FloatProgress(value=0.0, bar_style='info', description='Progress:', layout=Layout(height='25px', width='50%'),…"
      ]
     },
     "metadata": {},
     "output_type": "display_data"
    }
   ],
   "source": [
    "from pyspark.sql.functions import mean"
   ]
  },
  {
   "cell_type": "code",
   "execution_count": 17,
   "metadata": {},
   "outputs": [
    {
     "data": {
      "application/vnd.jupyter.widget-view+json": {
       "model_id": "",
       "version_major": 2,
       "version_minor": 0
      },
      "text/plain": [
       "FloatProgress(value=0.0, bar_style='info', description='Progress:', layout=Layout(height='25px', width='50%'),…"
      ]
     },
     "metadata": {},
     "output_type": "display_data"
    },
    {
     "name": "stdout",
     "output_type": "stream",
     "text": [
      "+-----------------+------------------+\n",
      "|          avg(x1)|           avg(x2)|\n",
      "+-----------------+------------------+\n",
      "|8.568279944090753|4.4605123252462535|\n",
      "+-----------------+------------------+"
     ]
    }
   ],
   "source": [
    "selected_rows_df.select([mean('x1'),mean('x2')]).show()"
   ]
  },
  {
   "cell_type": "code",
   "execution_count": 18,
   "metadata": {},
   "outputs": [
    {
     "data": {
      "application/vnd.jupyter.widget-view+json": {
       "model_id": "",
       "version_major": 2,
       "version_minor": 0
      },
      "text/plain": [
       "FloatProgress(value=0.0, bar_style='info', description='Progress:', layout=Layout(height='25px', width='50%'),…"
      ]
     },
     "metadata": {},
     "output_type": "display_data"
    },
    {
     "name": "stdout",
     "output_type": "stream",
     "text": [
      "[Column<b'avg(x1)'>, Column<b'avg(x2)'>]"
     ]
    }
   ],
   "source": [
    "mylist = [ mean(it) for it in column_names]\n",
    "mylist"
   ]
  },
  {
   "cell_type": "code",
   "execution_count": 19,
   "metadata": {},
   "outputs": [
    {
     "data": {
      "application/vnd.jupyter.widget-view+json": {
       "model_id": "",
       "version_major": 2,
       "version_minor": 0
      },
      "text/plain": [
       "FloatProgress(value=0.0, bar_style='info', description='Progress:', layout=Layout(height='25px', width='50%'),…"
      ]
     },
     "metadata": {},
     "output_type": "display_data"
    },
    {
     "name": "stdout",
     "output_type": "stream",
     "text": [
      "array([8.56827994, 4.46051233])"
     ]
    }
   ],
   "source": [
    "np.squeeze(np.array(selected_rows_df.select(mylist).collect()))"
   ]
  },
  {
   "cell_type": "code",
   "execution_count": null,
   "metadata": {},
   "outputs": [],
   "source": []
  },
  {
   "cell_type": "markdown",
   "metadata": {},
   "source": [
    "## Everything Together In a Loop"
   ]
  },
  {
   "cell_type": "code",
   "execution_count": 86,
   "metadata": {},
   "outputs": [
    {
     "data": {
      "application/vnd.jupyter.widget-view+json": {
       "model_id": "",
       "version_major": 2,
       "version_minor": 0
      },
      "text/plain": [
       "FloatProgress(value=0.0, bar_style='info', description='Progress:', layout=Layout(height='25px', width='50%'),…"
      ]
     },
     "metadata": {},
     "output_type": "display_data"
    },
    {
     "name": "stdout",
     "output_type": "stream",
     "text": [
      "[[-0.95323037  0.56966289]\n",
      " [-0.64082557  0.8100393 ]\n",
      " [-0.22498996 -0.8651519 ]]"
     ]
    }
   ],
   "source": [
    "cluster_centers_np = np.random.randn(n_clusters, n_features)\n",
    "print(cluster_centers_np)"
   ]
  },
  {
   "cell_type": "code",
   "execution_count": 87,
   "metadata": {},
   "outputs": [
    {
     "data": {
      "application/vnd.jupyter.widget-view+json": {
       "model_id": "",
       "version_major": 2,
       "version_minor": 0
      },
      "text/plain": [
       "FloatProgress(value=0.0, bar_style='info', description='Progress:', layout=Layout(height='25px', width='50%'),…"
      ]
     },
     "metadata": {},
     "output_type": "display_data"
    }
   ],
   "source": [
    "x_column_names = [f'x{i}' for i in np.arange(1,n_features+1)]\n",
    "x_column_mean_list = [ mean(it) for it in column_names]\n",
    "cluster_centers_hist = []\n",
    "cluster_centers_hist.append(cluster_centers_np)"
   ]
  },
  {
   "cell_type": "code",
   "execution_count": 88,
   "metadata": {},
   "outputs": [
    {
     "data": {
      "application/vnd.jupyter.widget-view+json": {
       "model_id": "",
       "version_major": 2,
       "version_minor": 0
      },
      "text/plain": [
       "FloatProgress(value=0.0, bar_style='info', description='Progress:', layout=Layout(height='25px', width='50%'),…"
      ]
     },
     "metadata": {},
     "output_type": "display_data"
    },
    {
     "data": {
      "image/png": "[encoded data removed]",
      "text/plain": [
       "<IPython.core.display.Image object>"
      ]
     },
     "metadata": {},
     "output_type": "display_data"
    }
   ],
   "source": [
    "plt.rcParams['figure.figsize'] = (8, 5)\n",
    "fig = plt.figure()\n",
    "\n",
    "ax0 = fig.add_subplot(111)\n",
    "ax0.scatter([point[0] for point in Xs], [point[1] for point in Xs])\n",
    "ax0.set_title('Dataset')\n",
    "\n",
    "C= cluster_centers_hist[-1]\n",
    "plt.scatter(np.array(C[:,0]), np.array(C[:,1]), marker='*', s=300, c='r')\n",
    "%matplot plt"
   ]
  },
  {
   "cell_type": "code",
   "execution_count": 89,
   "metadata": {},
   "outputs": [
    {
     "data": {
      "application/vnd.jupyter.widget-view+json": {
       "model_id": "",
       "version_major": 2,
       "version_minor": 0
      },
      "text/plain": [
       "FloatProgress(value=0.0, bar_style='info', description='Progress:', layout=Layout(height='25px', width='50%'),…"
      ]
     },
     "metadata": {},
     "output_type": "display_data"
    }
   ],
   "source": [
    "em_iter_num = 5\n",
    "\n",
    "for emiter in np.arange(em_iter_num):\n",
    "    #print(cluster_centers_np)\n",
    "    results_df =x_df\n",
    "\n",
    "    for i in np.arange(n_clusters):\n",
    "        act_center=list(float(it) for it in cluster_centers_np[i])\n",
    "        results_df = results_df.withColumn(f\"sq_norm_{i}\", distance_from(act_center)(struct([x_df[x] for x in x_df.columns])))\n",
    "    #results_df.show()\n",
    "\n",
    "    sq_norms_df=results_df.select([f\"sq_norm_{i}\" for i in np.arange(n_clusters)])\n",
    "    #sq_norms_df.show()\n",
    "\n",
    "    results_df = results_df.withColumn(\"min_dist\", min_dist(struct([sq_norms_df[x] for x in sq_norms_df.columns])))\n",
    "    #results_df.show()\n",
    "\n",
    "\n",
    "    new_means=[]\n",
    "    for it in range(n_clusters):\n",
    "        selected_rows_df=results_df.filter(results_df.min_dist == it).select(x_column_names)\n",
    "        #selecte=[]d_rows_df.show()\n",
    "        new_means.append(np.squeeze(np.array(selected_rows_df.select(x_column_mean_list).collect())))\n",
    "        \n",
    "        #print(new_means)\n",
    "\n",
    "    for it in range(n_clusters):\n",
    "        try:\n",
    "            _ = np.sum(new_means[it])\n",
    "            cluster_centers_np[it] = new_means[it]\n",
    "        except:\n",
    "            pass\n",
    "\n",
    "    cluster_centers_hist.append(cluster_centers_np)\n",
    "    "
   ]
  },
  {
   "cell_type": "code",
   "execution_count": null,
   "metadata": {},
   "outputs": [],
   "source": []
  },
  {
   "cell_type": "code",
   "execution_count": 90,
   "metadata": {
    "scrolled": true
   },
   "outputs": [
    {
     "data": {
      "application/vnd.jupyter.widget-view+json": {
       "model_id": "",
       "version_major": 2,
       "version_minor": 0
      },
      "text/plain": [
       "FloatProgress(value=0.0, bar_style='info', description='Progress:', layout=Layout(height='25px', width='50%'),…"
      ]
     },
     "metadata": {},
     "output_type": "display_data"
    },
    {
     "data": {
      "image/png": "[encoded data removed]",
      "text/plain": [
       "<IPython.core.display.Image object>"
      ]
     },
     "metadata": {},
     "output_type": "display_data"
    }
   ],
   "source": [
    "plt.rcParams['figure.figsize'] = (8, 5)\n",
    "fig = plt.figure()\n",
    "\n",
    "ax0 = fig.add_subplot(111)\n",
    "ax0.scatter([point[0] for point in Xs], [point[1] for point in Xs])\n",
    "ax0.set_title('Dataset')\n",
    "\n",
    "C= cluster_centers_hist[-1]\n",
    "plt.scatter(np.array(C[:,0]), np.array(C[:,1]), marker='*', s=300, c='r')\n",
    "%matplot plt"
   ]
  },
  {
   "cell_type": "code",
   "execution_count": null,
   "metadata": {},
   "outputs": [],
   "source": []
  },
  {
   "cell_type": "code",
   "execution_count": null,
   "metadata": {},
   "outputs": [],
   "source": []
  },
  {
   "cell_type": "code",
   "execution_count": null,
   "metadata": {},
   "outputs": [],
   "source": []
  }
 ],
 "metadata": {
  "anaconda-cloud": {},
  "kernelspec": {
   "display_name": "PySpark",
   "language": "python",
   "name": "pysparkkernel"
  },
  "language_info": {
   "codemirror_mode": {
    "name": "python",
    "version": 3
   },
   "file_extension": ".py",
   "mimetype": "text/x-python",
   "name": "pyspark",
   "pygments_lexer": "python3"
  }
 },
 "nbformat": 4,
 "nbformat_minor": 1
}
