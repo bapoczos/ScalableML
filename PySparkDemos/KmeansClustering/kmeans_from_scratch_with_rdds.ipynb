{
 "cells": [
  {
   "cell_type": "markdown",
   "id": "7a5ca43a",
   "metadata": {},
   "source": [
    "based on https://github.com/apache/spark/blob/master/examples/src/main/python/kmeans.py"
   ]
  },
  {
   "cell_type": "code",
   "execution_count": 1,
   "id": "8d686518",
   "metadata": {},
   "outputs": [
    {
     "name": "stdout",
     "output_type": "stream",
     "text": [
      "Starting Spark application\n"
     ]
    },
    {
     "data": {
      "text/html": [
       "<table>\n",
       "<tr><th>ID</th><th>YARN Application ID</th><th>Kind</th><th>State</th><th>Spark UI</th><th>Driver log</th><th>User</th><th>Current session?</th></tr><tr><td>3</td><td>application_1675623994201_0004</td><td>pyspark</td><td>idle</td><td><a target=\"_blank\" href=\"http://ip-172-31-38-1.us-east-2.compute.internal:20888/proxy/application_1675623994201_0004/\">Link</a></td><td><a target=\"_blank\" href=\"http://ip-172-31-42-108.us-east-2.compute.internal:8042/node/containerlogs/container_1675623994201_0004_01_000001/livy\">Link</a></td><td>None</td><td>✔</td></tr></table>"
      ],
      "text/plain": [
       "<IPython.core.display.HTML object>"
      ]
     },
     "metadata": {},
     "output_type": "display_data"
    },
    {
     "data": {
      "application/vnd.jupyter.widget-view+json": {
       "model_id": "",
       "version_major": 2,
       "version_minor": 0
      },
      "text/plain": [
       "FloatProgress(value=0.0, bar_style='info', description='Progress:', layout=Layout(height='25px', width='50%'),…"
      ]
     },
     "metadata": {},
     "output_type": "display_data"
    },
    {
     "name": "stdout",
     "output_type": "stream",
     "text": [
      "SparkSession available as 'spark'.\n"
     ]
    },
    {
     "data": {
      "application/vnd.jupyter.widget-view+json": {
       "model_id": "",
       "version_major": 2,
       "version_minor": 0
      },
      "text/plain": [
       "FloatProgress(value=0.0, bar_style='info', description='Progress:', layout=Layout(height='25px', width='50%'),…"
      ]
     },
     "metadata": {},
     "output_type": "display_data"
    },
    {
     "name": "stdout",
     "output_type": "stream",
     "text": [
      "'3.3.0-amzn-0'"
     ]
    }
   ],
   "source": [
    "sc.version"
   ]
  },
  {
   "cell_type": "code",
   "execution_count": 2,
   "id": "905b1e0c",
   "metadata": {},
   "outputs": [
    {
     "data": {
      "application/vnd.jupyter.widget-view+json": {
       "model_id": "",
       "version_major": 2,
       "version_minor": 0
      },
      "text/plain": [
       "FloatProgress(value=0.0, bar_style='info', description='Progress:', layout=Layout(height='25px', width='50%'),…"
      ]
     },
     "metadata": {},
     "output_type": "display_data"
    }
   ],
   "source": [
    "import sys\n",
    "from typing import List\n",
    "\n",
    "import numpy as np\n",
    "from pyspark.sql import SparkSession\n"
   ]
  },
  {
   "cell_type": "code",
   "execution_count": 3,
   "id": "4598f4f0",
   "metadata": {},
   "outputs": [
    {
     "data": {
      "application/vnd.jupyter.widget-view+json": {
       "model_id": "",
       "version_major": 2,
       "version_minor": 0
      },
      "text/plain": [
       "FloatProgress(value=0.0, bar_style='info', description='Progress:', layout=Layout(height='25px', width='50%'),…"
      ]
     },
     "metadata": {},
     "output_type": "display_data"
    }
   ],
   "source": [
    "import matplotlib.pyplot as plt\n",
    "from matplotlib import style\n",
    "style.use('fivethirtyeight')"
   ]
  },
  {
   "cell_type": "code",
   "execution_count": 4,
   "id": "c3f3afa3",
   "metadata": {},
   "outputs": [
    {
     "data": {
      "application/vnd.jupyter.widget-view+json": {
       "model_id": "",
       "version_major": 2,
       "version_minor": 0
      },
      "text/plain": [
       "FloatProgress(value=0.0, bar_style='info', description='Progress:', layout=Layout(height='25px', width='50%'),…"
      ]
     },
     "metadata": {},
     "output_type": "display_data"
    }
   ],
   "source": [
    "from sklearn.datasets import make_blobs\n",
    "import numpy as np\n",
    "import pandas as pd\n"
   ]
  },
  {
   "cell_type": "code",
   "execution_count": 30,
   "id": "3cf89611",
   "metadata": {},
   "outputs": [
    {
     "data": {
      "application/vnd.jupyter.widget-view+json": {
       "model_id": "",
       "version_major": 2,
       "version_minor": 0
      },
      "text/plain": [
       "FloatProgress(value=0.0, bar_style='info', description='Progress:', layout=Layout(height='25px', width='50%'),…"
      ]
     },
     "metadata": {},
     "output_type": "display_data"
    }
   ],
   "source": [
    "np.random.seed(7)"
   ]
  },
  {
   "cell_type": "markdown",
   "id": "6000efa4",
   "metadata": {},
   "source": [
    "## Create Data"
   ]
  },
  {
   "cell_type": "code",
   "execution_count": 31,
   "id": "10c48f5e",
   "metadata": {},
   "outputs": [
    {
     "data": {
      "application/vnd.jupyter.widget-view+json": {
       "model_id": "",
       "version_major": 2,
       "version_minor": 0
      },
      "text/plain": [
       "FloatProgress(value=0.0, bar_style='info', description='Progress:', layout=Layout(height='25px', width='50%'),…"
      ]
     },
     "metadata": {},
     "output_type": "display_data"
    }
   ],
   "source": [
    "n_samples=1600\n",
    "n_clusters=3\n",
    "n_features =2"
   ]
  },
  {
   "cell_type": "code",
   "execution_count": 32,
   "id": "d56a76bd",
   "metadata": {},
   "outputs": [
    {
     "data": {
      "application/vnd.jupyter.widget-view+json": {
       "model_id": "",
       "version_major": 2,
       "version_minor": 0
      },
      "text/plain": [
       "FloatProgress(value=0.0, bar_style='info', description='Progress:', layout=Layout(height='25px', width='50%'),…"
      ]
     },
     "metadata": {},
     "output_type": "display_data"
    },
    {
     "name": "stdout",
     "output_type": "stream",
     "text": [
      "(1600, 2)"
     ]
    }
   ],
   "source": [
    "# Creating a n_features=2 Dim dataset with centers=3 clusters\n",
    "Xs, Ys = make_blobs(n_samples=n_samples, n_features=n_features, centers=n_clusters)\n",
    "print(Xs.shape)"
   ]
  },
  {
   "cell_type": "code",
   "execution_count": 33,
   "id": "4a6b46da",
   "metadata": {},
   "outputs": [
    {
     "data": {
      "application/vnd.jupyter.widget-view+json": {
       "model_id": "",
       "version_major": 2,
       "version_minor": 0
      },
      "text/plain": [
       "FloatProgress(value=0.0, bar_style='info', description='Progress:', layout=Layout(height='25px', width='50%'),…"
      ]
     },
     "metadata": {},
     "output_type": "display_data"
    }
   ],
   "source": [
    "#cluster_centers_np = np.random.randn(n_clusters, n_features)\n",
    "#print(cluster_centers_np)"
   ]
  },
  {
   "cell_type": "code",
   "execution_count": 34,
   "id": "47225e6e",
   "metadata": {},
   "outputs": [
    {
     "data": {
      "application/vnd.jupyter.widget-view+json": {
       "model_id": "",
       "version_major": 2,
       "version_minor": 0
      },
      "text/plain": [
       "FloatProgress(value=0.0, bar_style='info', description='Progress:', layout=Layout(height='25px', width='50%'),…"
      ]
     },
     "metadata": {},
     "output_type": "display_data"
    },
    {
     "data": {
      "image/png": "[encoded data removed]",
      "text/plain": [
       "<IPython.core.display.Image object>"
      ]
     },
     "metadata": {},
     "output_type": "display_data"
    }
   ],
   "source": [
    "plt.rcParams['figure.figsize'] = (8, 5)\n",
    "fig = plt.figure()\n",
    "\n",
    "ax0 = fig.add_subplot(111)\n",
    "ax0.scatter([point[0] for point in Xs], [point[1] for point in Xs])\n",
    "ax0.set_title('Dataset')\n",
    "\n",
    "#C= cluster_centers_np\n",
    "#plt.scatter(np.array(C[:,0]), np.array(C[:,1]), marker='*', s=300, c='r')\n",
    "\n",
    "%matplot plt"
   ]
  },
  {
   "cell_type": "markdown",
   "id": "14cf0eb6",
   "metadata": {},
   "source": [
    "## Create an RDD from the data"
   ]
  },
  {
   "cell_type": "code",
   "execution_count": 35,
   "id": "93b339bc",
   "metadata": {},
   "outputs": [
    {
     "data": {
      "application/vnd.jupyter.widget-view+json": {
       "model_id": "",
       "version_major": 2,
       "version_minor": 0
      },
      "text/plain": [
       "FloatProgress(value=0.0, bar_style='info', description='Progress:', layout=Layout(height='25px', width='50%'),…"
      ]
     },
     "metadata": {},
     "output_type": "display_data"
    },
    {
     "name": "stdout",
     "output_type": "stream",
     "text": [
      "[array([-7.51275775,  6.15915302]), array([8.56511441, 1.0490107 ]), array([10.41367584,  0.40109559]), array([-7.87769366,  5.54418566])]"
     ]
    }
   ],
   "source": [
    "data=sc.parallelize(list(Xs))\n",
    "data.take(4)"
   ]
  },
  {
   "cell_type": "code",
   "execution_count": 36,
   "id": "b28eb29d",
   "metadata": {},
   "outputs": [
    {
     "data": {
      "application/vnd.jupyter.widget-view+json": {
       "model_id": "",
       "version_major": 2,
       "version_minor": 0
      },
      "text/plain": [
       "FloatProgress(value=0.0, bar_style='info', description='Progress:', layout=Layout(height='25px', width='50%'),…"
      ]
     },
     "metadata": {},
     "output_type": "display_data"
    }
   ],
   "source": [
    "# x_df=spark.createDataFrame(pd.DataFrame(Xs,columns=list(['x1','x2'])))\n",
    "# x_df.show(5)\n",
    "# x_df.rdd.take(2)\n",
    "# def parseVector(row) -> np.ndarray:\n",
    "#     return np.array([float(x) for x in row])\n",
    "# data=x_df.rdd.map(parseVector).cache()"
   ]
  },
  {
   "cell_type": "code",
   "execution_count": 37,
   "id": "8d06639b",
   "metadata": {},
   "outputs": [
    {
     "data": {
      "application/vnd.jupyter.widget-view+json": {
       "model_id": "",
       "version_major": 2,
       "version_minor": 0
      },
      "text/plain": [
       "FloatProgress(value=0.0, bar_style='info', description='Progress:', layout=Layout(height='25px', width='50%'),…"
      ]
     },
     "metadata": {},
     "output_type": "display_data"
    }
   ],
   "source": [
    "K = n_clusters\n",
    "convergeDist = 0.1"
   ]
  },
  {
   "cell_type": "markdown",
   "id": "b6242764",
   "metadata": {},
   "source": [
    "**Initial Cluster Centers**"
   ]
  },
  {
   "cell_type": "code",
   "execution_count": 38,
   "id": "2d42390e",
   "metadata": {},
   "outputs": [
    {
     "data": {
      "application/vnd.jupyter.widget-view+json": {
       "model_id": "",
       "version_major": 2,
       "version_minor": 0
      },
      "text/plain": [
       "FloatProgress(value=0.0, bar_style='info', description='Progress:', layout=Layout(height='25px', width='50%'),…"
      ]
     },
     "metadata": {},
     "output_type": "display_data"
    }
   ],
   "source": [
    "kPoints = data.takeSample(False, K, 1) #(withReplacement, num, seed)\n"
   ]
  },
  {
   "cell_type": "code",
   "execution_count": 39,
   "id": "ab01eef0",
   "metadata": {},
   "outputs": [
    {
     "data": {
      "application/vnd.jupyter.widget-view+json": {
       "model_id": "",
       "version_major": 2,
       "version_minor": 0
      },
      "text/plain": [
       "FloatProgress(value=0.0, bar_style='info', description='Progress:', layout=Layout(height='25px', width='50%'),…"
      ]
     },
     "metadata": {},
     "output_type": "display_data"
    },
    {
     "name": "stdout",
     "output_type": "stream",
     "text": [
      "[array([-2.08672967,  4.56917152]), array([-0.09504477,  4.79668217]), array([-0.54301727,  4.49955449])]"
     ]
    }
   ],
   "source": [
    "kPoints"
   ]
  },
  {
   "cell_type": "code",
   "execution_count": 40,
   "id": "a28951b7",
   "metadata": {},
   "outputs": [
    {
     "data": {
      "application/vnd.jupyter.widget-view+json": {
       "model_id": "",
       "version_major": 2,
       "version_minor": 0
      },
      "text/plain": [
       "FloatProgress(value=0.0, bar_style='info', description='Progress:', layout=Layout(height='25px', width='50%'),…"
      ]
     },
     "metadata": {},
     "output_type": "display_data"
    }
   ],
   "source": [
    "tempDist = 1.0\n"
   ]
  },
  {
   "cell_type": "markdown",
   "id": "86655b9b",
   "metadata": {},
   "source": [
    "**Find the closest cluster centers to each point**"
   ]
  },
  {
   "cell_type": "code",
   "execution_count": 41,
   "id": "8f6a32f1",
   "metadata": {},
   "outputs": [
    {
     "data": {
      "application/vnd.jupyter.widget-view+json": {
       "model_id": "",
       "version_major": 2,
       "version_minor": 0
      },
      "text/plain": [
       "FloatProgress(value=0.0, bar_style='info', description='Progress:', layout=Layout(height='25px', width='50%'),…"
      ]
     },
     "metadata": {},
     "output_type": "display_data"
    }
   ],
   "source": [
    "# The input is a point p and the list of the K cluster centers\n",
    "def closestPoint(p: np.ndarray, centers: List[np.ndarray]) -> int:\n",
    "    bestIndex = 0\n",
    "    closest = float(\"+inf\")\n",
    "    for i in range(len(centers)):\n",
    "        tempDist = np.sum((p - centers[i]) ** 2)\n",
    "        if tempDist < closest:\n",
    "            closest = tempDist\n",
    "            bestIndex = i\n",
    "    return bestIndex\n"
   ]
  },
  {
   "cell_type": "code",
   "execution_count": 42,
   "id": "9b393d32",
   "metadata": {},
   "outputs": [
    {
     "data": {
      "application/vnd.jupyter.widget-view+json": {
       "model_id": "",
       "version_major": 2,
       "version_minor": 0
      },
      "text/plain": [
       "FloatProgress(value=0.0, bar_style='info', description='Progress:', layout=Layout(height='25px', width='50%'),…"
      ]
     },
     "metadata": {},
     "output_type": "display_data"
    },
    {
     "name": "stdout",
     "output_type": "stream",
     "text": [
      "[(0, (array([-7.51275775,  6.15915302]), 1)), (1, (array([8.56511441, 1.0490107 ]), 1)), (1, (array([10.41367584,  0.40109559]), 1)), (0, (array([-7.87769366,  5.54418566]), 1))]"
     ]
    }
   ],
   "source": [
    "# map each point p to the index of the closest cluster center.\n",
    "# index = closestPoint(p, kPoints)\n",
    "# (index, (p,1)) These are key-value pairs\n",
    "\n",
    "closest = data.map(lambda p: (closestPoint(p, kPoints), (p, 1)))\n",
    "closest.take(4)"
   ]
  },
  {
   "cell_type": "code",
   "execution_count": 43,
   "id": "0e47f897",
   "metadata": {},
   "outputs": [
    {
     "data": {
      "application/vnd.jupyter.widget-view+json": {
       "model_id": "",
       "version_major": 2,
       "version_minor": 0
      },
      "text/plain": [
       "FloatProgress(value=0.0, bar_style='info', description='Progress:', layout=Layout(height='25px', width='50%'),…"
      ]
     },
     "metadata": {},
     "output_type": "display_data"
    }
   ],
   "source": [
    "# group the above object by keys, and then sum the values. The values have two coordinates a=p, and b=1\n",
    "pointStats = closest.reduceByKey(lambda a, b: (a[0] + b[0], a[1] + b[1]))"
   ]
  },
  {
   "cell_type": "code",
   "execution_count": 44,
   "id": "f7bc3b21",
   "metadata": {},
   "outputs": [
    {
     "data": {
      "application/vnd.jupyter.widget-view+json": {
       "model_id": "",
       "version_major": 2,
       "version_minor": 0
      },
      "text/plain": [
       "FloatProgress(value=0.0, bar_style='info', description='Progress:', layout=Layout(height='25px', width='50%'),…"
      ]
     },
     "metadata": {},
     "output_type": "display_data"
    },
    {
     "name": "stdout",
     "output_type": "stream",
     "text": [
      "[(0, (array([-5073.84099409,  4141.42653934]), 806)), (1, (array([5098.95846374,  913.29069683]), 628)), (2, (array([-123.30563445,  661.16989056]), 166))]"
     ]
    }
   ],
   "source": [
    "# sum of points in each cluster, num of points in each cluster\n",
    "pointStats.collect()"
   ]
  },
  {
   "cell_type": "code",
   "execution_count": 45,
   "id": "f9fc10d8",
   "metadata": {},
   "outputs": [
    {
     "data": {
      "application/vnd.jupyter.widget-view+json": {
       "model_id": "",
       "version_major": 2,
       "version_minor": 0
      },
      "text/plain": [
       "FloatProgress(value=0.0, bar_style='info', description='Progress:', layout=Layout(height='25px', width='50%'),…"
      ]
     },
     "metadata": {},
     "output_type": "display_data"
    },
    {
     "name": "stdout",
     "output_type": "stream",
     "text": [
      "[(0, array([-6.29508808,  5.13824633])), (1, array([8.11936061, 1.45428455])), (2, array([-0.74280503,  3.98295115]))]"
     ]
    }
   ],
   "source": [
    "# calculate the new mean vectors\n",
    "# (index, new vector)\n",
    "newPoints = pointStats.map(lambda a: (a[0], a[1][0] / a[1][1])).collect()\n",
    "newPoints"
   ]
  },
  {
   "cell_type": "code",
   "execution_count": null,
   "id": "1776ffe3",
   "metadata": {},
   "outputs": [],
   "source": []
  },
  {
   "cell_type": "markdown",
   "id": "a61e6a25",
   "metadata": {},
   "source": [
    "## Put Everything in a Loop "
   ]
  },
  {
   "cell_type": "code",
   "execution_count": 46,
   "id": "0dce83ad",
   "metadata": {},
   "outputs": [
    {
     "data": {
      "application/vnd.jupyter.widget-view+json": {
       "model_id": "",
       "version_major": 2,
       "version_minor": 0
      },
      "text/plain": [
       "FloatProgress(value=0.0, bar_style='info', description='Progress:', layout=Layout(height='25px', width='50%'),…"
      ]
     },
     "metadata": {},
     "output_type": "display_data"
    },
    {
     "name": "stdout",
     "output_type": "stream",
     "text": [
      "Final centers: [array([-8.44680165,  5.50906448]), array([9.55109269, 0.78421667]), array([-1.27266133,  4.42037375])]"
     ]
    }
   ],
   "source": [
    "while tempDist > convergeDist:\n",
    "    closest = data.map(\n",
    "        lambda p: (closestPoint(p, kPoints), (p, 1)))\n",
    "    pointStats = closest.reduceByKey(\n",
    "        lambda p1_c1, p2_c2: (p1_c1[0] + p2_c2[0], p1_c1[1] + p2_c2[1]))\n",
    "    newPoints = pointStats.map(\n",
    "        lambda st: (st[0], st[1][0] / st[1][1])).collect()\n",
    "\n",
    "    tempDist = sum(np.sum((kPoints[iK] - p) ** 2) for (iK, p) in newPoints)\n",
    "\n",
    "    for (iK, p) in newPoints:\n",
    "        kPoints[iK] = p\n",
    "print(\"Final centers: \" + str(kPoints))"
   ]
  },
  {
   "cell_type": "code",
   "execution_count": 47,
   "id": "02bea6dd",
   "metadata": {},
   "outputs": [
    {
     "data": {
      "application/vnd.jupyter.widget-view+json": {
       "model_id": "",
       "version_major": 2,
       "version_minor": 0
      },
      "text/plain": [
       "FloatProgress(value=0.0, bar_style='info', description='Progress:', layout=Layout(height='25px', width='50%'),…"
      ]
     },
     "metadata": {},
     "output_type": "display_data"
    }
   ],
   "source": [
    "C=np.stack(kPoints)"
   ]
  },
  {
   "cell_type": "code",
   "execution_count": 48,
   "id": "8df72ff0",
   "metadata": {},
   "outputs": [
    {
     "data": {
      "application/vnd.jupyter.widget-view+json": {
       "model_id": "",
       "version_major": 2,
       "version_minor": 0
      },
      "text/plain": [
       "FloatProgress(value=0.0, bar_style='info', description='Progress:', layout=Layout(height='25px', width='50%'),…"
      ]
     },
     "metadata": {},
     "output_type": "display_data"
    },
    {
     "data": {
      "image/png": "[encoded data removed]",
      "text/plain": [
       "<IPython.core.display.Image object>"
      ]
     },
     "metadata": {},
     "output_type": "display_data"
    }
   ],
   "source": [
    "plt.rcParams['figure.figsize'] = (8, 5)\n",
    "fig = plt.figure()\n",
    "\n",
    "ax0 = fig.add_subplot(111)\n",
    "ax0.scatter([point[0] for point in Xs], [point[1] for point in Xs])\n",
    "ax0.set_title('Dataset')\n",
    "\n",
    "plt.scatter(np.array(C[:,0]), np.array(C[:,1]), marker='*', s=300, c='r')\n",
    "\n",
    "%matplot plt"
   ]
  },
  {
   "cell_type": "code",
   "execution_count": null,
   "id": "07086db1",
   "metadata": {},
   "outputs": [],
   "source": []
  }
 ],
 "metadata": {
  "kernelspec": {
   "display_name": "PySpark",
   "language": "python",
   "name": "pysparkkernel"
  },
  "language_info": {
   "codemirror_mode": {
    "name": "python",
    "version": 3
   },
   "file_extension": ".py",
   "mimetype": "text/x-python",
   "name": "pyspark",
   "pygments_lexer": "python3"
  }
 },
 "nbformat": 4,
 "nbformat_minor": 5
}
